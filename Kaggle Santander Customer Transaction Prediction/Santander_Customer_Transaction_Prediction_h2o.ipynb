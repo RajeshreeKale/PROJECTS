{
 "cells": [
  {
   "cell_type": "markdown",
   "metadata": {},
   "source": [
    "# Assignment 2\n",
    "\n",
    "## Kaggle Competition\n",
    "## Santander Customer Transaction Prediction\n",
    "At Santander our mission is to help people and businesses prosper. We are always looking for ways to help our customers understand their financial health and identify which products and services might help them achieve their monetary goals.\n",
    "Our data science team is continually challenging our machine learning algorithms, working with the global data science community to make sure we can more accurately identify new ways to solve our most common challenge, binary classification problems such as: is a customer satisfied? Will a customer buy this product? Can a customer pay this loan?\n",
    "In this challenge, we invite Kagglers to help us identify which customers will make a specific transaction in the future, irrespective of the amount of money transacted. The data provided for this competition has the same structure as the real data we have available to solve this problem.\n",
    "\n",
    "\n",
    "## Dataset\n",
    "Tha dataset is taken from https://www.kaggle.com/c/santander-customer-transaction-prediction/data\n",
    "File descriptions\n",
    "train.csv - the training set.\n",
    "test.csv - the test set.\n",
    "The test set contains some rows which are not included in scoring. sample_submission.csv - a sample submission file in the correct format.\n",
    "\n",
    "## Abstract\n",
    "At Santander our mission is to help people and help businesses prosper. We are always looking for ways to help our customers understand their financial health and identify which products and services might help them achieve their monetary goals.\n",
    "Our method is firstly to analyze the distribution of the dataset, the condition of balance in the dataset, average number and standard deviation of both rows and columns.\n",
    "Then we use the H2O AUTOML platform to generate the best models, and use the best model to predict the value in the test datset, and the rank is 1948 out of 3000 which was not a good score and then we started to train the model using LightGBM and predicted the target. The final step is tunning the hyperparameters of the model by adding more number of leaves, maxbin,reducing the learning rate and adding more parameters. We got even better outcome of 589 out of 3000 after tunning the hyperparameters and training the best model to predict the results."
   ]
  },
  {
   "cell_type": "code",
   "execution_count": 1,
   "metadata": {},
   "outputs": [],
   "source": [
    "import h2o\n",
    "from h2o.automl import H2OAutoML"
   ]
  },
  {
   "cell_type": "code",
   "execution_count": 2,
   "metadata": {},
   "outputs": [
    {
     "name": "stdout",
     "output_type": "stream",
     "text": [
      "Checking whether there is an H2O instance running at http://localhost:54321..... not found.\n",
      "Attempting to start a local H2O server...\n",
      "  Java Version: java version \"1.8.0_151\"; Java(TM) SE Runtime Environment (build 1.8.0_151-b12); Java HotSpot(TM) 64-Bit Server VM (build 25.151-b12, mixed mode)\n",
      "  Starting server from /anaconda3/lib/python3.6/site-packages/h2o/backend/bin/h2o.jar\n",
      "  Ice root: /var/folders/tk/pytwxv0d0lj15jmrx9f4jwl80000gn/T/tmpg2wakfx7\n",
      "  JVM stdout: /var/folders/tk/pytwxv0d0lj15jmrx9f4jwl80000gn/T/tmpg2wakfx7/h2o_haozhou_started_from_python.out\n",
      "  JVM stderr: /var/folders/tk/pytwxv0d0lj15jmrx9f4jwl80000gn/T/tmpg2wakfx7/h2o_haozhou_started_from_python.err\n",
      "  Server is running at http://127.0.0.1:54321\n",
      "Connecting to H2O server at http://127.0.0.1:54321... successful.\n",
      "Warning: Your H2O cluster version is too old (3 months and 29 days)! Please download and install the latest version from http://h2o.ai/download/\n"
     ]
    },
    {
     "data": {
      "text/html": [
       "<div style=\"overflow:auto\"><table style=\"width:50%\"><tr><td>H2O cluster uptime:</td>\n",
       "<td>01 secs</td></tr>\n",
       "<tr><td>H2O cluster timezone:</td>\n",
       "<td>America/New_York</td></tr>\n",
       "<tr><td>H2O data parsing timezone:</td>\n",
       "<td>UTC</td></tr>\n",
       "<tr><td>H2O cluster version:</td>\n",
       "<td>3.22.0.1</td></tr>\n",
       "<tr><td>H2O cluster version age:</td>\n",
       "<td>3 months and 29 days !!!</td></tr>\n",
       "<tr><td>H2O cluster name:</td>\n",
       "<td>H2O_from_python_haozhou_xem0o7</td></tr>\n",
       "<tr><td>H2O cluster total nodes:</td>\n",
       "<td>1</td></tr>\n",
       "<tr><td>H2O cluster free memory:</td>\n",
       "<td>3.556 Gb</td></tr>\n",
       "<tr><td>H2O cluster total cores:</td>\n",
       "<td>8</td></tr>\n",
       "<tr><td>H2O cluster allowed cores:</td>\n",
       "<td>8</td></tr>\n",
       "<tr><td>H2O cluster status:</td>\n",
       "<td>accepting new members, healthy</td></tr>\n",
       "<tr><td>H2O connection url:</td>\n",
       "<td>http://127.0.0.1:54321</td></tr>\n",
       "<tr><td>H2O connection proxy:</td>\n",
       "<td>None</td></tr>\n",
       "<tr><td>H2O internal security:</td>\n",
       "<td>False</td></tr>\n",
       "<tr><td>H2O API Extensions:</td>\n",
       "<td>XGBoost, Algos, AutoML, Core V3, Core V4</td></tr>\n",
       "<tr><td>Python version:</td>\n",
       "<td>3.6.8 final</td></tr></table></div>"
      ],
      "text/plain": [
       "--------------------------  ----------------------------------------\n",
       "H2O cluster uptime:         01 secs\n",
       "H2O cluster timezone:       America/New_York\n",
       "H2O data parsing timezone:  UTC\n",
       "H2O cluster version:        3.22.0.1\n",
       "H2O cluster version age:    3 months and 29 days !!!\n",
       "H2O cluster name:           H2O_from_python_haozhou_xem0o7\n",
       "H2O cluster total nodes:    1\n",
       "H2O cluster free memory:    3.556 Gb\n",
       "H2O cluster total cores:    8\n",
       "H2O cluster allowed cores:  8\n",
       "H2O cluster status:         accepting new members, healthy\n",
       "H2O connection url:         http://127.0.0.1:54321\n",
       "H2O connection proxy:\n",
       "H2O internal security:      False\n",
       "H2O API Extensions:         XGBoost, Algos, AutoML, Core V3, Core V4\n",
       "Python version:             3.6.8 final\n",
       "--------------------------  ----------------------------------------"
      ]
     },
     "metadata": {},
     "output_type": "display_data"
    }
   ],
   "source": [
    "h2o.init()"
   ]
  },
  {
   "cell_type": "markdown",
   "metadata": {},
   "source": [
    "## Readin Train data"
   ]
  },
  {
   "cell_type": "code",
   "execution_count": 3,
   "metadata": {},
   "outputs": [
    {
     "name": "stdout",
     "output_type": "stream",
     "text": [
      "Parse progress: |█████████████████████████████████████████████████████████| 100%\n"
     ]
    }
   ],
   "source": [
    "#import the dataset\n",
    "df_train = h2o.import_file(path = 'train.csv')"
   ]
  },
  {
   "cell_type": "markdown",
   "metadata": {},
   "source": [
    "Lets have a look at the dataset"
   ]
  },
  {
   "cell_type": "code",
   "execution_count": 4,
   "metadata": {},
   "outputs": [
    {
     "data": {
      "text/html": [
       "<table>\n",
       "<thead>\n",
       "<tr><th>ID_code  </th><th style=\"text-align: right;\">  target</th><th style=\"text-align: right;\">  var_0</th><th style=\"text-align: right;\">  var_1</th><th style=\"text-align: right;\">  var_2</th><th style=\"text-align: right;\">  var_3</th><th style=\"text-align: right;\">  var_4</th><th style=\"text-align: right;\">   var_5</th><th style=\"text-align: right;\">  var_6</th><th style=\"text-align: right;\">  var_7</th><th style=\"text-align: right;\">  var_8</th><th style=\"text-align: right;\">  var_9</th><th style=\"text-align: right;\">  var_10</th><th style=\"text-align: right;\">  var_11</th><th style=\"text-align: right;\">  var_12</th><th style=\"text-align: right;\">  var_13</th><th style=\"text-align: right;\">  var_14</th><th style=\"text-align: right;\">  var_15</th><th style=\"text-align: right;\">  var_16</th><th style=\"text-align: right;\">  var_17</th><th style=\"text-align: right;\">  var_18</th><th style=\"text-align: right;\">  var_19</th><th style=\"text-align: right;\">  var_20</th><th style=\"text-align: right;\">  var_21</th><th style=\"text-align: right;\">  var_22</th><th style=\"text-align: right;\">  var_23</th><th style=\"text-align: right;\">  var_24</th><th style=\"text-align: right;\">  var_25</th><th style=\"text-align: right;\">  var_26</th><th style=\"text-align: right;\">  var_27</th><th style=\"text-align: right;\">  var_28</th><th style=\"text-align: right;\">  var_29</th><th style=\"text-align: right;\">  var_30</th><th style=\"text-align: right;\">  var_31</th><th style=\"text-align: right;\">  var_32</th><th style=\"text-align: right;\">  var_33</th><th style=\"text-align: right;\">  var_34</th><th style=\"text-align: right;\">  var_35</th><th style=\"text-align: right;\">  var_36</th><th style=\"text-align: right;\">  var_37</th><th style=\"text-align: right;\">  var_38</th><th style=\"text-align: right;\">  var_39</th><th style=\"text-align: right;\">  var_40</th><th style=\"text-align: right;\">  var_41</th><th style=\"text-align: right;\">  var_42</th><th style=\"text-align: right;\">  var_43</th><th style=\"text-align: right;\">  var_44</th><th style=\"text-align: right;\">  var_45</th><th style=\"text-align: right;\">  var_46</th><th style=\"text-align: right;\">  var_47</th><th style=\"text-align: right;\">  var_48</th><th style=\"text-align: right;\">  var_49</th><th style=\"text-align: right;\">  var_50</th><th style=\"text-align: right;\">  var_51</th><th style=\"text-align: right;\">  var_52</th><th style=\"text-align: right;\">  var_53</th><th style=\"text-align: right;\">  var_54</th><th style=\"text-align: right;\">  var_55</th><th style=\"text-align: right;\">  var_56</th><th style=\"text-align: right;\">  var_57</th><th style=\"text-align: right;\">  var_58</th><th style=\"text-align: right;\">  var_59</th><th style=\"text-align: right;\">  var_60</th><th style=\"text-align: right;\">  var_61</th><th style=\"text-align: right;\">  var_62</th><th style=\"text-align: right;\">  var_63</th><th style=\"text-align: right;\">  var_64</th><th style=\"text-align: right;\">  var_65</th><th style=\"text-align: right;\">  var_66</th><th style=\"text-align: right;\">  var_67</th><th style=\"text-align: right;\">  var_68</th><th style=\"text-align: right;\">  var_69</th><th style=\"text-align: right;\">  var_70</th><th style=\"text-align: right;\">  var_71</th><th style=\"text-align: right;\">  var_72</th><th style=\"text-align: right;\">  var_73</th><th style=\"text-align: right;\">  var_74</th><th style=\"text-align: right;\">  var_75</th><th style=\"text-align: right;\">  var_76</th><th style=\"text-align: right;\">  var_77</th><th style=\"text-align: right;\">  var_78</th><th style=\"text-align: right;\">  var_79</th><th style=\"text-align: right;\">  var_80</th><th style=\"text-align: right;\">  var_81</th><th style=\"text-align: right;\">  var_82</th><th style=\"text-align: right;\">  var_83</th><th style=\"text-align: right;\">  var_84</th><th style=\"text-align: right;\">  var_85</th><th style=\"text-align: right;\">  var_86</th><th style=\"text-align: right;\">  var_87</th><th style=\"text-align: right;\">  var_88</th><th style=\"text-align: right;\">  var_89</th><th style=\"text-align: right;\">  var_90</th><th style=\"text-align: right;\">  var_91</th><th style=\"text-align: right;\">  var_92</th><th style=\"text-align: right;\">  var_93</th><th style=\"text-align: right;\">  var_94</th><th style=\"text-align: right;\">  var_95</th><th style=\"text-align: right;\">  var_96</th><th style=\"text-align: right;\">  var_97</th><th style=\"text-align: right;\">  var_98</th><th style=\"text-align: right;\">  var_99</th><th style=\"text-align: right;\">  var_100</th><th style=\"text-align: right;\">  var_101</th><th style=\"text-align: right;\">  var_102</th><th style=\"text-align: right;\">  var_103</th><th style=\"text-align: right;\">  var_104</th><th style=\"text-align: right;\">  var_105</th><th style=\"text-align: right;\">  var_106</th><th style=\"text-align: right;\">  var_107</th><th style=\"text-align: right;\">  var_108</th><th style=\"text-align: right;\">  var_109</th><th style=\"text-align: right;\">  var_110</th><th style=\"text-align: right;\">  var_111</th><th style=\"text-align: right;\">  var_112</th><th style=\"text-align: right;\">  var_113</th><th style=\"text-align: right;\">  var_114</th><th style=\"text-align: right;\">  var_115</th><th style=\"text-align: right;\">  var_116</th><th style=\"text-align: right;\">  var_117</th><th style=\"text-align: right;\">  var_118</th><th style=\"text-align: right;\">  var_119</th><th style=\"text-align: right;\">  var_120</th><th style=\"text-align: right;\">  var_121</th><th style=\"text-align: right;\">  var_122</th><th style=\"text-align: right;\">  var_123</th><th style=\"text-align: right;\">  var_124</th><th style=\"text-align: right;\">  var_125</th><th style=\"text-align: right;\">  var_126</th><th style=\"text-align: right;\">  var_127</th><th style=\"text-align: right;\">  var_128</th><th style=\"text-align: right;\">  var_129</th><th style=\"text-align: right;\">  var_130</th><th style=\"text-align: right;\">  var_131</th><th style=\"text-align: right;\">  var_132</th><th style=\"text-align: right;\">  var_133</th><th style=\"text-align: right;\">  var_134</th><th style=\"text-align: right;\">  var_135</th><th style=\"text-align: right;\">  var_136</th><th style=\"text-align: right;\">  var_137</th><th style=\"text-align: right;\">  var_138</th><th style=\"text-align: right;\">  var_139</th><th style=\"text-align: right;\">  var_140</th><th style=\"text-align: right;\">  var_141</th><th style=\"text-align: right;\">  var_142</th><th style=\"text-align: right;\">  var_143</th><th style=\"text-align: right;\">  var_144</th><th style=\"text-align: right;\">  var_145</th><th style=\"text-align: right;\">  var_146</th><th style=\"text-align: right;\">  var_147</th><th style=\"text-align: right;\">  var_148</th><th style=\"text-align: right;\">  var_149</th><th style=\"text-align: right;\">  var_150</th><th style=\"text-align: right;\">  var_151</th><th style=\"text-align: right;\">  var_152</th><th style=\"text-align: right;\">  var_153</th><th style=\"text-align: right;\">  var_154</th><th style=\"text-align: right;\">  var_155</th><th style=\"text-align: right;\">  var_156</th><th style=\"text-align: right;\">  var_157</th><th style=\"text-align: right;\">  var_158</th><th style=\"text-align: right;\">  var_159</th><th style=\"text-align: right;\">  var_160</th><th style=\"text-align: right;\">  var_161</th><th style=\"text-align: right;\">  var_162</th><th style=\"text-align: right;\">  var_163</th><th style=\"text-align: right;\">  var_164</th><th style=\"text-align: right;\">  var_165</th><th style=\"text-align: right;\">  var_166</th><th style=\"text-align: right;\">  var_167</th><th style=\"text-align: right;\">  var_168</th><th style=\"text-align: right;\">  var_169</th><th style=\"text-align: right;\">  var_170</th><th style=\"text-align: right;\">  var_171</th><th style=\"text-align: right;\">  var_172</th><th style=\"text-align: right;\">  var_173</th><th style=\"text-align: right;\">  var_174</th><th style=\"text-align: right;\">  var_175</th><th style=\"text-align: right;\">  var_176</th><th style=\"text-align: right;\">  var_177</th><th style=\"text-align: right;\">  var_178</th><th style=\"text-align: right;\">  var_179</th><th style=\"text-align: right;\">  var_180</th><th style=\"text-align: right;\">  var_181</th><th style=\"text-align: right;\">  var_182</th><th style=\"text-align: right;\">  var_183</th><th style=\"text-align: right;\">  var_184</th><th style=\"text-align: right;\">  var_185</th><th style=\"text-align: right;\">  var_186</th><th style=\"text-align: right;\">  var_187</th><th style=\"text-align: right;\">  var_188</th><th style=\"text-align: right;\">  var_189</th><th style=\"text-align: right;\">  var_190</th><th style=\"text-align: right;\">  var_191</th><th style=\"text-align: right;\">  var_192</th><th style=\"text-align: right;\">  var_193</th><th style=\"text-align: right;\">  var_194</th><th style=\"text-align: right;\">  var_195</th><th style=\"text-align: right;\">  var_196</th><th style=\"text-align: right;\">  var_197</th></tr>\n",
       "</thead>\n",
       "<tbody>\n",
       "<tr><td>train_0  </td><td style=\"text-align: right;\">       0</td><td style=\"text-align: right;\"> 8.9255</td><td style=\"text-align: right;\">-6.7863</td><td style=\"text-align: right;\">11.9081</td><td style=\"text-align: right;\"> 5.093 </td><td style=\"text-align: right;\">11.4607</td><td style=\"text-align: right;\"> -9.2834</td><td style=\"text-align: right;\"> 5.1187</td><td style=\"text-align: right;\">18.6266</td><td style=\"text-align: right;\">-4.92  </td><td style=\"text-align: right;\"> 5.747 </td><td style=\"text-align: right;\">  2.9252</td><td style=\"text-align: right;\">  3.1821</td><td style=\"text-align: right;\"> 14.0137</td><td style=\"text-align: right;\">  0.5745</td><td style=\"text-align: right;\">  8.7989</td><td style=\"text-align: right;\"> 14.5691</td><td style=\"text-align: right;\">  5.7487</td><td style=\"text-align: right;\"> -7.2393</td><td style=\"text-align: right;\">  4.284 </td><td style=\"text-align: right;\"> 30.7133</td><td style=\"text-align: right;\"> 10.535 </td><td style=\"text-align: right;\"> 16.2191</td><td style=\"text-align: right;\">  2.5791</td><td style=\"text-align: right;\">  2.4716</td><td style=\"text-align: right;\"> 14.3831</td><td style=\"text-align: right;\"> 13.4325</td><td style=\"text-align: right;\"> -5.1488</td><td style=\"text-align: right;\"> -0.4073</td><td style=\"text-align: right;\">  4.9306</td><td style=\"text-align: right;\">  5.9965</td><td style=\"text-align: right;\"> -0.3085</td><td style=\"text-align: right;\"> 12.9041</td><td style=\"text-align: right;\"> -3.8766</td><td style=\"text-align: right;\"> 16.8911</td><td style=\"text-align: right;\"> 11.192 </td><td style=\"text-align: right;\"> 10.5785</td><td style=\"text-align: right;\">  0.6764</td><td style=\"text-align: right;\">  7.8871</td><td style=\"text-align: right;\">  4.6667</td><td style=\"text-align: right;\">  3.8743</td><td style=\"text-align: right;\"> -5.2387</td><td style=\"text-align: right;\">  7.3746</td><td style=\"text-align: right;\"> 11.5767</td><td style=\"text-align: right;\"> 12.0446</td><td style=\"text-align: right;\"> 11.6418</td><td style=\"text-align: right;\"> -7.017 </td><td style=\"text-align: right;\">  5.9226</td><td style=\"text-align: right;\">-14.2136</td><td style=\"text-align: right;\"> 16.0283</td><td style=\"text-align: right;\">  5.3253</td><td style=\"text-align: right;\"> 12.9194</td><td style=\"text-align: right;\"> 29.046 </td><td style=\"text-align: right;\"> -0.694 </td><td style=\"text-align: right;\">  5.1736</td><td style=\"text-align: right;\"> -0.7474</td><td style=\"text-align: right;\"> 14.8322</td><td style=\"text-align: right;\"> 11.2668</td><td style=\"text-align: right;\">  5.3822</td><td style=\"text-align: right;\">  2.0183</td><td style=\"text-align: right;\"> 10.1166</td><td style=\"text-align: right;\"> 16.1828</td><td style=\"text-align: right;\">  4.959 </td><td style=\"text-align: right;\">  2.0771</td><td style=\"text-align: right;\"> -0.2154</td><td style=\"text-align: right;\">  8.6748</td><td style=\"text-align: right;\">  9.5319</td><td style=\"text-align: right;\">  5.8056</td><td style=\"text-align: right;\"> 22.4321</td><td style=\"text-align: right;\">  5.0109</td><td style=\"text-align: right;\"> -4.701 </td><td style=\"text-align: right;\"> 21.6374</td><td style=\"text-align: right;\">  0.5663</td><td style=\"text-align: right;\">  5.1999</td><td style=\"text-align: right;\">  8.86  </td><td style=\"text-align: right;\"> 43.1127</td><td style=\"text-align: right;\"> 18.3816</td><td style=\"text-align: right;\"> -2.344 </td><td style=\"text-align: right;\"> 23.4104</td><td style=\"text-align: right;\">  6.5199</td><td style=\"text-align: right;\"> 12.1983</td><td style=\"text-align: right;\"> 13.6468</td><td style=\"text-align: right;\"> 13.8372</td><td style=\"text-align: right;\">  1.3675</td><td style=\"text-align: right;\">  2.9423</td><td style=\"text-align: right;\"> -4.5213</td><td style=\"text-align: right;\"> 21.4669</td><td style=\"text-align: right;\">  9.3225</td><td style=\"text-align: right;\"> 16.4597</td><td style=\"text-align: right;\">  7.9984</td><td style=\"text-align: right;\"> -1.7069</td><td style=\"text-align: right;\">-21.4494</td><td style=\"text-align: right;\">  6.7806</td><td style=\"text-align: right;\"> 11.0924</td><td style=\"text-align: right;\">  9.9913</td><td style=\"text-align: right;\"> 14.8421</td><td style=\"text-align: right;\">  0.1812</td><td style=\"text-align: right;\">  8.9642</td><td style=\"text-align: right;\"> 16.2572</td><td style=\"text-align: right;\">  2.1743</td><td style=\"text-align: right;\"> -3.4132</td><td style=\"text-align: right;\">   9.4763</td><td style=\"text-align: right;\">  13.3102</td><td style=\"text-align: right;\">  26.5376</td><td style=\"text-align: right;\">   1.4403</td><td style=\"text-align: right;\">  14.71  </td><td style=\"text-align: right;\">   6.0454</td><td style=\"text-align: right;\">   9.5426</td><td style=\"text-align: right;\">  17.1554</td><td style=\"text-align: right;\">  14.1104</td><td style=\"text-align: right;\">  24.3627</td><td style=\"text-align: right;\">   2.0323</td><td style=\"text-align: right;\">   6.7602</td><td style=\"text-align: right;\">   3.9141</td><td style=\"text-align: right;\">  -0.4851</td><td style=\"text-align: right;\">   2.524 </td><td style=\"text-align: right;\">   1.5093</td><td style=\"text-align: right;\">   2.5516</td><td style=\"text-align: right;\">  15.5752</td><td style=\"text-align: right;\"> -13.4221</td><td style=\"text-align: right;\">   7.2739</td><td style=\"text-align: right;\">  16.0094</td><td style=\"text-align: right;\">   9.7268</td><td style=\"text-align: right;\">   0.8897</td><td style=\"text-align: right;\">   0.7754</td><td style=\"text-align: right;\">   4.2218</td><td style=\"text-align: right;\">  12.0039</td><td style=\"text-align: right;\">  13.8571</td><td style=\"text-align: right;\">  -0.7338</td><td style=\"text-align: right;\">  -1.9245</td><td style=\"text-align: right;\">  15.4462</td><td style=\"text-align: right;\">  12.8287</td><td style=\"text-align: right;\">   0.3587</td><td style=\"text-align: right;\">   9.6508</td><td style=\"text-align: right;\">   6.5674</td><td style=\"text-align: right;\">   5.1726</td><td style=\"text-align: right;\">   3.1345</td><td style=\"text-align: right;\">  29.4547</td><td style=\"text-align: right;\">  31.4045</td><td style=\"text-align: right;\">   2.8279</td><td style=\"text-align: right;\">  15.6599</td><td style=\"text-align: right;\">   8.3307</td><td style=\"text-align: right;\">  -5.6011</td><td style=\"text-align: right;\">  19.0614</td><td style=\"text-align: right;\">  11.2663</td><td style=\"text-align: right;\">   8.6989</td><td style=\"text-align: right;\">   8.3694</td><td style=\"text-align: right;\">  11.5659</td><td style=\"text-align: right;\"> -16.4727</td><td style=\"text-align: right;\">   4.0288</td><td style=\"text-align: right;\">  17.9244</td><td style=\"text-align: right;\">  18.5177</td><td style=\"text-align: right;\">  10.78  </td><td style=\"text-align: right;\">   9.0056</td><td style=\"text-align: right;\">  16.6964</td><td style=\"text-align: right;\">  10.4838</td><td style=\"text-align: right;\">   1.6573</td><td style=\"text-align: right;\">  12.1749</td><td style=\"text-align: right;\"> -13.1324</td><td style=\"text-align: right;\">  17.6054</td><td style=\"text-align: right;\">  11.5423</td><td style=\"text-align: right;\">  15.4576</td><td style=\"text-align: right;\">   5.3133</td><td style=\"text-align: right;\">   3.6159</td><td style=\"text-align: right;\">   5.0384</td><td style=\"text-align: right;\">   6.676 </td><td style=\"text-align: right;\">  12.6644</td><td style=\"text-align: right;\">   2.7004</td><td style=\"text-align: right;\">  -0.6975</td><td style=\"text-align: right;\">   9.5981</td><td style=\"text-align: right;\">   5.4879</td><td style=\"text-align: right;\">  -4.7645</td><td style=\"text-align: right;\">  -8.4254</td><td style=\"text-align: right;\">  20.8773</td><td style=\"text-align: right;\">   3.1531</td><td style=\"text-align: right;\">  18.5618</td><td style=\"text-align: right;\">   7.7423</td><td style=\"text-align: right;\"> -10.1245</td><td style=\"text-align: right;\">  13.7241</td><td style=\"text-align: right;\">  -3.5189</td><td style=\"text-align: right;\">   1.7202</td><td style=\"text-align: right;\">  -8.4051</td><td style=\"text-align: right;\">   9.0164</td><td style=\"text-align: right;\">   3.0657</td><td style=\"text-align: right;\">  14.3691</td><td style=\"text-align: right;\">  25.8398</td><td style=\"text-align: right;\">   5.8764</td><td style=\"text-align: right;\">  11.8411</td><td style=\"text-align: right;\"> -19.7159</td><td style=\"text-align: right;\">  17.5743</td><td style=\"text-align: right;\">   0.5857</td><td style=\"text-align: right;\">   4.4354</td><td style=\"text-align: right;\">   3.9642</td><td style=\"text-align: right;\">   3.1364</td><td style=\"text-align: right;\">   1.691 </td><td style=\"text-align: right;\">  18.5227</td><td style=\"text-align: right;\">  -2.3978</td><td style=\"text-align: right;\">   7.8784</td><td style=\"text-align: right;\">   8.5635</td></tr>\n",
       "<tr><td>train_1  </td><td style=\"text-align: right;\">       0</td><td style=\"text-align: right;\">11.5006</td><td style=\"text-align: right;\">-4.1473</td><td style=\"text-align: right;\">13.8588</td><td style=\"text-align: right;\"> 5.389 </td><td style=\"text-align: right;\">12.3622</td><td style=\"text-align: right;\">  7.0433</td><td style=\"text-align: right;\"> 5.6208</td><td style=\"text-align: right;\">16.5338</td><td style=\"text-align: right;\"> 3.1468</td><td style=\"text-align: right;\"> 8.0851</td><td style=\"text-align: right;\"> -0.4032</td><td style=\"text-align: right;\">  8.0585</td><td style=\"text-align: right;\"> 14.0239</td><td style=\"text-align: right;\">  8.4135</td><td style=\"text-align: right;\">  5.4345</td><td style=\"text-align: right;\"> 13.7003</td><td style=\"text-align: right;\"> 13.8275</td><td style=\"text-align: right;\">-15.5849</td><td style=\"text-align: right;\">  7.8   </td><td style=\"text-align: right;\"> 28.5708</td><td style=\"text-align: right;\">  3.4287</td><td style=\"text-align: right;\">  2.7407</td><td style=\"text-align: right;\">  8.5524</td><td style=\"text-align: right;\">  3.3716</td><td style=\"text-align: right;\">  6.9779</td><td style=\"text-align: right;\"> 13.891 </td><td style=\"text-align: right;\">-11.7684</td><td style=\"text-align: right;\"> -2.5586</td><td style=\"text-align: right;\">  5.0464</td><td style=\"text-align: right;\">  0.5481</td><td style=\"text-align: right;\"> -9.2987</td><td style=\"text-align: right;\">  7.8755</td><td style=\"text-align: right;\">  1.2859</td><td style=\"text-align: right;\"> 19.371 </td><td style=\"text-align: right;\"> 11.3702</td><td style=\"text-align: right;\">  0.7399</td><td style=\"text-align: right;\">  2.7995</td><td style=\"text-align: right;\">  5.8434</td><td style=\"text-align: right;\"> 10.816 </td><td style=\"text-align: right;\">  3.6783</td><td style=\"text-align: right;\">-11.1147</td><td style=\"text-align: right;\">  1.873 </td><td style=\"text-align: right;\">  9.8775</td><td style=\"text-align: right;\"> 11.7842</td><td style=\"text-align: right;\">  1.2444</td><td style=\"text-align: right;\">-47.3797</td><td style=\"text-align: right;\">  7.3718</td><td style=\"text-align: right;\">  0.1948</td><td style=\"text-align: right;\"> 34.4014</td><td style=\"text-align: right;\"> 25.7037</td><td style=\"text-align: right;\"> 11.8343</td><td style=\"text-align: right;\"> 13.2256</td><td style=\"text-align: right;\"> -4.1083</td><td style=\"text-align: right;\">  6.6885</td><td style=\"text-align: right;\"> -8.0946</td><td style=\"text-align: right;\"> 18.5995</td><td style=\"text-align: right;\"> 19.3219</td><td style=\"text-align: right;\">  7.0118</td><td style=\"text-align: right;\">  1.921 </td><td style=\"text-align: right;\">  8.8682</td><td style=\"text-align: right;\">  8.0109</td><td style=\"text-align: right;\"> -7.2417</td><td style=\"text-align: right;\">  1.7944</td><td style=\"text-align: right;\"> -1.3147</td><td style=\"text-align: right;\">  8.1042</td><td style=\"text-align: right;\">  1.5365</td><td style=\"text-align: right;\">  5.4007</td><td style=\"text-align: right;\">  7.9344</td><td style=\"text-align: right;\">  5.022 </td><td style=\"text-align: right;\">  2.2302</td><td style=\"text-align: right;\"> 40.5632</td><td style=\"text-align: right;\">  0.5134</td><td style=\"text-align: right;\">  3.1701</td><td style=\"text-align: right;\"> 20.1068</td><td style=\"text-align: right;\">  7.7841</td><td style=\"text-align: right;\">  7.0529</td><td style=\"text-align: right;\">  3.2709</td><td style=\"text-align: right;\"> 23.4822</td><td style=\"text-align: right;\">  5.5075</td><td style=\"text-align: right;\"> 13.7814</td><td style=\"text-align: right;\">  2.5462</td><td style=\"text-align: right;\"> 18.1782</td><td style=\"text-align: right;\">  0.3683</td><td style=\"text-align: right;\"> -4.821 </td><td style=\"text-align: right;\"> -5.485 </td><td style=\"text-align: right;\"> 13.7867</td><td style=\"text-align: right;\">-13.5901</td><td style=\"text-align: right;\"> 11.0993</td><td style=\"text-align: right;\">  7.9022</td><td style=\"text-align: right;\"> 12.2301</td><td style=\"text-align: right;\">  0.4768</td><td style=\"text-align: right;\">  6.8852</td><td style=\"text-align: right;\">  8.0905</td><td style=\"text-align: right;\"> 10.9631</td><td style=\"text-align: right;\"> 11.7569</td><td style=\"text-align: right;\"> -1.2722</td><td style=\"text-align: right;\"> 24.7876</td><td style=\"text-align: right;\"> 26.6881</td><td style=\"text-align: right;\">  1.8944</td><td style=\"text-align: right;\">  0.6939</td><td style=\"text-align: right;\"> -13.695 </td><td style=\"text-align: right;\">   8.4068</td><td style=\"text-align: right;\">  35.4734</td><td style=\"text-align: right;\">   1.7093</td><td style=\"text-align: right;\">  15.1866</td><td style=\"text-align: right;\">   2.6227</td><td style=\"text-align: right;\">   7.3412</td><td style=\"text-align: right;\">  32.0888</td><td style=\"text-align: right;\">  13.955 </td><td style=\"text-align: right;\">  13.0858</td><td style=\"text-align: right;\">   6.6203</td><td style=\"text-align: right;\">   7.1051</td><td style=\"text-align: right;\">   5.3523</td><td style=\"text-align: right;\">   8.5426</td><td style=\"text-align: right;\">   3.6159</td><td style=\"text-align: right;\">   4.1569</td><td style=\"text-align: right;\">   3.0454</td><td style=\"text-align: right;\">   7.8522</td><td style=\"text-align: right;\"> -11.51  </td><td style=\"text-align: right;\">   7.5109</td><td style=\"text-align: right;\">  31.5899</td><td style=\"text-align: right;\">   9.5018</td><td style=\"text-align: right;\">   8.2736</td><td style=\"text-align: right;\">  10.1633</td><td style=\"text-align: right;\">   0.1225</td><td style=\"text-align: right;\">  12.5942</td><td style=\"text-align: right;\">  14.5697</td><td style=\"text-align: right;\">   2.4354</td><td style=\"text-align: right;\">   0.8194</td><td style=\"text-align: right;\">  16.5346</td><td style=\"text-align: right;\">  12.4205</td><td style=\"text-align: right;\">  -0.178 </td><td style=\"text-align: right;\">   5.7582</td><td style=\"text-align: right;\">   7.0513</td><td style=\"text-align: right;\">   1.9568</td><td style=\"text-align: right;\">  -8.9921</td><td style=\"text-align: right;\">   9.7797</td><td style=\"text-align: right;\">  18.1577</td><td style=\"text-align: right;\">  -1.9721</td><td style=\"text-align: right;\">  16.1622</td><td style=\"text-align: right;\">   3.6937</td><td style=\"text-align: right;\">   6.6803</td><td style=\"text-align: right;\">  -0.3243</td><td style=\"text-align: right;\">  12.2806</td><td style=\"text-align: right;\">   8.6086</td><td style=\"text-align: right;\">  11.0738</td><td style=\"text-align: right;\">   8.9231</td><td style=\"text-align: right;\">  11.77  </td><td style=\"text-align: right;\">   4.2578</td><td style=\"text-align: right;\">  -4.4223</td><td style=\"text-align: right;\">  20.6294</td><td style=\"text-align: right;\">  14.8743</td><td style=\"text-align: right;\">   9.4317</td><td style=\"text-align: right;\">  16.7242</td><td style=\"text-align: right;\">  -0.5687</td><td style=\"text-align: right;\">   0.1898</td><td style=\"text-align: right;\">  12.2419</td><td style=\"text-align: right;\">  -9.6953</td><td style=\"text-align: right;\">  22.3949</td><td style=\"text-align: right;\">  10.6261</td><td style=\"text-align: right;\">  29.4846</td><td style=\"text-align: right;\">   5.8683</td><td style=\"text-align: right;\">   3.8208</td><td style=\"text-align: right;\">  15.8348</td><td style=\"text-align: right;\">  -5.0121</td><td style=\"text-align: right;\">  15.1345</td><td style=\"text-align: right;\">   3.2003</td><td style=\"text-align: right;\">   9.3192</td><td style=\"text-align: right;\">   3.8821</td><td style=\"text-align: right;\">   5.7999</td><td style=\"text-align: right;\">   5.5378</td><td style=\"text-align: right;\">   5.0988</td><td style=\"text-align: right;\">  22.033 </td><td style=\"text-align: right;\">   5.5134</td><td style=\"text-align: right;\">  30.2645</td><td style=\"text-align: right;\">  10.4968</td><td style=\"text-align: right;\">  -7.2352</td><td style=\"text-align: right;\">  16.5721</td><td style=\"text-align: right;\">  -7.3477</td><td style=\"text-align: right;\">  11.0752</td><td style=\"text-align: right;\">  -5.5937</td><td style=\"text-align: right;\">   9.4878</td><td style=\"text-align: right;\"> -14.91  </td><td style=\"text-align: right;\">   9.4245</td><td style=\"text-align: right;\">  22.5441</td><td style=\"text-align: right;\">  -4.8622</td><td style=\"text-align: right;\">   7.6543</td><td style=\"text-align: right;\"> -15.9319</td><td style=\"text-align: right;\">  13.3175</td><td style=\"text-align: right;\">  -0.3566</td><td style=\"text-align: right;\">   7.6421</td><td style=\"text-align: right;\">   7.7214</td><td style=\"text-align: right;\">   2.5837</td><td style=\"text-align: right;\">  10.9516</td><td style=\"text-align: right;\">  15.4305</td><td style=\"text-align: right;\">   2.0339</td><td style=\"text-align: right;\">   8.1267</td><td style=\"text-align: right;\">   8.7889</td></tr>\n",
       "<tr><td>train_2  </td><td style=\"text-align: right;\">       0</td><td style=\"text-align: right;\"> 8.6093</td><td style=\"text-align: right;\">-2.7457</td><td style=\"text-align: right;\">12.0805</td><td style=\"text-align: right;\"> 7.8928</td><td style=\"text-align: right;\">10.5825</td><td style=\"text-align: right;\"> -9.0837</td><td style=\"text-align: right;\"> 6.9427</td><td style=\"text-align: right;\">14.6155</td><td style=\"text-align: right;\">-4.9193</td><td style=\"text-align: right;\"> 5.9525</td><td style=\"text-align: right;\"> -0.3249</td><td style=\"text-align: right;\">-11.2648</td><td style=\"text-align: right;\"> 14.1929</td><td style=\"text-align: right;\">  7.3124</td><td style=\"text-align: right;\">  7.5244</td><td style=\"text-align: right;\"> 14.6472</td><td style=\"text-align: right;\">  7.6782</td><td style=\"text-align: right;\"> -1.7395</td><td style=\"text-align: right;\">  4.7011</td><td style=\"text-align: right;\"> 20.4775</td><td style=\"text-align: right;\"> 17.7559</td><td style=\"text-align: right;\"> 18.1377</td><td style=\"text-align: right;\">  1.2145</td><td style=\"text-align: right;\">  3.5137</td><td style=\"text-align: right;\">  5.6777</td><td style=\"text-align: right;\"> 13.2177</td><td style=\"text-align: right;\"> -7.994 </td><td style=\"text-align: right;\"> -2.9029</td><td style=\"text-align: right;\">  5.8463</td><td style=\"text-align: right;\">  6.1439</td><td style=\"text-align: right;\">-11.1025</td><td style=\"text-align: right;\"> 12.4858</td><td style=\"text-align: right;\"> -2.2871</td><td style=\"text-align: right;\"> 19.0422</td><td style=\"text-align: right;\"> 11.0449</td><td style=\"text-align: right;\">  4.1087</td><td style=\"text-align: right;\">  4.6974</td><td style=\"text-align: right;\">  6.9346</td><td style=\"text-align: right;\"> 10.8917</td><td style=\"text-align: right;\">  0.9003</td><td style=\"text-align: right;\">-13.5174</td><td style=\"text-align: right;\">  2.2439</td><td style=\"text-align: right;\"> 11.5283</td><td style=\"text-align: right;\"> 12.0406</td><td style=\"text-align: right;\">  4.1006</td><td style=\"text-align: right;\"> -7.9078</td><td style=\"text-align: right;\"> 11.1405</td><td style=\"text-align: right;\"> -5.7864</td><td style=\"text-align: right;\"> 20.7477</td><td style=\"text-align: right;\">  6.8874</td><td style=\"text-align: right;\"> 12.9143</td><td style=\"text-align: right;\"> 19.5856</td><td style=\"text-align: right;\">  0.7268</td><td style=\"text-align: right;\">  6.4059</td><td style=\"text-align: right;\">  9.3124</td><td style=\"text-align: right;\">  6.2846</td><td style=\"text-align: right;\"> 15.6372</td><td style=\"text-align: right;\">  5.82  </td><td style=\"text-align: right;\">  1.1   </td><td style=\"text-align: right;\">  9.1854</td><td style=\"text-align: right;\"> 12.5963</td><td style=\"text-align: right;\">-10.3734</td><td style=\"text-align: right;\">  0.8748</td><td style=\"text-align: right;\">  5.8042</td><td style=\"text-align: right;\">  3.7163</td><td style=\"text-align: right;\"> -1.1016</td><td style=\"text-align: right;\">  7.3667</td><td style=\"text-align: right;\">  9.8565</td><td style=\"text-align: right;\">  5.0228</td><td style=\"text-align: right;\"> -5.7828</td><td style=\"text-align: right;\">  2.3612</td><td style=\"text-align: right;\">  0.852 </td><td style=\"text-align: right;\">  6.3577</td><td style=\"text-align: right;\"> 12.1719</td><td style=\"text-align: right;\"> 19.7312</td><td style=\"text-align: right;\"> 19.4465</td><td style=\"text-align: right;\">  4.5048</td><td style=\"text-align: right;\"> 23.2378</td><td style=\"text-align: right;\">  6.3191</td><td style=\"text-align: right;\"> 12.8046</td><td style=\"text-align: right;\">  7.4729</td><td style=\"text-align: right;\"> 15.7811</td><td style=\"text-align: right;\"> 13.3529</td><td style=\"text-align: right;\"> 10.1852</td><td style=\"text-align: right;\">  5.4604</td><td style=\"text-align: right;\"> 19.0773</td><td style=\"text-align: right;\"> -4.4577</td><td style=\"text-align: right;\">  9.5413</td><td style=\"text-align: right;\"> 11.9052</td><td style=\"text-align: right;\">  2.1447</td><td style=\"text-align: right;\">-22.4038</td><td style=\"text-align: right;\">  7.0883</td><td style=\"text-align: right;\"> 14.1613</td><td style=\"text-align: right;\"> 10.508 </td><td style=\"text-align: right;\"> 14.2621</td><td style=\"text-align: right;\">  0.2647</td><td style=\"text-align: right;\"> 20.4031</td><td style=\"text-align: right;\"> 17.036 </td><td style=\"text-align: right;\">  1.6981</td><td style=\"text-align: right;\"> -0.0269</td><td style=\"text-align: right;\">  -0.3939</td><td style=\"text-align: right;\">  12.6317</td><td style=\"text-align: right;\">  14.8863</td><td style=\"text-align: right;\">   1.3854</td><td style=\"text-align: right;\">  15.0284</td><td style=\"text-align: right;\">   3.9995</td><td style=\"text-align: right;\">   5.3683</td><td style=\"text-align: right;\">   8.6273</td><td style=\"text-align: right;\">  14.1963</td><td style=\"text-align: right;\">  20.3882</td><td style=\"text-align: right;\">   3.2304</td><td style=\"text-align: right;\">   5.7033</td><td style=\"text-align: right;\">   4.5255</td><td style=\"text-align: right;\">   2.1929</td><td style=\"text-align: right;\">   3.129 </td><td style=\"text-align: right;\">   2.9044</td><td style=\"text-align: right;\">   1.1696</td><td style=\"text-align: right;\">  28.7632</td><td style=\"text-align: right;\"> -17.2738</td><td style=\"text-align: right;\">   2.1056</td><td style=\"text-align: right;\">  21.1613</td><td style=\"text-align: right;\">   8.9573</td><td style=\"text-align: right;\">   2.7768</td><td style=\"text-align: right;\">  -2.1746</td><td style=\"text-align: right;\">   3.6932</td><td style=\"text-align: right;\">  12.4653</td><td style=\"text-align: right;\">  14.1978</td><td style=\"text-align: right;\">  -2.5511</td><td style=\"text-align: right;\">  -0.9479</td><td style=\"text-align: right;\">  17.1092</td><td style=\"text-align: right;\">  11.5419</td><td style=\"text-align: right;\">   0.0975</td><td style=\"text-align: right;\">   8.8186</td><td style=\"text-align: right;\">   6.6231</td><td style=\"text-align: right;\">   3.9358</td><td style=\"text-align: right;\"> -11.7218</td><td style=\"text-align: right;\">  24.5437</td><td style=\"text-align: right;\">  15.5827</td><td style=\"text-align: right;\">   3.8212</td><td style=\"text-align: right;\">   8.6674</td><td style=\"text-align: right;\">   7.3834</td><td style=\"text-align: right;\">  -2.4438</td><td style=\"text-align: right;\">  10.2158</td><td style=\"text-align: right;\">   7.4844</td><td style=\"text-align: right;\">   9.1104</td><td style=\"text-align: right;\">   4.3649</td><td style=\"text-align: right;\">  11.4934</td><td style=\"text-align: right;\">   1.7624</td><td style=\"text-align: right;\">   4.0714</td><td style=\"text-align: right;\">  -1.2681</td><td style=\"text-align: right;\">  14.333 </td><td style=\"text-align: right;\">   8.0088</td><td style=\"text-align: right;\">   4.4015</td><td style=\"text-align: right;\">  14.1479</td><td style=\"text-align: right;\">  -5.1747</td><td style=\"text-align: right;\">   0.5778</td><td style=\"text-align: right;\">  14.5362</td><td style=\"text-align: right;\">  -1.7624</td><td style=\"text-align: right;\">  33.882 </td><td style=\"text-align: right;\">  11.6041</td><td style=\"text-align: right;\">  13.207 </td><td style=\"text-align: right;\">   5.8442</td><td style=\"text-align: right;\">   4.7086</td><td style=\"text-align: right;\">   5.7141</td><td style=\"text-align: right;\">  -1.041 </td><td style=\"text-align: right;\">  20.5092</td><td style=\"text-align: right;\">   3.279 </td><td style=\"text-align: right;\">  -5.5952</td><td style=\"text-align: right;\">   7.3176</td><td style=\"text-align: right;\">   5.769 </td><td style=\"text-align: right;\">  -7.0927</td><td style=\"text-align: right;\">  -3.9116</td><td style=\"text-align: right;\">   7.2569</td><td style=\"text-align: right;\">  -5.8234</td><td style=\"text-align: right;\">  25.682 </td><td style=\"text-align: right;\">  10.9202</td><td style=\"text-align: right;\">  -0.3104</td><td style=\"text-align: right;\">   8.8438</td><td style=\"text-align: right;\">  -9.7009</td><td style=\"text-align: right;\">   2.4013</td><td style=\"text-align: right;\">  -4.2935</td><td style=\"text-align: right;\">   9.3908</td><td style=\"text-align: right;\"> -13.2648</td><td style=\"text-align: right;\">   3.1545</td><td style=\"text-align: right;\">  23.0866</td><td style=\"text-align: right;\">  -5.3   </td><td style=\"text-align: right;\">   5.3745</td><td style=\"text-align: right;\">  -6.266 </td><td style=\"text-align: right;\">  10.1934</td><td style=\"text-align: right;\">  -0.8417</td><td style=\"text-align: right;\">   2.9057</td><td style=\"text-align: right;\">   9.7905</td><td style=\"text-align: right;\">   1.6704</td><td style=\"text-align: right;\">   1.6858</td><td style=\"text-align: right;\">  21.6042</td><td style=\"text-align: right;\">   3.1417</td><td style=\"text-align: right;\">  -6.5213</td><td style=\"text-align: right;\">   8.2675</td></tr>\n",
       "<tr><td>train_3  </td><td style=\"text-align: right;\">       0</td><td style=\"text-align: right;\">11.0604</td><td style=\"text-align: right;\">-2.1518</td><td style=\"text-align: right;\"> 8.9522</td><td style=\"text-align: right;\"> 7.1957</td><td style=\"text-align: right;\">12.5846</td><td style=\"text-align: right;\"> -1.8361</td><td style=\"text-align: right;\"> 5.8428</td><td style=\"text-align: right;\">14.925 </td><td style=\"text-align: right;\">-5.8609</td><td style=\"text-align: right;\"> 8.245 </td><td style=\"text-align: right;\">  2.3061</td><td style=\"text-align: right;\">  2.8102</td><td style=\"text-align: right;\"> 13.8463</td><td style=\"text-align: right;\"> 11.9704</td><td style=\"text-align: right;\">  6.4569</td><td style=\"text-align: right;\"> 14.8372</td><td style=\"text-align: right;\"> 10.743 </td><td style=\"text-align: right;\"> -0.4299</td><td style=\"text-align: right;\"> 15.9426</td><td style=\"text-align: right;\"> 13.7257</td><td style=\"text-align: right;\"> 20.301 </td><td style=\"text-align: right;\"> 12.5579</td><td style=\"text-align: right;\">  6.8202</td><td style=\"text-align: right;\">  2.7229</td><td style=\"text-align: right;\"> 12.1354</td><td style=\"text-align: right;\"> 13.7367</td><td style=\"text-align: right;\">  0.8135</td><td style=\"text-align: right;\"> -0.9059</td><td style=\"text-align: right;\">  5.907 </td><td style=\"text-align: right;\">  2.8407</td><td style=\"text-align: right;\">-15.2398</td><td style=\"text-align: right;\"> 10.4407</td><td style=\"text-align: right;\"> -2.5731</td><td style=\"text-align: right;\">  6.1796</td><td style=\"text-align: right;\"> 10.6093</td><td style=\"text-align: right;\"> -5.9158</td><td style=\"text-align: right;\">  8.1723</td><td style=\"text-align: right;\">  2.8521</td><td style=\"text-align: right;\">  9.1738</td><td style=\"text-align: right;\">  0.6665</td><td style=\"text-align: right;\"> -3.8294</td><td style=\"text-align: right;\"> -1.037 </td><td style=\"text-align: right;\"> 11.777 </td><td style=\"text-align: right;\"> 11.2834</td><td style=\"text-align: right;\">  8.0485</td><td style=\"text-align: right;\">-24.684 </td><td style=\"text-align: right;\"> 12.7404</td><td style=\"text-align: right;\">-35.1659</td><td style=\"text-align: right;\">  0.7613</td><td style=\"text-align: right;\">  8.3838</td><td style=\"text-align: right;\"> 12.6832</td><td style=\"text-align: right;\">  9.5503</td><td style=\"text-align: right;\">  1.7895</td><td style=\"text-align: right;\">  5.2091</td><td style=\"text-align: right;\">  8.0913</td><td style=\"text-align: right;\"> 12.3972</td><td style=\"text-align: right;\"> 14.4698</td><td style=\"text-align: right;\">  6.585 </td><td style=\"text-align: right;\">  3.3164</td><td style=\"text-align: right;\">  9.4638</td><td style=\"text-align: right;\"> 15.782 </td><td style=\"text-align: right;\">-25.0222</td><td style=\"text-align: right;\">  3.4418</td><td style=\"text-align: right;\"> -4.3923</td><td style=\"text-align: right;\">  8.6464</td><td style=\"text-align: right;\">  6.3072</td><td style=\"text-align: right;\">  5.6221</td><td style=\"text-align: right;\"> 23.6143</td><td style=\"text-align: right;\">  5.022 </td><td style=\"text-align: right;\"> -3.9989</td><td style=\"text-align: right;\">  4.0462</td><td style=\"text-align: right;\">  0.25  </td><td style=\"text-align: right;\">  1.2516</td><td style=\"text-align: right;\"> 24.4187</td><td style=\"text-align: right;\">  4.529 </td><td style=\"text-align: right;\"> 15.4235</td><td style=\"text-align: right;\"> 11.6875</td><td style=\"text-align: right;\"> 23.6273</td><td style=\"text-align: right;\">  4.0806</td><td style=\"text-align: right;\"> 15.2733</td><td style=\"text-align: right;\">  0.7839</td><td style=\"text-align: right;\"> 10.5404</td><td style=\"text-align: right;\">  1.6212</td><td style=\"text-align: right;\"> -5.2896</td><td style=\"text-align: right;\">  1.6027</td><td style=\"text-align: right;\"> 17.9762</td><td style=\"text-align: right;\"> -2.3174</td><td style=\"text-align: right;\"> 15.6298</td><td style=\"text-align: right;\">  4.5474</td><td style=\"text-align: right;\">  7.5509</td><td style=\"text-align: right;\"> -7.5866</td><td style=\"text-align: right;\">  7.0364</td><td style=\"text-align: right;\"> 14.4027</td><td style=\"text-align: right;\"> 10.7795</td><td style=\"text-align: right;\">  7.2887</td><td style=\"text-align: right;\"> -1.093 </td><td style=\"text-align: right;\"> 11.3596</td><td style=\"text-align: right;\"> 18.1486</td><td style=\"text-align: right;\">  2.8344</td><td style=\"text-align: right;\">  1.948 </td><td style=\"text-align: right;\"> -19.8592</td><td style=\"text-align: right;\">  22.5316</td><td style=\"text-align: right;\">  18.6129</td><td style=\"text-align: right;\">   1.3512</td><td style=\"text-align: right;\">   9.3291</td><td style=\"text-align: right;\">   4.2835</td><td style=\"text-align: right;\">  10.3907</td><td style=\"text-align: right;\">   7.0874</td><td style=\"text-align: right;\">  14.3256</td><td style=\"text-align: right;\">  14.4135</td><td style=\"text-align: right;\">   4.2827</td><td style=\"text-align: right;\">   6.975 </td><td style=\"text-align: right;\">   1.648 </td><td style=\"text-align: right;\">  11.6896</td><td style=\"text-align: right;\">   2.5762</td><td style=\"text-align: right;\">  -2.5459</td><td style=\"text-align: right;\">   5.3446</td><td style=\"text-align: right;\">  38.1015</td><td style=\"text-align: right;\">   3.5732</td><td style=\"text-align: right;\">   5.0988</td><td style=\"text-align: right;\">  30.5644</td><td style=\"text-align: right;\">  11.3025</td><td style=\"text-align: right;\">   3.9618</td><td style=\"text-align: right;\">  -8.2464</td><td style=\"text-align: right;\">   2.7038</td><td style=\"text-align: right;\">  12.3441</td><td style=\"text-align: right;\">  12.5431</td><td style=\"text-align: right;\">  -1.3683</td><td style=\"text-align: right;\">   3.5974</td><td style=\"text-align: right;\">  13.9761</td><td style=\"text-align: right;\">  14.3003</td><td style=\"text-align: right;\">   1.0486</td><td style=\"text-align: right;\">   8.95  </td><td style=\"text-align: right;\">   7.1954</td><td style=\"text-align: right;\">  -1.1984</td><td style=\"text-align: right;\">   1.9586</td><td style=\"text-align: right;\">  27.5609</td><td style=\"text-align: right;\">  24.6065</td><td style=\"text-align: right;\">  -2.8233</td><td style=\"text-align: right;\">   8.9821</td><td style=\"text-align: right;\">   3.8873</td><td style=\"text-align: right;\">  15.9638</td><td style=\"text-align: right;\">  10.0142</td><td style=\"text-align: right;\">   7.8388</td><td style=\"text-align: right;\">   9.9718</td><td style=\"text-align: right;\">   2.9253</td><td style=\"text-align: right;\">  10.4994</td><td style=\"text-align: right;\">   4.1622</td><td style=\"text-align: right;\">   3.7613</td><td style=\"text-align: right;\">   2.3701</td><td style=\"text-align: right;\">  18.0984</td><td style=\"text-align: right;\">  17.1765</td><td style=\"text-align: right;\">   7.6508</td><td style=\"text-align: right;\">  18.2452</td><td style=\"text-align: right;\">  17.0336</td><td style=\"text-align: right;\"> -10.937 </td><td style=\"text-align: right;\">  12.05  </td><td style=\"text-align: right;\">  -1.2155</td><td style=\"text-align: right;\">  19.975 </td><td style=\"text-align: right;\">  12.3892</td><td style=\"text-align: right;\">  31.8833</td><td style=\"text-align: right;\">   5.9684</td><td style=\"text-align: right;\">   7.2084</td><td style=\"text-align: right;\">   3.8899</td><td style=\"text-align: right;\"> -11.0882</td><td style=\"text-align: right;\">  17.2502</td><td style=\"text-align: right;\">   2.5881</td><td style=\"text-align: right;\">  -2.7018</td><td style=\"text-align: right;\">   0.5641</td><td style=\"text-align: right;\">   5.343 </td><td style=\"text-align: right;\">  -7.1541</td><td style=\"text-align: right;\">  -6.192 </td><td style=\"text-align: right;\">  18.2366</td><td style=\"text-align: right;\">  11.7134</td><td style=\"text-align: right;\">  14.7483</td><td style=\"text-align: right;\">   8.1013</td><td style=\"text-align: right;\">  11.8771</td><td style=\"text-align: right;\">  13.9552</td><td style=\"text-align: right;\"> -10.4701</td><td style=\"text-align: right;\">   5.6961</td><td style=\"text-align: right;\">  -3.7546</td><td style=\"text-align: right;\">   8.4117</td><td style=\"text-align: right;\">   1.8986</td><td style=\"text-align: right;\">   7.2601</td><td style=\"text-align: right;\">  -0.4639</td><td style=\"text-align: right;\">  -0.0498</td><td style=\"text-align: right;\">   7.9336</td><td style=\"text-align: right;\"> -12.8279</td><td style=\"text-align: right;\">  12.4124</td><td style=\"text-align: right;\">   1.8489</td><td style=\"text-align: right;\">   4.4666</td><td style=\"text-align: right;\">   4.7433</td><td style=\"text-align: right;\">   0.7178</td><td style=\"text-align: right;\">   1.4214</td><td style=\"text-align: right;\">  23.0347</td><td style=\"text-align: right;\">  -1.2706</td><td style=\"text-align: right;\">  -2.9275</td><td style=\"text-align: right;\">  10.2922</td></tr>\n",
       "<tr><td>train_4  </td><td style=\"text-align: right;\">       0</td><td style=\"text-align: right;\"> 9.8369</td><td style=\"text-align: right;\">-1.4834</td><td style=\"text-align: right;\">12.8746</td><td style=\"text-align: right;\"> 6.6375</td><td style=\"text-align: right;\">12.2772</td><td style=\"text-align: right;\">  2.4486</td><td style=\"text-align: right;\"> 5.9405</td><td style=\"text-align: right;\">19.2514</td><td style=\"text-align: right;\"> 6.2654</td><td style=\"text-align: right;\"> 7.6784</td><td style=\"text-align: right;\"> -9.4458</td><td style=\"text-align: right;\">-12.1419</td><td style=\"text-align: right;\"> 13.8481</td><td style=\"text-align: right;\">  7.8895</td><td style=\"text-align: right;\">  7.7894</td><td style=\"text-align: right;\"> 15.0553</td><td style=\"text-align: right;\">  8.4871</td><td style=\"text-align: right;\"> -3.068 </td><td style=\"text-align: right;\">  6.5263</td><td style=\"text-align: right;\"> 11.3152</td><td style=\"text-align: right;\"> 21.4246</td><td style=\"text-align: right;\"> 18.9608</td><td style=\"text-align: right;\"> 10.1102</td><td style=\"text-align: right;\">  2.7142</td><td style=\"text-align: right;\"> 14.208 </td><td style=\"text-align: right;\"> 13.5433</td><td style=\"text-align: right;\">  3.1736</td><td style=\"text-align: right;\"> -3.3423</td><td style=\"text-align: right;\">  5.9015</td><td style=\"text-align: right;\">  7.9352</td><td style=\"text-align: right;\"> -3.1582</td><td style=\"text-align: right;\">  9.4668</td><td style=\"text-align: right;\"> -0.0083</td><td style=\"text-align: right;\"> 19.3239</td><td style=\"text-align: right;\"> 12.4057</td><td style=\"text-align: right;\">  0.6329</td><td style=\"text-align: right;\">  2.7922</td><td style=\"text-align: right;\">  5.8184</td><td style=\"text-align: right;\"> 19.3038</td><td style=\"text-align: right;\">  1.445 </td><td style=\"text-align: right;\"> -5.5963</td><td style=\"text-align: right;\"> 14.0685</td><td style=\"text-align: right;\"> 11.9171</td><td style=\"text-align: right;\"> 11.5111</td><td style=\"text-align: right;\">  6.9087</td><td style=\"text-align: right;\">-65.4863</td><td style=\"text-align: right;\"> 13.8657</td><td style=\"text-align: right;\">  0.0444</td><td style=\"text-align: right;\"> -0.1346</td><td style=\"text-align: right;\"> 14.4268</td><td style=\"text-align: right;\"> 13.3273</td><td style=\"text-align: right;\"> 10.4857</td><td style=\"text-align: right;\"> -1.4367</td><td style=\"text-align: right;\">  5.7555</td><td style=\"text-align: right;\"> -8.5414</td><td style=\"text-align: right;\"> 14.1482</td><td style=\"text-align: right;\"> 16.984 </td><td style=\"text-align: right;\">  6.1812</td><td style=\"text-align: right;\">  1.9548</td><td style=\"text-align: right;\">  9.2048</td><td style=\"text-align: right;\">  8.6591</td><td style=\"text-align: right;\">-27.7439</td><td style=\"text-align: right;\"> -0.4952</td><td style=\"text-align: right;\"> -1.7839</td><td style=\"text-align: right;\">  5.267 </td><td style=\"text-align: right;\"> -4.3205</td><td style=\"text-align: right;\">  6.986 </td><td style=\"text-align: right;\">  1.6184</td><td style=\"text-align: right;\">  5.0301</td><td style=\"text-align: right;\"> -3.2431</td><td style=\"text-align: right;\"> 40.1236</td><td style=\"text-align: right;\">  0.7737</td><td style=\"text-align: right;\"> -0.7264</td><td style=\"text-align: right;\">  4.5886</td><td style=\"text-align: right;\"> -4.5346</td><td style=\"text-align: right;\"> 23.3521</td><td style=\"text-align: right;\">  1.0273</td><td style=\"text-align: right;\"> 19.16  </td><td style=\"text-align: right;\">  7.1734</td><td style=\"text-align: right;\"> 14.3937</td><td style=\"text-align: right;\">  2.9598</td><td style=\"text-align: right;\"> 13.3317</td><td style=\"text-align: right;\"> -9.2587</td><td style=\"text-align: right;\"> -6.7075</td><td style=\"text-align: right;\">  7.8984</td><td style=\"text-align: right;\"> 14.5265</td><td style=\"text-align: right;\">  7.0799</td><td style=\"text-align: right;\"> 20.167 </td><td style=\"text-align: right;\">  8.0053</td><td style=\"text-align: right;\">  3.7954</td><td style=\"text-align: right;\">-39.7997</td><td style=\"text-align: right;\">  7.0065</td><td style=\"text-align: right;\">  9.3627</td><td style=\"text-align: right;\"> 10.4316</td><td style=\"text-align: right;\"> 14.0553</td><td style=\"text-align: right;\">  0.0213</td><td style=\"text-align: right;\"> 14.7246</td><td style=\"text-align: right;\"> 35.2988</td><td style=\"text-align: right;\">  1.6844</td><td style=\"text-align: right;\">  0.6715</td><td style=\"text-align: right;\"> -22.9264</td><td style=\"text-align: right;\">  12.3562</td><td style=\"text-align: right;\">  17.341 </td><td style=\"text-align: right;\">   1.694 </td><td style=\"text-align: right;\">   7.1179</td><td style=\"text-align: right;\">   5.1934</td><td style=\"text-align: right;\">   8.823 </td><td style=\"text-align: right;\">  10.6617</td><td style=\"text-align: right;\">  14.0837</td><td style=\"text-align: right;\">  28.2749</td><td style=\"text-align: right;\">  -0.1937</td><td style=\"text-align: right;\">   5.9654</td><td style=\"text-align: right;\">   1.0719</td><td style=\"text-align: right;\">   7.9923</td><td style=\"text-align: right;\">   2.9138</td><td style=\"text-align: right;\">  -3.6135</td><td style=\"text-align: right;\">   1.4684</td><td style=\"text-align: right;\">  25.6795</td><td style=\"text-align: right;\">  13.8224</td><td style=\"text-align: right;\">   4.7478</td><td style=\"text-align: right;\">  41.1037</td><td style=\"text-align: right;\">  12.714 </td><td style=\"text-align: right;\">   5.2964</td><td style=\"text-align: right;\">   9.7289</td><td style=\"text-align: right;\">   3.937 </td><td style=\"text-align: right;\">  12.1316</td><td style=\"text-align: right;\">  12.5815</td><td style=\"text-align: right;\">   7.0642</td><td style=\"text-align: right;\">   5.6518</td><td style=\"text-align: right;\">  10.9346</td><td style=\"text-align: right;\">  11.4266</td><td style=\"text-align: right;\">   0.9442</td><td style=\"text-align: right;\">   7.7532</td><td style=\"text-align: right;\">   6.6173</td><td style=\"text-align: right;\">  -6.8304</td><td style=\"text-align: right;\">   6.473 </td><td style=\"text-align: right;\">  17.1728</td><td style=\"text-align: right;\">  25.8128</td><td style=\"text-align: right;\">   2.6791</td><td style=\"text-align: right;\">  13.9547</td><td style=\"text-align: right;\">   6.6289</td><td style=\"text-align: right;\">  -4.3965</td><td style=\"text-align: right;\">  11.7159</td><td style=\"text-align: right;\">  16.108 </td><td style=\"text-align: right;\">   7.6874</td><td style=\"text-align: right;\">   9.157 </td><td style=\"text-align: right;\">  11.567 </td><td style=\"text-align: right;\"> -12.7047</td><td style=\"text-align: right;\">   3.7574</td><td style=\"text-align: right;\">   9.911 </td><td style=\"text-align: right;\">  20.1461</td><td style=\"text-align: right;\">   1.2995</td><td style=\"text-align: right;\">   5.8493</td><td style=\"text-align: right;\">  19.8234</td><td style=\"text-align: right;\">   4.7022</td><td style=\"text-align: right;\">  10.6101</td><td style=\"text-align: right;\">  13.0021</td><td style=\"text-align: right;\"> -12.6068</td><td style=\"text-align: right;\">  27.0846</td><td style=\"text-align: right;\">   8.0913</td><td style=\"text-align: right;\">  33.5107</td><td style=\"text-align: right;\">   5.6953</td><td style=\"text-align: right;\">   5.4663</td><td style=\"text-align: right;\">  18.2201</td><td style=\"text-align: right;\">   6.5769</td><td style=\"text-align: right;\">  21.2607</td><td style=\"text-align: right;\">   3.2304</td><td style=\"text-align: right;\">  -1.7759</td><td style=\"text-align: right;\">   3.1283</td><td style=\"text-align: right;\">   5.5518</td><td style=\"text-align: right;\">   1.4493</td><td style=\"text-align: right;\">  -2.6627</td><td style=\"text-align: right;\">  19.8056</td><td style=\"text-align: right;\">   2.3705</td><td style=\"text-align: right;\">  18.4685</td><td style=\"text-align: right;\">  16.3309</td><td style=\"text-align: right;\">  -3.3456</td><td style=\"text-align: right;\">  13.5261</td><td style=\"text-align: right;\">   1.7189</td><td style=\"text-align: right;\">   5.1743</td><td style=\"text-align: right;\">  -7.6938</td><td style=\"text-align: right;\">   9.7685</td><td style=\"text-align: right;\">   4.891 </td><td style=\"text-align: right;\">  12.2198</td><td style=\"text-align: right;\">  11.8503</td><td style=\"text-align: right;\">  -7.8931</td><td style=\"text-align: right;\">   6.4209</td><td style=\"text-align: right;\">   5.927 </td><td style=\"text-align: right;\">  16.0201</td><td style=\"text-align: right;\">  -0.2829</td><td style=\"text-align: right;\">  -1.4905</td><td style=\"text-align: right;\">   9.5214</td><td style=\"text-align: right;\">  -0.1508</td><td style=\"text-align: right;\">   9.1942</td><td style=\"text-align: right;\">  13.2876</td><td style=\"text-align: right;\">  -1.5121</td><td style=\"text-align: right;\">   3.9267</td><td style=\"text-align: right;\">   9.5031</td></tr>\n",
       "<tr><td>train_5  </td><td style=\"text-align: right;\">       0</td><td style=\"text-align: right;\">11.4763</td><td style=\"text-align: right;\">-2.3182</td><td style=\"text-align: right;\">12.608 </td><td style=\"text-align: right;\"> 8.6264</td><td style=\"text-align: right;\">10.9621</td><td style=\"text-align: right;\">  3.5609</td><td style=\"text-align: right;\"> 4.5322</td><td style=\"text-align: right;\">15.2255</td><td style=\"text-align: right;\"> 3.5855</td><td style=\"text-align: right;\"> 5.979 </td><td style=\"text-align: right;\">  0.801 </td><td style=\"text-align: right;\"> -0.6192</td><td style=\"text-align: right;\"> 13.638 </td><td style=\"text-align: right;\">  1.2589</td><td style=\"text-align: right;\">  8.1939</td><td style=\"text-align: right;\"> 14.9894</td><td style=\"text-align: right;\"> 12.0763</td><td style=\"text-align: right;\"> -1.471 </td><td style=\"text-align: right;\">  6.7341</td><td style=\"text-align: right;\"> 14.8241</td><td style=\"text-align: right;\"> 19.7172</td><td style=\"text-align: right;\"> 11.9882</td><td style=\"text-align: right;\">  1.0468</td><td style=\"text-align: right;\">  3.8663</td><td style=\"text-align: right;\">  4.7252</td><td style=\"text-align: right;\"> 13.9427</td><td style=\"text-align: right;\"> -1.2796</td><td style=\"text-align: right;\"> -4.3763</td><td style=\"text-align: right;\">  5.1494</td><td style=\"text-align: right;\">  0.4124</td><td style=\"text-align: right;\"> -5.0732</td><td style=\"text-align: right;\">  4.901 </td><td style=\"text-align: right;\">  1.5459</td><td style=\"text-align: right;\"> 15.6423</td><td style=\"text-align: right;\"> 10.7209</td><td style=\"text-align: right;\"> 15.1886</td><td style=\"text-align: right;\">  1.8685</td><td style=\"text-align: right;\">  7.7223</td><td style=\"text-align: right;\">  5.5317</td><td style=\"text-align: right;\">  2.2308</td><td style=\"text-align: right;\">  2.6553</td><td style=\"text-align: right;\"> 13.973 </td><td style=\"text-align: right;\"> 11.5015</td><td style=\"text-align: right;\"> 11.6891</td><td style=\"text-align: right;\"> 14.1062</td><td style=\"text-align: right;\">-44.7257</td><td style=\"text-align: right;\"> 10.647 </td><td style=\"text-align: right;\">-24.6935</td><td style=\"text-align: right;\"> 29.9912</td><td style=\"text-align: right;\"> 13.5894</td><td style=\"text-align: right;\"> 13.2355</td><td style=\"text-align: right;\">  5.5513</td><td style=\"text-align: right;\"> -7.7762</td><td style=\"text-align: right;\">  5.2399</td><td style=\"text-align: right;\">  7.0189</td><td style=\"text-align: right;\"> 15.2849</td><td style=\"text-align: right;\"> 11.8258</td><td style=\"text-align: right;\">  5.9587</td><td style=\"text-align: right;\">  4.7676</td><td style=\"text-align: right;\">  8.2253</td><td style=\"text-align: right;\"> 11.1254</td><td style=\"text-align: right;\"> -0.7472</td><td style=\"text-align: right;\"> -1.6063</td><td style=\"text-align: right;\">  6.0702</td><td style=\"text-align: right;\">  6.0604</td><td style=\"text-align: right;\">  5.4693</td><td style=\"text-align: right;\">  4.9098</td><td style=\"text-align: right;\"> 14.116 </td><td style=\"text-align: right;\">  5.011 </td><td style=\"text-align: right;\"> -5.6684</td><td style=\"text-align: right;\"> 35.2664</td><td style=\"text-align: right;\">  0.678 </td><td style=\"text-align: right;\">  8.1653</td><td style=\"text-align: right;\">  9.9031</td><td style=\"text-align: right;\"> 10.5392</td><td style=\"text-align: right;\"> 14.4814</td><td style=\"text-align: right;\"> 12.7784</td><td style=\"text-align: right;\"> 17.4977</td><td style=\"text-align: right;\">  3.3793</td><td style=\"text-align: right;\"> 16.0082</td><td style=\"text-align: right;\"> -5.4905</td><td style=\"text-align: right;\"> 15.3766</td><td style=\"text-align: right;\">  1.8135</td><td style=\"text-align: right;\"> -1.9153</td><td style=\"text-align: right;\"> -8.3058</td><td style=\"text-align: right;\"> 20.169 </td><td style=\"text-align: right;\">  2.6433</td><td style=\"text-align: right;\"> 19.9457</td><td style=\"text-align: right;\">  9.4972</td><td style=\"text-align: right;\"> -3.5982</td><td style=\"text-align: right;\"> -1.1717</td><td style=\"text-align: right;\">  6.9204</td><td style=\"text-align: right;\">  8.8093</td><td style=\"text-align: right;\"> 10.5375</td><td style=\"text-align: right;\"> 10.2029</td><td style=\"text-align: right;\">  1.1735</td><td style=\"text-align: right;\"> 14.0648</td><td style=\"text-align: right;\"> 17.91  </td><td style=\"text-align: right;\">  0.9217</td><td style=\"text-align: right;\">  0.0886</td><td style=\"text-align: right;\">  -8.3794</td><td style=\"text-align: right;\">  19.8236</td><td style=\"text-align: right;\">  12.278 </td><td style=\"text-align: right;\">   1.6012</td><td style=\"text-align: right;\">  15.409 </td><td style=\"text-align: right;\">   4.2972</td><td style=\"text-align: right;\">  10.5131</td><td style=\"text-align: right;\">  16.4164</td><td style=\"text-align: right;\">  14.1434</td><td style=\"text-align: right;\">  23.9731</td><td style=\"text-align: right;\">   7.004 </td><td style=\"text-align: right;\">   7.1879</td><td style=\"text-align: right;\">   3.9414</td><td style=\"text-align: right;\">   9.9727</td><td style=\"text-align: right;\">   3.6737</td><td style=\"text-align: right;\">   0.897 </td><td style=\"text-align: right;\">   2.2988</td><td style=\"text-align: right;\"> -18.1194</td><td style=\"text-align: right;\">   8.6835</td><td style=\"text-align: right;\">  -2.8671</td><td style=\"text-align: right;\">  11.2701</td><td style=\"text-align: right;\">   9.0465</td><td style=\"text-align: right;\">  -1.5511</td><td style=\"text-align: right;\">   9.9305</td><td style=\"text-align: right;\">   4.3756</td><td style=\"text-align: right;\">  12.3697</td><td style=\"text-align: right;\">  13.0031</td><td style=\"text-align: right;\">   5.0993</td><td style=\"text-align: right;\">  -5.8702</td><td style=\"text-align: right;\">  15.0534</td><td style=\"text-align: right;\">  12.7212</td><td style=\"text-align: right;\">   0.5762</td><td style=\"text-align: right;\">   7.0965</td><td style=\"text-align: right;\">   6.6143</td><td style=\"text-align: right;\">  -8.8256</td><td style=\"text-align: right;\">  -0.9844</td><td style=\"text-align: right;\">  26.1603</td><td style=\"text-align: right;\">  11.9963</td><td style=\"text-align: right;\">  -5.9018</td><td style=\"text-align: right;\">  13.3065</td><td style=\"text-align: right;\">   4.4419</td><td style=\"text-align: right;\">  -0.0496</td><td style=\"text-align: right;\">  18.7239</td><td style=\"text-align: right;\">  14.1586</td><td style=\"text-align: right;\">   9.6607</td><td style=\"text-align: right;\">   2.6134</td><td style=\"text-align: right;\">  12.965 </td><td style=\"text-align: right;\">   4.728 </td><td style=\"text-align: right;\">   3.9799</td><td style=\"text-align: right;\">   1.4462</td><td style=\"text-align: right;\">  19.5171</td><td style=\"text-align: right;\">   7.5903</td><td style=\"text-align: right;\">   5.7223</td><td style=\"text-align: right;\">  15.2331</td><td style=\"text-align: right;\">  15.4401</td><td style=\"text-align: right;\">  -2.0738</td><td style=\"text-align: right;\">  12.4068</td><td style=\"text-align: right;\"> -16.8151</td><td style=\"text-align: right;\">  24.2054</td><td style=\"text-align: right;\">   4.9455</td><td style=\"text-align: right;\">  16.5552</td><td style=\"text-align: right;\">   5.3739</td><td style=\"text-align: right;\">   6.4487</td><td style=\"text-align: right;\">  11.5631</td><td style=\"text-align: right;\">   1.3847</td><td style=\"text-align: right;\">  14.9638</td><td style=\"text-align: right;\">   2.8455</td><td style=\"text-align: right;\">  -9.0953</td><td style=\"text-align: right;\">   3.8278</td><td style=\"text-align: right;\">   5.9714</td><td style=\"text-align: right;\">  -6.1449</td><td style=\"text-align: right;\">  -2.0285</td><td style=\"text-align: right;\">  18.4106</td><td style=\"text-align: right;\">   1.4457</td><td style=\"text-align: right;\">  21.8853</td><td style=\"text-align: right;\">   9.2654</td><td style=\"text-align: right;\">  -6.5247</td><td style=\"text-align: right;\">  10.7687</td><td style=\"text-align: right;\">  -7.6283</td><td style=\"text-align: right;\">   1.0208</td><td style=\"text-align: right;\">   7.1968</td><td style=\"text-align: right;\">  11.1227</td><td style=\"text-align: right;\">   2.2257</td><td style=\"text-align: right;\">   6.4056</td><td style=\"text-align: right;\">  21.055 </td><td style=\"text-align: right;\"> -13.6509</td><td style=\"text-align: right;\">   4.7691</td><td style=\"text-align: right;\">  -8.9114</td><td style=\"text-align: right;\">  15.1007</td><td style=\"text-align: right;\">   2.4286</td><td style=\"text-align: right;\">  -6.3068</td><td style=\"text-align: right;\">   6.6025</td><td style=\"text-align: right;\">   5.2912</td><td style=\"text-align: right;\">   0.4403</td><td style=\"text-align: right;\">  14.9452</td><td style=\"text-align: right;\">   1.0314</td><td style=\"text-align: right;\">  -3.6241</td><td style=\"text-align: right;\">   9.767 </td></tr>\n",
       "<tr><td>train_6  </td><td style=\"text-align: right;\">       0</td><td style=\"text-align: right;\">11.8091</td><td style=\"text-align: right;\">-0.0832</td><td style=\"text-align: right;\"> 9.3494</td><td style=\"text-align: right;\"> 4.2916</td><td style=\"text-align: right;\">11.1355</td><td style=\"text-align: right;\"> -8.0198</td><td style=\"text-align: right;\"> 6.1961</td><td style=\"text-align: right;\">12.0771</td><td style=\"text-align: right;\">-4.3781</td><td style=\"text-align: right;\"> 7.9232</td><td style=\"text-align: right;\"> -5.1288</td><td style=\"text-align: right;\"> -7.5271</td><td style=\"text-align: right;\"> 14.1629</td><td style=\"text-align: right;\"> 13.3058</td><td style=\"text-align: right;\">  7.8412</td><td style=\"text-align: right;\"> 14.3363</td><td style=\"text-align: right;\">  7.5951</td><td style=\"text-align: right;\"> 11.0922</td><td style=\"text-align: right;\"> 21.1976</td><td style=\"text-align: right;\">  6.2946</td><td style=\"text-align: right;\"> 15.8877</td><td style=\"text-align: right;\"> 24.2595</td><td style=\"text-align: right;\">  8.1159</td><td style=\"text-align: right;\">  3.9769</td><td style=\"text-align: right;\">  7.6851</td><td style=\"text-align: right;\"> 13.36  </td><td style=\"text-align: right;\"> -0.5156</td><td style=\"text-align: right;\">  0.069 </td><td style=\"text-align: right;\">  5.6452</td><td style=\"text-align: right;\">  4.614 </td><td style=\"text-align: right;\">-12.389 </td><td style=\"text-align: right;\"> 12.088 </td><td style=\"text-align: right;\"> -1.529 </td><td style=\"text-align: right;\">  9.2376</td><td style=\"text-align: right;\"> 11.151 </td><td style=\"text-align: right;\">  6.6352</td><td style=\"text-align: right;\">  4.8462</td><td style=\"text-align: right;\">  7.0202</td><td style=\"text-align: right;\"> 19.9479</td><td style=\"text-align: right;\"> -6.2271</td><td style=\"text-align: right;\">  4.4616</td><td style=\"text-align: right;\">  9.0383</td><td style=\"text-align: right;\"> 10.6889</td><td style=\"text-align: right;\"> 10.948 </td><td style=\"text-align: right;\"> 15.0431</td><td style=\"text-align: right;\">  1.0776</td><td style=\"text-align: right;\"> 14.2049</td><td style=\"text-align: right;\"> -2.0894</td><td style=\"text-align: right;\"> 26.6997</td><td style=\"text-align: right;\"> 18.4393</td><td style=\"text-align: right;\"> 12.984 </td><td style=\"text-align: right;\"> 23.2511</td><td style=\"text-align: right;\"> -3.4444</td><td style=\"text-align: right;\">  5.2735</td><td style=\"text-align: right;\">  3.71  </td><td style=\"text-align: right;\"> 12.4798</td><td style=\"text-align: right;\"> 18.4812</td><td style=\"text-align: right;\">  6.6104</td><td style=\"text-align: right;\">  2.7292</td><td style=\"text-align: right;\">  7.9378</td><td style=\"text-align: right;\"> 15.3738</td><td style=\"text-align: right;\">-12.6687</td><td style=\"text-align: right;\">  0.6272</td><td style=\"text-align: right;\">  2.7414</td><td style=\"text-align: right;\">  6.7854</td><td style=\"text-align: right;\">  0.4546</td><td style=\"text-align: right;\">  5.861 </td><td style=\"text-align: right;\"> 13.5793</td><td style=\"text-align: right;\">  5.0178</td><td style=\"text-align: right;\"> -5.7921</td><td style=\"text-align: right;\"> 21.164 </td><td style=\"text-align: right;\">  0.6386</td><td style=\"text-align: right;\">  3.7051</td><td style=\"text-align: right;\"> 19.3404</td><td style=\"text-align: right;\"> 29.6714</td><td style=\"text-align: right;\"> 13.7166</td><td style=\"text-align: right;\"> 12.5176</td><td style=\"text-align: right;\"> 16.9189</td><td style=\"text-align: right;\">  5.2232</td><td style=\"text-align: right;\"> 16.9441</td><td style=\"text-align: right;\"> -2.7142</td><td style=\"text-align: right;\"> 12.3111</td><td style=\"text-align: right;\"> -2.5448</td><td style=\"text-align: right;\"> 10.7269</td><td style=\"text-align: right;\"> -1.3374</td><td style=\"text-align: right;\"> 21.5486</td><td style=\"text-align: right;\"> 12.6511</td><td style=\"text-align: right;\">  6.3112</td><td style=\"text-align: right;\">  5.9346</td><td style=\"text-align: right;\"> 10.4663</td><td style=\"text-align: right;\"> -9.2271</td><td style=\"text-align: right;\">  7.014 </td><td style=\"text-align: right;\"> 11.1954</td><td style=\"text-align: right;\"> 10.4502</td><td style=\"text-align: right;\"> 11.1829</td><td style=\"text-align: right;\">  0.6137</td><td style=\"text-align: right;\"> 23.729 </td><td style=\"text-align: right;\"> 32.8788</td><td style=\"text-align: right;\">  2.4715</td><td style=\"text-align: right;\">  0.0483</td><td style=\"text-align: right;\"> -22.2159</td><td style=\"text-align: right;\">  17.0682</td><td style=\"text-align: right;\">  20.5977</td><td style=\"text-align: right;\">   1.8554</td><td style=\"text-align: right;\">  12.1542</td><td style=\"text-align: right;\">   4.3055</td><td style=\"text-align: right;\">   8.3469</td><td style=\"text-align: right;\">  23.3089</td><td style=\"text-align: right;\">  14.4272</td><td style=\"text-align: right;\">  13.5718</td><td style=\"text-align: right;\">  11.6967</td><td style=\"text-align: right;\">   6.6323</td><td style=\"text-align: right;\">   2.7194</td><td style=\"text-align: right;\">   4.611 </td><td style=\"text-align: right;\">   2.309 </td><td style=\"text-align: right;\">   0.3681</td><td style=\"text-align: right;\">   2.9144</td><td style=\"text-align: right;\">  19.418 </td><td style=\"text-align: right;\">   1.3141</td><td style=\"text-align: right;\">  -0.981 </td><td style=\"text-align: right;\">  23.3644</td><td style=\"text-align: right;\">  10.5135</td><td style=\"text-align: right;\">   5.7981</td><td style=\"text-align: right;\">  -5.0096</td><td style=\"text-align: right;\">   0.5866</td><td style=\"text-align: right;\">  11.8274</td><td style=\"text-align: right;\">  12.188 </td><td style=\"text-align: right;\">   1.7719</td><td style=\"text-align: right;\">   2.7085</td><td style=\"text-align: right;\">  21.7473</td><td style=\"text-align: right;\">  11.941 </td><td style=\"text-align: right;\">   0.5405</td><td style=\"text-align: right;\">   8.9913</td><td style=\"text-align: right;\">   7.4506</td><td style=\"text-align: right;\"> -13.2871</td><td style=\"text-align: right;\">  -5.789 </td><td style=\"text-align: right;\">  23.8387</td><td style=\"text-align: right;\">   7.8704</td><td style=\"text-align: right;\">   5.2588</td><td style=\"text-align: right;\">   7.4428</td><td style=\"text-align: right;\">   2.7612</td><td style=\"text-align: right;\">  10.3221</td><td style=\"text-align: right;\">  -1.7192</td><td style=\"text-align: right;\">  16.4603</td><td style=\"text-align: right;\">   8.9949</td><td style=\"text-align: right;\">  11.7397</td><td style=\"text-align: right;\">  11.4148</td><td style=\"text-align: right;\">   6.852 </td><td style=\"text-align: right;\">   3.8912</td><td style=\"text-align: right;\">  -1.3446</td><td style=\"text-align: right;\">  11.6169</td><td style=\"text-align: right;\">  10.4602</td><td style=\"text-align: right;\">   4.3166</td><td style=\"text-align: right;\">  13.1753</td><td style=\"text-align: right;\">   9.9217</td><td style=\"text-align: right;\">  -2.5725</td><td style=\"text-align: right;\">  13.7241</td><td style=\"text-align: right;\"> -10.0345</td><td style=\"text-align: right;\">  21.9814</td><td style=\"text-align: right;\">  11.1648</td><td style=\"text-align: right;\">  39.9599</td><td style=\"text-align: right;\">   5.5552</td><td style=\"text-align: right;\">   3.3459</td><td style=\"text-align: right;\">   9.2661</td><td style=\"text-align: right;\">   6.1213</td><td style=\"text-align: right;\">  23.7558</td><td style=\"text-align: right;\">   3.0298</td><td style=\"text-align: right;\">   5.9109</td><td style=\"text-align: right;\">   8.1035</td><td style=\"text-align: right;\">   6.1887</td><td style=\"text-align: right;\">   0.2619</td><td style=\"text-align: right;\">  -1.1405</td><td style=\"text-align: right;\">  25.1675</td><td style=\"text-align: right;\">   2.6965</td><td style=\"text-align: right;\">  17.0152</td><td style=\"text-align: right;\">  12.7942</td><td style=\"text-align: right;\">  -3.0403</td><td style=\"text-align: right;\">   8.1735</td><td style=\"text-align: right;\">   4.5637</td><td style=\"text-align: right;\">   3.8973</td><td style=\"text-align: right;\">  -8.1416</td><td style=\"text-align: right;\">  10.057 </td><td style=\"text-align: right;\">  15.7862</td><td style=\"text-align: right;\">   3.3593</td><td style=\"text-align: right;\">  11.914 </td><td style=\"text-align: right;\">  -4.287 </td><td style=\"text-align: right;\">   7.5015</td><td style=\"text-align: right;\"> -29.9763</td><td style=\"text-align: right;\">  17.2867</td><td style=\"text-align: right;\">   1.8539</td><td style=\"text-align: right;\">   8.783 </td><td style=\"text-align: right;\">   6.4521</td><td style=\"text-align: right;\">   3.5325</td><td style=\"text-align: right;\">   0.1777</td><td style=\"text-align: right;\">  18.3314</td><td style=\"text-align: right;\">   0.5845</td><td style=\"text-align: right;\">   9.1104</td><td style=\"text-align: right;\">   9.1143</td></tr>\n",
       "<tr><td>train_7  </td><td style=\"text-align: right;\">       0</td><td style=\"text-align: right;\">13.558 </td><td style=\"text-align: right;\">-7.9881</td><td style=\"text-align: right;\">13.8776</td><td style=\"text-align: right;\"> 7.5985</td><td style=\"text-align: right;\"> 8.6543</td><td style=\"text-align: right;\">  0.831 </td><td style=\"text-align: right;\"> 5.689 </td><td style=\"text-align: right;\">22.3262</td><td style=\"text-align: right;\"> 5.0647</td><td style=\"text-align: right;\"> 7.1971</td><td style=\"text-align: right;\">  1.4532</td><td style=\"text-align: right;\"> -6.7033</td><td style=\"text-align: right;\"> 14.2919</td><td style=\"text-align: right;\"> 10.9699</td><td style=\"text-align: right;\">  6.919 </td><td style=\"text-align: right;\"> 14.2459</td><td style=\"text-align: right;\">  9.5376</td><td style=\"text-align: right;\"> -0.7226</td><td style=\"text-align: right;\">  5.1548</td><td style=\"text-align: right;\"> 17.1535</td><td style=\"text-align: right;\"> 13.7326</td><td style=\"text-align: right;\"> 14.4195</td><td style=\"text-align: right;\">  1.2375</td><td style=\"text-align: right;\">  3.1711</td><td style=\"text-align: right;\">  9.1258</td><td style=\"text-align: right;\"> 13.325 </td><td style=\"text-align: right;\">  3.3883</td><td style=\"text-align: right;\"> -0.4418</td><td style=\"text-align: right;\">  5.4501</td><td style=\"text-align: right;\">  7.9894</td><td style=\"text-align: right;\"> -0.9976</td><td style=\"text-align: right;\"> 14.5609</td><td style=\"text-align: right;\"> -2.0712</td><td style=\"text-align: right;\"> 16.9717</td><td style=\"text-align: right;\"> 11.5257</td><td style=\"text-align: right;\"> -0.499 </td><td style=\"text-align: right;\">  2.8303</td><td style=\"text-align: right;\">  7.5772</td><td style=\"text-align: right;\">  9.0294</td><td style=\"text-align: right;\">  1.2659</td><td style=\"text-align: right;\">-12.0219</td><td style=\"text-align: right;\"> 14.1991</td><td style=\"text-align: right;\"> 11.2721</td><td style=\"text-align: right;\"> 11.2407</td><td style=\"text-align: right;\"> 13.5776</td><td style=\"text-align: right;\">-27.2543</td><td style=\"text-align: right;\"> 14.0908</td><td style=\"text-align: right;\">  0.8217</td><td style=\"text-align: right;\"> 13.1139</td><td style=\"text-align: right;\">  9.3627</td><td style=\"text-align: right;\"> 13.7538</td><td style=\"text-align: right;\"> 11.0741</td><td style=\"text-align: right;\"> -8.4732</td><td style=\"text-align: right;\">  6.6503</td><td style=\"text-align: right;\">-14.4815</td><td style=\"text-align: right;\">  9.6728</td><td style=\"text-align: right;\"> 18.6279</td><td style=\"text-align: right;\">  6.5482</td><td style=\"text-align: right;\">  3.8325</td><td style=\"text-align: right;\">  8.0006</td><td style=\"text-align: right;\"> 13.5775</td><td style=\"text-align: right;\"> -3.7978</td><td style=\"text-align: right;\">  0.1582</td><td style=\"text-align: right;\">  4.2888</td><td style=\"text-align: right;\">  4.4444</td><td style=\"text-align: right;\"> -8.4758</td><td style=\"text-align: right;\">  5.2078</td><td style=\"text-align: right;\">  8.772 </td><td style=\"text-align: right;\">  5.0128</td><td style=\"text-align: right;\"> -7.411 </td><td style=\"text-align: right;\"> 27.0016</td><td style=\"text-align: right;\">  1.0085</td><td style=\"text-align: right;\">  3.7054</td><td style=\"text-align: right;\"> 16.4133</td><td style=\"text-align: right;\"> 20     </td><td style=\"text-align: right;\"> 10.2128</td><td style=\"text-align: right;\">  0.7557</td><td style=\"text-align: right;\"> 20.7298</td><td style=\"text-align: right;\">  6.7311</td><td style=\"text-align: right;\"> 14.5571</td><td style=\"text-align: right;\"> -3.813 </td><td style=\"text-align: right;\"> 13.3314</td><td style=\"text-align: right;\">-10.5909</td><td style=\"text-align: right;\">  6.7943</td><td style=\"text-align: right;\"> -0.3443</td><td style=\"text-align: right;\"> 23.553 </td><td style=\"text-align: right;\">  6.986 </td><td style=\"text-align: right;\">  6.0584</td><td style=\"text-align: right;\">  6.3539</td><td style=\"text-align: right;\">  6.7745</td><td style=\"text-align: right;\">-24.7167</td><td style=\"text-align: right;\">  6.8082</td><td style=\"text-align: right;\">  9.1942</td><td style=\"text-align: right;\"> 11.2303</td><td style=\"text-align: right;\"> 11.8245</td><td style=\"text-align: right;\"> -0.6602</td><td style=\"text-align: right;\"> 18.3689</td><td style=\"text-align: right;\"> 27.5106</td><td style=\"text-align: right;\">  2.0848</td><td style=\"text-align: right;\">  2.2442</td><td style=\"text-align: right;\">  -0.6013</td><td style=\"text-align: right;\">  20.9117</td><td style=\"text-align: right;\">  16.5885</td><td style=\"text-align: right;\">   1.4998</td><td style=\"text-align: right;\">  14.1148</td><td style=\"text-align: right;\">   4.1641</td><td style=\"text-align: right;\">   8.5132</td><td style=\"text-align: right;\">  16.4147</td><td style=\"text-align: right;\">  14.2331</td><td style=\"text-align: right;\">  15.1642</td><td style=\"text-align: right;\">   2.5181</td><td style=\"text-align: right;\">   7.1014</td><td style=\"text-align: right;\">   3.3046</td><td style=\"text-align: right;\">   5.7495</td><td style=\"text-align: right;\">   2.8527</td><td style=\"text-align: right;\">   4.1954</td><td style=\"text-align: right;\">   4.9895</td><td style=\"text-align: right;\">  19.4388</td><td style=\"text-align: right;\">   0.2901</td><td style=\"text-align: right;\">   0.0794</td><td style=\"text-align: right;\">  31.9043</td><td style=\"text-align: right;\">  12.7068</td><td style=\"text-align: right;\">   1.6484</td><td style=\"text-align: right;\">  -1.7767</td><td style=\"text-align: right;\">   3.0002</td><td style=\"text-align: right;\">  11.9988</td><td style=\"text-align: right;\">  13.4588</td><td style=\"text-align: right;\">   0.7693</td><td style=\"text-align: right;\">   1.7439</td><td style=\"text-align: right;\">  13.4471</td><td style=\"text-align: right;\">  11.3924</td><td style=\"text-align: right;\">   0.4158</td><td style=\"text-align: right;\">   9.8819</td><td style=\"text-align: right;\">   7.0754</td><td style=\"text-align: right;\">  -1.8253</td><td style=\"text-align: right;\">  -1.9968</td><td style=\"text-align: right;\">  21.5241</td><td style=\"text-align: right;\">  28.9405</td><td style=\"text-align: right;\">  -0.0447</td><td style=\"text-align: right;\">  17.2586</td><td style=\"text-align: right;\">   1.0003</td><td style=\"text-align: right;\">  -8.4069</td><td style=\"text-align: right;\">  18.4261</td><td style=\"text-align: right;\">  16.1918</td><td style=\"text-align: right;\">   9.745 </td><td style=\"text-align: right;\">  12.1132</td><td style=\"text-align: right;\">   9.1689</td><td style=\"text-align: right;\"> -10.6657</td><td style=\"text-align: right;\">   4.1435</td><td style=\"text-align: right;\">  26.7837</td><td style=\"text-align: right;\">  14.055 </td><td style=\"text-align: right;\">  14.582 </td><td style=\"text-align: right;\">   7.2698</td><td style=\"text-align: right;\">  13.8387</td><td style=\"text-align: right;\">  13.2217</td><td style=\"text-align: right;\">  -1.5242</td><td style=\"text-align: right;\">  11.2587</td><td style=\"text-align: right;\">  -0.0072</td><td style=\"text-align: right;\">   8.6696</td><td style=\"text-align: right;\">  19.2246</td><td style=\"text-align: right;\">  23.7765</td><td style=\"text-align: right;\">   5.4098</td><td style=\"text-align: right;\">   5.1402</td><td style=\"text-align: right;\">  10.7013</td><td style=\"text-align: right;\">  -8.2583</td><td style=\"text-align: right;\">  26.3286</td><td style=\"text-align: right;\">   2.6085</td><td style=\"text-align: right;\"> -10.9163</td><td style=\"text-align: right;\">   8.7362</td><td style=\"text-align: right;\">   5.2273</td><td style=\"text-align: right;\">   8.9519</td><td style=\"text-align: right;\">  -2.3522</td><td style=\"text-align: right;\">   6.1335</td><td style=\"text-align: right;\">   0.0876</td><td style=\"text-align: right;\">  19.5642</td><td style=\"text-align: right;\">  13.2008</td><td style=\"text-align: right;\"> -11.1786</td><td style=\"text-align: right;\">  17.3041</td><td style=\"text-align: right;\">  -0.6535</td><td style=\"text-align: right;\">   0.0592</td><td style=\"text-align: right;\">   5.114 </td><td style=\"text-align: right;\">  10.5478</td><td style=\"text-align: right;\">   6.9736</td><td style=\"text-align: right;\">   6.9724</td><td style=\"text-align: right;\">  24.0369</td><td style=\"text-align: right;\">  -4.822 </td><td style=\"text-align: right;\">   8.4947</td><td style=\"text-align: right;\">  -5.9076</td><td style=\"text-align: right;\">  18.8663</td><td style=\"text-align: right;\">   1.9731</td><td style=\"text-align: right;\">  13.17  </td><td style=\"text-align: right;\">   6.5491</td><td style=\"text-align: right;\">   3.9906</td><td style=\"text-align: right;\">   5.8061</td><td style=\"text-align: right;\">  23.1407</td><td style=\"text-align: right;\">  -0.3776</td><td style=\"text-align: right;\">   4.2178</td><td style=\"text-align: right;\">   9.4237</td></tr>\n",
       "<tr><td>train_8  </td><td style=\"text-align: right;\">       0</td><td style=\"text-align: right;\">16.1071</td><td style=\"text-align: right;\"> 2.4426</td><td style=\"text-align: right;\">13.9307</td><td style=\"text-align: right;\"> 5.6327</td><td style=\"text-align: right;\"> 8.8014</td><td style=\"text-align: right;\">  6.163 </td><td style=\"text-align: right;\"> 4.4514</td><td style=\"text-align: right;\">10.1854</td><td style=\"text-align: right;\">-3.1882</td><td style=\"text-align: right;\"> 9.0827</td><td style=\"text-align: right;\">  0.9501</td><td style=\"text-align: right;\">  1.7982</td><td style=\"text-align: right;\"> 14.0654</td><td style=\"text-align: right;\"> -3.0572</td><td style=\"text-align: right;\"> 11.1642</td><td style=\"text-align: right;\"> 14.8757</td><td style=\"text-align: right;\"> 10.0075</td><td style=\"text-align: right;\"> -8.9472</td><td style=\"text-align: right;\">  3.8349</td><td style=\"text-align: right;\">  0.856 </td><td style=\"text-align: right;\"> 10.6958</td><td style=\"text-align: right;\">  6.3738</td><td style=\"text-align: right;\">  6.558 </td><td style=\"text-align: right;\">  2.6182</td><td style=\"text-align: right;\"> 13.2506</td><td style=\"text-align: right;\"> 13.7929</td><td style=\"text-align: right;\">-14.4918</td><td style=\"text-align: right;\"> -2.5407</td><td style=\"text-align: right;\">  5.9575</td><td style=\"text-align: right;\">  2.4882</td><td style=\"text-align: right;\">-11.1344</td><td style=\"text-align: right;\"> 10.5106</td><td style=\"text-align: right;\"> -1.0573</td><td style=\"text-align: right;\"> 19.329 </td><td style=\"text-align: right;\"> 12.2897</td><td style=\"text-align: right;\"> -2.816 </td><td style=\"text-align: right;\">  6.9208</td><td style=\"text-align: right;\">  5.1498</td><td style=\"text-align: right;\"> 14.7272</td><td style=\"text-align: right;\">  3.7692</td><td style=\"text-align: right;\"> -5.1399</td><td style=\"text-align: right;\"> 18.3702</td><td style=\"text-align: right;\"> 11.6615</td><td style=\"text-align: right;\"> 11.7713</td><td style=\"text-align: right;\"> 17.0313</td><td style=\"text-align: right;\"> 16.4608</td><td style=\"text-align: right;\"> 15.8764</td><td style=\"text-align: right;\">-31.7855</td><td style=\"text-align: right;\"> 36.3433</td><td style=\"text-align: right;\">  3.6113</td><td style=\"text-align: right;\"> 12.4808</td><td style=\"text-align: right;\"> 21.6108</td><td style=\"text-align: right;\">  4.1448</td><td style=\"text-align: right;\">  7.3927</td><td style=\"text-align: right;\">  6.2674</td><td style=\"text-align: right;\">  3.0724</td><td style=\"text-align: right;\"> 11.6257</td><td style=\"text-align: right;\">  6.4755</td><td style=\"text-align: right;\"> 10.0001</td><td style=\"text-align: right;\">  9.1362</td><td style=\"text-align: right;\"> 13.3139</td><td style=\"text-align: right;\">-18.0895</td><td style=\"text-align: right;\"> -0.1775</td><td style=\"text-align: right;\"> -0.3974</td><td style=\"text-align: right;\">  6.7869</td><td style=\"text-align: right;\">  2.9187</td><td style=\"text-align: right;\">  4.1319</td><td style=\"text-align: right;\">  3.6984</td><td style=\"text-align: right;\">  5.0157</td><td style=\"text-align: right;\">  1.4661</td><td style=\"text-align: right;\"> 18.5359</td><td style=\"text-align: right;\">  1.1193</td><td style=\"text-align: right;\"> -2.8856</td><td style=\"text-align: right;\"> 12.7991</td><td style=\"text-align: right;\"> 42.4798</td><td style=\"text-align: right;\"> 18.4006</td><td style=\"text-align: right;\"> 16.2544</td><td style=\"text-align: right;\"> 18.0704</td><td style=\"text-align: right;\">  7.4604</td><td style=\"text-align: right;\"> 14.7145</td><td style=\"text-align: right;\">  0.2894</td><td style=\"text-align: right;\"> 14.8569</td><td style=\"text-align: right;\">  7.753 </td><td style=\"text-align: right;\">  0.4054</td><td style=\"text-align: right;\"> -0.5715</td><td style=\"text-align: right;\"> 12.0137</td><td style=\"text-align: right;\"> -1.8589</td><td style=\"text-align: right;\"> 16.1938</td><td style=\"text-align: right;\">  4.4812</td><td style=\"text-align: right;\">  2.1191</td><td style=\"text-align: right;\"> -9.9819</td><td style=\"text-align: right;\">  6.7557</td><td style=\"text-align: right;\"> 16.0403</td><td style=\"text-align: right;\"> 10.6106</td><td style=\"text-align: right;\"> 15.9417</td><td style=\"text-align: right;\">  0.3753</td><td style=\"text-align: right;\">  4.6527</td><td style=\"text-align: right;\"> 29.8431</td><td style=\"text-align: right;\">  1.7439</td><td style=\"text-align: right;\"> -0.4049</td><td style=\"text-align: right;\">  -6.631 </td><td style=\"text-align: right;\">  12.3847</td><td style=\"text-align: right;\">  15.7514</td><td style=\"text-align: right;\">   1.8678</td><td style=\"text-align: right;\">  10.2898</td><td style=\"text-align: right;\">   4.6365</td><td style=\"text-align: right;\">  11.2891</td><td style=\"text-align: right;\">  23.9502</td><td style=\"text-align: right;\">  14.3644</td><td style=\"text-align: right;\">  21.5387</td><td style=\"text-align: right;\">   8.5274</td><td style=\"text-align: right;\">   5.7185</td><td style=\"text-align: right;\">   2.988 </td><td style=\"text-align: right;\">   9.2962</td><td style=\"text-align: right;\">   1.9852</td><td style=\"text-align: right;\">   2.9761</td><td style=\"text-align: right;\">   0.4784</td><td style=\"text-align: right;\">  -1.6092</td><td style=\"text-align: right;\">   0.249 </td><td style=\"text-align: right;\">   3.1809</td><td style=\"text-align: right;\">  24.0629</td><td style=\"text-align: right;\">  13.7669</td><td style=\"text-align: right;\">   0.689 </td><td style=\"text-align: right;\">  13.9142</td><td style=\"text-align: right;\">   7.3468</td><td style=\"text-align: right;\">  12.8652</td><td style=\"text-align: right;\">  12.7353</td><td style=\"text-align: right;\">  -2.5087</td><td style=\"text-align: right;\">  -2.3019</td><td style=\"text-align: right;\">  17.8815</td><td style=\"text-align: right;\">  10.4515</td><td style=\"text-align: right;\">   1.1093</td><td style=\"text-align: right;\">   9.2075</td><td style=\"text-align: right;\">   6.8742</td><td style=\"text-align: right;\">  -6.2121</td><td style=\"text-align: right;\"> -16.4566</td><td style=\"text-align: right;\">  27.0769</td><td style=\"text-align: right;\">  21.1216</td><td style=\"text-align: right;\">   7.4044</td><td style=\"text-align: right;\">   4.4973</td><td style=\"text-align: right;\">  -0.9883</td><td style=\"text-align: right;\">  -2.2243</td><td style=\"text-align: right;\">   8.472 </td><td style=\"text-align: right;\">  11.3281</td><td style=\"text-align: right;\">   7.7581</td><td style=\"text-align: right;\">  14.3487</td><td style=\"text-align: right;\">   9.2668</td><td style=\"text-align: right;\">  -5.2689</td><td style=\"text-align: right;\">   4.0489</td><td style=\"text-align: right;\">  26.6128</td><td style=\"text-align: right;\">  12.3918</td><td style=\"text-align: right;\">   6.2836</td><td style=\"text-align: right;\">   9.3942</td><td style=\"text-align: right;\">  15.7184</td><td style=\"text-align: right;\">   5.456 </td><td style=\"text-align: right;\">   1.1374</td><td style=\"text-align: right;\">  14.9044</td><td style=\"text-align: right;\"> -14.2764</td><td style=\"text-align: right;\">  30.8145</td><td style=\"text-align: right;\">  10.2231</td><td style=\"text-align: right;\">  30.674 </td><td style=\"text-align: right;\">   5.7888</td><td style=\"text-align: right;\">   4.118 </td><td style=\"text-align: right;\">   9.1486</td><td style=\"text-align: right;\">  -5.2618</td><td style=\"text-align: right;\">  14.4422</td><td style=\"text-align: right;\">   2.6893</td><td style=\"text-align: right;\">  -9.5251</td><td style=\"text-align: right;\">   1.7455</td><td style=\"text-align: right;\">   5.9018</td><td style=\"text-align: right;\">   3.1838</td><td style=\"text-align: right;\">  -1.7865</td><td style=\"text-align: right;\">   4.9105</td><td style=\"text-align: right;\">   3.5803</td><td style=\"text-align: right;\">  32.9149</td><td style=\"text-align: right;\">  13.0201</td><td style=\"text-align: right;\">  -2.4845</td><td style=\"text-align: right;\">  11.0988</td><td style=\"text-align: right;\">   7.4609</td><td style=\"text-align: right;\">  -2.1408</td><td style=\"text-align: right;\">  -3.9172</td><td style=\"text-align: right;\">   7.7291</td><td style=\"text-align: right;\"> -11.4027</td><td style=\"text-align: right;\">   2.0696</td><td style=\"text-align: right;\">  -1.7937</td><td style=\"text-align: right;\">  -0.003 </td><td style=\"text-align: right;\">  11.5024</td><td style=\"text-align: right;\"> -18.3172</td><td style=\"text-align: right;\">  13.1403</td><td style=\"text-align: right;\">   0.7014</td><td style=\"text-align: right;\">   1.4298</td><td style=\"text-align: right;\">  14.751 </td><td style=\"text-align: right;\">   1.6395</td><td style=\"text-align: right;\">   1.4181</td><td style=\"text-align: right;\">  14.837 </td><td style=\"text-align: right;\">  -1.994 </td><td style=\"text-align: right;\">  -1.0733</td><td style=\"text-align: right;\">   8.1975</td></tr>\n",
       "<tr><td>train_9  </td><td style=\"text-align: right;\">       0</td><td style=\"text-align: right;\">12.5088</td><td style=\"text-align: right;\"> 1.9743</td><td style=\"text-align: right;\"> 8.896 </td><td style=\"text-align: right;\"> 5.4508</td><td style=\"text-align: right;\">13.6043</td><td style=\"text-align: right;\">-16.2859</td><td style=\"text-align: right;\"> 6.0637</td><td style=\"text-align: right;\">16.841 </td><td style=\"text-align: right;\"> 0.1287</td><td style=\"text-align: right;\"> 7.9682</td><td style=\"text-align: right;\">  0.8787</td><td style=\"text-align: right;\">  3.0537</td><td style=\"text-align: right;\"> 13.9639</td><td style=\"text-align: right;\">  0.8071</td><td style=\"text-align: right;\">  9.924 </td><td style=\"text-align: right;\"> 15.2659</td><td style=\"text-align: right;\"> 11.39  </td><td style=\"text-align: right;\">  1.5367</td><td style=\"text-align: right;\">  5.4649</td><td style=\"text-align: right;\"> 13.6196</td><td style=\"text-align: right;\"> 23.7806</td><td style=\"text-align: right;\">  4.4221</td><td style=\"text-align: right;\">  6.1695</td><td style=\"text-align: right;\">  3.2978</td><td style=\"text-align: right;\">  4.5923</td><td style=\"text-align: right;\"> 13.3778</td><td style=\"text-align: right;\"> -3.22  </td><td style=\"text-align: right;\"> -2.3302</td><td style=\"text-align: right;\">  6.112 </td><td style=\"text-align: right;\"> -0.0289</td><td style=\"text-align: right;\">-13.1141</td><td style=\"text-align: right;\">  9.127 </td><td style=\"text-align: right;\">  2.258 </td><td style=\"text-align: right;\"> 19.845 </td><td style=\"text-align: right;\"> 10.9237</td><td style=\"text-align: right;\">  2.4796</td><td style=\"text-align: right;\">  7.2948</td><td style=\"text-align: right;\">  5.1347</td><td style=\"text-align: right;\"> 11.5906</td><td style=\"text-align: right;\"> -0.5429</td><td style=\"text-align: right;\">-17.9593</td><td style=\"text-align: right;\">  3.847 </td><td style=\"text-align: right;\"> 11.9304</td><td style=\"text-align: right;\"> 11.9698</td><td style=\"text-align: right;\">  3.4963</td><td style=\"text-align: right;\">-39.3042</td><td style=\"text-align: right;\"> 14.4194</td><td style=\"text-align: right;\"> -9.1752</td><td style=\"text-align: right;\"> 10.31  </td><td style=\"text-align: right;\"> 15.1636</td><td style=\"text-align: right;\"> 12.726 </td><td style=\"text-align: right;\"> 14.8416</td><td style=\"text-align: right;\">  4.023 </td><td style=\"text-align: right;\">  5.9517</td><td style=\"text-align: right;\"> 10.4479</td><td style=\"text-align: right;\"> 12.5368</td><td style=\"text-align: right;\"> 18.2968</td><td style=\"text-align: right;\">  7.3065</td><td style=\"text-align: right;\"> 10.1983</td><td style=\"text-align: right;\">  8.3434</td><td style=\"text-align: right;\"> 13.5216</td><td style=\"text-align: right;\">-27.7693</td><td style=\"text-align: right;\"> -0.3455</td><td style=\"text-align: right;\">  2.8807</td><td style=\"text-align: right;\">  4.7154</td><td style=\"text-align: right;\"> -6.7308</td><td style=\"text-align: right;\">  6.125 </td><td style=\"text-align: right;\"> 21.6131</td><td style=\"text-align: right;\">  5.0257</td><td style=\"text-align: right;\"> -1.4481</td><td style=\"text-align: right;\"> 34.464 </td><td style=\"text-align: right;\">  0.9713</td><td style=\"text-align: right;\">  7.1164</td><td style=\"text-align: right;\"> 24.3013</td><td style=\"text-align: right;\"> 22.3524</td><td style=\"text-align: right;\"> 21.7572</td><td style=\"text-align: right;\"> 18.6539</td><td style=\"text-align: right;\"> 14.9513</td><td style=\"text-align: right;\">  6.824 </td><td style=\"text-align: right;\"> 17.2993</td><td style=\"text-align: right;\">  0.3744</td><td style=\"text-align: right;\"> 16.6244</td><td style=\"text-align: right;\"> -4.6693</td><td style=\"text-align: right;\"> -4.1518</td><td style=\"text-align: right;\"> -5.2838</td><td style=\"text-align: right;\"> 20.9641</td><td style=\"text-align: right;\"> -1.641 </td><td style=\"text-align: right;\"> 11.9991</td><td style=\"text-align: right;\">  6.8734</td><td style=\"text-align: right;\">  1.1525</td><td style=\"text-align: right;\"> -1.7442</td><td style=\"text-align: right;\">  7.1458</td><td style=\"text-align: right;\"> 18.3243</td><td style=\"text-align: right;\">  9.9112</td><td style=\"text-align: right;\"> 11.5548</td><td style=\"text-align: right;\"> -0.3913</td><td style=\"text-align: right;\">  8.9374</td><td style=\"text-align: right;\">-10.6731</td><td style=\"text-align: right;\">  2.2221</td><td style=\"text-align: right;\"> -3.1096</td><td style=\"text-align: right;\"> -12.3881</td><td style=\"text-align: right;\">  14.6142</td><td style=\"text-align: right;\">  27.1285</td><td style=\"text-align: right;\">   1.4879</td><td style=\"text-align: right;\">   7.561 </td><td style=\"text-align: right;\">   4.8005</td><td style=\"text-align: right;\">   6.3887</td><td style=\"text-align: right;\">  25.5165</td><td style=\"text-align: right;\">  14.0859</td><td style=\"text-align: right;\">  15.6704</td><td style=\"text-align: right;\">  -0.2992</td><td style=\"text-align: right;\">   6.6049</td><td style=\"text-align: right;\">   3.168 </td><td style=\"text-align: right;\">   9.655 </td><td style=\"text-align: right;\">   3.0773</td><td style=\"text-align: right;\">   3.4336</td><td style=\"text-align: right;\">   5.8506</td><td style=\"text-align: right;\">  28.3111</td><td style=\"text-align: right;\">  -4.4909</td><td style=\"text-align: right;\">  -2.2542</td><td style=\"text-align: right;\">  25.1828</td><td style=\"text-align: right;\">  10.8598</td><td style=\"text-align: right;\">   5.2196</td><td style=\"text-align: right;\">   0.0266</td><td style=\"text-align: right;\">   7.2126</td><td style=\"text-align: right;\">  12.4578</td><td style=\"text-align: right;\">  14.1408</td><td style=\"text-align: right;\">   5.6843</td><td style=\"text-align: right;\">   2.0829</td><td style=\"text-align: right;\">  14.7554</td><td style=\"text-align: right;\">  10.8094</td><td style=\"text-align: right;\">   0.3322</td><td style=\"text-align: right;\">   9.4819</td><td style=\"text-align: right;\">   6.9338</td><td style=\"text-align: right;\">   1.8246</td><td style=\"text-align: right;\">  10.1502</td><td style=\"text-align: right;\">  27.6996</td><td style=\"text-align: right;\">  17.1042</td><td style=\"text-align: right;\">  -7.958 </td><td style=\"text-align: right;\">   3.3289</td><td style=\"text-align: right;\">  -2.0864</td><td style=\"text-align: right;\">   6.9251</td><td style=\"text-align: right;\">  15.2416</td><td style=\"text-align: right;\">   9.2758</td><td style=\"text-align: right;\">   9.4738</td><td style=\"text-align: right;\">   5.9444</td><td style=\"text-align: right;\">   8.4279</td><td style=\"text-align: right;\"> -10.5564</td><td style=\"text-align: right;\">   3.84  </td><td style=\"text-align: right;\">   3.2398</td><td style=\"text-align: right;\">  15.0413</td><td style=\"text-align: right;\">   2.5438</td><td style=\"text-align: right;\">  12.2268</td><td style=\"text-align: right;\">  15.2896</td><td style=\"text-align: right;\">  -0.3764</td><td style=\"text-align: right;\">   0.1317</td><td style=\"text-align: right;\">  13.5117</td><td style=\"text-align: right;\">  -1.3546</td><td style=\"text-align: right;\">  14.1058</td><td style=\"text-align: right;\">   7.3503</td><td style=\"text-align: right;\">  13.7379</td><td style=\"text-align: right;\">   5.4536</td><td style=\"text-align: right;\">   6.2403</td><td style=\"text-align: right;\">  17.1668</td><td style=\"text-align: right;\">  -5.3527</td><td style=\"text-align: right;\">  14.378 </td><td style=\"text-align: right;\">   2.4139</td><td style=\"text-align: right;\">  -9.1925</td><td style=\"text-align: right;\">   2.6859</td><td style=\"text-align: right;\">   5.854 </td><td style=\"text-align: right;\">  -3.0868</td><td style=\"text-align: right;\">  -1.2558</td><td style=\"text-align: right;\">  24.2683</td><td style=\"text-align: right;\">  -4.5382</td><td style=\"text-align: right;\">  18.2209</td><td style=\"text-align: right;\">   7.5652</td><td style=\"text-align: right;\">   6.3377</td><td style=\"text-align: right;\">  14.6223</td><td style=\"text-align: right;\"> -13.896 </td><td style=\"text-align: right;\">   2.391 </td><td style=\"text-align: right;\">   2.7878</td><td style=\"text-align: right;\">  11.3457</td><td style=\"text-align: right;\">  -9.6774</td><td style=\"text-align: right;\">  10.3382</td><td style=\"text-align: right;\">  19.0645</td><td style=\"text-align: right;\">  -7.6785</td><td style=\"text-align: right;\">   6.758 </td><td style=\"text-align: right;\"> -21.607 </td><td style=\"text-align: right;\">  20.8112</td><td style=\"text-align: right;\">  -0.1873</td><td style=\"text-align: right;\">   0.5543</td><td style=\"text-align: right;\">   6.316 </td><td style=\"text-align: right;\">   1.0371</td><td style=\"text-align: right;\">   3.6885</td><td style=\"text-align: right;\">  14.8344</td><td style=\"text-align: right;\">   0.4467</td><td style=\"text-align: right;\">  14.1287</td><td style=\"text-align: right;\">   7.9133</td></tr>\n",
       "</tbody>\n",
       "</table>"
      ]
     },
     "metadata": {},
     "output_type": "display_data"
    },
    {
     "data": {
      "text/plain": []
     },
     "execution_count": 4,
     "metadata": {},
     "output_type": "execute_result"
    }
   ],
   "source": [
    "df_train.head()"
   ]
  },
  {
   "cell_type": "code",
   "execution_count": 5,
   "metadata": {},
   "outputs": [
    {
     "name": "stdout",
     "output_type": "stream",
     "text": [
      "Rows:200000\n",
      "Cols:202\n",
      "\n",
      "\n"
     ]
    },
    {
     "data": {
      "text/html": [
       "<table>\n",
       "<thead>\n",
       "<tr><th>       </th><th>ID_code  </th><th>target            </th><th>var_0             </th><th>var_1             </th><th>var_2             </th><th>var_3            </th><th>var_4             </th><th>var_5              </th><th>var_6             </th><th>var_7             </th><th>var_8             </th><th>var_9             </th><th>var_10           </th><th>var_11             </th><th>var_12             </th><th>var_13           </th><th>var_14            </th><th>var_15             </th><th>var_16            </th><th>var_17            </th><th>var_18            </th><th>var_19            </th><th>var_20            </th><th>var_21            </th><th>var_22            </th><th>var_23            </th><th>var_24            </th><th>var_25             </th><th>var_26             </th><th>var_27             </th><th>var_28            </th><th>var_29           </th><th>var_30            </th><th>var_31            </th><th>var_32           </th><th>var_33           </th><th>var_34            </th><th>var_35            </th><th>var_36            </th><th>var_37            </th><th>var_38            </th><th>var_39            </th><th>var_40            </th><th>var_41           </th><th>var_42            </th><th>var_43             </th><th>var_44            </th><th>var_45             </th><th>var_46            </th><th>var_47             </th><th>var_48            </th><th>var_49           </th><th>var_50            </th><th>var_51            </th><th>var_52             </th><th>var_53            </th><th>var_54            </th><th>var_55            </th><th>var_56            </th><th>var_57            </th><th>var_58            </th><th>var_59            </th><th>var_60            </th><th>var_61             </th><th>var_62            </th><th>var_63            </th><th>var_64            </th><th>var_65            </th><th>var_66            </th><th>var_67            </th><th>var_68              </th><th>var_69             </th><th>var_70            </th><th>var_71             </th><th>var_72            </th><th>var_73            </th><th>var_74            </th><th>var_75           </th><th>var_76           </th><th>var_77            </th><th>var_78           </th><th>var_79            </th><th>var_80           </th><th>var_81            </th><th>var_82             </th><th>var_83            </th><th>var_84             </th><th>var_85           </th><th>var_86           </th><th>var_87            </th><th>var_88            </th><th>var_89           </th><th>var_90             </th><th>var_91             </th><th>var_92            </th><th>var_93            </th><th>var_94           </th><th>var_95            </th><th>var_96           </th><th>var_97            </th><th>var_98            </th><th>var_99             </th><th>var_100           </th><th>var_101          </th><th>var_102          </th><th>var_103            </th><th>var_104           </th><th>var_105           </th><th>var_106           </th><th>var_107           </th><th>var_108            </th><th>var_109           </th><th>var_110          </th><th>var_111          </th><th>var_112           </th><th>var_113          </th><th>var_114           </th><th>var_115           </th><th>var_116           </th><th>var_117           </th><th>var_118           </th><th>var_119           </th><th>var_120           </th><th>var_121           </th><th>var_122          </th><th>var_123          </th><th>var_124           </th><th>var_125            </th><th>var_126          </th><th>var_127           </th><th>var_128            </th><th>var_129           </th><th>var_130           </th><th>var_131           </th><th>var_132           </th><th>var_133            </th><th>var_134           </th><th>var_135           </th><th>var_136           </th><th>var_137          </th><th>var_138           </th><th>var_139          </th><th>var_140          </th><th>var_141           </th><th>var_142           </th><th>var_143           </th><th>var_144          </th><th>var_145           </th><th>var_146           </th><th>var_147            </th><th>var_148            </th><th>var_149           </th><th>var_150           </th><th>var_151           </th><th>var_152           </th><th>var_153           </th><th>var_154          </th><th>var_155            </th><th>var_156           </th><th>var_157           </th><th>var_158           </th><th>var_159          </th><th>var_160           </th><th>var_161            </th><th>var_162           </th><th>var_163          </th><th>var_164            </th><th>var_165          </th><th>var_166          </th><th>var_167            </th><th>var_168          </th><th>var_169           </th><th>var_170              </th><th>var_171            </th><th>var_172          </th><th>var_173          </th><th>var_174           </th><th>var_175           </th><th>var_176           </th><th>var_177           </th><th>var_178            </th><th>var_179           </th><th>var_180          </th><th>var_181           </th><th>var_182           </th><th>var_183          </th><th>var_184           </th><th>var_185           </th><th>var_186          </th><th>var_187            </th><th>var_188           </th><th>var_189           </th><th>var_190          </th><th>var_191           </th><th>var_192           </th><th>var_193           </th><th>var_194          </th><th>var_195             </th><th>var_196          </th><th>var_197           </th><th>var_198           </th><th>var_199            </th></tr>\n",
       "</thead>\n",
       "<tbody>\n",
       "<tr><td>type   </td><td>string   </td><td>int               </td><td>real              </td><td>real              </td><td>real              </td><td>real             </td><td>real              </td><td>real               </td><td>real              </td><td>real              </td><td>real              </td><td>real              </td><td>real             </td><td>real               </td><td>real               </td><td>real             </td><td>real              </td><td>real               </td><td>real              </td><td>real              </td><td>real              </td><td>real              </td><td>real              </td><td>real              </td><td>real              </td><td>real              </td><td>real              </td><td>real               </td><td>real               </td><td>real               </td><td>real              </td><td>real             </td><td>real              </td><td>real              </td><td>real             </td><td>real             </td><td>real              </td><td>real              </td><td>real              </td><td>real              </td><td>real              </td><td>real              </td><td>real              </td><td>real             </td><td>real              </td><td>real               </td><td>real              </td><td>real               </td><td>real              </td><td>real               </td><td>real              </td><td>real             </td><td>real              </td><td>real              </td><td>real               </td><td>real              </td><td>real              </td><td>real              </td><td>real              </td><td>real              </td><td>real              </td><td>real              </td><td>real              </td><td>real               </td><td>real              </td><td>real              </td><td>real              </td><td>real              </td><td>real              </td><td>real              </td><td>real                </td><td>real               </td><td>real              </td><td>real               </td><td>real              </td><td>real              </td><td>real              </td><td>real             </td><td>real             </td><td>real              </td><td>real             </td><td>real              </td><td>real             </td><td>real              </td><td>real               </td><td>real              </td><td>real               </td><td>real             </td><td>real             </td><td>real              </td><td>real              </td><td>real             </td><td>real               </td><td>real               </td><td>real              </td><td>real              </td><td>real             </td><td>real              </td><td>real             </td><td>real              </td><td>real              </td><td>real               </td><td>real              </td><td>real             </td><td>real             </td><td>real               </td><td>real              </td><td>real              </td><td>real              </td><td>real              </td><td>real               </td><td>real              </td><td>real             </td><td>real             </td><td>real              </td><td>real             </td><td>real              </td><td>real              </td><td>real              </td><td>real              </td><td>real              </td><td>real              </td><td>real              </td><td>real              </td><td>real             </td><td>real             </td><td>real              </td><td>real               </td><td>real             </td><td>real              </td><td>real               </td><td>real              </td><td>real              </td><td>real              </td><td>real              </td><td>real               </td><td>real              </td><td>real              </td><td>real              </td><td>real             </td><td>real              </td><td>real             </td><td>real             </td><td>real              </td><td>real              </td><td>real              </td><td>real             </td><td>real              </td><td>real              </td><td>real               </td><td>real               </td><td>real              </td><td>real              </td><td>real              </td><td>real              </td><td>real              </td><td>real             </td><td>real               </td><td>real              </td><td>real              </td><td>real              </td><td>real             </td><td>real              </td><td>real               </td><td>real              </td><td>real             </td><td>real               </td><td>real             </td><td>real             </td><td>real               </td><td>real             </td><td>real              </td><td>real                 </td><td>real               </td><td>real             </td><td>real             </td><td>real              </td><td>real              </td><td>real              </td><td>real              </td><td>real               </td><td>real              </td><td>real             </td><td>real              </td><td>real              </td><td>real             </td><td>real              </td><td>real              </td><td>real             </td><td>real               </td><td>real              </td><td>real              </td><td>real             </td><td>real              </td><td>real              </td><td>real              </td><td>real             </td><td>real                </td><td>real             </td><td>real              </td><td>real              </td><td>real               </td></tr>\n",
       "<tr><td>mins   </td><td>NaN      </td><td>0.0               </td><td>0.4084            </td><td>-15.0434          </td><td>2.1171            </td><td>-0.0402          </td><td>5.0748            </td><td>-32.5626           </td><td>2.3473            </td><td>5.3497            </td><td>-10.5055          </td><td>3.9705            </td><td>-20.7313         </td><td>-26.095            </td><td>13.4346            </td><td>-6.0111          </td><td>1.0133            </td><td>13.0769            </td><td>0.6351            </td><td>-33.3802          </td><td>-10.6642          </td><td>-12.4025          </td><td>-5.4322           </td><td>-10.089           </td><td>-5.3225           </td><td>1.2098            </td><td>-0.6784           </td><td>12.72              </td><td>-24.2431           </td><td>-6.1668            </td><td>2.0896            </td><td>-4.7872          </td><td>-34.7984          </td><td>2.1406            </td><td>-8.9861          </td><td>1.5085           </td><td>9.8169            </td><td>-16.5136          </td><td>-8.0951           </td><td>-1.1834           </td><td>-6.3371           </td><td>-14.5457          </td><td>-35.2117          </td><td>-8.5359          </td><td>8.859             </td><td>10.6528            </td><td>-9.9396           </td><td>-90.2525           </td><td>1.2062            </td><td>-47.6862           </td><td>-23.9022          </td><td>-8.0707          </td><td>10.3855           </td><td>-15.0462          </td><td>-24.7214           </td><td>3.3449            </td><td>-26.7786          </td><td>-3.7826           </td><td>2.7618            </td><td>3.4423            </td><td>-12.6009          </td><td>6.184             </td><td>-2.1006           </td><td>-48.8027           </td><td>-6.3289           </td><td>-10.5544          </td><td>1.6117            </td><td>-14.0888          </td><td>1.3368            </td><td>-19.5443          </td><td>4.9938              </td><td>-16.3094           </td><td>-17.0275          </td><td>-0.224             </td><td>-12.3834          </td><td>-1.6658           </td><td>-34.1015          </td><td>-1.2936          </td><td>-21.6333         </td><td>7.4257            </td><td>-1.8183          </td><td>10.4454           </td><td>-18.0422         </td><td>7.5865            </td><td>-30.0266           </td><td>-24.2201          </td><td>-24.4398           </td><td>7.023            </td><td>-19.2722         </td><td>-8.4816           </td><td>1.3502            </td><td>-9.6014          </td><td>-61.718            </td><td>6.5218             </td><td>-1.0185           </td><td>8.4916            </td><td>2.819            </td><td>-2.4324           </td><td>-12.1584         </td><td>-21.74            </td><td>-0.6035           </td><td>-7.2806            </td><td>-39.1791          </td><td>0.0757           </td><td>-7.3829          </td><td>0.9793             </td><td>4.0846            </td><td>0.7153            </td><td>0.9424            </td><td>-5.898            </td><td>13.729             </td><td>5.7697            </td><td>-9.2398          </td><td>2.1942           </td><td>-2.0302           </td><td>-5.5139          </td><td>-0.0505           </td><td>-6.8586           </td><td>-3.163            </td><td>-31.8369          </td><td>-37.5277          </td><td>-9.7742           </td><td>-18.6962          </td><td>6.3052            </td><td>-15.194          </td><td>-12.4059         </td><td>-7.0538           </td><td>11.4861            </td><td>11.2654          </td><td>-8.8769           </td><td>-11.7559           </td><td>2.1863            </td><td>9.5283            </td><td>-0.9548           </td><td>2.89              </td><td>5.3593             </td><td>-24.2546          </td><td>-31.3808          </td><td>-9.9493           </td><td>-9.851           </td><td>-16.4684          </td><td>-21.2743         </td><td>-15.4595         </td><td>-16.6937          </td><td>-7.108            </td><td>2.8068            </td><td>5.4443           </td><td>-8.2734           </td><td>0.4274            </td><td>-29.984            </td><td>3.3205             </td><td>-41.1683          </td><td>9.242             </td><td>-2.1915           </td><td>-2.88             </td><td>11.0308           </td><td>-8.1966          </td><td>-21.8409           </td><td>9.9965            </td><td>-22.9904          </td><td>-4.5544           </td><td>-4.6416          </td><td>-7.4522           </td><td>4.8526             </td><td>0.6231            </td><td>-6.5317          </td><td>-19.9977           </td><td>3.8167           </td><td>1.8512           </td><td>-35.9695           </td><td>-5.2502          </td><td>4.2588            </td><td>-14.506              </td><td>-22.4793           </td><td>-11.4533         </td><td>-22.7487         </td><td>-2.9953           </td><td>3.2415            </td><td>-29.1165          </td><td>4.9521            </td><td>-29.2734           </td><td>-7.8561           </td><td>-22.0374         </td><td>5.4165            </td><td>-26.0011          </td><td>-4.8082          </td><td>-18.4897          </td><td>-22.5833          </td><td>-3.0223          </td><td>-47.7536           </td><td>4.4123            </td><td>-2.5543           </td><td>-14.0933         </td><td>-2.6917           </td><td>-3.8145           </td><td>-11.7834          </td><td>8.6944           </td><td>-5.261              </td><td>-14.2096         </td><td>5.9606            </td><td>6.2993            </td><td>-38.8528           </td></tr>\n",
       "<tr><td>mean   </td><td>NaN      </td><td>0.10049           </td><td>10.679914251999994</td><td>-1.627621689499999</td><td>10.715191850999995</td><td>6.796529157000003</td><td>11.078333240500008</td><td>-5.0653174934999985</td><td>5.408948681500002 </td><td>16.545849889499998</td><td>0.2841618500000002</td><td>7.567236361500002 </td><td>0.394340441      </td><td>-3.2455960885000015</td><td>14.023977798499992 </td><td>8.530232379000001</td><td>7.5376061135000025</td><td>14.573125859000005 </td><td>9.333264182500013 </td><td>-5.696731001999997</td><td>15.244013001999997</td><td>12.438567329499994</td><td>13.290894120500004</td><td>17.257882793000004</td><td>4.305430470500003 </td><td>3.0195397694999992</td><td>10.584400070500001</td><td>13.667496002999998 </td><td>-4.0551332769999995</td><td>-1.1379075224999997</td><td>5.532979580000005 </td><td>5.053873558999999</td><td>-7.687739594500002</td><td>10.393045872000004</td><td>-0.5128855335    </td><td>14.7741467185    </td><td>11.434249708000003</td><td>3.8424991539999995</td><td>2.1872295714999996</td><td>5.868899320999999 </td><td>10.642130851000003</td><td>0.6629564005000005</td><td>-6.725505203000001</td><td>9.299858001999995</td><td>11.2223560935     </td><td>11.5699539         </td><td>8.948288796499998 </td><td>-12.699666820499996</td><td>11.326487956000001</td><td>-12.471737158500005</td><td>14.704712718500003</td><td>16.68249870249999</td><td>12.740985915999994</td><td>13.428911725999999</td><td>-2.5288156160000006</td><td>6.008568799999999 </td><td>1.1371168640000007</td><td>12.745851658000005</td><td>16.629164889000013</td><td>6.272013516       </td><td>3.1776331530000004</td><td>8.9311241245      </td><td>12.155618231499997</td><td>-11.946744153999996</td><td>0.8741702704999997</td><td>0.6611733995000005</td><td>6.369157323       </td><td>0.9828914825000001</td><td>5.794038898500001 </td><td>11.943223381000001</td><td>5.018893455999999   </td><td>-3.3315150864999987</td><td>24.446811051000005</td><td>0.669755893        </td><td>0.6405532485000001</td><td>19.610887772499996</td><td>19.518845928000008</td><td>16.853731765     </td><td>6.050871453999998</td><td>19.066992556000013</td><td>5.349479312499997</td><td>14.402136341499993</td><td>5.795043557000002</td><td>14.719023858499995</td><td>-3.4712732400000013</td><td>1.0258167765000006</td><td>-2.5902087600000017</td><td>18.36272064450001</td><td>5.6210584225     </td><td>11.351483195499997</td><td>8.702923521500004 </td><td>3.7252079275     </td><td>-16.548147023999995</td><td>6.9875414695       </td><td>12.739578443000003</td><td>10.556739837000002</td><td>10.999161667     </td><td>-0.084344253      </td><td>14.400433117     </td><td>18.539644621499985</td><td>1.7520119760000008</td><td>-0.7462960344999997</td><td>-6.600518324500001</td><td>13.4135261765    </td><td>22.294908152     </td><td>1.5683925404999992 </td><td>11.509834018000001</td><td>4.244743820999993 </td><td>8.617657006000002 </td><td>17.796265547500003</td><td>14.224435356999994 </td><td>18.458001144500006</td><td>5.513238001000001</td><td>6.312602914      </td><td>3.3178433449999996</td><td>8.136541668      </td><td>3.0811911915000003</td><td>2.2137167265000013</td><td>2.4025696589999996</td><td>16.102233312999992</td><td>-5.305132363000002</td><td>3.0328485979999993</td><td>24.521077860500007</td><td>11.310591073500001</td><td>1.1929837195     </td><td>7.076253564999997</td><td>4.272740109499999 </td><td>12.489164999000002 </td><td>13.202325819     </td><td>0.851507152       </td><td>-1.1279520465000004</td><td>15.460314345499997</td><td>12.257150888500004</td><td>0.5446735374999996</td><td>7.799675918       </td><td>6.813270463        </td><td>-4.826052546000001</td><td>-4.259472163500003</td><td>22.96860160499999 </td><td>17.6136513275    </td><td>1.2107915105000013</td><td>7.760193280999999</td><td>3.423636421999999</td><td>2.8975962195000005</td><td>11.983488539999998</td><td>12.333697980500006</td><td>8.647631574999993</td><td>4.841327528499999 </td><td>10.341177893499998</td><td>-3.3007791410000005</td><td>3.990725668999999  </td><td>5.296236720000002 </td><td>16.817671237999992</td><td>10.141541544499995</td><td>7.633199000499999 </td><td>16.727902175      </td><td>6.974954836999999</td><td>-2.0741278250000015</td><td>13.209272123500007</td><td>-4.813551723000002</td><td>17.914590597499988</td><td>10.2232822765    </td><td>24.259300121      </td><td>5.633292536000002  </td><td>5.362896498500001 </td><td>11.002169658     </td><td>-2.8719062954999983</td><td>19.31575323399999</td><td>2.963335069500001</td><td>-4.1511545325000005</td><td>4.9371239655     </td><td>5.636008345000001 </td><td>-0.004962060499999997</td><td>-0.8317765935000003</td><td>19.81709382500002</td><td>-0.6779670025    </td><td>20.210676788000015</td><td>11.640612669500001</td><td>-2.799584682000001</td><td>11.882933387500008</td><td>-1.0140635940000002</td><td>2.5914436700000016</td><td>-2.7416661245    </td><td>10.085518354999994</td><td>0.7191090935000003</td><td>8.769087543499998</td><td>12.756676405999995</td><td>-3.983260696500003</td><td>8.970274164499994</td><td>-10.335042613999995</td><td>15.377174498999999</td><td>0.7460716689999998</td><td>3.234439776000001</td><td>7.4384083369999985</td><td>1.927838514       </td><td>3.3317736845000026</td><td>17.99378418299999</td><td>-0.14208843350000006</td><td>2.303335243500002</td><td>8.908157683500002 </td><td>15.870720248000003</td><td>-3.3265369005000016</td></tr>\n",
       "<tr><td>maxs   </td><td>NaN      </td><td>1.0               </td><td>20.315            </td><td>10.3768           </td><td>19.353            </td><td>13.1883          </td><td>16.6714           </td><td>17.2516            </td><td>8.4477            </td><td>27.6918           </td><td>10.1513           </td><td>11.1506           </td><td>18.6702          </td><td>17.1887            </td><td>14.6545            </td><td>22.3315          </td><td>14.9377           </td><td>15.8633            </td><td>17.9506           </td><td>19.0259           </td><td>41.748            </td><td>35.183            </td><td>31.2859           </td><td>49.0443           </td><td>14.5945           </td><td>4.8752            </td><td>25.446            </td><td>14.6546            </td><td>15.6751            </td><td>3.2431             </td><td>8.7874            </td><td>13.1431          </td><td>15.6515           </td><td>20.1719           </td><td>6.7871           </td><td>29.5466          </td><td>13.2878           </td><td>21.5289           </td><td>14.2456           </td><td>11.8638           </td><td>29.8235           </td><td>15.3223           </td><td>18.1056           </td><td>26.1658          </td><td>13.4696           </td><td>12.5779            </td><td>34.1961           </td><td>62.0844            </td><td>21.2939           </td><td>20.6854            </td><td>54.2738           </td><td>41.153           </td><td>15.3172           </td><td>40.689            </td><td>17.0968            </td><td>8.2315            </td><td>28.5724           </td><td>29.0921           </td><td>29.0741           </td><td>9.1609            </td><td>20.4833           </td><td>11.9867           </td><td>25.1955           </td><td>27.1029            </td><td>7.7536            </td><td>11.2317           </td><td>11.1537           </td><td>15.7313           </td><td>9.7132            </td><td>39.3968           </td><td>5.0469              </td><td>8.5473             </td><td>64.4644           </td><td>1.5719             </td><td>14.15             </td><td>44.5361           </td><td>70.272            </td><td>36.1567          </td><td>34.4352          </td><td>30.9569           </td><td>11.3507          </td><td>18.2256           </td><td>30.4769          </td><td>23.1324           </td><td>21.8934            </td><td>27.7143           </td><td>17.7424            </td><td>32.9011          </td><td>34.5637          </td><td>33.3541           </td><td>17.4594           </td><td>15.4816          </td><td>27.2713            </td><td>7.4895             </td><td>26.9976           </td><td>12.5343           </td><td>18.975           </td><td>1.804             </td><td>40.8806          </td><td>58.2879           </td><td>4.5028            </td><td>5.0764             </td><td>25.1409           </td><td>28.4594          </td><td>51.3265          </td><td>2.1887             </td><td>19.0206           </td><td>7.1692            </td><td>15.3074           </td><td>46.3795           </td><td>14.743             </td><td>32.0591           </td><td>19.5193          </td><td>9.8002           </td><td>8.4317            </td><td>21.5421          </td><td>6.585             </td><td>11.9504           </td><td>8.1207            </td><td>64.8109           </td><td>25.2635           </td><td>15.6885           </td><td>74.0321           </td><td>17.3074           </td><td>18.4714          </td><td>26.8749          </td><td>14.9915           </td><td>13.6642            </td><td>15.5156          </td><td>10.5976           </td><td>9.8096             </td><td>31.2036           </td><td>14.9895           </td><td>2.1923            </td><td>12.465            </td><td>8.3091             </td><td>12.7236           </td><td>21.4128           </td><td>54.5794           </td><td>44.4376          </td><td>18.8187           </td><td>36.0971          </td><td>21.1219          </td><td>23.9658           </td><td>32.8911           </td><td>22.6916           </td><td>11.8101          </td><td>16.0083           </td><td>20.4373           </td><td>22.1494            </td><td>4.7528             </td><td>48.424            </td><td>25.4357           </td><td>21.1245           </td><td>18.3846           </td><td>24.0075           </td><td>23.2428          </td><td>16.8316            </td><td>16.497            </td><td>11.9721           </td><td>44.7795           </td><td>25.12            </td><td>58.3942           </td><td>6.3099             </td><td>10.1344           </td><td>27.5648          </td><td>12.1193            </td><td>38.3322          </td><td>4.2204           </td><td>21.2766            </td><td>14.8861          </td><td>7.089             </td><td>16.7319              </td><td>17.9173            </td><td>53.5919          </td><td>18.8554          </td><td>43.5468           </td><td>20.8548           </td><td>20.2452           </td><td>20.5965           </td><td>29.8413            </td><td>13.4487           </td><td>12.7505          </td><td>14.3939           </td><td>29.2487           </td><td>23.7049          </td><td>44.3634           </td><td>12.9975           </td><td>21.7392          </td><td>22.7861            </td><td>29.3303           </td><td>4.0341            </td><td>18.4409          </td><td>16.7165           </td><td>8.4024            </td><td>18.2818           </td><td>27.9288          </td><td>4.2729              </td><td>18.3215          </td><td>12.0004           </td><td>26.0791           </td><td>28.5007            </td></tr>\n",
       "<tr><td>sigma  </td><td>NaN      </td><td>0.3006529758060933</td><td>3.0400508706688205</td><td>4.0500441899549955</td><td>2.6408941917999034</td><td>2.043319016359727</td><td>1.6231495339368356</td><td>7.86326668347672   </td><td>0.8666072662169012</td><td>3.4180755789371458</td><td>3.3326335367175806</td><td>1.2350699252999378</td><td>5.500793007191904</td><td>5.970253095505382  </td><td>0.19005923307538578</td><td>4.639535502007196</td><td>2.24790824505765  </td><td>0.41171142186376924</td><td>2.5574209936662657</td><td>6.712612437614569 </td><td>7.851370241294043 </td><td>7.9966938083649   </td><td>5.876253905644905 </td><td>8.196563646022817 </td><td>2.8479579398264883</td><td>0.5268934534183294</td><td>3.7772452295430945</td><td>0.28553546188262496</td><td>5.922209781187778  </td><td>1.5237142257081442 </td><td>0.7833672777788736</td><td>2.61594151022476 </td><td>7.96519822526348  </td><td>2.159890604109307 </td><td>2.587829544130026</td><td>4.322324785505144</td><td>0.5416141965490788</td><td>5.179558998997716 </td><td>3.119977835319595 </td><td>2.2497298774487455</td><td>4.2789028350258524</td><td>4.068844666306767 </td><td>8.279259190079935 </td><td>5.938087593002798</td><td>0.6959910936128283</td><td>0.30959942375205723</td><td>5.9030729557361505</td><td>21.40491154467724  </td><td>2.8605106499241764</td><td>10.57986152891264  </td><td>11.384331762580281</td><td>7.855762488129566</td><td>0.6917090672488032</td><td>8.18730589976899  </td><td>4.985532259550156  </td><td>0.7647529817394472</td><td>8.414241118728755 </td><td>5.690072147133703 </td><td>3.54017388156734  </td><td>0.7950261413770904</td><td>4.29668591697286  </td><td>0.8547981603289942</td><td>4.222389230283813 </td><td>11.62294817404791  </td><td>2.0262375495845113</td><td>3.1130890250495975</td><td>1.4858537950937423</td><td>3.786493447947925 </td><td>1.1213655498134132</td><td>7.365115208890986 </td><td>0.007186267883143138</td><td>3.9557227549353255 </td><td>11.951741643446276</td><td>0.26669612131408693</td><td>3.9447028314273545</td><td>7.466303345873334 </td><td>14.112590694715584</td><td>6.055321599453868</td><td>7.938351253194237</td><td>3.8172924643985398</td><td>1.993792094754907</td><td>1.3090548713055639</td><td>7.436736764659685</td><td>2.299567114776453 </td><td>8.47925519366483   </td><td>8.29722908705555  </td><td>6.22530548715494   </td><td>3.908535978882623</td><td>7.751142048095922</td><td>5.66186704162101  </td><td>2.4914600357447916</td><td>3.560553513911543</td><td>13.152809532259242 </td><td>0.15264066174512173</td><td>4.186251603047781 </td><td>0.5433410941699849</td><td>2.768098548404147</td><td>0.6211252898563223</td><td>8.525399871814495</td><td>12.64238210273121 </td><td>0.7158356568690986</td><td>1.8625496145558529 </td><td>9.18168275788983  </td><td>4.950537095273107</td><td>8.628179372802858</td><td>0.18501954777285334</td><td>1.9705195374905358</td><td>0.8556979951771035</td><td>1.8948986470197893</td><td>7.604722770470249 </td><td>0.17109118336970983</td><td>4.35503102896825  </td><td>3.823253499306621</td><td>1.082404009148203</td><td>1.59116970121631  </td><td>4.459077297199588</td><td>0.9853961797001826</td><td>2.6218511876950266</td><td>1.6509121203187858</td><td>13.297662296617744</td><td>8.79926814020305  </td><td>4.182795770746564 </td><td>12.121015905421164</td><td>1.7144163459822428</td><td>5.168478732850513</td><td>6.147344702482957</td><td>2.7368213683830533</td><td>0.31810008947399665</td><td>0.776055505335228</td><td>3.1376836409176594</td><td>3.238042738716555  </td><td>4.136452521034233 </td><td>0.8321990591552486</td><td>0.4562802634704687</td><td>1.4564861815122183</td><td>0.37560349529043785</td><td>6.166125904940734 </td><td>7.617732400026948 </td><td>10.382235181447564</td><td>8.890515551770276</td><td>4.551749924661015 </td><td>7.686433041484963</td><td>4.89632504905111 </td><td>6.7156372677817116</td><td>5.691935669745489 </td><td>2.9347060178775024</td><td>0.922468601962976</td><td>3.8992813082254436</td><td>2.518883059400275 </td><td>7.413301164524478  </td><td>0.19919248665382974</td><td>10.385132666379635</td><td>2.4641573265531154</td><td>3.962425736723353 </td><td>3.0053733060295826</td><td>2.0142004028560523</td><td>4.961677521622133</td><td>5.7712609794470415 </td><td>0.9551402382737438</td><td>5.570271898728065 </td><td>7.885579046704688 </td><td>4.122911757583157</td><td>10.880262606838578</td><td>0.21793832443527456</td><td>1.4196122766203696</td><td>5.262055707897849</td><td>5.457784265798272  </td><td>5.02418233848727 </td><td>0.369684483631471</td><td>7.798020114795948  </td><td>3.105986068834277</td><td>0.3694369147251405</td><td>4.424620831386272    </td><td>5.378008476599145  </td><td>8.674170633042966</td><td>5.966674135196559</td><td>7.136426608066092 </td><td>2.8921671725989335</td><td>7.513939064483401 </td><td>2.628894617727569 </td><td>8.579810237462068  </td><td>2.798956388353639 </td><td>5.261242673760208</td><td>1.3718623281231723</td><td>8.96343406312899  </td><td>4.474923935994571</td><td>9.318280283336756 </td><td>4.725166882587792 </td><td>3.189759437944456</td><td>11.574707800290485 </td><td>3.9446042819514853</td><td>0.9763478794032191</td><td>4.559921679910732</td><td>3.0232717947239407</td><td>1.4784228923366325</td><td>3.992030367901831 </td><td>3.13516199642665 </td><td>1.4293723644083958  </td><td>5.454369250069261</td><td>0.9216254844938546</td><td>3.010945491221765 </td><td>10.438015107352703 </td></tr>\n",
       "<tr><td>zeros  </td><td>0        </td><td>179902            </td><td>0                 </td><td>1                 </td><td>0                 </td><td>0                </td><td>0                 </td><td>3                  </td><td>0                 </td><td>0                 </td><td>1                 </td><td>0                 </td><td>1                </td><td>2                  </td><td>0                  </td><td>0                </td><td>0                 </td><td>0                  </td><td>0                 </td><td>2                 </td><td>0                 </td><td>0                 </td><td>0                 </td><td>0                 </td><td>2                 </td><td>0                 </td><td>0                 </td><td>0                  </td><td>1                  </td><td>5                  </td><td>0                 </td><td>0                </td><td>2                 </td><td>0                 </td><td>2                </td><td>0                </td><td>0                 </td><td>2                 </td><td>1                 </td><td>0                 </td><td>0                 </td><td>2                 </td><td>0                 </td><td>0                </td><td>0                 </td><td>0                  </td><td>0                 </td><td>0                  </td><td>0                 </td><td>0                  </td><td>0                 </td><td>0                </td><td>0                 </td><td>0                 </td><td>2                  </td><td>0                 </td><td>0                 </td><td>0                 </td><td>0                 </td><td>0                 </td><td>4                 </td><td>0                 </td><td>0                 </td><td>1                  </td><td>3                 </td><td>1                 </td><td>0                 </td><td>0                 </td><td>0                 </td><td>0                 </td><td>0                   </td><td>2                  </td><td>0                 </td><td>1                  </td><td>2                 </td><td>0                 </td><td>0                 </td><td>0                </td><td>2                </td><td>0                 </td><td>0                </td><td>0                 </td><td>0                </td><td>0                 </td><td>0                  </td><td>1                 </td><td>1                  </td><td>0                </td><td>1                </td><td>0                 </td><td>0                 </td><td>0                </td><td>0                  </td><td>0                  </td><td>0                 </td><td>0                 </td><td>0                </td><td>12                </td><td>0                </td><td>0                 </td><td>1                 </td><td>5                  </td><td>1                 </td><td>0                </td><td>0                </td><td>0                  </td><td>0                 </td><td>0                 </td><td>0                 </td><td>0                 </td><td>0                  </td><td>0                 </td><td>0                </td><td>0                </td><td>0                 </td><td>0                </td><td>0                 </td><td>1                 </td><td>2                 </td><td>0                 </td><td>0                 </td><td>1                 </td><td>0                 </td><td>0                 </td><td>2                </td><td>0                </td><td>1                 </td><td>0                  </td><td>0                </td><td>2                 </td><td>1                  </td><td>0                 </td><td>0                 </td><td>15                </td><td>0                 </td><td>0                  </td><td>3                 </td><td>0                 </td><td>0                 </td><td>0                </td><td>4                 </td><td>0                </td><td>0                </td><td>2                 </td><td>0                 </td><td>0                 </td><td>0                </td><td>1                 </td><td>0                 </td><td>3                  </td><td>0                  </td><td>0                 </td><td>0                 </td><td>0                 </td><td>0                 </td><td>0                 </td><td>1                </td><td>2                  </td><td>0                 </td><td>2                 </td><td>0                 </td><td>0                </td><td>0                 </td><td>0                  </td><td>0                 </td><td>0                </td><td>0                  </td><td>0                </td><td>0                </td><td>2                  </td><td>0                </td><td>0                 </td><td>5                    </td><td>1                  </td><td>0                </td><td>1                </td><td>0                 </td><td>0                 </td><td>0                 </td><td>0                 </td><td>2                  </td><td>5                 </td><td>1                </td><td>0                 </td><td>2                 </td><td>0                </td><td>2                 </td><td>0                 </td><td>0                </td><td>1                  </td><td>0                 </td><td>3                 </td><td>1                </td><td>0                 </td><td>3                 </td><td>0                 </td><td>0                </td><td>2                   </td><td>1                </td><td>0                 </td><td>0                 </td><td>3                  </td></tr>\n",
       "<tr><td>missing</td><td>0        </td><td>0                 </td><td>0                 </td><td>0                 </td><td>0                 </td><td>0                </td><td>0                 </td><td>0                  </td><td>0                 </td><td>0                 </td><td>0                 </td><td>0                 </td><td>0                </td><td>0                  </td><td>0                  </td><td>0                </td><td>0                 </td><td>0                  </td><td>0                 </td><td>0                 </td><td>0                 </td><td>0                 </td><td>0                 </td><td>0                 </td><td>0                 </td><td>0                 </td><td>0                 </td><td>0                  </td><td>0                  </td><td>0                  </td><td>0                 </td><td>0                </td><td>0                 </td><td>0                 </td><td>0                </td><td>0                </td><td>0                 </td><td>0                 </td><td>0                 </td><td>0                 </td><td>0                 </td><td>0                 </td><td>0                 </td><td>0                </td><td>0                 </td><td>0                  </td><td>0                 </td><td>0                  </td><td>0                 </td><td>0                  </td><td>0                 </td><td>0                </td><td>0                 </td><td>0                 </td><td>0                  </td><td>0                 </td><td>0                 </td><td>0                 </td><td>0                 </td><td>0                 </td><td>0                 </td><td>0                 </td><td>0                 </td><td>0                  </td><td>0                 </td><td>0                 </td><td>0                 </td><td>0                 </td><td>0                 </td><td>0                 </td><td>0                   </td><td>0                  </td><td>0                 </td><td>0                  </td><td>0                 </td><td>0                 </td><td>0                 </td><td>0                </td><td>0                </td><td>0                 </td><td>0                </td><td>0                 </td><td>0                </td><td>0                 </td><td>0                  </td><td>0                 </td><td>0                  </td><td>0                </td><td>0                </td><td>0                 </td><td>0                 </td><td>0                </td><td>0                  </td><td>0                  </td><td>0                 </td><td>0                 </td><td>0                </td><td>0                 </td><td>0                </td><td>0                 </td><td>0                 </td><td>0                  </td><td>0                 </td><td>0                </td><td>0                </td><td>0                  </td><td>0                 </td><td>0                 </td><td>0                 </td><td>0                 </td><td>0                  </td><td>0                 </td><td>0                </td><td>0                </td><td>0                 </td><td>0                </td><td>0                 </td><td>0                 </td><td>0                 </td><td>0                 </td><td>0                 </td><td>0                 </td><td>0                 </td><td>0                 </td><td>0                </td><td>0                </td><td>0                 </td><td>0                  </td><td>0                </td><td>0                 </td><td>0                  </td><td>0                 </td><td>0                 </td><td>0                 </td><td>0                 </td><td>0                  </td><td>0                 </td><td>0                 </td><td>0                 </td><td>0                </td><td>0                 </td><td>0                </td><td>0                </td><td>0                 </td><td>0                 </td><td>0                 </td><td>0                </td><td>0                 </td><td>0                 </td><td>0                  </td><td>0                  </td><td>0                 </td><td>0                 </td><td>0                 </td><td>0                 </td><td>0                 </td><td>0                </td><td>0                  </td><td>0                 </td><td>0                 </td><td>0                 </td><td>0                </td><td>0                 </td><td>0                  </td><td>0                 </td><td>0                </td><td>0                  </td><td>0                </td><td>0                </td><td>0                  </td><td>0                </td><td>0                 </td><td>0                    </td><td>0                  </td><td>0                </td><td>0                </td><td>0                 </td><td>0                 </td><td>0                 </td><td>0                 </td><td>0                  </td><td>0                 </td><td>0                </td><td>0                 </td><td>0                 </td><td>0                </td><td>0                 </td><td>0                 </td><td>0                </td><td>0                  </td><td>0                 </td><td>0                 </td><td>0                </td><td>0                 </td><td>0                 </td><td>0                 </td><td>0                </td><td>0                   </td><td>0                </td><td>0                 </td><td>0                 </td><td>0                  </td></tr>\n",
       "<tr><td>0      </td><td>train_0  </td><td>0.0               </td><td>8.9255            </td><td>-6.7863           </td><td>11.9081           </td><td>5.093            </td><td>11.4607           </td><td>-9.2834            </td><td>5.1187            </td><td>18.6266           </td><td>-4.92             </td><td>5.747             </td><td>2.9252           </td><td>3.1821             </td><td>14.0137            </td><td>0.5745           </td><td>8.7989            </td><td>14.5691            </td><td>5.7487            </td><td>-7.2393           </td><td>4.284             </td><td>30.7133           </td><td>10.535            </td><td>16.2191           </td><td>2.5791            </td><td>2.4716            </td><td>14.3831           </td><td>13.4325            </td><td>-5.1488            </td><td>-0.4073            </td><td>4.9306            </td><td>5.9965           </td><td>-0.3085           </td><td>12.9041           </td><td>-3.8766          </td><td>16.8911          </td><td>11.192            </td><td>10.5785           </td><td>0.6764            </td><td>7.8871            </td><td>4.6667            </td><td>3.8743            </td><td>-5.2387           </td><td>7.3746           </td><td>11.5767           </td><td>12.0446            </td><td>11.6418           </td><td>-7.017             </td><td>5.9226            </td><td>-14.2136           </td><td>16.0283           </td><td>5.3253           </td><td>12.9194           </td><td>29.046            </td><td>-0.694             </td><td>5.1736            </td><td>-0.7474           </td><td>14.8322           </td><td>11.2668           </td><td>5.3822            </td><td>2.0183            </td><td>10.1166           </td><td>16.1828           </td><td>4.959              </td><td>2.0771            </td><td>-0.2154           </td><td>8.6748            </td><td>9.5319            </td><td>5.8056            </td><td>22.4321           </td><td>5.0109              </td><td>-4.701             </td><td>21.6374           </td><td>0.5663             </td><td>5.1999            </td><td>8.86              </td><td>43.1127           </td><td>18.3816          </td><td>-2.344           </td><td>23.4104           </td><td>6.5199           </td><td>12.1983           </td><td>13.6468          </td><td>13.8372           </td><td>1.3675             </td><td>2.9423            </td><td>-4.5213            </td><td>21.4669          </td><td>9.3225           </td><td>16.4597           </td><td>7.9984            </td><td>-1.7069          </td><td>-21.4494           </td><td>6.7806             </td><td>11.0924           </td><td>9.9913            </td><td>14.8421          </td><td>0.1812            </td><td>8.9642           </td><td>16.2572           </td><td>2.1743            </td><td>-3.4132            </td><td>9.4763            </td><td>13.3102          </td><td>26.5376          </td><td>1.4403             </td><td>14.71             </td><td>6.0454            </td><td>9.5426            </td><td>17.1554           </td><td>14.1104            </td><td>24.3627           </td><td>2.0323           </td><td>6.7602           </td><td>3.9141            </td><td>-0.4851          </td><td>2.524             </td><td>1.5093            </td><td>2.5516            </td><td>15.5752           </td><td>-13.4221          </td><td>7.2739            </td><td>16.0094           </td><td>9.7268            </td><td>0.8897           </td><td>0.7754           </td><td>4.2218            </td><td>12.0039            </td><td>13.8571          </td><td>-0.7338           </td><td>-1.9245            </td><td>15.4462           </td><td>12.8287           </td><td>0.3587            </td><td>9.6508            </td><td>6.5674             </td><td>5.1726            </td><td>3.1345            </td><td>29.4547           </td><td>31.4045          </td><td>2.8279            </td><td>15.6599          </td><td>8.3307           </td><td>-5.6011           </td><td>19.0614           </td><td>11.2663           </td><td>8.6989           </td><td>8.3694            </td><td>11.5659           </td><td>-16.4727           </td><td>4.0288             </td><td>17.9244           </td><td>18.5177           </td><td>10.78             </td><td>9.0056            </td><td>16.6964           </td><td>10.4838          </td><td>1.6573             </td><td>12.1749           </td><td>-13.1324          </td><td>17.6054           </td><td>11.5423          </td><td>15.4576           </td><td>5.3133             </td><td>3.6159            </td><td>5.0384           </td><td>6.676              </td><td>12.6644          </td><td>2.7004           </td><td>-0.6975            </td><td>9.5981           </td><td>5.4879            </td><td>-4.7645              </td><td>-8.4254            </td><td>20.8773          </td><td>3.1531           </td><td>18.5618           </td><td>7.7423            </td><td>-10.1245          </td><td>13.7241           </td><td>-3.5189            </td><td>1.7202            </td><td>-8.4051          </td><td>9.0164            </td><td>3.0657            </td><td>14.3691          </td><td>25.8398           </td><td>5.8764            </td><td>11.8411          </td><td>-19.7159           </td><td>17.5743           </td><td>0.5857            </td><td>4.4354           </td><td>3.9642            </td><td>3.1364            </td><td>1.691             </td><td>18.5227          </td><td>-2.3978             </td><td>7.8784           </td><td>8.5635            </td><td>12.7803           </td><td>-1.0914            </td></tr>\n",
       "<tr><td>1      </td><td>train_1  </td><td>0.0               </td><td>11.5006           </td><td>-4.1473           </td><td>13.8588           </td><td>5.389            </td><td>12.3622           </td><td>7.0433             </td><td>5.6208            </td><td>16.5338           </td><td>3.1468            </td><td>8.0851            </td><td>-0.4032          </td><td>8.0585             </td><td>14.0239            </td><td>8.4135           </td><td>5.4345            </td><td>13.7003            </td><td>13.8275           </td><td>-15.5849          </td><td>7.8               </td><td>28.5708           </td><td>3.4287            </td><td>2.7407            </td><td>8.5524            </td><td>3.3716            </td><td>6.9779            </td><td>13.891             </td><td>-11.7684           </td><td>-2.5586            </td><td>5.0464            </td><td>0.5481           </td><td>-9.2987           </td><td>7.8755            </td><td>1.2859           </td><td>19.371           </td><td>11.3702           </td><td>0.7399            </td><td>2.7995            </td><td>5.8434            </td><td>10.816            </td><td>3.6783            </td><td>-11.1147          </td><td>1.873            </td><td>9.8775            </td><td>11.7842            </td><td>1.2444            </td><td>-47.3797           </td><td>7.3718            </td><td>0.1948             </td><td>34.4014           </td><td>25.7037          </td><td>11.8343           </td><td>13.2256           </td><td>-4.1083            </td><td>6.6885            </td><td>-8.0946           </td><td>18.5995           </td><td>19.3219           </td><td>7.0118            </td><td>1.921             </td><td>8.8682            </td><td>8.0109            </td><td>-7.2417            </td><td>1.7944            </td><td>-1.3147           </td><td>8.1042            </td><td>1.5365            </td><td>5.4007            </td><td>7.9344            </td><td>5.022               </td><td>2.2302             </td><td>40.5632           </td><td>0.5134             </td><td>3.1701            </td><td>20.1068           </td><td>7.7841            </td><td>7.0529           </td><td>3.2709           </td><td>23.4822           </td><td>5.5075           </td><td>13.7814           </td><td>2.5462           </td><td>18.1782           </td><td>0.3683             </td><td>-4.821            </td><td>-5.485             </td><td>13.7867          </td><td>-13.5901         </td><td>11.0993           </td><td>7.9022            </td><td>12.2301          </td><td>0.4768             </td><td>6.8852             </td><td>8.0905            </td><td>10.9631           </td><td>11.7569          </td><td>-1.2722           </td><td>24.7876          </td><td>26.6881           </td><td>1.8944            </td><td>0.6939             </td><td>-13.695           </td><td>8.4068           </td><td>35.4734          </td><td>1.7093             </td><td>15.1866           </td><td>2.6227            </td><td>7.3412            </td><td>32.0888           </td><td>13.955             </td><td>13.0858           </td><td>6.6203           </td><td>7.1051           </td><td>5.3523            </td><td>8.5426           </td><td>3.6159            </td><td>4.1569            </td><td>3.0454            </td><td>7.8522            </td><td>-11.51            </td><td>7.5109            </td><td>31.5899           </td><td>9.5018            </td><td>8.2736           </td><td>10.1633          </td><td>0.1225            </td><td>12.5942            </td><td>14.5697          </td><td>2.4354            </td><td>0.8194             </td><td>16.5346           </td><td>12.4205           </td><td>-0.178            </td><td>5.7582            </td><td>7.0513             </td><td>1.9568            </td><td>-8.9921           </td><td>9.7797            </td><td>18.1577          </td><td>-1.9721           </td><td>16.1622          </td><td>3.6937           </td><td>6.6803            </td><td>-0.3243           </td><td>12.2806           </td><td>8.6086           </td><td>11.0738           </td><td>8.9231            </td><td>11.77              </td><td>4.2578             </td><td>-4.4223           </td><td>20.6294           </td><td>14.8743           </td><td>9.4317            </td><td>16.7242           </td><td>-0.5687          </td><td>0.1898             </td><td>12.2419           </td><td>-9.6953           </td><td>22.3949           </td><td>10.6261          </td><td>29.4846           </td><td>5.8683             </td><td>3.8208            </td><td>15.8348          </td><td>-5.0121            </td><td>15.1345          </td><td>3.2003           </td><td>9.3192             </td><td>3.8821           </td><td>5.7999            </td><td>5.5378               </td><td>5.0988             </td><td>22.033           </td><td>5.5134           </td><td>30.2645           </td><td>10.4968           </td><td>-7.2352           </td><td>16.5721           </td><td>-7.3477            </td><td>11.0752           </td><td>-5.5937          </td><td>9.4878            </td><td>-14.91            </td><td>9.4245           </td><td>22.5441           </td><td>-4.8622           </td><td>7.6543           </td><td>-15.9319           </td><td>13.3175           </td><td>-0.3566           </td><td>7.6421           </td><td>7.7214            </td><td>2.5837            </td><td>10.9516           </td><td>15.4305          </td><td>2.0339              </td><td>8.1267           </td><td>8.7889            </td><td>18.356            </td><td>1.9518             </td></tr>\n",
       "<tr><td>2      </td><td>train_2  </td><td>0.0               </td><td>8.6093            </td><td>-2.7457           </td><td>12.0805           </td><td>7.8928           </td><td>10.5825           </td><td>-9.0837            </td><td>6.9427            </td><td>14.6155           </td><td>-4.9193           </td><td>5.9525            </td><td>-0.3249          </td><td>-11.2648           </td><td>14.1929            </td><td>7.3124           </td><td>7.5244            </td><td>14.6472            </td><td>7.6782            </td><td>-1.7395           </td><td>4.7011            </td><td>20.4775           </td><td>17.7559           </td><td>18.1377           </td><td>1.2145            </td><td>3.5137            </td><td>5.6777            </td><td>13.2177            </td><td>-7.994             </td><td>-2.9029            </td><td>5.8463            </td><td>6.1439           </td><td>-11.1025          </td><td>12.4858           </td><td>-2.2871          </td><td>19.0422          </td><td>11.0449           </td><td>4.1087            </td><td>4.6974            </td><td>6.9346            </td><td>10.8917           </td><td>0.9003            </td><td>-13.5174          </td><td>2.2439           </td><td>11.5283           </td><td>12.0406            </td><td>4.1006            </td><td>-7.9078            </td><td>11.1405           </td><td>-5.7864            </td><td>20.7477           </td><td>6.8874           </td><td>12.9143           </td><td>19.5856           </td><td>0.7268             </td><td>6.4059            </td><td>9.3124            </td><td>6.2846            </td><td>15.6372           </td><td>5.82              </td><td>1.1               </td><td>9.1854            </td><td>12.5963           </td><td>-10.3734           </td><td>0.8748            </td><td>5.8042            </td><td>3.7163            </td><td>-1.1016           </td><td>7.3667            </td><td>9.8565            </td><td>5.0228              </td><td>-5.7828            </td><td>2.3612            </td><td>0.852              </td><td>6.3577            </td><td>12.1719           </td><td>19.7312           </td><td>19.4465          </td><td>4.5048           </td><td>23.2378           </td><td>6.3191           </td><td>12.8046           </td><td>7.4729           </td><td>15.7811           </td><td>13.3529            </td><td>10.1852           </td><td>5.4604             </td><td>19.0773          </td><td>-4.4577          </td><td>9.5413            </td><td>11.9052           </td><td>2.1447           </td><td>-22.4038           </td><td>7.0883             </td><td>14.1613           </td><td>10.508            </td><td>14.2621          </td><td>0.2647            </td><td>20.4031          </td><td>17.036            </td><td>1.6981            </td><td>-0.0269            </td><td>-0.3939           </td><td>12.6317          </td><td>14.8863          </td><td>1.3854             </td><td>15.0284           </td><td>3.9995            </td><td>5.3683            </td><td>8.6273            </td><td>14.1963            </td><td>20.3882           </td><td>3.2304           </td><td>5.7033           </td><td>4.5255            </td><td>2.1929           </td><td>3.129             </td><td>2.9044            </td><td>1.1696            </td><td>28.7632           </td><td>-17.2738          </td><td>2.1056            </td><td>21.1613           </td><td>8.9573            </td><td>2.7768           </td><td>-2.1746          </td><td>3.6932            </td><td>12.4653            </td><td>14.1978          </td><td>-2.5511           </td><td>-0.9479            </td><td>17.1092           </td><td>11.5419           </td><td>0.0975            </td><td>8.8186            </td><td>6.6231             </td><td>3.9358            </td><td>-11.7218          </td><td>24.5437           </td><td>15.5827          </td><td>3.8212            </td><td>8.6674           </td><td>7.3834           </td><td>-2.4438           </td><td>10.2158           </td><td>7.4844            </td><td>9.1104           </td><td>4.3649            </td><td>11.4934           </td><td>1.7624             </td><td>4.0714             </td><td>-1.2681           </td><td>14.333            </td><td>8.0088            </td><td>4.4015            </td><td>14.1479           </td><td>-5.1747          </td><td>0.5778             </td><td>14.5362           </td><td>-1.7624           </td><td>33.882            </td><td>11.6041          </td><td>13.207            </td><td>5.8442             </td><td>4.7086            </td><td>5.7141           </td><td>-1.041             </td><td>20.5092          </td><td>3.279            </td><td>-5.5952            </td><td>7.3176           </td><td>5.769             </td><td>-7.0927              </td><td>-3.9116            </td><td>7.2569           </td><td>-5.8234          </td><td>25.682            </td><td>10.9202           </td><td>-0.3104           </td><td>8.8438            </td><td>-9.7009            </td><td>2.4013            </td><td>-4.2935          </td><td>9.3908            </td><td>-13.2648          </td><td>3.1545           </td><td>23.0866           </td><td>-5.3              </td><td>5.3745           </td><td>-6.266             </td><td>10.1934           </td><td>-0.8417           </td><td>2.9057           </td><td>9.7905            </td><td>1.6704            </td><td>1.6858            </td><td>21.6042          </td><td>3.1417              </td><td>-6.5213          </td><td>8.2675            </td><td>14.7222           </td><td>0.3965             </td></tr>\n",
       "<tr><td>3      </td><td>train_3  </td><td>0.0               </td><td>11.0604           </td><td>-2.1518           </td><td>8.9522            </td><td>7.1957           </td><td>12.5846           </td><td>-1.8361            </td><td>5.8428            </td><td>14.925            </td><td>-5.8609           </td><td>8.245             </td><td>2.3061           </td><td>2.8102             </td><td>13.8463            </td><td>11.9704          </td><td>6.4569            </td><td>14.8372            </td><td>10.743            </td><td>-0.4299           </td><td>15.9426           </td><td>13.7257           </td><td>20.301            </td><td>12.5579           </td><td>6.8202            </td><td>2.7229            </td><td>12.1354           </td><td>13.7367            </td><td>0.8135             </td><td>-0.9059            </td><td>5.907             </td><td>2.8407           </td><td>-15.2398          </td><td>10.4407           </td><td>-2.5731          </td><td>6.1796           </td><td>10.6093           </td><td>-5.9158           </td><td>8.1723            </td><td>2.8521            </td><td>9.1738            </td><td>0.6665            </td><td>-3.8294           </td><td>-1.037           </td><td>11.777            </td><td>11.2834            </td><td>8.0485            </td><td>-24.684            </td><td>12.7404           </td><td>-35.1659           </td><td>0.7613            </td><td>8.3838           </td><td>12.6832           </td><td>9.5503            </td><td>1.7895             </td><td>5.2091            </td><td>8.0913            </td><td>12.3972           </td><td>14.4698           </td><td>6.585             </td><td>3.3164            </td><td>9.4638            </td><td>15.782            </td><td>-25.0222           </td><td>3.4418            </td><td>-4.3923           </td><td>8.6464            </td><td>6.3072            </td><td>5.6221            </td><td>23.6143           </td><td>5.022               </td><td>-3.9989            </td><td>4.0462            </td><td>0.25               </td><td>1.2516            </td><td>24.4187           </td><td>4.529             </td><td>15.4235          </td><td>11.6875          </td><td>23.6273           </td><td>4.0806           </td><td>15.2733           </td><td>0.7839           </td><td>10.5404           </td><td>1.6212             </td><td>-5.2896           </td><td>1.6027             </td><td>17.9762          </td><td>-2.3174          </td><td>15.6298           </td><td>4.5474            </td><td>7.5509           </td><td>-7.5866            </td><td>7.0364             </td><td>14.4027           </td><td>10.7795           </td><td>7.2887           </td><td>-1.093            </td><td>11.3596          </td><td>18.1486           </td><td>2.8344            </td><td>1.948              </td><td>-19.8592          </td><td>22.5316          </td><td>18.6129          </td><td>1.3512             </td><td>9.3291            </td><td>4.2835            </td><td>10.3907           </td><td>7.0874            </td><td>14.3256            </td><td>14.4135           </td><td>4.2827           </td><td>6.975            </td><td>1.648             </td><td>11.6896          </td><td>2.5762            </td><td>-2.5459           </td><td>5.3446            </td><td>38.1015           </td><td>3.5732            </td><td>5.0988            </td><td>30.5644           </td><td>11.3025           </td><td>3.9618           </td><td>-8.2464          </td><td>2.7038            </td><td>12.3441            </td><td>12.5431          </td><td>-1.3683           </td><td>3.5974             </td><td>13.9761           </td><td>14.3003           </td><td>1.0486            </td><td>8.95              </td><td>7.1954             </td><td>-1.1984           </td><td>1.9586            </td><td>27.5609           </td><td>24.6065          </td><td>-2.8233           </td><td>8.9821           </td><td>3.8873           </td><td>15.9638           </td><td>10.0142           </td><td>7.8388            </td><td>9.9718           </td><td>2.9253            </td><td>10.4994           </td><td>4.1622             </td><td>3.7613             </td><td>2.3701            </td><td>18.0984           </td><td>17.1765           </td><td>7.6508            </td><td>18.2452           </td><td>17.0336          </td><td>-10.937            </td><td>12.05             </td><td>-1.2155           </td><td>19.975            </td><td>12.3892          </td><td>31.8833           </td><td>5.9684             </td><td>7.2084            </td><td>3.8899           </td><td>-11.0882           </td><td>17.2502          </td><td>2.5881           </td><td>-2.7018            </td><td>0.5641           </td><td>5.343             </td><td>-7.1541              </td><td>-6.192             </td><td>18.2366          </td><td>11.7134          </td><td>14.7483           </td><td>8.1013            </td><td>11.8771           </td><td>13.9552           </td><td>-10.4701           </td><td>5.6961            </td><td>-3.7546          </td><td>8.4117            </td><td>1.8986            </td><td>7.2601           </td><td>-0.4639           </td><td>-0.0498           </td><td>7.9336           </td><td>-12.8279           </td><td>12.4124           </td><td>1.8489            </td><td>4.4666           </td><td>4.7433            </td><td>0.7178            </td><td>1.4214            </td><td>23.0347          </td><td>-1.2706             </td><td>-2.9275          </td><td>10.2922           </td><td>17.9697           </td><td>-8.9996            </td></tr>\n",
       "<tr><td>4      </td><td>train_4  </td><td>0.0               </td><td>9.8369            </td><td>-1.4834           </td><td>12.8746           </td><td>6.6375           </td><td>12.2772           </td><td>2.4486             </td><td>5.9405            </td><td>19.2514           </td><td>6.2654            </td><td>7.6784            </td><td>-9.4458          </td><td>-12.1419           </td><td>13.8481            </td><td>7.8895           </td><td>7.7894            </td><td>15.0553            </td><td>8.4871            </td><td>-3.068            </td><td>6.5263            </td><td>11.3152           </td><td>21.4246           </td><td>18.9608           </td><td>10.1102           </td><td>2.7142            </td><td>14.208            </td><td>13.5433            </td><td>3.1736             </td><td>-3.3423            </td><td>5.9015            </td><td>7.9352           </td><td>-3.1582           </td><td>9.4668            </td><td>-0.0083          </td><td>19.3239          </td><td>12.4057           </td><td>0.6329            </td><td>2.7922            </td><td>5.8184            </td><td>19.3038           </td><td>1.445             </td><td>-5.5963           </td><td>14.0685          </td><td>11.9171           </td><td>11.5111            </td><td>6.9087            </td><td>-65.4863           </td><td>13.8657           </td><td>0.0444             </td><td>-0.1346           </td><td>14.4268          </td><td>13.3273           </td><td>10.4857           </td><td>-1.4367            </td><td>5.7555            </td><td>-8.5414           </td><td>14.1482           </td><td>16.984            </td><td>6.1812            </td><td>1.9548            </td><td>9.2048            </td><td>8.6591            </td><td>-27.7439           </td><td>-0.4952           </td><td>-1.7839           </td><td>5.267             </td><td>-4.3205           </td><td>6.986             </td><td>1.6184            </td><td>5.0301              </td><td>-3.2431            </td><td>40.1236           </td><td>0.7737             </td><td>-0.7264           </td><td>4.5886            </td><td>-4.5346           </td><td>23.3521          </td><td>1.0273           </td><td>19.16             </td><td>7.1734           </td><td>14.3937           </td><td>2.9598           </td><td>13.3317           </td><td>-9.2587            </td><td>-6.7075           </td><td>7.8984             </td><td>14.5265          </td><td>7.0799           </td><td>20.167            </td><td>8.0053            </td><td>3.7954           </td><td>-39.7997           </td><td>7.0065             </td><td>9.3627            </td><td>10.4316           </td><td>14.0553          </td><td>0.0213            </td><td>14.7246          </td><td>35.2988           </td><td>1.6844            </td><td>0.6715             </td><td>-22.9264          </td><td>12.3562          </td><td>17.341           </td><td>1.694              </td><td>7.1179            </td><td>5.1934            </td><td>8.823             </td><td>10.6617           </td><td>14.0837            </td><td>28.2749           </td><td>-0.1937          </td><td>5.9654           </td><td>1.0719            </td><td>7.9923           </td><td>2.9138            </td><td>-3.6135           </td><td>1.4684            </td><td>25.6795           </td><td>13.8224           </td><td>4.7478            </td><td>41.1037           </td><td>12.714            </td><td>5.2964           </td><td>9.7289           </td><td>3.937             </td><td>12.1316            </td><td>12.5815          </td><td>7.0642            </td><td>5.6518             </td><td>10.9346           </td><td>11.4266           </td><td>0.9442            </td><td>7.7532            </td><td>6.6173             </td><td>-6.8304           </td><td>6.473             </td><td>17.1728           </td><td>25.8128          </td><td>2.6791            </td><td>13.9547          </td><td>6.6289           </td><td>-4.3965           </td><td>11.7159           </td><td>16.108            </td><td>7.6874           </td><td>9.157             </td><td>11.567            </td><td>-12.7047           </td><td>3.7574             </td><td>9.911             </td><td>20.1461           </td><td>1.2995            </td><td>5.8493            </td><td>19.8234           </td><td>4.7022           </td><td>10.6101            </td><td>13.0021           </td><td>-12.6068          </td><td>27.0846           </td><td>8.0913           </td><td>33.5107           </td><td>5.6953             </td><td>5.4663            </td><td>18.2201          </td><td>6.5769             </td><td>21.2607          </td><td>3.2304           </td><td>-1.7759            </td><td>3.1283           </td><td>5.5518            </td><td>1.4493               </td><td>-2.6627            </td><td>19.8056          </td><td>2.3705           </td><td>18.4685           </td><td>16.3309           </td><td>-3.3456           </td><td>13.5261           </td><td>1.7189             </td><td>5.1743            </td><td>-7.6938          </td><td>9.7685            </td><td>4.891             </td><td>12.2198          </td><td>11.8503           </td><td>-7.8931           </td><td>6.4209           </td><td>5.927              </td><td>16.0201           </td><td>-0.2829           </td><td>-1.4905          </td><td>9.5214            </td><td>-0.1508           </td><td>9.1942            </td><td>13.2876          </td><td>-1.5121             </td><td>3.9267           </td><td>9.5031            </td><td>17.9974           </td><td>-8.8104            </td></tr>\n",
       "<tr><td>5      </td><td>train_5  </td><td>0.0               </td><td>11.4763           </td><td>-2.3182           </td><td>12.608            </td><td>8.6264           </td><td>10.9621           </td><td>3.5609             </td><td>4.5322            </td><td>15.2255           </td><td>3.5855            </td><td>5.979             </td><td>0.801            </td><td>-0.6192            </td><td>13.638             </td><td>1.2589           </td><td>8.1939            </td><td>14.9894            </td><td>12.0763           </td><td>-1.471            </td><td>6.7341            </td><td>14.8241           </td><td>19.7172           </td><td>11.9882           </td><td>1.0468            </td><td>3.8663            </td><td>4.7252            </td><td>13.9427            </td><td>-1.2796            </td><td>-4.3763            </td><td>5.1494            </td><td>0.4124           </td><td>-5.0732           </td><td>4.901             </td><td>1.5459           </td><td>15.6423          </td><td>10.7209           </td><td>15.1886           </td><td>1.8685            </td><td>7.7223            </td><td>5.5317            </td><td>2.2308            </td><td>2.6553            </td><td>13.973           </td><td>11.5015           </td><td>11.6891            </td><td>14.1062           </td><td>-44.7257           </td><td>10.647            </td><td>-24.6935           </td><td>29.9912           </td><td>13.5894          </td><td>13.2355           </td><td>5.5513            </td><td>-7.7762            </td><td>5.2399            </td><td>7.0189            </td><td>15.2849           </td><td>11.8258           </td><td>5.9587            </td><td>4.7676            </td><td>8.2253            </td><td>11.1254           </td><td>-0.7472            </td><td>-1.6063           </td><td>6.0702            </td><td>6.0604            </td><td>5.4693            </td><td>4.9098            </td><td>14.116            </td><td>5.011               </td><td>-5.6684            </td><td>35.2664           </td><td>0.678              </td><td>8.1653            </td><td>9.9031            </td><td>10.5392           </td><td>14.4814          </td><td>12.7784          </td><td>17.4977           </td><td>3.3793           </td><td>16.0082           </td><td>-5.4905          </td><td>15.3766           </td><td>1.8135             </td><td>-1.9153           </td><td>-8.3058            </td><td>20.169           </td><td>2.6433           </td><td>19.9457           </td><td>9.4972            </td><td>-3.5982          </td><td>-1.1717            </td><td>6.9204             </td><td>8.8093            </td><td>10.5375           </td><td>10.2029          </td><td>1.1735            </td><td>14.0648          </td><td>17.91             </td><td>0.9217            </td><td>0.0886             </td><td>-8.3794           </td><td>19.8236          </td><td>12.278           </td><td>1.6012             </td><td>15.409            </td><td>4.2972            </td><td>10.5131           </td><td>16.4164           </td><td>14.1434            </td><td>23.9731           </td><td>7.004            </td><td>7.1879           </td><td>3.9414            </td><td>9.9727           </td><td>3.6737            </td><td>0.897             </td><td>2.2988            </td><td>-18.1194          </td><td>8.6835            </td><td>-2.8671           </td><td>11.2701           </td><td>9.0465            </td><td>-1.5511          </td><td>9.9305           </td><td>4.3756            </td><td>12.3697            </td><td>13.0031          </td><td>5.0993            </td><td>-5.8702            </td><td>15.0534           </td><td>12.7212           </td><td>0.5762            </td><td>7.0965            </td><td>6.6143             </td><td>-8.8256           </td><td>-0.9844           </td><td>26.1603           </td><td>11.9963          </td><td>-5.9018           </td><td>13.3065          </td><td>4.4419           </td><td>-0.0496           </td><td>18.7239           </td><td>14.1586           </td><td>9.6607           </td><td>2.6134            </td><td>12.965            </td><td>4.728              </td><td>3.9799             </td><td>1.4462            </td><td>19.5171           </td><td>7.5903            </td><td>5.7223            </td><td>15.2331           </td><td>15.4401          </td><td>-2.0738            </td><td>12.4068           </td><td>-16.8151          </td><td>24.2054           </td><td>4.9455           </td><td>16.5552           </td><td>5.3739             </td><td>6.4487            </td><td>11.5631          </td><td>1.3847             </td><td>14.9638          </td><td>2.8455           </td><td>-9.0953            </td><td>3.8278           </td><td>5.9714            </td><td>-6.1449              </td><td>-2.0285            </td><td>18.4106          </td><td>1.4457           </td><td>21.8853           </td><td>9.2654            </td><td>-6.5247           </td><td>10.7687           </td><td>-7.6283            </td><td>1.0208            </td><td>7.1968           </td><td>11.1227           </td><td>2.2257            </td><td>6.4056           </td><td>21.055            </td><td>-13.6509          </td><td>4.7691           </td><td>-8.9114            </td><td>15.1007           </td><td>2.4286            </td><td>-6.3068          </td><td>6.6025            </td><td>5.2912            </td><td>0.4403            </td><td>14.9452          </td><td>1.0314              </td><td>-3.6241          </td><td>9.767             </td><td>12.5809           </td><td>-4.7602            </td></tr>\n",
       "<tr><td>6      </td><td>train_6  </td><td>0.0               </td><td>11.8091           </td><td>-0.0832           </td><td>9.3494            </td><td>4.2916           </td><td>11.1355           </td><td>-8.0198            </td><td>6.1961            </td><td>12.0771           </td><td>-4.3781           </td><td>7.9232            </td><td>-5.1288          </td><td>-7.5271            </td><td>14.1629            </td><td>13.3058          </td><td>7.8412            </td><td>14.3363            </td><td>7.5951            </td><td>11.0922           </td><td>21.1976           </td><td>6.2946            </td><td>15.8877           </td><td>24.2595           </td><td>8.1159            </td><td>3.9769            </td><td>7.6851            </td><td>13.36              </td><td>-0.5156            </td><td>0.069              </td><td>5.6452            </td><td>4.614            </td><td>-12.389           </td><td>12.088            </td><td>-1.529           </td><td>9.2376           </td><td>11.151            </td><td>6.6352            </td><td>4.8462            </td><td>7.0202            </td><td>19.9479           </td><td>-6.2271           </td><td>4.4616            </td><td>9.0383           </td><td>10.6889           </td><td>10.948             </td><td>15.0431           </td><td>1.0776             </td><td>14.2049           </td><td>-2.0894            </td><td>26.6997           </td><td>18.4393          </td><td>12.984            </td><td>23.2511           </td><td>-3.4444            </td><td>5.2735            </td><td>3.71              </td><td>12.4798           </td><td>18.4812           </td><td>6.6104            </td><td>2.7292            </td><td>7.9378            </td><td>15.3738           </td><td>-12.6687           </td><td>0.6272            </td><td>2.7414            </td><td>6.7854            </td><td>0.4546            </td><td>5.861             </td><td>13.5793           </td><td>5.0178              </td><td>-5.7921            </td><td>21.164            </td><td>0.6386             </td><td>3.7051            </td><td>19.3404           </td><td>29.6714           </td><td>13.7166          </td><td>12.5176          </td><td>16.9189           </td><td>5.2232           </td><td>16.9441           </td><td>-2.7142          </td><td>12.3111           </td><td>-2.5448            </td><td>10.7269           </td><td>-1.3374            </td><td>21.5486          </td><td>12.6511          </td><td>6.3112            </td><td>5.9346            </td><td>10.4663          </td><td>-9.2271            </td><td>7.014              </td><td>11.1954           </td><td>10.4502           </td><td>11.1829          </td><td>0.6137            </td><td>23.729           </td><td>32.8788           </td><td>2.4715            </td><td>0.0483             </td><td>-22.2159          </td><td>17.0682          </td><td>20.5977          </td><td>1.8554             </td><td>12.1542           </td><td>4.3055            </td><td>8.3469            </td><td>23.3089           </td><td>14.4272            </td><td>13.5718           </td><td>11.6967          </td><td>6.6323           </td><td>2.7194            </td><td>4.611            </td><td>2.309             </td><td>0.3681            </td><td>2.9144            </td><td>19.418            </td><td>1.3141            </td><td>-0.981            </td><td>23.3644           </td><td>10.5135           </td><td>5.7981           </td><td>-5.0096          </td><td>0.5866            </td><td>11.8274            </td><td>12.188           </td><td>1.7719            </td><td>2.7085             </td><td>21.7473           </td><td>11.941            </td><td>0.5405            </td><td>8.9913            </td><td>7.4506             </td><td>-13.2871          </td><td>-5.789            </td><td>23.8387           </td><td>7.8704           </td><td>5.2588            </td><td>7.4428           </td><td>2.7612           </td><td>10.3221           </td><td>-1.7192           </td><td>16.4603           </td><td>8.9949           </td><td>11.7397           </td><td>11.4148           </td><td>6.852              </td><td>3.8912             </td><td>-1.3446           </td><td>11.6169           </td><td>10.4602           </td><td>4.3166            </td><td>13.1753           </td><td>9.9217           </td><td>-2.5725            </td><td>13.7241           </td><td>-10.0345          </td><td>21.9814           </td><td>11.1648          </td><td>39.9599           </td><td>5.5552             </td><td>3.3459            </td><td>9.2661           </td><td>6.1213             </td><td>23.7558          </td><td>3.0298           </td><td>5.9109             </td><td>8.1035           </td><td>6.1887            </td><td>0.2619               </td><td>-1.1405            </td><td>25.1675          </td><td>2.6965           </td><td>17.0152           </td><td>12.7942           </td><td>-3.0403           </td><td>8.1735            </td><td>4.5637             </td><td>3.8973            </td><td>-8.1416          </td><td>10.057            </td><td>15.7862           </td><td>3.3593           </td><td>11.914            </td><td>-4.287            </td><td>7.5015           </td><td>-29.9763           </td><td>17.2867           </td><td>1.8539            </td><td>8.783            </td><td>6.4521            </td><td>3.5325            </td><td>0.1777            </td><td>18.3314          </td><td>0.5845              </td><td>9.1104           </td><td>9.1143            </td><td>10.8869           </td><td>-3.2097            </td></tr>\n",
       "<tr><td>7      </td><td>train_7  </td><td>0.0               </td><td>13.558            </td><td>-7.9881           </td><td>13.8776           </td><td>7.5985           </td><td>8.6543            </td><td>0.831              </td><td>5.689             </td><td>22.3262           </td><td>5.0647            </td><td>7.1971            </td><td>1.4532           </td><td>-6.7033            </td><td>14.2919            </td><td>10.9699          </td><td>6.919             </td><td>14.2459            </td><td>9.5376            </td><td>-0.7226           </td><td>5.1548            </td><td>17.1535           </td><td>13.7326           </td><td>14.4195           </td><td>1.2375            </td><td>3.1711            </td><td>9.1258            </td><td>13.325             </td><td>3.3883             </td><td>-0.4418            </td><td>5.4501            </td><td>7.9894           </td><td>-0.9976           </td><td>14.5609           </td><td>-2.0712          </td><td>16.9717          </td><td>11.5257           </td><td>-0.499            </td><td>2.8303            </td><td>7.5772            </td><td>9.0294            </td><td>1.2659            </td><td>-12.0219          </td><td>14.1991          </td><td>11.2721           </td><td>11.2407            </td><td>13.5776           </td><td>-27.2543           </td><td>14.0908           </td><td>0.8217             </td><td>13.1139           </td><td>9.3627           </td><td>13.7538           </td><td>11.0741           </td><td>-8.4732            </td><td>6.6503            </td><td>-14.4815          </td><td>9.6728            </td><td>18.6279           </td><td>6.5482            </td><td>3.8325            </td><td>8.0006            </td><td>13.5775           </td><td>-3.7978            </td><td>0.1582            </td><td>4.2888            </td><td>4.4444            </td><td>-8.4758           </td><td>5.2078            </td><td>8.772             </td><td>5.0128              </td><td>-7.411             </td><td>27.0016           </td><td>1.0085             </td><td>3.7054            </td><td>16.4133           </td><td>20.0              </td><td>10.2128          </td><td>0.7557           </td><td>20.7298           </td><td>6.7311           </td><td>14.5571           </td><td>-3.813           </td><td>13.3314           </td><td>-10.5909           </td><td>6.7943            </td><td>-0.3443            </td><td>23.553           </td><td>6.986            </td><td>6.0584            </td><td>6.3539            </td><td>6.7745           </td><td>-24.7167           </td><td>6.8082             </td><td>9.1942            </td><td>11.2303           </td><td>11.8245          </td><td>-0.6602           </td><td>18.3689          </td><td>27.5106           </td><td>2.0848            </td><td>2.2442             </td><td>-0.6013           </td><td>20.9117          </td><td>16.5885          </td><td>1.4998             </td><td>14.1148           </td><td>4.1641            </td><td>8.5132            </td><td>16.4147           </td><td>14.2331            </td><td>15.1642           </td><td>2.5181           </td><td>7.1014           </td><td>3.3046            </td><td>5.7495           </td><td>2.8527            </td><td>4.1954            </td><td>4.9895            </td><td>19.4388           </td><td>0.2901            </td><td>0.0794            </td><td>31.9043           </td><td>12.7068           </td><td>1.6484           </td><td>-1.7767          </td><td>3.0002            </td><td>11.9988            </td><td>13.4588          </td><td>0.7693            </td><td>1.7439             </td><td>13.4471           </td><td>11.3924           </td><td>0.4158            </td><td>9.8819            </td><td>7.0754             </td><td>-1.8253           </td><td>-1.9968           </td><td>21.5241           </td><td>28.9405          </td><td>-0.0447           </td><td>17.2586          </td><td>1.0003           </td><td>-8.4069           </td><td>18.4261           </td><td>16.1918           </td><td>9.745            </td><td>12.1132           </td><td>9.1689            </td><td>-10.6657           </td><td>4.1435             </td><td>26.7837           </td><td>14.055            </td><td>14.582            </td><td>7.2698            </td><td>13.8387           </td><td>13.2217          </td><td>-1.5242            </td><td>11.2587           </td><td>-0.0072           </td><td>8.6696            </td><td>19.2246          </td><td>23.7765           </td><td>5.4098             </td><td>5.1402            </td><td>10.7013          </td><td>-8.2583            </td><td>26.3286          </td><td>2.6085           </td><td>-10.9163           </td><td>8.7362           </td><td>5.2273            </td><td>8.9519               </td><td>-2.3522            </td><td>6.1335           </td><td>0.0876           </td><td>19.5642           </td><td>13.2008           </td><td>-11.1786          </td><td>17.3041           </td><td>-0.6535            </td><td>0.0592            </td><td>5.114            </td><td>10.5478           </td><td>6.9736            </td><td>6.9724           </td><td>24.0369           </td><td>-4.822            </td><td>8.4947           </td><td>-5.9076            </td><td>18.8663           </td><td>1.9731            </td><td>13.17            </td><td>6.5491            </td><td>3.9906            </td><td>5.8061            </td><td>23.1407          </td><td>-0.3776             </td><td>4.2178           </td><td>9.4237            </td><td>8.6624            </td><td>3.4806             </td></tr>\n",
       "<tr><td>8      </td><td>train_8  </td><td>0.0               </td><td>16.1071           </td><td>2.4426            </td><td>13.9307           </td><td>5.6327           </td><td>8.8014            </td><td>6.163              </td><td>4.4514            </td><td>10.1854           </td><td>-3.1882           </td><td>9.0827            </td><td>0.9501           </td><td>1.7982             </td><td>14.0654            </td><td>-3.0572          </td><td>11.1642           </td><td>14.8757            </td><td>10.0075           </td><td>-8.9472           </td><td>3.8349            </td><td>0.856             </td><td>10.6958           </td><td>6.3738            </td><td>6.558             </td><td>2.6182            </td><td>13.2506           </td><td>13.7929            </td><td>-14.4918           </td><td>-2.5407            </td><td>5.9575            </td><td>2.4882           </td><td>-11.1344          </td><td>10.5106           </td><td>-1.0573          </td><td>19.329           </td><td>12.2897           </td><td>-2.816            </td><td>6.9208            </td><td>5.1498            </td><td>14.7272           </td><td>3.7692            </td><td>-5.1399           </td><td>18.3702          </td><td>11.6615           </td><td>11.7713            </td><td>17.0313           </td><td>16.4608            </td><td>15.8764           </td><td>-31.7855           </td><td>36.3433           </td><td>3.6113           </td><td>12.4808           </td><td>21.6108           </td><td>4.1448             </td><td>7.3927            </td><td>6.2674            </td><td>3.0724            </td><td>11.6257           </td><td>6.4755            </td><td>10.0001           </td><td>9.1362            </td><td>13.3139           </td><td>-18.0895           </td><td>-0.1775           </td><td>-0.3974           </td><td>6.7869            </td><td>2.9187            </td><td>4.1319            </td><td>3.6984            </td><td>5.0157              </td><td>1.4661             </td><td>18.5359           </td><td>1.1193             </td><td>-2.8856           </td><td>12.7991           </td><td>42.4798           </td><td>18.4006          </td><td>16.2544          </td><td>18.0704           </td><td>7.4604           </td><td>14.7145           </td><td>0.2894           </td><td>14.8569           </td><td>7.753              </td><td>0.4054            </td><td>-0.5715            </td><td>12.0137          </td><td>-1.8589          </td><td>16.1938           </td><td>4.4812            </td><td>2.1191           </td><td>-9.9819            </td><td>6.7557             </td><td>16.0403           </td><td>10.6106           </td><td>15.9417          </td><td>0.3753            </td><td>4.6527           </td><td>29.8431           </td><td>1.7439            </td><td>-0.4049            </td><td>-6.631            </td><td>12.3847          </td><td>15.7514          </td><td>1.8678             </td><td>10.2898           </td><td>4.6365            </td><td>11.2891           </td><td>23.9502           </td><td>14.3644            </td><td>21.5387           </td><td>8.5274           </td><td>5.7185           </td><td>2.988             </td><td>9.2962           </td><td>1.9852            </td><td>2.9761            </td><td>0.4784            </td><td>-1.6092           </td><td>0.249             </td><td>3.1809            </td><td>24.0629           </td><td>13.7669           </td><td>0.689            </td><td>13.9142          </td><td>7.3468            </td><td>12.8652            </td><td>12.7353          </td><td>-2.5087           </td><td>-2.3019            </td><td>17.8815           </td><td>10.4515           </td><td>1.1093            </td><td>9.2075            </td><td>6.8742             </td><td>-6.2121           </td><td>-16.4566          </td><td>27.0769           </td><td>21.1216          </td><td>7.4044            </td><td>4.4973           </td><td>-0.9883          </td><td>-2.2243           </td><td>8.472             </td><td>11.3281           </td><td>7.7581           </td><td>14.3487           </td><td>9.2668            </td><td>-5.2689            </td><td>4.0489             </td><td>26.6128           </td><td>12.3918           </td><td>6.2836            </td><td>9.3942            </td><td>15.7184           </td><td>5.456            </td><td>1.1374             </td><td>14.9044           </td><td>-14.2764          </td><td>30.8145           </td><td>10.2231          </td><td>30.674            </td><td>5.7888             </td><td>4.118             </td><td>9.1486           </td><td>-5.2618            </td><td>14.4422          </td><td>2.6893           </td><td>-9.5251            </td><td>1.7455           </td><td>5.9018            </td><td>3.1838               </td><td>-1.7865            </td><td>4.9105           </td><td>3.5803           </td><td>32.9149           </td><td>13.0201           </td><td>-2.4845           </td><td>11.0988           </td><td>7.4609             </td><td>-2.1408           </td><td>-3.9172          </td><td>7.7291            </td><td>-11.4027          </td><td>2.0696           </td><td>-1.7937           </td><td>-0.003            </td><td>11.5024          </td><td>-18.3172           </td><td>13.1403           </td><td>0.7014            </td><td>1.4298           </td><td>14.751            </td><td>1.6395            </td><td>1.4181            </td><td>14.837           </td><td>-1.994              </td><td>-1.0733          </td><td>8.1975            </td><td>19.5114           </td><td>4.8453             </td></tr>\n",
       "<tr><td>9      </td><td>train_9  </td><td>0.0               </td><td>12.5088           </td><td>1.9743            </td><td>8.896             </td><td>5.4508           </td><td>13.6043           </td><td>-16.2859           </td><td>6.0637            </td><td>16.841            </td><td>0.1287            </td><td>7.9682            </td><td>0.8787           </td><td>3.0537             </td><td>13.9639            </td><td>0.8071           </td><td>9.924             </td><td>15.2659            </td><td>11.39             </td><td>1.5367            </td><td>5.4649            </td><td>13.6196           </td><td>23.7806           </td><td>4.4221            </td><td>6.1695            </td><td>3.2978            </td><td>4.5923            </td><td>13.3778            </td><td>-3.22              </td><td>-2.3302            </td><td>6.112             </td><td>-0.0289          </td><td>-13.1141          </td><td>9.127             </td><td>2.258            </td><td>19.845           </td><td>10.9237           </td><td>2.4796            </td><td>7.2948            </td><td>5.1347            </td><td>11.5906           </td><td>-0.5429           </td><td>-17.9593          </td><td>3.847            </td><td>11.9304           </td><td>11.9698            </td><td>3.4963            </td><td>-39.3042           </td><td>14.4194           </td><td>-9.1752            </td><td>10.31             </td><td>15.1636          </td><td>12.726            </td><td>14.8416           </td><td>4.023              </td><td>5.9517            </td><td>10.4479           </td><td>12.5368           </td><td>18.2968           </td><td>7.3065            </td><td>10.1983           </td><td>8.3434            </td><td>13.5216           </td><td>-27.7693           </td><td>-0.3455           </td><td>2.8807            </td><td>4.7154            </td><td>-6.7308           </td><td>6.125             </td><td>21.6131           </td><td>5.0257              </td><td>-1.4481            </td><td>34.464            </td><td>0.9713             </td><td>7.1164            </td><td>24.3013           </td><td>22.3524           </td><td>21.7572          </td><td>18.6539          </td><td>14.9513           </td><td>6.824            </td><td>17.2993           </td><td>0.3744           </td><td>16.6244           </td><td>-4.6693            </td><td>-4.1518           </td><td>-5.2838            </td><td>20.9641          </td><td>-1.641           </td><td>11.9991           </td><td>6.8734            </td><td>1.1525           </td><td>-1.7442            </td><td>7.1458             </td><td>18.3243           </td><td>9.9112            </td><td>11.5548          </td><td>-0.3913           </td><td>8.9374           </td><td>-10.6731          </td><td>2.2221            </td><td>-3.1096            </td><td>-12.3881          </td><td>14.6142          </td><td>27.1285          </td><td>1.4879             </td><td>7.561             </td><td>4.8005            </td><td>6.3887            </td><td>25.5165           </td><td>14.0859            </td><td>15.6704           </td><td>-0.2992          </td><td>6.6049           </td><td>3.168             </td><td>9.655            </td><td>3.0773            </td><td>3.4336            </td><td>5.8506            </td><td>28.3111           </td><td>-4.4909           </td><td>-2.2542           </td><td>25.1828           </td><td>10.8598           </td><td>5.2196           </td><td>0.0266           </td><td>7.2126            </td><td>12.4578            </td><td>14.1408          </td><td>5.6843            </td><td>2.0829             </td><td>14.7554           </td><td>10.8094           </td><td>0.3322            </td><td>9.4819            </td><td>6.9338             </td><td>1.8246            </td><td>10.1502           </td><td>27.6996           </td><td>17.1042          </td><td>-7.958            </td><td>3.3289           </td><td>-2.0864          </td><td>6.9251            </td><td>15.2416           </td><td>9.2758            </td><td>9.4738           </td><td>5.9444            </td><td>8.4279            </td><td>-10.5564           </td><td>3.84               </td><td>3.2398            </td><td>15.0413           </td><td>2.5438            </td><td>12.2268           </td><td>15.2896           </td><td>-0.3764          </td><td>0.1317             </td><td>13.5117           </td><td>-1.3546           </td><td>14.1058           </td><td>7.3503           </td><td>13.7379           </td><td>5.4536             </td><td>6.2403            </td><td>17.1668          </td><td>-5.3527            </td><td>14.378           </td><td>2.4139           </td><td>-9.1925            </td><td>2.6859           </td><td>5.854             </td><td>-3.0868              </td><td>-1.2558            </td><td>24.2683          </td><td>-4.5382          </td><td>18.2209           </td><td>7.5652            </td><td>6.3377            </td><td>14.6223           </td><td>-13.896            </td><td>2.391             </td><td>2.7878           </td><td>11.3457           </td><td>-9.6774           </td><td>10.3382          </td><td>19.0645           </td><td>-7.6785           </td><td>6.758            </td><td>-21.607            </td><td>20.8112           </td><td>-0.1873           </td><td>0.5543           </td><td>6.316             </td><td>1.0371            </td><td>3.6885            </td><td>14.8344          </td><td>0.4467              </td><td>14.1287          </td><td>7.9133            </td><td>16.2375           </td><td>14.2514            </td></tr>\n",
       "</tbody>\n",
       "</table>"
      ]
     },
     "metadata": {},
     "output_type": "display_data"
    }
   ],
   "source": [
    "df_train.describe()"
   ]
  },
  {
   "cell_type": "markdown",
   "metadata": {},
   "source": [
    "It seems that there's no missing value in the dataset."
   ]
  },
  {
   "cell_type": "code",
   "execution_count": 6,
   "metadata": {},
   "outputs": [
    {
     "name": "stdout",
     "output_type": "stream",
     "text": [
      "['ID_code', 'var_0', 'var_1', 'var_2', 'var_3', 'var_4', 'var_5', 'var_6', 'var_7', 'var_8', 'var_9', 'var_10', 'var_11', 'var_12', 'var_13', 'var_14', 'var_15', 'var_16', 'var_17', 'var_18', 'var_19', 'var_20', 'var_21', 'var_22', 'var_23', 'var_24', 'var_25', 'var_26', 'var_27', 'var_28', 'var_29', 'var_30', 'var_31', 'var_32', 'var_33', 'var_34', 'var_35', 'var_36', 'var_37', 'var_38', 'var_39', 'var_40', 'var_41', 'var_42', 'var_43', 'var_44', 'var_45', 'var_46', 'var_47', 'var_48', 'var_49', 'var_50', 'var_51', 'var_52', 'var_53', 'var_54', 'var_55', 'var_56', 'var_57', 'var_58', 'var_59', 'var_60', 'var_61', 'var_62', 'var_63', 'var_64', 'var_65', 'var_66', 'var_67', 'var_68', 'var_69', 'var_70', 'var_71', 'var_72', 'var_73', 'var_74', 'var_75', 'var_76', 'var_77', 'var_78', 'var_79', 'var_80', 'var_81', 'var_82', 'var_83', 'var_84', 'var_85', 'var_86', 'var_87', 'var_88', 'var_89', 'var_90', 'var_91', 'var_92', 'var_93', 'var_94', 'var_95', 'var_96', 'var_97', 'var_98', 'var_99', 'var_100', 'var_101', 'var_102', 'var_103', 'var_104', 'var_105', 'var_106', 'var_107', 'var_108', 'var_109', 'var_110', 'var_111', 'var_112', 'var_113', 'var_114', 'var_115', 'var_116', 'var_117', 'var_118', 'var_119', 'var_120', 'var_121', 'var_122', 'var_123', 'var_124', 'var_125', 'var_126', 'var_127', 'var_128', 'var_129', 'var_130', 'var_131', 'var_132', 'var_133', 'var_134', 'var_135', 'var_136', 'var_137', 'var_138', 'var_139', 'var_140', 'var_141', 'var_142', 'var_143', 'var_144', 'var_145', 'var_146', 'var_147', 'var_148', 'var_149', 'var_150', 'var_151', 'var_152', 'var_153', 'var_154', 'var_155', 'var_156', 'var_157', 'var_158', 'var_159', 'var_160', 'var_161', 'var_162', 'var_163', 'var_164', 'var_165', 'var_166', 'var_167', 'var_168', 'var_169', 'var_170', 'var_171', 'var_172', 'var_173', 'var_174', 'var_175', 'var_176', 'var_177', 'var_178', 'var_179', 'var_180', 'var_181', 'var_182', 'var_183', 'var_184', 'var_185', 'var_186', 'var_187', 'var_188', 'var_189', 'var_190', 'var_191', 'var_192', 'var_193', 'var_194', 'var_195', 'var_196', 'var_197', 'var_198', 'var_199']\n"
     ]
    }
   ],
   "source": [
    "y = 'target'\n",
    "X = [name for name in df_train.columns if name != y]\n",
    "print(X)"
   ]
  },
  {
   "cell_type": "markdown",
   "metadata": {},
   "source": [
    "Total columns:"
   ]
  },
  {
   "cell_type": "code",
   "execution_count": 7,
   "metadata": {},
   "outputs": [
    {
     "name": "stdout",
     "output_type": "stream",
     "text": [
      "201\n"
     ]
    }
   ],
   "source": [
    "print(len(X))"
   ]
  },
  {
   "cell_type": "markdown",
   "metadata": {},
   "source": [
    "Column types:"
   ]
  },
  {
   "cell_type": "code",
   "execution_count": 8,
   "metadata": {},
   "outputs": [
    {
     "data": {
      "text/plain": [
       "{'ID_code': 'string',\n",
       " 'target': 'int',\n",
       " 'var_0': 'real',\n",
       " 'var_1': 'real',\n",
       " 'var_2': 'real',\n",
       " 'var_3': 'real',\n",
       " 'var_4': 'real',\n",
       " 'var_5': 'real',\n",
       " 'var_6': 'real',\n",
       " 'var_7': 'real',\n",
       " 'var_8': 'real',\n",
       " 'var_9': 'real',\n",
       " 'var_10': 'real',\n",
       " 'var_11': 'real',\n",
       " 'var_12': 'real',\n",
       " 'var_13': 'real',\n",
       " 'var_14': 'real',\n",
       " 'var_15': 'real',\n",
       " 'var_16': 'real',\n",
       " 'var_17': 'real',\n",
       " 'var_18': 'real',\n",
       " 'var_19': 'real',\n",
       " 'var_20': 'real',\n",
       " 'var_21': 'real',\n",
       " 'var_22': 'real',\n",
       " 'var_23': 'real',\n",
       " 'var_24': 'real',\n",
       " 'var_25': 'real',\n",
       " 'var_26': 'real',\n",
       " 'var_27': 'real',\n",
       " 'var_28': 'real',\n",
       " 'var_29': 'real',\n",
       " 'var_30': 'real',\n",
       " 'var_31': 'real',\n",
       " 'var_32': 'real',\n",
       " 'var_33': 'real',\n",
       " 'var_34': 'real',\n",
       " 'var_35': 'real',\n",
       " 'var_36': 'real',\n",
       " 'var_37': 'real',\n",
       " 'var_38': 'real',\n",
       " 'var_39': 'real',\n",
       " 'var_40': 'real',\n",
       " 'var_41': 'real',\n",
       " 'var_42': 'real',\n",
       " 'var_43': 'real',\n",
       " 'var_44': 'real',\n",
       " 'var_45': 'real',\n",
       " 'var_46': 'real',\n",
       " 'var_47': 'real',\n",
       " 'var_48': 'real',\n",
       " 'var_49': 'real',\n",
       " 'var_50': 'real',\n",
       " 'var_51': 'real',\n",
       " 'var_52': 'real',\n",
       " 'var_53': 'real',\n",
       " 'var_54': 'real',\n",
       " 'var_55': 'real',\n",
       " 'var_56': 'real',\n",
       " 'var_57': 'real',\n",
       " 'var_58': 'real',\n",
       " 'var_59': 'real',\n",
       " 'var_60': 'real',\n",
       " 'var_61': 'real',\n",
       " 'var_62': 'real',\n",
       " 'var_63': 'real',\n",
       " 'var_64': 'real',\n",
       " 'var_65': 'real',\n",
       " 'var_66': 'real',\n",
       " 'var_67': 'real',\n",
       " 'var_68': 'real',\n",
       " 'var_69': 'real',\n",
       " 'var_70': 'real',\n",
       " 'var_71': 'real',\n",
       " 'var_72': 'real',\n",
       " 'var_73': 'real',\n",
       " 'var_74': 'real',\n",
       " 'var_75': 'real',\n",
       " 'var_76': 'real',\n",
       " 'var_77': 'real',\n",
       " 'var_78': 'real',\n",
       " 'var_79': 'real',\n",
       " 'var_80': 'real',\n",
       " 'var_81': 'real',\n",
       " 'var_82': 'real',\n",
       " 'var_83': 'real',\n",
       " 'var_84': 'real',\n",
       " 'var_85': 'real',\n",
       " 'var_86': 'real',\n",
       " 'var_87': 'real',\n",
       " 'var_88': 'real',\n",
       " 'var_89': 'real',\n",
       " 'var_90': 'real',\n",
       " 'var_91': 'real',\n",
       " 'var_92': 'real',\n",
       " 'var_93': 'real',\n",
       " 'var_94': 'real',\n",
       " 'var_95': 'real',\n",
       " 'var_96': 'real',\n",
       " 'var_97': 'real',\n",
       " 'var_98': 'real',\n",
       " 'var_99': 'real',\n",
       " 'var_100': 'real',\n",
       " 'var_101': 'real',\n",
       " 'var_102': 'real',\n",
       " 'var_103': 'real',\n",
       " 'var_104': 'real',\n",
       " 'var_105': 'real',\n",
       " 'var_106': 'real',\n",
       " 'var_107': 'real',\n",
       " 'var_108': 'real',\n",
       " 'var_109': 'real',\n",
       " 'var_110': 'real',\n",
       " 'var_111': 'real',\n",
       " 'var_112': 'real',\n",
       " 'var_113': 'real',\n",
       " 'var_114': 'real',\n",
       " 'var_115': 'real',\n",
       " 'var_116': 'real',\n",
       " 'var_117': 'real',\n",
       " 'var_118': 'real',\n",
       " 'var_119': 'real',\n",
       " 'var_120': 'real',\n",
       " 'var_121': 'real',\n",
       " 'var_122': 'real',\n",
       " 'var_123': 'real',\n",
       " 'var_124': 'real',\n",
       " 'var_125': 'real',\n",
       " 'var_126': 'real',\n",
       " 'var_127': 'real',\n",
       " 'var_128': 'real',\n",
       " 'var_129': 'real',\n",
       " 'var_130': 'real',\n",
       " 'var_131': 'real',\n",
       " 'var_132': 'real',\n",
       " 'var_133': 'real',\n",
       " 'var_134': 'real',\n",
       " 'var_135': 'real',\n",
       " 'var_136': 'real',\n",
       " 'var_137': 'real',\n",
       " 'var_138': 'real',\n",
       " 'var_139': 'real',\n",
       " 'var_140': 'real',\n",
       " 'var_141': 'real',\n",
       " 'var_142': 'real',\n",
       " 'var_143': 'real',\n",
       " 'var_144': 'real',\n",
       " 'var_145': 'real',\n",
       " 'var_146': 'real',\n",
       " 'var_147': 'real',\n",
       " 'var_148': 'real',\n",
       " 'var_149': 'real',\n",
       " 'var_150': 'real',\n",
       " 'var_151': 'real',\n",
       " 'var_152': 'real',\n",
       " 'var_153': 'real',\n",
       " 'var_154': 'real',\n",
       " 'var_155': 'real',\n",
       " 'var_156': 'real',\n",
       " 'var_157': 'real',\n",
       " 'var_158': 'real',\n",
       " 'var_159': 'real',\n",
       " 'var_160': 'real',\n",
       " 'var_161': 'real',\n",
       " 'var_162': 'real',\n",
       " 'var_163': 'real',\n",
       " 'var_164': 'real',\n",
       " 'var_165': 'real',\n",
       " 'var_166': 'real',\n",
       " 'var_167': 'real',\n",
       " 'var_168': 'real',\n",
       " 'var_169': 'real',\n",
       " 'var_170': 'real',\n",
       " 'var_171': 'real',\n",
       " 'var_172': 'real',\n",
       " 'var_173': 'real',\n",
       " 'var_174': 'real',\n",
       " 'var_175': 'real',\n",
       " 'var_176': 'real',\n",
       " 'var_177': 'real',\n",
       " 'var_178': 'real',\n",
       " 'var_179': 'real',\n",
       " 'var_180': 'real',\n",
       " 'var_181': 'real',\n",
       " 'var_182': 'real',\n",
       " 'var_183': 'real',\n",
       " 'var_184': 'real',\n",
       " 'var_185': 'real',\n",
       " 'var_186': 'real',\n",
       " 'var_187': 'real',\n",
       " 'var_188': 'real',\n",
       " 'var_189': 'real',\n",
       " 'var_190': 'real',\n",
       " 'var_191': 'real',\n",
       " 'var_192': 'real',\n",
       " 'var_193': 'real',\n",
       " 'var_194': 'real',\n",
       " 'var_195': 'real',\n",
       " 'var_196': 'real',\n",
       " 'var_197': 'real',\n",
       " 'var_198': 'real',\n",
       " 'var_199': 'real'}"
      ]
     },
     "execution_count": 8,
     "metadata": {},
     "output_type": "execute_result"
    }
   ],
   "source": [
    "df_train.types"
   ]
  },
  {
   "cell_type": "markdown",
   "metadata": {},
   "source": [
    "Define the runtime and the name of project"
   ]
  },
  {
   "cell_type": "code",
   "execution_count": 9,
   "metadata": {},
   "outputs": [],
   "source": [
    "run_time=60 * 20\n",
    "project =\"automl_test\"  # project_name = project\n",
    "df_train[y] = df_train[y].asfactor()"
   ]
  },
  {
   "cell_type": "markdown",
   "metadata": {},
   "source": [
    "## Use H2O AUTOML to generate models "
   ]
  },
  {
   "cell_type": "markdown",
   "metadata": {},
   "source": [
    "Initialize the model and train"
   ]
  },
  {
   "cell_type": "code",
   "execution_count": 10,
   "metadata": {},
   "outputs": [
    {
     "name": "stdout",
     "output_type": "stream",
     "text": [
      "AutoML progress: |████████████████████████████████████████████████████████| 100%\n"
     ]
    }
   ],
   "source": [
    "# automl\n",
    "# runs for run_time seconds then builds a stacked ensemble\n",
    "aml = H2OAutoML(max_runtime_secs=run_time,project_name = project) # init automl, run for 300 seconds\n",
    "aml.train(x=X,  \n",
    "           y=y,\n",
    "           training_frame=df_train)"
   ]
  },
  {
   "cell_type": "markdown",
   "metadata": {},
   "source": [
    "### Leaderboard"
   ]
  },
  {
   "cell_type": "code",
   "execution_count": 11,
   "metadata": {},
   "outputs": [
    {
     "data": {
      "text/html": [
       "<table>\n",
       "<thead>\n",
       "<tr><th>model_id                                           </th><th style=\"text-align: right;\">     auc</th><th style=\"text-align: right;\">  logloss</th><th style=\"text-align: right;\">  mean_per_class_error</th><th style=\"text-align: right;\">    rmse</th><th style=\"text-align: right;\">      mse</th></tr>\n",
       "</thead>\n",
       "<tbody>\n",
       "<tr><td>StackedEnsemble_BestOfFamily_AutoML_20190224_212548</td><td style=\"text-align: right;\">0.872329</td><td style=\"text-align: right;\"> 0.224509</td><td style=\"text-align: right;\">              0.256929</td><td style=\"text-align: right;\">0.252008</td><td style=\"text-align: right;\">0.063508 </td></tr>\n",
       "<tr><td>StackedEnsemble_AllModels_AutoML_20190224_212548   </td><td style=\"text-align: right;\">0.872329</td><td style=\"text-align: right;\"> 0.224509</td><td style=\"text-align: right;\">              0.256929</td><td style=\"text-align: right;\">0.252008</td><td style=\"text-align: right;\">0.063508 </td></tr>\n",
       "<tr><td>GLM_grid_1_AutoML_20190224_212548_model_1          </td><td style=\"text-align: right;\">0.859378</td><td style=\"text-align: right;\"> 0.232107</td><td style=\"text-align: right;\">              0.270732</td><td style=\"text-align: right;\">0.258029</td><td style=\"text-align: right;\">0.0665789</td></tr>\n",
       "<tr><td>XRT_1_AutoML_20190224_212548                       </td><td style=\"text-align: right;\">0.805302</td><td style=\"text-align: right;\"> 0.279015</td><td style=\"text-align: right;\">              0.31685 </td><td style=\"text-align: right;\">0.282503</td><td style=\"text-align: right;\">0.0798079</td></tr>\n",
       "<tr><td>DRF_1_AutoML_20190224_212548                       </td><td style=\"text-align: right;\">0.802965</td><td style=\"text-align: right;\"> 0.278544</td><td style=\"text-align: right;\">              0.314142</td><td style=\"text-align: right;\">0.282269</td><td style=\"text-align: right;\">0.0796759</td></tr>\n",
       "</tbody>\n",
       "</table>"
      ]
     },
     "metadata": {},
     "output_type": "display_data"
    },
    {
     "name": "stdout",
     "output_type": "stream",
     "text": [
      "\n"
     ]
    }
   ],
   "source": [
    "# view leaderboard\n",
    "print(aml.leaderboard)\n"
   ]
  },
  {
   "cell_type": "markdown",
   "metadata": {},
   "source": [
    "#### According to the leaderboard, we can check that the StackedEnsemble is the best one"
   ]
  },
  {
   "cell_type": "code",
   "execution_count": 12,
   "metadata": {},
   "outputs": [
    {
     "name": "stdout",
     "output_type": "stream",
     "text": [
      "Model Details\n",
      "=============\n",
      "H2OStackedEnsembleEstimator :  Stacked Ensemble\n",
      "Model Key:  StackedEnsemble_BestOfFamily_AutoML_20190224_212548\n",
      "No model summary for this model\n",
      "\n",
      "\n",
      "ModelMetricsBinomialGLM: stackedensemble\n",
      "** Reported on train data. **\n",
      "\n",
      "MSE: 0.020346872760132827\n",
      "RMSE: 0.14264246478567602\n",
      "LogLoss: 0.0880384297076224\n",
      "Null degrees of freedom: 180110\n",
      "Residual degrees of freedom: 180107\n",
      "Null deviance: 117422.0667289237\n",
      "Residual deviance: 31713.379226139157\n",
      "AIC: 31721.379226139157\n",
      "AUC: 0.9881178601944829\n",
      "pr_auc: 0.8810627310623096\n",
      "Gini: 0.9762357203889658\n",
      "Confusion Matrix (Act/Pred) for max f1 @ threshold = 0.3265819433271529: \n"
     ]
    },
    {
     "data": {
      "text/html": [
       "<div style=\"overflow:auto\"><table style=\"width:50%\"><tr><td><b></b></td>\n",
       "<td><b>0</b></td>\n",
       "<td><b>1</b></td>\n",
       "<td><b>Error</b></td>\n",
       "<td><b>Rate</b></td></tr>\n",
       "<tr><td>0</td>\n",
       "<td>160195.0</td>\n",
       "<td>1832.0</td>\n",
       "<td>0.0113</td>\n",
       "<td> (1832.0/162027.0)</td></tr>\n",
       "<tr><td>1</td>\n",
       "<td>2618.0</td>\n",
       "<td>15466.0</td>\n",
       "<td>0.1448</td>\n",
       "<td> (2618.0/18084.0)</td></tr>\n",
       "<tr><td>Total</td>\n",
       "<td>162813.0</td>\n",
       "<td>17298.0</td>\n",
       "<td>0.0247</td>\n",
       "<td> (4450.0/180111.0)</td></tr></table></div>"
      ],
      "text/plain": [
       "       0       1      Error    Rate\n",
       "-----  ------  -----  -------  -----------------\n",
       "0      160195  1832   0.0113   (1832.0/162027.0)\n",
       "1      2618    15466  0.1448   (2618.0/18084.0)\n",
       "Total  162813  17298  0.0247   (4450.0/180111.0)"
      ]
     },
     "metadata": {},
     "output_type": "display_data"
    },
    {
     "name": "stdout",
     "output_type": "stream",
     "text": [
      "Maximum Metrics: Maximum metrics at their respective thresholds\n",
      "\n"
     ]
    },
    {
     "data": {
      "text/html": [
       "<div style=\"overflow:auto\"><table style=\"width:50%\"><tr><td><b>metric</b></td>\n",
       "<td><b>threshold</b></td>\n",
       "<td><b>value</b></td>\n",
       "<td><b>idx</b></td></tr>\n",
       "<tr><td>max f1</td>\n",
       "<td>0.3265819</td>\n",
       "<td>0.8742298</td>\n",
       "<td>197.0</td></tr>\n",
       "<tr><td>max f2</td>\n",
       "<td>0.1685283</td>\n",
       "<td>0.8861337</td>\n",
       "<td>255.0</td></tr>\n",
       "<tr><td>max f0point5</td>\n",
       "<td>0.5556391</td>\n",
       "<td>0.9122073</td>\n",
       "<td>136.0</td></tr>\n",
       "<tr><td>max accuracy</td>\n",
       "<td>0.3715834</td>\n",
       "<td>0.9755429</td>\n",
       "<td>184.0</td></tr>\n",
       "<tr><td>max precision</td>\n",
       "<td>0.9995940</td>\n",
       "<td>1.0</td>\n",
       "<td>0.0</td></tr>\n",
       "<tr><td>max recall</td>\n",
       "<td>0.0149758</td>\n",
       "<td>1.0</td>\n",
       "<td>398.0</td></tr>\n",
       "<tr><td>max specificity</td>\n",
       "<td>0.9995940</td>\n",
       "<td>1.0</td>\n",
       "<td>0.0</td></tr>\n",
       "<tr><td>max absolute_mcc</td>\n",
       "<td>0.3296556</td>\n",
       "<td>0.8608544</td>\n",
       "<td>196.0</td></tr>\n",
       "<tr><td>max min_per_class_accuracy</td>\n",
       "<td>0.1182071</td>\n",
       "<td>0.9488233</td>\n",
       "<td>280.0</td></tr>\n",
       "<tr><td>max mean_per_class_accuracy</td>\n",
       "<td>0.1205802</td>\n",
       "<td>0.9490419</td>\n",
       "<td>279.0</td></tr></table></div>"
      ],
      "text/plain": [
       "metric                       threshold    value     idx\n",
       "---------------------------  -----------  --------  -----\n",
       "max f1                       0.326582     0.87423   197\n",
       "max f2                       0.168528     0.886134  255\n",
       "max f0point5                 0.555639     0.912207  136\n",
       "max accuracy                 0.371583     0.975543  184\n",
       "max precision                0.999594     1         0\n",
       "max recall                   0.0149758    1         398\n",
       "max specificity              0.999594     1         0\n",
       "max absolute_mcc             0.329656     0.860854  196\n",
       "max min_per_class_accuracy   0.118207     0.948823  280\n",
       "max mean_per_class_accuracy  0.12058      0.949042  279"
      ]
     },
     "metadata": {},
     "output_type": "display_data"
    },
    {
     "name": "stdout",
     "output_type": "stream",
     "text": [
      "Gains/Lift Table: Avg response rate: 10.04 %, avg score: 11.41 %\n",
      "\n"
     ]
    },
    {
     "data": {
      "text/html": [
       "<div style=\"overflow:auto\"><table style=\"width:50%\"><tr><td><b></b></td>\n",
       "<td><b>group</b></td>\n",
       "<td><b>cumulative_data_fraction</b></td>\n",
       "<td><b>lower_threshold</b></td>\n",
       "<td><b>lift</b></td>\n",
       "<td><b>cumulative_lift</b></td>\n",
       "<td><b>response_rate</b></td>\n",
       "<td><b>score</b></td>\n",
       "<td><b>cumulative_response_rate</b></td>\n",
       "<td><b>cumulative_score</b></td>\n",
       "<td><b>capture_rate</b></td>\n",
       "<td><b>cumulative_capture_rate</b></td>\n",
       "<td><b>gain</b></td>\n",
       "<td><b>cumulative_gain</b></td></tr>\n",
       "<tr><td></td>\n",
       "<td>1</td>\n",
       "<td>0.0100049</td>\n",
       "<td>0.9983617</td>\n",
       "<td>9.9596881</td>\n",
       "<td>9.9596881</td>\n",
       "<td>1.0</td>\n",
       "<td>0.9993357</td>\n",
       "<td>1.0</td>\n",
       "<td>0.9993357</td>\n",
       "<td>0.0996461</td>\n",
       "<td>0.0996461</td>\n",
       "<td>895.9688122</td>\n",
       "<td>895.9688122</td></tr>\n",
       "<tr><td></td>\n",
       "<td>2</td>\n",
       "<td>0.0200043</td>\n",
       "<td>0.9936060</td>\n",
       "<td>9.9596881</td>\n",
       "<td>9.9596881</td>\n",
       "<td>1.0</td>\n",
       "<td>0.9963321</td>\n",
       "<td>1.0</td>\n",
       "<td>0.9978343</td>\n",
       "<td>0.0995908</td>\n",
       "<td>0.1992369</td>\n",
       "<td>895.9688122</td>\n",
       "<td>895.9688122</td></tr>\n",
       "<tr><td></td>\n",
       "<td>3</td>\n",
       "<td>0.0300037</td>\n",
       "<td>0.9818653</td>\n",
       "<td>9.9596881</td>\n",
       "<td>9.9596881</td>\n",
       "<td>1.0</td>\n",
       "<td>0.9883981</td>\n",
       "<td>1.0</td>\n",
       "<td>0.9946895</td>\n",
       "<td>0.0995908</td>\n",
       "<td>0.2988277</td>\n",
       "<td>895.9688122</td>\n",
       "<td>895.9688122</td></tr>\n",
       "<tr><td></td>\n",
       "<td>4</td>\n",
       "<td>0.0400031</td>\n",
       "<td>0.9567161</td>\n",
       "<td>9.9596881</td>\n",
       "<td>9.9596881</td>\n",
       "<td>1.0</td>\n",
       "<td>0.9708442</td>\n",
       "<td>1.0</td>\n",
       "<td>0.9887290</td>\n",
       "<td>0.0995908</td>\n",
       "<td>0.3984185</td>\n",
       "<td>895.9688122</td>\n",
       "<td>895.9688122</td></tr>\n",
       "<tr><td></td>\n",
       "<td>5</td>\n",
       "<td>0.0500025</td>\n",
       "<td>0.9091438</td>\n",
       "<td>9.9541580</td>\n",
       "<td>9.9585822</td>\n",
       "<td>0.9994448</td>\n",
       "<td>0.9351260</td>\n",
       "<td>0.9998890</td>\n",
       "<td>0.9780096</td>\n",
       "<td>0.0995355</td>\n",
       "<td>0.4979540</td>\n",
       "<td>895.4158034</td>\n",
       "<td>895.8582227</td></tr>\n",
       "<tr><td></td>\n",
       "<td>6</td>\n",
       "<td>0.1000050</td>\n",
       "<td>0.2891143</td>\n",
       "<td>7.4404599</td>\n",
       "<td>8.6995211</td>\n",
       "<td>0.7470575</td>\n",
       "<td>0.6089134</td>\n",
       "<td>0.8734732</td>\n",
       "<td>0.7934615</td>\n",
       "<td>0.3720416</td>\n",
       "<td>0.8699956</td>\n",
       "<td>644.0459881</td>\n",
       "<td>769.9521054</td></tr>\n",
       "<tr><td></td>\n",
       "<td>7</td>\n",
       "<td>0.1500019</td>\n",
       "<td>0.1037802</td>\n",
       "<td>1.7099031</td>\n",
       "<td>6.3698209</td>\n",
       "<td>0.1716824</td>\n",
       "<td>0.1695650</td>\n",
       "<td>0.6395603</td>\n",
       "<td>0.5855114</td>\n",
       "<td>0.0854899</td>\n",
       "<td>0.9554855</td>\n",
       "<td>70.9903147</td>\n",
       "<td>536.9820893</td></tr>\n",
       "<tr><td></td>\n",
       "<td>8</td>\n",
       "<td>0.2000044</td>\n",
       "<td>0.0650662</td>\n",
       "<td>0.4191341</td>\n",
       "<td>4.8821079</td>\n",
       "<td>0.0420831</td>\n",
       "<td>0.0809988</td>\n",
       "<td>0.4901868</td>\n",
       "<td>0.4593797</td>\n",
       "<td>0.0209578</td>\n",
       "<td>0.9764433</td>\n",
       "<td>-58.0865890</td>\n",
       "<td>388.2107899</td></tr>\n",
       "<tr><td></td>\n",
       "<td>9</td>\n",
       "<td>0.3000039</td>\n",
       "<td>0.0416864</td>\n",
       "<td>0.1238671</td>\n",
       "<td>3.2960570</td>\n",
       "<td>0.0124368</td>\n",
       "<td>0.0509961</td>\n",
       "<td>0.3309398</td>\n",
       "<td>0.3232544</td>\n",
       "<td>0.0123866</td>\n",
       "<td>0.9888299</td>\n",
       "<td>-87.6132911</td>\n",
       "<td>229.6056983</td></tr>\n",
       "<tr><td></td>\n",
       "<td>10</td>\n",
       "<td>0.4000033</td>\n",
       "<td>0.0328184</td>\n",
       "<td>0.0547448</td>\n",
       "<td>2.4857402</td>\n",
       "<td>0.0054966</td>\n",
       "<td>0.0367416</td>\n",
       "<td>0.2495801</td>\n",
       "<td>0.2516272</td>\n",
       "<td>0.0054745</td>\n",
       "<td>0.9943044</td>\n",
       "<td>-94.5255171</td>\n",
       "<td>148.5740192</td></tr>\n",
       "<tr><td></td>\n",
       "<td>11</td>\n",
       "<td>0.5000028</td>\n",
       "<td>0.0277975</td>\n",
       "<td>0.0199072</td>\n",
       "<td>1.9925791</td>\n",
       "<td>0.0019988</td>\n",
       "<td>0.0301191</td>\n",
       "<td>0.2000644</td>\n",
       "<td>0.2073260</td>\n",
       "<td>0.0019907</td>\n",
       "<td>0.9962951</td>\n",
       "<td>-98.0092789</td>\n",
       "<td>99.2579072</td></tr>\n",
       "<tr><td></td>\n",
       "<td>12</td>\n",
       "<td>0.6000022</td>\n",
       "<td>0.0243953</td>\n",
       "<td>0.0149304</td>\n",
       "<td>1.6629740</td>\n",
       "<td>0.0014991</td>\n",
       "<td>0.0260137</td>\n",
       "<td>0.1669705</td>\n",
       "<td>0.1771076</td>\n",
       "<td>0.0014930</td>\n",
       "<td>0.9977881</td>\n",
       "<td>-98.5069592</td>\n",
       "<td>66.2974011</td></tr>\n",
       "<tr><td></td>\n",
       "<td>13</td>\n",
       "<td>0.7000017</td>\n",
       "<td>0.0218134</td>\n",
       "<td>0.0082947</td>\n",
       "<td>1.4265931</td>\n",
       "<td>0.0008328</td>\n",
       "<td>0.0230614</td>\n",
       "<td>0.1432367</td>\n",
       "<td>0.1551012</td>\n",
       "<td>0.0008295</td>\n",
       "<td>0.9986176</td>\n",
       "<td>-99.1705329</td>\n",
       "<td>42.6593123</td></tr>\n",
       "<tr><td></td>\n",
       "<td>14</td>\n",
       "<td>0.8000011</td>\n",
       "<td>0.0196112</td>\n",
       "<td>0.0066357</td>\n",
       "<td>1.2490997</td>\n",
       "<td>0.0006663</td>\n",
       "<td>0.0206878</td>\n",
       "<td>0.1254155</td>\n",
       "<td>0.1382996</td>\n",
       "<td>0.0006636</td>\n",
       "<td>0.9992811</td>\n",
       "<td>-99.3364263</td>\n",
       "<td>24.9099682</td></tr>\n",
       "<tr><td></td>\n",
       "<td>15</td>\n",
       "<td>0.9000006</td>\n",
       "<td>0.0175202</td>\n",
       "<td>0.0033179</td>\n",
       "<td>1.1106803</td>\n",
       "<td>0.0003331</td>\n",
       "<td>0.0185748</td>\n",
       "<td>0.1115176</td>\n",
       "<td>0.1249969</td>\n",
       "<td>0.0003318</td>\n",
       "<td>0.9996129</td>\n",
       "<td>-99.6682132</td>\n",
       "<td>11.0680334</td></tr>\n",
       "<tr><td></td>\n",
       "<td>16</td>\n",
       "<td>1.0</td>\n",
       "<td>0.0137166</td>\n",
       "<td>0.0038708</td>\n",
       "<td>1.0</td>\n",
       "<td>0.0003887</td>\n",
       "<td>0.0162307</td>\n",
       "<td>0.1004048</td>\n",
       "<td>0.1141204</td>\n",
       "<td>0.0003871</td>\n",
       "<td>1.0</td>\n",
       "<td>-99.6129153</td>\n",
       "<td>0.0</td></tr></table></div>"
      ],
      "text/plain": [
       "    group    cumulative_data_fraction    lower_threshold    lift        cumulative_lift    response_rate    score      cumulative_response_rate    cumulative_score    capture_rate    cumulative_capture_rate    gain      cumulative_gain\n",
       "--  -------  --------------------------  -----------------  ----------  -----------------  ---------------  ---------  --------------------------  ------------------  --------------  -------------------------  --------  -----------------\n",
       "    1        0.0100049                   0.998362           9.95969     9.95969            1                0.999336   1                           0.999336            0.0996461       0.0996461                  895.969   895.969\n",
       "    2        0.0200043                   0.993606           9.95969     9.95969            1                0.996332   1                           0.997834            0.0995908       0.199237                   895.969   895.969\n",
       "    3        0.0300037                   0.981865           9.95969     9.95969            1                0.988398   1                           0.994689            0.0995908       0.298828                   895.969   895.969\n",
       "    4        0.0400031                   0.956716           9.95969     9.95969            1                0.970844   1                           0.988729            0.0995908       0.398418                   895.969   895.969\n",
       "    5        0.0500025                   0.909144           9.95416     9.95858            0.999445         0.935126   0.999889                    0.97801             0.0995355       0.497954                   895.416   895.858\n",
       "    6        0.100005                    0.289114           7.44046     8.69952            0.747058         0.608913   0.873473                    0.793461            0.372042        0.869996                   644.046   769.952\n",
       "    7        0.150002                    0.10378            1.7099      6.36982            0.171682         0.169565   0.63956                     0.585511            0.0854899       0.955486                   70.9903   536.982\n",
       "    8        0.200004                    0.0650662          0.419134    4.88211            0.0420831        0.0809988  0.490187                    0.45938             0.0209578       0.976443                   -58.0866  388.211\n",
       "    9        0.300004                    0.0416864          0.123867    3.29606            0.0124368        0.0509961  0.33094                     0.323254            0.0123866       0.98883                    -87.6133  229.606\n",
       "    10       0.400003                    0.0328184          0.0547448   2.48574            0.00549664       0.0367416  0.24958                     0.251627            0.00547445      0.994304                   -94.5255  148.574\n",
       "    11       0.500003                    0.0277975          0.0199072   1.99258            0.00199878       0.0301191  0.200064                    0.207326            0.00199071      0.996295                   -98.0093  99.2579\n",
       "    12       0.600002                    0.0243953          0.0149304   1.66297            0.00149908       0.0260137  0.16697                     0.177108            0.00149303      0.997788                   -98.507   66.2974\n",
       "    13       0.700002                    0.0218134          0.00829467  1.42659            0.000832824      0.0230614  0.143237                    0.155101            0.000829463     0.998618                   -99.1705  42.6593\n",
       "    14       0.800001                    0.0196112          0.00663574  1.2491             0.00066626       0.0206878  0.125416                    0.1383              0.00066357      0.999281                   -99.3364  24.91\n",
       "    15       0.900001                    0.0175202          0.00331787  1.11068            0.00033313       0.0185748  0.111518                    0.124997            0.000331785     0.999613                   -99.6682  11.068\n",
       "    16       1                           0.0137166          0.00387085  1                  0.000388651      0.0162307  0.100405                    0.11412             0.000387083     1                          -99.6129  0"
      ]
     },
     "metadata": {},
     "output_type": "display_data"
    },
    {
     "name": "stdout",
     "output_type": "stream",
     "text": [
      "\n",
      "\n",
      "ModelMetricsBinomialGLM: stackedensemble\n",
      "** Reported on validation data. **\n",
      "\n",
      "MSE: 0.0637183863444334\n",
      "RMSE: 0.2524250113289755\n",
      "LogLoss: 0.22465909881392346\n",
      "Null degrees of freedom: 19888\n",
      "Residual degrees of freedom: 19885\n",
      "Null deviance: 13041.261950048633\n",
      "Residual deviance: 8936.489632620247\n",
      "AIC: 8944.489632620247\n",
      "AUC: 0.8772068388413969\n",
      "pr_auc: 0.551010359218546\n",
      "Gini: 0.7544136776827939\n",
      "Confusion Matrix (Act/Pred) for max f1 @ threshold = 0.2444949859073843: \n"
     ]
    },
    {
     "data": {
      "text/html": [
       "<div style=\"overflow:auto\"><table style=\"width:50%\"><tr><td><b></b></td>\n",
       "<td><b>0</b></td>\n",
       "<td><b>1</b></td>\n",
       "<td><b>Error</b></td>\n",
       "<td><b>Rate</b></td></tr>\n",
       "<tr><td>0</td>\n",
       "<td>16959.0</td>\n",
       "<td>916.0</td>\n",
       "<td>0.0512</td>\n",
       "<td> (916.0/17875.0)</td></tr>\n",
       "<tr><td>1</td>\n",
       "<td>938.0</td>\n",
       "<td>1076.0</td>\n",
       "<td>0.4657</td>\n",
       "<td> (938.0/2014.0)</td></tr>\n",
       "<tr><td>Total</td>\n",
       "<td>17897.0</td>\n",
       "<td>1992.0</td>\n",
       "<td>0.0932</td>\n",
       "<td> (1854.0/19889.0)</td></tr></table></div>"
      ],
      "text/plain": [
       "       0      1     Error    Rate\n",
       "-----  -----  ----  -------  ----------------\n",
       "0      16959  916   0.0512   (916.0/17875.0)\n",
       "1      938    1076  0.4657   (938.0/2014.0)\n",
       "Total  17897  1992  0.0932   (1854.0/19889.0)"
      ]
     },
     "metadata": {},
     "output_type": "display_data"
    },
    {
     "name": "stdout",
     "output_type": "stream",
     "text": [
      "Maximum Metrics: Maximum metrics at their respective thresholds\n",
      "\n"
     ]
    },
    {
     "data": {
      "text/html": [
       "<div style=\"overflow:auto\"><table style=\"width:50%\"><tr><td><b>metric</b></td>\n",
       "<td><b>threshold</b></td>\n",
       "<td><b>value</b></td>\n",
       "<td><b>idx</b></td></tr>\n",
       "<tr><td>max f1</td>\n",
       "<td>0.2444950</td>\n",
       "<td>0.5371942</td>\n",
       "<td>213.0</td></tr>\n",
       "<tr><td>max f2</td>\n",
       "<td>0.0979569</td>\n",
       "<td>0.6105450</td>\n",
       "<td>294.0</td></tr>\n",
       "<tr><td>max f0point5</td>\n",
       "<td>0.4656619</td>\n",
       "<td>0.5883247</td>\n",
       "<td>139.0</td></tr>\n",
       "<tr><td>max accuracy</td>\n",
       "<td>0.4656619</td>\n",
       "<td>0.9192016</td>\n",
       "<td>139.0</td></tr>\n",
       "<tr><td>max precision</td>\n",
       "<td>0.9945503</td>\n",
       "<td>1.0</td>\n",
       "<td>0.0</td></tr>\n",
       "<tr><td>max recall</td>\n",
       "<td>0.0145021</td>\n",
       "<td>1.0</td>\n",
       "<td>399.0</td></tr>\n",
       "<tr><td>max specificity</td>\n",
       "<td>0.9945503</td>\n",
       "<td>1.0</td>\n",
       "<td>0.0</td></tr>\n",
       "<tr><td>max absolute_mcc</td>\n",
       "<td>0.3033775</td>\n",
       "<td>0.4875306</td>\n",
       "<td>189.0</td></tr>\n",
       "<tr><td>max min_per_class_accuracy</td>\n",
       "<td>0.0779030</td>\n",
       "<td>0.7943497</td>\n",
       "<td>312.0</td></tr>\n",
       "<tr><td>max mean_per_class_accuracy</td>\n",
       "<td>0.0979569</td>\n",
       "<td>0.7965542</td>\n",
       "<td>294.0</td></tr></table></div>"
      ],
      "text/plain": [
       "metric                       threshold    value     idx\n",
       "---------------------------  -----------  --------  -----\n",
       "max f1                       0.244495     0.537194  213\n",
       "max f2                       0.0979569    0.610545  294\n",
       "max f0point5                 0.465662     0.588325  139\n",
       "max accuracy                 0.465662     0.919202  139\n",
       "max precision                0.99455      1         0\n",
       "max recall                   0.0145021    1         399\n",
       "max specificity              0.99455      1         0\n",
       "max absolute_mcc             0.303377     0.487531  189\n",
       "max min_per_class_accuracy   0.077903     0.79435   312\n",
       "max mean_per_class_accuracy  0.0979569    0.796554  294"
      ]
     },
     "metadata": {},
     "output_type": "display_data"
    },
    {
     "name": "stdout",
     "output_type": "stream",
     "text": [
      "Gains/Lift Table: Avg response rate: 10.13 %, avg score: 10.31 %\n",
      "\n"
     ]
    },
    {
     "data": {
      "text/html": [
       "<div style=\"overflow:auto\"><table style=\"width:50%\"><tr><td><b></b></td>\n",
       "<td><b>group</b></td>\n",
       "<td><b>cumulative_data_fraction</b></td>\n",
       "<td><b>lower_threshold</b></td>\n",
       "<td><b>lift</b></td>\n",
       "<td><b>cumulative_lift</b></td>\n",
       "<td><b>response_rate</b></td>\n",
       "<td><b>score</b></td>\n",
       "<td><b>cumulative_response_rate</b></td>\n",
       "<td><b>cumulative_score</b></td>\n",
       "<td><b>capture_rate</b></td>\n",
       "<td><b>cumulative_capture_rate</b></td>\n",
       "<td><b>gain</b></td>\n",
       "<td><b>cumulative_gain</b></td></tr>\n",
       "<tr><td></td>\n",
       "<td>1</td>\n",
       "<td>0.0100055</td>\n",
       "<td>0.9248702</td>\n",
       "<td>8.4858728</td>\n",
       "<td>8.4858728</td>\n",
       "<td>0.8592965</td>\n",
       "<td>0.9619368</td>\n",
       "<td>0.8592965</td>\n",
       "<td>0.9619368</td>\n",
       "<td>0.0849057</td>\n",
       "<td>0.0849057</td>\n",
       "<td>748.5872760</td>\n",
       "<td>748.5872760</td></tr>\n",
       "<tr><td></td>\n",
       "<td>2</td>\n",
       "<td>0.0200111</td>\n",
       "<td>0.8410734</td>\n",
       "<td>7.8407479</td>\n",
       "<td>8.1633103</td>\n",
       "<td>0.7939698</td>\n",
       "<td>0.8829109</td>\n",
       "<td>0.8266332</td>\n",
       "<td>0.9224239</td>\n",
       "<td>0.0784508</td>\n",
       "<td>0.1633565</td>\n",
       "<td>684.0747930</td>\n",
       "<td>716.3310345</td></tr>\n",
       "<tr><td></td>\n",
       "<td>3</td>\n",
       "<td>0.0300166</td>\n",
       "<td>0.7322607</td>\n",
       "<td>6.4016233</td>\n",
       "<td>7.5760813</td>\n",
       "<td>0.6482412</td>\n",
       "<td>0.7865998</td>\n",
       "<td>0.7671692</td>\n",
       "<td>0.8771492</td>\n",
       "<td>0.0640516</td>\n",
       "<td>0.2274081</td>\n",
       "<td>540.1623310</td>\n",
       "<td>657.6081334</td></tr>\n",
       "<tr><td></td>\n",
       "<td>4</td>\n",
       "<td>0.0400221</td>\n",
       "<td>0.6249395</td>\n",
       "<td>6.1038734</td>\n",
       "<td>7.2080293</td>\n",
       "<td>0.6180905</td>\n",
       "<td>0.6747834</td>\n",
       "<td>0.7298995</td>\n",
       "<td>0.8265577</td>\n",
       "<td>0.0610725</td>\n",
       "<td>0.2884806</td>\n",
       "<td>510.3873389</td>\n",
       "<td>620.8029347</td></tr>\n",
       "<tr><td></td>\n",
       "<td>5</td>\n",
       "<td>0.0500277</td>\n",
       "<td>0.5308463</td>\n",
       "<td>5.8061235</td>\n",
       "<td>6.9276482</td>\n",
       "<td>0.5879397</td>\n",
       "<td>0.5764514</td>\n",
       "<td>0.7015075</td>\n",
       "<td>0.7765365</td>\n",
       "<td>0.0580933</td>\n",
       "<td>0.3465740</td>\n",
       "<td>480.6123467</td>\n",
       "<td>592.7648171</td></tr>\n",
       "<tr><td></td>\n",
       "<td>6</td>\n",
       "<td>0.1000050</td>\n",
       "<td>0.2434015</td>\n",
       "<td>3.7454883</td>\n",
       "<td>5.3373682</td>\n",
       "<td>0.3792757</td>\n",
       "<td>0.3557870</td>\n",
       "<td>0.5404726</td>\n",
       "<td>0.5662675</td>\n",
       "<td>0.1871897</td>\n",
       "<td>0.5337637</td>\n",
       "<td>274.5488322</td>\n",
       "<td>433.7368186</td></tr>\n",
       "<tr><td></td>\n",
       "<td>7</td>\n",
       "<td>0.1500327</td>\n",
       "<td>0.1492519</td>\n",
       "<td>2.0643995</td>\n",
       "<td>4.2460130</td>\n",
       "<td>0.2090452</td>\n",
       "<td>0.1876920</td>\n",
       "<td>0.4299598</td>\n",
       "<td>0.4400334</td>\n",
       "<td>0.1032771</td>\n",
       "<td>0.6370407</td>\n",
       "<td>106.4399455</td>\n",
       "<td>324.6012996</td></tr>\n",
       "<tr><td></td>\n",
       "<td>8</td>\n",
       "<td>0.2000101</td>\n",
       "<td>0.1065702</td>\n",
       "<td>1.7584919</td>\n",
       "<td>3.6244454</td>\n",
       "<td>0.1780684</td>\n",
       "<td>0.1255571</td>\n",
       "<td>0.3670186</td>\n",
       "<td>0.3614538</td>\n",
       "<td>0.0878848</td>\n",
       "<td>0.7249255</td>\n",
       "<td>75.8491865</td>\n",
       "<td>262.4445373</td></tr>\n",
       "<tr><td></td>\n",
       "<td>9</td>\n",
       "<td>0.3000151</td>\n",
       "<td>0.0673408</td>\n",
       "<td>1.0376837</td>\n",
       "<td>2.7621915</td>\n",
       "<td>0.1050779</td>\n",
       "<td>0.0840871</td>\n",
       "<td>0.2797050</td>\n",
       "<td>0.2689982</td>\n",
       "<td>0.1037736</td>\n",
       "<td>0.8286991</td>\n",
       "<td>3.7683675</td>\n",
       "<td>176.2191474</td></tr>\n",
       "<tr><td></td>\n",
       "<td>10</td>\n",
       "<td>0.4000201</td>\n",
       "<td>0.0487524</td>\n",
       "<td>0.6106942</td>\n",
       "<td>2.2243172</td>\n",
       "<td>0.0618401</td>\n",
       "<td>0.0570738</td>\n",
       "<td>0.2252388</td>\n",
       "<td>0.2160171</td>\n",
       "<td>0.0610725</td>\n",
       "<td>0.8897716</td>\n",
       "<td>-38.9305780</td>\n",
       "<td>122.4317160</td></tr>\n",
       "<tr><td></td>\n",
       "<td>11</td>\n",
       "<td>0.5000251</td>\n",
       "<td>0.0381975</td>\n",
       "<td>0.3773395</td>\n",
       "<td>1.8549216</td>\n",
       "<td>0.0382102</td>\n",
       "<td>0.0430693</td>\n",
       "<td>0.1878331</td>\n",
       "<td>0.1814276</td>\n",
       "<td>0.0377358</td>\n",
       "<td>0.9275074</td>\n",
       "<td>-62.2660482</td>\n",
       "<td>85.4921632</td></tr>\n",
       "<tr><td></td>\n",
       "<td>12</td>\n",
       "<td>0.5999799</td>\n",
       "<td>0.0313035</td>\n",
       "<td>0.3228869</td>\n",
       "<td>1.5996895</td>\n",
       "<td>0.0326962</td>\n",
       "<td>0.0345477</td>\n",
       "<td>0.1619878</td>\n",
       "<td>0.1569579</td>\n",
       "<td>0.0322741</td>\n",
       "<td>0.9597815</td>\n",
       "<td>-67.7113076</td>\n",
       "<td>59.9689503</td></tr>\n",
       "<tr><td></td>\n",
       "<td>13</td>\n",
       "<td>0.6999849</td>\n",
       "<td>0.0261816</td>\n",
       "<td>0.1340548</td>\n",
       "<td>1.3902981</td>\n",
       "<td>0.0135747</td>\n",
       "<td>0.0286153</td>\n",
       "<td>0.1407844</td>\n",
       "<td>0.1386219</td>\n",
       "<td>0.0134062</td>\n",
       "<td>0.9731877</td>\n",
       "<td>-86.5945171</td>\n",
       "<td>39.0298082</td></tr>\n",
       "<tr><td></td>\n",
       "<td>14</td>\n",
       "<td>0.7999899</td>\n",
       "<td>0.0221712</td>\n",
       "<td>0.1290898</td>\n",
       "<td>1.2326371</td>\n",
       "<td>0.0130719</td>\n",
       "<td>0.0241390</td>\n",
       "<td>0.1248193</td>\n",
       "<td>0.1243106</td>\n",
       "<td>0.0129096</td>\n",
       "<td>0.9860973</td>\n",
       "<td>-87.0910165</td>\n",
       "<td>23.2637142</td></tr>\n",
       "<tr><td></td>\n",
       "<td>15</td>\n",
       "<td>0.8999950</td>\n",
       "<td>0.0185345</td>\n",
       "<td>0.0893699</td>\n",
       "<td>1.1056004</td>\n",
       "<td>0.0090498</td>\n",
       "<td>0.0203261</td>\n",
       "<td>0.1119553</td>\n",
       "<td>0.1127561</td>\n",
       "<td>0.0089374</td>\n",
       "<td>0.9950348</td>\n",
       "<td>-91.0630114</td>\n",
       "<td>10.5600351</td></tr>\n",
       "<tr><td></td>\n",
       "<td>16</td>\n",
       "<td>1.0</td>\n",
       "<td>0.0138331</td>\n",
       "<td>0.0496499</td>\n",
       "<td>1.0</td>\n",
       "<td>0.0050277</td>\n",
       "<td>0.0166965</td>\n",
       "<td>0.1012620</td>\n",
       "<td>0.1031497</td>\n",
       "<td>0.0049652</td>\n",
       "<td>1.0</td>\n",
       "<td>-95.0350063</td>\n",
       "<td>0.0</td></tr></table></div>"
      ],
      "text/plain": [
       "    group    cumulative_data_fraction    lower_threshold    lift       cumulative_lift    response_rate    score      cumulative_response_rate    cumulative_score    capture_rate    cumulative_capture_rate    gain      cumulative_gain\n",
       "--  -------  --------------------------  -----------------  ---------  -----------------  ---------------  ---------  --------------------------  ------------------  --------------  -------------------------  --------  -----------------\n",
       "    1        0.0100055                   0.92487            8.48587    8.48587            0.859296         0.961937   0.859296                    0.961937            0.0849057       0.0849057                  748.587   748.587\n",
       "    2        0.0200111                   0.841073           7.84075    8.16331            0.79397          0.882911   0.826633                    0.922424            0.0784508       0.163357                   684.075   716.331\n",
       "    3        0.0300166                   0.732261           6.40162    7.57608            0.648241         0.7866     0.767169                    0.877149            0.0640516       0.227408                   540.162   657.608\n",
       "    4        0.0400221                   0.624939           6.10387    7.20803            0.61809          0.674783   0.729899                    0.826558            0.0610725       0.288481                   510.387   620.803\n",
       "    5        0.0500277                   0.530846           5.80612    6.92765            0.58794          0.576451   0.701508                    0.776536            0.0580933       0.346574                   480.612   592.765\n",
       "    6        0.100005                    0.243401           3.74549    5.33737            0.379276         0.355787   0.540473                    0.566268            0.18719         0.533764                   274.549   433.737\n",
       "    7        0.150033                    0.149252           2.0644     4.24601            0.209045         0.187692   0.42996                     0.440033            0.103277        0.637041                   106.44    324.601\n",
       "    8        0.20001                     0.10657            1.75849    3.62445            0.178068         0.125557   0.367019                    0.361454            0.0878848       0.724926                   75.8492   262.445\n",
       "    9        0.300015                    0.0673408          1.03768    2.76219            0.105078         0.0840871  0.279705                    0.268998            0.103774        0.828699                   3.76837   176.219\n",
       "    10       0.40002                     0.0487524          0.610694   2.22432            0.0618401        0.0570738  0.225239                    0.216017            0.0610725       0.889772                   -38.9306  122.432\n",
       "    11       0.500025                    0.0381975          0.37734    1.85492            0.0382102        0.0430693  0.187833                    0.181428            0.0377358       0.927507                   -62.266   85.4922\n",
       "    12       0.59998                     0.0313035          0.322887   1.59969            0.0326962        0.0345477  0.161988                    0.156958            0.0322741       0.959782                   -67.7113  59.969\n",
       "    13       0.699985                    0.0261816          0.134055   1.3903             0.0135747        0.0286153  0.140784                    0.138622            0.0134062       0.973188                   -86.5945  39.0298\n",
       "    14       0.79999                     0.0221712          0.12909    1.23264            0.0130719        0.024139   0.124819                    0.124311            0.0129096       0.986097                   -87.091   23.2637\n",
       "    15       0.899995                    0.0185345          0.0893699  1.1056             0.00904977       0.0203261  0.111955                    0.112756            0.00893744      0.995035                   -91.063   10.56\n",
       "    16       1                           0.0138331          0.0496499  1                  0.00502765       0.0166965  0.101262                    0.10315             0.00496524      1                          -95.035   0"
      ]
     },
     "metadata": {},
     "output_type": "display_data"
    },
    {
     "name": "stdout",
     "output_type": "stream",
     "text": [
      "\n",
      "\n",
      "ModelMetricsBinomialGLM: stackedensemble\n",
      "** Reported on cross-validation data. **\n",
      "\n",
      "MSE: 0.06350803432099066\n",
      "RMSE: 0.25200800447801386\n",
      "LogLoss: 0.2245088626428313\n",
      "Null degrees of freedom: 180110\n",
      "Residual degrees of freedom: 180107\n",
      "Null deviance: 117423.64977974322\n",
      "Residual deviance: 80873.03151892599\n",
      "AIC: 80881.03151892599\n",
      "AUC: 0.8723294527604921\n",
      "pr_auc: 0.5476107718159219\n",
      "Gini: 0.7446589055209842\n",
      "Confusion Matrix (Act/Pred) for max f1 @ threshold = 0.22038810471147566: \n"
     ]
    },
    {
     "data": {
      "text/html": [
       "<div style=\"overflow:auto\"><table style=\"width:50%\"><tr><td><b></b></td>\n",
       "<td><b>0</b></td>\n",
       "<td><b>1</b></td>\n",
       "<td><b>Error</b></td>\n",
       "<td><b>Rate</b></td></tr>\n",
       "<tr><td>0</td>\n",
       "<td>152605.0</td>\n",
       "<td>9422.0</td>\n",
       "<td>0.0582</td>\n",
       "<td> (9422.0/162027.0)</td></tr>\n",
       "<tr><td>1</td>\n",
       "<td>8241.0</td>\n",
       "<td>9843.0</td>\n",
       "<td>0.4557</td>\n",
       "<td> (8241.0/18084.0)</td></tr>\n",
       "<tr><td>Total</td>\n",
       "<td>160846.0</td>\n",
       "<td>19265.0</td>\n",
       "<td>0.0981</td>\n",
       "<td> (17663.0/180111.0)</td></tr></table></div>"
      ],
      "text/plain": [
       "       0       1      Error    Rate\n",
       "-----  ------  -----  -------  ------------------\n",
       "0      152605  9422   0.0582   (9422.0/162027.0)\n",
       "1      8241    9843   0.4557   (8241.0/18084.0)\n",
       "Total  160846  19265  0.0981   (17663.0/180111.0)"
      ]
     },
     "metadata": {},
     "output_type": "display_data"
    },
    {
     "name": "stdout",
     "output_type": "stream",
     "text": [
      "Maximum Metrics: Maximum metrics at their respective thresholds\n",
      "\n"
     ]
    },
    {
     "data": {
      "text/html": [
       "<div style=\"overflow:auto\"><table style=\"width:50%\"><tr><td><b>metric</b></td>\n",
       "<td><b>threshold</b></td>\n",
       "<td><b>value</b></td>\n",
       "<td><b>idx</b></td></tr>\n",
       "<tr><td>max f1</td>\n",
       "<td>0.2203881</td>\n",
       "<td>0.5270824</td>\n",
       "<td>226.0</td></tr>\n",
       "<tr><td>max f2</td>\n",
       "<td>0.0962150</td>\n",
       "<td>0.5979859</td>\n",
       "<td>298.0</td></tr>\n",
       "<tr><td>max f0point5</td>\n",
       "<td>0.4446695</td>\n",
       "<td>0.5760870</td>\n",
       "<td>145.0</td></tr>\n",
       "<tr><td>max accuracy</td>\n",
       "<td>0.5353672</td>\n",
       "<td>0.9190610</td>\n",
       "<td>119.0</td></tr>\n",
       "<tr><td>max precision</td>\n",
       "<td>0.9901016</td>\n",
       "<td>0.9792746</td>\n",
       "<td>2.0</td></tr>\n",
       "<tr><td>max recall</td>\n",
       "<td>0.0145947</td>\n",
       "<td>1.0</td>\n",
       "<td>399.0</td></tr>\n",
       "<tr><td>max specificity</td>\n",
       "<td>0.9963294</td>\n",
       "<td>0.9999877</td>\n",
       "<td>0.0</td></tr>\n",
       "<tr><td>max absolute_mcc</td>\n",
       "<td>0.2500680</td>\n",
       "<td>0.4751555</td>\n",
       "<td>213.0</td></tr>\n",
       "<tr><td>max min_per_class_accuracy</td>\n",
       "<td>0.0759774</td>\n",
       "<td>0.7885106</td>\n",
       "<td>316.0</td></tr>\n",
       "<tr><td>max mean_per_class_accuracy</td>\n",
       "<td>0.0866072</td>\n",
       "<td>0.7900511</td>\n",
       "<td>306.0</td></tr></table></div>"
      ],
      "text/plain": [
       "metric                       threshold    value     idx\n",
       "---------------------------  -----------  --------  -----\n",
       "max f1                       0.220388     0.527082  226\n",
       "max f2                       0.096215     0.597986  298\n",
       "max f0point5                 0.444669     0.576087  145\n",
       "max accuracy                 0.535367     0.919061  119\n",
       "max precision                0.990102     0.979275  2\n",
       "max recall                   0.0145947    1         399\n",
       "max specificity              0.996329     0.999988  0\n",
       "max absolute_mcc             0.250068     0.475155  213\n",
       "max min_per_class_accuracy   0.0759774    0.788511  316\n",
       "max mean_per_class_accuracy  0.0866072    0.790051  306"
      ]
     },
     "metadata": {},
     "output_type": "display_data"
    },
    {
     "name": "stdout",
     "output_type": "stream",
     "text": [
      "Gains/Lift Table: Avg response rate: 10.04 %, avg score: 10.04 %\n",
      "\n"
     ]
    },
    {
     "data": {
      "text/html": [
       "<div style=\"overflow:auto\"><table style=\"width:50%\"><tr><td><b></b></td>\n",
       "<td><b>group</b></td>\n",
       "<td><b>cumulative_data_fraction</b></td>\n",
       "<td><b>lower_threshold</b></td>\n",
       "<td><b>lift</b></td>\n",
       "<td><b>cumulative_lift</b></td>\n",
       "<td><b>response_rate</b></td>\n",
       "<td><b>score</b></td>\n",
       "<td><b>cumulative_response_rate</b></td>\n",
       "<td><b>cumulative_score</b></td>\n",
       "<td><b>capture_rate</b></td>\n",
       "<td><b>cumulative_capture_rate</b></td>\n",
       "<td><b>gain</b></td>\n",
       "<td><b>cumulative_gain</b></td></tr>\n",
       "<tr><td></td>\n",
       "<td>1</td>\n",
       "<td>0.0100049</td>\n",
       "<td>0.9149645</td>\n",
       "<td>8.9371896</td>\n",
       "<td>8.9371896</td>\n",
       "<td>0.8973363</td>\n",
       "<td>0.9585584</td>\n",
       "<td>0.8973363</td>\n",
       "<td>0.9585584</td>\n",
       "<td>0.0894161</td>\n",
       "<td>0.0894161</td>\n",
       "<td>793.7189619</td>\n",
       "<td>793.7189619</td></tr>\n",
       "<tr><td></td>\n",
       "<td>2</td>\n",
       "<td>0.0200043</td>\n",
       "<td>0.8076891</td>\n",
       "<td>7.9577963</td>\n",
       "<td>8.4476289</td>\n",
       "<td>0.7990006</td>\n",
       "<td>0.8629991</td>\n",
       "<td>0.8481821</td>\n",
       "<td>0.9107920</td>\n",
       "<td>0.0795731</td>\n",
       "<td>0.1689892</td>\n",
       "<td>695.7796340</td>\n",
       "<td>744.7628893</td></tr>\n",
       "<tr><td></td>\n",
       "<td>3</td>\n",
       "<td>0.0300037</td>\n",
       "<td>0.6870517</td>\n",
       "<td>6.6858761</td>\n",
       "<td>7.8604866</td>\n",
       "<td>0.6712937</td>\n",
       "<td>0.7478432</td>\n",
       "<td>0.7892302</td>\n",
       "<td>0.8564858</td>\n",
       "<td>0.0668547</td>\n",
       "<td>0.2358438</td>\n",
       "<td>568.5876146</td>\n",
       "<td>686.0486647</td></tr>\n",
       "<tr><td></td>\n",
       "<td>4</td>\n",
       "<td>0.0400031</td>\n",
       "<td>0.5746624</td>\n",
       "<td>5.8397727</td>\n",
       "<td>7.3553783</td>\n",
       "<td>0.5863409</td>\n",
       "<td>0.6293275</td>\n",
       "<td>0.7385149</td>\n",
       "<td>0.7997041</td>\n",
       "<td>0.0583942</td>\n",
       "<td>0.2942380</td>\n",
       "<td>483.9772713</td>\n",
       "<td>635.5378279</td></tr>\n",
       "<tr><td></td>\n",
       "<td>5</td>\n",
       "<td>0.0500025</td>\n",
       "<td>0.4853169</td>\n",
       "<td>4.9936693</td>\n",
       "<td>6.8830889</td>\n",
       "<td>0.5013881</td>\n",
       "<td>0.5278797</td>\n",
       "<td>0.6910948</td>\n",
       "<td>0.7453452</td>\n",
       "<td>0.0499336</td>\n",
       "<td>0.3441716</td>\n",
       "<td>399.3669281</td>\n",
       "<td>588.3088926</td></tr>\n",
       "<tr><td></td>\n",
       "<td>6</td>\n",
       "<td>0.1000050</td>\n",
       "<td>0.2373644</td>\n",
       "<td>3.6350760</td>\n",
       "<td>5.2590825</td>\n",
       "<td>0.3649789</td>\n",
       "<td>0.3379487</td>\n",
       "<td>0.5280369</td>\n",
       "<td>0.5416470</td>\n",
       "<td>0.1817629</td>\n",
       "<td>0.5259345</td>\n",
       "<td>263.5076045</td>\n",
       "<td>425.9082486</td></tr>\n",
       "<tr><td></td>\n",
       "<td>7</td>\n",
       "<td>0.1500019</td>\n",
       "<td>0.1476048</td>\n",
       "<td>2.2684420</td>\n",
       "<td>4.2622761</td>\n",
       "<td>0.2277624</td>\n",
       "<td>0.1858279</td>\n",
       "<td>0.4279528</td>\n",
       "<td>0.4230494</td>\n",
       "<td>0.1134152</td>\n",
       "<td>0.6393497</td>\n",
       "<td>126.8442014</td>\n",
       "<td>326.2276125</td></tr>\n",
       "<tr><td></td>\n",
       "<td>8</td>\n",
       "<td>0.2000044</td>\n",
       "<td>0.1050999</td>\n",
       "<td>1.5051228</td>\n",
       "<td>3.5729686</td>\n",
       "<td>0.1511215</td>\n",
       "<td>0.1239491</td>\n",
       "<td>0.3587430</td>\n",
       "<td>0.3482722</td>\n",
       "<td>0.0752599</td>\n",
       "<td>0.7146096</td>\n",
       "<td>50.5122755</td>\n",
       "<td>257.2968648</td></tr>\n",
       "<tr><td></td>\n",
       "<td>9</td>\n",
       "<td>0.3000039</td>\n",
       "<td>0.0669897</td>\n",
       "<td>1.0019963</td>\n",
       "<td>2.7159937</td>\n",
       "<td>0.1006052</td>\n",
       "<td>0.0832503</td>\n",
       "<td>0.2726987</td>\n",
       "<td>0.2599332</td>\n",
       "<td>0.1001991</td>\n",
       "<td>0.8148087</td>\n",
       "<td>0.1996273</td>\n",
       "<td>171.5993717</td></tr>\n",
       "<tr><td></td>\n",
       "<td>10</td>\n",
       "<td>0.4000033</td>\n",
       "<td>0.0489939</td>\n",
       "<td>0.6585969</td>\n",
       "<td>2.2016516</td>\n",
       "<td>0.0661263</td>\n",
       "<td>0.0570794</td>\n",
       "<td>0.2210563</td>\n",
       "<td>0.2092205</td>\n",
       "<td>0.0658593</td>\n",
       "<td>0.8806680</td>\n",
       "<td>-34.1403112</td>\n",
       "<td>120.1651649</td></tr>\n",
       "<tr><td></td>\n",
       "<td>11</td>\n",
       "<td>0.5000028</td>\n",
       "<td>0.0383973</td>\n",
       "<td>0.4407235</td>\n",
       "<td>1.8494699</td>\n",
       "<td>0.0442507</td>\n",
       "<td>0.0432744</td>\n",
       "<td>0.1856956</td>\n",
       "<td>0.1760316</td>\n",
       "<td>0.0440721</td>\n",
       "<td>0.9247401</td>\n",
       "<td>-55.9276474</td>\n",
       "<td>84.9469935</td></tr>\n",
       "<tr><td></td>\n",
       "<td>12</td>\n",
       "<td>0.6000022</td>\n",
       "<td>0.0312402</td>\n",
       "<td>0.2975022</td>\n",
       "<td>1.5908110</td>\n",
       "<td>0.0298706</td>\n",
       "<td>0.0346122</td>\n",
       "<td>0.1597250</td>\n",
       "<td>0.1524619</td>\n",
       "<td>0.0297501</td>\n",
       "<td>0.9544902</td>\n",
       "<td>-70.2497795</td>\n",
       "<td>59.0811040</td></tr>\n",
       "<tr><td></td>\n",
       "<td>13</td>\n",
       "<td>0.7000017</td>\n",
       "<td>0.0260528</td>\n",
       "<td>0.1952013</td>\n",
       "<td>1.3914398</td>\n",
       "<td>0.0195991</td>\n",
       "<td>0.0285056</td>\n",
       "<td>0.1397072</td>\n",
       "<td>0.1347540</td>\n",
       "<td>0.0195200</td>\n",
       "<td>0.9740102</td>\n",
       "<td>-80.4798739</td>\n",
       "<td>39.1439796</td></tr>\n",
       "<tr><td></td>\n",
       "<td>14</td>\n",
       "<td>0.8000011</td>\n",
       "<td>0.0219776</td>\n",
       "<td>0.1277379</td>\n",
       "<td>1.2334782</td>\n",
       "<td>0.0128255</td>\n",
       "<td>0.0239615</td>\n",
       "<td>0.1238471</td>\n",
       "<td>0.1209050</td>\n",
       "<td>0.0127737</td>\n",
       "<td>0.9867839</td>\n",
       "<td>-87.2262065</td>\n",
       "<td>23.3478160</td></tr>\n",
       "<tr><td></td>\n",
       "<td>15</td>\n",
       "<td>0.9000006</td>\n",
       "<td>0.0184768</td>\n",
       "<td>0.0868176</td>\n",
       "<td>1.1060722</td>\n",
       "<td>0.0087169</td>\n",
       "<td>0.0202032</td>\n",
       "<td>0.1110549</td>\n",
       "<td>0.1097160</td>\n",
       "<td>0.0086817</td>\n",
       "<td>0.9954656</td>\n",
       "<td>-91.3182442</td>\n",
       "<td>10.6072212</td></tr>\n",
       "<tr><td></td>\n",
       "<td>16</td>\n",
       "<td>1.0</td>\n",
       "<td>0.0135464</td>\n",
       "<td>0.0453442</td>\n",
       "<td>1.0</td>\n",
       "<td>0.0045528</td>\n",
       "<td>0.0166171</td>\n",
       "<td>0.1004048</td>\n",
       "<td>0.1004062</td>\n",
       "<td>0.0045344</td>\n",
       "<td>1.0</td>\n",
       "<td>-95.4655798</td>\n",
       "<td>0.0</td></tr></table></div>"
      ],
      "text/plain": [
       "    group    cumulative_data_fraction    lower_threshold    lift       cumulative_lift    response_rate    score      cumulative_response_rate    cumulative_score    capture_rate    cumulative_capture_rate    gain      cumulative_gain\n",
       "--  -------  --------------------------  -----------------  ---------  -----------------  ---------------  ---------  --------------------------  ------------------  --------------  -------------------------  --------  -----------------\n",
       "    1        0.0100049                   0.914965           8.93719    8.93719            0.897336         0.958558   0.897336                    0.958558            0.0894161       0.0894161                  793.719   793.719\n",
       "    2        0.0200043                   0.807689           7.9578     8.44763            0.799001         0.862999   0.848182                    0.910792            0.0795731       0.168989                   695.78    744.763\n",
       "    3        0.0300037                   0.687052           6.68588    7.86049            0.671294         0.747843   0.78923                     0.856486            0.0668547       0.235844                   568.588   686.049\n",
       "    4        0.0400031                   0.574662           5.83977    7.35538            0.586341         0.629327   0.738515                    0.799704            0.0583942       0.294238                   483.977   635.538\n",
       "    5        0.0500025                   0.485317           4.99367    6.88309            0.501388         0.52788    0.691095                    0.745345            0.0499336       0.344172                   399.367   588.309\n",
       "    6        0.100005                    0.237364           3.63508    5.25908            0.364979         0.337949   0.528037                    0.541647            0.181763        0.525935                   263.508   425.908\n",
       "    7        0.150002                    0.147605           2.26844    4.26228            0.227762         0.185828   0.427953                    0.423049            0.113415        0.63935                    126.844   326.228\n",
       "    8        0.200004                    0.1051             1.50512    3.57297            0.151121         0.123949   0.358743                    0.348272            0.0752599       0.71461                    50.5123   257.297\n",
       "    9        0.300004                    0.0669897          1.002      2.71599            0.100605         0.0832503  0.272699                    0.259933            0.100199        0.814809                   0.199627  171.599\n",
       "    10       0.400003                    0.0489939          0.658597   2.20165            0.0661263        0.0570794  0.221056                    0.20922             0.0658593       0.880668                   -34.1403  120.165\n",
       "    11       0.500003                    0.0383973          0.440724   1.84947            0.0442507        0.0432744  0.185696                    0.176032            0.0440721       0.92474                    -55.9276  84.947\n",
       "    12       0.600002                    0.0312402          0.297502   1.59081            0.0298706        0.0346122  0.159725                    0.152462            0.0297501       0.95449                    -70.2498  59.0811\n",
       "    13       0.700002                    0.0260528          0.195201   1.39144            0.0195991        0.0285056  0.139707                    0.134754            0.01952         0.97401                    -80.4799  39.144\n",
       "    14       0.800001                    0.0219776          0.127738   1.23348            0.0128255        0.0239615  0.123847                    0.120905            0.0127737       0.986784                   -87.2262  23.3478\n",
       "    15       0.900001                    0.0184768          0.0868176  1.10607            0.0087169        0.0202032  0.111055                    0.109716            0.00868171      0.995466                   -91.3182  10.6072\n",
       "    16       1                           0.0135464          0.0453442  1                  0.00455277       0.0166171  0.100405                    0.100406            0.0045344       1                          -95.4656  0"
      ]
     },
     "metadata": {},
     "output_type": "display_data"
    },
    {
     "name": "stdout",
     "output_type": "stream",
     "text": [
      "\n"
     ]
    },
    {
     "data": {
      "text/plain": []
     },
     "execution_count": 12,
     "metadata": {},
     "output_type": "execute_result"
    }
   ],
   "source": [
    "aml.leader"
   ]
  },
  {
   "cell_type": "code",
   "execution_count": 13,
   "metadata": {},
   "outputs": [
    {
     "data": {
      "text/plain": [
       "'stackedensemble'"
      ]
     },
     "execution_count": 13,
     "metadata": {},
     "output_type": "execute_result"
    }
   ],
   "source": [
    "aml.leader.algo"
   ]
  },
  {
   "cell_type": "markdown",
   "metadata": {},
   "source": [
    "#### Transfer the leaderboader to a dataframe"
   ]
  },
  {
   "cell_type": "code",
   "execution_count": 14,
   "metadata": {},
   "outputs": [],
   "source": [
    "aml_leaderboard_df = aml.leaderboard.as_data_frame()"
   ]
  },
  {
   "cell_type": "code",
   "execution_count": 15,
   "metadata": {},
   "outputs": [
    {
     "data": {
      "text/html": [
       "<div>\n",
       "<style scoped>\n",
       "    .dataframe tbody tr th:only-of-type {\n",
       "        vertical-align: middle;\n",
       "    }\n",
       "\n",
       "    .dataframe tbody tr th {\n",
       "        vertical-align: top;\n",
       "    }\n",
       "\n",
       "    .dataframe thead th {\n",
       "        text-align: right;\n",
       "    }\n",
       "</style>\n",
       "<table border=\"1\" class=\"dataframe\">\n",
       "  <thead>\n",
       "    <tr style=\"text-align: right;\">\n",
       "      <th></th>\n",
       "      <th>model_id</th>\n",
       "      <th>auc</th>\n",
       "      <th>logloss</th>\n",
       "      <th>mean_per_class_error</th>\n",
       "      <th>rmse</th>\n",
       "      <th>mse</th>\n",
       "    </tr>\n",
       "  </thead>\n",
       "  <tbody>\n",
       "    <tr>\n",
       "      <th>0</th>\n",
       "      <td>StackedEnsemble_BestOfFamily_AutoML_20190224_2...</td>\n",
       "      <td>0.872329</td>\n",
       "      <td>0.224509</td>\n",
       "      <td>0.256929</td>\n",
       "      <td>0.252008</td>\n",
       "      <td>0.063508</td>\n",
       "    </tr>\n",
       "    <tr>\n",
       "      <th>1</th>\n",
       "      <td>StackedEnsemble_AllModels_AutoML_20190224_212548</td>\n",
       "      <td>0.872329</td>\n",
       "      <td>0.224509</td>\n",
       "      <td>0.256929</td>\n",
       "      <td>0.252008</td>\n",
       "      <td>0.063508</td>\n",
       "    </tr>\n",
       "    <tr>\n",
       "      <th>2</th>\n",
       "      <td>GLM_grid_1_AutoML_20190224_212548_model_1</td>\n",
       "      <td>0.859378</td>\n",
       "      <td>0.232107</td>\n",
       "      <td>0.270732</td>\n",
       "      <td>0.258029</td>\n",
       "      <td>0.066579</td>\n",
       "    </tr>\n",
       "    <tr>\n",
       "      <th>3</th>\n",
       "      <td>XRT_1_AutoML_20190224_212548</td>\n",
       "      <td>0.805302</td>\n",
       "      <td>0.279015</td>\n",
       "      <td>0.316850</td>\n",
       "      <td>0.282503</td>\n",
       "      <td>0.079808</td>\n",
       "    </tr>\n",
       "    <tr>\n",
       "      <th>4</th>\n",
       "      <td>DRF_1_AutoML_20190224_212548</td>\n",
       "      <td>0.802965</td>\n",
       "      <td>0.278544</td>\n",
       "      <td>0.314142</td>\n",
       "      <td>0.282269</td>\n",
       "      <td>0.079676</td>\n",
       "    </tr>\n",
       "  </tbody>\n",
       "</table>\n",
       "</div>"
      ],
      "text/plain": [
       "                                            model_id       auc   logloss  \\\n",
       "0  StackedEnsemble_BestOfFamily_AutoML_20190224_2...  0.872329  0.224509   \n",
       "1   StackedEnsemble_AllModels_AutoML_20190224_212548  0.872329  0.224509   \n",
       "2          GLM_grid_1_AutoML_20190224_212548_model_1  0.859378  0.232107   \n",
       "3                       XRT_1_AutoML_20190224_212548  0.805302  0.279015   \n",
       "4                       DRF_1_AutoML_20190224_212548  0.802965  0.278544   \n",
       "\n",
       "   mean_per_class_error      rmse       mse  \n",
       "0              0.256929  0.252008  0.063508  \n",
       "1              0.256929  0.252008  0.063508  \n",
       "2              0.270732  0.258029  0.066579  \n",
       "3              0.316850  0.282503  0.079808  \n",
       "4              0.314142  0.282269  0.079676  "
      ]
     },
     "execution_count": 15,
     "metadata": {},
     "output_type": "execute_result"
    }
   ],
   "source": [
    "aml_leaderboard_df.head()"
   ]
  },
  {
   "cell_type": "markdown",
   "metadata": {},
   "source": [
    "Since the StackedEnsemble is not a single model.\n",
    "Its the combination of different algorithm.\n",
    "So just choose the algorithms other than the stacked ensemble"
   ]
  },
  {
   "cell_type": "code",
   "execution_count": 16,
   "metadata": {},
   "outputs": [
    {
     "name": "stdout",
     "output_type": "stream",
     "text": [
      "GLM_grid_1_AutoML_20190224_212548_model_1\n",
      "XRT_1_AutoML_20190224_212548\n",
      "DRF_1_AutoML_20190224_212548\n",
      "model_id  GLM_grid_1_AutoML_20190224_212548_model_1\n"
     ]
    }
   ],
   "source": [
    "m_id=''\n",
    "for model in aml_leaderboard_df['model_id']:\n",
    "    if 'StackedEnsemble' not in model:\n",
    "      print (model)\n",
    "      if m_id=='':\n",
    "            m_id=model\n",
    "print (\"model_id \", m_id)"
   ]
  },
  {
   "cell_type": "code",
   "execution_count": 31,
   "metadata": {},
   "outputs": [
    {
     "data": {
      "text/plain": [
       "'glm'"
      ]
     },
     "execution_count": 31,
     "metadata": {},
     "output_type": "execute_result"
    }
   ],
   "source": [
    "best_model= h2o.get_model(m_id)\n",
    "best_model.algo"
   ]
  },
  {
   "cell_type": "markdown",
   "metadata": {},
   "source": [
    "The GLM doesn't have the variable importance, so we choose "
   ]
  },
  {
   "cell_type": "code",
   "execution_count": 32,
   "metadata": {},
   "outputs": [
    {
     "name": "stdout",
     "output_type": "stream",
     "text": [
      "Warning: This model doesn't have variable importances\n",
      "None\n"
     ]
    }
   ],
   "source": [
    "print(best_model.varimp())"
   ]
  },
  {
   "cell_type": "markdown",
   "metadata": {},
   "source": [
    "## Import the test data"
   ]
  },
  {
   "cell_type": "code",
   "execution_count": 19,
   "metadata": {},
   "outputs": [
    {
     "name": "stdout",
     "output_type": "stream",
     "text": [
      "Parse progress: |█████████████████████████████████████████████████████████| 100%\n"
     ]
    }
   ],
   "source": [
    "df_test = h2o.import_file(path = 'test.csv')"
   ]
  },
  {
   "cell_type": "code",
   "execution_count": 20,
   "metadata": {
    "scrolled": true
   },
   "outputs": [
    {
     "data": {
      "text/html": [
       "<table>\n",
       "<thead>\n",
       "<tr><th>ID_code  </th><th style=\"text-align: right;\">  var_0</th><th style=\"text-align: right;\">   var_1</th><th style=\"text-align: right;\">  var_2</th><th style=\"text-align: right;\">  var_3</th><th style=\"text-align: right;\">  var_4</th><th style=\"text-align: right;\">   var_5</th><th style=\"text-align: right;\">  var_6</th><th style=\"text-align: right;\">  var_7</th><th style=\"text-align: right;\">  var_8</th><th style=\"text-align: right;\">  var_9</th><th style=\"text-align: right;\">  var_10</th><th style=\"text-align: right;\">  var_11</th><th style=\"text-align: right;\">  var_12</th><th style=\"text-align: right;\">  var_13</th><th style=\"text-align: right;\">  var_14</th><th style=\"text-align: right;\">  var_15</th><th style=\"text-align: right;\">  var_16</th><th style=\"text-align: right;\">  var_17</th><th style=\"text-align: right;\">  var_18</th><th style=\"text-align: right;\">  var_19</th><th style=\"text-align: right;\">  var_20</th><th style=\"text-align: right;\">  var_21</th><th style=\"text-align: right;\">  var_22</th><th style=\"text-align: right;\">  var_23</th><th style=\"text-align: right;\">  var_24</th><th style=\"text-align: right;\">  var_25</th><th style=\"text-align: right;\">  var_26</th><th style=\"text-align: right;\">  var_27</th><th style=\"text-align: right;\">  var_28</th><th style=\"text-align: right;\">  var_29</th><th style=\"text-align: right;\">  var_30</th><th style=\"text-align: right;\">  var_31</th><th style=\"text-align: right;\">  var_32</th><th style=\"text-align: right;\">  var_33</th><th style=\"text-align: right;\">  var_34</th><th style=\"text-align: right;\">  var_35</th><th style=\"text-align: right;\">  var_36</th><th style=\"text-align: right;\">  var_37</th><th style=\"text-align: right;\">  var_38</th><th style=\"text-align: right;\">  var_39</th><th style=\"text-align: right;\">  var_40</th><th style=\"text-align: right;\">  var_41</th><th style=\"text-align: right;\">  var_42</th><th style=\"text-align: right;\">  var_43</th><th style=\"text-align: right;\">  var_44</th><th style=\"text-align: right;\">  var_45</th><th style=\"text-align: right;\">  var_46</th><th style=\"text-align: right;\">  var_47</th><th style=\"text-align: right;\">  var_48</th><th style=\"text-align: right;\">  var_49</th><th style=\"text-align: right;\">  var_50</th><th style=\"text-align: right;\">  var_51</th><th style=\"text-align: right;\">  var_52</th><th style=\"text-align: right;\">  var_53</th><th style=\"text-align: right;\">  var_54</th><th style=\"text-align: right;\">  var_55</th><th style=\"text-align: right;\">  var_56</th><th style=\"text-align: right;\">  var_57</th><th style=\"text-align: right;\">  var_58</th><th style=\"text-align: right;\">  var_59</th><th style=\"text-align: right;\">  var_60</th><th style=\"text-align: right;\">  var_61</th><th style=\"text-align: right;\">  var_62</th><th style=\"text-align: right;\">  var_63</th><th style=\"text-align: right;\">  var_64</th><th style=\"text-align: right;\">  var_65</th><th style=\"text-align: right;\">  var_66</th><th style=\"text-align: right;\">  var_67</th><th style=\"text-align: right;\">  var_68</th><th style=\"text-align: right;\">  var_69</th><th style=\"text-align: right;\">  var_70</th><th style=\"text-align: right;\">  var_71</th><th style=\"text-align: right;\">  var_72</th><th style=\"text-align: right;\">  var_73</th><th style=\"text-align: right;\">  var_74</th><th style=\"text-align: right;\">  var_75</th><th style=\"text-align: right;\">  var_76</th><th style=\"text-align: right;\">  var_77</th><th style=\"text-align: right;\">  var_78</th><th style=\"text-align: right;\">  var_79</th><th style=\"text-align: right;\">  var_80</th><th style=\"text-align: right;\">  var_81</th><th style=\"text-align: right;\">  var_82</th><th style=\"text-align: right;\">  var_83</th><th style=\"text-align: right;\">  var_84</th><th style=\"text-align: right;\">  var_85</th><th style=\"text-align: right;\">  var_86</th><th style=\"text-align: right;\">  var_87</th><th style=\"text-align: right;\">  var_88</th><th style=\"text-align: right;\">  var_89</th><th style=\"text-align: right;\">  var_90</th><th style=\"text-align: right;\">  var_91</th><th style=\"text-align: right;\">  var_92</th><th style=\"text-align: right;\">  var_93</th><th style=\"text-align: right;\">  var_94</th><th style=\"text-align: right;\">  var_95</th><th style=\"text-align: right;\">  var_96</th><th style=\"text-align: right;\">  var_97</th><th style=\"text-align: right;\">  var_98</th><th style=\"text-align: right;\">  var_99</th><th style=\"text-align: right;\">  var_100</th><th style=\"text-align: right;\">  var_101</th><th style=\"text-align: right;\">  var_102</th><th style=\"text-align: right;\">  var_103</th><th style=\"text-align: right;\">  var_104</th><th style=\"text-align: right;\">  var_105</th><th style=\"text-align: right;\">  var_106</th><th style=\"text-align: right;\">  var_107</th><th style=\"text-align: right;\">  var_108</th><th style=\"text-align: right;\">  var_109</th><th style=\"text-align: right;\">  var_110</th><th style=\"text-align: right;\">  var_111</th><th style=\"text-align: right;\">  var_112</th><th style=\"text-align: right;\">  var_113</th><th style=\"text-align: right;\">  var_114</th><th style=\"text-align: right;\">  var_115</th><th style=\"text-align: right;\">  var_116</th><th style=\"text-align: right;\">  var_117</th><th style=\"text-align: right;\">  var_118</th><th style=\"text-align: right;\">  var_119</th><th style=\"text-align: right;\">  var_120</th><th style=\"text-align: right;\">  var_121</th><th style=\"text-align: right;\">  var_122</th><th style=\"text-align: right;\">  var_123</th><th style=\"text-align: right;\">  var_124</th><th style=\"text-align: right;\">  var_125</th><th style=\"text-align: right;\">  var_126</th><th style=\"text-align: right;\">  var_127</th><th style=\"text-align: right;\">  var_128</th><th style=\"text-align: right;\">  var_129</th><th style=\"text-align: right;\">  var_130</th><th style=\"text-align: right;\">  var_131</th><th style=\"text-align: right;\">  var_132</th><th style=\"text-align: right;\">  var_133</th><th style=\"text-align: right;\">  var_134</th><th style=\"text-align: right;\">  var_135</th><th style=\"text-align: right;\">  var_136</th><th style=\"text-align: right;\">  var_137</th><th style=\"text-align: right;\">  var_138</th><th style=\"text-align: right;\">  var_139</th><th style=\"text-align: right;\">  var_140</th><th style=\"text-align: right;\">  var_141</th><th style=\"text-align: right;\">  var_142</th><th style=\"text-align: right;\">  var_143</th><th style=\"text-align: right;\">  var_144</th><th style=\"text-align: right;\">  var_145</th><th style=\"text-align: right;\">  var_146</th><th style=\"text-align: right;\">  var_147</th><th style=\"text-align: right;\">  var_148</th><th style=\"text-align: right;\">  var_149</th><th style=\"text-align: right;\">  var_150</th><th style=\"text-align: right;\">  var_151</th><th style=\"text-align: right;\">  var_152</th><th style=\"text-align: right;\">  var_153</th><th style=\"text-align: right;\">  var_154</th><th style=\"text-align: right;\">  var_155</th><th style=\"text-align: right;\">  var_156</th><th style=\"text-align: right;\">  var_157</th><th style=\"text-align: right;\">  var_158</th><th style=\"text-align: right;\">  var_159</th><th style=\"text-align: right;\">  var_160</th><th style=\"text-align: right;\">  var_161</th><th style=\"text-align: right;\">  var_162</th><th style=\"text-align: right;\">  var_163</th><th style=\"text-align: right;\">  var_164</th><th style=\"text-align: right;\">  var_165</th><th style=\"text-align: right;\">  var_166</th><th style=\"text-align: right;\">  var_167</th><th style=\"text-align: right;\">  var_168</th><th style=\"text-align: right;\">  var_169</th><th style=\"text-align: right;\">  var_170</th><th style=\"text-align: right;\">  var_171</th><th style=\"text-align: right;\">  var_172</th><th style=\"text-align: right;\">  var_173</th><th style=\"text-align: right;\">  var_174</th><th style=\"text-align: right;\">  var_175</th><th style=\"text-align: right;\">  var_176</th><th style=\"text-align: right;\">  var_177</th><th style=\"text-align: right;\">  var_178</th><th style=\"text-align: right;\">  var_179</th><th style=\"text-align: right;\">  var_180</th><th style=\"text-align: right;\">  var_181</th><th style=\"text-align: right;\">  var_182</th><th style=\"text-align: right;\">  var_183</th><th style=\"text-align: right;\">  var_184</th><th style=\"text-align: right;\">  var_185</th><th style=\"text-align: right;\">  var_186</th><th style=\"text-align: right;\">  var_187</th><th style=\"text-align: right;\">  var_188</th><th style=\"text-align: right;\">  var_189</th><th style=\"text-align: right;\">  var_190</th><th style=\"text-align: right;\">  var_191</th><th style=\"text-align: right;\">  var_192</th><th style=\"text-align: right;\">  var_193</th><th style=\"text-align: right;\">  var_194</th><th style=\"text-align: right;\">  var_195</th><th style=\"text-align: right;\">  var_196</th><th style=\"text-align: right;\">  var_197</th><th style=\"text-align: right;\">  var_198</th><th style=\"text-align: right;\">  var_199</th></tr>\n",
       "</thead>\n",
       "<tbody>\n",
       "<tr><td>test_0   </td><td style=\"text-align: right;\">11.0656</td><td style=\"text-align: right;\">  7.7798</td><td style=\"text-align: right;\">12.9536</td><td style=\"text-align: right;\"> 9.4292</td><td style=\"text-align: right;\">11.4327</td><td style=\"text-align: right;\"> -2.3805</td><td style=\"text-align: right;\"> 5.8493</td><td style=\"text-align: right;\">18.2675</td><td style=\"text-align: right;\"> 2.1337</td><td style=\"text-align: right;\"> 8.81  </td><td style=\"text-align: right;\"> -2.0248</td><td style=\"text-align: right;\"> -4.3554</td><td style=\"text-align: right;\"> 13.9696</td><td style=\"text-align: right;\">  0.3458</td><td style=\"text-align: right;\">  7.5408</td><td style=\"text-align: right;\"> 14.5001</td><td style=\"text-align: right;\">  7.7028</td><td style=\"text-align: right;\">-19.0919</td><td style=\"text-align: right;\"> 15.5806</td><td style=\"text-align: right;\"> 16.1763</td><td style=\"text-align: right;\">  3.7088</td><td style=\"text-align: right;\"> 18.8064</td><td style=\"text-align: right;\">  1.5899</td><td style=\"text-align: right;\">  3.0654</td><td style=\"text-align: right;\">  6.4509</td><td style=\"text-align: right;\"> 14.1192</td><td style=\"text-align: right;\"> -9.4902</td><td style=\"text-align: right;\"> -2.1917</td><td style=\"text-align: right;\">  5.7107</td><td style=\"text-align: right;\">  3.7864</td><td style=\"text-align: right;\"> -1.7981</td><td style=\"text-align: right;\">  9.2645</td><td style=\"text-align: right;\">  2.0657</td><td style=\"text-align: right;\"> 12.7753</td><td style=\"text-align: right;\"> 11.3334</td><td style=\"text-align: right;\">  8.1462</td><td style=\"text-align: right;\"> -0.061 </td><td style=\"text-align: right;\">  3.5331</td><td style=\"text-align: right;\">  9.7804</td><td style=\"text-align: right;\">  8.7625</td><td style=\"text-align: right;\">-15.6305</td><td style=\"text-align: right;\"> 18.8766</td><td style=\"text-align: right;\"> 11.2864</td><td style=\"text-align: right;\"> 11.8362</td><td style=\"text-align: right;\"> 13.368 </td><td style=\"text-align: right;\">-31.9891</td><td style=\"text-align: right;\"> 12.1776</td><td style=\"text-align: right;\">  8.7714</td><td style=\"text-align: right;\"> 17.2011</td><td style=\"text-align: right;\"> 16.8508</td><td style=\"text-align: right;\"> 13.0534</td><td style=\"text-align: right;\"> 14.4069</td><td style=\"text-align: right;\"> -4.8525</td><td style=\"text-align: right;\">  7.3213</td><td style=\"text-align: right;\"> -0.5259</td><td style=\"text-align: right;\"> 16.6365</td><td style=\"text-align: right;\"> 19.3036</td><td style=\"text-align: right;\">  6.4129</td><td style=\"text-align: right;\"> -5.3948</td><td style=\"text-align: right;\">  9.3269</td><td style=\"text-align: right;\"> 11.9314</td><td style=\"text-align: right;\"> -3.575 </td><td style=\"text-align: right;\"> -0.7706</td><td style=\"text-align: right;\">  0.8705</td><td style=\"text-align: right;\">  6.9282</td><td style=\"text-align: right;\">  2.8914</td><td style=\"text-align: right;\">  5.9744</td><td style=\"text-align: right;\"> 17.4851</td><td style=\"text-align: right;\">  5.0125</td><td style=\"text-align: right;\"> -1.423 </td><td style=\"text-align: right;\"> 33.3401</td><td style=\"text-align: right;\">  0.8018</td><td style=\"text-align: right;\"> -4.7906</td><td style=\"text-align: right;\"> 30.2708</td><td style=\"text-align: right;\"> 26.8339</td><td style=\"text-align: right;\"> 21.7205</td><td style=\"text-align: right;\">  7.3075</td><td style=\"text-align: right;\"> 14.081 </td><td style=\"text-align: right;\">  3.1192</td><td style=\"text-align: right;\"> 17.4265</td><td style=\"text-align: right;\">  9.4883</td><td style=\"text-align: right;\"> 16.906 </td><td style=\"text-align: right;\"> 14.5117</td><td style=\"text-align: right;\"> 10.0276</td><td style=\"text-align: right;\"> -0.9706</td><td style=\"text-align: right;\"> 20.4588</td><td style=\"text-align: right;\">  4.7945</td><td style=\"text-align: right;\"> 20.416 </td><td style=\"text-align: right;\"> 13.1633</td><td style=\"text-align: right;\">  7.9307</td><td style=\"text-align: right;\"> -7.6509</td><td style=\"text-align: right;\">  7.0834</td><td style=\"text-align: right;\"> 15.2324</td><td style=\"text-align: right;\"> 10.1416</td><td style=\"text-align: right;\">  5.9156</td><td style=\"text-align: right;\"> -0.5775</td><td style=\"text-align: right;\">  5.76  </td><td style=\"text-align: right;\"> 30.3238</td><td style=\"text-align: right;\">  2.1251</td><td style=\"text-align: right;\">  1.8585</td><td style=\"text-align: right;\">  -9.2198</td><td style=\"text-align: right;\">  17.3089</td><td style=\"text-align: right;\">  30.9548</td><td style=\"text-align: right;\">   1.4918</td><td style=\"text-align: right;\">  12.8721</td><td style=\"text-align: right;\">   3.4902</td><td style=\"text-align: right;\">   8.2856</td><td style=\"text-align: right;\">  11.9794</td><td style=\"text-align: right;\">  14.0176</td><td style=\"text-align: right;\">  15.0763</td><td style=\"text-align: right;\">   3.7662</td><td style=\"text-align: right;\">   6.0426</td><td style=\"text-align: right;\">   4.4243</td><td style=\"text-align: right;\">  14.1799</td><td style=\"text-align: right;\">   2.0921</td><td style=\"text-align: right;\">   1.5493</td><td style=\"text-align: right;\">   3.2206</td><td style=\"text-align: right;\">   0.0172</td><td style=\"text-align: right;\">  -6.6602</td><td style=\"text-align: right;\">   8.4785</td><td style=\"text-align: right;\">  42.0248</td><td style=\"text-align: right;\">  11.4164</td><td style=\"text-align: right;\">   0.4564</td><td style=\"text-align: right;\">   9.4006</td><td style=\"text-align: right;\">   0.9685</td><td style=\"text-align: right;\">  12.4929</td><td style=\"text-align: right;\">  14.124 </td><td style=\"text-align: right;\">   4.0388</td><td style=\"text-align: right;\">  -4.4442</td><td style=\"text-align: right;\">  16.6684</td><td style=\"text-align: right;\">  12.538 </td><td style=\"text-align: right;\">   0.9205</td><td style=\"text-align: right;\">  10.5998</td><td style=\"text-align: right;\">   7.5147</td><td style=\"text-align: right;\">  -4.1748</td><td style=\"text-align: right;\">  -0.4824</td><td style=\"text-align: right;\">  10.5267</td><td style=\"text-align: right;\">  17.7547</td><td style=\"text-align: right;\">  -6.5226</td><td style=\"text-align: right;\">  -2.5502</td><td style=\"text-align: right;\">  -5.1547</td><td style=\"text-align: right;\">  -2.1246</td><td style=\"text-align: right;\">  19.8319</td><td style=\"text-align: right;\">  13.0752</td><td style=\"text-align: right;\">   9.2275</td><td style=\"text-align: right;\">   3.0213</td><td style=\"text-align: right;\">  11.6793</td><td style=\"text-align: right;\"> -11.6827</td><td style=\"text-align: right;\">   4.1017</td><td style=\"text-align: right;\">   5.2954</td><td style=\"text-align: right;\">  18.7741</td><td style=\"text-align: right;\">   9.8892</td><td style=\"text-align: right;\">   7.5219</td><td style=\"text-align: right;\">  14.9745</td><td style=\"text-align: right;\">  18.988 </td><td style=\"text-align: right;\">   1.0842</td><td style=\"text-align: right;\">  11.9125</td><td style=\"text-align: right;\">  -4.5103</td><td style=\"text-align: right;\">  16.1361</td><td style=\"text-align: right;\">  11.0067</td><td style=\"text-align: right;\">   5.9232</td><td style=\"text-align: right;\">   5.4113</td><td style=\"text-align: right;\">   3.8302</td><td style=\"text-align: right;\">   5.738 </td><td style=\"text-align: right;\">  -8.6105</td><td style=\"text-align: right;\">  22.953 </td><td style=\"text-align: right;\">   2.5531</td><td style=\"text-align: right;\">  -0.2836</td><td style=\"text-align: right;\">   4.3416</td><td style=\"text-align: right;\">   5.1855</td><td style=\"text-align: right;\">   4.2603</td><td style=\"text-align: right;\">   1.6779</td><td style=\"text-align: right;\">  29.0849</td><td style=\"text-align: right;\">   8.4685</td><td style=\"text-align: right;\">  18.1317</td><td style=\"text-align: right;\">  12.2818</td><td style=\"text-align: right;\">  -0.6912</td><td style=\"text-align: right;\">  10.2226</td><td style=\"text-align: right;\">  -5.5579</td><td style=\"text-align: right;\">   2.2926</td><td style=\"text-align: right;\">  -4.5358</td><td style=\"text-align: right;\">  10.3903</td><td style=\"text-align: right;\"> -15.4937</td><td style=\"text-align: right;\">   3.9697</td><td style=\"text-align: right;\">  31.3521</td><td style=\"text-align: right;\">  -1.1651</td><td style=\"text-align: right;\">   9.2874</td><td style=\"text-align: right;\"> -23.5705</td><td style=\"text-align: right;\">  13.2643</td><td style=\"text-align: right;\">   1.6591</td><td style=\"text-align: right;\">  -2.1556</td><td style=\"text-align: right;\">  11.8495</td><td style=\"text-align: right;\">  -1.43  </td><td style=\"text-align: right;\">   2.4508</td><td style=\"text-align: right;\">  13.7112</td><td style=\"text-align: right;\">   2.4669</td><td style=\"text-align: right;\">   4.3654</td><td style=\"text-align: right;\">  10.72  </td><td style=\"text-align: right;\">  15.4722</td><td style=\"text-align: right;\">  -8.7197</td></tr>\n",
       "<tr><td>test_1   </td><td style=\"text-align: right;\"> 8.5304</td><td style=\"text-align: right;\">  1.2543</td><td style=\"text-align: right;\">11.3047</td><td style=\"text-align: right;\"> 5.1858</td><td style=\"text-align: right;\"> 9.1974</td><td style=\"text-align: right;\"> -4.0117</td><td style=\"text-align: right;\"> 6.0196</td><td style=\"text-align: right;\">18.6316</td><td style=\"text-align: right;\">-4.4131</td><td style=\"text-align: right;\"> 5.9739</td><td style=\"text-align: right;\"> -1.3809</td><td style=\"text-align: right;\"> -0.331 </td><td style=\"text-align: right;\"> 14.1129</td><td style=\"text-align: right;\">  2.5667</td><td style=\"text-align: right;\">  5.4988</td><td style=\"text-align: right;\"> 14.1853</td><td style=\"text-align: right;\">  7.0196</td><td style=\"text-align: right;\">  4.6564</td><td style=\"text-align: right;\"> 29.1609</td><td style=\"text-align: right;\">  0.091 </td><td style=\"text-align: right;\"> 12.1469</td><td style=\"text-align: right;\">  3.1389</td><td style=\"text-align: right;\">  5.2578</td><td style=\"text-align: right;\">  2.4228</td><td style=\"text-align: right;\"> 16.2064</td><td style=\"text-align: right;\"> 13.5023</td><td style=\"text-align: right;\"> -5.2341</td><td style=\"text-align: right;\"> -3.6648</td><td style=\"text-align: right;\">  5.708 </td><td style=\"text-align: right;\">  2.9965</td><td style=\"text-align: right;\">-10.472 </td><td style=\"text-align: right;\"> 11.4938</td><td style=\"text-align: right;\"> -0.966 </td><td style=\"text-align: right;\"> 15.3445</td><td style=\"text-align: right;\"> 10.6361</td><td style=\"text-align: right;\">  0.8966</td><td style=\"text-align: right;\">  6.7428</td><td style=\"text-align: right;\">  2.3421</td><td style=\"text-align: right;\"> 12.8678</td><td style=\"text-align: right;\"> -1.5536</td><td style=\"text-align: right;\"> 10.0309</td><td style=\"text-align: right;\">  3.1337</td><td style=\"text-align: right;\"> 10.5742</td><td style=\"text-align: right;\"> 11.7664</td><td style=\"text-align: right;\">  2.1782</td><td style=\"text-align: right;\">-41.1924</td><td style=\"text-align: right;\"> 13.5322</td><td style=\"text-align: right;\">-17.3834</td><td style=\"text-align: right;\">  6.3806</td><td style=\"text-align: right;\"> 12.5589</td><td style=\"text-align: right;\"> 11.6887</td><td style=\"text-align: right;\"> 25.393 </td><td style=\"text-align: right;\">  1.5776</td><td style=\"text-align: right;\">  6.8481</td><td style=\"text-align: right;\">  8.7348</td><td style=\"text-align: right;\"> 16.4239</td><td style=\"text-align: right;\"> 21.7056</td><td style=\"text-align: right;\">  6.9345</td><td style=\"text-align: right;\">  1.6678</td><td style=\"text-align: right;\">  9.5249</td><td style=\"text-align: right;\">  5.3383</td><td style=\"text-align: right;\">-18.7083</td><td style=\"text-align: right;\">  1.3382</td><td style=\"text-align: right;\"> -1.7401</td><td style=\"text-align: right;\">  5.8398</td><td style=\"text-align: right;\">  3.1051</td><td style=\"text-align: right;\">  4.4307</td><td style=\"text-align: right;\"> 16.0005</td><td style=\"text-align: right;\">  5.0306</td><td style=\"text-align: right;\"> -7.3365</td><td style=\"text-align: right;\"> 12.2806</td><td style=\"text-align: right;\">  0.6992</td><td style=\"text-align: right;\"> -0.7772</td><td style=\"text-align: right;\"> 21.5123</td><td style=\"text-align: right;\">  6.7803</td><td style=\"text-align: right;\"> 18.1896</td><td style=\"text-align: right;\">  6.9388</td><td style=\"text-align: right;\"> 22.1336</td><td style=\"text-align: right;\">  6.3755</td><td style=\"text-align: right;\"> 13.1525</td><td style=\"text-align: right;\">  1.9772</td><td style=\"text-align: right;\"> 14.0406</td><td style=\"text-align: right;\">  6.6904</td><td style=\"text-align: right;\">  9.9732</td><td style=\"text-align: right;\">-11.5679</td><td style=\"text-align: right;\"> 20.4525</td><td style=\"text-align: right;\">  9.4951</td><td style=\"text-align: right;\">  9.6343</td><td style=\"text-align: right;\">  8.1252</td><td style=\"text-align: right;\">  2.6059</td><td style=\"text-align: right;\">-17.4201</td><td style=\"text-align: right;\">  7.1848</td><td style=\"text-align: right;\"> 15.3484</td><td style=\"text-align: right;\"> 10.6522</td><td style=\"text-align: right;\">  5.9897</td><td style=\"text-align: right;\">  0.3392</td><td style=\"text-align: right;\"> 10.3516</td><td style=\"text-align: right;\"> 29.8204</td><td style=\"text-align: right;\">  1.9998</td><td style=\"text-align: right;\"> -1.4166</td><td style=\"text-align: right;\">  -1.7257</td><td style=\"text-align: right;\">  15.4712</td><td style=\"text-align: right;\">  35.602 </td><td style=\"text-align: right;\">   1.657 </td><td style=\"text-align: right;\">  13.0783</td><td style=\"text-align: right;\">   2.7752</td><td style=\"text-align: right;\">   6.4986</td><td style=\"text-align: right;\">   4.6835</td><td style=\"text-align: right;\">  13.7963</td><td style=\"text-align: right;\">  17.7261</td><td style=\"text-align: right;\">   1.7375</td><td style=\"text-align: right;\">   5.5689</td><td style=\"text-align: right;\">   3.6609</td><td style=\"text-align: right;\">   8.9725</td><td style=\"text-align: right;\">   4.1159</td><td style=\"text-align: right;\">   1.0693</td><td style=\"text-align: right;\">   2.0234</td><td style=\"text-align: right;\">   8.276 </td><td style=\"text-align: right;\">  -6.861 </td><td style=\"text-align: right;\">   0.278 </td><td style=\"text-align: right;\">  17.0488</td><td style=\"text-align: right;\">  11.6704</td><td style=\"text-align: right;\">   3.1215</td><td style=\"text-align: right;\">   8.5093</td><td style=\"text-align: right;\">   5.6367</td><td style=\"text-align: right;\">  12.0099</td><td style=\"text-align: right;\">  14.2372</td><td style=\"text-align: right;\">  -6.16  </td><td style=\"text-align: right;\">  -5.669 </td><td style=\"text-align: right;\">   8.9094</td><td style=\"text-align: right;\">  11.0605</td><td style=\"text-align: right;\">   0.4583</td><td style=\"text-align: right;\">   9.7974</td><td style=\"text-align: right;\">   7.0891</td><td style=\"text-align: right;\">   2.6849</td><td style=\"text-align: right;\">   8.497 </td><td style=\"text-align: right;\">  15.7774</td><td style=\"text-align: right;\">   4.8775</td><td style=\"text-align: right;\">   3.6129</td><td style=\"text-align: right;\">   6.753 </td><td style=\"text-align: right;\">  11.1003</td><td style=\"text-align: right;\">  15.3593</td><td style=\"text-align: right;\">   2.2105</td><td style=\"text-align: right;\">   8.228 </td><td style=\"text-align: right;\">   9.0717</td><td style=\"text-align: right;\">  -5.0947</td><td style=\"text-align: right;\">   8.7644</td><td style=\"text-align: right;\">  -2.2873</td><td style=\"text-align: right;\">   4.124 </td><td style=\"text-align: right;\"> -13.3006</td><td style=\"text-align: right;\">  18.7454</td><td style=\"text-align: right;\">   9.3783</td><td style=\"text-align: right;\">   1.5284</td><td style=\"text-align: right;\">  16.0407</td><td style=\"text-align: right;\">   7.7732</td><td style=\"text-align: right;\">   1.4316</td><td style=\"text-align: right;\">  14.8679</td><td style=\"text-align: right;\">   3.3619</td><td style=\"text-align: right;\">  11.5799</td><td style=\"text-align: right;\">  14.2058</td><td style=\"text-align: right;\">  30.9641</td><td style=\"text-align: right;\">   5.6723</td><td style=\"text-align: right;\">   3.6873</td><td style=\"text-align: right;\">  13.0429</td><td style=\"text-align: right;\"> -10.6572</td><td style=\"text-align: right;\">  15.5134</td><td style=\"text-align: right;\">   3.2185</td><td style=\"text-align: right;\">   9.0535</td><td style=\"text-align: right;\">   7.0535</td><td style=\"text-align: right;\">   5.3924</td><td style=\"text-align: right;\">  -0.772 </td><td style=\"text-align: right;\">  -8.1783</td><td style=\"text-align: right;\">  29.9227</td><td style=\"text-align: right;\">  -5.6274</td><td style=\"text-align: right;\">  10.5018</td><td style=\"text-align: right;\">   9.6083</td><td style=\"text-align: right;\">  -0.4935</td><td style=\"text-align: right;\">   8.1696</td><td style=\"text-align: right;\">  -4.3605</td><td style=\"text-align: right;\">   5.211 </td><td style=\"text-align: right;\">   0.4087</td><td style=\"text-align: right;\">  12.003 </td><td style=\"text-align: right;\"> -10.3812</td><td style=\"text-align: right;\">   5.8496</td><td style=\"text-align: right;\">  25.1958</td><td style=\"text-align: right;\">  -8.8468</td><td style=\"text-align: right;\">  11.8263</td><td style=\"text-align: right;\">  -8.7112</td><td style=\"text-align: right;\">  15.9072</td><td style=\"text-align: right;\">   0.9812</td><td style=\"text-align: right;\">  10.6165</td><td style=\"text-align: right;\">   8.8349</td><td style=\"text-align: right;\">   0.9403</td><td style=\"text-align: right;\">  10.1282</td><td style=\"text-align: right;\">  15.5765</td><td style=\"text-align: right;\">   0.4773</td><td style=\"text-align: right;\">  -1.4852</td><td style=\"text-align: right;\">   9.8714</td><td style=\"text-align: right;\">  19.1293</td><td style=\"text-align: right;\"> -20.976 </td></tr>\n",
       "<tr><td>test_2   </td><td style=\"text-align: right;\"> 5.4827</td><td style=\"text-align: right;\">-10.3581</td><td style=\"text-align: right;\">10.1407</td><td style=\"text-align: right;\"> 7.0479</td><td style=\"text-align: right;\">10.2628</td><td style=\"text-align: right;\">  9.8052</td><td style=\"text-align: right;\"> 4.895 </td><td style=\"text-align: right;\">20.2537</td><td style=\"text-align: right;\"> 1.5233</td><td style=\"text-align: right;\"> 8.3442</td><td style=\"text-align: right;\"> -4.7057</td><td style=\"text-align: right;\"> -3.0422</td><td style=\"text-align: right;\"> 13.6751</td><td style=\"text-align: right;\">  3.8183</td><td style=\"text-align: right;\"> 10.8535</td><td style=\"text-align: right;\"> 14.2126</td><td style=\"text-align: right;\">  9.8837</td><td style=\"text-align: right;\">  2.6541</td><td style=\"text-align: right;\"> 21.2181</td><td style=\"text-align: right;\"> 20.8163</td><td style=\"text-align: right;\"> 12.4666</td><td style=\"text-align: right;\"> 12.3696</td><td style=\"text-align: right;\">  4.7473</td><td style=\"text-align: right;\">  2.7936</td><td style=\"text-align: right;\">  5.2189</td><td style=\"text-align: right;\"> 13.567 </td><td style=\"text-align: right;\">-15.4246</td><td style=\"text-align: right;\"> -0.1655</td><td style=\"text-align: right;\">  7.2633</td><td style=\"text-align: right;\">  3.431 </td><td style=\"text-align: right;\"> -9.1508</td><td style=\"text-align: right;\">  9.732 </td><td style=\"text-align: right;\">  3.1062</td><td style=\"text-align: right;\"> 22.3076</td><td style=\"text-align: right;\"> 11.9593</td><td style=\"text-align: right;\">  9.9255</td><td style=\"text-align: right;\">  4.0702</td><td style=\"text-align: right;\">  4.9934</td><td style=\"text-align: right;\">  8.0667</td><td style=\"text-align: right;\">  0.8804</td><td style=\"text-align: right;\">-19.0841</td><td style=\"text-align: right;\">  5.2272</td><td style=\"text-align: right;\">  9.5977</td><td style=\"text-align: right;\"> 12.1801</td><td style=\"text-align: right;\">  8.3565</td><td style=\"text-align: right;\"> 15.117 </td><td style=\"text-align: right;\"> 10.0921</td><td style=\"text-align: right;\">-20.8504</td><td style=\"text-align: right;\">  8.6758</td><td style=\"text-align: right;\">  8.1292</td><td style=\"text-align: right;\"> 11.8932</td><td style=\"text-align: right;\"> 10.6869</td><td style=\"text-align: right;\"> -0.6434</td><td style=\"text-align: right;\">  5.651 </td><td style=\"text-align: right;\">  9.3742</td><td style=\"text-align: right;\"> 25.8831</td><td style=\"text-align: right;\"> 19.8701</td><td style=\"text-align: right;\">  5.4834</td><td style=\"text-align: right;\"> -4.0304</td><td style=\"text-align: right;\">  8.516 </td><td style=\"text-align: right;\">  8.9776</td><td style=\"text-align: right;\"> -5.6619</td><td style=\"text-align: right;\">  2.8117</td><td style=\"text-align: right;\">  2.5996</td><td style=\"text-align: right;\">  9.0986</td><td style=\"text-align: right;\">  7.1167</td><td style=\"text-align: right;\">  4.9466</td><td style=\"text-align: right;\"> 13.8268</td><td style=\"text-align: right;\">  5.0093</td><td style=\"text-align: right;\">  4.7782</td><td style=\"text-align: right;\"> 19.2081</td><td style=\"text-align: right;\">  0.434 </td><td style=\"text-align: right;\">  0.8459</td><td style=\"text-align: right;\"> 34.8598</td><td style=\"text-align: right;\"> 20.7048</td><td style=\"text-align: right;\"> 16.4953</td><td style=\"text-align: right;\"> -9.7077</td><td style=\"text-align: right;\"> 19.6357</td><td style=\"text-align: right;\">  7.6587</td><td style=\"text-align: right;\"> 15.5744</td><td style=\"text-align: right;\"> 16.1691</td><td style=\"text-align: right;\"> 14.3299</td><td style=\"text-align: right;\">  1.336 </td><td style=\"text-align: right;\"> -0.4412</td><td style=\"text-align: right;\"> -0.283 </td><td style=\"text-align: right;\"> 14.9105</td><td style=\"text-align: right;\"> -3.9016</td><td style=\"text-align: right;\"> 14.6881</td><td style=\"text-align: right;\">  7.322 </td><td style=\"text-align: right;\"> -5.1443</td><td style=\"text-align: right;\">-34.3488</td><td style=\"text-align: right;\">  7.0194</td><td style=\"text-align: right;\"> 12.4785</td><td style=\"text-align: right;\">  9.6665</td><td style=\"text-align: right;\"> 13.2595</td><td style=\"text-align: right;\"> -0.5624</td><td style=\"text-align: right;\">  5.6347</td><td style=\"text-align: right;\">  9.5853</td><td style=\"text-align: right;\">  1.4515</td><td style=\"text-align: right;\">  1.7818</td><td style=\"text-align: right;\">  -3.5065</td><td style=\"text-align: right;\">  14.1663</td><td style=\"text-align: right;\">  28.0256</td><td style=\"text-align: right;\">   1.3935</td><td style=\"text-align: right;\">  10.8257</td><td style=\"text-align: right;\">   4.2954</td><td style=\"text-align: right;\">   8.2125</td><td style=\"text-align: right;\">  26.2595</td><td style=\"text-align: right;\">  14.0232</td><td style=\"text-align: right;\">  19.4604</td><td style=\"text-align: right;\">   8.6896</td><td style=\"text-align: right;\">   8.1036</td><td style=\"text-align: right;\">   1.2057</td><td style=\"text-align: right;\">   8.9156</td><td style=\"text-align: right;\">   0.9777</td><td style=\"text-align: right;\">   2.3797</td><td style=\"text-align: right;\">   3.1638</td><td style=\"text-align: right;\">  37.8664</td><td style=\"text-align: right;\">  -3.3864</td><td style=\"text-align: right;\">  -2.409 </td><td style=\"text-align: right;\">  29.7978</td><td style=\"text-align: right;\">  12.2056</td><td style=\"text-align: right;\">   4.7688</td><td style=\"text-align: right;\">   7.9344</td><td style=\"text-align: right;\">   2.2102</td><td style=\"text-align: right;\">  12.6482</td><td style=\"text-align: right;\">  14.3377</td><td style=\"text-align: right;\">   2.3268</td><td style=\"text-align: right;\">   2.393 </td><td style=\"text-align: right;\">  13.7005</td><td style=\"text-align: right;\">  12.7047</td><td style=\"text-align: right;\">   0.7507</td><td style=\"text-align: right;\">   7.7726</td><td style=\"text-align: right;\">   6.595 </td><td style=\"text-align: right;\">   0.299 </td><td style=\"text-align: right;\">  12.9154</td><td style=\"text-align: right;\">  29.9162</td><td style=\"text-align: right;\">   6.8031</td><td style=\"text-align: right;\">  10.5031</td><td style=\"text-align: right;\">  -6.0452</td><td style=\"text-align: right;\">  -4.5298</td><td style=\"text-align: right;\">   1.3903</td><td style=\"text-align: right;\">   5.0469</td><td style=\"text-align: right;\">  12.974 </td><td style=\"text-align: right;\">   9.3878</td><td style=\"text-align: right;\">  -0.1113</td><td style=\"text-align: right;\">  11.6749</td><td style=\"text-align: right;\">  16.8588</td><td style=\"text-align: right;\">   4.26  </td><td style=\"text-align: right;\">  14.6476</td><td style=\"text-align: right;\">  14.4431</td><td style=\"text-align: right;\">  14.1649</td><td style=\"text-align: right;\">   9.4875</td><td style=\"text-align: right;\">  16.5769</td><td style=\"text-align: right;\">   7.2638</td><td style=\"text-align: right;\">  -2.2008</td><td style=\"text-align: right;\">  12.5953</td><td style=\"text-align: right;\">   7.4487</td><td style=\"text-align: right;\">  23.1407</td><td style=\"text-align: right;\">  10.4597</td><td style=\"text-align: right;\">  39.3654</td><td style=\"text-align: right;\">   5.5228</td><td style=\"text-align: right;\">   3.3159</td><td style=\"text-align: right;\">   4.3324</td><td style=\"text-align: right;\">  -0.5382</td><td style=\"text-align: right;\">  13.3009</td><td style=\"text-align: right;\">   3.1243</td><td style=\"text-align: right;\">  -4.1731</td><td style=\"text-align: right;\">   1.233 </td><td style=\"text-align: right;\">   6.1513</td><td style=\"text-align: right;\">  -0.0391</td><td style=\"text-align: right;\">   1.495 </td><td style=\"text-align: right;\">  16.8874</td><td style=\"text-align: right;\">  -2.9787</td><td style=\"text-align: right;\">  27.4035</td><td style=\"text-align: right;\">  15.8819</td><td style=\"text-align: right;\"> -10.966 </td><td style=\"text-align: right;\">  15.6415</td><td style=\"text-align: right;\">  -9.4056</td><td style=\"text-align: right;\">   4.4611</td><td style=\"text-align: right;\">  -3.0835</td><td style=\"text-align: right;\">   8.5549</td><td style=\"text-align: right;\">  -2.8517</td><td style=\"text-align: right;\">  13.477 </td><td style=\"text-align: right;\">  24.4721</td><td style=\"text-align: right;\">  -3.4824</td><td style=\"text-align: right;\">   4.9178</td><td style=\"text-align: right;\">  -2.072 </td><td style=\"text-align: right;\">  11.539 </td><td style=\"text-align: right;\">   1.1821</td><td style=\"text-align: right;\">  -0.7484</td><td style=\"text-align: right;\">  10.9935</td><td style=\"text-align: right;\">   1.9803</td><td style=\"text-align: right;\">   2.18  </td><td style=\"text-align: right;\">  12.9813</td><td style=\"text-align: right;\">   2.1281</td><td style=\"text-align: right;\">  -7.1086</td><td style=\"text-align: right;\">   7.0618</td><td style=\"text-align: right;\">  19.8956</td><td style=\"text-align: right;\"> -23.1794</td></tr>\n",
       "<tr><td>test_3   </td><td style=\"text-align: right;\"> 8.5374</td><td style=\"text-align: right;\"> -1.3222</td><td style=\"text-align: right;\">12.022 </td><td style=\"text-align: right;\"> 6.5749</td><td style=\"text-align: right;\"> 8.8458</td><td style=\"text-align: right;\">  3.1744</td><td style=\"text-align: right;\"> 4.9397</td><td style=\"text-align: right;\">20.566 </td><td style=\"text-align: right;\"> 3.3755</td><td style=\"text-align: right;\"> 7.4578</td><td style=\"text-align: right;\">  0.0095</td><td style=\"text-align: right;\"> -5.0659</td><td style=\"text-align: right;\"> 14.0526</td><td style=\"text-align: right;\"> 13.501 </td><td style=\"text-align: right;\">  8.766 </td><td style=\"text-align: right;\"> 14.7352</td><td style=\"text-align: right;\"> 10.0383</td><td style=\"text-align: right;\">-15.3508</td><td style=\"text-align: right;\">  2.1273</td><td style=\"text-align: right;\"> 21.4797</td><td style=\"text-align: right;\"> 14.5372</td><td style=\"text-align: right;\"> 12.5527</td><td style=\"text-align: right;\">  2.9707</td><td style=\"text-align: right;\">  4.2398</td><td style=\"text-align: right;\"> 13.7796</td><td style=\"text-align: right;\"> 14.1408</td><td style=\"text-align: right;\">  1.0061</td><td style=\"text-align: right;\"> -1.3479</td><td style=\"text-align: right;\">  5.257 </td><td style=\"text-align: right;\">  6.5911</td><td style=\"text-align: right;\">  6.2161</td><td style=\"text-align: right;\">  9.554 </td><td style=\"text-align: right;\">  2.3628</td><td style=\"text-align: right;\"> 10.2124</td><td style=\"text-align: right;\"> 10.8047</td><td style=\"text-align: right;\"> -2.5588</td><td style=\"text-align: right;\">  6.072 </td><td style=\"text-align: right;\">  3.2613</td><td style=\"text-align: right;\"> 16.5632</td><td style=\"text-align: right;\">  8.8336</td><td style=\"text-align: right;\"> -4.8327</td><td style=\"text-align: right;\">  0.9554</td><td style=\"text-align: right;\"> 12.3754</td><td style=\"text-align: right;\"> 11.4241</td><td style=\"text-align: right;\">  6.6917</td><td style=\"text-align: right;\">-12.9761</td><td style=\"text-align: right;\"> 13.7343</td><td style=\"text-align: right;\">  5.015 </td><td style=\"text-align: right;\"> 31.3923</td><td style=\"text-align: right;\">  5.8555</td><td style=\"text-align: right;\"> 12.6082</td><td style=\"text-align: right;\">  1.4182</td><td style=\"text-align: right;\"> -4.1185</td><td style=\"text-align: right;\">  6.2536</td><td style=\"text-align: right;\">  1.4257</td><td style=\"text-align: right;\"> 13.5426</td><td style=\"text-align: right;\"> 15.409 </td><td style=\"text-align: right;\">  6.8761</td><td style=\"text-align: right;\">  1.7476</td><td style=\"text-align: right;\"> 10.0413</td><td style=\"text-align: right;\"> 15.2857</td><td style=\"text-align: right;\"> -4.1378</td><td style=\"text-align: right;\">  0.7928</td><td style=\"text-align: right;\">  2.5301</td><td style=\"text-align: right;\">  8.1458</td><td style=\"text-align: right;\">  2.5738</td><td style=\"text-align: right;\">  5.9876</td><td style=\"text-align: right;\"> 13.0758</td><td style=\"text-align: right;\">  5.0087</td><td style=\"text-align: right;\"> -9.7824</td><td style=\"text-align: right;\">  8.9289</td><td style=\"text-align: right;\">  0.4205</td><td style=\"text-align: right;\"> -2.5463</td><td style=\"text-align: right;\">  2.9428</td><td style=\"text-align: right;\"> 10.7087</td><td style=\"text-align: right;\"> 12.2008</td><td style=\"text-align: right;\"> 12.5465</td><td style=\"text-align: right;\"> 19.4201</td><td style=\"text-align: right;\">  5.506 </td><td style=\"text-align: right;\"> 14.1586</td><td style=\"text-align: right;\"> 17.5941</td><td style=\"text-align: right;\"> 15.4375</td><td style=\"text-align: right;\">-13.2668</td><td style=\"text-align: right;\"> 14.0885</td><td style=\"text-align: right;\">  4.0357</td><td style=\"text-align: right;\"> 22.3119</td><td style=\"text-align: right;\">  1.8571</td><td style=\"text-align: right;\"> 16.521 </td><td style=\"text-align: right;\"> 10.8149</td><td style=\"text-align: right;\">  0.3256</td><td style=\"text-align: right;\">-21.4797</td><td style=\"text-align: right;\">  6.9174</td><td style=\"text-align: right;\">  9.9483</td><td style=\"text-align: right;\"> 10.3696</td><td style=\"text-align: right;\"> 11.0362</td><td style=\"text-align: right;\">  0.1892</td><td style=\"text-align: right;\"> 19.4321</td><td style=\"text-align: right;\"> 40.3383</td><td style=\"text-align: right;\">  1.4105</td><td style=\"text-align: right;\">  2.6165</td><td style=\"text-align: right;\">   1.7021</td><td style=\"text-align: right;\">   2.5363</td><td style=\"text-align: right;\">   3.8763</td><td style=\"text-align: right;\">   1.5173</td><td style=\"text-align: right;\">  13.4083</td><td style=\"text-align: right;\">   2.8965</td><td style=\"text-align: right;\">   7.0919</td><td style=\"text-align: right;\">  21.6304</td><td style=\"text-align: right;\">  14.2   </td><td style=\"text-align: right;\">  23.0368</td><td style=\"text-align: right;\">  10.3445</td><td style=\"text-align: right;\">   6.0369</td><td style=\"text-align: right;\">   5.0227</td><td style=\"text-align: right;\">  12.66  </td><td style=\"text-align: right;\">   2.1278</td><td style=\"text-align: right;\">   4.0592</td><td style=\"text-align: right;\">   1.9084</td><td style=\"text-align: right;\">  11.6095</td><td style=\"text-align: right;\">   7.5397</td><td style=\"text-align: right;\">   8.1972</td><td style=\"text-align: right;\">  20.0844</td><td style=\"text-align: right;\">  10.444 </td><td style=\"text-align: right;\">   8.4676</td><td style=\"text-align: right;\">   5.035 </td><td style=\"text-align: right;\">   4.3103</td><td style=\"text-align: right;\">  12.0067</td><td style=\"text-align: right;\">  13.7149</td><td style=\"text-align: right;\">   1.6143</td><td style=\"text-align: right;\">  -1.2328</td><td style=\"text-align: right;\">  22.7248</td><td style=\"text-align: right;\">  12.6609</td><td style=\"text-align: right;\">   0.8039</td><td style=\"text-align: right;\">   4.7666</td><td style=\"text-align: right;\">   6.7888</td><td style=\"text-align: right;\">   5.8537</td><td style=\"text-align: right;\">  -4.5434</td><td style=\"text-align: right;\">  19.0111</td><td style=\"text-align: right;\">  12.6907</td><td style=\"text-align: right;\">  -2.9322</td><td style=\"text-align: right;\">  12.7898</td><td style=\"text-align: right;\">  12.0466</td><td style=\"text-align: right;\">  13.1646</td><td style=\"text-align: right;\">   7.7063</td><td style=\"text-align: right;\">  11.6549</td><td style=\"text-align: right;\">   9.8274</td><td style=\"text-align: right;\">   1.8061</td><td style=\"text-align: right;\">   8.6963</td><td style=\"text-align: right;\">   1.8057</td><td style=\"text-align: right;\">   3.8265</td><td style=\"text-align: right;\"> -16.3027</td><td style=\"text-align: right;\">  13.7106</td><td style=\"text-align: right;\">   9.7908</td><td style=\"text-align: right;\">   5.8497</td><td style=\"text-align: right;\">  15.4378</td><td style=\"text-align: right;\">   5.0372</td><td style=\"text-align: right;\">  -8.7673</td><td style=\"text-align: right;\">  13.6035</td><td style=\"text-align: right;\">  -3.5002</td><td style=\"text-align: right;\">  13.9785</td><td style=\"text-align: right;\">  14.6118</td><td style=\"text-align: right;\">  19.7251</td><td style=\"text-align: right;\">   5.3882</td><td style=\"text-align: right;\">   3.6775</td><td style=\"text-align: right;\">   7.4753</td><td style=\"text-align: right;\"> -11.078 </td><td style=\"text-align: right;\">  24.8712</td><td style=\"text-align: right;\">   2.6415</td><td style=\"text-align: right;\">   2.2673</td><td style=\"text-align: right;\">   7.2788</td><td style=\"text-align: right;\">   5.6406</td><td style=\"text-align: right;\">   7.2048</td><td style=\"text-align: right;\">   3.4504</td><td style=\"text-align: right;\">   2.413 </td><td style=\"text-align: right;\">  11.1674</td><td style=\"text-align: right;\">  14.5499</td><td style=\"text-align: right;\">  10.6151</td><td style=\"text-align: right;\">  -5.7922</td><td style=\"text-align: right;\">  13.9407</td><td style=\"text-align: right;\">   7.1078</td><td style=\"text-align: right;\">   1.1019</td><td style=\"text-align: right;\">   9.459 </td><td style=\"text-align: right;\">   9.8243</td><td style=\"text-align: right;\">   5.9917</td><td style=\"text-align: right;\">   5.1634</td><td style=\"text-align: right;\">   8.1154</td><td style=\"text-align: right;\">   3.6638</td><td style=\"text-align: right;\">   3.3102</td><td style=\"text-align: right;\"> -19.7819</td><td style=\"text-align: right;\">  13.4499</td><td style=\"text-align: right;\">   1.3104</td><td style=\"text-align: right;\">   9.5702</td><td style=\"text-align: right;\">   9.0766</td><td style=\"text-align: right;\">   1.658 </td><td style=\"text-align: right;\">   3.5813</td><td style=\"text-align: right;\">  15.1874</td><td style=\"text-align: right;\">   3.1656</td><td style=\"text-align: right;\">   3.9567</td><td style=\"text-align: right;\">   9.2295</td><td style=\"text-align: right;\">  13.0168</td><td style=\"text-align: right;\">  -4.2108</td></tr>\n",
       "<tr><td>test_4   </td><td style=\"text-align: right;\">11.7058</td><td style=\"text-align: right;\"> -0.1327</td><td style=\"text-align: right;\">14.1295</td><td style=\"text-align: right;\"> 7.7506</td><td style=\"text-align: right;\"> 9.1035</td><td style=\"text-align: right;\"> -8.5848</td><td style=\"text-align: right;\"> 6.8595</td><td style=\"text-align: right;\">10.6048</td><td style=\"text-align: right;\"> 2.989 </td><td style=\"text-align: right;\"> 7.1437</td><td style=\"text-align: right;\">  5.1025</td><td style=\"text-align: right;\"> -3.2827</td><td style=\"text-align: right;\"> 14.1013</td><td style=\"text-align: right;\">  8.9672</td><td style=\"text-align: right;\">  4.7276</td><td style=\"text-align: right;\"> 14.5811</td><td style=\"text-align: right;\"> 11.8615</td><td style=\"text-align: right;\">  3.148 </td><td style=\"text-align: right;\"> 18.0126</td><td style=\"text-align: right;\"> 13.8006</td><td style=\"text-align: right;\">  1.6026</td><td style=\"text-align: right;\"> 16.3059</td><td style=\"text-align: right;\">  6.7954</td><td style=\"text-align: right;\">  3.6015</td><td style=\"text-align: right;\"> 13.6569</td><td style=\"text-align: right;\"> 13.8807</td><td style=\"text-align: right;\">  8.6228</td><td style=\"text-align: right;\"> -2.2654</td><td style=\"text-align: right;\">  5.2255</td><td style=\"text-align: right;\">  7.0165</td><td style=\"text-align: right;\">-15.6961</td><td style=\"text-align: right;\"> 10.6239</td><td style=\"text-align: right;\"> -4.7674</td><td style=\"text-align: right;\"> 17.5447</td><td style=\"text-align: right;\"> 11.8668</td><td style=\"text-align: right;\">  3.0154</td><td style=\"text-align: right;\">  4.2546</td><td style=\"text-align: right;\">  6.7601</td><td style=\"text-align: right;\">  5.9613</td><td style=\"text-align: right;\">  0.3695</td><td style=\"text-align: right;\">-14.4364</td><td style=\"text-align: right;\">  5.1392</td><td style=\"text-align: right;\"> 11.6336</td><td style=\"text-align: right;\"> 12.0338</td><td style=\"text-align: right;\"> 18.967 </td><td style=\"text-align: right;\"> 12.0144</td><td style=\"text-align: right;\"> 16.2096</td><td style=\"text-align: right;\"> -2.1966</td><td style=\"text-align: right;\">  1.1174</td><td style=\"text-align: right;\"> 13.4532</td><td style=\"text-align: right;\"> 12.7925</td><td style=\"text-align: right;\">  4.3775</td><td style=\"text-align: right;\"> -0.1543</td><td style=\"text-align: right;\">  5.6794</td><td style=\"text-align: right;\">  0.821 </td><td style=\"text-align: right;\"> 19.1358</td><td style=\"text-align: right;\"> 12.6589</td><td style=\"text-align: right;\">  6.4394</td><td style=\"text-align: right;\">  4.3425</td><td style=\"text-align: right;\">  8.7003</td><td style=\"text-align: right;\"> 12.0586</td><td style=\"text-align: right;\">-10.4753</td><td style=\"text-align: right;\"> -0.0337</td><td style=\"text-align: right;\">  5.6603</td><td style=\"text-align: right;\">  6.2529</td><td style=\"text-align: right;\">  1.5238</td><td style=\"text-align: right;\">  4.5356</td><td style=\"text-align: right;\"> 20.1344</td><td style=\"text-align: right;\">  5.0267</td><td style=\"text-align: right;\"> -1.8628</td><td style=\"text-align: right;\"> 39.8219</td><td style=\"text-align: right;\">  1.0498</td><td style=\"text-align: right;\"> -0.9113</td><td style=\"text-align: right;\"> 38.5076</td><td style=\"text-align: right;\">  2.2201</td><td style=\"text-align: right;\">  9.5235</td><td style=\"text-align: right;\">  8.1522</td><td style=\"text-align: right;\"> 14.9224</td><td style=\"text-align: right;\">  6.1573</td><td style=\"text-align: right;\"> 15.5221</td><td style=\"text-align: right;\"> 11.8133</td><td style=\"text-align: right;\"> 16.7661</td><td style=\"text-align: right;\">-14.6524</td><td style=\"text-align: right;\"> -0.4469</td><td style=\"text-align: right;\">  0.0306</td><td style=\"text-align: right;\"> 22.5276</td><td style=\"text-align: right;\">  6.9774</td><td style=\"text-align: right;\">  2.2563</td><td style=\"text-align: right;\">  3.5779</td><td style=\"text-align: right;\">  1.4268</td><td style=\"text-align: right;\">  9.068 </td><td style=\"text-align: right;\">  7.0197</td><td style=\"text-align: right;\"> 19.7765</td><td style=\"text-align: right;\"> 10.0499</td><td style=\"text-align: right;\"> 11.4803</td><td style=\"text-align: right;\">  0.2548</td><td style=\"text-align: right;\"> 16.7029</td><td style=\"text-align: right;\"> 45.551 </td><td style=\"text-align: right;\">  1.5795</td><td style=\"text-align: right;\">  0.1148</td><td style=\"text-align: right;\"> -14.3858</td><td style=\"text-align: right;\">  17.863 </td><td style=\"text-align: right;\">  23.2274</td><td style=\"text-align: right;\">   1.4375</td><td style=\"text-align: right;\">  14.4838</td><td style=\"text-align: right;\">   4.3806</td><td style=\"text-align: right;\">  10.6976</td><td style=\"text-align: right;\">  18.4023</td><td style=\"text-align: right;\">  14.2212</td><td style=\"text-align: right;\">  16.0638</td><td style=\"text-align: right;\">   6.3933</td><td style=\"text-align: right;\">   6.8699</td><td style=\"text-align: right;\">   2.7253</td><td style=\"text-align: right;\">  12.6458</td><td style=\"text-align: right;\">   3.2376</td><td style=\"text-align: right;\">   3.4218</td><td style=\"text-align: right;\">  -0.5658</td><td style=\"text-align: right;\">  -5.684 </td><td style=\"text-align: right;\">   4.7753</td><td style=\"text-align: right;\">  10.332 </td><td style=\"text-align: right;\">  39.7127</td><td style=\"text-align: right;\">  11.2319</td><td style=\"text-align: right;\">  -1.2978</td><td style=\"text-align: right;\">  12.4827</td><td style=\"text-align: right;\">   6.5034</td><td style=\"text-align: right;\">  12.7157</td><td style=\"text-align: right;\">  13.3054</td><td style=\"text-align: right;\">  -1.9678</td><td style=\"text-align: right;\">  -1.2363</td><td style=\"text-align: right;\">  11.5686</td><td style=\"text-align: right;\">  12.6428</td><td style=\"text-align: right;\">   0.4792</td><td style=\"text-align: right;\">   7.1984</td><td style=\"text-align: right;\">   7.1434</td><td style=\"text-align: right;\">  -0.2056</td><td style=\"text-align: right;\"> -16.3908</td><td style=\"text-align: right;\">  27.1589</td><td style=\"text-align: right;\">  23.5997</td><td style=\"text-align: right;\">  -4.6175</td><td style=\"text-align: right;\">  11.7989</td><td style=\"text-align: right;\">  12.5683</td><td style=\"text-align: right;\">  -3.6145</td><td style=\"text-align: right;\">  22.1069</td><td style=\"text-align: right;\">   9.5539</td><td style=\"text-align: right;\">   9.2721</td><td style=\"text-align: right;\">  -1.6214</td><td style=\"text-align: right;\">  12.9327</td><td style=\"text-align: right;\">   6.808 </td><td style=\"text-align: right;\">   4.2135</td><td style=\"text-align: right;\">  22.1044</td><td style=\"text-align: right;\">  20.0502</td><td style=\"text-align: right;\">   6.9953</td><td style=\"text-align: right;\">   9.3823</td><td style=\"text-align: right;\">  20.5534</td><td style=\"text-align: right;\">   3.4368</td><td style=\"text-align: right;\"> -15.2208</td><td style=\"text-align: right;\">  13.0974</td><td style=\"text-align: right;\"> -14.0888</td><td style=\"text-align: right;\">  11.7586</td><td style=\"text-align: right;\">  14.5259</td><td style=\"text-align: right;\">  22.87  </td><td style=\"text-align: right;\">   5.6688</td><td style=\"text-align: right;\">   6.1159</td><td style=\"text-align: right;\">  13.2433</td><td style=\"text-align: right;\"> -11.9785</td><td style=\"text-align: right;\">  26.204 </td><td style=\"text-align: right;\">   3.2348</td><td style=\"text-align: right;\">  -5.5775</td><td style=\"text-align: right;\">   5.7036</td><td style=\"text-align: right;\">   6.1717</td><td style=\"text-align: right;\">  -1.6039</td><td style=\"text-align: right;\">  -2.4866</td><td style=\"text-align: right;\">  17.2728</td><td style=\"text-align: right;\">   2.364 </td><td style=\"text-align: right;\">  14.0037</td><td style=\"text-align: right;\">  12.9165</td><td style=\"text-align: right;\"> -12.0311</td><td style=\"text-align: right;\">  10.1161</td><td style=\"text-align: right;\">  -8.7562</td><td style=\"text-align: right;\">   6.0889</td><td style=\"text-align: right;\">  -1.362 </td><td style=\"text-align: right;\">  10.3559</td><td style=\"text-align: right;\">  -7.4915</td><td style=\"text-align: right;\">   9.4588</td><td style=\"text-align: right;\">   3.9829</td><td style=\"text-align: right;\">   5.858 </td><td style=\"text-align: right;\">   8.3635</td><td style=\"text-align: right;\"> -24.8254</td><td style=\"text-align: right;\">  11.4928</td><td style=\"text-align: right;\">   1.6321</td><td style=\"text-align: right;\">   4.2259</td><td style=\"text-align: right;\">   9.1723</td><td style=\"text-align: right;\">   1.2835</td><td style=\"text-align: right;\">   3.3778</td><td style=\"text-align: right;\">  19.5542</td><td style=\"text-align: right;\">  -0.286 </td><td style=\"text-align: right;\">  -5.1612</td><td style=\"text-align: right;\">   7.2882</td><td style=\"text-align: right;\">  13.926 </td><td style=\"text-align: right;\">  -9.1846</td></tr>\n",
       "<tr><td>test_5   </td><td style=\"text-align: right;\"> 5.9862</td><td style=\"text-align: right;\"> -2.2913</td><td style=\"text-align: right;\"> 8.6058</td><td style=\"text-align: right;\"> 7.0685</td><td style=\"text-align: right;\">14.2465</td><td style=\"text-align: right;\"> -8.6761</td><td style=\"text-align: right;\"> 4.2467</td><td style=\"text-align: right;\">14.7632</td><td style=\"text-align: right;\"> 1.879 </td><td style=\"text-align: right;\"> 7.2842</td><td style=\"text-align: right;\"> -4.9194</td><td style=\"text-align: right;\"> -9.1869</td><td style=\"text-align: right;\"> 14.0581</td><td style=\"text-align: right;\"> 11.4403</td><td style=\"text-align: right;\">  4.295 </td><td style=\"text-align: right;\"> 13.8808</td><td style=\"text-align: right;\"> 10.9588</td><td style=\"text-align: right;\"> -7.0124</td><td style=\"text-align: right;\"> 15.1829</td><td style=\"text-align: right;\"> 18.271 </td><td style=\"text-align: right;\">  9.7086</td><td style=\"text-align: right;\"> 22.9103</td><td style=\"text-align: right;\">  6.508 </td><td style=\"text-align: right;\">  2.3607</td><td style=\"text-align: right;\">  1.7899</td><td style=\"text-align: right;\"> 13.9555</td><td style=\"text-align: right;\"> -7.2154</td><td style=\"text-align: right;\"> -2.4084</td><td style=\"text-align: right;\">  5.1616</td><td style=\"text-align: right;\">  6.9291</td><td style=\"text-align: right;\">  0.1141</td><td style=\"text-align: right;\">  9.7667</td><td style=\"text-align: right;\">  1.2339</td><td style=\"text-align: right;\"> 17.7117</td><td style=\"text-align: right;\"> 12.3433</td><td style=\"text-align: right;\"> -0.1787</td><td style=\"text-align: right;\"> -1.2858</td><td style=\"text-align: right;\">  5.522 </td><td style=\"text-align: right;\"> 13.0498</td><td style=\"text-align: right;\"> -5.3328</td><td style=\"text-align: right;\">-10.778 </td><td style=\"text-align: right;\">  0.0721</td><td style=\"text-align: right;\"> 10.359 </td><td style=\"text-align: right;\"> 11.6175</td><td style=\"text-align: right;\">  0.4534</td><td style=\"text-align: right;\"> -6.7184</td><td style=\"text-align: right;\"> 12.1589</td><td style=\"text-align: right;\">-13.8476</td><td style=\"text-align: right;\"> 11.0962</td><td style=\"text-align: right;\"> 12.6084</td><td style=\"text-align: right;\"> 12.3914</td><td style=\"text-align: right;\">  1.2393</td><td style=\"text-align: right;\">  1.5472</td><td style=\"text-align: right;\">  5.2122</td><td style=\"text-align: right;\"> -6.7651</td><td style=\"text-align: right;\"> 22.7272</td><td style=\"text-align: right;\"> 16.7353</td><td style=\"text-align: right;\">  5.3347</td><td style=\"text-align: right;\"> 10.3657</td><td style=\"text-align: right;\">  8.2551</td><td style=\"text-align: right;\"> 11.4422</td><td style=\"text-align: right;\"> -8.7121</td><td style=\"text-align: right;\">  3.8256</td><td style=\"text-align: right;\">  1.1723</td><td style=\"text-align: right;\">  6.9224</td><td style=\"text-align: right;\"> -1.5636</td><td style=\"text-align: right;\">  4.7235</td><td style=\"text-align: right;\"> 23.2156</td><td style=\"text-align: right;\">  5.0215</td><td style=\"text-align: right;\"> -5.2671</td><td style=\"text-align: right;\"> 10.7981</td><td style=\"text-align: right;\">  0.8257</td><td style=\"text-align: right;\"> -5.5004</td><td style=\"text-align: right;\"> 24.4032</td><td style=\"text-align: right;\">  8.4758</td><td style=\"text-align: right;\"> 23.8209</td><td style=\"text-align: right;\">  4.2468</td><td style=\"text-align: right;\"> 19.5714</td><td style=\"text-align: right;\">  6.4908</td><td style=\"text-align: right;\"> 12.4225</td><td style=\"text-align: right;\">  6.4326</td><td style=\"text-align: right;\"> 16.0807</td><td style=\"text-align: right;\">  1.489 </td><td style=\"text-align: right;\"> 13.1412</td><td style=\"text-align: right;\">  3.8126</td><td style=\"text-align: right;\"> 19.7215</td><td style=\"text-align: right;\"> -0.3531</td><td style=\"text-align: right;\"> 17.5688</td><td style=\"text-align: right;\">  8.6988</td><td style=\"text-align: right;\">  5.2293</td><td style=\"text-align: right;\">-13.2339</td><td style=\"text-align: right;\">  6.9382</td><td style=\"text-align: right;\"> 12.9613</td><td style=\"text-align: right;\"> 10.6412</td><td style=\"text-align: right;\"> 14.2706</td><td style=\"text-align: right;\"> -0.4687</td><td style=\"text-align: right;\">  9.9168</td><td style=\"text-align: right;\">  2.3534</td><td style=\"text-align: right;\">  0.2386</td><td style=\"text-align: right;\"> -0.6977</td><td style=\"text-align: right;\"> -19.8952</td><td style=\"text-align: right;\">  12.7305</td><td style=\"text-align: right;\">  30.2647</td><td style=\"text-align: right;\">   1.7676</td><td style=\"text-align: right;\">  14.9591</td><td style=\"text-align: right;\">   4.9202</td><td style=\"text-align: right;\">   7.9543</td><td style=\"text-align: right;\">  26.5086</td><td style=\"text-align: right;\">  14.2583</td><td style=\"text-align: right;\">  13.2841</td><td style=\"text-align: right;\">   3.3909</td><td style=\"text-align: right;\">   4.7015</td><td style=\"text-align: right;\">   5.3538</td><td style=\"text-align: right;\">   4.4087</td><td style=\"text-align: right;\">   2.0986</td><td style=\"text-align: right;\">   0.2104</td><td style=\"text-align: right;\">   0.869 </td><td style=\"text-align: right;\">  20.6923</td><td style=\"text-align: right;\">  -1.4024</td><td style=\"text-align: right;\">   2.7168</td><td style=\"text-align: right;\">  21.1759</td><td style=\"text-align: right;\">  10.7737</td><td style=\"text-align: right;\">  10.1884</td><td style=\"text-align: right;\">   4.9242</td><td style=\"text-align: right;\">   2.0627</td><td style=\"text-align: right;\">  11.8315</td><td style=\"text-align: right;\">  14.0724</td><td style=\"text-align: right;\">   0.7827</td><td style=\"text-align: right;\">  -6.7349</td><td style=\"text-align: right;\">  18.2366</td><td style=\"text-align: right;\">  13.461 </td><td style=\"text-align: right;\">   1.1437</td><td style=\"text-align: right;\">   8.8194</td><td style=\"text-align: right;\">   6.4073</td><td style=\"text-align: right;\">  -2.4266</td><td style=\"text-align: right;\">  -1.2834</td><td style=\"text-align: right;\">  16.7356</td><td style=\"text-align: right;\">  15.0301</td><td style=\"text-align: right;\">   2.0551</td><td style=\"text-align: right;\">  -0.7009</td><td style=\"text-align: right;\">  -5.9772</td><td style=\"text-align: right;\">   5.3172</td><td style=\"text-align: right;\">  18.2809</td><td style=\"text-align: right;\">  14.0878</td><td style=\"text-align: right;\">   8.8363</td><td style=\"text-align: right;\">  10.1988</td><td style=\"text-align: right;\">  11.0207</td><td style=\"text-align: right;\">   7.5835</td><td style=\"text-align: right;\">   4.0888</td><td style=\"text-align: right;\">  10.2551</td><td style=\"text-align: right;\">  14.5978</td><td style=\"text-align: right;\">  12.0263</td><td style=\"text-align: right;\">  13.4995</td><td style=\"text-align: right;\">  17.4899</td><td style=\"text-align: right;\">   3.224 </td><td style=\"text-align: right;\">   4.338 </td><td style=\"text-align: right;\">  11.7515</td><td style=\"text-align: right;\"> -11.6321</td><td style=\"text-align: right;\">   8.8682</td><td style=\"text-align: right;\">   1.4625</td><td style=\"text-align: right;\">  10.4064</td><td style=\"text-align: right;\">   5.6731</td><td style=\"text-align: right;\">   5.2368</td><td style=\"text-align: right;\">   5.2973</td><td style=\"text-align: right;\"> -13.2809</td><td style=\"text-align: right;\">  26.6861</td><td style=\"text-align: right;\">   3.0711</td><td style=\"text-align: right;\">  -5.841 </td><td style=\"text-align: right;\">   3.2268</td><td style=\"text-align: right;\">   5.9344</td><td style=\"text-align: right;\">   0.6292</td><td style=\"text-align: right;\">  -4.0885</td><td style=\"text-align: right;\">  15.8299</td><td style=\"text-align: right;\">   1.9671</td><td style=\"text-align: right;\">  27.9116</td><td style=\"text-align: right;\">  12.1392</td><td style=\"text-align: right;\">  -5.8638</td><td style=\"text-align: right;\">   7.9274</td><td style=\"text-align: right;\">   3.2828</td><td style=\"text-align: right;\">   1.6738</td><td style=\"text-align: right;\">  -6.687 </td><td style=\"text-align: right;\">  10.8213</td><td style=\"text-align: right;\">  -9.0377</td><td style=\"text-align: right;\">  13.9614</td><td style=\"text-align: right;\">   5.7416</td><td style=\"text-align: right;\">   3.6823</td><td style=\"text-align: right;\">   5.108 </td><td style=\"text-align: right;\">  -7.5139</td><td style=\"text-align: right;\">  15.2017</td><td style=\"text-align: right;\">   2.6198</td><td style=\"text-align: right;\">  -2.1115</td><td style=\"text-align: right;\">   7.1178</td><td style=\"text-align: right;\">  -0.4249</td><td style=\"text-align: right;\">   8.8781</td><td style=\"text-align: right;\">  14.9438</td><td style=\"text-align: right;\">  -2.2151</td><td style=\"text-align: right;\">  -6.0233</td><td style=\"text-align: right;\">   9.8117</td><td style=\"text-align: right;\">  17.1127</td><td style=\"text-align: right;\">  10.824 </td></tr>\n",
       "<tr><td>test_6   </td><td style=\"text-align: right;\"> 8.4624</td><td style=\"text-align: right;\"> -6.1065</td><td style=\"text-align: right;\"> 7.3603</td><td style=\"text-align: right;\"> 8.2627</td><td style=\"text-align: right;\">12.0104</td><td style=\"text-align: right;\"> -7.2073</td><td style=\"text-align: right;\"> 4.167 </td><td style=\"text-align: right;\">13.0809</td><td style=\"text-align: right;\">-4.3004</td><td style=\"text-align: right;\"> 6.3181</td><td style=\"text-align: right;\">  3.3959</td><td style=\"text-align: right;\"> -2.0205</td><td style=\"text-align: right;\"> 13.7682</td><td style=\"text-align: right;\"> 12.0534</td><td style=\"text-align: right;\">  7.2186</td><td style=\"text-align: right;\"> 14.6552</td><td style=\"text-align: right;\"> 10.706 </td><td style=\"text-align: right;\"> -8.0046</td><td style=\"text-align: right;\"> 16.5411</td><td style=\"text-align: right;\"> -1.9177</td><td style=\"text-align: right;\"> 23.4575</td><td style=\"text-align: right;\"> 20.4773</td><td style=\"text-align: right;\">  3.9038</td><td style=\"text-align: right;\">  2.4832</td><td style=\"text-align: right;\"> 18.0843</td><td style=\"text-align: right;\"> 13.2727</td><td style=\"text-align: right;\">-15.1986</td><td style=\"text-align: right;\"> -0.4427</td><td style=\"text-align: right;\">  5.1813</td><td style=\"text-align: right;\">  6.4509</td><td style=\"text-align: right;\">  1.1644</td><td style=\"text-align: right;\">  8.1706</td><td style=\"text-align: right;\"> -0.3277</td><td style=\"text-align: right;\"> 18.6378</td><td style=\"text-align: right;\"> 10.6855</td><td style=\"text-align: right;\"> 11.9737</td><td style=\"text-align: right;\">  5.862 </td><td style=\"text-align: right;\">  1.6195</td><td style=\"text-align: right;\"> 16.8667</td><td style=\"text-align: right;\"> -6.1878</td><td style=\"text-align: right;\">-11.4996</td><td style=\"text-align: right;\"> 12.0445</td><td style=\"text-align: right;\"> 10.6562</td><td style=\"text-align: right;\"> 11.4393</td><td style=\"text-align: right;\"> 13.3974</td><td style=\"text-align: right;\"> 12.3227</td><td style=\"text-align: right;\"> 16.0258</td><td style=\"text-align: right;\">-13.4051</td><td style=\"text-align: right;\"> 23.4127</td><td style=\"text-align: right;\"> 20.8895</td><td style=\"text-align: right;\"> 11.5413</td><td style=\"text-align: right;\"> 17.243 </td><td style=\"text-align: right;\"> -3.2139</td><td style=\"text-align: right;\">  5.9612</td><td style=\"text-align: right;\">  3.8564</td><td style=\"text-align: right;\">  9.5905</td><td style=\"text-align: right;\"> 17.7064</td><td style=\"text-align: right;\">  5.9169</td><td style=\"text-align: right;\">  4.3098</td><td style=\"text-align: right;\">  7.2078</td><td style=\"text-align: right;\"> 16.111 </td><td style=\"text-align: right;\">  6.1001</td><td style=\"text-align: right;\">  5.7367</td><td style=\"text-align: right;\">  1.7652</td><td style=\"text-align: right;\">  4.4416</td><td style=\"text-align: right;\">  1.8125</td><td style=\"text-align: right;\">  7.2286</td><td style=\"text-align: right;\">  9.5884</td><td style=\"text-align: right;\">  5.0167</td><td style=\"text-align: right;\">  1.5204</td><td style=\"text-align: right;\"> 37.4611</td><td style=\"text-align: right;\">  0.4291</td><td style=\"text-align: right;\"> -6.8746</td><td style=\"text-align: right;\"> 13.9159</td><td style=\"text-align: right;\">  9.8784</td><td style=\"text-align: right;\"> 20.3224</td><td style=\"text-align: right;\">  4.5523</td><td style=\"text-align: right;\"> 20.5327</td><td style=\"text-align: right;\">  3.6862</td><td style=\"text-align: right;\"> 14.0201</td><td style=\"text-align: right;\"> -0.8756</td><td style=\"text-align: right;\"> 12.5293</td><td style=\"text-align: right;\">  5.8005</td><td style=\"text-align: right;\"> 11.1811</td><td style=\"text-align: right;\"> -2.8989</td><td style=\"text-align: right;\"> 26.0394</td><td style=\"text-align: right;\">  3.3605</td><td style=\"text-align: right;\">  7.3378</td><td style=\"text-align: right;\">  8.2451</td><td style=\"text-align: right;\">  5.2095</td><td style=\"text-align: right;\">-18.7481</td><td style=\"text-align: right;\">  6.8274</td><td style=\"text-align: right;\"> 13.9692</td><td style=\"text-align: right;\"> 10.2064</td><td style=\"text-align: right;\">  5.3246</td><td style=\"text-align: right;\"> -1.0409</td><td style=\"text-align: right;\"> 24.2579</td><td style=\"text-align: right;\">  5.3655</td><td style=\"text-align: right;\">  2.2065</td><td style=\"text-align: right;\"> -1.7311</td><td style=\"text-align: right;\">   6.1458</td><td style=\"text-align: right;\">  16.264 </td><td style=\"text-align: right;\">  18.6954</td><td style=\"text-align: right;\">   1.757 </td><td style=\"text-align: right;\">   7.8975</td><td style=\"text-align: right;\">   2.8033</td><td style=\"text-align: right;\">   5.795 </td><td style=\"text-align: right;\">  24.5927</td><td style=\"text-align: right;\">  14.1619</td><td style=\"text-align: right;\">  14.7296</td><td style=\"text-align: right;\">   5.8805</td><td style=\"text-align: right;\">   6.4036</td><td style=\"text-align: right;\">   3.4604</td><td style=\"text-align: right;\">   4.6195</td><td style=\"text-align: right;\">   3.5566</td><td style=\"text-align: right;\">   6.6851</td><td style=\"text-align: right;\">  -0.0033</td><td style=\"text-align: right;\">  20.4088</td><td style=\"text-align: right;\">  -0.895 </td><td style=\"text-align: right;\">  -0.1137</td><td style=\"text-align: right;\">  26.2992</td><td style=\"text-align: right;\">   9.9379</td><td style=\"text-align: right;\">   2.2976</td><td style=\"text-align: right;\">   6.6694</td><td style=\"text-align: right;\">  -0.8026</td><td style=\"text-align: right;\">  12.163 </td><td style=\"text-align: right;\">  13.1157</td><td style=\"text-align: right;\">   1.8116</td><td style=\"text-align: right;\">  -0.5829</td><td style=\"text-align: right;\">  11.1905</td><td style=\"text-align: right;\">  11.2068</td><td style=\"text-align: right;\">   0.8252</td><td style=\"text-align: right;\">   8.3042</td><td style=\"text-align: right;\">   6.6573</td><td style=\"text-align: right;\">  -7.7321</td><td style=\"text-align: right;\">  -6.2635</td><td style=\"text-align: right;\">   7.4701</td><td style=\"text-align: right;\">   0.4679</td><td style=\"text-align: right;\">   2.1011</td><td style=\"text-align: right;\">   3.5594</td><td style=\"text-align: right;\">   5.1848</td><td style=\"text-align: right;\">   9.4451</td><td style=\"text-align: right;\">   4.8391</td><td style=\"text-align: right;\">  13.5847</td><td style=\"text-align: right;\">   9.1868</td><td style=\"text-align: right;\">   0.0095</td><td style=\"text-align: right;\">   5.8965</td><td style=\"text-align: right;\">   4.7403</td><td style=\"text-align: right;\">   3.9294</td><td style=\"text-align: right;\">  19.9754</td><td style=\"text-align: right;\">  17.7241</td><td style=\"text-align: right;\">   6.045 </td><td style=\"text-align: right;\">   8.5249</td><td style=\"text-align: right;\">  17.4007</td><td style=\"text-align: right;\">  10.0876</td><td style=\"text-align: right;\">  -1.9114</td><td style=\"text-align: right;\">  13.316 </td><td style=\"text-align: right;\">  -7.9423</td><td style=\"text-align: right;\">  20.4256</td><td style=\"text-align: right;\">  17.8738</td><td style=\"text-align: right;\">  16.6887</td><td style=\"text-align: right;\">   5.5245</td><td style=\"text-align: right;\">   4.1781</td><td style=\"text-align: right;\">  16.6762</td><td style=\"text-align: right;\">  -6.2154</td><td style=\"text-align: right;\">  23.8006</td><td style=\"text-align: right;\">   2.8187</td><td style=\"text-align: right;\"> -16.7911</td><td style=\"text-align: right;\">   4.1165</td><td style=\"text-align: right;\">   5.7013</td><td style=\"text-align: right;\">   8.8525</td><td style=\"text-align: right;\">   0.2582</td><td style=\"text-align: right;\">  17.731 </td><td style=\"text-align: right;\"> -10.3297</td><td style=\"text-align: right;\">  20.0649</td><td style=\"text-align: right;\">  11.6405</td><td style=\"text-align: right;\">  -4.2624</td><td style=\"text-align: right;\">  12.0176</td><td style=\"text-align: right;\">  10.9073</td><td style=\"text-align: right;\">   2.2162</td><td style=\"text-align: right;\">  -4.0787</td><td style=\"text-align: right;\">   8.1047</td><td style=\"text-align: right;\">   0.3254</td><td style=\"text-align: right;\">  13.1701</td><td style=\"text-align: right;\">  16.1184</td><td style=\"text-align: right;\">  -3.1572</td><td style=\"text-align: right;\">  10.4842</td><td style=\"text-align: right;\"> -10.6925</td><td style=\"text-align: right;\">  12.8029</td><td style=\"text-align: right;\">   2.1781</td><td style=\"text-align: right;\">  12.3609</td><td style=\"text-align: right;\">   6.8661</td><td style=\"text-align: right;\">   4.0971</td><td style=\"text-align: right;\">   8.8484</td><td style=\"text-align: right;\">  17.501 </td><td style=\"text-align: right;\">   0.0295</td><td style=\"text-align: right;\">   7.7443</td><td style=\"text-align: right;\">   9.1509</td><td style=\"text-align: right;\">  18.4736</td><td style=\"text-align: right;\">   5.1499</td></tr>\n",
       "<tr><td>test_7   </td><td style=\"text-align: right;\">17.3035</td><td style=\"text-align: right;\"> -2.4212</td><td style=\"text-align: right;\">13.3989</td><td style=\"text-align: right;\"> 8.3998</td><td style=\"text-align: right;\">11.0777</td><td style=\"text-align: right;\">  9.6449</td><td style=\"text-align: right;\"> 5.9596</td><td style=\"text-align: right;\">17.8477</td><td style=\"text-align: right;\">-4.8068</td><td style=\"text-align: right;\"> 7.4643</td><td style=\"text-align: right;\">  4.0355</td><td style=\"text-align: right;\">  1.6185</td><td style=\"text-align: right;\"> 14.1455</td><td style=\"text-align: right;\">  9.2276</td><td style=\"text-align: right;\"> 10.3202</td><td style=\"text-align: right;\"> 15.1863</td><td style=\"text-align: right;\"> 10.4344</td><td style=\"text-align: right;\">-16.2784</td><td style=\"text-align: right;\"> 20.4167</td><td style=\"text-align: right;\"> 16.3993</td><td style=\"text-align: right;\"> 26.0324</td><td style=\"text-align: right;\"> 18.2594</td><td style=\"text-align: right;\">  5.8071</td><td style=\"text-align: right;\">  4.0316</td><td style=\"text-align: right;\"> 19.0425</td><td style=\"text-align: right;\"> 13.2969</td><td style=\"text-align: right;\"> -6.3679</td><td style=\"text-align: right;\">  0.1439</td><td style=\"text-align: right;\">  5.1571</td><td style=\"text-align: right;\">  4.2024</td><td style=\"text-align: right;\"> -7.6541</td><td style=\"text-align: right;\"> 11.0271</td><td style=\"text-align: right;\"> -4.0223</td><td style=\"text-align: right;\"> 14.8908</td><td style=\"text-align: right;\"> 11.2465</td><td style=\"text-align: right;\"> 12.2744</td><td style=\"text-align: right;\">  2.6117</td><td style=\"text-align: right;\">  3.7225</td><td style=\"text-align: right;\"> 11.9105</td><td style=\"text-align: right;\">  7.4879</td><td style=\"text-align: right;\"> -1.0589</td><td style=\"text-align: right;\"> 12.9685</td><td style=\"text-align: right;\">  9.9273</td><td style=\"text-align: right;\"> 11.9615</td><td style=\"text-align: right;\">  9.5903</td><td style=\"text-align: right;\">-11.6245</td><td style=\"text-align: right;\">  9.9861</td><td style=\"text-align: right;\"> -2.3604</td><td style=\"text-align: right;\"> 29.7697</td><td style=\"text-align: right;\"> 15.5135</td><td style=\"text-align: right;\"> 12.7145</td><td style=\"text-align: right;\"> 18.6272</td><td style=\"text-align: right;\"> -0.3277</td><td style=\"text-align: right;\">  6.4081</td><td style=\"text-align: right;\"> -4.0908</td><td style=\"text-align: right;\">  9.1192</td><td style=\"text-align: right;\"> 16.579 </td><td style=\"text-align: right;\">  5.2576</td><td style=\"text-align: right;\"> -0.404 </td><td style=\"text-align: right;\">  9.5163</td><td style=\"text-align: right;\">  9.2034</td><td style=\"text-align: right;\">-19.3891</td><td style=\"text-align: right;\">  1.3491</td><td style=\"text-align: right;\"> -1.2249</td><td style=\"text-align: right;\">  7.8745</td><td style=\"text-align: right;\"> -1.4398</td><td style=\"text-align: right;\">  3.6731</td><td style=\"text-align: right;\"> 19.5793</td><td style=\"text-align: right;\">  5.0351</td><td style=\"text-align: right;\"> -4.0532</td><td style=\"text-align: right;\"> 24.1029</td><td style=\"text-align: right;\">  0.448 </td><td style=\"text-align: right;\">  4.1605</td><td style=\"text-align: right;\"> 30.3208</td><td style=\"text-align: right;\"> 29.9375</td><td style=\"text-align: right;\">  2.704 </td><td style=\"text-align: right;\">-13.5575</td><td style=\"text-align: right;\"> 20.5463</td><td style=\"text-align: right;\">  7.5424</td><td style=\"text-align: right;\"> 14.3924</td><td style=\"text-align: right;\">  3.8249</td><td style=\"text-align: right;\"> 18.7879</td><td style=\"text-align: right;\">-13.4008</td><td style=\"text-align: right;\"> -6.9739</td><td style=\"text-align: right;\">  3.5344</td><td style=\"text-align: right;\"> 16.948 </td><td style=\"text-align: right;\">  2.0801</td><td style=\"text-align: right;\">  5.4255</td><td style=\"text-align: right;\"> 10.8931</td><td style=\"text-align: right;\">  7.5485</td><td style=\"text-align: right;\"> -1.1905</td><td style=\"text-align: right;\">  7.12  </td><td style=\"text-align: right;\"> 10.0399</td><td style=\"text-align: right;\"> 11.7667</td><td style=\"text-align: right;\">  9.202 </td><td style=\"text-align: right;\"> -0.7176</td><td style=\"text-align: right;\"> 12.5804</td><td style=\"text-align: right;\"> 31.8321</td><td style=\"text-align: right;\">  1.7538</td><td style=\"text-align: right;\"> -0.707 </td><td style=\"text-align: right;\"> -22.7363</td><td style=\"text-align: right;\">  11.6984</td><td style=\"text-align: right;\">  18.0784</td><td style=\"text-align: right;\">   1.7108</td><td style=\"text-align: right;\">   9.2897</td><td style=\"text-align: right;\">   5.5384</td><td style=\"text-align: right;\">  13.0755</td><td style=\"text-align: right;\">  23.3108</td><td style=\"text-align: right;\">  14.156 </td><td style=\"text-align: right;\">  14.5899</td><td style=\"text-align: right;\">   5.551 </td><td style=\"text-align: right;\">   7.7358</td><td style=\"text-align: right;\">   5.2163</td><td style=\"text-align: right;\">  13.7452</td><td style=\"text-align: right;\">   1.5873</td><td style=\"text-align: right;\">   6.0762</td><td style=\"text-align: right;\">   4.9045</td><td style=\"text-align: right;\">  20.5785</td><td style=\"text-align: right;\"> -14.902 </td><td style=\"text-align: right;\">   7.3964</td><td style=\"text-align: right;\">  32.9594</td><td style=\"text-align: right;\">   8.5667</td><td style=\"text-align: right;\">   0.9854</td><td style=\"text-align: right;\">  11.8573</td><td style=\"text-align: right;\">   3.4626</td><td style=\"text-align: right;\">  12.0244</td><td style=\"text-align: right;\">  14.1143</td><td style=\"text-align: right;\">  -0.831 </td><td style=\"text-align: right;\">  -0.745 </td><td style=\"text-align: right;\">  15.3384</td><td style=\"text-align: right;\">  11.386 </td><td style=\"text-align: right;\">   1.0311</td><td style=\"text-align: right;\">   8.3112</td><td style=\"text-align: right;\">   7.429 </td><td style=\"text-align: right;\">  -3.6762</td><td style=\"text-align: right;\"> -11.7978</td><td style=\"text-align: right;\">  11.7961</td><td style=\"text-align: right;\">   1.1644</td><td style=\"text-align: right;\">  -3.2493</td><td style=\"text-align: right;\">   5.7673</td><td style=\"text-align: right;\">   9.8482</td><td style=\"text-align: right;\">   6.9077</td><td style=\"text-align: right;\">  15.8785</td><td style=\"text-align: right;\">  11.6216</td><td style=\"text-align: right;\">   7.9618</td><td style=\"text-align: right;\">   2.5143</td><td style=\"text-align: right;\">  14.5101</td><td style=\"text-align: right;\">  -0.0356</td><td style=\"text-align: right;\">   4.072 </td><td style=\"text-align: right;\">  -0.7705</td><td style=\"text-align: right;\">  17.7689</td><td style=\"text-align: right;\">  11.6995</td><td style=\"text-align: right;\">   4.3652</td><td style=\"text-align: right;\">  12.9432</td><td style=\"text-align: right;\">   8.2277</td><td style=\"text-align: right;\">  -2.9284</td><td style=\"text-align: right;\">  13.3862</td><td style=\"text-align: right;\">  -8.4828</td><td style=\"text-align: right;\">  28.2227</td><td style=\"text-align: right;\">   8.6334</td><td style=\"text-align: right;\">  33.2387</td><td style=\"text-align: right;\">   5.5475</td><td style=\"text-align: right;\">   5.0035</td><td style=\"text-align: right;\">  13.2442</td><td style=\"text-align: right;\">  -3.8513</td><td style=\"text-align: right;\">   9.9877</td><td style=\"text-align: right;\">   3.1809</td><td style=\"text-align: right;\"> -12.016 </td><td style=\"text-align: right;\">   0.7334</td><td style=\"text-align: right;\">   5.7269</td><td style=\"text-align: right;\">   2.5807</td><td style=\"text-align: right;\">  -1.2435</td><td style=\"text-align: right;\">  25.3933</td><td style=\"text-align: right;\">   6.051 </td><td style=\"text-align: right;\">  15.6766</td><td style=\"text-align: right;\">  12.1939</td><td style=\"text-align: right;\">  -1.3424</td><td style=\"text-align: right;\">  13.5346</td><td style=\"text-align: right;\"> -13.1117</td><td style=\"text-align: right;\">   2.0752</td><td style=\"text-align: right;\">  -0.3896</td><td style=\"text-align: right;\">   9.4374</td><td style=\"text-align: right;\">  -3.2351</td><td style=\"text-align: right;\">   9.3452</td><td style=\"text-align: right;\">  20.7098</td><td style=\"text-align: right;\">   0.9508</td><td style=\"text-align: right;\">   9.6602</td><td style=\"text-align: right;\"> -11.1847</td><td style=\"text-align: right;\">  15.7181</td><td style=\"text-align: right;\">  -1.0241</td><td style=\"text-align: right;\">   4.4676</td><td style=\"text-align: right;\">   4.4214</td><td style=\"text-align: right;\">   0.9303</td><td style=\"text-align: right;\">   1.4994</td><td style=\"text-align: right;\">  15.2648</td><td style=\"text-align: right;\">  -1.7931</td><td style=\"text-align: right;\">   6.5316</td><td style=\"text-align: right;\">  10.4855</td><td style=\"text-align: right;\">  23.4631</td><td style=\"text-align: right;\">   0.7283</td></tr>\n",
       "<tr><td>test_8   </td><td style=\"text-align: right;\"> 6.9856</td><td style=\"text-align: right;\">  0.8402</td><td style=\"text-align: right;\">13.7161</td><td style=\"text-align: right;\"> 4.7749</td><td style=\"text-align: right;\"> 8.6784</td><td style=\"text-align: right;\">-13.7607</td><td style=\"text-align: right;\"> 4.3386</td><td style=\"text-align: right;\">14.5843</td><td style=\"text-align: right;\"> 2.5883</td><td style=\"text-align: right;\"> 7.2215</td><td style=\"text-align: right;\">  9.375 </td><td style=\"text-align: right;\">  8.4046</td><td style=\"text-align: right;\"> 14.3322</td><td style=\"text-align: right;\"> 17.1366</td><td style=\"text-align: right;\">  7.9301</td><td style=\"text-align: right;\"> 14.2254</td><td style=\"text-align: right;\">  6.722 </td><td style=\"text-align: right;\"> -8.7087</td><td style=\"text-align: right;\"> -1.3541</td><td style=\"text-align: right;\"> 19.2714</td><td style=\"text-align: right;\">  9.3437</td><td style=\"text-align: right;\"> 18.6532</td><td style=\"text-align: right;\">  7.7823</td><td style=\"text-align: right;\">  2.6009</td><td style=\"text-align: right;\">  6.7642</td><td style=\"text-align: right;\"> 13.6464</td><td style=\"text-align: right;\"> -6.3747</td><td style=\"text-align: right;\">  1.1001</td><td style=\"text-align: right;\">  6.3812</td><td style=\"text-align: right;\">  7.6421</td><td style=\"text-align: right;\">  4.3898</td><td style=\"text-align: right;\">  9.0597</td><td style=\"text-align: right;\">  1.204 </td><td style=\"text-align: right;\">  7.1039</td><td style=\"text-align: right;\"> 12.3777</td><td style=\"text-align: right;\"> -2.9641</td><td style=\"text-align: right;\">  7.0173</td><td style=\"text-align: right;\">  7.4202</td><td style=\"text-align: right;\"> 19.6818</td><td style=\"text-align: right;\"> -4.4557</td><td style=\"text-align: right;\"> -8.9754</td><td style=\"text-align: right;\">  1.5151</td><td style=\"text-align: right;\"> 11.5905</td><td style=\"text-align: right;\"> 12.0374</td><td style=\"text-align: right;\"> 14.9053</td><td style=\"text-align: right;\"> -3.7726</td><td style=\"text-align: right;\">  8.2385</td><td style=\"text-align: right;\">-14.4489</td><td style=\"text-align: right;\"> -0.7069</td><td style=\"text-align: right;\">  6.9919</td><td style=\"text-align: right;\"> 12.8479</td><td style=\"text-align: right;\"> 27.6295</td><td style=\"text-align: right;\"> -4.9911</td><td style=\"text-align: right;\">  6.5384</td><td style=\"text-align: right;\">  8.362 </td><td style=\"text-align: right;\"> 16.5132</td><td style=\"text-align: right;\"> 23.6665</td><td style=\"text-align: right;\">  5.1845</td><td style=\"text-align: right;\">  4.3941</td><td style=\"text-align: right;\">  8.6522</td><td style=\"text-align: right;\">  8.3098</td><td style=\"text-align: right;\"> -7.7338</td><td style=\"text-align: right;\"> -1.9156</td><td style=\"text-align: right;\"> -3.2809</td><td style=\"text-align: right;\">  7.2819</td><td style=\"text-align: right;\">  3.4439</td><td style=\"text-align: right;\">  7.3613</td><td style=\"text-align: right;\">  5.1669</td><td style=\"text-align: right;\">  5.0119</td><td style=\"text-align: right;\"> -9.8221</td><td style=\"text-align: right;\"> 28.1225</td><td style=\"text-align: right;\">  0.9355</td><td style=\"text-align: right;\"> -1.8602</td><td style=\"text-align: right;\"> 23.5856</td><td style=\"text-align: right;\"> 13.4518</td><td style=\"text-align: right;\"> 21.7888</td><td style=\"text-align: right;\">  9.118 </td><td style=\"text-align: right;\"> 18.7106</td><td style=\"text-align: right;\">  6.7353</td><td style=\"text-align: right;\"> 14.58  </td><td style=\"text-align: right;\"> -2.9163</td><td style=\"text-align: right;\"> 16.0976</td><td style=\"text-align: right;\"> -2.0214</td><td style=\"text-align: right;\"> -0.6714</td><td style=\"text-align: right;\">  0.8176</td><td style=\"text-align: right;\"> 20.7796</td><td style=\"text-align: right;\"> 10.8433</td><td style=\"text-align: right;\"> 13.8174</td><td style=\"text-align: right;\"> 10.911 </td><td style=\"text-align: right;\">  4.654 </td><td style=\"text-align: right;\">-16.7103</td><td style=\"text-align: right;\">  6.8175</td><td style=\"text-align: right;\">  7.35  </td><td style=\"text-align: right;\"> 11.0465</td><td style=\"text-align: right;\"> 12.5032</td><td style=\"text-align: right;\">  0.4848</td><td style=\"text-align: right;\">  6.1101</td><td style=\"text-align: right;\"> 15.0128</td><td style=\"text-align: right;\">  2.9392</td><td style=\"text-align: right;\"> -3.3947</td><td style=\"text-align: right;\"> -17.4719</td><td style=\"text-align: right;\">   2.2523</td><td style=\"text-align: right;\">  13.9971</td><td style=\"text-align: right;\">   1.4223</td><td style=\"text-align: right;\">  10.9085</td><td style=\"text-align: right;\">   4.3059</td><td style=\"text-align: right;\">   8.2673</td><td style=\"text-align: right;\">   6.8189</td><td style=\"text-align: right;\">  14.4489</td><td style=\"text-align: right;\">  13.0155</td><td style=\"text-align: right;\">   7.5274</td><td style=\"text-align: right;\">   5.2759</td><td style=\"text-align: right;\">   4.2894</td><td style=\"text-align: right;\">   4.9696</td><td style=\"text-align: right;\">   5.0573</td><td style=\"text-align: right;\">   5.2765</td><td style=\"text-align: right;\">   2.6045</td><td style=\"text-align: right;\">  19.6039</td><td style=\"text-align: right;\">  -2.2295</td><td style=\"text-align: right;\">  -0.4357</td><td style=\"text-align: right;\">   9.733 </td><td style=\"text-align: right;\">  14.4961</td><td style=\"text-align: right;\">  -0.6687</td><td style=\"text-align: right;\">   4.5032</td><td style=\"text-align: right;\">   3.1302</td><td style=\"text-align: right;\">  12.1091</td><td style=\"text-align: right;\">  13.5299</td><td style=\"text-align: right;\">   5.6511</td><td style=\"text-align: right;\">  -1.4709</td><td style=\"text-align: right;\">  16.5722</td><td style=\"text-align: right;\">  13.2591</td><td style=\"text-align: right;\">  -0.2205</td><td style=\"text-align: right;\">   9.9031</td><td style=\"text-align: right;\">   6.7155</td><td style=\"text-align: right;\">  -9.7841</td><td style=\"text-align: right;\">  -5.1019</td><td style=\"text-align: right;\">  25.8567</td><td style=\"text-align: right;\">  16.5908</td><td style=\"text-align: right;\">  -2.5403</td><td style=\"text-align: right;\">   7.7289</td><td style=\"text-align: right;\">   2.8455</td><td style=\"text-align: right;\">   2.2674</td><td style=\"text-align: right;\">  13.0833</td><td style=\"text-align: right;\">  14.1355</td><td style=\"text-align: right;\">   8.8783</td><td style=\"text-align: right;\">  -0.067 </td><td style=\"text-align: right;\">   9.5314</td><td style=\"text-align: right;\">  -0.3042</td><td style=\"text-align: right;\">   4.1288</td><td style=\"text-align: right;\">   5.218 </td><td style=\"text-align: right;\">  15.8261</td><td style=\"text-align: right;\">   4.8847</td><td style=\"text-align: right;\">  10.0671</td><td style=\"text-align: right;\">  15.7964</td><td style=\"text-align: right;\">   4.5274</td><td style=\"text-align: right;\">   5.401 </td><td style=\"text-align: right;\">  14.6694</td><td style=\"text-align: right;\">   1.7479</td><td style=\"text-align: right;\">  15.8807</td><td style=\"text-align: right;\">  19.9708</td><td style=\"text-align: right;\">   6.578 </td><td style=\"text-align: right;\">   5.505 </td><td style=\"text-align: right;\">   5.7826</td><td style=\"text-align: right;\">   3.0612</td><td style=\"text-align: right;\">   1.3582</td><td style=\"text-align: right;\">  21.0711</td><td style=\"text-align: right;\">   2.7477</td><td style=\"text-align: right;\">  -5.5203</td><td style=\"text-align: right;\">   5.7496</td><td style=\"text-align: right;\">   5.1234</td><td style=\"text-align: right;\">  -4.5422</td><td style=\"text-align: right;\">  -1.0625</td><td style=\"text-align: right;\">  13.1249</td><td style=\"text-align: right;\">  -0.7765</td><td style=\"text-align: right;\">  18.7814</td><td style=\"text-align: right;\">  12.293 </td><td style=\"text-align: right;\"> -11.3608</td><td style=\"text-align: right;\">  17.1317</td><td style=\"text-align: right;\">  -0.645 </td><td style=\"text-align: right;\">   3.0689</td><td style=\"text-align: right;\">   6.4179</td><td style=\"text-align: right;\">   7.8819</td><td style=\"text-align: right;\">   1.66  </td><td style=\"text-align: right;\">  10.0574</td><td style=\"text-align: right;\">   6.2029</td><td style=\"text-align: right;\">   1.5205</td><td style=\"text-align: right;\">  10.0629</td><td style=\"text-align: right;\"> -13.7457</td><td style=\"text-align: right;\">  13.591 </td><td style=\"text-align: right;\">  -0.1388</td><td style=\"text-align: right;\">  -3.4657</td><td style=\"text-align: right;\">   7.8754</td><td style=\"text-align: right;\">   2.4698</td><td style=\"text-align: right;\">  -0.0362</td><td style=\"text-align: right;\">  16.7144</td><td style=\"text-align: right;\">   0.1221</td><td style=\"text-align: right;\">  -1.4328</td><td style=\"text-align: right;\">   9.9207</td><td style=\"text-align: right;\">  16.9865</td><td style=\"text-align: right;\">  -3.3304</td></tr>\n",
       "<tr><td>test_9   </td><td style=\"text-align: right;\">10.3811</td><td style=\"text-align: right;\"> -6.9348</td><td style=\"text-align: right;\">14.669 </td><td style=\"text-align: right;\"> 9.0941</td><td style=\"text-align: right;\">11.9058</td><td style=\"text-align: right;\">-10.8018</td><td style=\"text-align: right;\"> 3.4508</td><td style=\"text-align: right;\">20.2816</td><td style=\"text-align: right;\">-1.4112</td><td style=\"text-align: right;\"> 6.7401</td><td style=\"text-align: right;\">  0.3727</td><td style=\"text-align: right;\"> -4.1918</td><td style=\"text-align: right;\"> 14.0862</td><td style=\"text-align: right;\">  0.7104</td><td style=\"text-align: right;\">  8.1878</td><td style=\"text-align: right;\"> 13.7374</td><td style=\"text-align: right;\"> 11.3068</td><td style=\"text-align: right;\">-12.0935</td><td style=\"text-align: right;\">  7.5325</td><td style=\"text-align: right;\"> 10.5814</td><td style=\"text-align: right;\"> 23.2748</td><td style=\"text-align: right;\"> 12.6576</td><td style=\"text-align: right;\">  0.6735</td><td style=\"text-align: right;\">  3.5861</td><td style=\"text-align: right;\"> 14.11  </td><td style=\"text-align: right;\"> 13.4447</td><td style=\"text-align: right;\">-11.4772</td><td style=\"text-align: right;\"> -2.614 </td><td style=\"text-align: right;\">  6.024 </td><td style=\"text-align: right;\">  9.8656</td><td style=\"text-align: right;\"> -6.5061</td><td style=\"text-align: right;\"> 12.4767</td><td style=\"text-align: right;\">  2.5978</td><td style=\"text-align: right;\"> 18.235 </td><td style=\"text-align: right;\"> 11.01  </td><td style=\"text-align: right;\">  0.0708</td><td style=\"text-align: right;\">  3.4443</td><td style=\"text-align: right;\">  6.4965</td><td style=\"text-align: right;\"> 13.2953</td><td style=\"text-align: right;\">  1.8353</td><td style=\"text-align: right;\"> -5.6343</td><td style=\"text-align: right;\"> 13.6108</td><td style=\"text-align: right;\"> 11.8231</td><td style=\"text-align: right;\"> 11.7951</td><td style=\"text-align: right;\"> 15.8002</td><td style=\"text-align: right;\"> -0.5335</td><td style=\"text-align: right;\"> 14.2041</td><td style=\"text-align: right;\">-20.602 </td><td style=\"text-align: right;\"> 38.3319</td><td style=\"text-align: right;\">  8.0352</td><td style=\"text-align: right;\"> 13.5827</td><td style=\"text-align: right;\">  5.5801</td><td style=\"text-align: right;\"> -4.1727</td><td style=\"text-align: right;\">  6.3294</td><td style=\"text-align: right;\">  5.3689</td><td style=\"text-align: right;\"> 10.2188</td><td style=\"text-align: right;\"> 15.8628</td><td style=\"text-align: right;\">  6.2578</td><td style=\"text-align: right;\">  4.6593</td><td style=\"text-align: right;\">  7.4562</td><td style=\"text-align: right;\">  7.3667</td><td style=\"text-align: right;\">-17.1528</td><td style=\"text-align: right;\">  2.6417</td><td style=\"text-align: right;\">  1.4227</td><td style=\"text-align: right;\">  6.6753</td><td style=\"text-align: right;\"> -2.9281</td><td style=\"text-align: right;\">  4.6889</td><td style=\"text-align: right;\"> 17.5416</td><td style=\"text-align: right;\">  5.0212</td><td style=\"text-align: right;\"> -9.7668</td><td style=\"text-align: right;\"> 19.8902</td><td style=\"text-align: right;\">  0.0328</td><td style=\"text-align: right;\">  3.5118</td><td style=\"text-align: right;\"> 23.6165</td><td style=\"text-align: right;\"> -1.1373</td><td style=\"text-align: right;\"> 13.4426</td><td style=\"text-align: right;\">  8.2634</td><td style=\"text-align: right;\"> 14.1471</td><td style=\"text-align: right;\">  5.2196</td><td style=\"text-align: right;\"> 14.8429</td><td style=\"text-align: right;\"> 15.3127</td><td style=\"text-align: right;\"> 15.2616</td><td style=\"text-align: right;\"> 12.1896</td><td style=\"text-align: right;\">  4.6439</td><td style=\"text-align: right;\">-13.252 </td><td style=\"text-align: right;\"> 16.3368</td><td style=\"text-align: right;\">  4.4341</td><td style=\"text-align: right;\">  7.6685</td><td style=\"text-align: right;\"> 11.4737</td><td style=\"text-align: right;\">  9.3179</td><td style=\"text-align: right;\">-32.8776</td><td style=\"text-align: right;\">  7.0579</td><td style=\"text-align: right;\"> 11.8151</td><td style=\"text-align: right;\"> 10.2526</td><td style=\"text-align: right;\">  5.8207</td><td style=\"text-align: right;\">  0.0566</td><td style=\"text-align: right;\"> -2.7721</td><td style=\"text-align: right;\">  5.303 </td><td style=\"text-align: right;\">  2.2158</td><td style=\"text-align: right;\"> -1.3575</td><td style=\"text-align: right;\">  -3.9543</td><td style=\"text-align: right;\">  10.481 </td><td style=\"text-align: right;\">  12.7118</td><td style=\"text-align: right;\">   1.5123</td><td style=\"text-align: right;\">  12.4305</td><td style=\"text-align: right;\">   3.8841</td><td style=\"text-align: right;\">   7.0886</td><td style=\"text-align: right;\">  15.9936</td><td style=\"text-align: right;\">  14.3804</td><td style=\"text-align: right;\">  12.4582</td><td style=\"text-align: right;\">   4.1504</td><td style=\"text-align: right;\">   6.7216</td><td style=\"text-align: right;\">   3.6998</td><td style=\"text-align: right;\">  13.5225</td><td style=\"text-align: right;\">   2.9509</td><td style=\"text-align: right;\">   2.9887</td><td style=\"text-align: right;\">   0.6332</td><td style=\"text-align: right;\">  20.2192</td><td style=\"text-align: right;\"> -18.622 </td><td style=\"text-align: right;\">   0.3258</td><td style=\"text-align: right;\">  30.2615</td><td style=\"text-align: right;\">   9.746 </td><td style=\"text-align: right;\">   4.6129</td><td style=\"text-align: right;\">  13.6191</td><td style=\"text-align: right;\">   1.5284</td><td style=\"text-align: right;\">  12.2526</td><td style=\"text-align: right;\">  11.5584</td><td style=\"text-align: right;\">  -2.9764</td><td style=\"text-align: right;\">  -0.3786</td><td style=\"text-align: right;\">   6.9685</td><td style=\"text-align: right;\">  11.8712</td><td style=\"text-align: right;\">   0.5326</td><td style=\"text-align: right;\">  10.0032</td><td style=\"text-align: right;\">   6.9391</td><td style=\"text-align: right;\">  -1.8714</td><td style=\"text-align: right;\">  -2.2749</td><td style=\"text-align: right;\">  22.5966</td><td style=\"text-align: right;\">  28.7865</td><td style=\"text-align: right;\">   9.026 </td><td style=\"text-align: right;\">  17.8358</td><td style=\"text-align: right;\">  -5.3484</td><td style=\"text-align: right;\">   9.1608</td><td style=\"text-align: right;\">  10.5783</td><td style=\"text-align: right;\">   9.5932</td><td style=\"text-align: right;\">   8.7308</td><td style=\"text-align: right;\">  12.9366</td><td style=\"text-align: right;\">   8.3408</td><td style=\"text-align: right;\"> -14.0287</td><td style=\"text-align: right;\">   4.086 </td><td style=\"text-align: right;\">   7.4515</td><td style=\"text-align: right;\">  13.1249</td><td style=\"text-align: right;\">  11.4577</td><td style=\"text-align: right;\">  10.6152</td><td style=\"text-align: right;\">  18.5312</td><td style=\"text-align: right;\">   6.3598</td><td style=\"text-align: right;\">  -7.0326</td><td style=\"text-align: right;\">  14.4686</td><td style=\"text-align: right;\">  -6.9861</td><td style=\"text-align: right;\">   6.1284</td><td style=\"text-align: right;\">   5.6814</td><td style=\"text-align: right;\">  13.6283</td><td style=\"text-align: right;\">   5.688 </td><td style=\"text-align: right;\">   6.0106</td><td style=\"text-align: right;\">  18.1349</td><td style=\"text-align: right;\">  -9.8056</td><td style=\"text-align: right;\">  15.6642</td><td style=\"text-align: right;\">   2.7786</td><td style=\"text-align: right;\">  -0.7066</td><td style=\"text-align: right;\">   4.8203</td><td style=\"text-align: right;\">   5.5257</td><td style=\"text-align: right;\">  -0.848 </td><td style=\"text-align: right;\"> -12.2675</td><td style=\"text-align: right;\">   9.241 </td><td style=\"text-align: right;\">  -2.8859</td><td style=\"text-align: right;\">  19.9355</td><td style=\"text-align: right;\">  12.2314</td><td style=\"text-align: right;\">  -6.6672</td><td style=\"text-align: right;\">  11.6131</td><td style=\"text-align: right;\">  -6.1622</td><td style=\"text-align: right;\">  -1.2921</td><td style=\"text-align: right;\">  -4.5264</td><td style=\"text-align: right;\">  10.0482</td><td style=\"text-align: right;\">   2.4023</td><td style=\"text-align: right;\">  14.5056</td><td style=\"text-align: right;\">  34.7555</td><td style=\"text-align: right;\">  -7.9347</td><td style=\"text-align: right;\">   3.707 </td><td style=\"text-align: right;\">  10.0144</td><td style=\"text-align: right;\">  15.0549</td><td style=\"text-align: right;\">   2.0603</td><td style=\"text-align: right;\">   1.8052</td><td style=\"text-align: right;\">  11.0723</td><td style=\"text-align: right;\">   0.8907</td><td style=\"text-align: right;\">   4.768 </td><td style=\"text-align: right;\">  15.1425</td><td style=\"text-align: right;\">   0.6075</td><td style=\"text-align: right;\">  -4.4447</td><td style=\"text-align: right;\">   9.5788</td><td style=\"text-align: right;\">  15.8146</td><td style=\"text-align: right;\">   9.3457</td></tr>\n",
       "</tbody>\n",
       "</table>"
      ]
     },
     "metadata": {},
     "output_type": "display_data"
    },
    {
     "data": {
      "text/plain": [
       "<bound method H2OFrame.head of >"
      ]
     },
     "execution_count": 20,
     "metadata": {},
     "output_type": "execute_result"
    }
   ],
   "source": [
    "df_test.head"
   ]
  },
  {
   "cell_type": "markdown",
   "metadata": {},
   "source": [
    "## Predict the value according to the h2o object(using the best model automatically)"
   ]
  },
  {
   "cell_type": "code",
   "execution_count": 21,
   "metadata": {},
   "outputs": [
    {
     "name": "stdout",
     "output_type": "stream",
     "text": [
      "stackedensemble prediction progress: |████████████████████████████████████| 100%\n"
     ]
    }
   ],
   "source": [
    "pred = aml.predict(df_test)"
   ]
  },
  {
   "cell_type": "code",
   "execution_count": 22,
   "metadata": {},
   "outputs": [
    {
     "data": {
      "text/plain": [
       "200000"
      ]
     },
     "execution_count": 22,
     "metadata": {},
     "output_type": "execute_result"
    }
   ],
   "source": [
    "len(pred)"
   ]
  },
  {
   "cell_type": "markdown",
   "metadata": {},
   "source": [
    "The outcome shows me the probability of 0 or 1 respectively."
   ]
  },
  {
   "cell_type": "code",
   "execution_count": 23,
   "metadata": {},
   "outputs": [
    {
     "data": {
      "text/html": [
       "<table>\n",
       "<thead>\n",
       "<tr><th style=\"text-align: right;\">  predict</th><th style=\"text-align: right;\">      p0</th><th style=\"text-align: right;\">       p1</th></tr>\n",
       "</thead>\n",
       "<tbody>\n",
       "<tr><td style=\"text-align: right;\">        0</td><td style=\"text-align: right;\">0.831706</td><td style=\"text-align: right;\">0.168294 </td></tr>\n",
       "<tr><td style=\"text-align: right;\">        0</td><td style=\"text-align: right;\">0.904945</td><td style=\"text-align: right;\">0.0950547</td></tr>\n",
       "<tr><td style=\"text-align: right;\">        0</td><td style=\"text-align: right;\">0.918555</td><td style=\"text-align: right;\">0.0814445</td></tr>\n",
       "<tr><td style=\"text-align: right;\">        0</td><td style=\"text-align: right;\">0.912868</td><td style=\"text-align: right;\">0.0871319</td></tr>\n",
       "<tr><td style=\"text-align: right;\">        0</td><td style=\"text-align: right;\">0.927999</td><td style=\"text-align: right;\">0.0720009</td></tr>\n",
       "<tr><td style=\"text-align: right;\">        0</td><td style=\"text-align: right;\">0.980811</td><td style=\"text-align: right;\">0.0191889</td></tr>\n",
       "<tr><td style=\"text-align: right;\">        0</td><td style=\"text-align: right;\">0.977354</td><td style=\"text-align: right;\">0.0226464</td></tr>\n",
       "<tr><td style=\"text-align: right;\">        0</td><td style=\"text-align: right;\">0.884707</td><td style=\"text-align: right;\">0.115293 </td></tr>\n",
       "<tr><td style=\"text-align: right;\">        0</td><td style=\"text-align: right;\">0.983459</td><td style=\"text-align: right;\">0.0165414</td></tr>\n",
       "<tr><td style=\"text-align: right;\">        0</td><td style=\"text-align: right;\">0.983355</td><td style=\"text-align: right;\">0.0166448</td></tr>\n",
       "</tbody>\n",
       "</table>"
      ]
     },
     "metadata": {},
     "output_type": "display_data"
    },
    {
     "data": {
      "text/plain": []
     },
     "execution_count": 23,
     "metadata": {},
     "output_type": "execute_result"
    }
   ],
   "source": [
    "pred"
   ]
  },
  {
   "cell_type": "markdown",
   "metadata": {},
   "source": [
    "Then I choose the first column of the prediction table as the outcome of prediction"
   ]
  },
  {
   "cell_type": "code",
   "execution_count": 24,
   "metadata": {},
   "outputs": [],
   "source": [
    "df_test['targ'] = pred[0]"
   ]
  },
  {
   "cell_type": "markdown",
   "metadata": {},
   "source": [
    "check the size, same as the training rows."
   ]
  },
  {
   "cell_type": "code",
   "execution_count": 25,
   "metadata": {},
   "outputs": [
    {
     "data": {
      "text/plain": [
       "200000"
      ]
     },
     "execution_count": 25,
     "metadata": {},
     "output_type": "execute_result"
    }
   ],
   "source": [
    "len(df_test)"
   ]
  },
  {
   "cell_type": "code",
   "execution_count": 26,
   "metadata": {},
   "outputs": [
    {
     "data": {
      "text/html": [
       "<table>\n",
       "<thead>\n",
       "<tr><th>ID_code  </th><th style=\"text-align: right;\">  var_0</th><th style=\"text-align: right;\">   var_1</th><th style=\"text-align: right;\">  var_2</th><th style=\"text-align: right;\">  var_3</th><th style=\"text-align: right;\">  var_4</th><th style=\"text-align: right;\">   var_5</th><th style=\"text-align: right;\">  var_6</th><th style=\"text-align: right;\">  var_7</th><th style=\"text-align: right;\">  var_8</th><th style=\"text-align: right;\">  var_9</th><th style=\"text-align: right;\">  var_10</th><th style=\"text-align: right;\">  var_11</th><th style=\"text-align: right;\">  var_12</th><th style=\"text-align: right;\">  var_13</th><th style=\"text-align: right;\">  var_14</th><th style=\"text-align: right;\">  var_15</th><th style=\"text-align: right;\">  var_16</th><th style=\"text-align: right;\">  var_17</th><th style=\"text-align: right;\">  var_18</th><th style=\"text-align: right;\">  var_19</th><th style=\"text-align: right;\">  var_20</th><th style=\"text-align: right;\">  var_21</th><th style=\"text-align: right;\">  var_22</th><th style=\"text-align: right;\">  var_23</th><th style=\"text-align: right;\">  var_24</th><th style=\"text-align: right;\">  var_25</th><th style=\"text-align: right;\">  var_26</th><th style=\"text-align: right;\">  var_27</th><th style=\"text-align: right;\">  var_28</th><th style=\"text-align: right;\">  var_29</th><th style=\"text-align: right;\">  var_30</th><th style=\"text-align: right;\">  var_31</th><th style=\"text-align: right;\">  var_32</th><th style=\"text-align: right;\">  var_33</th><th style=\"text-align: right;\">  var_34</th><th style=\"text-align: right;\">  var_35</th><th style=\"text-align: right;\">  var_36</th><th style=\"text-align: right;\">  var_37</th><th style=\"text-align: right;\">  var_38</th><th style=\"text-align: right;\">  var_39</th><th style=\"text-align: right;\">  var_40</th><th style=\"text-align: right;\">  var_41</th><th style=\"text-align: right;\">  var_42</th><th style=\"text-align: right;\">  var_43</th><th style=\"text-align: right;\">  var_44</th><th style=\"text-align: right;\">  var_45</th><th style=\"text-align: right;\">  var_46</th><th style=\"text-align: right;\">  var_47</th><th style=\"text-align: right;\">  var_48</th><th style=\"text-align: right;\">  var_49</th><th style=\"text-align: right;\">  var_50</th><th style=\"text-align: right;\">  var_51</th><th style=\"text-align: right;\">  var_52</th><th style=\"text-align: right;\">  var_53</th><th style=\"text-align: right;\">  var_54</th><th style=\"text-align: right;\">  var_55</th><th style=\"text-align: right;\">  var_56</th><th style=\"text-align: right;\">  var_57</th><th style=\"text-align: right;\">  var_58</th><th style=\"text-align: right;\">  var_59</th><th style=\"text-align: right;\">  var_60</th><th style=\"text-align: right;\">  var_61</th><th style=\"text-align: right;\">  var_62</th><th style=\"text-align: right;\">  var_63</th><th style=\"text-align: right;\">  var_64</th><th style=\"text-align: right;\">  var_65</th><th style=\"text-align: right;\">  var_66</th><th style=\"text-align: right;\">  var_67</th><th style=\"text-align: right;\">  var_68</th><th style=\"text-align: right;\">  var_69</th><th style=\"text-align: right;\">  var_70</th><th style=\"text-align: right;\">  var_71</th><th style=\"text-align: right;\">  var_72</th><th style=\"text-align: right;\">  var_73</th><th style=\"text-align: right;\">  var_74</th><th style=\"text-align: right;\">  var_75</th><th style=\"text-align: right;\">  var_76</th><th style=\"text-align: right;\">  var_77</th><th style=\"text-align: right;\">  var_78</th><th style=\"text-align: right;\">  var_79</th><th style=\"text-align: right;\">  var_80</th><th style=\"text-align: right;\">  var_81</th><th style=\"text-align: right;\">  var_82</th><th style=\"text-align: right;\">  var_83</th><th style=\"text-align: right;\">  var_84</th><th style=\"text-align: right;\">  var_85</th><th style=\"text-align: right;\">  var_86</th><th style=\"text-align: right;\">  var_87</th><th style=\"text-align: right;\">  var_88</th><th style=\"text-align: right;\">  var_89</th><th style=\"text-align: right;\">  var_90</th><th style=\"text-align: right;\">  var_91</th><th style=\"text-align: right;\">  var_92</th><th style=\"text-align: right;\">  var_93</th><th style=\"text-align: right;\">  var_94</th><th style=\"text-align: right;\">  var_95</th><th style=\"text-align: right;\">  var_96</th><th style=\"text-align: right;\">  var_97</th><th style=\"text-align: right;\">  var_98</th><th style=\"text-align: right;\">  var_99</th><th style=\"text-align: right;\">  var_100</th><th style=\"text-align: right;\">  var_101</th><th style=\"text-align: right;\">  var_102</th><th style=\"text-align: right;\">  var_103</th><th style=\"text-align: right;\">  var_104</th><th style=\"text-align: right;\">  var_105</th><th style=\"text-align: right;\">  var_106</th><th style=\"text-align: right;\">  var_107</th><th style=\"text-align: right;\">  var_108</th><th style=\"text-align: right;\">  var_109</th><th style=\"text-align: right;\">  var_110</th><th style=\"text-align: right;\">  var_111</th><th style=\"text-align: right;\">  var_112</th><th style=\"text-align: right;\">  var_113</th><th style=\"text-align: right;\">  var_114</th><th style=\"text-align: right;\">  var_115</th><th style=\"text-align: right;\">  var_116</th><th style=\"text-align: right;\">  var_117</th><th style=\"text-align: right;\">  var_118</th><th style=\"text-align: right;\">  var_119</th><th style=\"text-align: right;\">  var_120</th><th style=\"text-align: right;\">  var_121</th><th style=\"text-align: right;\">  var_122</th><th style=\"text-align: right;\">  var_123</th><th style=\"text-align: right;\">  var_124</th><th style=\"text-align: right;\">  var_125</th><th style=\"text-align: right;\">  var_126</th><th style=\"text-align: right;\">  var_127</th><th style=\"text-align: right;\">  var_128</th><th style=\"text-align: right;\">  var_129</th><th style=\"text-align: right;\">  var_130</th><th style=\"text-align: right;\">  var_131</th><th style=\"text-align: right;\">  var_132</th><th style=\"text-align: right;\">  var_133</th><th style=\"text-align: right;\">  var_134</th><th style=\"text-align: right;\">  var_135</th><th style=\"text-align: right;\">  var_136</th><th style=\"text-align: right;\">  var_137</th><th style=\"text-align: right;\">  var_138</th><th style=\"text-align: right;\">  var_139</th><th style=\"text-align: right;\">  var_140</th><th style=\"text-align: right;\">  var_141</th><th style=\"text-align: right;\">  var_142</th><th style=\"text-align: right;\">  var_143</th><th style=\"text-align: right;\">  var_144</th><th style=\"text-align: right;\">  var_145</th><th style=\"text-align: right;\">  var_146</th><th style=\"text-align: right;\">  var_147</th><th style=\"text-align: right;\">  var_148</th><th style=\"text-align: right;\">  var_149</th><th style=\"text-align: right;\">  var_150</th><th style=\"text-align: right;\">  var_151</th><th style=\"text-align: right;\">  var_152</th><th style=\"text-align: right;\">  var_153</th><th style=\"text-align: right;\">  var_154</th><th style=\"text-align: right;\">  var_155</th><th style=\"text-align: right;\">  var_156</th><th style=\"text-align: right;\">  var_157</th><th style=\"text-align: right;\">  var_158</th><th style=\"text-align: right;\">  var_159</th><th style=\"text-align: right;\">  var_160</th><th style=\"text-align: right;\">  var_161</th><th style=\"text-align: right;\">  var_162</th><th style=\"text-align: right;\">  var_163</th><th style=\"text-align: right;\">  var_164</th><th style=\"text-align: right;\">  var_165</th><th style=\"text-align: right;\">  var_166</th><th style=\"text-align: right;\">  var_167</th><th style=\"text-align: right;\">  var_168</th><th style=\"text-align: right;\">  var_169</th><th style=\"text-align: right;\">  var_170</th><th style=\"text-align: right;\">  var_171</th><th style=\"text-align: right;\">  var_172</th><th style=\"text-align: right;\">  var_173</th><th style=\"text-align: right;\">  var_174</th><th style=\"text-align: right;\">  var_175</th><th style=\"text-align: right;\">  var_176</th><th style=\"text-align: right;\">  var_177</th><th style=\"text-align: right;\">  var_178</th><th style=\"text-align: right;\">  var_179</th><th style=\"text-align: right;\">  var_180</th><th style=\"text-align: right;\">  var_181</th><th style=\"text-align: right;\">  var_182</th><th style=\"text-align: right;\">  var_183</th><th style=\"text-align: right;\">  var_184</th><th style=\"text-align: right;\">  var_185</th><th style=\"text-align: right;\">  var_186</th><th style=\"text-align: right;\">  var_187</th><th style=\"text-align: right;\">  var_188</th><th style=\"text-align: right;\">  var_189</th><th style=\"text-align: right;\">  var_190</th><th style=\"text-align: right;\">  var_191</th><th style=\"text-align: right;\">  var_192</th><th style=\"text-align: right;\">  var_193</th><th style=\"text-align: right;\">  var_194</th><th style=\"text-align: right;\">  var_195</th><th style=\"text-align: right;\">  var_196</th><th style=\"text-align: right;\">  var_197</th><th style=\"text-align: right;\">  var_198</th><th style=\"text-align: right;\">  var_199</th><th style=\"text-align: right;\">  targ</th></tr>\n",
       "</thead>\n",
       "<tbody>\n",
       "<tr><td>test_0   </td><td style=\"text-align: right;\">11.0656</td><td style=\"text-align: right;\">  7.7798</td><td style=\"text-align: right;\">12.9536</td><td style=\"text-align: right;\"> 9.4292</td><td style=\"text-align: right;\">11.4327</td><td style=\"text-align: right;\"> -2.3805</td><td style=\"text-align: right;\"> 5.8493</td><td style=\"text-align: right;\">18.2675</td><td style=\"text-align: right;\"> 2.1337</td><td style=\"text-align: right;\"> 8.81  </td><td style=\"text-align: right;\"> -2.0248</td><td style=\"text-align: right;\"> -4.3554</td><td style=\"text-align: right;\"> 13.9696</td><td style=\"text-align: right;\">  0.3458</td><td style=\"text-align: right;\">  7.5408</td><td style=\"text-align: right;\"> 14.5001</td><td style=\"text-align: right;\">  7.7028</td><td style=\"text-align: right;\">-19.0919</td><td style=\"text-align: right;\"> 15.5806</td><td style=\"text-align: right;\"> 16.1763</td><td style=\"text-align: right;\">  3.7088</td><td style=\"text-align: right;\"> 18.8064</td><td style=\"text-align: right;\">  1.5899</td><td style=\"text-align: right;\">  3.0654</td><td style=\"text-align: right;\">  6.4509</td><td style=\"text-align: right;\"> 14.1192</td><td style=\"text-align: right;\"> -9.4902</td><td style=\"text-align: right;\"> -2.1917</td><td style=\"text-align: right;\">  5.7107</td><td style=\"text-align: right;\">  3.7864</td><td style=\"text-align: right;\"> -1.7981</td><td style=\"text-align: right;\">  9.2645</td><td style=\"text-align: right;\">  2.0657</td><td style=\"text-align: right;\"> 12.7753</td><td style=\"text-align: right;\"> 11.3334</td><td style=\"text-align: right;\">  8.1462</td><td style=\"text-align: right;\"> -0.061 </td><td style=\"text-align: right;\">  3.5331</td><td style=\"text-align: right;\">  9.7804</td><td style=\"text-align: right;\">  8.7625</td><td style=\"text-align: right;\">-15.6305</td><td style=\"text-align: right;\"> 18.8766</td><td style=\"text-align: right;\"> 11.2864</td><td style=\"text-align: right;\"> 11.8362</td><td style=\"text-align: right;\"> 13.368 </td><td style=\"text-align: right;\">-31.9891</td><td style=\"text-align: right;\"> 12.1776</td><td style=\"text-align: right;\">  8.7714</td><td style=\"text-align: right;\"> 17.2011</td><td style=\"text-align: right;\"> 16.8508</td><td style=\"text-align: right;\"> 13.0534</td><td style=\"text-align: right;\"> 14.4069</td><td style=\"text-align: right;\"> -4.8525</td><td style=\"text-align: right;\">  7.3213</td><td style=\"text-align: right;\"> -0.5259</td><td style=\"text-align: right;\"> 16.6365</td><td style=\"text-align: right;\"> 19.3036</td><td style=\"text-align: right;\">  6.4129</td><td style=\"text-align: right;\"> -5.3948</td><td style=\"text-align: right;\">  9.3269</td><td style=\"text-align: right;\"> 11.9314</td><td style=\"text-align: right;\"> -3.575 </td><td style=\"text-align: right;\"> -0.7706</td><td style=\"text-align: right;\">  0.8705</td><td style=\"text-align: right;\">  6.9282</td><td style=\"text-align: right;\">  2.8914</td><td style=\"text-align: right;\">  5.9744</td><td style=\"text-align: right;\"> 17.4851</td><td style=\"text-align: right;\">  5.0125</td><td style=\"text-align: right;\"> -1.423 </td><td style=\"text-align: right;\"> 33.3401</td><td style=\"text-align: right;\">  0.8018</td><td style=\"text-align: right;\"> -4.7906</td><td style=\"text-align: right;\"> 30.2708</td><td style=\"text-align: right;\"> 26.8339</td><td style=\"text-align: right;\"> 21.7205</td><td style=\"text-align: right;\">  7.3075</td><td style=\"text-align: right;\"> 14.081 </td><td style=\"text-align: right;\">  3.1192</td><td style=\"text-align: right;\"> 17.4265</td><td style=\"text-align: right;\">  9.4883</td><td style=\"text-align: right;\"> 16.906 </td><td style=\"text-align: right;\"> 14.5117</td><td style=\"text-align: right;\"> 10.0276</td><td style=\"text-align: right;\"> -0.9706</td><td style=\"text-align: right;\"> 20.4588</td><td style=\"text-align: right;\">  4.7945</td><td style=\"text-align: right;\"> 20.416 </td><td style=\"text-align: right;\"> 13.1633</td><td style=\"text-align: right;\">  7.9307</td><td style=\"text-align: right;\"> -7.6509</td><td style=\"text-align: right;\">  7.0834</td><td style=\"text-align: right;\"> 15.2324</td><td style=\"text-align: right;\"> 10.1416</td><td style=\"text-align: right;\">  5.9156</td><td style=\"text-align: right;\"> -0.5775</td><td style=\"text-align: right;\">  5.76  </td><td style=\"text-align: right;\"> 30.3238</td><td style=\"text-align: right;\">  2.1251</td><td style=\"text-align: right;\">  1.8585</td><td style=\"text-align: right;\">  -9.2198</td><td style=\"text-align: right;\">  17.3089</td><td style=\"text-align: right;\">  30.9548</td><td style=\"text-align: right;\">   1.4918</td><td style=\"text-align: right;\">  12.8721</td><td style=\"text-align: right;\">   3.4902</td><td style=\"text-align: right;\">   8.2856</td><td style=\"text-align: right;\">  11.9794</td><td style=\"text-align: right;\">  14.0176</td><td style=\"text-align: right;\">  15.0763</td><td style=\"text-align: right;\">   3.7662</td><td style=\"text-align: right;\">   6.0426</td><td style=\"text-align: right;\">   4.4243</td><td style=\"text-align: right;\">  14.1799</td><td style=\"text-align: right;\">   2.0921</td><td style=\"text-align: right;\">   1.5493</td><td style=\"text-align: right;\">   3.2206</td><td style=\"text-align: right;\">   0.0172</td><td style=\"text-align: right;\">  -6.6602</td><td style=\"text-align: right;\">   8.4785</td><td style=\"text-align: right;\">  42.0248</td><td style=\"text-align: right;\">  11.4164</td><td style=\"text-align: right;\">   0.4564</td><td style=\"text-align: right;\">   9.4006</td><td style=\"text-align: right;\">   0.9685</td><td style=\"text-align: right;\">  12.4929</td><td style=\"text-align: right;\">  14.124 </td><td style=\"text-align: right;\">   4.0388</td><td style=\"text-align: right;\">  -4.4442</td><td style=\"text-align: right;\">  16.6684</td><td style=\"text-align: right;\">  12.538 </td><td style=\"text-align: right;\">   0.9205</td><td style=\"text-align: right;\">  10.5998</td><td style=\"text-align: right;\">   7.5147</td><td style=\"text-align: right;\">  -4.1748</td><td style=\"text-align: right;\">  -0.4824</td><td style=\"text-align: right;\">  10.5267</td><td style=\"text-align: right;\">  17.7547</td><td style=\"text-align: right;\">  -6.5226</td><td style=\"text-align: right;\">  -2.5502</td><td style=\"text-align: right;\">  -5.1547</td><td style=\"text-align: right;\">  -2.1246</td><td style=\"text-align: right;\">  19.8319</td><td style=\"text-align: right;\">  13.0752</td><td style=\"text-align: right;\">   9.2275</td><td style=\"text-align: right;\">   3.0213</td><td style=\"text-align: right;\">  11.6793</td><td style=\"text-align: right;\"> -11.6827</td><td style=\"text-align: right;\">   4.1017</td><td style=\"text-align: right;\">   5.2954</td><td style=\"text-align: right;\">  18.7741</td><td style=\"text-align: right;\">   9.8892</td><td style=\"text-align: right;\">   7.5219</td><td style=\"text-align: right;\">  14.9745</td><td style=\"text-align: right;\">  18.988 </td><td style=\"text-align: right;\">   1.0842</td><td style=\"text-align: right;\">  11.9125</td><td style=\"text-align: right;\">  -4.5103</td><td style=\"text-align: right;\">  16.1361</td><td style=\"text-align: right;\">  11.0067</td><td style=\"text-align: right;\">   5.9232</td><td style=\"text-align: right;\">   5.4113</td><td style=\"text-align: right;\">   3.8302</td><td style=\"text-align: right;\">   5.738 </td><td style=\"text-align: right;\">  -8.6105</td><td style=\"text-align: right;\">  22.953 </td><td style=\"text-align: right;\">   2.5531</td><td style=\"text-align: right;\">  -0.2836</td><td style=\"text-align: right;\">   4.3416</td><td style=\"text-align: right;\">   5.1855</td><td style=\"text-align: right;\">   4.2603</td><td style=\"text-align: right;\">   1.6779</td><td style=\"text-align: right;\">  29.0849</td><td style=\"text-align: right;\">   8.4685</td><td style=\"text-align: right;\">  18.1317</td><td style=\"text-align: right;\">  12.2818</td><td style=\"text-align: right;\">  -0.6912</td><td style=\"text-align: right;\">  10.2226</td><td style=\"text-align: right;\">  -5.5579</td><td style=\"text-align: right;\">   2.2926</td><td style=\"text-align: right;\">  -4.5358</td><td style=\"text-align: right;\">  10.3903</td><td style=\"text-align: right;\"> -15.4937</td><td style=\"text-align: right;\">   3.9697</td><td style=\"text-align: right;\">  31.3521</td><td style=\"text-align: right;\">  -1.1651</td><td style=\"text-align: right;\">   9.2874</td><td style=\"text-align: right;\"> -23.5705</td><td style=\"text-align: right;\">  13.2643</td><td style=\"text-align: right;\">   1.6591</td><td style=\"text-align: right;\">  -2.1556</td><td style=\"text-align: right;\">  11.8495</td><td style=\"text-align: right;\">  -1.43  </td><td style=\"text-align: right;\">   2.4508</td><td style=\"text-align: right;\">  13.7112</td><td style=\"text-align: right;\">   2.4669</td><td style=\"text-align: right;\">   4.3654</td><td style=\"text-align: right;\">  10.72  </td><td style=\"text-align: right;\">  15.4722</td><td style=\"text-align: right;\">  -8.7197</td><td style=\"text-align: right;\">     0</td></tr>\n",
       "<tr><td>test_1   </td><td style=\"text-align: right;\"> 8.5304</td><td style=\"text-align: right;\">  1.2543</td><td style=\"text-align: right;\">11.3047</td><td style=\"text-align: right;\"> 5.1858</td><td style=\"text-align: right;\"> 9.1974</td><td style=\"text-align: right;\"> -4.0117</td><td style=\"text-align: right;\"> 6.0196</td><td style=\"text-align: right;\">18.6316</td><td style=\"text-align: right;\">-4.4131</td><td style=\"text-align: right;\"> 5.9739</td><td style=\"text-align: right;\"> -1.3809</td><td style=\"text-align: right;\"> -0.331 </td><td style=\"text-align: right;\"> 14.1129</td><td style=\"text-align: right;\">  2.5667</td><td style=\"text-align: right;\">  5.4988</td><td style=\"text-align: right;\"> 14.1853</td><td style=\"text-align: right;\">  7.0196</td><td style=\"text-align: right;\">  4.6564</td><td style=\"text-align: right;\"> 29.1609</td><td style=\"text-align: right;\">  0.091 </td><td style=\"text-align: right;\"> 12.1469</td><td style=\"text-align: right;\">  3.1389</td><td style=\"text-align: right;\">  5.2578</td><td style=\"text-align: right;\">  2.4228</td><td style=\"text-align: right;\"> 16.2064</td><td style=\"text-align: right;\"> 13.5023</td><td style=\"text-align: right;\"> -5.2341</td><td style=\"text-align: right;\"> -3.6648</td><td style=\"text-align: right;\">  5.708 </td><td style=\"text-align: right;\">  2.9965</td><td style=\"text-align: right;\">-10.472 </td><td style=\"text-align: right;\"> 11.4938</td><td style=\"text-align: right;\"> -0.966 </td><td style=\"text-align: right;\"> 15.3445</td><td style=\"text-align: right;\"> 10.6361</td><td style=\"text-align: right;\">  0.8966</td><td style=\"text-align: right;\">  6.7428</td><td style=\"text-align: right;\">  2.3421</td><td style=\"text-align: right;\"> 12.8678</td><td style=\"text-align: right;\"> -1.5536</td><td style=\"text-align: right;\"> 10.0309</td><td style=\"text-align: right;\">  3.1337</td><td style=\"text-align: right;\"> 10.5742</td><td style=\"text-align: right;\"> 11.7664</td><td style=\"text-align: right;\">  2.1782</td><td style=\"text-align: right;\">-41.1924</td><td style=\"text-align: right;\"> 13.5322</td><td style=\"text-align: right;\">-17.3834</td><td style=\"text-align: right;\">  6.3806</td><td style=\"text-align: right;\"> 12.5589</td><td style=\"text-align: right;\"> 11.6887</td><td style=\"text-align: right;\"> 25.393 </td><td style=\"text-align: right;\">  1.5776</td><td style=\"text-align: right;\">  6.8481</td><td style=\"text-align: right;\">  8.7348</td><td style=\"text-align: right;\"> 16.4239</td><td style=\"text-align: right;\"> 21.7056</td><td style=\"text-align: right;\">  6.9345</td><td style=\"text-align: right;\">  1.6678</td><td style=\"text-align: right;\">  9.5249</td><td style=\"text-align: right;\">  5.3383</td><td style=\"text-align: right;\">-18.7083</td><td style=\"text-align: right;\">  1.3382</td><td style=\"text-align: right;\"> -1.7401</td><td style=\"text-align: right;\">  5.8398</td><td style=\"text-align: right;\">  3.1051</td><td style=\"text-align: right;\">  4.4307</td><td style=\"text-align: right;\"> 16.0005</td><td style=\"text-align: right;\">  5.0306</td><td style=\"text-align: right;\"> -7.3365</td><td style=\"text-align: right;\"> 12.2806</td><td style=\"text-align: right;\">  0.6992</td><td style=\"text-align: right;\"> -0.7772</td><td style=\"text-align: right;\"> 21.5123</td><td style=\"text-align: right;\">  6.7803</td><td style=\"text-align: right;\"> 18.1896</td><td style=\"text-align: right;\">  6.9388</td><td style=\"text-align: right;\"> 22.1336</td><td style=\"text-align: right;\">  6.3755</td><td style=\"text-align: right;\"> 13.1525</td><td style=\"text-align: right;\">  1.9772</td><td style=\"text-align: right;\"> 14.0406</td><td style=\"text-align: right;\">  6.6904</td><td style=\"text-align: right;\">  9.9732</td><td style=\"text-align: right;\">-11.5679</td><td style=\"text-align: right;\"> 20.4525</td><td style=\"text-align: right;\">  9.4951</td><td style=\"text-align: right;\">  9.6343</td><td style=\"text-align: right;\">  8.1252</td><td style=\"text-align: right;\">  2.6059</td><td style=\"text-align: right;\">-17.4201</td><td style=\"text-align: right;\">  7.1848</td><td style=\"text-align: right;\"> 15.3484</td><td style=\"text-align: right;\"> 10.6522</td><td style=\"text-align: right;\">  5.9897</td><td style=\"text-align: right;\">  0.3392</td><td style=\"text-align: right;\"> 10.3516</td><td style=\"text-align: right;\"> 29.8204</td><td style=\"text-align: right;\">  1.9998</td><td style=\"text-align: right;\"> -1.4166</td><td style=\"text-align: right;\">  -1.7257</td><td style=\"text-align: right;\">  15.4712</td><td style=\"text-align: right;\">  35.602 </td><td style=\"text-align: right;\">   1.657 </td><td style=\"text-align: right;\">  13.0783</td><td style=\"text-align: right;\">   2.7752</td><td style=\"text-align: right;\">   6.4986</td><td style=\"text-align: right;\">   4.6835</td><td style=\"text-align: right;\">  13.7963</td><td style=\"text-align: right;\">  17.7261</td><td style=\"text-align: right;\">   1.7375</td><td style=\"text-align: right;\">   5.5689</td><td style=\"text-align: right;\">   3.6609</td><td style=\"text-align: right;\">   8.9725</td><td style=\"text-align: right;\">   4.1159</td><td style=\"text-align: right;\">   1.0693</td><td style=\"text-align: right;\">   2.0234</td><td style=\"text-align: right;\">   8.276 </td><td style=\"text-align: right;\">  -6.861 </td><td style=\"text-align: right;\">   0.278 </td><td style=\"text-align: right;\">  17.0488</td><td style=\"text-align: right;\">  11.6704</td><td style=\"text-align: right;\">   3.1215</td><td style=\"text-align: right;\">   8.5093</td><td style=\"text-align: right;\">   5.6367</td><td style=\"text-align: right;\">  12.0099</td><td style=\"text-align: right;\">  14.2372</td><td style=\"text-align: right;\">  -6.16  </td><td style=\"text-align: right;\">  -5.669 </td><td style=\"text-align: right;\">   8.9094</td><td style=\"text-align: right;\">  11.0605</td><td style=\"text-align: right;\">   0.4583</td><td style=\"text-align: right;\">   9.7974</td><td style=\"text-align: right;\">   7.0891</td><td style=\"text-align: right;\">   2.6849</td><td style=\"text-align: right;\">   8.497 </td><td style=\"text-align: right;\">  15.7774</td><td style=\"text-align: right;\">   4.8775</td><td style=\"text-align: right;\">   3.6129</td><td style=\"text-align: right;\">   6.753 </td><td style=\"text-align: right;\">  11.1003</td><td style=\"text-align: right;\">  15.3593</td><td style=\"text-align: right;\">   2.2105</td><td style=\"text-align: right;\">   8.228 </td><td style=\"text-align: right;\">   9.0717</td><td style=\"text-align: right;\">  -5.0947</td><td style=\"text-align: right;\">   8.7644</td><td style=\"text-align: right;\">  -2.2873</td><td style=\"text-align: right;\">   4.124 </td><td style=\"text-align: right;\"> -13.3006</td><td style=\"text-align: right;\">  18.7454</td><td style=\"text-align: right;\">   9.3783</td><td style=\"text-align: right;\">   1.5284</td><td style=\"text-align: right;\">  16.0407</td><td style=\"text-align: right;\">   7.7732</td><td style=\"text-align: right;\">   1.4316</td><td style=\"text-align: right;\">  14.8679</td><td style=\"text-align: right;\">   3.3619</td><td style=\"text-align: right;\">  11.5799</td><td style=\"text-align: right;\">  14.2058</td><td style=\"text-align: right;\">  30.9641</td><td style=\"text-align: right;\">   5.6723</td><td style=\"text-align: right;\">   3.6873</td><td style=\"text-align: right;\">  13.0429</td><td style=\"text-align: right;\"> -10.6572</td><td style=\"text-align: right;\">  15.5134</td><td style=\"text-align: right;\">   3.2185</td><td style=\"text-align: right;\">   9.0535</td><td style=\"text-align: right;\">   7.0535</td><td style=\"text-align: right;\">   5.3924</td><td style=\"text-align: right;\">  -0.772 </td><td style=\"text-align: right;\">  -8.1783</td><td style=\"text-align: right;\">  29.9227</td><td style=\"text-align: right;\">  -5.6274</td><td style=\"text-align: right;\">  10.5018</td><td style=\"text-align: right;\">   9.6083</td><td style=\"text-align: right;\">  -0.4935</td><td style=\"text-align: right;\">   8.1696</td><td style=\"text-align: right;\">  -4.3605</td><td style=\"text-align: right;\">   5.211 </td><td style=\"text-align: right;\">   0.4087</td><td style=\"text-align: right;\">  12.003 </td><td style=\"text-align: right;\"> -10.3812</td><td style=\"text-align: right;\">   5.8496</td><td style=\"text-align: right;\">  25.1958</td><td style=\"text-align: right;\">  -8.8468</td><td style=\"text-align: right;\">  11.8263</td><td style=\"text-align: right;\">  -8.7112</td><td style=\"text-align: right;\">  15.9072</td><td style=\"text-align: right;\">   0.9812</td><td style=\"text-align: right;\">  10.6165</td><td style=\"text-align: right;\">   8.8349</td><td style=\"text-align: right;\">   0.9403</td><td style=\"text-align: right;\">  10.1282</td><td style=\"text-align: right;\">  15.5765</td><td style=\"text-align: right;\">   0.4773</td><td style=\"text-align: right;\">  -1.4852</td><td style=\"text-align: right;\">   9.8714</td><td style=\"text-align: right;\">  19.1293</td><td style=\"text-align: right;\"> -20.976 </td><td style=\"text-align: right;\">     0</td></tr>\n",
       "<tr><td>test_2   </td><td style=\"text-align: right;\"> 5.4827</td><td style=\"text-align: right;\">-10.3581</td><td style=\"text-align: right;\">10.1407</td><td style=\"text-align: right;\"> 7.0479</td><td style=\"text-align: right;\">10.2628</td><td style=\"text-align: right;\">  9.8052</td><td style=\"text-align: right;\"> 4.895 </td><td style=\"text-align: right;\">20.2537</td><td style=\"text-align: right;\"> 1.5233</td><td style=\"text-align: right;\"> 8.3442</td><td style=\"text-align: right;\"> -4.7057</td><td style=\"text-align: right;\"> -3.0422</td><td style=\"text-align: right;\"> 13.6751</td><td style=\"text-align: right;\">  3.8183</td><td style=\"text-align: right;\"> 10.8535</td><td style=\"text-align: right;\"> 14.2126</td><td style=\"text-align: right;\">  9.8837</td><td style=\"text-align: right;\">  2.6541</td><td style=\"text-align: right;\"> 21.2181</td><td style=\"text-align: right;\"> 20.8163</td><td style=\"text-align: right;\"> 12.4666</td><td style=\"text-align: right;\"> 12.3696</td><td style=\"text-align: right;\">  4.7473</td><td style=\"text-align: right;\">  2.7936</td><td style=\"text-align: right;\">  5.2189</td><td style=\"text-align: right;\"> 13.567 </td><td style=\"text-align: right;\">-15.4246</td><td style=\"text-align: right;\"> -0.1655</td><td style=\"text-align: right;\">  7.2633</td><td style=\"text-align: right;\">  3.431 </td><td style=\"text-align: right;\"> -9.1508</td><td style=\"text-align: right;\">  9.732 </td><td style=\"text-align: right;\">  3.1062</td><td style=\"text-align: right;\"> 22.3076</td><td style=\"text-align: right;\"> 11.9593</td><td style=\"text-align: right;\">  9.9255</td><td style=\"text-align: right;\">  4.0702</td><td style=\"text-align: right;\">  4.9934</td><td style=\"text-align: right;\">  8.0667</td><td style=\"text-align: right;\">  0.8804</td><td style=\"text-align: right;\">-19.0841</td><td style=\"text-align: right;\">  5.2272</td><td style=\"text-align: right;\">  9.5977</td><td style=\"text-align: right;\"> 12.1801</td><td style=\"text-align: right;\">  8.3565</td><td style=\"text-align: right;\"> 15.117 </td><td style=\"text-align: right;\"> 10.0921</td><td style=\"text-align: right;\">-20.8504</td><td style=\"text-align: right;\">  8.6758</td><td style=\"text-align: right;\">  8.1292</td><td style=\"text-align: right;\"> 11.8932</td><td style=\"text-align: right;\"> 10.6869</td><td style=\"text-align: right;\"> -0.6434</td><td style=\"text-align: right;\">  5.651 </td><td style=\"text-align: right;\">  9.3742</td><td style=\"text-align: right;\"> 25.8831</td><td style=\"text-align: right;\"> 19.8701</td><td style=\"text-align: right;\">  5.4834</td><td style=\"text-align: right;\"> -4.0304</td><td style=\"text-align: right;\">  8.516 </td><td style=\"text-align: right;\">  8.9776</td><td style=\"text-align: right;\"> -5.6619</td><td style=\"text-align: right;\">  2.8117</td><td style=\"text-align: right;\">  2.5996</td><td style=\"text-align: right;\">  9.0986</td><td style=\"text-align: right;\">  7.1167</td><td style=\"text-align: right;\">  4.9466</td><td style=\"text-align: right;\"> 13.8268</td><td style=\"text-align: right;\">  5.0093</td><td style=\"text-align: right;\">  4.7782</td><td style=\"text-align: right;\"> 19.2081</td><td style=\"text-align: right;\">  0.434 </td><td style=\"text-align: right;\">  0.8459</td><td style=\"text-align: right;\"> 34.8598</td><td style=\"text-align: right;\"> 20.7048</td><td style=\"text-align: right;\"> 16.4953</td><td style=\"text-align: right;\"> -9.7077</td><td style=\"text-align: right;\"> 19.6357</td><td style=\"text-align: right;\">  7.6587</td><td style=\"text-align: right;\"> 15.5744</td><td style=\"text-align: right;\"> 16.1691</td><td style=\"text-align: right;\"> 14.3299</td><td style=\"text-align: right;\">  1.336 </td><td style=\"text-align: right;\"> -0.4412</td><td style=\"text-align: right;\"> -0.283 </td><td style=\"text-align: right;\"> 14.9105</td><td style=\"text-align: right;\"> -3.9016</td><td style=\"text-align: right;\"> 14.6881</td><td style=\"text-align: right;\">  7.322 </td><td style=\"text-align: right;\"> -5.1443</td><td style=\"text-align: right;\">-34.3488</td><td style=\"text-align: right;\">  7.0194</td><td style=\"text-align: right;\"> 12.4785</td><td style=\"text-align: right;\">  9.6665</td><td style=\"text-align: right;\"> 13.2595</td><td style=\"text-align: right;\"> -0.5624</td><td style=\"text-align: right;\">  5.6347</td><td style=\"text-align: right;\">  9.5853</td><td style=\"text-align: right;\">  1.4515</td><td style=\"text-align: right;\">  1.7818</td><td style=\"text-align: right;\">  -3.5065</td><td style=\"text-align: right;\">  14.1663</td><td style=\"text-align: right;\">  28.0256</td><td style=\"text-align: right;\">   1.3935</td><td style=\"text-align: right;\">  10.8257</td><td style=\"text-align: right;\">   4.2954</td><td style=\"text-align: right;\">   8.2125</td><td style=\"text-align: right;\">  26.2595</td><td style=\"text-align: right;\">  14.0232</td><td style=\"text-align: right;\">  19.4604</td><td style=\"text-align: right;\">   8.6896</td><td style=\"text-align: right;\">   8.1036</td><td style=\"text-align: right;\">   1.2057</td><td style=\"text-align: right;\">   8.9156</td><td style=\"text-align: right;\">   0.9777</td><td style=\"text-align: right;\">   2.3797</td><td style=\"text-align: right;\">   3.1638</td><td style=\"text-align: right;\">  37.8664</td><td style=\"text-align: right;\">  -3.3864</td><td style=\"text-align: right;\">  -2.409 </td><td style=\"text-align: right;\">  29.7978</td><td style=\"text-align: right;\">  12.2056</td><td style=\"text-align: right;\">   4.7688</td><td style=\"text-align: right;\">   7.9344</td><td style=\"text-align: right;\">   2.2102</td><td style=\"text-align: right;\">  12.6482</td><td style=\"text-align: right;\">  14.3377</td><td style=\"text-align: right;\">   2.3268</td><td style=\"text-align: right;\">   2.393 </td><td style=\"text-align: right;\">  13.7005</td><td style=\"text-align: right;\">  12.7047</td><td style=\"text-align: right;\">   0.7507</td><td style=\"text-align: right;\">   7.7726</td><td style=\"text-align: right;\">   6.595 </td><td style=\"text-align: right;\">   0.299 </td><td style=\"text-align: right;\">  12.9154</td><td style=\"text-align: right;\">  29.9162</td><td style=\"text-align: right;\">   6.8031</td><td style=\"text-align: right;\">  10.5031</td><td style=\"text-align: right;\">  -6.0452</td><td style=\"text-align: right;\">  -4.5298</td><td style=\"text-align: right;\">   1.3903</td><td style=\"text-align: right;\">   5.0469</td><td style=\"text-align: right;\">  12.974 </td><td style=\"text-align: right;\">   9.3878</td><td style=\"text-align: right;\">  -0.1113</td><td style=\"text-align: right;\">  11.6749</td><td style=\"text-align: right;\">  16.8588</td><td style=\"text-align: right;\">   4.26  </td><td style=\"text-align: right;\">  14.6476</td><td style=\"text-align: right;\">  14.4431</td><td style=\"text-align: right;\">  14.1649</td><td style=\"text-align: right;\">   9.4875</td><td style=\"text-align: right;\">  16.5769</td><td style=\"text-align: right;\">   7.2638</td><td style=\"text-align: right;\">  -2.2008</td><td style=\"text-align: right;\">  12.5953</td><td style=\"text-align: right;\">   7.4487</td><td style=\"text-align: right;\">  23.1407</td><td style=\"text-align: right;\">  10.4597</td><td style=\"text-align: right;\">  39.3654</td><td style=\"text-align: right;\">   5.5228</td><td style=\"text-align: right;\">   3.3159</td><td style=\"text-align: right;\">   4.3324</td><td style=\"text-align: right;\">  -0.5382</td><td style=\"text-align: right;\">  13.3009</td><td style=\"text-align: right;\">   3.1243</td><td style=\"text-align: right;\">  -4.1731</td><td style=\"text-align: right;\">   1.233 </td><td style=\"text-align: right;\">   6.1513</td><td style=\"text-align: right;\">  -0.0391</td><td style=\"text-align: right;\">   1.495 </td><td style=\"text-align: right;\">  16.8874</td><td style=\"text-align: right;\">  -2.9787</td><td style=\"text-align: right;\">  27.4035</td><td style=\"text-align: right;\">  15.8819</td><td style=\"text-align: right;\"> -10.966 </td><td style=\"text-align: right;\">  15.6415</td><td style=\"text-align: right;\">  -9.4056</td><td style=\"text-align: right;\">   4.4611</td><td style=\"text-align: right;\">  -3.0835</td><td style=\"text-align: right;\">   8.5549</td><td style=\"text-align: right;\">  -2.8517</td><td style=\"text-align: right;\">  13.477 </td><td style=\"text-align: right;\">  24.4721</td><td style=\"text-align: right;\">  -3.4824</td><td style=\"text-align: right;\">   4.9178</td><td style=\"text-align: right;\">  -2.072 </td><td style=\"text-align: right;\">  11.539 </td><td style=\"text-align: right;\">   1.1821</td><td style=\"text-align: right;\">  -0.7484</td><td style=\"text-align: right;\">  10.9935</td><td style=\"text-align: right;\">   1.9803</td><td style=\"text-align: right;\">   2.18  </td><td style=\"text-align: right;\">  12.9813</td><td style=\"text-align: right;\">   2.1281</td><td style=\"text-align: right;\">  -7.1086</td><td style=\"text-align: right;\">   7.0618</td><td style=\"text-align: right;\">  19.8956</td><td style=\"text-align: right;\"> -23.1794</td><td style=\"text-align: right;\">     0</td></tr>\n",
       "<tr><td>test_3   </td><td style=\"text-align: right;\"> 8.5374</td><td style=\"text-align: right;\"> -1.3222</td><td style=\"text-align: right;\">12.022 </td><td style=\"text-align: right;\"> 6.5749</td><td style=\"text-align: right;\"> 8.8458</td><td style=\"text-align: right;\">  3.1744</td><td style=\"text-align: right;\"> 4.9397</td><td style=\"text-align: right;\">20.566 </td><td style=\"text-align: right;\"> 3.3755</td><td style=\"text-align: right;\"> 7.4578</td><td style=\"text-align: right;\">  0.0095</td><td style=\"text-align: right;\"> -5.0659</td><td style=\"text-align: right;\"> 14.0526</td><td style=\"text-align: right;\"> 13.501 </td><td style=\"text-align: right;\">  8.766 </td><td style=\"text-align: right;\"> 14.7352</td><td style=\"text-align: right;\"> 10.0383</td><td style=\"text-align: right;\">-15.3508</td><td style=\"text-align: right;\">  2.1273</td><td style=\"text-align: right;\"> 21.4797</td><td style=\"text-align: right;\"> 14.5372</td><td style=\"text-align: right;\"> 12.5527</td><td style=\"text-align: right;\">  2.9707</td><td style=\"text-align: right;\">  4.2398</td><td style=\"text-align: right;\"> 13.7796</td><td style=\"text-align: right;\"> 14.1408</td><td style=\"text-align: right;\">  1.0061</td><td style=\"text-align: right;\"> -1.3479</td><td style=\"text-align: right;\">  5.257 </td><td style=\"text-align: right;\">  6.5911</td><td style=\"text-align: right;\">  6.2161</td><td style=\"text-align: right;\">  9.554 </td><td style=\"text-align: right;\">  2.3628</td><td style=\"text-align: right;\"> 10.2124</td><td style=\"text-align: right;\"> 10.8047</td><td style=\"text-align: right;\"> -2.5588</td><td style=\"text-align: right;\">  6.072 </td><td style=\"text-align: right;\">  3.2613</td><td style=\"text-align: right;\"> 16.5632</td><td style=\"text-align: right;\">  8.8336</td><td style=\"text-align: right;\"> -4.8327</td><td style=\"text-align: right;\">  0.9554</td><td style=\"text-align: right;\"> 12.3754</td><td style=\"text-align: right;\"> 11.4241</td><td style=\"text-align: right;\">  6.6917</td><td style=\"text-align: right;\">-12.9761</td><td style=\"text-align: right;\"> 13.7343</td><td style=\"text-align: right;\">  5.015 </td><td style=\"text-align: right;\"> 31.3923</td><td style=\"text-align: right;\">  5.8555</td><td style=\"text-align: right;\"> 12.6082</td><td style=\"text-align: right;\">  1.4182</td><td style=\"text-align: right;\"> -4.1185</td><td style=\"text-align: right;\">  6.2536</td><td style=\"text-align: right;\">  1.4257</td><td style=\"text-align: right;\"> 13.5426</td><td style=\"text-align: right;\"> 15.409 </td><td style=\"text-align: right;\">  6.8761</td><td style=\"text-align: right;\">  1.7476</td><td style=\"text-align: right;\"> 10.0413</td><td style=\"text-align: right;\"> 15.2857</td><td style=\"text-align: right;\"> -4.1378</td><td style=\"text-align: right;\">  0.7928</td><td style=\"text-align: right;\">  2.5301</td><td style=\"text-align: right;\">  8.1458</td><td style=\"text-align: right;\">  2.5738</td><td style=\"text-align: right;\">  5.9876</td><td style=\"text-align: right;\"> 13.0758</td><td style=\"text-align: right;\">  5.0087</td><td style=\"text-align: right;\"> -9.7824</td><td style=\"text-align: right;\">  8.9289</td><td style=\"text-align: right;\">  0.4205</td><td style=\"text-align: right;\"> -2.5463</td><td style=\"text-align: right;\">  2.9428</td><td style=\"text-align: right;\"> 10.7087</td><td style=\"text-align: right;\"> 12.2008</td><td style=\"text-align: right;\"> 12.5465</td><td style=\"text-align: right;\"> 19.4201</td><td style=\"text-align: right;\">  5.506 </td><td style=\"text-align: right;\"> 14.1586</td><td style=\"text-align: right;\"> 17.5941</td><td style=\"text-align: right;\"> 15.4375</td><td style=\"text-align: right;\">-13.2668</td><td style=\"text-align: right;\"> 14.0885</td><td style=\"text-align: right;\">  4.0357</td><td style=\"text-align: right;\"> 22.3119</td><td style=\"text-align: right;\">  1.8571</td><td style=\"text-align: right;\"> 16.521 </td><td style=\"text-align: right;\"> 10.8149</td><td style=\"text-align: right;\">  0.3256</td><td style=\"text-align: right;\">-21.4797</td><td style=\"text-align: right;\">  6.9174</td><td style=\"text-align: right;\">  9.9483</td><td style=\"text-align: right;\"> 10.3696</td><td style=\"text-align: right;\"> 11.0362</td><td style=\"text-align: right;\">  0.1892</td><td style=\"text-align: right;\"> 19.4321</td><td style=\"text-align: right;\"> 40.3383</td><td style=\"text-align: right;\">  1.4105</td><td style=\"text-align: right;\">  2.6165</td><td style=\"text-align: right;\">   1.7021</td><td style=\"text-align: right;\">   2.5363</td><td style=\"text-align: right;\">   3.8763</td><td style=\"text-align: right;\">   1.5173</td><td style=\"text-align: right;\">  13.4083</td><td style=\"text-align: right;\">   2.8965</td><td style=\"text-align: right;\">   7.0919</td><td style=\"text-align: right;\">  21.6304</td><td style=\"text-align: right;\">  14.2   </td><td style=\"text-align: right;\">  23.0368</td><td style=\"text-align: right;\">  10.3445</td><td style=\"text-align: right;\">   6.0369</td><td style=\"text-align: right;\">   5.0227</td><td style=\"text-align: right;\">  12.66  </td><td style=\"text-align: right;\">   2.1278</td><td style=\"text-align: right;\">   4.0592</td><td style=\"text-align: right;\">   1.9084</td><td style=\"text-align: right;\">  11.6095</td><td style=\"text-align: right;\">   7.5397</td><td style=\"text-align: right;\">   8.1972</td><td style=\"text-align: right;\">  20.0844</td><td style=\"text-align: right;\">  10.444 </td><td style=\"text-align: right;\">   8.4676</td><td style=\"text-align: right;\">   5.035 </td><td style=\"text-align: right;\">   4.3103</td><td style=\"text-align: right;\">  12.0067</td><td style=\"text-align: right;\">  13.7149</td><td style=\"text-align: right;\">   1.6143</td><td style=\"text-align: right;\">  -1.2328</td><td style=\"text-align: right;\">  22.7248</td><td style=\"text-align: right;\">  12.6609</td><td style=\"text-align: right;\">   0.8039</td><td style=\"text-align: right;\">   4.7666</td><td style=\"text-align: right;\">   6.7888</td><td style=\"text-align: right;\">   5.8537</td><td style=\"text-align: right;\">  -4.5434</td><td style=\"text-align: right;\">  19.0111</td><td style=\"text-align: right;\">  12.6907</td><td style=\"text-align: right;\">  -2.9322</td><td style=\"text-align: right;\">  12.7898</td><td style=\"text-align: right;\">  12.0466</td><td style=\"text-align: right;\">  13.1646</td><td style=\"text-align: right;\">   7.7063</td><td style=\"text-align: right;\">  11.6549</td><td style=\"text-align: right;\">   9.8274</td><td style=\"text-align: right;\">   1.8061</td><td style=\"text-align: right;\">   8.6963</td><td style=\"text-align: right;\">   1.8057</td><td style=\"text-align: right;\">   3.8265</td><td style=\"text-align: right;\"> -16.3027</td><td style=\"text-align: right;\">  13.7106</td><td style=\"text-align: right;\">   9.7908</td><td style=\"text-align: right;\">   5.8497</td><td style=\"text-align: right;\">  15.4378</td><td style=\"text-align: right;\">   5.0372</td><td style=\"text-align: right;\">  -8.7673</td><td style=\"text-align: right;\">  13.6035</td><td style=\"text-align: right;\">  -3.5002</td><td style=\"text-align: right;\">  13.9785</td><td style=\"text-align: right;\">  14.6118</td><td style=\"text-align: right;\">  19.7251</td><td style=\"text-align: right;\">   5.3882</td><td style=\"text-align: right;\">   3.6775</td><td style=\"text-align: right;\">   7.4753</td><td style=\"text-align: right;\"> -11.078 </td><td style=\"text-align: right;\">  24.8712</td><td style=\"text-align: right;\">   2.6415</td><td style=\"text-align: right;\">   2.2673</td><td style=\"text-align: right;\">   7.2788</td><td style=\"text-align: right;\">   5.6406</td><td style=\"text-align: right;\">   7.2048</td><td style=\"text-align: right;\">   3.4504</td><td style=\"text-align: right;\">   2.413 </td><td style=\"text-align: right;\">  11.1674</td><td style=\"text-align: right;\">  14.5499</td><td style=\"text-align: right;\">  10.6151</td><td style=\"text-align: right;\">  -5.7922</td><td style=\"text-align: right;\">  13.9407</td><td style=\"text-align: right;\">   7.1078</td><td style=\"text-align: right;\">   1.1019</td><td style=\"text-align: right;\">   9.459 </td><td style=\"text-align: right;\">   9.8243</td><td style=\"text-align: right;\">   5.9917</td><td style=\"text-align: right;\">   5.1634</td><td style=\"text-align: right;\">   8.1154</td><td style=\"text-align: right;\">   3.6638</td><td style=\"text-align: right;\">   3.3102</td><td style=\"text-align: right;\"> -19.7819</td><td style=\"text-align: right;\">  13.4499</td><td style=\"text-align: right;\">   1.3104</td><td style=\"text-align: right;\">   9.5702</td><td style=\"text-align: right;\">   9.0766</td><td style=\"text-align: right;\">   1.658 </td><td style=\"text-align: right;\">   3.5813</td><td style=\"text-align: right;\">  15.1874</td><td style=\"text-align: right;\">   3.1656</td><td style=\"text-align: right;\">   3.9567</td><td style=\"text-align: right;\">   9.2295</td><td style=\"text-align: right;\">  13.0168</td><td style=\"text-align: right;\">  -4.2108</td><td style=\"text-align: right;\">     0</td></tr>\n",
       "<tr><td>test_4   </td><td style=\"text-align: right;\">11.7058</td><td style=\"text-align: right;\"> -0.1327</td><td style=\"text-align: right;\">14.1295</td><td style=\"text-align: right;\"> 7.7506</td><td style=\"text-align: right;\"> 9.1035</td><td style=\"text-align: right;\"> -8.5848</td><td style=\"text-align: right;\"> 6.8595</td><td style=\"text-align: right;\">10.6048</td><td style=\"text-align: right;\"> 2.989 </td><td style=\"text-align: right;\"> 7.1437</td><td style=\"text-align: right;\">  5.1025</td><td style=\"text-align: right;\"> -3.2827</td><td style=\"text-align: right;\"> 14.1013</td><td style=\"text-align: right;\">  8.9672</td><td style=\"text-align: right;\">  4.7276</td><td style=\"text-align: right;\"> 14.5811</td><td style=\"text-align: right;\"> 11.8615</td><td style=\"text-align: right;\">  3.148 </td><td style=\"text-align: right;\"> 18.0126</td><td style=\"text-align: right;\"> 13.8006</td><td style=\"text-align: right;\">  1.6026</td><td style=\"text-align: right;\"> 16.3059</td><td style=\"text-align: right;\">  6.7954</td><td style=\"text-align: right;\">  3.6015</td><td style=\"text-align: right;\"> 13.6569</td><td style=\"text-align: right;\"> 13.8807</td><td style=\"text-align: right;\">  8.6228</td><td style=\"text-align: right;\"> -2.2654</td><td style=\"text-align: right;\">  5.2255</td><td style=\"text-align: right;\">  7.0165</td><td style=\"text-align: right;\">-15.6961</td><td style=\"text-align: right;\"> 10.6239</td><td style=\"text-align: right;\"> -4.7674</td><td style=\"text-align: right;\"> 17.5447</td><td style=\"text-align: right;\"> 11.8668</td><td style=\"text-align: right;\">  3.0154</td><td style=\"text-align: right;\">  4.2546</td><td style=\"text-align: right;\">  6.7601</td><td style=\"text-align: right;\">  5.9613</td><td style=\"text-align: right;\">  0.3695</td><td style=\"text-align: right;\">-14.4364</td><td style=\"text-align: right;\">  5.1392</td><td style=\"text-align: right;\"> 11.6336</td><td style=\"text-align: right;\"> 12.0338</td><td style=\"text-align: right;\"> 18.967 </td><td style=\"text-align: right;\"> 12.0144</td><td style=\"text-align: right;\"> 16.2096</td><td style=\"text-align: right;\"> -2.1966</td><td style=\"text-align: right;\">  1.1174</td><td style=\"text-align: right;\"> 13.4532</td><td style=\"text-align: right;\"> 12.7925</td><td style=\"text-align: right;\">  4.3775</td><td style=\"text-align: right;\"> -0.1543</td><td style=\"text-align: right;\">  5.6794</td><td style=\"text-align: right;\">  0.821 </td><td style=\"text-align: right;\"> 19.1358</td><td style=\"text-align: right;\"> 12.6589</td><td style=\"text-align: right;\">  6.4394</td><td style=\"text-align: right;\">  4.3425</td><td style=\"text-align: right;\">  8.7003</td><td style=\"text-align: right;\"> 12.0586</td><td style=\"text-align: right;\">-10.4753</td><td style=\"text-align: right;\"> -0.0337</td><td style=\"text-align: right;\">  5.6603</td><td style=\"text-align: right;\">  6.2529</td><td style=\"text-align: right;\">  1.5238</td><td style=\"text-align: right;\">  4.5356</td><td style=\"text-align: right;\"> 20.1344</td><td style=\"text-align: right;\">  5.0267</td><td style=\"text-align: right;\"> -1.8628</td><td style=\"text-align: right;\"> 39.8219</td><td style=\"text-align: right;\">  1.0498</td><td style=\"text-align: right;\"> -0.9113</td><td style=\"text-align: right;\"> 38.5076</td><td style=\"text-align: right;\">  2.2201</td><td style=\"text-align: right;\">  9.5235</td><td style=\"text-align: right;\">  8.1522</td><td style=\"text-align: right;\"> 14.9224</td><td style=\"text-align: right;\">  6.1573</td><td style=\"text-align: right;\"> 15.5221</td><td style=\"text-align: right;\"> 11.8133</td><td style=\"text-align: right;\"> 16.7661</td><td style=\"text-align: right;\">-14.6524</td><td style=\"text-align: right;\"> -0.4469</td><td style=\"text-align: right;\">  0.0306</td><td style=\"text-align: right;\"> 22.5276</td><td style=\"text-align: right;\">  6.9774</td><td style=\"text-align: right;\">  2.2563</td><td style=\"text-align: right;\">  3.5779</td><td style=\"text-align: right;\">  1.4268</td><td style=\"text-align: right;\">  9.068 </td><td style=\"text-align: right;\">  7.0197</td><td style=\"text-align: right;\"> 19.7765</td><td style=\"text-align: right;\"> 10.0499</td><td style=\"text-align: right;\"> 11.4803</td><td style=\"text-align: right;\">  0.2548</td><td style=\"text-align: right;\"> 16.7029</td><td style=\"text-align: right;\"> 45.551 </td><td style=\"text-align: right;\">  1.5795</td><td style=\"text-align: right;\">  0.1148</td><td style=\"text-align: right;\"> -14.3858</td><td style=\"text-align: right;\">  17.863 </td><td style=\"text-align: right;\">  23.2274</td><td style=\"text-align: right;\">   1.4375</td><td style=\"text-align: right;\">  14.4838</td><td style=\"text-align: right;\">   4.3806</td><td style=\"text-align: right;\">  10.6976</td><td style=\"text-align: right;\">  18.4023</td><td style=\"text-align: right;\">  14.2212</td><td style=\"text-align: right;\">  16.0638</td><td style=\"text-align: right;\">   6.3933</td><td style=\"text-align: right;\">   6.8699</td><td style=\"text-align: right;\">   2.7253</td><td style=\"text-align: right;\">  12.6458</td><td style=\"text-align: right;\">   3.2376</td><td style=\"text-align: right;\">   3.4218</td><td style=\"text-align: right;\">  -0.5658</td><td style=\"text-align: right;\">  -5.684 </td><td style=\"text-align: right;\">   4.7753</td><td style=\"text-align: right;\">  10.332 </td><td style=\"text-align: right;\">  39.7127</td><td style=\"text-align: right;\">  11.2319</td><td style=\"text-align: right;\">  -1.2978</td><td style=\"text-align: right;\">  12.4827</td><td style=\"text-align: right;\">   6.5034</td><td style=\"text-align: right;\">  12.7157</td><td style=\"text-align: right;\">  13.3054</td><td style=\"text-align: right;\">  -1.9678</td><td style=\"text-align: right;\">  -1.2363</td><td style=\"text-align: right;\">  11.5686</td><td style=\"text-align: right;\">  12.6428</td><td style=\"text-align: right;\">   0.4792</td><td style=\"text-align: right;\">   7.1984</td><td style=\"text-align: right;\">   7.1434</td><td style=\"text-align: right;\">  -0.2056</td><td style=\"text-align: right;\"> -16.3908</td><td style=\"text-align: right;\">  27.1589</td><td style=\"text-align: right;\">  23.5997</td><td style=\"text-align: right;\">  -4.6175</td><td style=\"text-align: right;\">  11.7989</td><td style=\"text-align: right;\">  12.5683</td><td style=\"text-align: right;\">  -3.6145</td><td style=\"text-align: right;\">  22.1069</td><td style=\"text-align: right;\">   9.5539</td><td style=\"text-align: right;\">   9.2721</td><td style=\"text-align: right;\">  -1.6214</td><td style=\"text-align: right;\">  12.9327</td><td style=\"text-align: right;\">   6.808 </td><td style=\"text-align: right;\">   4.2135</td><td style=\"text-align: right;\">  22.1044</td><td style=\"text-align: right;\">  20.0502</td><td style=\"text-align: right;\">   6.9953</td><td style=\"text-align: right;\">   9.3823</td><td style=\"text-align: right;\">  20.5534</td><td style=\"text-align: right;\">   3.4368</td><td style=\"text-align: right;\"> -15.2208</td><td style=\"text-align: right;\">  13.0974</td><td style=\"text-align: right;\"> -14.0888</td><td style=\"text-align: right;\">  11.7586</td><td style=\"text-align: right;\">  14.5259</td><td style=\"text-align: right;\">  22.87  </td><td style=\"text-align: right;\">   5.6688</td><td style=\"text-align: right;\">   6.1159</td><td style=\"text-align: right;\">  13.2433</td><td style=\"text-align: right;\"> -11.9785</td><td style=\"text-align: right;\">  26.204 </td><td style=\"text-align: right;\">   3.2348</td><td style=\"text-align: right;\">  -5.5775</td><td style=\"text-align: right;\">   5.7036</td><td style=\"text-align: right;\">   6.1717</td><td style=\"text-align: right;\">  -1.6039</td><td style=\"text-align: right;\">  -2.4866</td><td style=\"text-align: right;\">  17.2728</td><td style=\"text-align: right;\">   2.364 </td><td style=\"text-align: right;\">  14.0037</td><td style=\"text-align: right;\">  12.9165</td><td style=\"text-align: right;\"> -12.0311</td><td style=\"text-align: right;\">  10.1161</td><td style=\"text-align: right;\">  -8.7562</td><td style=\"text-align: right;\">   6.0889</td><td style=\"text-align: right;\">  -1.362 </td><td style=\"text-align: right;\">  10.3559</td><td style=\"text-align: right;\">  -7.4915</td><td style=\"text-align: right;\">   9.4588</td><td style=\"text-align: right;\">   3.9829</td><td style=\"text-align: right;\">   5.858 </td><td style=\"text-align: right;\">   8.3635</td><td style=\"text-align: right;\"> -24.8254</td><td style=\"text-align: right;\">  11.4928</td><td style=\"text-align: right;\">   1.6321</td><td style=\"text-align: right;\">   4.2259</td><td style=\"text-align: right;\">   9.1723</td><td style=\"text-align: right;\">   1.2835</td><td style=\"text-align: right;\">   3.3778</td><td style=\"text-align: right;\">  19.5542</td><td style=\"text-align: right;\">  -0.286 </td><td style=\"text-align: right;\">  -5.1612</td><td style=\"text-align: right;\">   7.2882</td><td style=\"text-align: right;\">  13.926 </td><td style=\"text-align: right;\">  -9.1846</td><td style=\"text-align: right;\">     0</td></tr>\n",
       "<tr><td>test_5   </td><td style=\"text-align: right;\"> 5.9862</td><td style=\"text-align: right;\"> -2.2913</td><td style=\"text-align: right;\"> 8.6058</td><td style=\"text-align: right;\"> 7.0685</td><td style=\"text-align: right;\">14.2465</td><td style=\"text-align: right;\"> -8.6761</td><td style=\"text-align: right;\"> 4.2467</td><td style=\"text-align: right;\">14.7632</td><td style=\"text-align: right;\"> 1.879 </td><td style=\"text-align: right;\"> 7.2842</td><td style=\"text-align: right;\"> -4.9194</td><td style=\"text-align: right;\"> -9.1869</td><td style=\"text-align: right;\"> 14.0581</td><td style=\"text-align: right;\"> 11.4403</td><td style=\"text-align: right;\">  4.295 </td><td style=\"text-align: right;\"> 13.8808</td><td style=\"text-align: right;\"> 10.9588</td><td style=\"text-align: right;\"> -7.0124</td><td style=\"text-align: right;\"> 15.1829</td><td style=\"text-align: right;\"> 18.271 </td><td style=\"text-align: right;\">  9.7086</td><td style=\"text-align: right;\"> 22.9103</td><td style=\"text-align: right;\">  6.508 </td><td style=\"text-align: right;\">  2.3607</td><td style=\"text-align: right;\">  1.7899</td><td style=\"text-align: right;\"> 13.9555</td><td style=\"text-align: right;\"> -7.2154</td><td style=\"text-align: right;\"> -2.4084</td><td style=\"text-align: right;\">  5.1616</td><td style=\"text-align: right;\">  6.9291</td><td style=\"text-align: right;\">  0.1141</td><td style=\"text-align: right;\">  9.7667</td><td style=\"text-align: right;\">  1.2339</td><td style=\"text-align: right;\"> 17.7117</td><td style=\"text-align: right;\"> 12.3433</td><td style=\"text-align: right;\"> -0.1787</td><td style=\"text-align: right;\"> -1.2858</td><td style=\"text-align: right;\">  5.522 </td><td style=\"text-align: right;\"> 13.0498</td><td style=\"text-align: right;\"> -5.3328</td><td style=\"text-align: right;\">-10.778 </td><td style=\"text-align: right;\">  0.0721</td><td style=\"text-align: right;\"> 10.359 </td><td style=\"text-align: right;\"> 11.6175</td><td style=\"text-align: right;\">  0.4534</td><td style=\"text-align: right;\"> -6.7184</td><td style=\"text-align: right;\"> 12.1589</td><td style=\"text-align: right;\">-13.8476</td><td style=\"text-align: right;\"> 11.0962</td><td style=\"text-align: right;\"> 12.6084</td><td style=\"text-align: right;\"> 12.3914</td><td style=\"text-align: right;\">  1.2393</td><td style=\"text-align: right;\">  1.5472</td><td style=\"text-align: right;\">  5.2122</td><td style=\"text-align: right;\"> -6.7651</td><td style=\"text-align: right;\"> 22.7272</td><td style=\"text-align: right;\"> 16.7353</td><td style=\"text-align: right;\">  5.3347</td><td style=\"text-align: right;\"> 10.3657</td><td style=\"text-align: right;\">  8.2551</td><td style=\"text-align: right;\"> 11.4422</td><td style=\"text-align: right;\"> -8.7121</td><td style=\"text-align: right;\">  3.8256</td><td style=\"text-align: right;\">  1.1723</td><td style=\"text-align: right;\">  6.9224</td><td style=\"text-align: right;\"> -1.5636</td><td style=\"text-align: right;\">  4.7235</td><td style=\"text-align: right;\"> 23.2156</td><td style=\"text-align: right;\">  5.0215</td><td style=\"text-align: right;\"> -5.2671</td><td style=\"text-align: right;\"> 10.7981</td><td style=\"text-align: right;\">  0.8257</td><td style=\"text-align: right;\"> -5.5004</td><td style=\"text-align: right;\"> 24.4032</td><td style=\"text-align: right;\">  8.4758</td><td style=\"text-align: right;\"> 23.8209</td><td style=\"text-align: right;\">  4.2468</td><td style=\"text-align: right;\"> 19.5714</td><td style=\"text-align: right;\">  6.4908</td><td style=\"text-align: right;\"> 12.4225</td><td style=\"text-align: right;\">  6.4326</td><td style=\"text-align: right;\"> 16.0807</td><td style=\"text-align: right;\">  1.489 </td><td style=\"text-align: right;\"> 13.1412</td><td style=\"text-align: right;\">  3.8126</td><td style=\"text-align: right;\"> 19.7215</td><td style=\"text-align: right;\"> -0.3531</td><td style=\"text-align: right;\"> 17.5688</td><td style=\"text-align: right;\">  8.6988</td><td style=\"text-align: right;\">  5.2293</td><td style=\"text-align: right;\">-13.2339</td><td style=\"text-align: right;\">  6.9382</td><td style=\"text-align: right;\"> 12.9613</td><td style=\"text-align: right;\"> 10.6412</td><td style=\"text-align: right;\"> 14.2706</td><td style=\"text-align: right;\"> -0.4687</td><td style=\"text-align: right;\">  9.9168</td><td style=\"text-align: right;\">  2.3534</td><td style=\"text-align: right;\">  0.2386</td><td style=\"text-align: right;\"> -0.6977</td><td style=\"text-align: right;\"> -19.8952</td><td style=\"text-align: right;\">  12.7305</td><td style=\"text-align: right;\">  30.2647</td><td style=\"text-align: right;\">   1.7676</td><td style=\"text-align: right;\">  14.9591</td><td style=\"text-align: right;\">   4.9202</td><td style=\"text-align: right;\">   7.9543</td><td style=\"text-align: right;\">  26.5086</td><td style=\"text-align: right;\">  14.2583</td><td style=\"text-align: right;\">  13.2841</td><td style=\"text-align: right;\">   3.3909</td><td style=\"text-align: right;\">   4.7015</td><td style=\"text-align: right;\">   5.3538</td><td style=\"text-align: right;\">   4.4087</td><td style=\"text-align: right;\">   2.0986</td><td style=\"text-align: right;\">   0.2104</td><td style=\"text-align: right;\">   0.869 </td><td style=\"text-align: right;\">  20.6923</td><td style=\"text-align: right;\">  -1.4024</td><td style=\"text-align: right;\">   2.7168</td><td style=\"text-align: right;\">  21.1759</td><td style=\"text-align: right;\">  10.7737</td><td style=\"text-align: right;\">  10.1884</td><td style=\"text-align: right;\">   4.9242</td><td style=\"text-align: right;\">   2.0627</td><td style=\"text-align: right;\">  11.8315</td><td style=\"text-align: right;\">  14.0724</td><td style=\"text-align: right;\">   0.7827</td><td style=\"text-align: right;\">  -6.7349</td><td style=\"text-align: right;\">  18.2366</td><td style=\"text-align: right;\">  13.461 </td><td style=\"text-align: right;\">   1.1437</td><td style=\"text-align: right;\">   8.8194</td><td style=\"text-align: right;\">   6.4073</td><td style=\"text-align: right;\">  -2.4266</td><td style=\"text-align: right;\">  -1.2834</td><td style=\"text-align: right;\">  16.7356</td><td style=\"text-align: right;\">  15.0301</td><td style=\"text-align: right;\">   2.0551</td><td style=\"text-align: right;\">  -0.7009</td><td style=\"text-align: right;\">  -5.9772</td><td style=\"text-align: right;\">   5.3172</td><td style=\"text-align: right;\">  18.2809</td><td style=\"text-align: right;\">  14.0878</td><td style=\"text-align: right;\">   8.8363</td><td style=\"text-align: right;\">  10.1988</td><td style=\"text-align: right;\">  11.0207</td><td style=\"text-align: right;\">   7.5835</td><td style=\"text-align: right;\">   4.0888</td><td style=\"text-align: right;\">  10.2551</td><td style=\"text-align: right;\">  14.5978</td><td style=\"text-align: right;\">  12.0263</td><td style=\"text-align: right;\">  13.4995</td><td style=\"text-align: right;\">  17.4899</td><td style=\"text-align: right;\">   3.224 </td><td style=\"text-align: right;\">   4.338 </td><td style=\"text-align: right;\">  11.7515</td><td style=\"text-align: right;\"> -11.6321</td><td style=\"text-align: right;\">   8.8682</td><td style=\"text-align: right;\">   1.4625</td><td style=\"text-align: right;\">  10.4064</td><td style=\"text-align: right;\">   5.6731</td><td style=\"text-align: right;\">   5.2368</td><td style=\"text-align: right;\">   5.2973</td><td style=\"text-align: right;\"> -13.2809</td><td style=\"text-align: right;\">  26.6861</td><td style=\"text-align: right;\">   3.0711</td><td style=\"text-align: right;\">  -5.841 </td><td style=\"text-align: right;\">   3.2268</td><td style=\"text-align: right;\">   5.9344</td><td style=\"text-align: right;\">   0.6292</td><td style=\"text-align: right;\">  -4.0885</td><td style=\"text-align: right;\">  15.8299</td><td style=\"text-align: right;\">   1.9671</td><td style=\"text-align: right;\">  27.9116</td><td style=\"text-align: right;\">  12.1392</td><td style=\"text-align: right;\">  -5.8638</td><td style=\"text-align: right;\">   7.9274</td><td style=\"text-align: right;\">   3.2828</td><td style=\"text-align: right;\">   1.6738</td><td style=\"text-align: right;\">  -6.687 </td><td style=\"text-align: right;\">  10.8213</td><td style=\"text-align: right;\">  -9.0377</td><td style=\"text-align: right;\">  13.9614</td><td style=\"text-align: right;\">   5.7416</td><td style=\"text-align: right;\">   3.6823</td><td style=\"text-align: right;\">   5.108 </td><td style=\"text-align: right;\">  -7.5139</td><td style=\"text-align: right;\">  15.2017</td><td style=\"text-align: right;\">   2.6198</td><td style=\"text-align: right;\">  -2.1115</td><td style=\"text-align: right;\">   7.1178</td><td style=\"text-align: right;\">  -0.4249</td><td style=\"text-align: right;\">   8.8781</td><td style=\"text-align: right;\">  14.9438</td><td style=\"text-align: right;\">  -2.2151</td><td style=\"text-align: right;\">  -6.0233</td><td style=\"text-align: right;\">   9.8117</td><td style=\"text-align: right;\">  17.1127</td><td style=\"text-align: right;\">  10.824 </td><td style=\"text-align: right;\">     0</td></tr>\n",
       "<tr><td>test_6   </td><td style=\"text-align: right;\"> 8.4624</td><td style=\"text-align: right;\"> -6.1065</td><td style=\"text-align: right;\"> 7.3603</td><td style=\"text-align: right;\"> 8.2627</td><td style=\"text-align: right;\">12.0104</td><td style=\"text-align: right;\"> -7.2073</td><td style=\"text-align: right;\"> 4.167 </td><td style=\"text-align: right;\">13.0809</td><td style=\"text-align: right;\">-4.3004</td><td style=\"text-align: right;\"> 6.3181</td><td style=\"text-align: right;\">  3.3959</td><td style=\"text-align: right;\"> -2.0205</td><td style=\"text-align: right;\"> 13.7682</td><td style=\"text-align: right;\"> 12.0534</td><td style=\"text-align: right;\">  7.2186</td><td style=\"text-align: right;\"> 14.6552</td><td style=\"text-align: right;\"> 10.706 </td><td style=\"text-align: right;\"> -8.0046</td><td style=\"text-align: right;\"> 16.5411</td><td style=\"text-align: right;\"> -1.9177</td><td style=\"text-align: right;\"> 23.4575</td><td style=\"text-align: right;\"> 20.4773</td><td style=\"text-align: right;\">  3.9038</td><td style=\"text-align: right;\">  2.4832</td><td style=\"text-align: right;\"> 18.0843</td><td style=\"text-align: right;\"> 13.2727</td><td style=\"text-align: right;\">-15.1986</td><td style=\"text-align: right;\"> -0.4427</td><td style=\"text-align: right;\">  5.1813</td><td style=\"text-align: right;\">  6.4509</td><td style=\"text-align: right;\">  1.1644</td><td style=\"text-align: right;\">  8.1706</td><td style=\"text-align: right;\"> -0.3277</td><td style=\"text-align: right;\"> 18.6378</td><td style=\"text-align: right;\"> 10.6855</td><td style=\"text-align: right;\"> 11.9737</td><td style=\"text-align: right;\">  5.862 </td><td style=\"text-align: right;\">  1.6195</td><td style=\"text-align: right;\"> 16.8667</td><td style=\"text-align: right;\"> -6.1878</td><td style=\"text-align: right;\">-11.4996</td><td style=\"text-align: right;\"> 12.0445</td><td style=\"text-align: right;\"> 10.6562</td><td style=\"text-align: right;\"> 11.4393</td><td style=\"text-align: right;\"> 13.3974</td><td style=\"text-align: right;\"> 12.3227</td><td style=\"text-align: right;\"> 16.0258</td><td style=\"text-align: right;\">-13.4051</td><td style=\"text-align: right;\"> 23.4127</td><td style=\"text-align: right;\"> 20.8895</td><td style=\"text-align: right;\"> 11.5413</td><td style=\"text-align: right;\"> 17.243 </td><td style=\"text-align: right;\"> -3.2139</td><td style=\"text-align: right;\">  5.9612</td><td style=\"text-align: right;\">  3.8564</td><td style=\"text-align: right;\">  9.5905</td><td style=\"text-align: right;\"> 17.7064</td><td style=\"text-align: right;\">  5.9169</td><td style=\"text-align: right;\">  4.3098</td><td style=\"text-align: right;\">  7.2078</td><td style=\"text-align: right;\"> 16.111 </td><td style=\"text-align: right;\">  6.1001</td><td style=\"text-align: right;\">  5.7367</td><td style=\"text-align: right;\">  1.7652</td><td style=\"text-align: right;\">  4.4416</td><td style=\"text-align: right;\">  1.8125</td><td style=\"text-align: right;\">  7.2286</td><td style=\"text-align: right;\">  9.5884</td><td style=\"text-align: right;\">  5.0167</td><td style=\"text-align: right;\">  1.5204</td><td style=\"text-align: right;\"> 37.4611</td><td style=\"text-align: right;\">  0.4291</td><td style=\"text-align: right;\"> -6.8746</td><td style=\"text-align: right;\"> 13.9159</td><td style=\"text-align: right;\">  9.8784</td><td style=\"text-align: right;\"> 20.3224</td><td style=\"text-align: right;\">  4.5523</td><td style=\"text-align: right;\"> 20.5327</td><td style=\"text-align: right;\">  3.6862</td><td style=\"text-align: right;\"> 14.0201</td><td style=\"text-align: right;\"> -0.8756</td><td style=\"text-align: right;\"> 12.5293</td><td style=\"text-align: right;\">  5.8005</td><td style=\"text-align: right;\"> 11.1811</td><td style=\"text-align: right;\"> -2.8989</td><td style=\"text-align: right;\"> 26.0394</td><td style=\"text-align: right;\">  3.3605</td><td style=\"text-align: right;\">  7.3378</td><td style=\"text-align: right;\">  8.2451</td><td style=\"text-align: right;\">  5.2095</td><td style=\"text-align: right;\">-18.7481</td><td style=\"text-align: right;\">  6.8274</td><td style=\"text-align: right;\"> 13.9692</td><td style=\"text-align: right;\"> 10.2064</td><td style=\"text-align: right;\">  5.3246</td><td style=\"text-align: right;\"> -1.0409</td><td style=\"text-align: right;\"> 24.2579</td><td style=\"text-align: right;\">  5.3655</td><td style=\"text-align: right;\">  2.2065</td><td style=\"text-align: right;\"> -1.7311</td><td style=\"text-align: right;\">   6.1458</td><td style=\"text-align: right;\">  16.264 </td><td style=\"text-align: right;\">  18.6954</td><td style=\"text-align: right;\">   1.757 </td><td style=\"text-align: right;\">   7.8975</td><td style=\"text-align: right;\">   2.8033</td><td style=\"text-align: right;\">   5.795 </td><td style=\"text-align: right;\">  24.5927</td><td style=\"text-align: right;\">  14.1619</td><td style=\"text-align: right;\">  14.7296</td><td style=\"text-align: right;\">   5.8805</td><td style=\"text-align: right;\">   6.4036</td><td style=\"text-align: right;\">   3.4604</td><td style=\"text-align: right;\">   4.6195</td><td style=\"text-align: right;\">   3.5566</td><td style=\"text-align: right;\">   6.6851</td><td style=\"text-align: right;\">  -0.0033</td><td style=\"text-align: right;\">  20.4088</td><td style=\"text-align: right;\">  -0.895 </td><td style=\"text-align: right;\">  -0.1137</td><td style=\"text-align: right;\">  26.2992</td><td style=\"text-align: right;\">   9.9379</td><td style=\"text-align: right;\">   2.2976</td><td style=\"text-align: right;\">   6.6694</td><td style=\"text-align: right;\">  -0.8026</td><td style=\"text-align: right;\">  12.163 </td><td style=\"text-align: right;\">  13.1157</td><td style=\"text-align: right;\">   1.8116</td><td style=\"text-align: right;\">  -0.5829</td><td style=\"text-align: right;\">  11.1905</td><td style=\"text-align: right;\">  11.2068</td><td style=\"text-align: right;\">   0.8252</td><td style=\"text-align: right;\">   8.3042</td><td style=\"text-align: right;\">   6.6573</td><td style=\"text-align: right;\">  -7.7321</td><td style=\"text-align: right;\">  -6.2635</td><td style=\"text-align: right;\">   7.4701</td><td style=\"text-align: right;\">   0.4679</td><td style=\"text-align: right;\">   2.1011</td><td style=\"text-align: right;\">   3.5594</td><td style=\"text-align: right;\">   5.1848</td><td style=\"text-align: right;\">   9.4451</td><td style=\"text-align: right;\">   4.8391</td><td style=\"text-align: right;\">  13.5847</td><td style=\"text-align: right;\">   9.1868</td><td style=\"text-align: right;\">   0.0095</td><td style=\"text-align: right;\">   5.8965</td><td style=\"text-align: right;\">   4.7403</td><td style=\"text-align: right;\">   3.9294</td><td style=\"text-align: right;\">  19.9754</td><td style=\"text-align: right;\">  17.7241</td><td style=\"text-align: right;\">   6.045 </td><td style=\"text-align: right;\">   8.5249</td><td style=\"text-align: right;\">  17.4007</td><td style=\"text-align: right;\">  10.0876</td><td style=\"text-align: right;\">  -1.9114</td><td style=\"text-align: right;\">  13.316 </td><td style=\"text-align: right;\">  -7.9423</td><td style=\"text-align: right;\">  20.4256</td><td style=\"text-align: right;\">  17.8738</td><td style=\"text-align: right;\">  16.6887</td><td style=\"text-align: right;\">   5.5245</td><td style=\"text-align: right;\">   4.1781</td><td style=\"text-align: right;\">  16.6762</td><td style=\"text-align: right;\">  -6.2154</td><td style=\"text-align: right;\">  23.8006</td><td style=\"text-align: right;\">   2.8187</td><td style=\"text-align: right;\"> -16.7911</td><td style=\"text-align: right;\">   4.1165</td><td style=\"text-align: right;\">   5.7013</td><td style=\"text-align: right;\">   8.8525</td><td style=\"text-align: right;\">   0.2582</td><td style=\"text-align: right;\">  17.731 </td><td style=\"text-align: right;\"> -10.3297</td><td style=\"text-align: right;\">  20.0649</td><td style=\"text-align: right;\">  11.6405</td><td style=\"text-align: right;\">  -4.2624</td><td style=\"text-align: right;\">  12.0176</td><td style=\"text-align: right;\">  10.9073</td><td style=\"text-align: right;\">   2.2162</td><td style=\"text-align: right;\">  -4.0787</td><td style=\"text-align: right;\">   8.1047</td><td style=\"text-align: right;\">   0.3254</td><td style=\"text-align: right;\">  13.1701</td><td style=\"text-align: right;\">  16.1184</td><td style=\"text-align: right;\">  -3.1572</td><td style=\"text-align: right;\">  10.4842</td><td style=\"text-align: right;\"> -10.6925</td><td style=\"text-align: right;\">  12.8029</td><td style=\"text-align: right;\">   2.1781</td><td style=\"text-align: right;\">  12.3609</td><td style=\"text-align: right;\">   6.8661</td><td style=\"text-align: right;\">   4.0971</td><td style=\"text-align: right;\">   8.8484</td><td style=\"text-align: right;\">  17.501 </td><td style=\"text-align: right;\">   0.0295</td><td style=\"text-align: right;\">   7.7443</td><td style=\"text-align: right;\">   9.1509</td><td style=\"text-align: right;\">  18.4736</td><td style=\"text-align: right;\">   5.1499</td><td style=\"text-align: right;\">     0</td></tr>\n",
       "<tr><td>test_7   </td><td style=\"text-align: right;\">17.3035</td><td style=\"text-align: right;\"> -2.4212</td><td style=\"text-align: right;\">13.3989</td><td style=\"text-align: right;\"> 8.3998</td><td style=\"text-align: right;\">11.0777</td><td style=\"text-align: right;\">  9.6449</td><td style=\"text-align: right;\"> 5.9596</td><td style=\"text-align: right;\">17.8477</td><td style=\"text-align: right;\">-4.8068</td><td style=\"text-align: right;\"> 7.4643</td><td style=\"text-align: right;\">  4.0355</td><td style=\"text-align: right;\">  1.6185</td><td style=\"text-align: right;\"> 14.1455</td><td style=\"text-align: right;\">  9.2276</td><td style=\"text-align: right;\"> 10.3202</td><td style=\"text-align: right;\"> 15.1863</td><td style=\"text-align: right;\"> 10.4344</td><td style=\"text-align: right;\">-16.2784</td><td style=\"text-align: right;\"> 20.4167</td><td style=\"text-align: right;\"> 16.3993</td><td style=\"text-align: right;\"> 26.0324</td><td style=\"text-align: right;\"> 18.2594</td><td style=\"text-align: right;\">  5.8071</td><td style=\"text-align: right;\">  4.0316</td><td style=\"text-align: right;\"> 19.0425</td><td style=\"text-align: right;\"> 13.2969</td><td style=\"text-align: right;\"> -6.3679</td><td style=\"text-align: right;\">  0.1439</td><td style=\"text-align: right;\">  5.1571</td><td style=\"text-align: right;\">  4.2024</td><td style=\"text-align: right;\"> -7.6541</td><td style=\"text-align: right;\"> 11.0271</td><td style=\"text-align: right;\"> -4.0223</td><td style=\"text-align: right;\"> 14.8908</td><td style=\"text-align: right;\"> 11.2465</td><td style=\"text-align: right;\"> 12.2744</td><td style=\"text-align: right;\">  2.6117</td><td style=\"text-align: right;\">  3.7225</td><td style=\"text-align: right;\"> 11.9105</td><td style=\"text-align: right;\">  7.4879</td><td style=\"text-align: right;\"> -1.0589</td><td style=\"text-align: right;\"> 12.9685</td><td style=\"text-align: right;\">  9.9273</td><td style=\"text-align: right;\"> 11.9615</td><td style=\"text-align: right;\">  9.5903</td><td style=\"text-align: right;\">-11.6245</td><td style=\"text-align: right;\">  9.9861</td><td style=\"text-align: right;\"> -2.3604</td><td style=\"text-align: right;\"> 29.7697</td><td style=\"text-align: right;\"> 15.5135</td><td style=\"text-align: right;\"> 12.7145</td><td style=\"text-align: right;\"> 18.6272</td><td style=\"text-align: right;\"> -0.3277</td><td style=\"text-align: right;\">  6.4081</td><td style=\"text-align: right;\"> -4.0908</td><td style=\"text-align: right;\">  9.1192</td><td style=\"text-align: right;\"> 16.579 </td><td style=\"text-align: right;\">  5.2576</td><td style=\"text-align: right;\"> -0.404 </td><td style=\"text-align: right;\">  9.5163</td><td style=\"text-align: right;\">  9.2034</td><td style=\"text-align: right;\">-19.3891</td><td style=\"text-align: right;\">  1.3491</td><td style=\"text-align: right;\"> -1.2249</td><td style=\"text-align: right;\">  7.8745</td><td style=\"text-align: right;\"> -1.4398</td><td style=\"text-align: right;\">  3.6731</td><td style=\"text-align: right;\"> 19.5793</td><td style=\"text-align: right;\">  5.0351</td><td style=\"text-align: right;\"> -4.0532</td><td style=\"text-align: right;\"> 24.1029</td><td style=\"text-align: right;\">  0.448 </td><td style=\"text-align: right;\">  4.1605</td><td style=\"text-align: right;\"> 30.3208</td><td style=\"text-align: right;\"> 29.9375</td><td style=\"text-align: right;\">  2.704 </td><td style=\"text-align: right;\">-13.5575</td><td style=\"text-align: right;\"> 20.5463</td><td style=\"text-align: right;\">  7.5424</td><td style=\"text-align: right;\"> 14.3924</td><td style=\"text-align: right;\">  3.8249</td><td style=\"text-align: right;\"> 18.7879</td><td style=\"text-align: right;\">-13.4008</td><td style=\"text-align: right;\"> -6.9739</td><td style=\"text-align: right;\">  3.5344</td><td style=\"text-align: right;\"> 16.948 </td><td style=\"text-align: right;\">  2.0801</td><td style=\"text-align: right;\">  5.4255</td><td style=\"text-align: right;\"> 10.8931</td><td style=\"text-align: right;\">  7.5485</td><td style=\"text-align: right;\"> -1.1905</td><td style=\"text-align: right;\">  7.12  </td><td style=\"text-align: right;\"> 10.0399</td><td style=\"text-align: right;\"> 11.7667</td><td style=\"text-align: right;\">  9.202 </td><td style=\"text-align: right;\"> -0.7176</td><td style=\"text-align: right;\"> 12.5804</td><td style=\"text-align: right;\"> 31.8321</td><td style=\"text-align: right;\">  1.7538</td><td style=\"text-align: right;\"> -0.707 </td><td style=\"text-align: right;\"> -22.7363</td><td style=\"text-align: right;\">  11.6984</td><td style=\"text-align: right;\">  18.0784</td><td style=\"text-align: right;\">   1.7108</td><td style=\"text-align: right;\">   9.2897</td><td style=\"text-align: right;\">   5.5384</td><td style=\"text-align: right;\">  13.0755</td><td style=\"text-align: right;\">  23.3108</td><td style=\"text-align: right;\">  14.156 </td><td style=\"text-align: right;\">  14.5899</td><td style=\"text-align: right;\">   5.551 </td><td style=\"text-align: right;\">   7.7358</td><td style=\"text-align: right;\">   5.2163</td><td style=\"text-align: right;\">  13.7452</td><td style=\"text-align: right;\">   1.5873</td><td style=\"text-align: right;\">   6.0762</td><td style=\"text-align: right;\">   4.9045</td><td style=\"text-align: right;\">  20.5785</td><td style=\"text-align: right;\"> -14.902 </td><td style=\"text-align: right;\">   7.3964</td><td style=\"text-align: right;\">  32.9594</td><td style=\"text-align: right;\">   8.5667</td><td style=\"text-align: right;\">   0.9854</td><td style=\"text-align: right;\">  11.8573</td><td style=\"text-align: right;\">   3.4626</td><td style=\"text-align: right;\">  12.0244</td><td style=\"text-align: right;\">  14.1143</td><td style=\"text-align: right;\">  -0.831 </td><td style=\"text-align: right;\">  -0.745 </td><td style=\"text-align: right;\">  15.3384</td><td style=\"text-align: right;\">  11.386 </td><td style=\"text-align: right;\">   1.0311</td><td style=\"text-align: right;\">   8.3112</td><td style=\"text-align: right;\">   7.429 </td><td style=\"text-align: right;\">  -3.6762</td><td style=\"text-align: right;\"> -11.7978</td><td style=\"text-align: right;\">  11.7961</td><td style=\"text-align: right;\">   1.1644</td><td style=\"text-align: right;\">  -3.2493</td><td style=\"text-align: right;\">   5.7673</td><td style=\"text-align: right;\">   9.8482</td><td style=\"text-align: right;\">   6.9077</td><td style=\"text-align: right;\">  15.8785</td><td style=\"text-align: right;\">  11.6216</td><td style=\"text-align: right;\">   7.9618</td><td style=\"text-align: right;\">   2.5143</td><td style=\"text-align: right;\">  14.5101</td><td style=\"text-align: right;\">  -0.0356</td><td style=\"text-align: right;\">   4.072 </td><td style=\"text-align: right;\">  -0.7705</td><td style=\"text-align: right;\">  17.7689</td><td style=\"text-align: right;\">  11.6995</td><td style=\"text-align: right;\">   4.3652</td><td style=\"text-align: right;\">  12.9432</td><td style=\"text-align: right;\">   8.2277</td><td style=\"text-align: right;\">  -2.9284</td><td style=\"text-align: right;\">  13.3862</td><td style=\"text-align: right;\">  -8.4828</td><td style=\"text-align: right;\">  28.2227</td><td style=\"text-align: right;\">   8.6334</td><td style=\"text-align: right;\">  33.2387</td><td style=\"text-align: right;\">   5.5475</td><td style=\"text-align: right;\">   5.0035</td><td style=\"text-align: right;\">  13.2442</td><td style=\"text-align: right;\">  -3.8513</td><td style=\"text-align: right;\">   9.9877</td><td style=\"text-align: right;\">   3.1809</td><td style=\"text-align: right;\"> -12.016 </td><td style=\"text-align: right;\">   0.7334</td><td style=\"text-align: right;\">   5.7269</td><td style=\"text-align: right;\">   2.5807</td><td style=\"text-align: right;\">  -1.2435</td><td style=\"text-align: right;\">  25.3933</td><td style=\"text-align: right;\">   6.051 </td><td style=\"text-align: right;\">  15.6766</td><td style=\"text-align: right;\">  12.1939</td><td style=\"text-align: right;\">  -1.3424</td><td style=\"text-align: right;\">  13.5346</td><td style=\"text-align: right;\"> -13.1117</td><td style=\"text-align: right;\">   2.0752</td><td style=\"text-align: right;\">  -0.3896</td><td style=\"text-align: right;\">   9.4374</td><td style=\"text-align: right;\">  -3.2351</td><td style=\"text-align: right;\">   9.3452</td><td style=\"text-align: right;\">  20.7098</td><td style=\"text-align: right;\">   0.9508</td><td style=\"text-align: right;\">   9.6602</td><td style=\"text-align: right;\"> -11.1847</td><td style=\"text-align: right;\">  15.7181</td><td style=\"text-align: right;\">  -1.0241</td><td style=\"text-align: right;\">   4.4676</td><td style=\"text-align: right;\">   4.4214</td><td style=\"text-align: right;\">   0.9303</td><td style=\"text-align: right;\">   1.4994</td><td style=\"text-align: right;\">  15.2648</td><td style=\"text-align: right;\">  -1.7931</td><td style=\"text-align: right;\">   6.5316</td><td style=\"text-align: right;\">  10.4855</td><td style=\"text-align: right;\">  23.4631</td><td style=\"text-align: right;\">   0.7283</td><td style=\"text-align: right;\">     0</td></tr>\n",
       "<tr><td>test_8   </td><td style=\"text-align: right;\"> 6.9856</td><td style=\"text-align: right;\">  0.8402</td><td style=\"text-align: right;\">13.7161</td><td style=\"text-align: right;\"> 4.7749</td><td style=\"text-align: right;\"> 8.6784</td><td style=\"text-align: right;\">-13.7607</td><td style=\"text-align: right;\"> 4.3386</td><td style=\"text-align: right;\">14.5843</td><td style=\"text-align: right;\"> 2.5883</td><td style=\"text-align: right;\"> 7.2215</td><td style=\"text-align: right;\">  9.375 </td><td style=\"text-align: right;\">  8.4046</td><td style=\"text-align: right;\"> 14.3322</td><td style=\"text-align: right;\"> 17.1366</td><td style=\"text-align: right;\">  7.9301</td><td style=\"text-align: right;\"> 14.2254</td><td style=\"text-align: right;\">  6.722 </td><td style=\"text-align: right;\"> -8.7087</td><td style=\"text-align: right;\"> -1.3541</td><td style=\"text-align: right;\"> 19.2714</td><td style=\"text-align: right;\">  9.3437</td><td style=\"text-align: right;\"> 18.6532</td><td style=\"text-align: right;\">  7.7823</td><td style=\"text-align: right;\">  2.6009</td><td style=\"text-align: right;\">  6.7642</td><td style=\"text-align: right;\"> 13.6464</td><td style=\"text-align: right;\"> -6.3747</td><td style=\"text-align: right;\">  1.1001</td><td style=\"text-align: right;\">  6.3812</td><td style=\"text-align: right;\">  7.6421</td><td style=\"text-align: right;\">  4.3898</td><td style=\"text-align: right;\">  9.0597</td><td style=\"text-align: right;\">  1.204 </td><td style=\"text-align: right;\">  7.1039</td><td style=\"text-align: right;\"> 12.3777</td><td style=\"text-align: right;\"> -2.9641</td><td style=\"text-align: right;\">  7.0173</td><td style=\"text-align: right;\">  7.4202</td><td style=\"text-align: right;\"> 19.6818</td><td style=\"text-align: right;\"> -4.4557</td><td style=\"text-align: right;\"> -8.9754</td><td style=\"text-align: right;\">  1.5151</td><td style=\"text-align: right;\"> 11.5905</td><td style=\"text-align: right;\"> 12.0374</td><td style=\"text-align: right;\"> 14.9053</td><td style=\"text-align: right;\"> -3.7726</td><td style=\"text-align: right;\">  8.2385</td><td style=\"text-align: right;\">-14.4489</td><td style=\"text-align: right;\"> -0.7069</td><td style=\"text-align: right;\">  6.9919</td><td style=\"text-align: right;\"> 12.8479</td><td style=\"text-align: right;\"> 27.6295</td><td style=\"text-align: right;\"> -4.9911</td><td style=\"text-align: right;\">  6.5384</td><td style=\"text-align: right;\">  8.362 </td><td style=\"text-align: right;\"> 16.5132</td><td style=\"text-align: right;\"> 23.6665</td><td style=\"text-align: right;\">  5.1845</td><td style=\"text-align: right;\">  4.3941</td><td style=\"text-align: right;\">  8.6522</td><td style=\"text-align: right;\">  8.3098</td><td style=\"text-align: right;\"> -7.7338</td><td style=\"text-align: right;\"> -1.9156</td><td style=\"text-align: right;\"> -3.2809</td><td style=\"text-align: right;\">  7.2819</td><td style=\"text-align: right;\">  3.4439</td><td style=\"text-align: right;\">  7.3613</td><td style=\"text-align: right;\">  5.1669</td><td style=\"text-align: right;\">  5.0119</td><td style=\"text-align: right;\"> -9.8221</td><td style=\"text-align: right;\"> 28.1225</td><td style=\"text-align: right;\">  0.9355</td><td style=\"text-align: right;\"> -1.8602</td><td style=\"text-align: right;\"> 23.5856</td><td style=\"text-align: right;\"> 13.4518</td><td style=\"text-align: right;\"> 21.7888</td><td style=\"text-align: right;\">  9.118 </td><td style=\"text-align: right;\"> 18.7106</td><td style=\"text-align: right;\">  6.7353</td><td style=\"text-align: right;\"> 14.58  </td><td style=\"text-align: right;\"> -2.9163</td><td style=\"text-align: right;\"> 16.0976</td><td style=\"text-align: right;\"> -2.0214</td><td style=\"text-align: right;\"> -0.6714</td><td style=\"text-align: right;\">  0.8176</td><td style=\"text-align: right;\"> 20.7796</td><td style=\"text-align: right;\"> 10.8433</td><td style=\"text-align: right;\"> 13.8174</td><td style=\"text-align: right;\"> 10.911 </td><td style=\"text-align: right;\">  4.654 </td><td style=\"text-align: right;\">-16.7103</td><td style=\"text-align: right;\">  6.8175</td><td style=\"text-align: right;\">  7.35  </td><td style=\"text-align: right;\"> 11.0465</td><td style=\"text-align: right;\"> 12.5032</td><td style=\"text-align: right;\">  0.4848</td><td style=\"text-align: right;\">  6.1101</td><td style=\"text-align: right;\"> 15.0128</td><td style=\"text-align: right;\">  2.9392</td><td style=\"text-align: right;\"> -3.3947</td><td style=\"text-align: right;\"> -17.4719</td><td style=\"text-align: right;\">   2.2523</td><td style=\"text-align: right;\">  13.9971</td><td style=\"text-align: right;\">   1.4223</td><td style=\"text-align: right;\">  10.9085</td><td style=\"text-align: right;\">   4.3059</td><td style=\"text-align: right;\">   8.2673</td><td style=\"text-align: right;\">   6.8189</td><td style=\"text-align: right;\">  14.4489</td><td style=\"text-align: right;\">  13.0155</td><td style=\"text-align: right;\">   7.5274</td><td style=\"text-align: right;\">   5.2759</td><td style=\"text-align: right;\">   4.2894</td><td style=\"text-align: right;\">   4.9696</td><td style=\"text-align: right;\">   5.0573</td><td style=\"text-align: right;\">   5.2765</td><td style=\"text-align: right;\">   2.6045</td><td style=\"text-align: right;\">  19.6039</td><td style=\"text-align: right;\">  -2.2295</td><td style=\"text-align: right;\">  -0.4357</td><td style=\"text-align: right;\">   9.733 </td><td style=\"text-align: right;\">  14.4961</td><td style=\"text-align: right;\">  -0.6687</td><td style=\"text-align: right;\">   4.5032</td><td style=\"text-align: right;\">   3.1302</td><td style=\"text-align: right;\">  12.1091</td><td style=\"text-align: right;\">  13.5299</td><td style=\"text-align: right;\">   5.6511</td><td style=\"text-align: right;\">  -1.4709</td><td style=\"text-align: right;\">  16.5722</td><td style=\"text-align: right;\">  13.2591</td><td style=\"text-align: right;\">  -0.2205</td><td style=\"text-align: right;\">   9.9031</td><td style=\"text-align: right;\">   6.7155</td><td style=\"text-align: right;\">  -9.7841</td><td style=\"text-align: right;\">  -5.1019</td><td style=\"text-align: right;\">  25.8567</td><td style=\"text-align: right;\">  16.5908</td><td style=\"text-align: right;\">  -2.5403</td><td style=\"text-align: right;\">   7.7289</td><td style=\"text-align: right;\">   2.8455</td><td style=\"text-align: right;\">   2.2674</td><td style=\"text-align: right;\">  13.0833</td><td style=\"text-align: right;\">  14.1355</td><td style=\"text-align: right;\">   8.8783</td><td style=\"text-align: right;\">  -0.067 </td><td style=\"text-align: right;\">   9.5314</td><td style=\"text-align: right;\">  -0.3042</td><td style=\"text-align: right;\">   4.1288</td><td style=\"text-align: right;\">   5.218 </td><td style=\"text-align: right;\">  15.8261</td><td style=\"text-align: right;\">   4.8847</td><td style=\"text-align: right;\">  10.0671</td><td style=\"text-align: right;\">  15.7964</td><td style=\"text-align: right;\">   4.5274</td><td style=\"text-align: right;\">   5.401 </td><td style=\"text-align: right;\">  14.6694</td><td style=\"text-align: right;\">   1.7479</td><td style=\"text-align: right;\">  15.8807</td><td style=\"text-align: right;\">  19.9708</td><td style=\"text-align: right;\">   6.578 </td><td style=\"text-align: right;\">   5.505 </td><td style=\"text-align: right;\">   5.7826</td><td style=\"text-align: right;\">   3.0612</td><td style=\"text-align: right;\">   1.3582</td><td style=\"text-align: right;\">  21.0711</td><td style=\"text-align: right;\">   2.7477</td><td style=\"text-align: right;\">  -5.5203</td><td style=\"text-align: right;\">   5.7496</td><td style=\"text-align: right;\">   5.1234</td><td style=\"text-align: right;\">  -4.5422</td><td style=\"text-align: right;\">  -1.0625</td><td style=\"text-align: right;\">  13.1249</td><td style=\"text-align: right;\">  -0.7765</td><td style=\"text-align: right;\">  18.7814</td><td style=\"text-align: right;\">  12.293 </td><td style=\"text-align: right;\"> -11.3608</td><td style=\"text-align: right;\">  17.1317</td><td style=\"text-align: right;\">  -0.645 </td><td style=\"text-align: right;\">   3.0689</td><td style=\"text-align: right;\">   6.4179</td><td style=\"text-align: right;\">   7.8819</td><td style=\"text-align: right;\">   1.66  </td><td style=\"text-align: right;\">  10.0574</td><td style=\"text-align: right;\">   6.2029</td><td style=\"text-align: right;\">   1.5205</td><td style=\"text-align: right;\">  10.0629</td><td style=\"text-align: right;\"> -13.7457</td><td style=\"text-align: right;\">  13.591 </td><td style=\"text-align: right;\">  -0.1388</td><td style=\"text-align: right;\">  -3.4657</td><td style=\"text-align: right;\">   7.8754</td><td style=\"text-align: right;\">   2.4698</td><td style=\"text-align: right;\">  -0.0362</td><td style=\"text-align: right;\">  16.7144</td><td style=\"text-align: right;\">   0.1221</td><td style=\"text-align: right;\">  -1.4328</td><td style=\"text-align: right;\">   9.9207</td><td style=\"text-align: right;\">  16.9865</td><td style=\"text-align: right;\">  -3.3304</td><td style=\"text-align: right;\">     0</td></tr>\n",
       "<tr><td>test_9   </td><td style=\"text-align: right;\">10.3811</td><td style=\"text-align: right;\"> -6.9348</td><td style=\"text-align: right;\">14.669 </td><td style=\"text-align: right;\"> 9.0941</td><td style=\"text-align: right;\">11.9058</td><td style=\"text-align: right;\">-10.8018</td><td style=\"text-align: right;\"> 3.4508</td><td style=\"text-align: right;\">20.2816</td><td style=\"text-align: right;\">-1.4112</td><td style=\"text-align: right;\"> 6.7401</td><td style=\"text-align: right;\">  0.3727</td><td style=\"text-align: right;\"> -4.1918</td><td style=\"text-align: right;\"> 14.0862</td><td style=\"text-align: right;\">  0.7104</td><td style=\"text-align: right;\">  8.1878</td><td style=\"text-align: right;\"> 13.7374</td><td style=\"text-align: right;\"> 11.3068</td><td style=\"text-align: right;\">-12.0935</td><td style=\"text-align: right;\">  7.5325</td><td style=\"text-align: right;\"> 10.5814</td><td style=\"text-align: right;\"> 23.2748</td><td style=\"text-align: right;\"> 12.6576</td><td style=\"text-align: right;\">  0.6735</td><td style=\"text-align: right;\">  3.5861</td><td style=\"text-align: right;\"> 14.11  </td><td style=\"text-align: right;\"> 13.4447</td><td style=\"text-align: right;\">-11.4772</td><td style=\"text-align: right;\"> -2.614 </td><td style=\"text-align: right;\">  6.024 </td><td style=\"text-align: right;\">  9.8656</td><td style=\"text-align: right;\"> -6.5061</td><td style=\"text-align: right;\"> 12.4767</td><td style=\"text-align: right;\">  2.5978</td><td style=\"text-align: right;\"> 18.235 </td><td style=\"text-align: right;\"> 11.01  </td><td style=\"text-align: right;\">  0.0708</td><td style=\"text-align: right;\">  3.4443</td><td style=\"text-align: right;\">  6.4965</td><td style=\"text-align: right;\"> 13.2953</td><td style=\"text-align: right;\">  1.8353</td><td style=\"text-align: right;\"> -5.6343</td><td style=\"text-align: right;\"> 13.6108</td><td style=\"text-align: right;\"> 11.8231</td><td style=\"text-align: right;\"> 11.7951</td><td style=\"text-align: right;\"> 15.8002</td><td style=\"text-align: right;\"> -0.5335</td><td style=\"text-align: right;\"> 14.2041</td><td style=\"text-align: right;\">-20.602 </td><td style=\"text-align: right;\"> 38.3319</td><td style=\"text-align: right;\">  8.0352</td><td style=\"text-align: right;\"> 13.5827</td><td style=\"text-align: right;\">  5.5801</td><td style=\"text-align: right;\"> -4.1727</td><td style=\"text-align: right;\">  6.3294</td><td style=\"text-align: right;\">  5.3689</td><td style=\"text-align: right;\"> 10.2188</td><td style=\"text-align: right;\"> 15.8628</td><td style=\"text-align: right;\">  6.2578</td><td style=\"text-align: right;\">  4.6593</td><td style=\"text-align: right;\">  7.4562</td><td style=\"text-align: right;\">  7.3667</td><td style=\"text-align: right;\">-17.1528</td><td style=\"text-align: right;\">  2.6417</td><td style=\"text-align: right;\">  1.4227</td><td style=\"text-align: right;\">  6.6753</td><td style=\"text-align: right;\"> -2.9281</td><td style=\"text-align: right;\">  4.6889</td><td style=\"text-align: right;\"> 17.5416</td><td style=\"text-align: right;\">  5.0212</td><td style=\"text-align: right;\"> -9.7668</td><td style=\"text-align: right;\"> 19.8902</td><td style=\"text-align: right;\">  0.0328</td><td style=\"text-align: right;\">  3.5118</td><td style=\"text-align: right;\"> 23.6165</td><td style=\"text-align: right;\"> -1.1373</td><td style=\"text-align: right;\"> 13.4426</td><td style=\"text-align: right;\">  8.2634</td><td style=\"text-align: right;\"> 14.1471</td><td style=\"text-align: right;\">  5.2196</td><td style=\"text-align: right;\"> 14.8429</td><td style=\"text-align: right;\"> 15.3127</td><td style=\"text-align: right;\"> 15.2616</td><td style=\"text-align: right;\"> 12.1896</td><td style=\"text-align: right;\">  4.6439</td><td style=\"text-align: right;\">-13.252 </td><td style=\"text-align: right;\"> 16.3368</td><td style=\"text-align: right;\">  4.4341</td><td style=\"text-align: right;\">  7.6685</td><td style=\"text-align: right;\"> 11.4737</td><td style=\"text-align: right;\">  9.3179</td><td style=\"text-align: right;\">-32.8776</td><td style=\"text-align: right;\">  7.0579</td><td style=\"text-align: right;\"> 11.8151</td><td style=\"text-align: right;\"> 10.2526</td><td style=\"text-align: right;\">  5.8207</td><td style=\"text-align: right;\">  0.0566</td><td style=\"text-align: right;\"> -2.7721</td><td style=\"text-align: right;\">  5.303 </td><td style=\"text-align: right;\">  2.2158</td><td style=\"text-align: right;\"> -1.3575</td><td style=\"text-align: right;\">  -3.9543</td><td style=\"text-align: right;\">  10.481 </td><td style=\"text-align: right;\">  12.7118</td><td style=\"text-align: right;\">   1.5123</td><td style=\"text-align: right;\">  12.4305</td><td style=\"text-align: right;\">   3.8841</td><td style=\"text-align: right;\">   7.0886</td><td style=\"text-align: right;\">  15.9936</td><td style=\"text-align: right;\">  14.3804</td><td style=\"text-align: right;\">  12.4582</td><td style=\"text-align: right;\">   4.1504</td><td style=\"text-align: right;\">   6.7216</td><td style=\"text-align: right;\">   3.6998</td><td style=\"text-align: right;\">  13.5225</td><td style=\"text-align: right;\">   2.9509</td><td style=\"text-align: right;\">   2.9887</td><td style=\"text-align: right;\">   0.6332</td><td style=\"text-align: right;\">  20.2192</td><td style=\"text-align: right;\"> -18.622 </td><td style=\"text-align: right;\">   0.3258</td><td style=\"text-align: right;\">  30.2615</td><td style=\"text-align: right;\">   9.746 </td><td style=\"text-align: right;\">   4.6129</td><td style=\"text-align: right;\">  13.6191</td><td style=\"text-align: right;\">   1.5284</td><td style=\"text-align: right;\">  12.2526</td><td style=\"text-align: right;\">  11.5584</td><td style=\"text-align: right;\">  -2.9764</td><td style=\"text-align: right;\">  -0.3786</td><td style=\"text-align: right;\">   6.9685</td><td style=\"text-align: right;\">  11.8712</td><td style=\"text-align: right;\">   0.5326</td><td style=\"text-align: right;\">  10.0032</td><td style=\"text-align: right;\">   6.9391</td><td style=\"text-align: right;\">  -1.8714</td><td style=\"text-align: right;\">  -2.2749</td><td style=\"text-align: right;\">  22.5966</td><td style=\"text-align: right;\">  28.7865</td><td style=\"text-align: right;\">   9.026 </td><td style=\"text-align: right;\">  17.8358</td><td style=\"text-align: right;\">  -5.3484</td><td style=\"text-align: right;\">   9.1608</td><td style=\"text-align: right;\">  10.5783</td><td style=\"text-align: right;\">   9.5932</td><td style=\"text-align: right;\">   8.7308</td><td style=\"text-align: right;\">  12.9366</td><td style=\"text-align: right;\">   8.3408</td><td style=\"text-align: right;\"> -14.0287</td><td style=\"text-align: right;\">   4.086 </td><td style=\"text-align: right;\">   7.4515</td><td style=\"text-align: right;\">  13.1249</td><td style=\"text-align: right;\">  11.4577</td><td style=\"text-align: right;\">  10.6152</td><td style=\"text-align: right;\">  18.5312</td><td style=\"text-align: right;\">   6.3598</td><td style=\"text-align: right;\">  -7.0326</td><td style=\"text-align: right;\">  14.4686</td><td style=\"text-align: right;\">  -6.9861</td><td style=\"text-align: right;\">   6.1284</td><td style=\"text-align: right;\">   5.6814</td><td style=\"text-align: right;\">  13.6283</td><td style=\"text-align: right;\">   5.688 </td><td style=\"text-align: right;\">   6.0106</td><td style=\"text-align: right;\">  18.1349</td><td style=\"text-align: right;\">  -9.8056</td><td style=\"text-align: right;\">  15.6642</td><td style=\"text-align: right;\">   2.7786</td><td style=\"text-align: right;\">  -0.7066</td><td style=\"text-align: right;\">   4.8203</td><td style=\"text-align: right;\">   5.5257</td><td style=\"text-align: right;\">  -0.848 </td><td style=\"text-align: right;\"> -12.2675</td><td style=\"text-align: right;\">   9.241 </td><td style=\"text-align: right;\">  -2.8859</td><td style=\"text-align: right;\">  19.9355</td><td style=\"text-align: right;\">  12.2314</td><td style=\"text-align: right;\">  -6.6672</td><td style=\"text-align: right;\">  11.6131</td><td style=\"text-align: right;\">  -6.1622</td><td style=\"text-align: right;\">  -1.2921</td><td style=\"text-align: right;\">  -4.5264</td><td style=\"text-align: right;\">  10.0482</td><td style=\"text-align: right;\">   2.4023</td><td style=\"text-align: right;\">  14.5056</td><td style=\"text-align: right;\">  34.7555</td><td style=\"text-align: right;\">  -7.9347</td><td style=\"text-align: right;\">   3.707 </td><td style=\"text-align: right;\">  10.0144</td><td style=\"text-align: right;\">  15.0549</td><td style=\"text-align: right;\">   2.0603</td><td style=\"text-align: right;\">   1.8052</td><td style=\"text-align: right;\">  11.0723</td><td style=\"text-align: right;\">   0.8907</td><td style=\"text-align: right;\">   4.768 </td><td style=\"text-align: right;\">  15.1425</td><td style=\"text-align: right;\">   0.6075</td><td style=\"text-align: right;\">  -4.4447</td><td style=\"text-align: right;\">   9.5788</td><td style=\"text-align: right;\">  15.8146</td><td style=\"text-align: right;\">   9.3457</td><td style=\"text-align: right;\">     0</td></tr>\n",
       "</tbody>\n",
       "</table>"
      ]
     },
     "metadata": {},
     "output_type": "display_data"
    },
    {
     "data": {
      "text/plain": [
       "<bound method H2OFrame.head of >"
      ]
     },
     "execution_count": 26,
     "metadata": {},
     "output_type": "execute_result"
    }
   ],
   "source": [
    "df_test.head"
   ]
  },
  {
   "cell_type": "markdown",
   "metadata": {},
   "source": [
    "### Create the submission table with two columns(ID_code, targ)"
   ]
  },
  {
   "cell_type": "code",
   "execution_count": 27,
   "metadata": {},
   "outputs": [],
   "source": [
    "submission = df_test[['ID_code', 'targ']]"
   ]
  },
  {
   "cell_type": "code",
   "execution_count": 28,
   "metadata": {},
   "outputs": [
    {
     "data": {
      "text/html": [
       "<table>\n",
       "<thead>\n",
       "<tr><th>ID_code  </th><th style=\"text-align: right;\">  targ</th></tr>\n",
       "</thead>\n",
       "<tbody>\n",
       "<tr><td>test_0   </td><td style=\"text-align: right;\">     0</td></tr>\n",
       "<tr><td>test_1   </td><td style=\"text-align: right;\">     0</td></tr>\n",
       "<tr><td>test_2   </td><td style=\"text-align: right;\">     0</td></tr>\n",
       "<tr><td>test_3   </td><td style=\"text-align: right;\">     0</td></tr>\n",
       "<tr><td>test_4   </td><td style=\"text-align: right;\">     0</td></tr>\n",
       "<tr><td>test_5   </td><td style=\"text-align: right;\">     0</td></tr>\n",
       "<tr><td>test_6   </td><td style=\"text-align: right;\">     0</td></tr>\n",
       "<tr><td>test_7   </td><td style=\"text-align: right;\">     0</td></tr>\n",
       "<tr><td>test_8   </td><td style=\"text-align: right;\">     0</td></tr>\n",
       "<tr><td>test_9   </td><td style=\"text-align: right;\">     0</td></tr>\n",
       "</tbody>\n",
       "</table>"
      ]
     },
     "metadata": {},
     "output_type": "display_data"
    },
    {
     "data": {
      "text/plain": [
       "<bound method H2OFrame.head of >"
      ]
     },
     "execution_count": 28,
     "metadata": {},
     "output_type": "execute_result"
    }
   ],
   "source": [
    "submission.head"
   ]
  },
  {
   "cell_type": "markdown",
   "metadata": {},
   "source": [
    "## Choose some most important features."
   ]
  },
  {
   "cell_type": "code",
   "execution_count": 35,
   "metadata": {},
   "outputs": [
    {
     "name": "stdout",
     "output_type": "stream",
     "text": [
      "StackedEnsemble_BestOfFamily_AutoML_20190224_212548\n",
      "StackedEnsemble_AllModels_AutoML_20190224_212548\n",
      "GLM_grid_1_AutoML_20190224_212548_model_1\n",
      "XRT_1_AutoML_20190224_212548\n",
      "DRF_1_AutoML_20190224_212548\n"
     ]
    }
   ],
   "source": [
    "models_dict={}\n",
    "for m in aml_leaderboard_df['model_id']:\n",
    "     print(m)\n",
    "     models_dict[m]=None"
   ]
  },
  {
   "cell_type": "markdown",
   "metadata": {},
   "source": [
    "Defines the method to get model using the name "
   ]
  },
  {
   "cell_type": "code",
   "execution_count": 36,
   "metadata": {},
   "outputs": [],
   "source": [
    "def get_model_by_algo(algo,models_dict):\n",
    "    mod=None\n",
    "    mod_id=None    \n",
    "    for m in list(models_dict.keys()):\n",
    "        if m[0:3]==algo:\n",
    "            mod_id=m\n",
    "            mod=h2o.get_model(m)      \n",
    "    return mod,mod_id"
   ]
  },
  {
   "cell_type": "code",
   "execution_count": 41,
   "metadata": {},
   "outputs": [],
   "source": [
    "mod,mod_id=get_model_by_algo(\"XRT\",models_dict)"
   ]
  },
  {
   "cell_type": "markdown",
   "metadata": {},
   "source": [
    "### Show the importance of variables in Xtreme Randomized Tree"
   ]
  },
  {
   "cell_type": "code",
   "execution_count": 42,
   "metadata": {},
   "outputs": [
    {
     "name": "stdout",
     "output_type": "stream",
     "text": [
      "XRT_1_AutoML_20190224_212548\n",
      "drf\n"
     ]
    },
    {
     "data": {
      "image/png": "[encoded data removed]",
      "text/plain": [
       "<Figure size 1008x720 with 1 Axes>"
      ]
     },
     "metadata": {},
     "output_type": "display_data"
    }
   ],
   "source": [
    "if mod is not None:\n",
    "  print(mod_id)\n",
    "  print(mod.algo)\n",
    "  mod.varimp_plot()"
   ]
  },
  {
   "cell_type": "markdown",
   "metadata": {},
   "source": [
    "### Create a dictionary with the pair of variable names and its importance value\n",
    "More specifically, the values are the compared numbers in descending."
   ]
  },
  {
   "cell_type": "code",
   "execution_count": 43,
   "metadata": {},
   "outputs": [],
   "source": [
    "varimp={}\n",
    "if mod is not None:\n",
    "  l=mod.varimp()\n",
    "  for v in l:\n",
    "    varimp[v[0]]=v[2]"
   ]
  },
  {
   "cell_type": "code",
   "execution_count": 44,
   "metadata": {},
   "outputs": [
    {
     "data": {
      "text/plain": [
       "{'var_81': 1.0,\n",
       " 'var_12': 0.7803395127565761,\n",
       " 'var_139': 0.7792429416171127,\n",
       " 'var_53': 0.6582857816026966,\n",
       " 'var_26': 0.6522692549982978,\n",
       " 'var_174': 0.6463929958771676,\n",
       " 'var_110': 0.6343455221283741,\n",
       " 'var_109': 0.6024374151337355,\n",
       " 'var_166': 0.5650227694780176,\n",
       " 'var_146': 0.5647523288894776,\n",
       " 'var_99': 0.5547539029468818,\n",
       " 'var_6': 0.5317554711251427,\n",
       " 'var_22': 0.5246354958929748,\n",
       " 'var_80': 0.5094277053404473,\n",
       " 'var_76': 0.4976856697214917,\n",
       " 'var_0': 0.4648578927886096,\n",
       " 'var_198': 0.4536384908172775,\n",
       " 'var_179': 0.4477472010563822,\n",
       " 'var_148': 0.4476591525669837,\n",
       " 'var_190': 0.44725984226813353,\n",
       " 'var_2': 0.44321019412376306,\n",
       " 'var_1': 0.4358441822938176,\n",
       " 'var_165': 0.4354261252929727,\n",
       " 'var_13': 0.43489264850854453,\n",
       " 'var_133': 0.4327161453142286,\n",
       " 'var_21': 0.4305844567211308,\n",
       " 'var_78': 0.4260975611649977,\n",
       " 'var_44': 0.40100812331203417,\n",
       " 'var_170': 0.40098718579723236,\n",
       " 'var_164': 0.40051258364051856,\n",
       " 'var_94': 0.38244012508598246,\n",
       " 'var_40': 0.38118060184456454,\n",
       " 'var_154': 0.37577958271172485,\n",
       " 'var_34': 0.37472411011125,\n",
       " 'var_191': 0.36945035224387485,\n",
       " 'var_33': 0.3679128453622268,\n",
       " 'var_108': 0.36648182862208745,\n",
       " 'var_9': 0.35012682864926464,\n",
       " 'var_123': 0.3478957492574254,\n",
       " 'var_18': 0.34576286819659724,\n",
       " 'var_184': 0.33680871120417166,\n",
       " 'var_177': 0.33123067994288136,\n",
       " 'var_92': 0.32942658719396145,\n",
       " 'var_86': 0.32934644226975307,\n",
       " 'var_115': 0.3281215560561332,\n",
       " 'var_75': 0.3254356750182669,\n",
       " 'var_121': 0.3247620139459933,\n",
       " 'var_169': 0.31930866489205284,\n",
       " 'var_122': 0.3118976166064276,\n",
       " 'var_155': 0.3094819265708322,\n",
       " 'var_147': 0.30665550073162057,\n",
       " 'var_91': 0.3029826169264527,\n",
       " 'var_127': 0.3017097824173462,\n",
       " 'var_119': 0.29891175394920355,\n",
       " 'var_163': 0.2963290075041162,\n",
       " 'var_95': 0.295731359316706,\n",
       " 'var_5': 0.295712723541942,\n",
       " 'var_173': 0.2950227838985575,\n",
       " 'var_188': 0.2944146530878425,\n",
       " 'var_151': 0.29378378219482615,\n",
       " 'var_89': 0.29151737247999676,\n",
       " 'var_67': 0.28727448909968023,\n",
       " 'var_180': 0.2832226778743103,\n",
       " 'var_172': 0.28263881239531935,\n",
       " 'var_131': 0.28096331203863284,\n",
       " 'var_157': 0.2793859268175344,\n",
       " 'var_93': 0.2784348644729919,\n",
       " 'var_197': 0.27682015223875,\n",
       " 'var_141': 0.2760829298632633,\n",
       " 'var_56': 0.27599413261505734,\n",
       " 'var_162': 0.27513397513610494,\n",
       " 'var_145': 0.27493167159904597,\n",
       " 'var_49': 0.2738827991688001,\n",
       " 'var_118': 0.27222940106283816,\n",
       " 'var_36': 0.2716899064761425,\n",
       " 'var_51': 0.2713944240652634,\n",
       " 'var_149': 0.27109408858803946,\n",
       " 'var_32': 0.2708913968056729,\n",
       " 'var_130': 0.26918239642530345,\n",
       " 'var_43': 0.26648883367670856,\n",
       " 'var_135': 0.2657993100104394,\n",
       " 'var_137': 0.2656908231787773,\n",
       " 'var_107': 0.26050422638295473,\n",
       " 'var_167': 0.25846629903163854,\n",
       " 'var_35': 0.25761573675814503,\n",
       " 'var_106': 0.2570604350410691,\n",
       " 'var_111': 0.25675585659726946,\n",
       " 'var_196': 0.2545077498755119,\n",
       " 'var_150': 0.2543242762358708,\n",
       " 'var_71': 0.2539284324129812,\n",
       " 'var_194': 0.25347396354864643,\n",
       " 'var_195': 0.2530884636900232,\n",
       " 'var_192': 0.2525223465679503,\n",
       " 'var_125': 0.25231261090643187,\n",
       " 'var_132': 0.25175647723512545,\n",
       " 'var_90': 0.24921995971344835,\n",
       " 'var_88': 0.24754249039841622,\n",
       " 'var_83': 0.24745979414790084,\n",
       " 'var_128': 0.2464143881936155,\n",
       " 'var_114': 0.24640945193184763,\n",
       " 'var_175': 0.24627880738584562,\n",
       " 'var_105': 0.24416764033043448,\n",
       " 'var_102': 0.24382143644330026,\n",
       " 'var_156': 0.2433042104981753,\n",
       " 'var_85': 0.24216335166183967,\n",
       " 'var_87': 0.24182566143966464,\n",
       " 'var_66': 0.24168311994816594,\n",
       " 'var_28': 0.24033122205535068,\n",
       " 'var_20': 0.2385803466453775,\n",
       " 'var_48': 0.237879508401573,\n",
       " 'var_60': 0.23743141785300567,\n",
       " 'var_136': 0.23549856632100633,\n",
       " 'var_82': 0.23475840437390508,\n",
       " 'var_55': 0.23304954265257402,\n",
       " 'var_116': 0.23274990047054223,\n",
       " 'var_79': 0.23215686962911147,\n",
       " 'var_186': 0.23207747346371055,\n",
       " 'var_69': 0.22982168503122435,\n",
       " 'var_23': 0.22920745322281874,\n",
       " 'var_24': 0.22906510585397383,\n",
       " 'var_16': 0.2289508230745057,\n",
       " 'var_187': 0.2287891327698008,\n",
       " 'var_3': 0.2284716867672355,\n",
       " 'var_37': 0.2281073462778756,\n",
       " 'var_113': 0.2278424659167764,\n",
       " 'var_183': 0.22782640920012703,\n",
       " 'var_171': 0.22769637475389407,\n",
       " 'var_134': 0.227484586938607,\n",
       " 'var_50': 0.22689152836536855,\n",
       " 'var_52': 0.22615462490567026,\n",
       " 'var_70': 0.22609215900886076,\n",
       " 'var_178': 0.22597291223581709,\n",
       " 'var_112': 0.2258298854376839,\n",
       " 'var_15': 0.22543509542348633,\n",
       " 'var_72': 0.2247331756391821,\n",
       " 'var_19': 0.22465925650579888,\n",
       " 'var_97': 0.2246094224473897,\n",
       " 'var_144': 0.22455129657848286,\n",
       " 'var_4': 0.22253731564310228,\n",
       " 'var_168': 0.2221514136732676,\n",
       " 'var_59': 0.21948843910854884,\n",
       " 'var_30': 0.2193534268028365,\n",
       " 'var_143': 0.2193049932007154,\n",
       " 'var_104': 0.21894676757494994,\n",
       " 'var_152': 0.21889099890969624,\n",
       " 'var_176': 0.21852176375628002,\n",
       " 'var_42': 0.2173561542815859,\n",
       " 'var_138': 0.21726964490751385,\n",
       " 'var_47': 0.2162638677064098,\n",
       " 'var_58': 0.21600923424825003,\n",
       " 'var_199': 0.2159368542301933,\n",
       " 'var_181': 0.21571237911289054,\n",
       " 'var_120': 0.21524226950902164,\n",
       " 'var_63': 0.21514333628510696,\n",
       " 'var_68': 0.21505754793803472,\n",
       " 'var_73': 0.21471840179595625,\n",
       " 'var_142': 0.2140001757087335,\n",
       " 'var_54': 0.21344031210929348,\n",
       " 'var_126': 0.21294638088262358,\n",
       " 'var_25': 0.21245319841476112,\n",
       " 'var_117': 0.21204372440839458,\n",
       " 'var_8': 0.211984780451161,\n",
       " 'var_62': 0.21148756300528046,\n",
       " 'var_11': 0.2108964595244838,\n",
       " 'var_161': 0.2106950572711746,\n",
       " 'var_45': 0.21038509885668413,\n",
       " 'var_7': 0.2103202896221253,\n",
       " 'var_101': 0.2097808920967565,\n",
       " 'var_160': 0.2096847181877064,\n",
       " 'var_57': 0.20964410495535235,\n",
       " 'var_39': 0.20944532335786933,\n",
       " 'var_46': 0.20895223795133377,\n",
       " 'var_77': 0.208304173337553,\n",
       " 'var_189': 0.20808337268476843,\n",
       " 'var_14': 0.20779271560842644,\n",
       " 'var_65': 0.20760010433815324,\n",
       " 'var_64': 0.2075634983520096,\n",
       " 'var_158': 0.20661378100013988,\n",
       " 'var_29': 0.20617527179112757,\n",
       " 'var_159': 0.20602050057243998,\n",
       " 'var_41': 0.20590388832112635,\n",
       " 'var_153': 0.20587632290428787,\n",
       " 'var_27': 0.20564727203871716,\n",
       " 'var_96': 0.20515198195347067,\n",
       " 'var_182': 0.20481573378529525,\n",
       " 'var_61': 0.20444021737743845,\n",
       " 'var_100': 0.2030581472778624,\n",
       " 'var_31': 0.20245284511153122,\n",
       " 'var_98': 0.2014394416633139,\n",
       " 'var_193': 0.20140114403690149,\n",
       " 'var_140': 0.1998173943659394,\n",
       " 'var_10': 0.19980935214171086,\n",
       " 'var_74': 0.1997085331548736,\n",
       " 'var_38': 0.19951961021502246,\n",
       " 'var_84': 0.19951793244065755,\n",
       " 'var_103': 0.1994037051248048,\n",
       " 'var_124': 0.19602769032090028,\n",
       " 'var_129': 0.19322848325093103,\n",
       " 'var_185': 0.19183045349603253,\n",
       " 'var_17': 0.19044354419601553}"
      ]
     },
     "execution_count": 44,
     "metadata": {},
     "output_type": "execute_result"
    }
   ],
   "source": [
    "varimp"
   ]
  },
  {
   "cell_type": "markdown",
   "metadata": {},
   "source": [
    "Add penalty term inside the dictionary for the variables not shown in the keys."
   ]
  },
  {
   "cell_type": "code",
   "execution_count": 45,
   "metadata": {},
   "outputs": [],
   "source": [
    "penalty=0.9\n",
    "if mod is not None:\n",
    "  l=mod.varimp()\n",
    "  for v in l:\n",
    "    if v[0] in varimp:   \n",
    "      varimp[v[0]]=((v[2]+varimp[v[0]])/2)\n",
    "    else:   \n",
    "      varimp[v[0]]=(v[2]*penalty)"
   ]
  },
  {
   "cell_type": "code",
   "execution_count": 46,
   "metadata": {},
   "outputs": [
    {
     "data": {
      "text/plain": [
       "{'var_81': 1.0,\n",
       " 'var_12': 0.7803395127565761,\n",
       " 'var_139': 0.7792429416171127,\n",
       " 'var_53': 0.6582857816026966,\n",
       " 'var_26': 0.6522692549982978,\n",
       " 'var_174': 0.6463929958771676,\n",
       " 'var_110': 0.6343455221283741,\n",
       " 'var_109': 0.6024374151337355,\n",
       " 'var_166': 0.5650227694780176,\n",
       " 'var_146': 0.5647523288894776,\n",
       " 'var_99': 0.5547539029468818,\n",
       " 'var_6': 0.5317554711251427,\n",
       " 'var_22': 0.5246354958929748,\n",
       " 'var_80': 0.5094277053404473,\n",
       " 'var_76': 0.4976856697214917,\n",
       " 'var_0': 0.4648578927886096,\n",
       " 'var_198': 0.4536384908172775,\n",
       " 'var_179': 0.4477472010563822,\n",
       " 'var_148': 0.4476591525669837,\n",
       " 'var_190': 0.44725984226813353,\n",
       " 'var_2': 0.44321019412376306,\n",
       " 'var_1': 0.4358441822938176,\n",
       " 'var_165': 0.4354261252929727,\n",
       " 'var_13': 0.43489264850854453,\n",
       " 'var_133': 0.4327161453142286,\n",
       " 'var_21': 0.4305844567211308,\n",
       " 'var_78': 0.4260975611649977,\n",
       " 'var_44': 0.40100812331203417,\n",
       " 'var_170': 0.40098718579723236,\n",
       " 'var_164': 0.40051258364051856,\n",
       " 'var_94': 0.38244012508598246,\n",
       " 'var_40': 0.38118060184456454,\n",
       " 'var_154': 0.37577958271172485,\n",
       " 'var_34': 0.37472411011125,\n",
       " 'var_191': 0.36945035224387485,\n",
       " 'var_33': 0.3679128453622268,\n",
       " 'var_108': 0.36648182862208745,\n",
       " 'var_9': 0.35012682864926464,\n",
       " 'var_123': 0.3478957492574254,\n",
       " 'var_18': 0.34576286819659724,\n",
       " 'var_184': 0.33680871120417166,\n",
       " 'var_177': 0.33123067994288136,\n",
       " 'var_92': 0.32942658719396145,\n",
       " 'var_86': 0.32934644226975307,\n",
       " 'var_115': 0.3281215560561332,\n",
       " 'var_75': 0.3254356750182669,\n",
       " 'var_121': 0.3247620139459933,\n",
       " 'var_169': 0.31930866489205284,\n",
       " 'var_122': 0.3118976166064276,\n",
       " 'var_155': 0.3094819265708322,\n",
       " 'var_147': 0.30665550073162057,\n",
       " 'var_91': 0.3029826169264527,\n",
       " 'var_127': 0.3017097824173462,\n",
       " 'var_119': 0.29891175394920355,\n",
       " 'var_163': 0.2963290075041162,\n",
       " 'var_95': 0.295731359316706,\n",
       " 'var_5': 0.295712723541942,\n",
       " 'var_173': 0.2950227838985575,\n",
       " 'var_188': 0.2944146530878425,\n",
       " 'var_151': 0.29378378219482615,\n",
       " 'var_89': 0.29151737247999676,\n",
       " 'var_67': 0.28727448909968023,\n",
       " 'var_180': 0.2832226778743103,\n",
       " 'var_172': 0.28263881239531935,\n",
       " 'var_131': 0.28096331203863284,\n",
       " 'var_157': 0.2793859268175344,\n",
       " 'var_93': 0.2784348644729919,\n",
       " 'var_197': 0.27682015223875,\n",
       " 'var_141': 0.2760829298632633,\n",
       " 'var_56': 0.27599413261505734,\n",
       " 'var_162': 0.27513397513610494,\n",
       " 'var_145': 0.27493167159904597,\n",
       " 'var_49': 0.2738827991688001,\n",
       " 'var_118': 0.27222940106283816,\n",
       " 'var_36': 0.2716899064761425,\n",
       " 'var_51': 0.2713944240652634,\n",
       " 'var_149': 0.27109408858803946,\n",
       " 'var_32': 0.2708913968056729,\n",
       " 'var_130': 0.26918239642530345,\n",
       " 'var_43': 0.26648883367670856,\n",
       " 'var_135': 0.2657993100104394,\n",
       " 'var_137': 0.2656908231787773,\n",
       " 'var_107': 0.26050422638295473,\n",
       " 'var_167': 0.25846629903163854,\n",
       " 'var_35': 0.25761573675814503,\n",
       " 'var_106': 0.2570604350410691,\n",
       " 'var_111': 0.25675585659726946,\n",
       " 'var_196': 0.2545077498755119,\n",
       " 'var_150': 0.2543242762358708,\n",
       " 'var_71': 0.2539284324129812,\n",
       " 'var_194': 0.25347396354864643,\n",
       " 'var_195': 0.2530884636900232,\n",
       " 'var_192': 0.2525223465679503,\n",
       " 'var_125': 0.25231261090643187,\n",
       " 'var_132': 0.25175647723512545,\n",
       " 'var_90': 0.24921995971344835,\n",
       " 'var_88': 0.24754249039841622,\n",
       " 'var_83': 0.24745979414790084,\n",
       " 'var_128': 0.2464143881936155,\n",
       " 'var_114': 0.24640945193184763,\n",
       " 'var_175': 0.24627880738584562,\n",
       " 'var_105': 0.24416764033043448,\n",
       " 'var_102': 0.24382143644330026,\n",
       " 'var_156': 0.2433042104981753,\n",
       " 'var_85': 0.24216335166183967,\n",
       " 'var_87': 0.24182566143966464,\n",
       " 'var_66': 0.24168311994816594,\n",
       " 'var_28': 0.24033122205535068,\n",
       " 'var_20': 0.2385803466453775,\n",
       " 'var_48': 0.237879508401573,\n",
       " 'var_60': 0.23743141785300567,\n",
       " 'var_136': 0.23549856632100633,\n",
       " 'var_82': 0.23475840437390508,\n",
       " 'var_55': 0.23304954265257402,\n",
       " 'var_116': 0.23274990047054223,\n",
       " 'var_79': 0.23215686962911147,\n",
       " 'var_186': 0.23207747346371055,\n",
       " 'var_69': 0.22982168503122435,\n",
       " 'var_23': 0.22920745322281874,\n",
       " 'var_24': 0.22906510585397383,\n",
       " 'var_16': 0.2289508230745057,\n",
       " 'var_187': 0.2287891327698008,\n",
       " 'var_3': 0.2284716867672355,\n",
       " 'var_37': 0.2281073462778756,\n",
       " 'var_113': 0.2278424659167764,\n",
       " 'var_183': 0.22782640920012703,\n",
       " 'var_171': 0.22769637475389407,\n",
       " 'var_134': 0.227484586938607,\n",
       " 'var_50': 0.22689152836536855,\n",
       " 'var_52': 0.22615462490567026,\n",
       " 'var_70': 0.22609215900886076,\n",
       " 'var_178': 0.22597291223581709,\n",
       " 'var_112': 0.2258298854376839,\n",
       " 'var_15': 0.22543509542348633,\n",
       " 'var_72': 0.2247331756391821,\n",
       " 'var_19': 0.22465925650579888,\n",
       " 'var_97': 0.2246094224473897,\n",
       " 'var_144': 0.22455129657848286,\n",
       " 'var_4': 0.22253731564310228,\n",
       " 'var_168': 0.2221514136732676,\n",
       " 'var_59': 0.21948843910854884,\n",
       " 'var_30': 0.2193534268028365,\n",
       " 'var_143': 0.2193049932007154,\n",
       " 'var_104': 0.21894676757494994,\n",
       " 'var_152': 0.21889099890969624,\n",
       " 'var_176': 0.21852176375628002,\n",
       " 'var_42': 0.2173561542815859,\n",
       " 'var_138': 0.21726964490751385,\n",
       " 'var_47': 0.2162638677064098,\n",
       " 'var_58': 0.21600923424825003,\n",
       " 'var_199': 0.2159368542301933,\n",
       " 'var_181': 0.21571237911289054,\n",
       " 'var_120': 0.21524226950902164,\n",
       " 'var_63': 0.21514333628510696,\n",
       " 'var_68': 0.21505754793803472,\n",
       " 'var_73': 0.21471840179595625,\n",
       " 'var_142': 0.2140001757087335,\n",
       " 'var_54': 0.21344031210929348,\n",
       " 'var_126': 0.21294638088262358,\n",
       " 'var_25': 0.21245319841476112,\n",
       " 'var_117': 0.21204372440839458,\n",
       " 'var_8': 0.211984780451161,\n",
       " 'var_62': 0.21148756300528046,\n",
       " 'var_11': 0.2108964595244838,\n",
       " 'var_161': 0.2106950572711746,\n",
       " 'var_45': 0.21038509885668413,\n",
       " 'var_7': 0.2103202896221253,\n",
       " 'var_101': 0.2097808920967565,\n",
       " 'var_160': 0.2096847181877064,\n",
       " 'var_57': 0.20964410495535235,\n",
       " 'var_39': 0.20944532335786933,\n",
       " 'var_46': 0.20895223795133377,\n",
       " 'var_77': 0.208304173337553,\n",
       " 'var_189': 0.20808337268476843,\n",
       " 'var_14': 0.20779271560842644,\n",
       " 'var_65': 0.20760010433815324,\n",
       " 'var_64': 0.2075634983520096,\n",
       " 'var_158': 0.20661378100013988,\n",
       " 'var_29': 0.20617527179112757,\n",
       " 'var_159': 0.20602050057243998,\n",
       " 'var_41': 0.20590388832112635,\n",
       " 'var_153': 0.20587632290428787,\n",
       " 'var_27': 0.20564727203871716,\n",
       " 'var_96': 0.20515198195347067,\n",
       " 'var_182': 0.20481573378529525,\n",
       " 'var_61': 0.20444021737743845,\n",
       " 'var_100': 0.2030581472778624,\n",
       " 'var_31': 0.20245284511153122,\n",
       " 'var_98': 0.2014394416633139,\n",
       " 'var_193': 0.20140114403690149,\n",
       " 'var_140': 0.1998173943659394,\n",
       " 'var_10': 0.19980935214171086,\n",
       " 'var_74': 0.1997085331548736,\n",
       " 'var_38': 0.19951961021502246,\n",
       " 'var_84': 0.19951793244065755,\n",
       " 'var_103': 0.1994037051248048,\n",
       " 'var_124': 0.19602769032090028,\n",
       " 'var_129': 0.19322848325093103,\n",
       " 'var_185': 0.19183045349603253,\n",
       " 'var_17': 0.19044354419601553}"
      ]
     },
     "execution_count": 46,
     "metadata": {},
     "output_type": "execute_result"
    }
   ],
   "source": [
    "varimp"
   ]
  },
  {
   "cell_type": "markdown",
   "metadata": {},
   "source": [
    "### Get all vatiable names"
   ]
  },
  {
   "cell_type": "code",
   "execution_count": 51,
   "metadata": {},
   "outputs": [],
   "source": [
    "def get_variable_names(df):\n",
    "    d={}\n",
    "    n={} \n",
    "    e={}    \n",
    "    for key, val in df.types.items():\n",
    "      if val in ['real','int','enum']:\n",
    "         d[key]=val\n",
    "      if val in ['real','int']:\n",
    "         n[key]=val            \n",
    "      if val in ['enum']:\n",
    "         e[key]=val            \n",
    "    return  d,n, e"
   ]
  },
  {
   "cell_type": "code",
   "execution_count": 53,
   "metadata": {},
   "outputs": [
    {
     "name": "stdout",
     "output_type": "stream",
     "text": [
      "{'target': 'enum', 'var_0': 'real', 'var_1': 'real', 'var_2': 'real', 'var_3': 'real', 'var_4': 'real', 'var_5': 'real', 'var_6': 'real', 'var_7': 'real', 'var_8': 'real', 'var_9': 'real', 'var_10': 'real', 'var_11': 'real', 'var_12': 'real', 'var_13': 'real', 'var_14': 'real', 'var_15': 'real', 'var_16': 'real', 'var_17': 'real', 'var_18': 'real', 'var_19': 'real', 'var_20': 'real', 'var_21': 'real', 'var_22': 'real', 'var_23': 'real', 'var_24': 'real', 'var_25': 'real', 'var_26': 'real', 'var_27': 'real', 'var_28': 'real', 'var_29': 'real', 'var_30': 'real', 'var_31': 'real', 'var_32': 'real', 'var_33': 'real', 'var_34': 'real', 'var_35': 'real', 'var_36': 'real', 'var_37': 'real', 'var_38': 'real', 'var_39': 'real', 'var_40': 'real', 'var_41': 'real', 'var_42': 'real', 'var_43': 'real', 'var_44': 'real', 'var_45': 'real', 'var_46': 'real', 'var_47': 'real', 'var_48': 'real', 'var_49': 'real', 'var_50': 'real', 'var_51': 'real', 'var_52': 'real', 'var_53': 'real', 'var_54': 'real', 'var_55': 'real', 'var_56': 'real', 'var_57': 'real', 'var_58': 'real', 'var_59': 'real', 'var_60': 'real', 'var_61': 'real', 'var_62': 'real', 'var_63': 'real', 'var_64': 'real', 'var_65': 'real', 'var_66': 'real', 'var_67': 'real', 'var_68': 'real', 'var_69': 'real', 'var_70': 'real', 'var_71': 'real', 'var_72': 'real', 'var_73': 'real', 'var_74': 'real', 'var_75': 'real', 'var_76': 'real', 'var_77': 'real', 'var_78': 'real', 'var_79': 'real', 'var_80': 'real', 'var_81': 'real', 'var_82': 'real', 'var_83': 'real', 'var_84': 'real', 'var_85': 'real', 'var_86': 'real', 'var_87': 'real', 'var_88': 'real', 'var_89': 'real', 'var_90': 'real', 'var_91': 'real', 'var_92': 'real', 'var_93': 'real', 'var_94': 'real', 'var_95': 'real', 'var_96': 'real', 'var_97': 'real', 'var_98': 'real', 'var_99': 'real', 'var_100': 'real', 'var_101': 'real', 'var_102': 'real', 'var_103': 'real', 'var_104': 'real', 'var_105': 'real', 'var_106': 'real', 'var_107': 'real', 'var_108': 'real', 'var_109': 'real', 'var_110': 'real', 'var_111': 'real', 'var_112': 'real', 'var_113': 'real', 'var_114': 'real', 'var_115': 'real', 'var_116': 'real', 'var_117': 'real', 'var_118': 'real', 'var_119': 'real', 'var_120': 'real', 'var_121': 'real', 'var_122': 'real', 'var_123': 'real', 'var_124': 'real', 'var_125': 'real', 'var_126': 'real', 'var_127': 'real', 'var_128': 'real', 'var_129': 'real', 'var_130': 'real', 'var_131': 'real', 'var_132': 'real', 'var_133': 'real', 'var_134': 'real', 'var_135': 'real', 'var_136': 'real', 'var_137': 'real', 'var_138': 'real', 'var_139': 'real', 'var_140': 'real', 'var_141': 'real', 'var_142': 'real', 'var_143': 'real', 'var_144': 'real', 'var_145': 'real', 'var_146': 'real', 'var_147': 'real', 'var_148': 'real', 'var_149': 'real', 'var_150': 'real', 'var_151': 'real', 'var_152': 'real', 'var_153': 'real', 'var_154': 'real', 'var_155': 'real', 'var_156': 'real', 'var_157': 'real', 'var_158': 'real', 'var_159': 'real', 'var_160': 'real', 'var_161': 'real', 'var_162': 'real', 'var_163': 'real', 'var_164': 'real', 'var_165': 'real', 'var_166': 'real', 'var_167': 'real', 'var_168': 'real', 'var_169': 'real', 'var_170': 'real', 'var_171': 'real', 'var_172': 'real', 'var_173': 'real', 'var_174': 'real', 'var_175': 'real', 'var_176': 'real', 'var_177': 'real', 'var_178': 'real', 'var_179': 'real', 'var_180': 'real', 'var_181': 'real', 'var_182': 'real', 'var_183': 'real', 'var_184': 'real', 'var_185': 'real', 'var_186': 'real', 'var_187': 'real', 'var_188': 'real', 'var_189': 'real', 'var_190': 'real', 'var_191': 'real', 'var_192': 'real', 'var_193': 'real', 'var_194': 'real', 'var_195': 'real', 'var_196': 'real', 'var_197': 'real', 'var_198': 'real', 'var_199': 'real'}\n"
     ]
    }
   ],
   "source": [
    "v,ir,e=get_variable_names(df_train)\n",
    "print(v)"
   ]
  },
  {
   "cell_type": "code",
   "execution_count": 54,
   "metadata": {},
   "outputs": [
    {
     "data": {
      "text/plain": [
       "['target',\n",
       " 'var_0',\n",
       " 'var_1',\n",
       " 'var_2',\n",
       " 'var_3',\n",
       " 'var_4',\n",
       " 'var_5',\n",
       " 'var_6',\n",
       " 'var_7',\n",
       " 'var_8',\n",
       " 'var_9',\n",
       " 'var_10',\n",
       " 'var_11',\n",
       " 'var_12',\n",
       " 'var_13',\n",
       " 'var_14',\n",
       " 'var_15',\n",
       " 'var_16',\n",
       " 'var_17',\n",
       " 'var_18',\n",
       " 'var_19',\n",
       " 'var_20',\n",
       " 'var_21',\n",
       " 'var_22',\n",
       " 'var_23',\n",
       " 'var_24',\n",
       " 'var_25',\n",
       " 'var_26',\n",
       " 'var_27',\n",
       " 'var_28',\n",
       " 'var_29',\n",
       " 'var_30',\n",
       " 'var_31',\n",
       " 'var_32',\n",
       " 'var_33',\n",
       " 'var_34',\n",
       " 'var_35',\n",
       " 'var_36',\n",
       " 'var_37',\n",
       " 'var_38',\n",
       " 'var_39',\n",
       " 'var_40',\n",
       " 'var_41',\n",
       " 'var_42',\n",
       " 'var_43',\n",
       " 'var_44',\n",
       " 'var_45',\n",
       " 'var_46',\n",
       " 'var_47',\n",
       " 'var_48',\n",
       " 'var_49',\n",
       " 'var_50',\n",
       " 'var_51',\n",
       " 'var_52',\n",
       " 'var_53',\n",
       " 'var_54',\n",
       " 'var_55',\n",
       " 'var_56',\n",
       " 'var_57',\n",
       " 'var_58',\n",
       " 'var_59',\n",
       " 'var_60',\n",
       " 'var_61',\n",
       " 'var_62',\n",
       " 'var_63',\n",
       " 'var_64',\n",
       " 'var_65',\n",
       " 'var_66',\n",
       " 'var_67',\n",
       " 'var_68',\n",
       " 'var_69',\n",
       " 'var_70',\n",
       " 'var_71',\n",
       " 'var_72',\n",
       " 'var_73',\n",
       " 'var_74',\n",
       " 'var_75',\n",
       " 'var_76',\n",
       " 'var_77',\n",
       " 'var_78',\n",
       " 'var_79',\n",
       " 'var_80',\n",
       " 'var_81',\n",
       " 'var_82',\n",
       " 'var_83',\n",
       " 'var_84',\n",
       " 'var_85',\n",
       " 'var_86',\n",
       " 'var_87',\n",
       " 'var_88',\n",
       " 'var_89',\n",
       " 'var_90',\n",
       " 'var_91',\n",
       " 'var_92',\n",
       " 'var_93',\n",
       " 'var_94',\n",
       " 'var_95',\n",
       " 'var_96',\n",
       " 'var_97',\n",
       " 'var_98',\n",
       " 'var_99',\n",
       " 'var_100',\n",
       " 'var_101',\n",
       " 'var_102',\n",
       " 'var_103',\n",
       " 'var_104',\n",
       " 'var_105',\n",
       " 'var_106',\n",
       " 'var_107',\n",
       " 'var_108',\n",
       " 'var_109',\n",
       " 'var_110',\n",
       " 'var_111',\n",
       " 'var_112',\n",
       " 'var_113',\n",
       " 'var_114',\n",
       " 'var_115',\n",
       " 'var_116',\n",
       " 'var_117',\n",
       " 'var_118',\n",
       " 'var_119',\n",
       " 'var_120',\n",
       " 'var_121',\n",
       " 'var_122',\n",
       " 'var_123',\n",
       " 'var_124',\n",
       " 'var_125',\n",
       " 'var_126',\n",
       " 'var_127',\n",
       " 'var_128',\n",
       " 'var_129',\n",
       " 'var_130',\n",
       " 'var_131',\n",
       " 'var_132',\n",
       " 'var_133',\n",
       " 'var_134',\n",
       " 'var_135',\n",
       " 'var_136',\n",
       " 'var_137',\n",
       " 'var_138',\n",
       " 'var_139',\n",
       " 'var_140',\n",
       " 'var_141',\n",
       " 'var_142',\n",
       " 'var_143',\n",
       " 'var_144',\n",
       " 'var_145',\n",
       " 'var_146',\n",
       " 'var_147',\n",
       " 'var_148',\n",
       " 'var_149',\n",
       " 'var_150',\n",
       " 'var_151',\n",
       " 'var_152',\n",
       " 'var_153',\n",
       " 'var_154',\n",
       " 'var_155',\n",
       " 'var_156',\n",
       " 'var_157',\n",
       " 'var_158',\n",
       " 'var_159',\n",
       " 'var_160',\n",
       " 'var_161',\n",
       " 'var_162',\n",
       " 'var_163',\n",
       " 'var_164',\n",
       " 'var_165',\n",
       " 'var_166',\n",
       " 'var_167',\n",
       " 'var_168',\n",
       " 'var_169',\n",
       " 'var_170',\n",
       " 'var_171',\n",
       " 'var_172',\n",
       " 'var_173',\n",
       " 'var_174',\n",
       " 'var_175',\n",
       " 'var_176',\n",
       " 'var_177',\n",
       " 'var_178',\n",
       " 'var_179',\n",
       " 'var_180',\n",
       " 'var_181',\n",
       " 'var_182',\n",
       " 'var_183',\n",
       " 'var_184',\n",
       " 'var_185',\n",
       " 'var_186',\n",
       " 'var_187',\n",
       " 'var_188',\n",
       " 'var_189',\n",
       " 'var_190',\n",
       " 'var_191',\n",
       " 'var_192',\n",
       " 'var_193',\n",
       " 'var_194',\n",
       " 'var_195',\n",
       " 'var_196',\n",
       " 'var_197',\n",
       " 'var_198',\n",
       " 'var_199']"
      ]
     },
     "execution_count": 54,
     "metadata": {},
     "output_type": "execute_result"
    }
   ],
   "source": [
    "list(v.keys())"
   ]
  },
  {
   "cell_type": "markdown",
   "metadata": {},
   "source": [
    "Filter the variables with the threshold of 0.3"
   ]
  },
  {
   "cell_type": "code",
   "execution_count": 58,
   "metadata": {},
   "outputs": [],
   "source": [
    "def feature_selection(d,l, thresh=0.3):  # the threshold needed to be decide.\n",
    "    iv=[]\n",
    "    for key in d.keys():\n",
    "      if d[key]>thresh:\n",
    "        iv.append(key)\n",
    "    for v in iv:\n",
    "        if v not in l:\n",
    "            iv.remove(v)\n",
    "    return iv"
   ]
  },
  {
   "cell_type": "code",
   "execution_count": 59,
   "metadata": {},
   "outputs": [
    {
     "name": "stdout",
     "output_type": "stream",
     "text": [
      "['var_81', 'var_12', 'var_139', 'var_53', 'var_26', 'var_174', 'var_110', 'var_109', 'var_166', 'var_146', 'var_99', 'var_6', 'var_22', 'var_80', 'var_76', 'var_0', 'var_198', 'var_179', 'var_148', 'var_190', 'var_2', 'var_1', 'var_165', 'var_13', 'var_133', 'var_21', 'var_78', 'var_44', 'var_170', 'var_164', 'var_94', 'var_40', 'var_154', 'var_34', 'var_191', 'var_33', 'var_108', 'var_9', 'var_123', 'var_18', 'var_184', 'var_177', 'var_92', 'var_86', 'var_115', 'var_75', 'var_121', 'var_169', 'var_122', 'var_155', 'var_147', 'var_91', 'var_127']\n"
     ]
    }
   ],
   "source": [
    "X=feature_selection(varimp,list(v.keys()))\n",
    "print(X)"
   ]
  },
  {
   "cell_type": "code",
   "execution_count": 60,
   "metadata": {},
   "outputs": [
    {
     "data": {
      "text/plain": [
       "53"
      ]
     },
     "execution_count": 60,
     "metadata": {},
     "output_type": "execute_result"
    }
   ],
   "source": [
    "len(X)"
   ]
  },
  {
   "cell_type": "markdown",
   "metadata": {},
   "source": [
    "### Train the model after filtering the features."
   ]
  },
  {
   "cell_type": "code",
   "execution_count": 61,
   "metadata": {},
   "outputs": [
    {
     "name": "stdout",
     "output_type": "stream",
     "text": [
      "AutoML progress: |████████████████████████████████████████████████████████| 100%\n"
     ]
    }
   ],
   "source": [
    "# automl\n",
    "# runs for run_time seconds then builds a stacked ensemble\n",
    "aml = H2OAutoML(max_runtime_secs=run_time,project_name = project) # init automl, run for 300 seconds\n",
    "aml.train(x=X,  \n",
    "           y=y,\n",
    "           training_frame=df_train)"
   ]
  },
  {
   "cell_type": "code",
   "execution_count": 62,
   "metadata": {},
   "outputs": [
    {
     "data": {
      "text/html": [
       "<table>\n",
       "<thead>\n",
       "<tr><th>model_id                                           </th><th style=\"text-align: right;\">     auc</th><th style=\"text-align: right;\">  logloss</th><th style=\"text-align: right;\">  mean_per_class_error</th><th style=\"text-align: right;\">    rmse</th><th style=\"text-align: right;\">      mse</th></tr>\n",
       "</thead>\n",
       "<tbody>\n",
       "<tr><td>StackedEnsemble_BestOfFamily_AutoML_20190224_212548</td><td style=\"text-align: right;\">0.872329</td><td style=\"text-align: right;\"> 0.224509</td><td style=\"text-align: right;\">              0.256929</td><td style=\"text-align: right;\">0.252008</td><td style=\"text-align: right;\">0.063508 </td></tr>\n",
       "<tr><td>StackedEnsemble_AllModels_AutoML_20190224_212548   </td><td style=\"text-align: right;\">0.872329</td><td style=\"text-align: right;\"> 0.224509</td><td style=\"text-align: right;\">              0.256929</td><td style=\"text-align: right;\">0.252008</td><td style=\"text-align: right;\">0.063508 </td></tr>\n",
       "<tr><td>GLM_grid_1_AutoML_20190224_212548_model_1          </td><td style=\"text-align: right;\">0.859378</td><td style=\"text-align: right;\"> 0.232107</td><td style=\"text-align: right;\">              0.270732</td><td style=\"text-align: right;\">0.258029</td><td style=\"text-align: right;\">0.0665789</td></tr>\n",
       "<tr><td>GLM_grid_1_AutoML_20190224_220755_model_1          </td><td style=\"text-align: right;\">0.809237</td><td style=\"text-align: right;\"> 0.260007</td><td style=\"text-align: right;\">              0.308009</td><td style=\"text-align: right;\">0.272298</td><td style=\"text-align: right;\">0.0741462</td></tr>\n",
       "<tr><td>XRT_1_AutoML_20190224_212548                       </td><td style=\"text-align: right;\">0.805302</td><td style=\"text-align: right;\"> 0.279015</td><td style=\"text-align: right;\">              0.31685 </td><td style=\"text-align: right;\">0.282503</td><td style=\"text-align: right;\">0.0798079</td></tr>\n",
       "<tr><td>DRF_1_AutoML_20190224_212548                       </td><td style=\"text-align: right;\">0.802965</td><td style=\"text-align: right;\"> 0.278544</td><td style=\"text-align: right;\">              0.314142</td><td style=\"text-align: right;\">0.282269</td><td style=\"text-align: right;\">0.0796759</td></tr>\n",
       "<tr><td>DRF_1_AutoML_20190224_220755                       </td><td style=\"text-align: right;\">0.7983  </td><td style=\"text-align: right;\"> 0.273252</td><td style=\"text-align: right;\">              0.319452</td><td style=\"text-align: right;\">0.279364</td><td style=\"text-align: right;\">0.0780443</td></tr>\n",
       "<tr><td>XRT_1_AutoML_20190224_220755                       </td><td style=\"text-align: right;\">0.797507</td><td style=\"text-align: right;\"> 0.273879</td><td style=\"text-align: right;\">              0.308665</td><td style=\"text-align: right;\">0.279664</td><td style=\"text-align: right;\">0.0782118</td></tr>\n",
       "</tbody>\n",
       "</table>"
      ]
     },
     "metadata": {},
     "output_type": "display_data"
    },
    {
     "data": {
      "text/plain": []
     },
     "execution_count": 62,
     "metadata": {},
     "output_type": "execute_result"
    }
   ],
   "source": [
    "aml.leaderboard"
   ]
  },
  {
   "cell_type": "markdown",
   "metadata": {},
   "source": [
    "### DRF model"
   ]
  },
  {
   "cell_type": "code",
   "execution_count": 63,
   "metadata": {},
   "outputs": [],
   "source": [
    "mod,mod_id=get_model_by_algo(\"DRF\",models_dict)"
   ]
  },
  {
   "cell_type": "code",
   "execution_count": 64,
   "metadata": {},
   "outputs": [
    {
     "name": "stdout",
     "output_type": "stream",
     "text": [
      "DRF_1_AutoML_20190224_212548\n",
      "drf\n"
     ]
    },
    {
     "data": {
      "image/png": "[encoded data removed]",
      "text/plain": [
       "<Figure size 1008x720 with 1 Axes>"
      ]
     },
     "metadata": {},
     "output_type": "display_data"
    }
   ],
   "source": [
    "if mod is not None:\n",
    "  print(mod_id)\n",
    "  print(mod.algo)\n",
    "  mod.varimp_plot()"
   ]
  },
  {
   "cell_type": "code",
   "execution_count": 67,
   "metadata": {},
   "outputs": [],
   "source": [
    "varimp={}\n",
    "if mod is not None:\n",
    "  l=mod.varimp()\n",
    "  for v in l:\n",
    "    varimp[v[0]]=v[2]"
   ]
  },
  {
   "cell_type": "code",
   "execution_count": 70,
   "metadata": {},
   "outputs": [],
   "source": [
    "penalty=0.9\n",
    "if mod is not None:\n",
    "  l=mod.varimp()\n",
    "  for v in l:\n",
    "    if v[0] in varimp:   \n",
    "      varimp[v[0]]=((v[2]+varimp[v[0]])/2)\n",
    "    else:   \n",
    "      varimp[v[0]]=(v[2]*penalty)\n",
    "   "
   ]
  },
  {
   "cell_type": "code",
   "execution_count": 71,
   "metadata": {},
   "outputs": [
    {
     "data": {
      "text/plain": [
       "{'var_81': 1.0,\n",
       " 'var_12': 0.7477416517324695,\n",
       " 'var_53': 0.738629789976947,\n",
       " 'var_139': 0.714923933103008,\n",
       " 'var_110': 0.6170208791366699,\n",
       " 'var_174': 0.587800043930147,\n",
       " 'var_26': 0.5835196772160604,\n",
       " 'var_109': 0.5468575575248852,\n",
       " 'var_146': 0.5419133118609344,\n",
       " 'var_22': 0.5318395030556086,\n",
       " 'var_166': 0.5257084249400066,\n",
       " 'var_80': 0.5215857140804332,\n",
       " 'var_6': 0.5191850033974016,\n",
       " 'var_76': 0.47394531723108696,\n",
       " 'var_99': 0.46293855732576256,\n",
       " 'var_165': 0.44635656909657856,\n",
       " 'var_133': 0.43796955476590776,\n",
       " 'var_78': 0.42913212812822676,\n",
       " 'var_2': 0.4285207754697344,\n",
       " 'var_179': 0.41875822407248886,\n",
       " 'var_198': 0.414943588764557,\n",
       " 'var_148': 0.4086152612098855,\n",
       " 'var_0': 0.3931103827054812,\n",
       " 'var_13': 0.39222641679855974,\n",
       " 'var_164': 0.39119975489441366,\n",
       " 'var_190': 0.3889730455703426,\n",
       " 'var_94': 0.3861132237953594,\n",
       " 'var_44': 0.38538960805687106,\n",
       " 'var_1': 0.385164850955686,\n",
       " 'var_21': 0.3778898441300907,\n",
       " 'var_34': 0.3720318411453041,\n",
       " 'var_170': 0.3693881546669623,\n",
       " 'var_177': 0.3682132285168238,\n",
       " 'var_154': 0.35388653499939443,\n",
       " 'var_191': 0.3537368081258455,\n",
       " 'var_108': 0.351693902331377,\n",
       " 'var_40': 0.35055772298142,\n",
       " 'var_33': 0.34153649281413645,\n",
       " 'var_9': 0.33320177383364435,\n",
       " 'var_92': 0.32404126046676807,\n",
       " 'var_115': 0.3197991786704767,\n",
       " 'var_18': 0.31481564734356043,\n",
       " 'var_123': 0.31472794101043444,\n",
       " 'var_184': 0.30514598562622014,\n",
       " 'var_75': 0.29678678687925575,\n",
       " 'var_89': 0.29593212484372977,\n",
       " 'var_169': 0.29568332419832616,\n",
       " 'var_121': 0.29535618316818474,\n",
       " 'var_86': 0.28857408182913635,\n",
       " 'var_91': 0.28685269749577635,\n",
       " 'var_130': 0.28423536397358445,\n",
       " 'var_147': 0.28320739340267725,\n",
       " 'var_127': 0.28260260973812296,\n",
       " 'var_93': 0.2821324647891661,\n",
       " 'var_188': 0.2790611522015367,\n",
       " 'var_155': 0.27568222594465214,\n",
       " 'var_119': 0.27561335414883287,\n",
       " 'var_122': 0.2749995894378789,\n",
       " 'var_173': 0.27369464339600563,\n",
       " 'var_95': 0.27162415295902387,\n",
       " 'var_197': 0.2710823392597976,\n",
       " 'var_107': 0.2696752145700286,\n",
       " 'var_5': 0.2684207420089215,\n",
       " 'var_163': 0.2668162652395527,\n",
       " 'var_118': 0.26410745334474695,\n",
       " 'var_67': 0.26200660697093425,\n",
       " 'var_36': 0.2609652674709579,\n",
       " 'var_43': 0.25794696871721917,\n",
       " 'var_49': 0.257294559846614,\n",
       " 'var_135': 0.2568617760506798,\n",
       " 'var_125': 0.25624300761387453,\n",
       " 'var_51': 0.25518226905367486,\n",
       " 'var_180': 0.2551422135867323,\n",
       " 'var_35': 0.25448782888591914,\n",
       " 'var_145': 0.2541857578052991,\n",
       " 'var_56': 0.25322316925218163,\n",
       " 'var_172': 0.25232234463816133,\n",
       " 'var_151': 0.2500703087632432,\n",
       " 'var_149': 0.24983631401433273,\n",
       " 'var_141': 0.2495799949500859,\n",
       " 'var_157': 0.24784465150460752,\n",
       " 'var_131': 0.24581809121458645,\n",
       " 'var_32': 0.24399152599781992,\n",
       " 'var_196': 0.24382627474406585,\n",
       " 'var_87': 0.24193153055505945,\n",
       " 'var_88': 0.23967187362076786,\n",
       " 'var_83': 0.23966858912379885,\n",
       " 'var_85': 0.23824352800136306,\n",
       " 'var_162': 0.23695621047056578,\n",
       " 'var_195': 0.23601163533051278,\n",
       " 'var_114': 0.23569383458862703,\n",
       " 'var_111': 0.23551262273241408,\n",
       " 'var_106': 0.2347571114491406,\n",
       " 'var_132': 0.23361751930155172,\n",
       " 'var_48': 0.22843309479674095,\n",
       " 'var_137': 0.2276317801768291,\n",
       " 'var_192': 0.22715909487474775,\n",
       " 'var_150': 0.22680139262671486,\n",
       " 'var_90': 0.22491506496119162,\n",
       " 'var_186': 0.22447509632813767,\n",
       " 'var_194': 0.22421490258387272,\n",
       " 'var_71': 0.2231191122825817,\n",
       " 'var_55': 0.22289343141662407,\n",
       " 'var_23': 0.22282307133311574,\n",
       " 'var_102': 0.2222067406089047,\n",
       " 'var_128': 0.22054760775716073,\n",
       " 'var_105': 0.2205287475597214,\n",
       " 'var_82': 0.22011115456226893,\n",
       " 'var_178': 0.21888354815996322,\n",
       " 'var_70': 0.218761739510651,\n",
       " 'var_24': 0.21856012784904452,\n",
       " 'var_50': 0.21786889519786015,\n",
       " 'var_144': 0.2175929461321969,\n",
       " 'var_134': 0.21739071862740872,\n",
       " 'var_199': 0.21675914578445077,\n",
       " 'var_116': 0.2159686340803511,\n",
       " 'var_79': 0.21584364357460017,\n",
       " 'var_20': 0.2156678460063596,\n",
       " 'var_60': 0.21565578574405148,\n",
       " 'var_52': 0.2146796101507379,\n",
       " 'var_167': 0.21355853178879863,\n",
       " 'var_15': 0.21317527204872552,\n",
       " 'var_156': 0.21280571481944505,\n",
       " 'var_112': 0.21197460878561883,\n",
       " 'var_168': 0.21191697612786548,\n",
       " 'var_175': 0.21142431441257797,\n",
       " 'var_8': 0.21132993644498366,\n",
       " 'var_136': 0.2104697189907562,\n",
       " 'var_69': 0.2100013189308141,\n",
       " 'var_46': 0.20985093772388466,\n",
       " 'var_3': 0.2094621482252426,\n",
       " 'var_152': 0.209406440077432,\n",
       " 'var_193': 0.2090670335039219,\n",
       " 'var_187': 0.2084885899654512,\n",
       " 'var_66': 0.20774416385944816,\n",
       " 'var_181': 0.20554451314517272,\n",
       " 'var_68': 0.20505520007718567,\n",
       " 'var_97': 0.20504772014854136,\n",
       " 'var_138': 0.20480160098699135,\n",
       " 'var_28': 0.20375365400287804,\n",
       " 'var_19': 0.20360287506389374,\n",
       " 'var_16': 0.20316989881696526,\n",
       " 'var_142': 0.20301293578603144,\n",
       " 'var_72': 0.20288043969150363,\n",
       " 'var_27': 0.20268462721985808,\n",
       " 'var_73': 0.20249818069660075,\n",
       " 'var_104': 0.20237786033497762,\n",
       " 'var_11': 0.20203266740157286,\n",
       " 'var_37': 0.20019433701402276,\n",
       " 'var_59': 0.19908959132646462,\n",
       " 'var_182': 0.19898308894623074,\n",
       " 'var_100': 0.1985645208637406,\n",
       " 'var_140': 0.19847789225618256,\n",
       " 'var_171': 0.19808924388826962,\n",
       " 'var_126': 0.19742081026487415,\n",
       " 'var_39': 0.19715506110190767,\n",
       " 'var_58': 0.1969833819849447,\n",
       " 'var_77': 0.19693365264802304,\n",
       " 'var_113': 0.19691023777705244,\n",
       " 'var_159': 0.19643208686673358,\n",
       " 'var_41': 0.19635686418810314,\n",
       " 'var_64': 0.19596139022492645,\n",
       " 'var_25': 0.19594344096219338,\n",
       " 'var_74': 0.1958506026025533,\n",
       " 'var_160': 0.19570332627166484,\n",
       " 'var_143': 0.19564030498607168,\n",
       " 'var_62': 0.19542151386570925,\n",
       " 'var_98': 0.19538703947760075,\n",
       " 'var_54': 0.19536712721472604,\n",
       " 'var_14': 0.19384738020310507,\n",
       " 'var_63': 0.19349717071378278,\n",
       " 'var_42': 0.19349152548461726,\n",
       " 'var_4': 0.19345778241028705,\n",
       " 'var_183': 0.19068388358921617,\n",
       " 'var_38': 0.1897645965098114,\n",
       " 'var_124': 0.18894579450955276,\n",
       " 'var_153': 0.1889282686390071,\n",
       " 'var_101': 0.18866507265923138,\n",
       " 'var_117': 0.1886042324849067,\n",
       " 'var_45': 0.18794914213044792,\n",
       " 'var_57': 0.18709736685983613,\n",
       " 'var_47': 0.1869802155245855,\n",
       " 'var_84': 0.18628451801033385,\n",
       " 'var_30': 0.18589363721088728,\n",
       " 'var_129': 0.1856329302639709,\n",
       " 'var_161': 0.18551819098118189,\n",
       " 'var_31': 0.18499687972787943,\n",
       " 'var_7': 0.18457580978246366,\n",
       " 'var_96': 0.1836052794183156,\n",
       " 'var_120': 0.1825717534287069,\n",
       " 'var_61': 0.18248447048776834,\n",
       " 'var_176': 0.18247244871565904,\n",
       " 'var_103': 0.1819190238064446,\n",
       " 'var_185': 0.17956978734934936,\n",
       " 'var_29': 0.17845641985724756,\n",
       " 'var_17': 0.1772952475381669,\n",
       " 'var_10': 0.17718222748426007,\n",
       " 'var_65': 0.1759866834176012,\n",
       " 'var_189': 0.17551202228531193,\n",
       " 'var_158': 0.16894005177188348}"
      ]
     },
     "execution_count": 71,
     "metadata": {},
     "output_type": "execute_result"
    }
   ],
   "source": [
    "varimp"
   ]
  },
  {
   "cell_type": "code",
   "execution_count": 72,
   "metadata": {},
   "outputs": [
    {
     "name": "stdout",
     "output_type": "stream",
     "text": [
      "{'target': 'enum', 'var_0': 'real', 'var_1': 'real', 'var_2': 'real', 'var_3': 'real', 'var_4': 'real', 'var_5': 'real', 'var_6': 'real', 'var_7': 'real', 'var_8': 'real', 'var_9': 'real', 'var_10': 'real', 'var_11': 'real', 'var_12': 'real', 'var_13': 'real', 'var_14': 'real', 'var_15': 'real', 'var_16': 'real', 'var_17': 'real', 'var_18': 'real', 'var_19': 'real', 'var_20': 'real', 'var_21': 'real', 'var_22': 'real', 'var_23': 'real', 'var_24': 'real', 'var_25': 'real', 'var_26': 'real', 'var_27': 'real', 'var_28': 'real', 'var_29': 'real', 'var_30': 'real', 'var_31': 'real', 'var_32': 'real', 'var_33': 'real', 'var_34': 'real', 'var_35': 'real', 'var_36': 'real', 'var_37': 'real', 'var_38': 'real', 'var_39': 'real', 'var_40': 'real', 'var_41': 'real', 'var_42': 'real', 'var_43': 'real', 'var_44': 'real', 'var_45': 'real', 'var_46': 'real', 'var_47': 'real', 'var_48': 'real', 'var_49': 'real', 'var_50': 'real', 'var_51': 'real', 'var_52': 'real', 'var_53': 'real', 'var_54': 'real', 'var_55': 'real', 'var_56': 'real', 'var_57': 'real', 'var_58': 'real', 'var_59': 'real', 'var_60': 'real', 'var_61': 'real', 'var_62': 'real', 'var_63': 'real', 'var_64': 'real', 'var_65': 'real', 'var_66': 'real', 'var_67': 'real', 'var_68': 'real', 'var_69': 'real', 'var_70': 'real', 'var_71': 'real', 'var_72': 'real', 'var_73': 'real', 'var_74': 'real', 'var_75': 'real', 'var_76': 'real', 'var_77': 'real', 'var_78': 'real', 'var_79': 'real', 'var_80': 'real', 'var_81': 'real', 'var_82': 'real', 'var_83': 'real', 'var_84': 'real', 'var_85': 'real', 'var_86': 'real', 'var_87': 'real', 'var_88': 'real', 'var_89': 'real', 'var_90': 'real', 'var_91': 'real', 'var_92': 'real', 'var_93': 'real', 'var_94': 'real', 'var_95': 'real', 'var_96': 'real', 'var_97': 'real', 'var_98': 'real', 'var_99': 'real', 'var_100': 'real', 'var_101': 'real', 'var_102': 'real', 'var_103': 'real', 'var_104': 'real', 'var_105': 'real', 'var_106': 'real', 'var_107': 'real', 'var_108': 'real', 'var_109': 'real', 'var_110': 'real', 'var_111': 'real', 'var_112': 'real', 'var_113': 'real', 'var_114': 'real', 'var_115': 'real', 'var_116': 'real', 'var_117': 'real', 'var_118': 'real', 'var_119': 'real', 'var_120': 'real', 'var_121': 'real', 'var_122': 'real', 'var_123': 'real', 'var_124': 'real', 'var_125': 'real', 'var_126': 'real', 'var_127': 'real', 'var_128': 'real', 'var_129': 'real', 'var_130': 'real', 'var_131': 'real', 'var_132': 'real', 'var_133': 'real', 'var_134': 'real', 'var_135': 'real', 'var_136': 'real', 'var_137': 'real', 'var_138': 'real', 'var_139': 'real', 'var_140': 'real', 'var_141': 'real', 'var_142': 'real', 'var_143': 'real', 'var_144': 'real', 'var_145': 'real', 'var_146': 'real', 'var_147': 'real', 'var_148': 'real', 'var_149': 'real', 'var_150': 'real', 'var_151': 'real', 'var_152': 'real', 'var_153': 'real', 'var_154': 'real', 'var_155': 'real', 'var_156': 'real', 'var_157': 'real', 'var_158': 'real', 'var_159': 'real', 'var_160': 'real', 'var_161': 'real', 'var_162': 'real', 'var_163': 'real', 'var_164': 'real', 'var_165': 'real', 'var_166': 'real', 'var_167': 'real', 'var_168': 'real', 'var_169': 'real', 'var_170': 'real', 'var_171': 'real', 'var_172': 'real', 'var_173': 'real', 'var_174': 'real', 'var_175': 'real', 'var_176': 'real', 'var_177': 'real', 'var_178': 'real', 'var_179': 'real', 'var_180': 'real', 'var_181': 'real', 'var_182': 'real', 'var_183': 'real', 'var_184': 'real', 'var_185': 'real', 'var_186': 'real', 'var_187': 'real', 'var_188': 'real', 'var_189': 'real', 'var_190': 'real', 'var_191': 'real', 'var_192': 'real', 'var_193': 'real', 'var_194': 'real', 'var_195': 'real', 'var_196': 'real', 'var_197': 'real', 'var_198': 'real', 'var_199': 'real'}\n"
     ]
    }
   ],
   "source": [
    "v,ir,e=get_variable_names(df_train)\n",
    "print(v)"
   ]
  },
  {
   "cell_type": "code",
   "execution_count": 73,
   "metadata": {},
   "outputs": [
    {
     "name": "stdout",
     "output_type": "stream",
     "text": [
      "['var_81', 'var_12', 'var_53', 'var_139', 'var_110', 'var_174', 'var_26', 'var_109', 'var_146', 'var_22', 'var_166', 'var_80', 'var_6', 'var_76', 'var_99', 'var_165', 'var_133', 'var_78', 'var_2', 'var_179', 'var_198', 'var_148', 'var_0', 'var_13', 'var_164', 'var_190', 'var_94', 'var_44', 'var_1', 'var_21', 'var_34', 'var_170', 'var_177', 'var_154', 'var_191', 'var_108', 'var_40', 'var_33', 'var_9', 'var_92', 'var_115', 'var_18', 'var_123', 'var_184']\n"
     ]
    }
   ],
   "source": [
    "X=feature_selection(varimp,list(v.keys()))\n",
    "print(X)"
   ]
  },
  {
   "cell_type": "markdown",
   "metadata": {},
   "source": [
    "### After filtering the variables the columns reduced to 44 "
   ]
  },
  {
   "cell_type": "code",
   "execution_count": 74,
   "metadata": {},
   "outputs": [
    {
     "data": {
      "text/plain": [
       "44"
      ]
     },
     "execution_count": 74,
     "metadata": {},
     "output_type": "execute_result"
    }
   ],
   "source": [
    "len(X)"
   ]
  },
  {
   "cell_type": "markdown",
   "metadata": {},
   "source": [
    "### Run the h2o AutoML model"
   ]
  },
  {
   "cell_type": "code",
   "execution_count": 75,
   "metadata": {},
   "outputs": [
    {
     "name": "stdout",
     "output_type": "stream",
     "text": [
      "AutoML progress: |████████████████████████████████████████████████████████| 100%\n"
     ]
    }
   ],
   "source": [
    "# automl\n",
    "# runs for run_time seconds then builds a stacked ensemble\n",
    "\n",
    "run_time = 60 * 10\n",
    "aml = H2OAutoML(max_runtime_secs=run_time,project_name = project) # init automl, run for 300 seconds\n",
    "aml.train(x=X,  \n",
    "           y=y,\n",
    "           training_frame=df_train)"
   ]
  },
  {
   "cell_type": "code",
   "execution_count": 76,
   "metadata": {},
   "outputs": [
    {
     "data": {
      "text/html": [
       "<table>\n",
       "<thead>\n",
       "<tr><th>model_id                                           </th><th style=\"text-align: right;\">     auc</th><th style=\"text-align: right;\">  logloss</th><th style=\"text-align: right;\">  mean_per_class_error</th><th style=\"text-align: right;\">    rmse</th><th style=\"text-align: right;\">      mse</th></tr>\n",
       "</thead>\n",
       "<tbody>\n",
       "<tr><td>StackedEnsemble_BestOfFamily_AutoML_20190224_212548</td><td style=\"text-align: right;\">0.872329</td><td style=\"text-align: right;\"> 0.224509</td><td style=\"text-align: right;\">              0.256929</td><td style=\"text-align: right;\">0.252008</td><td style=\"text-align: right;\">0.063508 </td></tr>\n",
       "<tr><td>StackedEnsemble_AllModels_AutoML_20190224_212548   </td><td style=\"text-align: right;\">0.872329</td><td style=\"text-align: right;\"> 0.224509</td><td style=\"text-align: right;\">              0.256929</td><td style=\"text-align: right;\">0.252008</td><td style=\"text-align: right;\">0.063508 </td></tr>\n",
       "<tr><td>GLM_grid_1_AutoML_20190224_212548_model_1          </td><td style=\"text-align: right;\">0.859378</td><td style=\"text-align: right;\"> 0.232107</td><td style=\"text-align: right;\">              0.270732</td><td style=\"text-align: right;\">0.258029</td><td style=\"text-align: right;\">0.0665789</td></tr>\n",
       "<tr><td>GLM_grid_1_AutoML_20190224_220755_model_1          </td><td style=\"text-align: right;\">0.809237</td><td style=\"text-align: right;\"> 0.260007</td><td style=\"text-align: right;\">              0.308009</td><td style=\"text-align: right;\">0.272298</td><td style=\"text-align: right;\">0.0741462</td></tr>\n",
       "<tr><td>XRT_1_AutoML_20190224_212548                       </td><td style=\"text-align: right;\">0.805302</td><td style=\"text-align: right;\"> 0.279015</td><td style=\"text-align: right;\">              0.31685 </td><td style=\"text-align: right;\">0.282503</td><td style=\"text-align: right;\">0.0798079</td></tr>\n",
       "<tr><td>DRF_1_AutoML_20190224_212548                       </td><td style=\"text-align: right;\">0.802965</td><td style=\"text-align: right;\"> 0.278544</td><td style=\"text-align: right;\">              0.314142</td><td style=\"text-align: right;\">0.282269</td><td style=\"text-align: right;\">0.0796759</td></tr>\n",
       "<tr><td>DRF_1_AutoML_20190224_220755                       </td><td style=\"text-align: right;\">0.7983  </td><td style=\"text-align: right;\"> 0.273252</td><td style=\"text-align: right;\">              0.319452</td><td style=\"text-align: right;\">0.279364</td><td style=\"text-align: right;\">0.0780443</td></tr>\n",
       "<tr><td>XRT_1_AutoML_20190224_220755                       </td><td style=\"text-align: right;\">0.797507</td><td style=\"text-align: right;\"> 0.273879</td><td style=\"text-align: right;\">              0.308665</td><td style=\"text-align: right;\">0.279664</td><td style=\"text-align: right;\">0.0782118</td></tr>\n",
       "<tr><td>GLM_grid_1_AutoML_20190224_225925_model_1          </td><td style=\"text-align: right;\">0.796109</td><td style=\"text-align: right;\"> 0.266007</td><td style=\"text-align: right;\">              0.31987 </td><td style=\"text-align: right;\">0.27514 </td><td style=\"text-align: right;\">0.0757019</td></tr>\n",
       "<tr><td>XRT_1_AutoML_20190224_225925                       </td><td style=\"text-align: right;\">0.792934</td><td style=\"text-align: right;\"> 0.274522</td><td style=\"text-align: right;\">              0.321322</td><td style=\"text-align: right;\">0.279824</td><td style=\"text-align: right;\">0.0783012</td></tr>\n",
       "</tbody>\n",
       "</table>"
      ]
     },
     "metadata": {},
     "output_type": "display_data"
    },
    {
     "data": {
      "text/plain": []
     },
     "execution_count": 76,
     "metadata": {},
     "output_type": "execute_result"
    }
   ],
   "source": [
    "aml.leaderboard"
   ]
  },
  {
   "cell_type": "markdown",
   "metadata": {},
   "source": [
    "# License\n",
    "Copyright (c) 2019 Hao Zhou \n",
    "\n",
    " Permission is hereby granted, free of charge, to any person obtaining a copy \n",
    " of this software and associated documentation files (the \"Software\"), to deal \n",
    " in the Software without restriction, including without limitation the rights \n",
    " to use, copy, modify, merge, publish, distribute, sublicense, and/or sell \n",
    " copies of the Software, and to permit persons to whom the Software is \n",
    " furnished to do so, subject to the following conditions: \n",
    " \n",
    " The above copyright notice and this permission notice shall be included in all \n",
    " copies or substantial portions of the Software. \n",
    " \n",
    "   THE SOFTWARE IS PROVIDED \"AS IS\", WITHOUT WARRANTY OF ANY KIND, EXPRESS OR \n",
    " IMPLIED, INCLUDING BUT NOT LIMITED TO THE WARRANTIES OF MERCHANTABILITY, \n",
    " FITNESS FOR A PARTICULAR PURPOSE AND NONINFRINGEMENT. IN NO EVENT SHALL THE \n",
    " AUTHORS OR COPYRIGHT HOLDERS BE LIABLE FOR ANY CLAIM, DAMAGES OR OTHER \n",
    " LIABILITY, WHETHER IN AN ACTION OF CONTRACT, TORT OR OTHERWISE, ARISING FROM, \n",
    " OUT OF OR IN CONNECTION WITH THE SOFTWARE OR THE USE OR OTHER DEALINGS IN THE \n",
    " SOFTWARE."
   ]
  },
  {
   "cell_type": "markdown",
   "metadata": {},
   "source": [
    "# Citations\n",
    "\n",
    "Exploratory Data Analysis: https://www.kaggle.com/gpreda/santander-eda-and-prediction\n",
    "\n",
    "H2O AutoML: https://github.com/nikbearbrown/Kaggle/blob/master/NBB_Zillow_House_Price_Prediction_Feature_Selection.ipynb\n",
    "\n",
    "LightGBM : https://www.kaggle.com/deepak525/sctp-lightgbm-lb-0-899\n",
    "\n",
    "XGBoost Classifier : https://www.kaggle.com/stuarthallows/using-xgboost-with-scikit-learn\n",
    "\n",
    "XGBoost Regression : https://machinelearningmastery.com/tune-number-size-decision-trees-xgboost-python/\n",
    "\n",
    "Hyper parameter tuning: https://lightgbm.readthedocs.io/en/latest/Parameters-Tuning.html"
   ]
  },
  {
   "cell_type": "markdown",
   "metadata": {},
   "source": [
    "# Conclusion\n",
    "We used the Santander_Transaction_Customer_Prediction dataset to predict the target by initially running the base model on H2O AutoML and got ensembled stack learning as the best model with an accuracy of 87.23%. As the first part of the assignment we got a rank of 1948 out of 3000 in the Kaggle Competition which was not a good score and then we started to train the model using LightGBM and predicted the target.We ran 3 models which were LightGBM, catboost and XGboost. Lightgbm predicted the best accuracy out of all the 3 models. The final step was tunning the hyperparameters of the model by adding more number of leaves, maxbin,reducing the learning rate,max_depth and num_leaves.We got an accuracy of 89.95% which was better than previous model accuracy.We got even better outcome of 589 out of 3000 in the Kaggle Cometition leaderboard after tunning the hyperparameters.Finally, we conclude that out of all the models, lightgbm performed well which gave the accuracy of 89.48% and after hyperparameter tuning the accuracy changed to 89.95%.\n",
    "<table style=\"text-align:left\"> \n",
    "    <thead> \n",
    "    <tr> <th>Number</th> <th>Model Name</th> <th>Accuray</th> </tr> </thead> <tbody> \n",
    "    <tr> \n",
    "         <th scope='row'>1</th> <td style=\"text-align:center\">H2O AutoML</td> <td>0.8723</td> </tr> \n",
    "        <tr> <th scope='row'>2</th> <td style=\"text-align:center\">XGBoosting</td>  <td>0.8921</td> </tr>\n",
    "        <tr> <th scope='row'>3</th> <td style=\"text-align:center\">CatBoosting</td>  <td>0.8910</td> </tr>\n",
    "    <tr> <th scope='row'>4</th> <td style=\"text-align:center\">LightGBM</td>  <td>0.8948</td> </tr>\n",
    "            <tr> <th scope='row'>5</th> <td style=\"text-align:center\">Hyperparameter Tuning</td>  <td>0.8995</td> </tr>"
   ]
  },
  {
   "cell_type": "markdown",
   "metadata": {},
   "source": [
    "# Contributions\n",
    "1)The Santander_Transaction_Customer_Prediction dataset which we used we had to predict the probability to identify which products and services might help them achieve their monetary goals.\n",
    "\n",
    "2)The first task was performing H2O AutoML which gave the best model for our predction. We referred Professor Nik Brown's notebook for that and we reduced the features from 201 to 44. Along with that, we also ranked the importance of the variables and deleted some variables according to the threshold and then used that dataset to be trained by H2O.\n",
    "\n",
    "3)We extended the model by hyperparameter tuning using GridSearch CV to improve the model performance.In this we tunned the hyperparameters of the model by adding more number of leaves, maxbin,reducing the learning rate,max_depth and num_leaves.\n",
    "\n",
    "4)We made use of Boosting ensembled learning methods and we used an additional boosting which was lightGBM and Catboosting."
   ]
  }
 ],
 "metadata": {
  "kernelspec": {
   "display_name": "Python 3",
   "language": "python",
   "name": "python3"
  },
  "language_info": {
   "codemirror_mode": {
    "name": "ipython",
    "version": 3
   },
   "file_extension": ".py",
   "mimetype": "text/x-python",
   "name": "python",
   "nbconvert_exporter": "python",
   "pygments_lexer": "ipython3",
   "version": "3.6.8"
  }
 },
 "nbformat": 4,
 "nbformat_minor": 2
}
