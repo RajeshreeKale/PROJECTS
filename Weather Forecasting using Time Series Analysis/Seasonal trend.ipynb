{
 "cells": [
  {
   "cell_type": "code",
   "execution_count": 1,
   "metadata": {},
   "outputs": [],
   "source": [
    "import pandas as pd\n",
    "import numpy as np\n",
    "import matplotlib.pyplot as plt\n",
    "from statsmodels.tsa.seasonal import seasonal_decompose"
   ]
  },
  {
   "cell_type": "code",
   "execution_count": 4,
   "metadata": {},
   "outputs": [],
   "source": [
    "from pandas import Series\n",
    "import numpy as np\n"
   ]
  },
  {
   "cell_type": "code",
   "execution_count": 5,
   "metadata": {},
   "outputs": [
    {
     "name": "stdout",
     "output_type": "stream",
     "text": [
      "count    100.000000\n",
      "mean       0.133605\n",
      "std        2.746818\n",
      "min       -5.936407\n",
      "25%       -1.566760\n",
      "50%        0.151750\n",
      "75%        1.943664\n",
      "max        7.000615\n",
      "dtype: float64\n"
     ]
    }
   ],
   "source": [
    "newArr = np.random.normal(0,3.0,100)\n",
    "\n",
    "# series = sum(newArr)\n",
    "series = Series(newArr)\n",
    "print(series.describe())"
   ]
  },
  {
   "cell_type": "code",
   "execution_count": 8,
   "metadata": {},
   "outputs": [
    {
     "name": "stdout",
     "output_type": "stream",
     "text": [
      "mean1=-0.110337, mean2=0.377546\n",
      "variance1=7.735046, variance2=7.085052\n"
     ]
    }
   ],
   "source": [
    "#series = Series.from_csv('random', header=0)\n",
    "X = series.values\n",
    "split = len(X) // 2\n",
    "X1, X2 = X[0:split], X[split:]\n",
    "mean1, mean2 = X1.mean(), X2.mean()\n",
    "var1, var2 = X1.var(), X2.var()\n",
    "print('mean1=%f, mean2=%f' % (mean1, mean2))\n",
    "print('variance1=%f, variance2=%f' % (var1, var2))"
   ]
  },
  {
   "cell_type": "code",
   "execution_count": 105,
   "metadata": {},
   "outputs": [],
   "source": [
    "from statsmodels.tsa.stattools import adfuller\n",
    "from statsmodels.tsa.stattools import adfuller, kpss"
   ]
  },
  {
   "cell_type": "code",
   "execution_count": 111,
   "metadata": {},
   "outputs": [
    {
     "name": "stdout",
     "output_type": "stream",
     "text": [
      "count    100.000000\n",
      "mean       0.332522\n",
      "std        3.505515\n",
      "min      -12.575705\n",
      "25%       -1.633972\n",
      "50%        0.584109\n",
      "75%        2.708444\n",
      "max        8.944628\n",
      "dtype: float64\n"
     ]
    }
   ],
   "source": [
    "newArr = np.random.normal(0,3.201,100)\n",
    "\n",
    "# series = sum(newArr)\n",
    "series = Series(newArr)\n",
    "print(series.describe())"
   ]
  },
  {
   "cell_type": "code",
   "execution_count": 107,
   "metadata": {},
   "outputs": [
    {
     "name": "stdout",
     "output_type": "stream",
     "text": [
      "ADF Statistic: -3.585439\n",
      "p-value: 0.006046\n",
      "Critical Values:\n",
      "\t1%: -3.506\n",
      "\t5%: -2.895\n",
      "\t10%: -2.584\n"
     ]
    }
   ],
   "source": [
    "#Dickey Fuller Test for Stationary Method 1\n",
    "\n",
    "X = series.values\n",
    "result = adfuller(X)\n",
    "\n",
    "print('ADF Statistic: %f' % result[0])\n",
    "print('p-value: %f' % result[1])\n",
    "print('Critical Values:')\n",
    "for key, value in result[4].items():\n",
    "\tprint('\\t%s: %.3f' % (key, value))"
   ]
  },
  {
   "cell_type": "code",
   "execution_count": 110,
   "metadata": {},
   "outputs": [],
   "source": [
    "import pandas as pd\n",
    "import numpy as np\n",
    "import matplotlib.pyplot as plt\n",
    "from statsmodels.tsa.stattools import adfuller, kpss\n",
    "from test import support"
   ]
  },
  {
   "cell_type": "code",
   "execution_count": 113,
   "metadata": {},
   "outputs": [
    {
     "name": "stdout",
     "output_type": "stream",
     "text": [
      "Results of Augmented Dickey-Fuller test:\n",
      "test statistic         -1.049016e+01\n",
      "p-value                 1.152588e-18\n",
      "# of lags               0.000000e+00\n",
      "# of observations       9.900000e+01\n",
      "Critical Value (1%)    -3.498198e+00\n",
      "Critical Value (5%)    -2.891208e+00\n",
      "Critical Value (10%)   -2.582596e+00\n",
      "dtype: float64\n"
     ]
    }
   ],
   "source": [
    "#Dickey Fuller Test for Stationary Method 2\n",
    "\n",
    "def adf_test(series):\n",
    "    print('Results of Augmented Dickey-Fuller test:')\n",
    "    dftest = adfuller(series, autolag='AIC')\n",
    "    dfoutput = pd.Series(dftest[0:4], index=['test statistic', 'p-value', '# of lags', '# of observations'])\n",
    "    for key, value in dftest[4].items():\n",
    "        dfoutput['Critical Value ({})'.format(key)] = value\n",
    "    print(dfoutput)\n",
    " \n",
    "# apply the function to the time series\n",
    "adf_test(series)"
   ]
  },
  {
   "cell_type": "code",
   "execution_count": 3,
   "metadata": {},
   "outputs": [],
   "source": [
    "# Perform Phillips Perron Test\n",
    "from arch.unitroot import PhillipsPerron\n",
    "pp = PhillipsPerron(default)\n",
    "print(pp.summary().as_text())"
   ]
  },
  {
   "cell_type": "code",
   "execution_count": 33,
   "metadata": {},
   "outputs": [
    {
     "name": "stdout",
     "output_type": "stream",
     "text": [
      "count    100.000000\n",
      "mean       2.986780\n",
      "std      183.643461\n",
      "min     -462.236795\n",
      "25%     -118.076366\n",
      "50%       11.264613\n",
      "75%      135.938076\n",
      "max      561.249918\n",
      "dtype: float64\n"
     ]
    }
   ],
   "source": [
    "import numpy as np\n",
    "from pandas import Series\n",
    "from matplotlib import pyplot\n",
    "from statsmodels.tsa.seasonal import seasonal_decompose\n",
    "from random import randrange\n",
    "newArr = np.random.normal(0,201,100)\n",
    "\n",
    "# series = sum(newArr)\n",
    "series = Series(newArr)\n",
    "print(series.describe())\n",
    "#series = Series.from_csv('series', header=0)\n",
    "# series = [i**2.0 for i in range(1,100)]\n",
    "# result = seasonal_decompose(series, model='multiplicative',freq=12)\n",
    "series = [i+randrange(10) for i in range(1,100)]\n",
    "result = seasonal_decompose(series, model='additive', freq=12)"
   ]
  },
  {
   "cell_type": "code",
   "execution_count": 34,
   "metadata": {},
   "outputs": [
    {
     "data": {
      "image/png": "[encoded data removed]",
      "text/plain": [
       "<Figure size 432x288 with 4 Axes>"
      ]
     },
     "metadata": {
      "needs_background": "light"
     },
     "output_type": "display_data"
    }
   ],
   "source": [
    "result.plot()\n",
    "pyplot.show()"
   ]
  }
 ],
 "metadata": {
  "kernelspec": {
   "display_name": "Python 3",
   "language": "python",
   "name": "python3"
  },
  "language_info": {
   "codemirror_mode": {
    "name": "ipython",
    "version": 3
   },
   "file_extension": ".py",
   "mimetype": "text/x-python",
   "name": "python",
   "nbconvert_exporter": "python",
   "pygments_lexer": "ipython3",
   "version": "3.7.0"
  }
 },
 "nbformat": 4,
 "nbformat_minor": 2
}
