{
  "nbformat": 4,
  "nbformat_minor": 0,
  "metadata": {
    "colab": {
      "name": "CIFAR10 using cnn 2.ipynb",
      "version": "0.3.2",
      "provenance": []
    },
    "kernelspec": {
      "name": "python3",
      "display_name": "Python 3"
    },
    "accelerator": "GPU"
  },
  "cells": [
    {
      "metadata": {
        "id": "Bbtlx_TmcRS7",
        "colab_type": "text"
      },
      "cell_type": "markdown",
      "source": [
        "# ASSIGNMENT 1\n",
        "Using Keras to build a CNN network for CIFAR-10 dataset. Each record is of size\n",
        "1*3072. Building a CNN network to classify the data into the 10\n",
        "classes."
      ]
    },
    {
      "metadata": {
        "id": "1_kZEMAUcOKX",
        "colab_type": "text"
      },
      "cell_type": "markdown",
      "source": [
        "# Dataset\n",
        "CIFAR-10 dataset The CIFAR-10 dataset consists of 60000 32x32 colour images in 10 classes, with 6000 images per class. There are 50000 training images and 10000 test images.\n",
        "\n",
        "The dataset is divided into five training batches and one test batch, each with 10000 images. The test batch contains exactly 1000 randomly-selected images from each class. The training batches contain the remaining images in random order, but some training batches may contain more images from one class than another. Between them, the training batches contain exactly 5000 images from each class.\n",
        "\n",
        "http://www.cs.utoronto.ca/~kriz/cifar.html"
      ]
    },
    {
      "metadata": {
        "id": "ZoyB8v7JDv8P",
        "colab_type": "text"
      },
      "cell_type": "markdown",
      "source": [
        "# Importing libraries"
      ]
    },
    {
      "metadata": {
        "id": "5ZlqAn7dDQNn",
        "colab_type": "code",
        "colab": {}
      },
      "cell_type": "code",
      "source": [
        "from __future__ import print_function\n",
        "import keras\n",
        "from keras.datasets import cifar10\n",
        "from keras.preprocessing.image import ImageDataGenerator\n",
        "from keras.models import Sequential\n",
        "from keras.layers import Dense, Dropout, Activation, Flatten\n",
        "from keras.layers import Conv2D, MaxPooling2D\n",
        "from keras.utils import plot_model \n",
        "import os\n"
      ],
      "execution_count": 0,
      "outputs": []
    },
    {
      "metadata": {
        "id": "1Lkv51hkD5y1",
        "colab_type": "text"
      },
      "cell_type": "markdown",
      "source": [
        "# Loading the CIFAR 10 dataset"
      ]
    },
    {
      "metadata": {
        "id": "JLn1RHLbD9E2",
        "colab_type": "code",
        "colab": {}
      },
      "cell_type": "code",
      "source": [
        "batch_size = 32\n",
        "num_classes = 10\n",
        "epochs = 60\n",
        "data_augmentation = True\n",
        "num_predictions = 20\n",
        "save_dir = os.path.join(os.getcwd(), 'saved_models')\n",
        "model_name = 'keras_cifar10_trained_model.h5'"
      ],
      "execution_count": 0,
      "outputs": []
    },
    {
      "metadata": {
        "id": "Wrhc7WhNFY9h",
        "colab_type": "text"
      },
      "cell_type": "markdown",
      "source": [
        "# The data, split between train and test sets:"
      ]
    },
    {
      "metadata": {
        "id": "GCFiLs-7FdKx",
        "colab_type": "code",
        "colab": {
          "base_uri": "https://localhost:8080/",
          "height": 68
        },
        "outputId": "d3a137c2-6908-4714-cf2a-d0032d63f8e2"
      },
      "cell_type": "code",
      "source": [
        "(x_train, y_train), (x_test, y_test) = cifar10.load_data()\n",
        "print('x_train shape:', x_train.shape)\n",
        "print(x_train.shape[0], 'train samples')\n",
        "print(x_test.shape[0], 'test samples')"
      ],
      "execution_count": 54,
      "outputs": [
        {
          "output_type": "stream",
          "text": [
            "x_train shape: (50000, 32, 32, 3)\n",
            "50000 train samples\n",
            "10000 test samples\n"
          ],
          "name": "stdout"
        }
      ]
    },
    {
      "metadata": {
        "id": "KbtPWA-vFqie",
        "colab_type": "text"
      },
      "cell_type": "markdown",
      "source": [
        "# Convert class vectors to binary class matrices."
      ]
    },
    {
      "metadata": {
        "id": "pH6uztiWFs2E",
        "colab_type": "code",
        "colab": {}
      },
      "cell_type": "code",
      "source": [
        "y_train = keras.utils.to_categorical(y_train, num_classes)\n",
        "y_test = keras.utils.to_categorical(y_test, num_classes)"
      ],
      "execution_count": 0,
      "outputs": []
    },
    {
      "metadata": {
        "id": "7jiJwk1QSNlw",
        "colab_type": "text"
      },
      "cell_type": "markdown",
      "source": [
        "# Defining the model"
      ]
    },
    {
      "metadata": {
        "id": "RoIr7FYcF2u7",
        "colab_type": "code",
        "colab": {}
      },
      "cell_type": "code",
      "source": [
        "model = Sequential()\n",
        "model.add(Conv2D(32, (3, 3), padding='same',\n",
        "                 input_shape=x_train.shape[1:]))\n",
        "model.add(Activation('relu'))\n",
        "model.add(Conv2D(32, (3, 3)))\n",
        "model.add(Activation('relu'))\n",
        "model.add(MaxPooling2D(pool_size=(2, 2)))\n",
        "model.add(Dropout(0.5))\n"
      ],
      "execution_count": 0,
      "outputs": []
    },
    {
      "metadata": {
        "id": "osghnOTmF2fW",
        "colab_type": "code",
        "colab": {}
      },
      "cell_type": "code",
      "source": [
        "model.add(Conv2D(64, (3, 3), padding='same'))\n",
        "model.add(Activation('relu'))\n",
        "model.add(Conv2D(64, (3, 3)))\n",
        "model.add(Activation('relu'))\n",
        "model.add(MaxPooling2D(pool_size=(2, 2)))\n",
        "model.add(Dropout(0.5))\n"
      ],
      "execution_count": 0,
      "outputs": []
    },
    {
      "metadata": {
        "id": "9RrZfz9wF2Qw",
        "colab_type": "code",
        "colab": {}
      },
      "cell_type": "code",
      "source": [
        "model.add(Flatten())\n",
        "model.add(Dense(128))\n",
        "model.add(Activation('relu'))\n",
        "model.add(Dropout(0.5))\n",
        "model.add(Dense(num_classes))\n",
        "model.add(Activation('softmax'))"
      ],
      "execution_count": 0,
      "outputs": []
    },
    {
      "metadata": {
        "id": "mde04CTSRhoX",
        "colab_type": "text"
      },
      "cell_type": "markdown",
      "source": [
        "# Initiating RMSprop optimizer"
      ]
    },
    {
      "metadata": {
        "id": "rE_wsN6MGaZW",
        "colab_type": "code",
        "colab": {}
      },
      "cell_type": "code",
      "source": [
        "\n",
        "opt = keras.optimizers.rmsprop(lr=0.0001, decay=1e-6)"
      ],
      "execution_count": 0,
      "outputs": []
    },
    {
      "metadata": {
        "id": "4fL2qXkxRof5",
        "colab_type": "text"
      },
      "cell_type": "markdown",
      "source": [
        "# Training the model using RMSprop"
      ]
    },
    {
      "metadata": {
        "id": "AVXPDE_IGacK",
        "colab_type": "code",
        "colab": {}
      },
      "cell_type": "code",
      "source": [
        "model.compile(loss='categorical_crossentropy',\n",
        "              optimizer=opt,\n",
        "              metrics=['accuracy'])\n"
      ],
      "execution_count": 0,
      "outputs": []
    },
    {
      "metadata": {
        "id": "Sda0rSZfGagT",
        "colab_type": "code",
        "colab": {}
      },
      "cell_type": "code",
      "source": [
        "x_train = x_train.astype('float32')\n",
        "x_test = x_test.astype('float32')\n",
        "x_train /= 255\n",
        "x_test /= 255"
      ],
      "execution_count": 0,
      "outputs": []
    },
    {
      "metadata": {
        "id": "-LF0uXwWRvmb",
        "colab_type": "text"
      },
      "cell_type": "markdown",
      "source": [
        "# Fitting the model\n"
      ]
    },
    {
      "metadata": {
        "id": "Dz8RXFDdGakb",
        "colab_type": "code",
        "colab": {
          "base_uri": "https://localhost:8080/",
          "height": 2074
        },
        "outputId": "d12dacf3-642c-478d-aa6b-c84139bd2a37"
      },
      "cell_type": "code",
      "source": [
        "history = model.fit(x_train, y_train,\n",
        "              batch_size=batch_size,\n",
        "              epochs=epochs,\n",
        "              validation_data=(x_test, y_test),\n",
        "              shuffle=True)"
      ],
      "execution_count": 62,
      "outputs": [
        {
          "output_type": "stream",
          "text": [
            "Train on 50000 samples, validate on 10000 samples\n",
            "Epoch 1/60\n",
            "50000/50000 [==============================] - 22s 444us/step - loss: 2.0321 - acc: 0.2390 - val_loss: 1.7067 - val_acc: 0.3940\n",
            "Epoch 2/60\n",
            "50000/50000 [==============================] - 21s 429us/step - loss: 1.6942 - acc: 0.3737 - val_loss: 1.5299 - val_acc: 0.4501\n",
            "Epoch 3/60\n",
            "50000/50000 [==============================] - 20s 403us/step - loss: 1.5415 - acc: 0.4386 - val_loss: 1.3793 - val_acc: 0.4982\n",
            "Epoch 4/60\n",
            "50000/50000 [==============================] - 20s 401us/step - loss: 1.4554 - acc: 0.4741 - val_loss: 1.3112 - val_acc: 0.5363\n",
            "Epoch 5/60\n",
            "50000/50000 [==============================] - 20s 399us/step - loss: 1.3936 - acc: 0.4994 - val_loss: 1.2776 - val_acc: 0.5385\n",
            "Epoch 6/60\n",
            "50000/50000 [==============================] - 20s 398us/step - loss: 1.3438 - acc: 0.5209 - val_loss: 1.2177 - val_acc: 0.5692\n",
            "Epoch 7/60\n",
            "50000/50000 [==============================] - 20s 403us/step - loss: 1.2962 - acc: 0.5408 - val_loss: 1.1890 - val_acc: 0.5736\n",
            "Epoch 8/60\n",
            "50000/50000 [==============================] - 20s 393us/step - loss: 1.2585 - acc: 0.5557 - val_loss: 1.1141 - val_acc: 0.6122\n",
            "Epoch 9/60\n",
            "50000/50000 [==============================] - 20s 393us/step - loss: 1.2253 - acc: 0.5661 - val_loss: 1.0863 - val_acc: 0.6185\n",
            "Epoch 10/60\n",
            "50000/50000 [==============================] - 20s 393us/step - loss: 1.1917 - acc: 0.5799 - val_loss: 1.0437 - val_acc: 0.6328\n",
            "Epoch 11/60\n",
            "50000/50000 [==============================] - 20s 394us/step - loss: 1.1594 - acc: 0.5945 - val_loss: 1.0237 - val_acc: 0.6423\n",
            "Epoch 12/60\n",
            "50000/50000 [==============================] - 20s 395us/step - loss: 1.1399 - acc: 0.6015 - val_loss: 1.0245 - val_acc: 0.6436\n",
            "Epoch 13/60\n",
            "50000/50000 [==============================] - 20s 396us/step - loss: 1.1187 - acc: 0.6077 - val_loss: 0.9924 - val_acc: 0.6552\n",
            "Epoch 14/60\n",
            "50000/50000 [==============================] - 20s 394us/step - loss: 1.0958 - acc: 0.6156 - val_loss: 0.9911 - val_acc: 0.6505\n",
            "Epoch 15/60\n",
            "50000/50000 [==============================] - 20s 395us/step - loss: 1.0760 - acc: 0.6246 - val_loss: 0.9413 - val_acc: 0.6666\n",
            "Epoch 16/60\n",
            "50000/50000 [==============================] - 20s 394us/step - loss: 1.0591 - acc: 0.6313 - val_loss: 0.9293 - val_acc: 0.6749\n",
            "Epoch 17/60\n",
            "50000/50000 [==============================] - 20s 393us/step - loss: 1.0479 - acc: 0.6326 - val_loss: 0.8986 - val_acc: 0.6874\n",
            "Epoch 18/60\n",
            "50000/50000 [==============================] - 20s 394us/step - loss: 1.0299 - acc: 0.6401 - val_loss: 0.9123 - val_acc: 0.6799\n",
            "Epoch 19/60\n",
            "50000/50000 [==============================] - 20s 394us/step - loss: 1.0163 - acc: 0.6451 - val_loss: 0.9184 - val_acc: 0.6790\n",
            "Epoch 20/60\n",
            "50000/50000 [==============================] - 20s 395us/step - loss: 1.0028 - acc: 0.6505 - val_loss: 0.8847 - val_acc: 0.6944\n",
            "Epoch 21/60\n",
            "50000/50000 [==============================] - 20s 394us/step - loss: 0.9959 - acc: 0.6527 - val_loss: 0.8972 - val_acc: 0.6883\n",
            "Epoch 22/60\n",
            "50000/50000 [==============================] - 20s 394us/step - loss: 0.9823 - acc: 0.6582 - val_loss: 0.8640 - val_acc: 0.7014\n",
            "Epoch 23/60\n",
            "50000/50000 [==============================] - 20s 395us/step - loss: 0.9707 - acc: 0.6652 - val_loss: 0.8490 - val_acc: 0.7044\n",
            "Epoch 24/60\n",
            "50000/50000 [==============================] - 20s 394us/step - loss: 0.9653 - acc: 0.6672 - val_loss: 0.8588 - val_acc: 0.7042\n",
            "Epoch 25/60\n",
            "50000/50000 [==============================] - 20s 395us/step - loss: 0.9581 - acc: 0.6687 - val_loss: 0.8423 - val_acc: 0.7069\n",
            "Epoch 26/60\n",
            "50000/50000 [==============================] - 20s 396us/step - loss: 0.9469 - acc: 0.6726 - val_loss: 0.8248 - val_acc: 0.7215\n",
            "Epoch 27/60\n",
            "50000/50000 [==============================] - 20s 394us/step - loss: 0.9462 - acc: 0.6743 - val_loss: 0.8188 - val_acc: 0.7227\n",
            "Epoch 28/60\n",
            "50000/50000 [==============================] - 20s 396us/step - loss: 0.9425 - acc: 0.6738 - val_loss: 0.8110 - val_acc: 0.7191\n",
            "Epoch 29/60\n",
            "50000/50000 [==============================] - 20s 395us/step - loss: 0.9320 - acc: 0.6778 - val_loss: 0.8413 - val_acc: 0.7123\n",
            "Epoch 30/60\n",
            "50000/50000 [==============================] - 20s 395us/step - loss: 0.9270 - acc: 0.6819 - val_loss: 0.8069 - val_acc: 0.7219\n",
            "Epoch 31/60\n",
            "50000/50000 [==============================] - 20s 396us/step - loss: 0.9188 - acc: 0.6832 - val_loss: 0.8068 - val_acc: 0.7259\n",
            "Epoch 32/60\n",
            "50000/50000 [==============================] - 20s 396us/step - loss: 0.9197 - acc: 0.6833 - val_loss: 0.8003 - val_acc: 0.7250\n",
            "Epoch 33/60\n",
            "50000/50000 [==============================] - 20s 394us/step - loss: 0.9158 - acc: 0.6856 - val_loss: 0.7836 - val_acc: 0.7279\n",
            "Epoch 34/60\n",
            "50000/50000 [==============================] - 20s 394us/step - loss: 0.9083 - acc: 0.6865 - val_loss: 0.7853 - val_acc: 0.7332\n",
            "Epoch 35/60\n",
            "50000/50000 [==============================] - 20s 394us/step - loss: 0.9048 - acc: 0.6903 - val_loss: 0.7884 - val_acc: 0.7318\n",
            "Epoch 36/60\n",
            "50000/50000 [==============================] - 20s 395us/step - loss: 0.9009 - acc: 0.6927 - val_loss: 0.7887 - val_acc: 0.7330\n",
            "Epoch 37/60\n",
            "50000/50000 [==============================] - 20s 395us/step - loss: 0.8921 - acc: 0.6967 - val_loss: 0.8056 - val_acc: 0.7338\n",
            "Epoch 38/60\n",
            "50000/50000 [==============================] - 20s 396us/step - loss: 0.8934 - acc: 0.6959 - val_loss: 0.7896 - val_acc: 0.7406\n",
            "Epoch 39/60\n",
            "50000/50000 [==============================] - 20s 396us/step - loss: 0.8924 - acc: 0.6954 - val_loss: 0.8104 - val_acc: 0.7295\n",
            "Epoch 40/60\n",
            "50000/50000 [==============================] - 20s 393us/step - loss: 0.8908 - acc: 0.6985 - val_loss: 0.8240 - val_acc: 0.7310\n",
            "Epoch 41/60\n",
            "50000/50000 [==============================] - 20s 397us/step - loss: 0.8869 - acc: 0.6990 - val_loss: 0.8329 - val_acc: 0.7163\n",
            "Epoch 42/60\n",
            "50000/50000 [==============================] - 20s 394us/step - loss: 0.8870 - acc: 0.7007 - val_loss: 0.7471 - val_acc: 0.7437\n",
            "Epoch 43/60\n",
            "50000/50000 [==============================] - 21s 412us/step - loss: 0.8778 - acc: 0.7015 - val_loss: 0.7993 - val_acc: 0.7331\n",
            "Epoch 44/60\n",
            "50000/50000 [==============================] - 21s 412us/step - loss: 0.8802 - acc: 0.6996 - val_loss: 0.7741 - val_acc: 0.7406\n",
            "Epoch 45/60\n",
            "50000/50000 [==============================] - 20s 407us/step - loss: 0.8813 - acc: 0.7033 - val_loss: 0.7593 - val_acc: 0.7471\n",
            "Epoch 46/60\n",
            "50000/50000 [==============================] - 20s 395us/step - loss: 0.8793 - acc: 0.7021 - val_loss: 0.7499 - val_acc: 0.7516\n",
            "Epoch 47/60\n",
            "50000/50000 [==============================] - 20s 391us/step - loss: 0.8732 - acc: 0.7040 - val_loss: 0.7924 - val_acc: 0.7385\n",
            "Epoch 48/60\n",
            "50000/50000 [==============================] - 20s 392us/step - loss: 0.8764 - acc: 0.7036 - val_loss: 0.8084 - val_acc: 0.7329\n",
            "Epoch 49/60\n",
            "50000/50000 [==============================] - 20s 392us/step - loss: 0.8694 - acc: 0.7064 - val_loss: 0.7969 - val_acc: 0.7396\n",
            "Epoch 50/60\n",
            "50000/50000 [==============================] - 20s 394us/step - loss: 0.8736 - acc: 0.7051 - val_loss: 0.8213 - val_acc: 0.7380\n",
            "Epoch 51/60\n",
            "50000/50000 [==============================] - 20s 396us/step - loss: 0.8649 - acc: 0.7084 - val_loss: 0.7277 - val_acc: 0.7525\n",
            "Epoch 52/60\n",
            "50000/50000 [==============================] - 20s 394us/step - loss: 0.8707 - acc: 0.7055 - val_loss: 0.7638 - val_acc: 0.7384\n",
            "Epoch 53/60\n",
            "50000/50000 [==============================] - 20s 395us/step - loss: 0.8672 - acc: 0.7080 - val_loss: 0.7609 - val_acc: 0.7447\n",
            "Epoch 54/60\n",
            "50000/50000 [==============================] - 20s 393us/step - loss: 0.8654 - acc: 0.7070 - val_loss: 0.7764 - val_acc: 0.7466\n",
            "Epoch 55/60\n",
            "50000/50000 [==============================] - 20s 394us/step - loss: 0.8625 - acc: 0.7082 - val_loss: 0.7946 - val_acc: 0.7382\n",
            "Epoch 56/60\n",
            "50000/50000 [==============================] - 20s 396us/step - loss: 0.8588 - acc: 0.7107 - val_loss: 0.8110 - val_acc: 0.7317\n",
            "Epoch 57/60\n",
            "50000/50000 [==============================] - 20s 396us/step - loss: 0.8637 - acc: 0.7096 - val_loss: 0.8576 - val_acc: 0.7376\n",
            "Epoch 58/60\n",
            "50000/50000 [==============================] - 20s 396us/step - loss: 0.8595 - acc: 0.7092 - val_loss: 0.8107 - val_acc: 0.7427\n",
            "Epoch 59/60\n",
            "50000/50000 [==============================] - 20s 396us/step - loss: 0.8642 - acc: 0.7100 - val_loss: 0.7293 - val_acc: 0.7571\n",
            "Epoch 60/60\n",
            "50000/50000 [==============================] - 20s 396us/step - loss: 0.8628 - acc: 0.7097 - val_loss: 0.7423 - val_acc: 0.7546\n"
          ],
          "name": "stdout"
        }
      ]
    },
    {
      "metadata": {
        "id": "J4we9a6TR3gN",
        "colab_type": "text"
      },
      "cell_type": "markdown",
      "source": [
        "# Scoring  and Evaluating trained model."
      ]
    },
    {
      "metadata": {
        "id": "s1uY0dUBGam_",
        "colab_type": "code",
        "colab": {
          "base_uri": "https://localhost:8080/",
          "height": 68
        },
        "outputId": "712c8ba1-1b99-44e2-f27e-313ad3302f1d"
      },
      "cell_type": "code",
      "source": [
        "scores = model.evaluate(x_test, y_test, verbose=1)\n",
        "print('Test loss:', scores[0])\n",
        "print('Test accuracy:', scores[1])"
      ],
      "execution_count": 63,
      "outputs": [
        {
          "output_type": "stream",
          "text": [
            "10000/10000 [==============================] - 1s 139us/step\n",
            "Test loss: 0.7423428938865662\n",
            "Test accuracy: 0.7546\n"
          ],
          "name": "stdout"
        }
      ]
    },
    {
      "metadata": {
        "id": "oYKs5Cj9a6zJ",
        "colab_type": "text"
      },
      "cell_type": "markdown",
      "source": [
        "# Printing the accuracy"
      ]
    },
    {
      "metadata": {
        "id": "d6C5yA2Ra90h",
        "colab_type": "code",
        "colab": {
          "base_uri": "https://localhost:8080/",
          "height": 34
        },
        "outputId": "e9a92681-8992-44fb-eac7-09440cf28a79"
      },
      "cell_type": "code",
      "source": [
        "scores = model.evaluate(x_test, y_test, verbose=0)\n",
        "print(\"Accuracy: %.2f%%\" % (scores[1]*100))"
      ],
      "execution_count": 64,
      "outputs": [
        {
          "output_type": "stream",
          "text": [
            "Accuracy: 75.46%\n"
          ],
          "name": "stdout"
        }
      ]
    },
    {
      "metadata": {
        "id": "xpFvMR-dR_VW",
        "colab_type": "text"
      },
      "cell_type": "markdown",
      "source": [
        "# Plot training & validation accuracy values"
      ]
    },
    {
      "metadata": {
        "id": "hJ_rxyIiGae8",
        "colab_type": "code",
        "colab": {
          "base_uri": "https://localhost:8080/",
          "height": 735
        },
        "outputId": "3555b076-ad68-4f81-d11c-d8b7f799cf77"
      },
      "cell_type": "code",
      "source": [
        "import matplotlib.pyplot as plt\n",
        "plt.plot(history.history['acc'])\n",
        "plt.plot(history.history['val_acc'])\n",
        "plt.title('Model accuracy')\n",
        "plt.ylabel('Accuracy')\n",
        "plt.xlabel('Epoch')\n",
        "plt.legend(['Train', 'Test'], loc='upper left')\n",
        "plt.show()\n",
        "\n",
        "# Plot training & validation loss values\n",
        "plt.plot(history.history['loss'])\n",
        "plt.plot(history.history['val_loss'])\n",
        "plt.title('Model loss')\n",
        "plt.ylabel('Loss')\n",
        "plt.xlabel('Epoch')\n",
        "plt.legend(['Train', 'Test'], loc='upper left')\n",
        "plt.show()"
      ],
      "execution_count": 65,
      "outputs": [
        {
          "output_type": "display_data",
          "data": {
            "image/png": "[encoded data removed]",
            "text/plain": [
              "<Figure size 576x396 with 1 Axes>"
            ]
          },
          "metadata": {
            "tags": []
          }
        },
        {
          "output_type": "display_data",
          "data": {
            "image/png": "[encoded data removed]",
            "text/plain": [
              "<Figure size 576x396 with 1 Axes>"
            ]
          },
          "metadata": {
            "tags": []
          }
        }
      ]
    },
    {
      "metadata": {
        "id": "x_92VArrjkGG",
        "colab_type": "code",
        "colab": {}
      },
      "cell_type": "code",
      "source": [
        "# plot graph\n",
        "plot_model(model, to_file='convolutional_neural_network.png')"
      ],
      "execution_count": 0,
      "outputs": []
    },
    {
      "metadata": {
        "id": "dUoKhZ8OBXQe",
        "colab_type": "text"
      },
      "cell_type": "markdown",
      "source": [
        "Results\n",
        "1) Provide a recommendation for the best model you would recommend for classification. Which model (with parameter values) would you choose and why? \n",
        "According to me, the best model for classification is cnn model 1. The best parameters that helped improve the model are: \n",
        "epochs = 60 \n",
        "batch_size = 32\n",
        "keep_probability = 0.7 \n",
        "learning_rate = 0.001 \n",
        "Optimizer\n",
        "\n",
        "• Comment on how good your model is ? Does it overfit/underfit data ? What could you do to improve the model I ran it for 60 epochs and got almost 75.46% accuracy. It can surely go much further since it was still undertrained! To improve the model the learning rate should be improved. Also, number of neurons can be more complicated for a better fit."
      ]
    },
    {
      "metadata": {
        "id": "4gLQr_xqJ5n7",
        "colab_type": "text"
      },
      "cell_type": "markdown",
      "source": [
        "#References\n",
        "[1] https://github.com/fchollet/keras/blob/master/examples/cifar10_cnn.py\n",
        "\n",
        "[2] http://www.cs.utoronto.ca/~kriz/cifar.html\n",
        "\n",
        "[3] https://towardsdatascience.com/cifar-10-image-classification-in-tensorflow-5b501f7dc77c"
      ]
    }
  ]
}