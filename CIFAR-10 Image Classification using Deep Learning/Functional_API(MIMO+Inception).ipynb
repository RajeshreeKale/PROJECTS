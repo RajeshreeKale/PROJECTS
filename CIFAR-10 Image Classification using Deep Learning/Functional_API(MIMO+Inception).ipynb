{
  "nbformat": 4,
  "nbformat_minor": 0,
  "metadata": {
    "colab": {
      "name": "Functional_API(MIMO+Inception).ipynb",
      "version": "0.3.2",
      "provenance": [],
      "collapsed_sections": [],
      "toc_visible": true,
      "include_colab_link": true
    },
    "kernelspec": {
      "name": "python3",
      "display_name": "Python 3"
    }
  },
  "cells": [
    {
      "cell_type": "markdown",
      "metadata": {
        "id": "view-in-github",
        "colab_type": "text"
      },
      "source": [
        "<a href=\"https://colab.research.google.com/github/RajeshreeKale/INFO-7374-Team-11/blob/master/Functional_API(MIMO%2BInception).ipynb\" target=\"_parent\"><img src=\"https://colab.research.google.com/assets/colab-badge.svg\" alt=\"Open In Colab\"/></a>"
      ]
    },
    {
      "metadata": {
        "id": "rKdXY3DbztIB",
        "colab_type": "text"
      },
      "cell_type": "markdown",
      "source": [
        "### Keras Functional API-Multi-input Multi-output model"
      ]
    },
    {
      "metadata": {
        "id": "4U1E1BI8xijc",
        "colab_type": "code",
        "colab": {}
      },
      "cell_type": "code",
      "source": [
        "import keras\n",
        "from keras.layers import Input, Embedding, LSTM, Dense\n",
        "from keras.models import Model\n",
        "from keras.utils import plot_model\n",
        "import numpy as np\n",
        "from keras.datasets import cifar10\n",
        "from keras.layers import Dense, Dropout, Activation, Flatten\n",
        "from keras.layers import Conv2D, MaxPooling2D\n",
        "from keras.layers import concatenate\n",
        "import matplotlib.pyplot as plt\n",
        "from keras.optimizers import SGD\n",
        "\n",
        "# Headline input: meant to receive sequences of 100 integers, between 1 and 10000.\n",
        "headline_data = np.random.randint(1, 10000 + 1, size=(32, 100))\n",
        "additional_data = np.random.randint(1, 10000 + 1, size=(32, 5))\n",
        "labels = np.random.randint(0, 1 + 1, size=(32, 1))\n",
        "\n",
        "# Note that we can name any layer by passing it a \"name\" argument.\n",
        "main_input = Input(shape=(100,), dtype='int32', name='main_input')\n",
        "\n",
        "# This embedding layer will encode the input sequence\n",
        "# into a sequence of dense 512-dimensional vectors.\n",
        "x = Embedding(output_dim=512, input_dim=10000, input_length=100)(main_input)\n",
        "\n",
        "# A LSTM will transform the vector sequence into a single vector,\n",
        "# containing information about the entire sequence\n",
        "lstm_out = LSTM(32)(x)\n",
        "\n"
      ],
      "execution_count": 0,
      "outputs": []
    },
    {
      "metadata": {
        "id": "K5ruzEx8t8Ca",
        "colab_type": "code",
        "colab": {}
      },
      "cell_type": "code",
      "source": [
        "auxiliary_output = Dense(1, activation='sigmoid', name='aux_output')(lstm_out)"
      ],
      "execution_count": 0,
      "outputs": []
    },
    {
      "metadata": {
        "id": "hTmFx7cExojw",
        "colab_type": "code",
        "colab": {}
      },
      "cell_type": "code",
      "source": [
        "auxiliary_input = Input(shape=(5,), name='aux_input')\n",
        "x = keras.layers.concatenate([lstm_out, auxiliary_input])\n",
        "\n",
        "# We stack a deep densely-connected network on top\n",
        "x = Dense(64, activation='relu')(x)\n",
        "x = Dense(64, activation='relu')(x)\n",
        "x = Dense(64, activation='relu')(x)\n",
        "\n",
        "# And finally we add the main logistic regression layer\n",
        "main_output = Dense(1, activation='sigmoid', name='main_output')(x)"
      ],
      "execution_count": 0,
      "outputs": []
    },
    {
      "metadata": {
        "id": "K2kvmeRhxrAc",
        "colab_type": "code",
        "colab": {}
      },
      "cell_type": "code",
      "source": [
        "model = Model(inputs=[main_input, auxiliary_input], outputs=[main_output, auxiliary_output])"
      ],
      "execution_count": 0,
      "outputs": []
    },
    {
      "metadata": {
        "id": "b8zeXplHxzMh",
        "colab_type": "code",
        "colab": {}
      },
      "cell_type": "code",
      "source": [
        "model.compile(optimizer='rmsprop', loss='binary_crossentropy',\n",
        "              loss_weights=[1., 0.2])"
      ],
      "execution_count": 0,
      "outputs": []
    },
    {
      "metadata": {
        "id": "f_V7LYVz-Qez",
        "colab_type": "code",
        "outputId": "fcc26f82-d59d-46fd-b299-3f8175ab2928",
        "colab": {
          "base_uri": "https://localhost:8080/",
          "height": 501
        }
      },
      "cell_type": "code",
      "source": [
        "model.summary()"
      ],
      "execution_count": 23,
      "outputs": [
        {
          "output_type": "stream",
          "text": [
            "__________________________________________________________________________________________________\n",
            "Layer (type)                    Output Shape         Param #     Connected to                     \n",
            "==================================================================================================\n",
            "main_input (InputLayer)         (None, 100)          0                                            \n",
            "__________________________________________________________________________________________________\n",
            "embedding_3 (Embedding)         (None, 100, 512)     5120000     main_input[0][0]                 \n",
            "__________________________________________________________________________________________________\n",
            "lstm_3 (LSTM)                   (None, 32)           69760       embedding_3[0][0]                \n",
            "__________________________________________________________________________________________________\n",
            "aux_input (InputLayer)          (None, 5)            0                                            \n",
            "__________________________________________________________________________________________________\n",
            "concatenate_3 (Concatenate)     (None, 37)           0           lstm_3[0][0]                     \n",
            "                                                                 aux_input[0][0]                  \n",
            "__________________________________________________________________________________________________\n",
            "dense_5 (Dense)                 (None, 64)           2432        concatenate_3[0][0]              \n",
            "__________________________________________________________________________________________________\n",
            "dense_6 (Dense)                 (None, 64)           4160        dense_5[0][0]                    \n",
            "__________________________________________________________________________________________________\n",
            "dense_7 (Dense)                 (None, 64)           4160        dense_6[0][0]                    \n",
            "__________________________________________________________________________________________________\n",
            "main_output (Dense)             (None, 1)            65          dense_7[0][0]                    \n",
            "__________________________________________________________________________________________________\n",
            "aux_output (Dense)              (None, 1)            33          lstm_3[0][0]                     \n",
            "==================================================================================================\n",
            "Total params: 5,200,610\n",
            "Trainable params: 5,200,610\n",
            "Non-trainable params: 0\n",
            "__________________________________________________________________________________________________\n"
          ],
          "name": "stdout"
        }
      ]
    },
    {
      "metadata": {
        "id": "Bk4uxvJX9Pc9",
        "colab_type": "code",
        "colab": {}
      },
      "cell_type": "code",
      "source": [
        "plot_model(model=model,to_file=\"model.png\")"
      ],
      "execution_count": 0,
      "outputs": []
    },
    {
      "metadata": {
        "id": "0prx_aPux8MZ",
        "colab_type": "code",
        "outputId": "cab350fb-dca0-4167-e9c6-616d35fb208c",
        "colab": {
          "base_uri": "https://localhost:8080/",
          "height": 1782
        }
      },
      "cell_type": "code",
      "source": [
        "model.fit([headline_data, additional_data], [labels, labels],\n",
        "          epochs=50, batch_size=32)"
      ],
      "execution_count": 25,
      "outputs": [
        {
          "output_type": "stream",
          "text": [
            "Epoch 1/50\n",
            "32/32 [==============================] - 2s 55ms/step - loss: 8.1266 - main_output_loss: 7.9877 - aux_output_loss: 0.6947\n",
            "Epoch 2/50\n",
            "32/32 [==============================] - 0s 7ms/step - loss: 8.1160 - main_output_loss: 7.9877 - aux_output_loss: 0.6417\n",
            "Epoch 3/50\n",
            "32/32 [==============================] - 0s 7ms/step - loss: 8.1051 - main_output_loss: 7.9877 - aux_output_loss: 0.5871\n",
            "Epoch 4/50\n",
            "32/32 [==============================] - 0s 7ms/step - loss: 8.0914 - main_output_loss: 7.9877 - aux_output_loss: 0.5185\n",
            "Epoch 5/50\n",
            "32/32 [==============================] - 0s 7ms/step - loss: 8.0754 - main_output_loss: 7.9877 - aux_output_loss: 0.4387\n",
            "Epoch 6/50\n",
            "32/32 [==============================] - 0s 7ms/step - loss: 8.0587 - main_output_loss: 7.9877 - aux_output_loss: 0.3554\n",
            "Epoch 7/50\n",
            "32/32 [==============================] - 0s 7ms/step - loss: 8.0434 - main_output_loss: 7.9877 - aux_output_loss: 0.2788\n",
            "Epoch 8/50\n",
            "32/32 [==============================] - 0s 7ms/step - loss: 8.0313 - main_output_loss: 7.9877 - aux_output_loss: 0.2182\n",
            "Epoch 9/50\n",
            "32/32 [==============================] - 0s 7ms/step - loss: 8.0229 - main_output_loss: 7.9877 - aux_output_loss: 0.1761\n",
            "Epoch 10/50\n",
            "32/32 [==============================] - 0s 7ms/step - loss: 8.0172 - main_output_loss: 7.9877 - aux_output_loss: 0.1478\n",
            "Epoch 11/50\n",
            "32/32 [==============================] - 0s 7ms/step - loss: 8.0132 - main_output_loss: 7.9877 - aux_output_loss: 0.1275\n",
            "Epoch 12/50\n",
            "32/32 [==============================] - 0s 7ms/step - loss: 8.0100 - main_output_loss: 7.9877 - aux_output_loss: 0.1117\n",
            "Epoch 13/50\n",
            "32/32 [==============================] - 0s 7ms/step - loss: 8.0074 - main_output_loss: 7.9877 - aux_output_loss: 0.0988\n",
            "Epoch 14/50\n",
            "32/32 [==============================] - 0s 7ms/step - loss: 8.0053 - main_output_loss: 7.9877 - aux_output_loss: 0.0881\n",
            "Epoch 15/50\n",
            "32/32 [==============================] - 0s 7ms/step - loss: 8.0035 - main_output_loss: 7.9877 - aux_output_loss: 0.0792\n",
            "Epoch 16/50\n",
            "32/32 [==============================] - 0s 7ms/step - loss: 8.0020 - main_output_loss: 7.9877 - aux_output_loss: 0.0716\n",
            "Epoch 17/50\n",
            "32/32 [==============================] - 0s 7ms/step - loss: 8.0007 - main_output_loss: 7.9877 - aux_output_loss: 0.0653\n",
            "Epoch 18/50\n",
            "32/32 [==============================] - 0s 7ms/step - loss: 7.9997 - main_output_loss: 7.9877 - aux_output_loss: 0.0599\n",
            "Epoch 19/50\n",
            "32/32 [==============================] - 0s 7ms/step - loss: 7.9987 - main_output_loss: 7.9877 - aux_output_loss: 0.0553\n",
            "Epoch 20/50\n",
            "32/32 [==============================] - 0s 7ms/step - loss: 7.9979 - main_output_loss: 7.9877 - aux_output_loss: 0.0513\n",
            "Epoch 21/50\n",
            "32/32 [==============================] - 0s 7ms/step - loss: 7.9972 - main_output_loss: 7.9877 - aux_output_loss: 0.0478\n",
            "Epoch 22/50\n",
            "32/32 [==============================] - 0s 7ms/step - loss: 7.9966 - main_output_loss: 7.9877 - aux_output_loss: 0.0446\n",
            "Epoch 23/50\n",
            "32/32 [==============================] - 0s 7ms/step - loss: 7.9960 - main_output_loss: 7.9877 - aux_output_loss: 0.0418\n",
            "Epoch 24/50\n",
            "32/32 [==============================] - 0s 7ms/step - loss: 7.9955 - main_output_loss: 7.9877 - aux_output_loss: 0.0392\n",
            "Epoch 25/50\n",
            "32/32 [==============================] - 0s 7ms/step - loss: 7.9950 - main_output_loss: 7.9877 - aux_output_loss: 0.0369\n",
            "Epoch 26/50\n",
            "32/32 [==============================] - 0s 7ms/step - loss: 7.9946 - main_output_loss: 7.9877 - aux_output_loss: 0.0347\n",
            "Epoch 27/50\n",
            "32/32 [==============================] - 0s 7ms/step - loss: 7.9942 - main_output_loss: 7.9877 - aux_output_loss: 0.0327\n",
            "Epoch 28/50\n",
            "32/32 [==============================] - 0s 7ms/step - loss: 7.9938 - main_output_loss: 7.9877 - aux_output_loss: 0.0309\n",
            "Epoch 29/50\n",
            "32/32 [==============================] - 0s 7ms/step - loss: 7.9935 - main_output_loss: 7.9877 - aux_output_loss: 0.0292\n",
            "Epoch 30/50\n",
            "32/32 [==============================] - 0s 7ms/step - loss: 7.9932 - main_output_loss: 7.9877 - aux_output_loss: 0.0275\n",
            "Epoch 31/50\n",
            "32/32 [==============================] - 0s 7ms/step - loss: 7.9929 - main_output_loss: 7.9877 - aux_output_loss: 0.0260\n",
            "Epoch 32/50\n",
            "32/32 [==============================] - 0s 7ms/step - loss: 7.9926 - main_output_loss: 7.9877 - aux_output_loss: 0.0246\n",
            "Epoch 33/50\n",
            "32/32 [==============================] - 0s 7ms/step - loss: 7.9923 - main_output_loss: 7.9877 - aux_output_loss: 0.0233\n",
            "Epoch 34/50\n",
            "32/32 [==============================] - 0s 7ms/step - loss: 7.9921 - main_output_loss: 7.9877 - aux_output_loss: 0.0220\n",
            "Epoch 35/50\n",
            "32/32 [==============================] - 0s 7ms/step - loss: 7.9918 - main_output_loss: 7.9877 - aux_output_loss: 0.0208\n",
            "Epoch 36/50\n",
            "32/32 [==============================] - 0s 7ms/step - loss: 7.9916 - main_output_loss: 7.9877 - aux_output_loss: 0.0197\n",
            "Epoch 37/50\n",
            "32/32 [==============================] - 0s 7ms/step - loss: 7.9914 - main_output_loss: 7.9877 - aux_output_loss: 0.0186\n",
            "Epoch 38/50\n",
            "32/32 [==============================] - 0s 7ms/step - loss: 7.9912 - main_output_loss: 7.9877 - aux_output_loss: 0.0176\n",
            "Epoch 39/50\n",
            "32/32 [==============================] - 0s 7ms/step - loss: 7.9910 - main_output_loss: 7.9877 - aux_output_loss: 0.0167\n",
            "Epoch 40/50\n",
            "32/32 [==============================] - 0s 7ms/step - loss: 7.9908 - main_output_loss: 7.9877 - aux_output_loss: 0.0158\n",
            "Epoch 41/50\n",
            "32/32 [==============================] - 0s 7ms/step - loss: 7.9907 - main_output_loss: 7.9877 - aux_output_loss: 0.0149\n",
            "Epoch 42/50\n",
            "32/32 [==============================] - 0s 7ms/step - loss: 7.9905 - main_output_loss: 7.9877 - aux_output_loss: 0.0141\n",
            "Epoch 43/50\n",
            "32/32 [==============================] - 0s 7ms/step - loss: 7.9903 - main_output_loss: 7.9877 - aux_output_loss: 0.0134\n",
            "Epoch 44/50\n",
            "32/32 [==============================] - 0s 7ms/step - loss: 7.9902 - main_output_loss: 7.9877 - aux_output_loss: 0.0127\n",
            "Epoch 45/50\n",
            "32/32 [==============================] - 0s 7ms/step - loss: 7.9901 - main_output_loss: 7.9877 - aux_output_loss: 0.0120\n",
            "Epoch 46/50\n",
            "32/32 [==============================] - 0s 7ms/step - loss: 7.9899 - main_output_loss: 7.9877 - aux_output_loss: 0.0113\n",
            "Epoch 47/50\n",
            "32/32 [==============================] - 0s 7ms/step - loss: 7.9898 - main_output_loss: 7.9877 - aux_output_loss: 0.0107\n",
            "Epoch 48/50\n",
            "32/32 [==============================] - 0s 7ms/step - loss: 7.9897 - main_output_loss: 7.9877 - aux_output_loss: 0.0101\n",
            "Epoch 49/50\n",
            "32/32 [==============================] - 0s 7ms/step - loss: 7.9896 - main_output_loss: 7.9877 - aux_output_loss: 0.0096\n",
            "Epoch 50/50\n",
            "32/32 [==============================] - 0s 7ms/step - loss: 7.9895 - main_output_loss: 7.9877 - aux_output_loss: 0.0091\n"
          ],
          "name": "stdout"
        },
        {
          "output_type": "execute_result",
          "data": {
            "text/plain": [
              "<keras.callbacks.History at 0x7ff65a800898>"
            ]
          },
          "metadata": {
            "tags": []
          },
          "execution_count": 25
        }
      ]
    },
    {
      "metadata": {
        "id": "pnC0gyg7x-1r",
        "colab_type": "code",
        "outputId": "c75c156a-f118-403f-fed3-8301222724f7",
        "colab": {
          "base_uri": "https://localhost:8080/",
          "height": 901
        }
      },
      "cell_type": "code",
      "source": [
        "model.compile(optimizer='rmsprop',\n",
        "              loss={'main_output': 'binary_crossentropy', 'aux_output': 'binary_crossentropy'},\n",
        "              loss_weights={'main_output': 1., 'aux_output': 0.2})\n",
        "\n",
        "# And trained it via:\n",
        "result = model.fit({'main_input': headline_data, 'aux_input': additional_data},\n",
        "          {'main_output': labels, 'aux_output': labels},\n",
        "          epochs=25, batch_size=16)"
      ],
      "execution_count": 26,
      "outputs": [
        {
          "output_type": "stream",
          "text": [
            "Epoch 1/25\n",
            "32/32 [==============================] - 2s 58ms/step - loss: 7.9892 - main_output_loss: 7.9877 - aux_output_loss: 0.0078\n",
            "Epoch 2/25\n",
            "32/32 [==============================] - 0s 11ms/step - loss: 7.9887 - main_output_loss: 7.9877 - aux_output_loss: 0.0052\n",
            "Epoch 3/25\n",
            "32/32 [==============================] - 0s 11ms/step - loss: 7.9885 - main_output_loss: 7.9877 - aux_output_loss: 0.0041\n",
            "Epoch 4/25\n",
            "32/32 [==============================] - 0s 10ms/step - loss: 7.9883 - main_output_loss: 7.9877 - aux_output_loss: 0.0034\n",
            "Epoch 5/25\n",
            "32/32 [==============================] - 0s 11ms/step - loss: 7.9882 - main_output_loss: 7.9877 - aux_output_loss: 0.0029\n",
            "Epoch 6/25\n",
            "32/32 [==============================] - 0s 11ms/step - loss: 7.9882 - main_output_loss: 7.9877 - aux_output_loss: 0.0025\n",
            "Epoch 7/25\n",
            "32/32 [==============================] - 0s 11ms/step - loss: 7.9881 - main_output_loss: 7.9877 - aux_output_loss: 0.0022\n",
            "Epoch 8/25\n",
            "32/32 [==============================] - 0s 11ms/step - loss: 7.9881 - main_output_loss: 7.9877 - aux_output_loss: 0.0020\n",
            "Epoch 9/25\n",
            "32/32 [==============================] - 0s 11ms/step - loss: 7.9880 - main_output_loss: 7.9877 - aux_output_loss: 0.0018\n",
            "Epoch 10/25\n",
            "32/32 [==============================] - 0s 10ms/step - loss: 7.9880 - main_output_loss: 7.9877 - aux_output_loss: 0.0016\n",
            "Epoch 11/25\n",
            "32/32 [==============================] - 0s 10ms/step - loss: 7.9880 - main_output_loss: 7.9877 - aux_output_loss: 0.0015\n",
            "Epoch 12/25\n",
            "32/32 [==============================] - 0s 11ms/step - loss: 7.9879 - main_output_loss: 7.9877 - aux_output_loss: 0.0013\n",
            "Epoch 13/25\n",
            "32/32 [==============================] - 0s 10ms/step - loss: 7.9879 - main_output_loss: 7.9877 - aux_output_loss: 0.0012\n",
            "Epoch 14/25\n",
            "32/32 [==============================] - 0s 11ms/step - loss: 7.9879 - main_output_loss: 7.9877 - aux_output_loss: 0.0011\n",
            "Epoch 15/25\n",
            "32/32 [==============================] - 0s 11ms/step - loss: 7.9879 - main_output_loss: 7.9877 - aux_output_loss: 0.0010\n",
            "Epoch 16/25\n",
            "32/32 [==============================] - 0s 11ms/step - loss: 7.9879 - main_output_loss: 7.9877 - aux_output_loss: 9.3076e-04\n",
            "Epoch 17/25\n",
            "32/32 [==============================] - 0s 10ms/step - loss: 7.9878 - main_output_loss: 7.9877 - aux_output_loss: 8.5882e-04\n",
            "Epoch 18/25\n",
            "32/32 [==============================] - 0s 11ms/step - loss: 7.9878 - main_output_loss: 7.9877 - aux_output_loss: 7.9450e-04\n",
            "Epoch 19/25\n",
            "32/32 [==============================] - 0s 11ms/step - loss: 7.9878 - main_output_loss: 7.9877 - aux_output_loss: 7.3682e-04\n",
            "Epoch 20/25\n",
            "32/32 [==============================] - 0s 10ms/step - loss: 7.9878 - main_output_loss: 7.9877 - aux_output_loss: 6.8498e-04\n",
            "Epoch 21/25\n",
            "32/32 [==============================] - 0s 11ms/step - loss: 7.9878 - main_output_loss: 7.9877 - aux_output_loss: 6.3772e-04\n",
            "Epoch 22/25\n",
            "32/32 [==============================] - 0s 11ms/step - loss: 7.9878 - main_output_loss: 7.9877 - aux_output_loss: 5.9421e-04\n",
            "Epoch 23/25\n",
            "32/32 [==============================] - 0s 11ms/step - loss: 7.9878 - main_output_loss: 7.9877 - aux_output_loss: 5.5521e-04\n",
            "Epoch 24/25\n",
            "32/32 [==============================] - 0s 10ms/step - loss: 7.9878 - main_output_loss: 7.9877 - aux_output_loss: 5.2032e-04\n",
            "Epoch 25/25\n",
            "32/32 [==============================] - 0s 10ms/step - loss: 7.9878 - main_output_loss: 7.9877 - aux_output_loss: 4.8876e-04\n"
          ],
          "name": "stdout"
        }
      ]
    },
    {
      "metadata": {
        "id": "-4t50Xkd4Fv7",
        "colab_type": "code",
        "outputId": "048265d0-39fb-455f-a21f-0913f198d0e9",
        "colab": {
          "base_uri": "https://localhost:8080/",
          "height": 411
        }
      },
      "cell_type": "code",
      "source": [
        "# Loss Curves\n",
        "plt.figure(figsize=[8,6])\n",
        "plt.plot(result.history['loss'],'r',linewidth=3.0)\n",
        "plt.plot(result.history['main_output_loss'],'b',linewidth=3.0)\n",
        "plt.legend(['main_output_loss', 'aux_output_loss'],fontsize=18)\n",
        "plt.xlabel('Epochs ',fontsize=16)\n",
        "plt.ylabel('Loss',fontsize=16)\n",
        "plt.title('Loss Curves',fontsize=16)\n",
        "plt.savefig('try1.png')\n",
        "\n",
        "# Accuracy Curves\n",
        "# plt.figure(figsize=[8,6])\n",
        "# plt.plot(result.history['acc'],'r',linewidth=3.0)\n",
        "# plt.plot(result.history['val_acc'],'b',linewidth=3.0)\n",
        "# plt.legend(['Training Accuracy', 'Validation Accuracy'],fontsize=18)\n",
        "# plt.xlabel('Epochs ',fontsize=16)\n",
        "# plt.ylabel('Accuracy',fontsize=16)\n",
        "# plt.title('Accuracy Curves',fontsize=16)\n",
        "\n",
        "#plt.savefig('try2.png')"
      ],
      "execution_count": 28,
      "outputs": [
        {
          "output_type": "display_data",
          "data": {
            "image/png": "[encoded data removed]",
            "text/plain": [
              "<Figure size 576x432 with 1 Axes>"
            ]
          },
          "metadata": {
            "tags": []
          }
        }
      ]
    },
    {
      "metadata": {
        "id": "K9S7h2cE0fAy",
        "colab_type": "text"
      },
      "cell_type": "markdown",
      "source": [
        "## Inception Module"
      ]
    },
    {
      "metadata": {
        "id": "W0o892Eb3p53",
        "colab_type": "code",
        "colab": {}
      },
      "cell_type": "code",
      "source": [
        "import keras\n",
        "from keras.datasets import cifar10\n",
        "from keras.utils import np_utils\n",
        "from keras.layers import Input\n",
        "from keras.layers import Conv2D, MaxPooling2D\n",
        "from keras.layers import Flatten, Dense\n",
        "from keras.models import Model\n",
        "from keras.optimizers import SGD"
      ],
      "execution_count": 0,
      "outputs": []
    },
    {
      "metadata": {
        "id": "BBGRQIPc3xyn",
        "colab_type": "code",
        "colab": {}
      },
      "cell_type": "code",
      "source": [
        "num_classes=10\n",
        "(X_train, y_train), (X_test, y_test) = cifar10.load_data()\n",
        "# Convert class vectors to binary class matrices.\n",
        "y_train = np_utils.to_categorical(y_train)\n",
        "y_test = np_utils.to_categorical(y_test)\n",
        "\n",
        "X_train = X_train.astype('float32')\n",
        "X_test = X_test.astype('float32')\n",
        "X_train = X_train / 255.0\n",
        "X_test = X_test / 255.0"
      ],
      "execution_count": 0,
      "outputs": []
    },
    {
      "metadata": {
        "id": "OE2O_PDkAcrr",
        "colab_type": "code",
        "colab": {}
      },
      "cell_type": "code",
      "source": [
        "input_img = Input(shape = X_train.shape[1:])"
      ],
      "execution_count": 0,
      "outputs": []
    },
    {
      "metadata": {
        "id": "B31RN2mJ0uab",
        "colab_type": "code",
        "colab": {}
      },
      "cell_type": "code",
      "source": [
        "# layer_1 = Conv2D(64, (1,1), padding='same', activation='relu')(input_img)\n",
        "# layer_1 = Conv2D(64, (3,3), padding='same', activation='relu')(layer_1)\n",
        "# layer_2 = Conv2D(64, (1,1), padding='same', activation='relu')(input_img)\n",
        "# layer_2 = Conv2D(64, (5,5), padding='same', activation='relu')(layer_2)\n",
        "# layer_3 = MaxPooling2D((3,3), strides=(1,1), padding='same')(input_img)\n",
        "# layer_3 = Conv2D(64, (1,1), padding='same', activation='relu')(layer_3)"
      ],
      "execution_count": 0,
      "outputs": []
    },
    {
      "metadata": {
        "id": "Q1ASqzU01Pzv",
        "colab_type": "code",
        "colab": {}
      },
      "cell_type": "code",
      "source": [
        "#output = keras.layers.concatenate([layer_1, layer_2, layer_3], axis = 3)"
      ],
      "execution_count": 0,
      "outputs": []
    },
    {
      "metadata": {
        "id": "EeQYnwlC1f3H",
        "colab_type": "code",
        "colab": {}
      },
      "cell_type": "code",
      "source": [
        "from keras.layers import Conv2D, MaxPooling2D, Input\n",
        "\n",
        "input_img = Input(shape=(32, 32, 3))\n",
        "\n",
        "tower_1 = Conv2D(16, (1, 1), padding='same', activation='relu')(input_img)\n",
        "tower_1 = Conv2D(16, (3, 3), padding='same', activation='relu')(tower_1)\n",
        "\n",
        "tower_2 = Conv2D(32, (1, 1), padding='same', activation='relu')(input_img)\n",
        "tower_2 = Conv2D(32, (5, 5), padding='same', activation='relu')(tower_2)\n",
        "\n",
        "tower_3 = MaxPooling2D((3, 3), strides=(1, 1), padding='same')(input_img)\n",
        "tower_3 = Conv2D(16, (1, 1), padding='same', activation='relu')(tower_3)\n",
        "\n",
        "output = keras.layers.concatenate([tower_1, tower_2, tower_3], axis=3)\n",
        "output = Flatten()(output)\n",
        "out    = Dense(10, activation='softmax')(output)"
      ],
      "execution_count": 0,
      "outputs": []
    },
    {
      "metadata": {
        "id": "uWrVd1aODPNy",
        "colab_type": "code",
        "colab": {}
      },
      "cell_type": "code",
      "source": [
        "from keras.models import Model\n",
        "model = Model(inputs = input_img, outputs = out)"
      ],
      "execution_count": 0,
      "outputs": []
    },
    {
      "metadata": {
        "id": "j5J9cC1-CMxA",
        "colab_type": "code",
        "colab": {
          "base_uri": "https://localhost:8080/",
          "height": 518
        },
        "outputId": "3b49103f-8e76-4d77-b9cb-7ae3653aaf08"
      },
      "cell_type": "code",
      "source": [
        "model.summary()"
      ],
      "execution_count": 12,
      "outputs": [
        {
          "output_type": "stream",
          "text": [
            "__________________________________________________________________________________________________\n",
            "Layer (type)                    Output Shape         Param #     Connected to                     \n",
            "==================================================================================================\n",
            "input_2 (InputLayer)            (None, 32, 32, 3)    0                                            \n",
            "__________________________________________________________________________________________________\n",
            "conv2d_6 (Conv2D)               (None, 32, 32, 16)   64          input_2[0][0]                    \n",
            "__________________________________________________________________________________________________\n",
            "conv2d_8 (Conv2D)               (None, 32, 32, 32)   128         input_2[0][0]                    \n",
            "__________________________________________________________________________________________________\n",
            "max_pooling2d_2 (MaxPooling2D)  (None, 32, 32, 3)    0           input_2[0][0]                    \n",
            "__________________________________________________________________________________________________\n",
            "conv2d_7 (Conv2D)               (None, 32, 32, 16)   2320        conv2d_6[0][0]                   \n",
            "__________________________________________________________________________________________________\n",
            "conv2d_9 (Conv2D)               (None, 32, 32, 32)   25632       conv2d_8[0][0]                   \n",
            "__________________________________________________________________________________________________\n",
            "conv2d_10 (Conv2D)              (None, 32, 32, 16)   64          max_pooling2d_2[0][0]            \n",
            "__________________________________________________________________________________________________\n",
            "concatenate_2 (Concatenate)     (None, 32, 32, 64)   0           conv2d_7[0][0]                   \n",
            "                                                                 conv2d_9[0][0]                   \n",
            "                                                                 conv2d_10[0][0]                  \n",
            "__________________________________________________________________________________________________\n",
            "flatten_1 (Flatten)             (None, 65536)        0           concatenate_2[0][0]              \n",
            "__________________________________________________________________________________________________\n",
            "dense_1 (Dense)                 (None, 10)           655370      flatten_1[0][0]                  \n",
            "==================================================================================================\n",
            "Total params: 683,578\n",
            "Trainable params: 683,578\n",
            "Non-trainable params: 0\n",
            "__________________________________________________________________________________________________\n"
          ],
          "name": "stdout"
        }
      ]
    },
    {
      "metadata": {
        "id": "6HEwkaOi1jzi",
        "colab_type": "code",
        "colab": {}
      },
      "cell_type": "code",
      "source": [
        "epochs = 10\n",
        "lrate = 0.01\n",
        "decay = lrate/epochs\n",
        "sgd = SGD(lr=lrate, momentum=0.9, decay=decay, nesterov=False)\n",
        "model.compile(loss='categorical_crossentropy', optimizer=sgd, metrics=['accuracy'])"
      ],
      "execution_count": 0,
      "outputs": []
    },
    {
      "metadata": {
        "id": "AjeMQr-OCVIe",
        "colab_type": "code",
        "colab": {}
      },
      "cell_type": "code",
      "source": [
        "from keras.utils import plot_model\n",
        "plot_model(model,'model_design_inception.png')"
      ],
      "execution_count": 0,
      "outputs": []
    },
    {
      "metadata": {
        "id": "UCvNlOseCeIv",
        "colab_type": "code",
        "colab": {
          "base_uri": "https://localhost:8080/",
          "height": 417
        },
        "outputId": "573622e4-dcf8-4614-fb81-4af38f85ba9a"
      },
      "cell_type": "code",
      "source": [
        "model.fit(X_train, y_train, validation_data=(X_test, y_test), epochs=epochs, batch_size=256)"
      ],
      "execution_count": 15,
      "outputs": [
        {
          "output_type": "stream",
          "text": [
            "Train on 50000 samples, validate on 10000 samples\n",
            "Epoch 1/10\n",
            "50000/50000 [==============================] - 415s 8ms/step - loss: 1.7814 - acc: 0.3759 - val_loss: 1.6184 - val_acc: 0.4189\n",
            "Epoch 2/10\n",
            "50000/50000 [==============================] - 414s 8ms/step - loss: 1.4529 - acc: 0.4895 - val_loss: 1.3662 - val_acc: 0.5123\n",
            "Epoch 3/10\n",
            "50000/50000 [==============================] - 413s 8ms/step - loss: 1.3128 - acc: 0.5398 - val_loss: 1.3037 - val_acc: 0.5408\n",
            "Epoch 4/10\n",
            "50000/50000 [==============================] - 413s 8ms/step - loss: 1.2457 - acc: 0.5624 - val_loss: 1.2525 - val_acc: 0.5521\n",
            "Epoch 5/10\n",
            "50000/50000 [==============================] - 413s 8ms/step - loss: 1.1900 - acc: 0.5817 - val_loss: 1.2142 - val_acc: 0.5737\n",
            "Epoch 6/10\n",
            "50000/50000 [==============================] - 414s 8ms/step - loss: 1.1490 - acc: 0.5988 - val_loss: 1.1875 - val_acc: 0.5816\n",
            "Epoch 7/10\n",
            "50000/50000 [==============================] - 423s 8ms/step - loss: 1.1139 - acc: 0.6134 - val_loss: 1.1869 - val_acc: 0.5814\n",
            "Epoch 8/10\n",
            "50000/50000 [==============================] - 416s 8ms/step - loss: 1.0751 - acc: 0.6258 - val_loss: 1.1589 - val_acc: 0.5812\n",
            "Epoch 9/10\n",
            "50000/50000 [==============================] - 419s 8ms/step - loss: 1.0432 - acc: 0.6398 - val_loss: 1.1671 - val_acc: 0.5866\n",
            "Epoch 10/10\n",
            "50000/50000 [==============================] - 420s 8ms/step - loss: 1.0169 - acc: 0.6473 - val_loss: 1.1381 - val_acc: 0.5952\n"
          ],
          "name": "stdout"
        },
        {
          "output_type": "execute_result",
          "data": {
            "text/plain": [
              "<keras.callbacks.History at 0x7f70e771b240>"
            ]
          },
          "metadata": {
            "tags": []
          },
          "execution_count": 15
        }
      ]
    },
    {
      "metadata": {
        "id": "fJE29dYl651F",
        "colab_type": "text"
      },
      "cell_type": "markdown",
      "source": [
        "The evaluation accuracy is"
      ]
    },
    {
      "metadata": {
        "id": "AskNpj2iCeeI",
        "colab_type": "code",
        "colab": {
          "base_uri": "https://localhost:8080/",
          "height": 34
        },
        "outputId": "a4ab4ac6-8792-4ae7-f2fe-fdde7dd28a11"
      },
      "cell_type": "code",
      "source": [
        "scores = model.evaluate(X_test, y_test, verbose=0)\n",
        "print(\"Accuracy: %.2f%%\" % (scores[1]*100))"
      ],
      "execution_count": 16,
      "outputs": [
        {
          "output_type": "stream",
          "text": [
            "Accuracy: 59.52%\n"
          ],
          "name": "stdout"
        }
      ]
    },
    {
      "metadata": {
        "id": "cAxbmf7F12X4",
        "colab_type": "code",
        "colab": {}
      },
      "cell_type": "code",
      "source": [
        ""
      ],
      "execution_count": 0,
      "outputs": []
    }
  ]
}