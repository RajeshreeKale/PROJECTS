{
  "nbformat": 4,
  "nbformat_minor": 0,
  "metadata": {
    "colab": {
      "name": "Untitled1.ipynb",
      "version": "0.3.2",
      "provenance": [],
      "include_colab_link": true
    },
    "kernelspec": {
      "name": "python3",
      "display_name": "Python 3"
    }
  },
  "cells": [
    {
      "cell_type": "markdown",
      "metadata": {
        "id": "view-in-github",
        "colab_type": "text"
      },
      "source": [
        "<a href=\"https://colab.research.google.com/github/RajeshreeKale/INFO-7374-Team-11/blob/master/Visual_question_answering_model.ipynb\" target=\"_parent\"><img src=\"https://colab.research.google.com/assets/colab-badge.svg\" alt=\"Open In Colab\"/></a>"
      ]
    },
    {
      "metadata": {
        "id": "Zp3bPkEeFzPX",
        "colab_type": "code",
        "colab": {}
      },
      "cell_type": "code",
      "source": [
        "import keras\n",
        "from keras.layers import Conv2D, MaxPooling2D, Flatten\n",
        "from keras.layers import Input, LSTM, Embedding, Dense\n",
        "from keras.models import Model, Sequential\n",
        "\n",
        "# First, let's define a vision model using a Sequential model.\n",
        "# This model will encode an image into a vector.\n",
        "vision_model = Sequential()\n",
        "vision_model.add(Conv2D(64, (3, 3), activation='relu', padding='same', input_shape=(224, 224, 3)))\n",
        "vision_model.add(Conv2D(64, (3, 3), activation='relu'))\n",
        "vision_model.add(MaxPooling2D((2, 2)))\n",
        "vision_model.add(Conv2D(128, (3, 3), activation='relu', padding='same'))\n",
        "vision_model.add(Conv2D(128, (3, 3), activation='relu'))\n",
        "vision_model.add(MaxPooling2D((2, 2)))\n",
        "vision_model.add(Conv2D(256, (3, 3), activation='relu', padding='same'))\n",
        "vision_model.add(Conv2D(256, (3, 3), activation='relu'))\n",
        "vision_model.add(Conv2D(256, (3, 3), activation='relu'))\n",
        "vision_model.add(MaxPooling2D((2, 2)))\n",
        "vision_model.add(Flatten())\n",
        "\n",
        "# Now let's get a tensor with the output of our vision model:\n",
        "image_input = Input(shape=(224, 224, 3))\n",
        "encoded_image = vision_model(image_input)\n",
        "\n",
        "# Next, let's define a language model to encode the question into a vector.\n",
        "# Each question will be at most 100 word long,\n",
        "# and we will index words as integers from 1 to 9999.\n",
        "question_input = Input(shape=(100,), dtype='int32')\n",
        "embedded_question = Embedding(input_dim=10000, output_dim=256, input_length=100)(question_input)\n",
        "encoded_question = LSTM(256)(embedded_question)\n",
        "\n",
        "# Let's concatenate the question vector and the image vector:\n",
        "merged = keras.layers.concatenate([encoded_question, encoded_image])\n",
        "\n",
        "# And let's train a logistic regression over 1000 words on top:\n",
        "output = Dense(1000, activation='softmax')(merged)\n",
        "\n",
        "# This is our final model:\n",
        "vqa_model = Model(inputs=[image_input, question_input], outputs=output)\n",
        "\n",
        "# The next stage would be training this model on actual data."
      ],
      "execution_count": 0,
      "outputs": []
    }
  ]
}