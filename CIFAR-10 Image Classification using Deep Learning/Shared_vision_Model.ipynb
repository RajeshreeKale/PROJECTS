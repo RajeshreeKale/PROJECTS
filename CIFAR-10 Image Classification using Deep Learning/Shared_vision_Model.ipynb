{
  "nbformat": 4,
  "nbformat_minor": 0,
  "metadata": {
    "colab": {
      "name": "Shared_vision_Model.ipynb",
      "version": "0.3.2",
      "provenance": [],
      "include_colab_link": true
    },
    "kernelspec": {
      "name": "python3",
      "display_name": "Python 3"
    }
  },
  "cells": [
    {
      "cell_type": "markdown",
      "metadata": {
        "id": "view-in-github",
        "colab_type": "text"
      },
      "source": [
        "<a href=\"https://colab.research.google.com/github/RajeshreeKale/INFO-7374-Team-11/blob/master/Shared_vision_Model.ipynb\" target=\"_parent\"><img src=\"https://colab.research.google.com/assets/colab-badge.svg\" alt=\"Open In Colab\"/></a>"
      ]
    },
    {
      "metadata": {
        "id": "A1JuOAfLqNKE",
        "colab_type": "code",
        "colab": {}
      },
      "cell_type": "code",
      "source": [
        "import keras\n",
        "from keras.layers import Conv2D, MaxPooling2D, Input, Dense, Flatten\n",
        "from keras.models import Model\n",
        "\n",
        "# First, define the vision modules\n",
        "digit_input = Input(shape=(27, 27, 1))\n",
        "x = Conv2D(64, (3, 3))(digit_input)\n",
        "x = Conv2D(64, (3, 3))(x)\n",
        "x = MaxPooling2D((2, 2))(x)\n",
        "out = Flatten()(x)\n",
        "\n",
        "vision_model = Model(digit_input, out)\n",
        "\n",
        "# Then define the tell-digits-apart model\n",
        "digit_a = Input(shape=(27, 27, 1))\n",
        "digit_b = Input(shape=(27, 27, 1))\n",
        "\n",
        "# The vision model will be shared, weights and all\n",
        "out_a = vision_model(digit_a)\n",
        "out_b = vision_model(digit_b)\n",
        "\n",
        "concatenated = keras.layers.concatenate([out_a, out_b])\n",
        "out = Dense(1, activation='sigmoid')(concatenated)\n",
        "\n",
        "classification_model = Model([digit_a, digit_b], out)\n"
      ],
      "execution_count": 0,
      "outputs": []
    }
  ]
}