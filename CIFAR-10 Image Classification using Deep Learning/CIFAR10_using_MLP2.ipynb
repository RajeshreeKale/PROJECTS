{
  "nbformat": 4,
  "nbformat_minor": 0,
  "metadata": {
    "colab": {
      "name": "CIFAR10 using MLP2.ipynb",
      "version": "0.3.2",
      "provenance": []
    },
    "kernelspec": {
      "name": "python3",
      "display_name": "Python 3"
    },
    "accelerator": "GPU"
  },
  "cells": [
    {
      "metadata": {
        "id": "6XxTauA_dKno",
        "colab_type": "text"
      },
      "cell_type": "markdown",
      "source": [
        "# ASSIGNMENT 1\n",
        "Using Keras to build a MLP for classifying the CIFAR-10 dataset. Each record is of size 1*3072. Building a MLP to classify the data into the 10 classes."
      ]
    },
    {
      "metadata": {
        "id": "g2GF4vmAdXWE",
        "colab_type": "text"
      },
      "cell_type": "markdown",
      "source": [
        "# Dataset\n",
        "CIFAR-10 dataset The CIFAR-10 dataset consists of 60000 32x32 colour images in 10 classes, with 6000 images per class. There are 50000 training images and 10000 test images.\n",
        "\n",
        "The dataset is divided into five training batches and one test batch, each with 10000 images. The test batch contains exactly 1000 randomly-selected images from each class. The training batches contain the remaining images in random order, but some training batches may contain more images from one class than another. Between them, the training batches contain exactly 5000 images from each class.\n",
        "\n",
        "http://www.cs.utoronto.ca/~kriz/cifar.html\n",
        "\n"
      ]
    },
    {
      "metadata": {
        "id": "JKw5zQgwc-q9",
        "colab_type": "code",
        "colab": {}
      },
      "cell_type": "code",
      "source": [
        "import keras\n",
        "from keras.datasets import cifar10\n",
        "from keras.models import Sequential\n",
        "from keras.layers import Dense, Dropout,Activation,Flatten\n",
        "from keras.optimizers import RMSprop\n",
        "import matplotlib.pyplot as plt\n",
        "from keras.utils import plot_model "
      ],
      "execution_count": 0,
      "outputs": []
    },
    {
      "metadata": {
        "id": "O8zH4zTtdlFI",
        "colab_type": "code",
        "colab": {}
      },
      "cell_type": "code",
      "source": [
        "batch_size = 128\n",
        "num_classes = 10\n",
        "epochs = 5"
      ],
      "execution_count": 0,
      "outputs": []
    },
    {
      "metadata": {
        "id": "Oyt13XtTdlHm",
        "colab_type": "code",
        "colab": {}
      },
      "cell_type": "code",
      "source": [
        "(x_train, y_train), (x_test, y_test) = cifar10.load_data()"
      ],
      "execution_count": 0,
      "outputs": []
    },
    {
      "metadata": {
        "id": "sjKCRqcCdlJ_",
        "colab_type": "code",
        "outputId": "0b48ccb7-7435-4554-866b-5bc217618f7f",
        "colab": {
          "base_uri": "https://localhost:8080/",
          "height": 51
        }
      },
      "cell_type": "code",
      "source": [
        "print(x_train.shape[0], 'train samples')\n",
        "print(x_test.shape[0], 'test samples')"
      ],
      "execution_count": 0,
      "outputs": [
        {
          "output_type": "stream",
          "text": [
            "50000 train samples\n",
            "10000 test samples\n"
          ],
          "name": "stdout"
        }
      ]
    },
    {
      "metadata": {
        "id": "sAjwX_LwdlMQ",
        "colab_type": "code",
        "colab": {}
      },
      "cell_type": "code",
      "source": [
        "y_train = keras.utils.to_categorical(y_train, num_classes)\n",
        "y_test = keras.utils.to_categorical(y_test, num_classes)"
      ],
      "execution_count": 0,
      "outputs": []
    },
    {
      "metadata": {
        "id": "3iEgoS0MdlOo",
        "colab_type": "code",
        "outputId": "c6f38305-9188-418a-e318-2c9da255b233",
        "colab": {
          "base_uri": "https://localhost:8080/",
          "height": 34
        }
      },
      "cell_type": "code",
      "source": [
        "x_train.shape[1:]"
      ],
      "execution_count": 0,
      "outputs": [
        {
          "output_type": "execute_result",
          "data": {
            "text/plain": [
              "(32, 32, 3)"
            ]
          },
          "metadata": {
            "tags": []
          },
          "execution_count": 31
        }
      ]
    },
    {
      "metadata": {
        "id": "pP2zw-oLdlRN",
        "colab_type": "code",
        "colab": {}
      },
      "cell_type": "code",
      "source": [
        "model = Sequential()\n",
        "\n",
        "model.add(Dense(64, input_shape=x_train.shape[1:]))\n",
        "model.add(Activation('relu'))\n",
        "model.add(Dropout(0.3))"
      ],
      "execution_count": 0,
      "outputs": []
    },
    {
      "metadata": {
        "id": "Q1Cq6kf4eJ7A",
        "colab_type": "code",
        "colab": {}
      },
      "cell_type": "code",
      "source": [
        "model.add(Dense(128))\n",
        "model.add(Activation('relu'))\n",
        "model.add(Dropout(0.3))"
      ],
      "execution_count": 0,
      "outputs": []
    },
    {
      "metadata": {
        "id": "z0_ygFtAeKAn",
        "colab_type": "code",
        "colab": {}
      },
      "cell_type": "code",
      "source": [
        "model.add(Dense(128))\n",
        "model.add(Activation('relu'))\n",
        "model.add(Dropout(0.3))\n",
        "model.add(Flatten())\n",
        "model.add(Dense(num_classes))\n",
        "model.add(Activation('softmax'))"
      ],
      "execution_count": 0,
      "outputs": []
    },
    {
      "metadata": {
        "id": "D0-mnNCgeKDX",
        "colab_type": "code",
        "outputId": "20e715c3-2c6d-4cdd-ea13-45b9319e37e7",
        "colab": {
          "base_uri": "https://localhost:8080/",
          "height": 544
        }
      },
      "cell_type": "code",
      "source": [
        "model.summary()"
      ],
      "execution_count": 0,
      "outputs": [
        {
          "output_type": "stream",
          "text": [
            "_________________________________________________________________\n",
            "Layer (type)                 Output Shape              Param #   \n",
            "=================================================================\n",
            "dense_9 (Dense)              (None, 32, 32, 64)        256       \n",
            "_________________________________________________________________\n",
            "activation_9 (Activation)    (None, 32, 32, 64)        0         \n",
            "_________________________________________________________________\n",
            "dropout_7 (Dropout)          (None, 32, 32, 64)        0         \n",
            "_________________________________________________________________\n",
            "dense_10 (Dense)             (None, 32, 32, 128)       8320      \n",
            "_________________________________________________________________\n",
            "activation_10 (Activation)   (None, 32, 32, 128)       0         \n",
            "_________________________________________________________________\n",
            "dropout_8 (Dropout)          (None, 32, 32, 128)       0         \n",
            "_________________________________________________________________\n",
            "dense_11 (Dense)             (None, 32, 32, 128)       16512     \n",
            "_________________________________________________________________\n",
            "activation_11 (Activation)   (None, 32, 32, 128)       0         \n",
            "_________________________________________________________________\n",
            "dropout_9 (Dropout)          (None, 32, 32, 128)       0         \n",
            "_________________________________________________________________\n",
            "flatten_3 (Flatten)          (None, 131072)            0         \n",
            "_________________________________________________________________\n",
            "dense_12 (Dense)             (None, 10)                1310730   \n",
            "_________________________________________________________________\n",
            "activation_12 (Activation)   (None, 10)                0         \n",
            "=================================================================\n",
            "Total params: 1,335,818\n",
            "Trainable params: 1,335,818\n",
            "Non-trainable params: 0\n",
            "_________________________________________________________________\n"
          ],
          "name": "stdout"
        }
      ]
    },
    {
      "metadata": {
        "id": "9szZnX7TeXkv",
        "colab_type": "code",
        "colab": {}
      },
      "cell_type": "code",
      "source": [
        "model.compile(loss='categorical_crossentropy',\n",
        "\n",
        "              optimizer='adam',\n",
        "\n",
        "              metrics=['accuracy'])"
      ],
      "execution_count": 0,
      "outputs": []
    },
    {
      "metadata": {
        "id": "mMEIJhRMeXpF",
        "colab_type": "code",
        "colab": {}
      },
      "cell_type": "code",
      "source": [
        "x_train = x_train.astype('float32')\n",
        "x_test = x_test.astype('float32')\n",
        "x_train /= 255\n",
        "x_test /= 255"
      ],
      "execution_count": 0,
      "outputs": []
    },
    {
      "metadata": {
        "id": "wxGQUFVWeXro",
        "colab_type": "code",
        "outputId": "20eab100-9e45-48a3-ace4-7df2314a4925",
        "colab": {
          "base_uri": "https://localhost:8080/",
          "height": 204
        }
      },
      "cell_type": "code",
      "source": [
        "mlp = model.fit(x_train, y_train,\n",
        "\n",
        "                    batch_size=batch_size,\n",
        "\n",
        "                    epochs=epochs,\n",
        "\n",
        "                    verbose=1,\n",
        "\n",
        "                    validation_data=(x_test, y_test))"
      ],
      "execution_count": 0,
      "outputs": [
        {
          "output_type": "stream",
          "text": [
            "Train on 50000 samples, validate on 10000 samples\n",
            "Epoch 1/5\n",
            "50000/50000 [==============================] - 34s 689us/step - loss: 1.6644 - acc: 0.4138 - val_loss: 1.4811 - val_acc: 0.4805\n",
            "Epoch 2/5\n",
            "50000/50000 [==============================] - 34s 673us/step - loss: 1.4578 - acc: 0.4890 - val_loss: 1.4363 - val_acc: 0.4938\n",
            "Epoch 3/5\n",
            "50000/50000 [==============================] - 34s 673us/step - loss: 1.3904 - acc: 0.5160 - val_loss: 1.4460 - val_acc: 0.4929\n",
            "Epoch 4/5\n",
            "50000/50000 [==============================] - 34s 673us/step - loss: 1.3499 - acc: 0.5296 - val_loss: 1.4275 - val_acc: 0.4980\n",
            "Epoch 5/5\n",
            "50000/50000 [==============================] - 34s 675us/step - loss: 1.3076 - acc: 0.5456 - val_loss: 1.4191 - val_acc: 0.5058\n"
          ],
          "name": "stdout"
        }
      ]
    },
    {
      "metadata": {
        "id": "J4xP5ztF0R3N",
        "colab_type": "text"
      },
      "cell_type": "markdown",
      "source": [
        "# Scoring and Evaluating trained model."
      ]
    },
    {
      "metadata": {
        "id": "jgguZfdk0SXp",
        "colab_type": "code",
        "outputId": "fb9e295d-a0f8-4fab-f588-8816f65004ce",
        "colab": {
          "base_uri": "https://localhost:8080/",
          "height": 68
        }
      },
      "cell_type": "code",
      "source": [
        "scores = model.evaluate(x_test, y_test, verbose=1)\n",
        "print('Test loss:', scores[0])\n",
        "print('Test accuracy:', scores[1])"
      ],
      "execution_count": 0,
      "outputs": [
        {
          "output_type": "stream",
          "text": [
            "10000/10000 [==============================] - 2s 230us/step\n",
            "Test loss: 1.4191212873458863\n",
            "Test accuracy: 0.5058\n"
          ],
          "name": "stdout"
        }
      ]
    },
    {
      "metadata": {
        "id": "eSTu992G0aY3",
        "colab_type": "text"
      },
      "cell_type": "markdown",
      "source": [
        "# Printing the accuracy"
      ]
    },
    {
      "metadata": {
        "id": "kZ1UDNZ1eXnH",
        "colab_type": "code",
        "outputId": "06ee653f-c3f8-4643-c4dc-29b6bed470d7",
        "colab": {
          "base_uri": "https://localhost:8080/",
          "height": 34
        }
      },
      "cell_type": "code",
      "source": [
        "scores = model.evaluate(x_test, y_test, verbose=0)\n",
        "print(\"Accuracy: %.2f%%\" % (scores[1]*100))"
      ],
      "execution_count": 0,
      "outputs": [
        {
          "output_type": "stream",
          "text": [
            "Accuracy: 50.58%\n"
          ],
          "name": "stdout"
        }
      ]
    },
    {
      "metadata": {
        "id": "DPH5R2cL0f6n",
        "colab_type": "text"
      },
      "cell_type": "markdown",
      "source": [
        "# Plotting training & validation accuracy values"
      ]
    },
    {
      "metadata": {
        "id": "BOAvwjPO0noD",
        "colab_type": "code",
        "outputId": "3f77562e-d0bd-4258-8151-2aca0d7f692c",
        "colab": {
          "base_uri": "https://localhost:8080/",
          "height": 735
        }
      },
      "cell_type": "code",
      "source": [
        "plt.figure()\n",
        "plt.plot(mlp.history['acc'])\n",
        "plt.plot(mlp.history['val_acc'])\n",
        "plt.title('model accuracy')\n",
        "plt.ylabel('accuracy')\n",
        "plt.xlabel('epoch')\n",
        "plt.legend(['train', 'validation'], loc='upper left')\n",
        "plt.show()\n",
        "# \"Loss\"\n",
        "plt.plot(mlp.history['loss'])\n",
        "plt.plot(mlp.history['val_loss'])\n",
        "plt.title('model loss')\n",
        "plt.ylabel('loss')\n",
        "plt.xlabel('epoch')\n",
        "plt.legend(['train', 'validation'], loc='upper left')\n",
        "plt.show()"
      ],
      "execution_count": 0,
      "outputs": [
        {
          "output_type": "display_data",
          "data": {
            "image/png": "[encoded data removed]",
            "text/plain": [
              "<Figure size 576x396 with 1 Axes>"
            ]
          },
          "metadata": {
            "tags": []
          }
        },
        {
          "output_type": "display_data",
          "data": {
            "image/png": "[encoded data removed]",
            "text/plain": [
              "<Figure size 576x396 with 1 Axes>"
            ]
          },
          "metadata": {
            "tags": []
          }
        }
      ]
    },
    {
      "metadata": {
        "id": "gEq6uKtglnF0",
        "colab_type": "code",
        "colab": {}
      },
      "cell_type": "code",
      "source": [
        "# plot graph\n",
        "plot_model(model, to_file='MLP 2.png')"
      ],
      "execution_count": 0,
      "outputs": []
    },
    {
      "metadata": {
        "id": "VnQHVmpSHFI8",
        "colab_type": "text"
      },
      "cell_type": "markdown",
      "source": [
        "Results 1) Provide a recommendation for the best model you would recommend for classification. Which model (with parameter values) would you choose and why?\n",
        "According to me, the model that worked best for MLP was model 2. It had an accuracy of 50.58%.The best parameters that helped improve the model are: \n",
        "epochs = 5\n",
        "batch_size = 128 \n",
        "keep_probability = 0.7\n",
        "learning_rate = 0.001\n",
        "Optimizer\n",
        "\n",
        "• Comment on how good your model is ? Does it overfit/underfit data ? What could you do to improve the model I ran it for 60 epochs and got almost 50.58% accuracy. To improve the model the learning rate should be improved. Also, number of neurons can be more complicated for a better fit. Along with these parameters, the number of epochs can also be increased fot the model to train better."
      ]
    },
    {
      "metadata": {
        "id": "20SmZcumKHuV",
        "colab_type": "text"
      },
      "cell_type": "markdown",
      "source": [
        "# References\n",
        "[1] https://github.com/fchollet/keras/blob/master/examples/mnist_mlp.py\n",
        "\n",
        "[2] http://www.cs.utoronto.ca/~kriz/cifar.html\n",
        "\n",
        "[3] https://towardsdatascience.com/cifar-10-image-classification-in-tensorflow-5b501f7dc77c"
      ]
    }
  ]
}