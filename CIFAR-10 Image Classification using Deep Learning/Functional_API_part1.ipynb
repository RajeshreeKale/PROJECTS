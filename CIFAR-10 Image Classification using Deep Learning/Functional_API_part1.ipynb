{
  "nbformat": 4,
  "nbformat_minor": 0,
  "metadata": {
    "colab": {
      "name": "Functional API part1.ipynb",
      "version": "0.3.2",
      "provenance": [],
      "include_colab_link": true
    },
    "kernelspec": {
      "name": "python3",
      "display_name": "Python 3"
    }
  },
  "cells": [
    {
      "cell_type": "markdown",
      "metadata": {
        "id": "view-in-github",
        "colab_type": "text"
      },
      "source": [
        "<a href=\"https://colab.research.google.com/github/RajeshreeKale/INFO-7374/blob/master/Functional_API_part1.ipynb\" target=\"_parent\"><img src=\"https://colab.research.google.com/assets/colab-badge.svg\" alt=\"Open In Colab\"/></a>"
      ]
    },
    {
      "metadata": {
        "id": "bWKROIaHelRS",
        "colab_type": "text"
      },
      "cell_type": "markdown",
      "source": [
        "# FUNCTIONAL API\n",
        "The functional API allows to create models that have more flexibility as we can easily define models where layers connect to more than just the previous and next layers. We can connect layers to any other layer. As a result, creating complex networks such as siamese networks and residual networks become possible."
      ]
    },
    {
      "metadata": {
        "id": "O74lradUiGf2",
        "colab_type": "text"
      },
      "cell_type": "markdown",
      "source": [
        "# Convolutional Neural Network"
      ]
    },
    {
      "metadata": {
        "id": "9vfWDyJ3iGE6",
        "colab_type": "text"
      },
      "cell_type": "markdown",
      "source": [
        "# Importing Libraries"
      ]
    },
    {
      "metadata": {
        "id": "1jAm8cibg032",
        "colab_type": "code",
        "outputId": "6ed3fc10-bfa2-4911-d3e4-7e74075b6b5f",
        "colab": {
          "base_uri": "https://localhost:8080/",
          "height": 34
        }
      },
      "cell_type": "code",
      "source": [
        "from keras.utils import plot_model\n",
        "from keras.models import Model\n",
        "from keras.layers import Input\n",
        "from keras.layers import Dense\n",
        "from keras.layers import Flatten\n",
        "from keras.layers.convolutional import Conv2D\n",
        "from keras.layers.pooling import MaxPooling2D\n"
      ],
      "execution_count": 0,
      "outputs": [
        {
          "output_type": "stream",
          "text": [
            "Using TensorFlow backend.\n"
          ],
          "name": "stderr"
        }
      ]
    },
    {
      "metadata": {
        "id": "vv097cyGmf3x",
        "colab_type": "text"
      },
      "cell_type": "markdown",
      "source": [
        "# This returns a tensor"
      ]
    },
    {
      "metadata": {
        "id": "HpOVaBRYeeml",
        "colab_type": "code",
        "colab": {}
      },
      "cell_type": "code",
      "source": [
        "visible = Input(shape=(64,64,1))\n"
      ],
      "execution_count": 0,
      "outputs": []
    },
    {
      "metadata": {
        "id": "7kx5D5Hfmn2W",
        "colab_type": "text"
      },
      "cell_type": "markdown",
      "source": [
        "### A layer instance is callable on a tensor, and returns a tensor\n",
        "### This creates a model that includes\n",
        "### the Input layer and three Dense layers"
      ]
    },
    {
      "metadata": {
        "id": "cKACu0XOivVL",
        "colab_type": "code",
        "colab": {}
      },
      "cell_type": "code",
      "source": [
        "conv1 = Conv2D(32, kernel_size=4, activation='relu')(visible)\n",
        "pool1 = MaxPooling2D(pool_size=(2, 2))(conv1)\n",
        "conv2 = Conv2D(16, kernel_size=4, activation='relu')(pool1)\n",
        "pool2 = MaxPooling2D(pool_size=(2, 2))(conv2)\n",
        "flat = Flatten()(pool2)\n",
        "hidden1 = Dense(10, activation='relu')(flat)\n",
        "output = Dense(1, activation='sigmoid')(hidden1)\n",
        "model = Model(inputs=visible, outputs=output)\n"
      ],
      "execution_count": 0,
      "outputs": []
    },
    {
      "metadata": {
        "id": "LbTUqU5Im6xy",
        "colab_type": "text"
      },
      "cell_type": "markdown",
      "source": [
        "# Summarize layers"
      ]
    },
    {
      "metadata": {
        "id": "Q9Jt98tji1m7",
        "colab_type": "code",
        "outputId": "0a7641ad-41ea-4ab4-fbfc-9ffafb6465dc",
        "colab": {
          "base_uri": "https://localhost:8080/",
          "height": 425
        }
      },
      "cell_type": "code",
      "source": [
        "print(model.summary())\n"
      ],
      "execution_count": 0,
      "outputs": [
        {
          "output_type": "stream",
          "text": [
            "_________________________________________________________________\n",
            "Layer (type)                 Output Shape              Param #   \n",
            "=================================================================\n",
            "input_1 (InputLayer)         (None, 64, 64, 1)         0         \n",
            "_________________________________________________________________\n",
            "conv2d_1 (Conv2D)            (None, 61, 61, 32)        544       \n",
            "_________________________________________________________________\n",
            "max_pooling2d_1 (MaxPooling2 (None, 30, 30, 32)        0         \n",
            "_________________________________________________________________\n",
            "conv2d_2 (Conv2D)            (None, 27, 27, 16)        8208      \n",
            "_________________________________________________________________\n",
            "max_pooling2d_2 (MaxPooling2 (None, 13, 13, 16)        0         \n",
            "_________________________________________________________________\n",
            "flatten_1 (Flatten)          (None, 2704)              0         \n",
            "_________________________________________________________________\n",
            "dense_1 (Dense)              (None, 10)                27050     \n",
            "_________________________________________________________________\n",
            "dense_2 (Dense)              (None, 1)                 11        \n",
            "=================================================================\n",
            "Total params: 35,813\n",
            "Trainable params: 35,813\n",
            "Non-trainable params: 0\n",
            "_________________________________________________________________\n",
            "None\n"
          ],
          "name": "stdout"
        }
      ]
    },
    {
      "metadata": {
        "id": "5I4O_C5rnB70",
        "colab_type": "text"
      },
      "cell_type": "markdown",
      "source": [
        "# Plotting graph"
      ]
    },
    {
      "metadata": {
        "id": "zYiE8e6Li5J4",
        "colab_type": "code",
        "colab": {}
      },
      "cell_type": "code",
      "source": [
        "plot_model(model, to_file='convolutional_neural_network.png')"
      ],
      "execution_count": 0,
      "outputs": []
    },
    {
      "metadata": {
        "id": "purhf9RdnYHi",
        "colab_type": "text"
      },
      "cell_type": "markdown",
      "source": [
        "# TimeDistributed\n",
        "\n",
        "Input tensor for sequences of 20 timesteps,\n",
        "each containing a 784-dimensional vector\n",
        "input_sequences = Input(shape=(20, 784))\n",
        "This applies our previous model to every timestep in the input sequences.\n",
        "the output of the previous model was a 10-way softmax, so the output of the layer below will be a sequence of 20 vectors of size 10.\n",
        "processed_sequences = TimeDistributed(model)(input_sequences)"
      ]
    }
  ]
}