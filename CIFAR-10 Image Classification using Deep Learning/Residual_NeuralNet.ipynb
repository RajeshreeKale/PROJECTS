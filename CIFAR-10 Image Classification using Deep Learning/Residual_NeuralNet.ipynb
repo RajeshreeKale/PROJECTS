{
  "nbformat": 4,
  "nbformat_minor": 0,
  "metadata": {
    "colab": {
      "name": "Residual_NeuralNet.ipynb",
      "version": "0.3.2",
      "provenance": [],
      "include_colab_link": true
    },
    "kernelspec": {
      "name": "python3",
      "display_name": "Python 3"
    }
  },
  "cells": [
    {
      "cell_type": "markdown",
      "metadata": {
        "id": "view-in-github",
        "colab_type": "text"
      },
      "source": [
        "<a href=\"https://colab.research.google.com/github/RajeshreeKale/INFO-7374-Team-11/blob/master/Residual_NeuralNet.ipynb\" target=\"_parent\"><img src=\"https://colab.research.google.com/assets/colab-badge.svg\" alt=\"Open In Colab\"/></a>"
      ]
    },
    {
      "metadata": {
        "id": "rTRlmFlfESmz",
        "colab_type": "code",
        "colab": {}
      },
      "cell_type": "code",
      "source": [
        "import keras\n",
        "from keras.layers import Conv2D, Input\n",
        "\n",
        "# input tensor for a 3-channel 256x256 image\n",
        "x = Input(shape=(256, 256, 3))\n",
        "# 3x3 conv with 3 output channels (same as input channels)\n",
        "y = Conv2D(3, (3, 3), padding='same')(x)\n",
        "# this returns x + y.\n",
        "z = keras.layers.add([x, y])\n"
      ],
      "execution_count": 0,
      "outputs": []
    }
  ]
}