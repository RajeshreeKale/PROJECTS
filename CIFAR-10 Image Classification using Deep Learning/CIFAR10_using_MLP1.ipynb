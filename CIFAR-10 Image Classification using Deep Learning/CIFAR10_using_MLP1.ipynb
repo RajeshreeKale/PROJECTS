{
  "nbformat": 4,
  "nbformat_minor": 0,
  "metadata": {
    "colab": {
      "name": "CIFAR10 using MLP1.ipynb",
      "version": "0.3.2",
      "provenance": []
    },
    "kernelspec": {
      "name": "python3",
      "display_name": "Python 3"
    },
    "accelerator": "GPU"
  },
  "cells": [
    {
      "metadata": {
        "id": "72f4Qkxqb3xB",
        "colab_type": "text"
      },
      "cell_type": "markdown",
      "source": [
        "# ASSIGNMENT 1\n",
        "Using Keras to build a MLP for classifying the CIFAR-10 dataset. Each record is of size 1*3072. Building a MLP to classify the data into the 10 classes."
      ]
    },
    {
      "metadata": {
        "id": "RPbBKwTtb7De",
        "colab_type": "text"
      },
      "cell_type": "markdown",
      "source": [
        "# Dataset \n",
        "CIFAR-10 dataset\n",
        "The CIFAR-10 dataset consists of 60000 32x32 colour images in 10 classes, with 6000 images per class. There are 50000 training images and 10000 test images. \n",
        "\n",
        "The dataset is divided into five training batches and one test batch, each with 10000 images. The test batch contains exactly 1000 randomly-selected images from each class. The training batches contain the remaining images in random order, but some training batches may contain more images from one class than another. Between them, the training batches contain exactly 5000 images from each class. \n",
        "\n",
        "http://www.cs.utoronto.ca/~kriz/cifar.html"
      ]
    },
    {
      "metadata": {
        "id": "teRnsZ7pUV8v",
        "colab_type": "text"
      },
      "cell_type": "markdown",
      "source": [
        "# Importing libraries"
      ]
    },
    {
      "metadata": {
        "id": "v3VPslIpUQxm",
        "colab_type": "code",
        "colab": {}
      },
      "cell_type": "code",
      "source": [
        "import keras\n",
        "from keras.datasets import cifar10\n",
        "from keras.models import Sequential\n",
        "from keras.layers import Dense, Dropout,Activation,Flatten\n",
        "from keras.optimizers import RMSprop\n",
        "from keras.utils import plot_model\n",
        "import matplotlib.pyplot as plt\n",
        "from keras.utils import plot_model "
      ],
      "execution_count": 0,
      "outputs": []
    },
    {
      "metadata": {
        "id": "tGbdujJBUg2X",
        "colab_type": "code",
        "colab": {}
      },
      "cell_type": "code",
      "source": [
        "batch_size = 64\n",
        "num_classes = 10\n",
        "epochs = 25"
      ],
      "execution_count": 0,
      "outputs": []
    },
    {
      "metadata": {
        "id": "ju75xjiPZ4rq",
        "colab_type": "text"
      },
      "cell_type": "markdown",
      "source": [
        "# Loading the CIFAR 10 dataset"
      ]
    },
    {
      "metadata": {
        "id": "-_0hyH3CUg5c",
        "colab_type": "code",
        "colab": {}
      },
      "cell_type": "code",
      "source": [
        "(x_train, y_train), (x_test, y_test) = cifar10.load_data()"
      ],
      "execution_count": 0,
      "outputs": []
    },
    {
      "metadata": {
        "id": "MGJTezFzUg9W",
        "colab_type": "code",
        "colab": {
          "base_uri": "https://localhost:8080/",
          "height": 51
        },
        "outputId": "5e7ba3e2-1130-4103-e437-2d4b2cce18ec"
      },
      "cell_type": "code",
      "source": [
        "print(x_train.shape[0], 'train samples')\n",
        "print(x_test.shape[0], 'test samples')"
      ],
      "execution_count": 4,
      "outputs": [
        {
          "output_type": "stream",
          "text": [
            "50000 train samples\n",
            "10000 test samples\n"
          ],
          "name": "stdout"
        }
      ]
    },
    {
      "metadata": {
        "id": "M96HHHLraBMw",
        "colab_type": "text"
      },
      "cell_type": "markdown",
      "source": [
        "# The data, split between train and test sets:"
      ]
    },
    {
      "metadata": {
        "id": "Rvpl7Z0YUhBl",
        "colab_type": "code",
        "colab": {}
      },
      "cell_type": "code",
      "source": [
        "y_train = keras.utils.to_categorical(y_train, num_classes)\n",
        "y_test = keras.utils.to_categorical(y_test, num_classes)"
      ],
      "execution_count": 0,
      "outputs": []
    },
    {
      "metadata": {
        "id": "pIOk85WFUhER",
        "colab_type": "code",
        "colab": {
          "base_uri": "https://localhost:8080/",
          "height": 34
        },
        "outputId": "090e2d85-d69e-4664-e35a-ffe2a5740729"
      },
      "cell_type": "code",
      "source": [
        "x_train.shape[1:]"
      ],
      "execution_count": 6,
      "outputs": [
        {
          "output_type": "execute_result",
          "data": {
            "text/plain": [
              "(32, 32, 3)"
            ]
          },
          "metadata": {
            "tags": []
          },
          "execution_count": 6
        }
      ]
    },
    {
      "metadata": {
        "id": "aAVlSwrDaOhC",
        "colab_type": "text"
      },
      "cell_type": "markdown",
      "source": [
        "# Defining the model"
      ]
    },
    {
      "metadata": {
        "id": "Z0XisUxXUhIJ",
        "colab_type": "code",
        "colab": {}
      },
      "cell_type": "code",
      "source": [
        "model = Sequential()\n",
        "\n",
        "model.add(Dense(64, input_shape=x_train.shape[1:]))\n",
        "model.add(Activation('relu'))\n",
        "model.add(Dropout(0.2))"
      ],
      "execution_count": 0,
      "outputs": []
    },
    {
      "metadata": {
        "id": "XxNnaNZNUhKf",
        "colab_type": "code",
        "colab": {}
      },
      "cell_type": "code",
      "source": [
        "model.add(Dense(128))\n",
        "model.add(Activation('relu'))\n",
        "model.add(Dropout(0.2))"
      ],
      "execution_count": 0,
      "outputs": []
    },
    {
      "metadata": {
        "id": "zGh5PDDpUhNh",
        "colab_type": "code",
        "colab": {}
      },
      "cell_type": "code",
      "source": [
        "model.add(Dense(128))\n",
        "model.add(Activation('relu'))\n",
        "model.add(Dropout(0.2))\n",
        "model.add(Flatten())\n",
        "model.add(Dense(num_classes))\n",
        "model.add(Activation('softmax'))"
      ],
      "execution_count": 0,
      "outputs": []
    },
    {
      "metadata": {
        "id": "OqbfZ-v3aT2y",
        "colab_type": "text"
      },
      "cell_type": "markdown",
      "source": [
        "# Model Summary"
      ]
    },
    {
      "metadata": {
        "id": "PzlAXZtmUhQR",
        "colab_type": "code",
        "colab": {
          "base_uri": "https://localhost:8080/",
          "height": 544
        },
        "outputId": "e975f8fa-4e45-4c5d-eacb-f57b625e6410"
      },
      "cell_type": "code",
      "source": [
        "model.summary()"
      ],
      "execution_count": 11,
      "outputs": [
        {
          "output_type": "stream",
          "text": [
            "_________________________________________________________________\n",
            "Layer (type)                 Output Shape              Param #   \n",
            "=================================================================\n",
            "dense_2 (Dense)              (None, 32, 32, 64)        256       \n",
            "_________________________________________________________________\n",
            "activation_2 (Activation)    (None, 32, 32, 64)        0         \n",
            "_________________________________________________________________\n",
            "dropout_2 (Dropout)          (None, 32, 32, 64)        0         \n",
            "_________________________________________________________________\n",
            "dense_3 (Dense)              (None, 32, 32, 128)       8320      \n",
            "_________________________________________________________________\n",
            "activation_3 (Activation)    (None, 32, 32, 128)       0         \n",
            "_________________________________________________________________\n",
            "dropout_3 (Dropout)          (None, 32, 32, 128)       0         \n",
            "_________________________________________________________________\n",
            "dense_4 (Dense)              (None, 32, 32, 128)       16512     \n",
            "_________________________________________________________________\n",
            "activation_4 (Activation)    (None, 32, 32, 128)       0         \n",
            "_________________________________________________________________\n",
            "dropout_4 (Dropout)          (None, 32, 32, 128)       0         \n",
            "_________________________________________________________________\n",
            "flatten_1 (Flatten)          (None, 131072)            0         \n",
            "_________________________________________________________________\n",
            "dense_5 (Dense)              (None, 10)                1310730   \n",
            "_________________________________________________________________\n",
            "activation_5 (Activation)    (None, 10)                0         \n",
            "=================================================================\n",
            "Total params: 1,335,818\n",
            "Trainable params: 1,335,818\n",
            "Non-trainable params: 0\n",
            "_________________________________________________________________\n"
          ],
          "name": "stdout"
        }
      ]
    },
    {
      "metadata": {
        "id": "bLnDUk4QaZJu",
        "colab_type": "text"
      },
      "cell_type": "markdown",
      "source": [
        "# Compiling the model"
      ]
    },
    {
      "metadata": {
        "id": "Gt3Dh7rxUhGz",
        "colab_type": "code",
        "colab": {}
      },
      "cell_type": "code",
      "source": [
        "model.compile(loss='categorical_crossentropy',\n",
        "\n",
        "              optimizer='adam',\n",
        "\n",
        "              metrics=['accuracy'])"
      ],
      "execution_count": 0,
      "outputs": []
    },
    {
      "metadata": {
        "id": "tFFwLabKUhAG",
        "colab_type": "code",
        "colab": {}
      },
      "cell_type": "code",
      "source": [
        "x_train = x_train.astype('float32')\n",
        "x_test = x_test.astype('float32')\n",
        "x_train /= 255\n",
        "x_test /= 255"
      ],
      "execution_count": 0,
      "outputs": []
    },
    {
      "metadata": {
        "id": "L4vLaKCDad9d",
        "colab_type": "text"
      },
      "cell_type": "markdown",
      "source": [
        "# Fitting the model"
      ]
    },
    {
      "metadata": {
        "id": "c0L01MGsUg8F",
        "colab_type": "code",
        "colab": {
          "base_uri": "https://localhost:8080/",
          "height": 884
        },
        "outputId": "f33a38ec-993c-4f25-802d-5af2316b0f0a"
      },
      "cell_type": "code",
      "source": [
        "mlp = model.fit(x_train, y_train,\n",
        "\n",
        "                    batch_size=batch_size,\n",
        "\n",
        "                    epochs=epochs,\n",
        "\n",
        "                    verbose=1,\n",
        "\n",
        "                    validation_data=(x_test, y_test))"
      ],
      "execution_count": 14,
      "outputs": [
        {
          "output_type": "stream",
          "text": [
            "Train on 50000 samples, validate on 10000 samples\n",
            "Epoch 1/25\n",
            "50000/50000 [==============================] - 61s 1ms/step - loss: 1.6500 - acc: 0.4183 - val_loss: 1.4974 - val_acc: 0.4681\n",
            "Epoch 2/25\n",
            "50000/50000 [==============================] - 59s 1ms/step - loss: 1.4527 - acc: 0.4914 - val_loss: 1.4474 - val_acc: 0.4863\n",
            "Epoch 3/25\n",
            "50000/50000 [==============================] - 59s 1ms/step - loss: 1.3871 - acc: 0.5176 - val_loss: 1.4123 - val_acc: 0.5061\n",
            "Epoch 4/25\n",
            "50000/50000 [==============================] - 59s 1ms/step - loss: 1.3378 - acc: 0.5328 - val_loss: 1.4283 - val_acc: 0.5048\n",
            "Epoch 5/25\n",
            "50000/50000 [==============================] - 59s 1ms/step - loss: 1.2861 - acc: 0.5542 - val_loss: 1.4465 - val_acc: 0.5016\n",
            "Epoch 6/25\n",
            "50000/50000 [==============================] - 58s 1ms/step - loss: 1.2357 - acc: 0.5761 - val_loss: 1.4431 - val_acc: 0.5069\n",
            "Epoch 7/25\n",
            "50000/50000 [==============================] - 58s 1ms/step - loss: 1.1787 - acc: 0.5956 - val_loss: 1.4965 - val_acc: 0.4999\n",
            "Epoch 8/25\n",
            "50000/50000 [==============================] - 59s 1ms/step - loss: 1.1202 - acc: 0.6147 - val_loss: 1.5302 - val_acc: 0.4915\n",
            "Epoch 9/25\n",
            "50000/50000 [==============================] - 59s 1ms/step - loss: 1.0645 - acc: 0.6346 - val_loss: 1.5227 - val_acc: 0.4922\n",
            "Epoch 10/25\n",
            "50000/50000 [==============================] - 59s 1ms/step - loss: 1.0068 - acc: 0.6541 - val_loss: 1.6112 - val_acc: 0.4810\n",
            "Epoch 11/25\n",
            "50000/50000 [==============================] - 58s 1ms/step - loss: 0.9501 - acc: 0.6751 - val_loss: 1.6641 - val_acc: 0.4770\n",
            "Epoch 12/25\n",
            "50000/50000 [==============================] - 59s 1ms/step - loss: 0.8996 - acc: 0.6908 - val_loss: 1.7124 - val_acc: 0.4762\n",
            "Epoch 13/25\n",
            "50000/50000 [==============================] - 59s 1ms/step - loss: 0.8416 - acc: 0.7111 - val_loss: 1.7727 - val_acc: 0.4780\n",
            "Epoch 14/25\n",
            "50000/50000 [==============================] - 59s 1ms/step - loss: 0.7980 - acc: 0.7256 - val_loss: 1.8806 - val_acc: 0.4539\n",
            "Epoch 15/25\n",
            "50000/50000 [==============================] - 58s 1ms/step - loss: 0.7540 - acc: 0.7403 - val_loss: 1.9071 - val_acc: 0.4557\n",
            "Epoch 16/25\n",
            "50000/50000 [==============================] - 59s 1ms/step - loss: 0.7114 - acc: 0.7527 - val_loss: 1.9292 - val_acc: 0.4602\n",
            "Epoch 17/25\n",
            "50000/50000 [==============================] - 59s 1ms/step - loss: 0.6761 - acc: 0.7661 - val_loss: 2.0298 - val_acc: 0.4514\n",
            "Epoch 18/25\n",
            "50000/50000 [==============================] - 59s 1ms/step - loss: 0.6368 - acc: 0.7798 - val_loss: 2.0370 - val_acc: 0.4542\n",
            "Epoch 19/25\n",
            "50000/50000 [==============================] - 59s 1ms/step - loss: 0.6049 - acc: 0.7898 - val_loss: 2.1243 - val_acc: 0.4523\n",
            "Epoch 20/25\n",
            "50000/50000 [==============================] - 59s 1ms/step - loss: 0.5709 - acc: 0.8003 - val_loss: 2.2300 - val_acc: 0.4467\n",
            "Epoch 21/25\n",
            "50000/50000 [==============================] - 59s 1ms/step - loss: 0.5534 - acc: 0.8087 - val_loss: 2.2859 - val_acc: 0.4508\n",
            "Epoch 22/25\n",
            "50000/50000 [==============================] - 59s 1ms/step - loss: 0.5191 - acc: 0.8176 - val_loss: 2.2579 - val_acc: 0.4477\n",
            "Epoch 23/25\n",
            "50000/50000 [==============================] - 58s 1ms/step - loss: 0.5017 - acc: 0.8225 - val_loss: 2.3894 - val_acc: 0.4480\n",
            "Epoch 24/25\n",
            "50000/50000 [==============================] - 59s 1ms/step - loss: 0.4817 - acc: 0.8298 - val_loss: 2.3673 - val_acc: 0.4474\n",
            "Epoch 25/25\n",
            "50000/50000 [==============================] - 59s 1ms/step - loss: 0.4547 - acc: 0.8402 - val_loss: 2.5261 - val_acc: 0.4402\n"
          ],
          "name": "stdout"
        }
      ]
    },
    {
      "metadata": {
        "id": "fNZ9ZdDValpN",
        "colab_type": "text"
      },
      "cell_type": "markdown",
      "source": [
        "# Scoring and Evaluating trained model."
      ]
    },
    {
      "metadata": {
        "id": "H5i2cldlVVCG",
        "colab_type": "code",
        "colab": {
          "base_uri": "https://localhost:8080/",
          "height": 68
        },
        "outputId": "9ab702bb-81f6-43a7-f3eb-6fdef2a95d89"
      },
      "cell_type": "code",
      "source": [
        "scores = model.evaluate(x_test, y_test, verbose=1)\n",
        "print('Test loss:', scores[0])\n",
        "print('Test accuracy:', scores[1])"
      ],
      "execution_count": 15,
      "outputs": [
        {
          "output_type": "stream",
          "text": [
            "10000/10000 [==============================] - 4s 358us/step\n",
            "Test loss: 2.526078281021118\n",
            "Test accuracy: 0.4402\n"
          ],
          "name": "stdout"
        }
      ]
    },
    {
      "metadata": {
        "id": "CnXHoZKEbDBC",
        "colab_type": "text"
      },
      "cell_type": "markdown",
      "source": [
        "# Printing the accuracy"
      ]
    },
    {
      "metadata": {
        "id": "R7tNWKhibG1M",
        "colab_type": "code",
        "colab": {
          "base_uri": "https://localhost:8080/",
          "height": 34
        },
        "outputId": "2e52f425-2adb-4c3b-81c6-807120fe20d6"
      },
      "cell_type": "code",
      "source": [
        "scores = model.evaluate(x_test, y_test, verbose=0)\n",
        "print(\"Accuracy: %.2f%%\" % (scores[1]*100))"
      ],
      "execution_count": 16,
      "outputs": [
        {
          "output_type": "stream",
          "text": [
            "Accuracy: 44.02%\n"
          ],
          "name": "stdout"
        }
      ]
    },
    {
      "metadata": {
        "id": "use4pUribMeW",
        "colab_type": "text"
      },
      "cell_type": "markdown",
      "source": [
        "# Plot training & validation accuracy values"
      ]
    },
    {
      "metadata": {
        "id": "bFOifgZxVU_V",
        "colab_type": "code",
        "colab": {
          "base_uri": "https://localhost:8080/",
          "height": 735
        },
        "outputId": "afa712d0-b724-4222-c569-4578d3095882"
      },
      "cell_type": "code",
      "source": [
        "plt.figure()\n",
        "plt.plot(mlp.history['acc'])\n",
        "plt.plot(mlp.history['val_acc'])\n",
        "plt.title('model accuracy')\n",
        "plt.ylabel('accuracy')\n",
        "plt.xlabel('epoch')\n",
        "plt.legend(['train', 'validation'], loc='upper left')\n",
        "plt.show()\n",
        "# \"Loss\"\n",
        "plt.plot(mlp.history['loss'])\n",
        "plt.plot(mlp.history['val_loss'])\n",
        "plt.title('model loss')\n",
        "plt.ylabel('loss')\n",
        "plt.xlabel('epoch')\n",
        "plt.legend(['train', 'validation'], loc='upper left')\n",
        "plt.show()\n"
      ],
      "execution_count": 17,
      "outputs": [
        {
          "output_type": "display_data",
          "data": {
            "image/png": "[encoded data removed]",
            "text/plain": [
              "<Figure size 576x396 with 1 Axes>"
            ]
          },
          "metadata": {
            "tags": []
          }
        },
        {
          "output_type": "display_data",
          "data": {
            "image/png": "[encoded data removed]",
            "text/plain": [
              "<Figure size 576x396 with 1 Axes>"
            ]
          },
          "metadata": {
            "tags": []
          }
        }
      ]
    },
    {
      "metadata": {
        "id": "Pk34a6qZlGGh",
        "colab_type": "code",
        "colab": {}
      },
      "cell_type": "code",
      "source": [
        "# plot graph\n",
        "plot_model(model, to_file='MLP.png')"
      ],
      "execution_count": 0,
      "outputs": []
    },
    {
      "metadata": {
        "id": "daAwFhH_Az2a",
        "colab_type": "text"
      },
      "cell_type": "markdown",
      "source": [
        "Results 1) Provide a recommendation for the best model you would recommend for classification. Which model (with parameter values) would you choose and why?\n",
        "According to me, the model that worked best for MLP was model 2. It had an accuracy of 44%.The best parameters that helped improve the model are: \n",
        "epochs = 25\n",
        "batch_size = 64 \n",
        "keep_probability = 0.7\n",
        "learning_rate = 0.001\n",
        "Optimizer\n",
        "\n",
        "• Comment on how good your model is ? Does it overfit/underfit data ? What could you do to improve the model I ran it for 60 epochs and got almost 44.02% accuracy. To improve the model the learning rate should be improved. Also, number of neurons can be more complicated for a better fit. Along with these parameters, the number of epochs can also be increased fot the model to train better."
      ]
    },
    {
      "metadata": {
        "id": "VtUHGrZMKCie",
        "colab_type": "text"
      },
      "cell_type": "markdown",
      "source": [
        "# References\n",
        "[1] https://github.com/fchollet/keras/blob/master/examples/mnist_mlp.py\n",
        "\n",
        "[2] http://www.cs.utoronto.ca/~kriz/cifar.html\n",
        "\n",
        "[3] https://towardsdatascience.com/cifar-10-image-classification-in-tensorflow-5b501f7dc77c"
      ]
    }
  ]
}