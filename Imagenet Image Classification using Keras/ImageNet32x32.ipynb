{
  "nbformat": 4,
  "nbformat_minor": 0,
  "metadata": {
    "colab": {
      "name": "ImageNet32x32.ipynb",
      "version": "0.3.2",
      "provenance": []
    },
    "kernelspec": {
      "name": "python3",
      "display_name": "Python 3"
    },
    "accelerator": "GPU"
  },
  "cells": [
    {
      "metadata": {
        "id": "74TXAXkGMtUq",
        "colab_type": "text"
      },
      "cell_type": "markdown",
      "source": [
        "## ImageNet using AlexNet "
      ]
    },
    {
      "metadata": {
        "id": "IQEXE1GyOE6U",
        "colab_type": "code",
        "outputId": "258ddcdf-c04c-4f62-cfe4-e9ea65ddeede",
        "colab": {
          "base_uri": "https://localhost:8080/",
          "height": 33
        }
      },
      "cell_type": "code",
      "source": [
        "import keras\n",
        "from keras.utils import np_utils\n",
        "from keras.models import Sequential\n",
        "from keras.layers import Dense, Activation, Dropout, Flatten, Conv2D, MaxPooling2D\n",
        "from keras.layers.convolutional import Conv2D, MaxPooling2D, ZeroPadding2D\n",
        "from keras.layers.normalization import BatchNormalization\n",
        "import os\n",
        "import numpy as np\n",
        "from PIL import Image\n",
        "from keras.regularizers import l2"
      ],
      "execution_count": 1,
      "outputs": [
        {
          "output_type": "stream",
          "text": [
            "Using TensorFlow backend.\n"
          ],
          "name": "stderr"
        }
      ]
    },
    {
      "metadata": {
        "id": "2bLwxEM3BO0k",
        "colab_type": "code",
        "outputId": "a2ac5b0b-409c-4bd4-d453-86120d9324fe",
        "colab": {
          "resources": {
            "http://localhost:8080/nbextensions/google.colab/files.js": {
              "data": "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",
              "ok": true,
              "headers": [
                [
                  "content-type",
                  "application/javascript"
                ]
              ],
              "status": 200,
              "status_text": ""
            }
          },
          "base_uri": "https://localhost:8080/",
          "height": 74
        }
      },
      "cell_type": "code",
      "source": [
        "from google.colab import files\n",
        "uploaded=files.upload()"
      ],
      "execution_count": 2,
      "outputs": [
        {
          "output_type": "display_data",
          "data": {
            "text/html": [
              "\n",
              "     <input type=\"file\" id=\"files-e46d8a45-ad48-4c6c-a69d-54c6fa966b24\" name=\"files[]\" multiple disabled />\n",
              "     <output id=\"result-e46d8a45-ad48-4c6c-a69d-54c6fa966b24\">\n",
              "      Upload widget is only available when the cell has been executed in the\n",
              "      current browser session. Please rerun this cell to enable.\n",
              "      </output>\n",
              "      <script src=\"/nbextensions/google.colab/files.js\"></script> "
            ],
            "text/plain": [
              "<IPython.core.display.HTML object>"
            ]
          },
          "metadata": {
            "tags": []
          }
        },
        {
          "output_type": "stream",
          "text": [
            "Saving tiny-imagenet-200.zip to tiny-imagenet-200.zip\n"
          ],
          "name": "stdout"
        }
      ]
    },
    {
      "metadata": {
        "id": "ITDa_yj3CjWG",
        "colab_type": "code",
        "colab": {}
      },
      "cell_type": "code",
      "source": [
        "def get_annotations_map():\n",
        "    valAnnotationsPath = 'tiny-imagenet-200/val/val_annotations.txt'\n",
        "    valAnnotationsFile = open(valAnnotationsPath, 'r')\n",
        "    valAnnotationsContents = valAnnotationsFile.read()\n",
        "    valAnnotations = {}\n",
        "\n",
        "    for line in valAnnotationsContents.splitlines():\n",
        "        pieces = line.strip().split()\n",
        "        valAnnotations[pieces[0]] = pieces[1]\n",
        "\n",
        "    return valAnnotations"
      ],
      "execution_count": 0,
      "outputs": []
    },
    {
      "metadata": {
        "id": "gPisukiTDG2j",
        "colab_type": "code",
        "colab": {}
      },
      "cell_type": "code",
      "source": [
        "import zipfile,io\n",
        "data = zipfile.ZipFile(io.BytesIO(uploaded['tiny-imagenet-200.zip']),'r')\n",
        "data.extractall()"
      ],
      "execution_count": 0,
      "outputs": []
    },
    {
      "metadata": {
        "id": "sFFbTsCuFzi7",
        "colab_type": "code",
        "outputId": "40270990-0189-4513-fdc6-bffc97bac790",
        "colab": {
          "base_uri": "https://localhost:8080/",
          "height": 254
        }
      },
      "cell_type": "code",
      "source": [
        "train_data_dir = 'tiny-imagenet-200/train'\n",
        "validation_data_dir = 'tiny-imagenet-200/val'\n",
        "test_data_dir = 'tiny-imagenet-200/test'\n",
        "target_names = [item for item in os.listdir(train_data_dir) if os.path.isdir(os.path.join(train_data_dir, item))]\n",
        "nb_train_samples = sum([len(files) for _,_ , files in os.walk(train_data_dir)])\n",
        "nb_validation_samples = sum([len(files) for _,_ , files in os.walk(validation_data_dir)])\n",
        "nb_test_samples = sum([len(files) for _,_ , files in os.walk(test_data_dir)])\n",
        "total_nb_samples = nb_train_samples + nb_validation_samples + nb_test_samples\n",
        "\n",
        "nb_classes = len(target_names)      # number of output classes\n",
        "\n",
        "print('Training a CNN Multi-Classifier Model ......')\n",
        "print('\\n - names of classes: ', target_names, '\\n - # of classes: ', nb_classes)\n",
        "print(' - # of trained samples: ', nb_train_samples, '\\n - # of validation samples: ', nb_validation_samples,\n",
        "     '\\n - # of test samples: ', nb_test_samples,\n",
        "      '\\n - total # of samples: ', total_nb_samples, '\\n - train ratio:', round(nb_train_samples/total_nb_samples*100, 2),\n",
        "     '\\n - validation ratio:', round(nb_validation_samples/total_nb_samples*100, 2),\n",
        "     '\\n - test ratio:', round(nb_test_samples/total_nb_samples*100, 2),\n",
        "    ' %', '\\n - # of epochs: ', 2, '\\n - batch size: ', 500)"
      ],
      "execution_count": 28,
      "outputs": [
        {
          "output_type": "stream",
          "text": [
            "Training a CNN Multi-Classifier Model ......\n",
            "\n",
            " - names of classes:  ['n02129165', 'n03837869', 'n01742172', 'n03250847', 'n03126707', 'n02815834', 'n04532670', 'n03854065', 'n12267677', 'n07615774', 'n03649909', 'n03584254', 'n02226429', 'n02423022', 'n03014705', 'n09332890', 'n03617480', 'n02206856', 'n03763968', 'n03201208', 'n01774384', 'n01698640', 'n01944390', 'n04507155', 'n04532106', 'n03400231', 'n03796401', 'n04259630', 'n02883205', 'n02403003', 'n03976657', 'n02837789', 'n04251144', 'n02123045', 'n02795169', 'n01855672', 'n02124075', 'n04540053', 'n04067472', 'n04560804', 'n02056570', 'n01983481', 'n02486410', 'n07920052', 'n04074963', 'n04376876', 'n04118538', 'n04465501', 'n03838899', 'n03404251', 'n04597913', 'n02988304', 'n03160309', 'n02504458', 'n04417672', 'n02410509', 'n02909870', 'n06596364', 'n07734744', 'n03983396', 'n02480495', 'n02281406', 'n04371430', 'n03662601', 'n03544143', 'n07875152', 'n03937543', 'n02927161', 'n01644900', 'n07720875', 'n02841315', 'n02699494', 'n07768694', 'n01641577', 'n02321529', 'n07753592', 'n03770439', 'n02823428', 'n04023962', 'n03891332', 'n03814639', 'n03637318', 'n02917067', 'n03970156', 'n02106662', 'n04285008', 'n01784675', 'n01945685', 'n01629819', 'n04254777', 'n03733131', 'n04486054', 'n02099712', 'n02094433', 'n02231487', 'n03393912', 'n04596742', 'n01917289', 'n02279972', 'n02364673', 'n01910747', 'n03179701', 'n04501370', 'n02002724', 'n02165456', 'n02085620', 'n04398044', 'n02125311', 'n02268443', 'n02236044', 'n07695742', 'n07711569', 'n02190166', 'n03992509', 'n02843684', 'n02977058', 'n03388043', 'n07614500', 'n01774750', 'n02099601', 'n03447447', 'n04456115', 'n01443537', 'n02481823', 'n07747607', 'n02814860', 'n04275548', 'n03902125', 'n02950826', 'n07871810', 'n03670208', 'n01984695', 'n04133789', 'n07749582', 'n01950731', 'n03100240', 'n02963159', 'n02808440', 'n04366367', 'n03355925', 'n02669723', 'n02769748', 'n04149813', 'n03977966', 'n04487081', 'n09256479', 'n03089624', 'n02233338', 'n02814533', 'n02058221', 'n01770393', 'n02437312', 'n04356056', 'n04008634', 'n02395406', 'n04562935', 'n04179913', 'n03804744', 'n02788148', 'n03599486', 'n07579787', 'n04265275', 'n07873807', 'n02123394', 'n07583066', 'n04070727', 'n02415577', 'n03706229', 'n02802426', 'n02948072', 'n03085013', 'n04328186', 'n03255030', 'n02666196', 'n07715103', 'n03444034', 'n02906734', 'n09193705', 'n03042490', 'n09428293', 'n02793495', 'n02730930', 'n04399382', 'n02113799', 'n02509815', 'n03424325', 'n01882714', 'n03930313', 'n09246464', 'n02074367', 'n02892201', 'n04146614', 'n01768244', 'n04311004', 'n02999410', 'n04099969', 'n03026506', 'n02132136', 'n02791270', 'n03980874'] \n",
            " - # of classes:  200\n",
            " - # of trained samples:  100200 \n",
            " - # of validation samples:  10001 \n",
            " - # of test samples:  10000 \n",
            " - total # of samples:  120201 \n",
            " - train ratio: 83.36 \n",
            " - validation ratio: 8.32 \n",
            " - test ratio: 8.32  % \n",
            " - # of epochs:  2 \n",
            " - batch size:  500\n"
          ],
          "name": "stdout"
        }
      ]
    },
    {
      "metadata": {
        "id": "nWoDFUxz_QZY",
        "colab_type": "code",
        "colab": {}
      },
      "cell_type": "code",
      "source": [
        "\n",
        "\n",
        "def load_images(path,num_classes):\n",
        "    #Load images\n",
        "    \n",
        "    print('Loading ' + str(num_classes) + ' classes')\n",
        "\n",
        "    X_train=np.zeros([num_classes*500,3,32,32],dtype='uint8')\n",
        "    y_train=np.zeros([num_classes*500], dtype='uint8')\n",
        "    \n",
        "    print('loading training images...');\n",
        "    trainPath=path+'/train'\n",
        "\n",
        "    i=0\n",
        "    j=0\n",
        "    annotations={}\n",
        "    for sChild in os.listdir(trainPath):\n",
        "        sChildPath = os.path.join(os.path.join(trainPath,sChild),'images')\n",
        "        annotations[sChild]=j\n",
        "        for c in os.listdir(sChildPath):\n",
        "            X=np.array(Image.open(os.path.join(sChildPath,c)))\n",
        "            if len(np.shape(X))==2:\n",
        "                X_train[i]=np.array([X,X,X])\n",
        "            else:\n",
        "                X_train[i]=np.transpose(X,(2,0,1))\n",
        "            y_train[i]=j\n",
        "            i+=1\n",
        "        j+=1\n",
        "        if (j >= num_classes):\n",
        "            break\n",
        "\n",
        "    print('finished loading training images')\n",
        "\n",
        "    val_annotations_map = get_annotations_map()\n",
        "\n",
        "    X_test = np.zeros([num_classes*50,3,32,32],dtype='uint8')\n",
        "    y_test = np.zeros([num_classes*50], dtype='uint8')\n",
        "\n",
        "\n",
        "    print('loading test images...')\n",
        "\n",
        "    i = 0\n",
        "    valPath=path+ '/val/images'\n",
        "    for sChild in os.listdir(valPath):\n",
        "        if val_annotations_map[sChild] in annotations.keys():\n",
        "            sChildPath = os.path.join(valPath, sChild)\n",
        "            X=np.array(Image.open(sChildPath))\n",
        "            if len(np.shape(X))==2:\n",
        "                X_test[i]=np.array([X,X,X])\n",
        "            else:\n",
        "                X_test[i]=np.transpose(X,(2,0,1))\n",
        "            y_test[i]=annotations[val_annotations_map[sChild]]\n",
        "            i+=1\n",
        "        else:\n",
        "            pass\n",
        "\n",
        "\n",
        "    print('finished loading test images')#+str(i)\n",
        "\n",
        "    return X_train,y_train,X_test,y_test"
      ],
      "execution_count": 0,
      "outputs": []
    },
    {
      "metadata": {
        "id": "GOg2I6vpGjM4",
        "colab_type": "code",
        "colab": {
          "base_uri": "https://localhost:8080/",
          "height": 100
        },
        "outputId": "ff2eea29-f109-46e2-9ae0-5c69feda5d82"
      },
      "cell_type": "code",
      "source": [
        "path=r'tiny-imagenet-200/'\n",
        "X_train,y_train,X_test,y_test=load_images(path,200)#input data path & numbers of classes"
      ],
      "execution_count": 32,
      "outputs": [
        {
          "output_type": "stream",
          "text": [
            "Loading 200 classes\n",
            "loading training images...\n",
            "finished loading training images\n",
            "loading test images...\n",
            "finished loading test images\n"
          ],
          "name": "stdout"
        }
      ]
    },
    {
      "metadata": {
        "id": "SQgtLQ56yR_l",
        "colab_type": "text"
      },
      "cell_type": "markdown",
      "source": [
        "### Data Normalization"
      ]
    },
    {
      "metadata": {
        "id": "nYycT2qhIMxj",
        "colab_type": "code",
        "colab": {}
      },
      "cell_type": "code",
      "source": [
        "X_train = X_train.astype('float32') \n",
        "X_test = X_test.astype('float32') \n",
        "X_train = X_train / 255.0 \n",
        "X_test = X_test / 255.0"
      ],
      "execution_count": 0,
      "outputs": []
    },
    {
      "metadata": {
        "id": "MQZsJfVnITOJ",
        "colab_type": "code",
        "colab": {}
      },
      "cell_type": "code",
      "source": [
        "# one hot encode outputs \n",
        "y_train = np_utils.to_categorical(y_train) \n",
        "y_test = np_utils.to_categorical(y_test) \n",
        "num_classes = y_test.shape[1]"
      ],
      "execution_count": 0,
      "outputs": []
    },
    {
      "metadata": {
        "id": "iEgNbbvgNkdW",
        "colab_type": "text"
      },
      "cell_type": "markdown",
      "source": [
        "## Designing the AlexNet for images of size 32x32"
      ]
    },
    {
      "metadata": {
        "id": "NqDUE5zyM1XZ",
        "colab_type": "code",
        "colab": {}
      },
      "cell_type": "code",
      "source": [
        "    \n",
        "    alexnet = Sequential()\n",
        "    l2_reg = 0.\n",
        "    # Layer 1\n",
        "    alexnet.add(Conv2D(96, (11, 11), input_shape=(3,32,32),\n",
        "                       padding='same', kernel_regularizer=l2(l2_reg)))\n",
        "    alexnet.add(BatchNormalization())\n",
        "    alexnet.add(Activation('relu'))\n",
        "    #alexnet.add(MaxPooling2D(pool_size=(2, 2)))\n",
        "\n",
        "    # Layer 2\n",
        "    alexnet.add(Conv2D(256, (5, 5), padding='same'))\n",
        "    alexnet.add(BatchNormalization())\n",
        "    alexnet.add(Activation('relu'))\n",
        "    alexnet.add(MaxPooling2D(pool_size=(2, 2)))\n",
        "    alexnet.add(Dropout(0.3))\n",
        "\n",
        "    # Layer 3\n",
        "    alexnet.add(ZeroPadding2D((1, 1)))\n",
        "    alexnet.add(Conv2D(512, (3, 3), padding='same'))\n",
        "    alexnet.add(BatchNormalization())\n",
        "    alexnet.add(Activation('relu'))\n",
        "    alexnet.add(MaxPooling2D(pool_size=(2, 2)))\n",
        "    alexnet.add(Dropout(0.3))\n",
        "    \n",
        "    # Layer 4\n",
        "    alexnet.add(ZeroPadding2D((1, 1)))\n",
        "    alexnet.add(Conv2D(1024, (3, 3), padding='same'))\n",
        "    alexnet.add(BatchNormalization())\n",
        "    alexnet.add(Activation('relu'))\n",
        "    alexnet.add(Dropout(0.5))\n",
        "    \n",
        "    # Layer 5\n",
        "    alexnet.add(ZeroPadding2D((1, 1)))\n",
        "    alexnet.add(Conv2D(1024, (3, 3), padding='same'))\n",
        "    alexnet.add(BatchNormalization())\n",
        "    alexnet.add(Activation('relu'))\n",
        "    alexnet.add(MaxPooling2D(pool_size=(2, 2)))\n",
        "\n",
        "    # Layer 6\n",
        "    alexnet.add(Flatten())\n",
        "    alexnet.add(Dense(3072))\n",
        "    alexnet.add(BatchNormalization())\n",
        "    alexnet.add(Activation('relu'))\n",
        "    alexnet.add(Dropout(0.5))\n",
        "\n",
        "    # Layer 7\n",
        "    alexnet.add(Dense(4096))\n",
        "    alexnet.add(BatchNormalization())\n",
        "    alexnet.add(Activation('relu'))\n",
        "    alexnet.add(Dropout(0.5))\n",
        "\n",
        "    # Layer 8\n",
        "    alexnet.add(Dense(200))\n",
        "    alexnet.add(BatchNormalization())\n",
        "    alexnet.add(Activation('softmax'))\n"
      ],
      "execution_count": 0,
      "outputs": []
    },
    {
      "metadata": {
        "id": "2wDDqXH1NXVs",
        "colab_type": "code",
        "colab": {
          "base_uri": "https://localhost:8080/",
          "height": 1338
        },
        "outputId": "02427a41-53d3-4fed-c872-709e40581424"
      },
      "cell_type": "code",
      "source": [
        "alexnet.summary()\n",
        "\n",
        "epoch = 50\n",
        "learn_rate = 0.0001\n",
        "dec = learn_rate /epoch\n",
        "adam=keras.optimizers.Adam(learn_rate)\n",
        "# Compile the model\n",
        "alexnet.compile(loss=keras.losses.categorical_crossentropy,optimizer=adam, metrics=['accuracy'])"
      ],
      "execution_count": 41,
      "outputs": [
        {
          "output_type": "stream",
          "text": [
            "_________________________________________________________________\n",
            "Layer (type)                 Output Shape              Param #   \n",
            "=================================================================\n",
            "conv2d_11 (Conv2D)           (None, 3, 32, 96)         371808    \n",
            "_________________________________________________________________\n",
            "batch_normalization_17 (Batc (None, 3, 32, 96)         384       \n",
            "_________________________________________________________________\n",
            "activation_17 (Activation)   (None, 3, 32, 96)         0         \n",
            "_________________________________________________________________\n",
            "conv2d_12 (Conv2D)           (None, 3, 32, 256)        614656    \n",
            "_________________________________________________________________\n",
            "batch_normalization_18 (Batc (None, 3, 32, 256)        1024      \n",
            "_________________________________________________________________\n",
            "activation_18 (Activation)   (None, 3, 32, 256)        0         \n",
            "_________________________________________________________________\n",
            "max_pooling2d_7 (MaxPooling2 (None, 1, 16, 256)        0         \n",
            "_________________________________________________________________\n",
            "dropout_5 (Dropout)          (None, 1, 16, 256)        0         \n",
            "_________________________________________________________________\n",
            "zero_padding2d_7 (ZeroPaddin (None, 3, 18, 256)        0         \n",
            "_________________________________________________________________\n",
            "conv2d_13 (Conv2D)           (None, 3, 18, 512)        1180160   \n",
            "_________________________________________________________________\n",
            "batch_normalization_19 (Batc (None, 3, 18, 512)        2048      \n",
            "_________________________________________________________________\n",
            "activation_19 (Activation)   (None, 3, 18, 512)        0         \n",
            "_________________________________________________________________\n",
            "max_pooling2d_8 (MaxPooling2 (None, 1, 9, 512)         0         \n",
            "_________________________________________________________________\n",
            "dropout_6 (Dropout)          (None, 1, 9, 512)         0         \n",
            "_________________________________________________________________\n",
            "zero_padding2d_8 (ZeroPaddin (None, 3, 11, 512)        0         \n",
            "_________________________________________________________________\n",
            "conv2d_14 (Conv2D)           (None, 3, 11, 1024)       4719616   \n",
            "_________________________________________________________________\n",
            "batch_normalization_20 (Batc (None, 3, 11, 1024)       4096      \n",
            "_________________________________________________________________\n",
            "activation_20 (Activation)   (None, 3, 11, 1024)       0         \n",
            "_________________________________________________________________\n",
            "dropout_7 (Dropout)          (None, 3, 11, 1024)       0         \n",
            "_________________________________________________________________\n",
            "zero_padding2d_9 (ZeroPaddin (None, 5, 13, 1024)       0         \n",
            "_________________________________________________________________\n",
            "conv2d_15 (Conv2D)           (None, 5, 13, 1024)       9438208   \n",
            "_________________________________________________________________\n",
            "batch_normalization_21 (Batc (None, 5, 13, 1024)       4096      \n",
            "_________________________________________________________________\n",
            "activation_21 (Activation)   (None, 5, 13, 1024)       0         \n",
            "_________________________________________________________________\n",
            "max_pooling2d_9 (MaxPooling2 (None, 2, 6, 1024)        0         \n",
            "_________________________________________________________________\n",
            "flatten_3 (Flatten)          (None, 12288)             0         \n",
            "_________________________________________________________________\n",
            "dense_7 (Dense)              (None, 3072)              37751808  \n",
            "_________________________________________________________________\n",
            "batch_normalization_22 (Batc (None, 3072)              12288     \n",
            "_________________________________________________________________\n",
            "activation_22 (Activation)   (None, 3072)              0         \n",
            "_________________________________________________________________\n",
            "dropout_8 (Dropout)          (None, 3072)              0         \n",
            "_________________________________________________________________\n",
            "dense_8 (Dense)              (None, 4096)              12587008  \n",
            "_________________________________________________________________\n",
            "batch_normalization_23 (Batc (None, 4096)              16384     \n",
            "_________________________________________________________________\n",
            "activation_23 (Activation)   (None, 4096)              0         \n",
            "_________________________________________________________________\n",
            "dropout_9 (Dropout)          (None, 4096)              0         \n",
            "_________________________________________________________________\n",
            "dense_9 (Dense)              (None, 200)               819400    \n",
            "_________________________________________________________________\n",
            "batch_normalization_24 (Batc (None, 200)               800       \n",
            "_________________________________________________________________\n",
            "activation_24 (Activation)   (None, 200)               0         \n",
            "=================================================================\n",
            "Total params: 67,523,784\n",
            "Trainable params: 67,503,224\n",
            "Non-trainable params: 20,560\n",
            "_________________________________________________________________\n"
          ],
          "name": "stdout"
        }
      ]
    },
    {
      "metadata": {
        "id": "KAZWQqYRFzST",
        "colab_type": "code",
        "colab": {
          "base_uri": "https://localhost:8080/",
          "height": 1743
        },
        "outputId": "d1665dfb-bd2c-4513-ea2d-d753df14813b"
      },
      "cell_type": "code",
      "source": [
        "history = alexnet.fit(X_train,y_train,epochs=epoch, validation_data=(X_test, y_test),batch_size=256) \n",
        "# Final evaluation of the model \n",
        "scores = alexnet.evaluate(X_test, y_test, verbose=2) \n",
        "print(\"Accuracy: %.2f%%\" % (scores[1]*100))"
      ],
      "execution_count": 42,
      "outputs": [
        {
          "output_type": "stream",
          "text": [
            "Train on 100000 samples, validate on 10000 samples\n",
            "Epoch 1/50\n",
            "100000/100000 [==============================] - 212s 2ms/step - loss: 5.1860 - acc: 0.0182 - val_loss: 5.7350 - val_acc: 0.0139\n",
            "Epoch 2/50\n",
            "100000/100000 [==============================] - 209s 2ms/step - loss: 4.8049 - acc: 0.0446 - val_loss: 5.9468 - val_acc: 0.0176\n",
            "Epoch 3/50\n",
            "100000/100000 [==============================] - 209s 2ms/step - loss: 4.6236 - acc: 0.0680 - val_loss: 5.5347 - val_acc: 0.0247\n",
            "Epoch 4/50\n",
            "100000/100000 [==============================] - 209s 2ms/step - loss: 4.4646 - acc: 0.0873 - val_loss: 4.7166 - val_acc: 0.0634\n",
            "Epoch 5/50\n",
            "100000/100000 [==============================] - 208s 2ms/step - loss: 4.3465 - acc: 0.1044 - val_loss: 4.6553 - val_acc: 0.0691\n",
            "Epoch 6/50\n",
            "100000/100000 [==============================] - 209s 2ms/step - loss: 4.2468 - acc: 0.1195 - val_loss: 4.5214 - val_acc: 0.0900\n",
            "Epoch 7/50\n",
            "100000/100000 [==============================] - 209s 2ms/step - loss: 4.1523 - acc: 0.1327 - val_loss: 4.4803 - val_acc: 0.0986\n",
            "Epoch 8/50\n",
            "100000/100000 [==============================] - 209s 2ms/step - loss: 4.0622 - acc: 0.1464 - val_loss: 4.4545 - val_acc: 0.0976\n",
            "Epoch 9/50\n",
            "100000/100000 [==============================] - 209s 2ms/step - loss: 3.9749 - acc: 0.1608 - val_loss: 4.3164 - val_acc: 0.1195\n",
            "Epoch 10/50\n",
            "100000/100000 [==============================] - 208s 2ms/step - loss: 3.8899 - acc: 0.1744 - val_loss: 4.1513 - val_acc: 0.1406\n",
            "Epoch 11/50\n",
            "100000/100000 [==============================] - 208s 2ms/step - loss: 3.8162 - acc: 0.1850 - val_loss: 4.0097 - val_acc: 0.1584\n",
            "Epoch 12/50\n",
            "100000/100000 [==============================] - 209s 2ms/step - loss: 3.7399 - acc: 0.1986 - val_loss: 3.8630 - val_acc: 0.1833\n",
            "Epoch 13/50\n",
            "100000/100000 [==============================] - 209s 2ms/step - loss: 3.6630 - acc: 0.2119 - val_loss: 4.0262 - val_acc: 0.1565\n",
            "Epoch 14/50\n",
            "100000/100000 [==============================] - 209s 2ms/step - loss: 3.5975 - acc: 0.2228 - val_loss: 3.8522 - val_acc: 0.1856\n",
            "Epoch 15/50\n",
            "100000/100000 [==============================] - 209s 2ms/step - loss: 3.5267 - acc: 0.2340 - val_loss: 3.8997 - val_acc: 0.1698\n",
            "Epoch 16/50\n",
            "100000/100000 [==============================] - 209s 2ms/step - loss: 3.4549 - acc: 0.2471 - val_loss: 3.7567 - val_acc: 0.2028\n",
            "Epoch 17/50\n",
            "100000/100000 [==============================] - 209s 2ms/step - loss: 3.3920 - acc: 0.2569 - val_loss: 3.7423 - val_acc: 0.2056\n",
            "Epoch 18/50\n",
            "100000/100000 [==============================] - 208s 2ms/step - loss: 3.3238 - acc: 0.2707 - val_loss: 3.7726 - val_acc: 0.2064\n",
            "Epoch 19/50\n",
            "100000/100000 [==============================] - 209s 2ms/step - loss: 3.2511 - acc: 0.2831 - val_loss: 3.6913 - val_acc: 0.2138\n",
            "Epoch 20/50\n",
            "100000/100000 [==============================] - 209s 2ms/step - loss: 3.1886 - acc: 0.2940 - val_loss: 3.6463 - val_acc: 0.2206\n",
            "Epoch 21/50\n",
            "100000/100000 [==============================] - 209s 2ms/step - loss: 3.1167 - acc: 0.3075 - val_loss: 3.6063 - val_acc: 0.2289\n",
            "Epoch 22/50\n",
            "100000/100000 [==============================] - 208s 2ms/step - loss: 3.0480 - acc: 0.3193 - val_loss: 3.7519 - val_acc: 0.2073\n",
            "Epoch 23/50\n",
            "100000/100000 [==============================] - 208s 2ms/step - loss: 2.9781 - acc: 0.3329 - val_loss: 3.6140 - val_acc: 0.2331\n",
            "Epoch 24/50\n",
            "100000/100000 [==============================] - 208s 2ms/step - loss: 2.9061 - acc: 0.3479 - val_loss: 3.5853 - val_acc: 0.2358\n",
            "Epoch 25/50\n",
            "100000/100000 [==============================] - 208s 2ms/step - loss: 2.8354 - acc: 0.3613 - val_loss: 3.5746 - val_acc: 0.2405\n",
            "Epoch 26/50\n",
            "100000/100000 [==============================] - 208s 2ms/step - loss: 2.7710 - acc: 0.3734 - val_loss: 3.6196 - val_acc: 0.2355\n",
            "Epoch 27/50\n",
            "100000/100000 [==============================] - 209s 2ms/step - loss: 2.6973 - acc: 0.3871 - val_loss: 3.5670 - val_acc: 0.2390\n",
            "Epoch 28/50\n",
            "100000/100000 [==============================] - 208s 2ms/step - loss: 2.6237 - acc: 0.4020 - val_loss: 3.6343 - val_acc: 0.2331\n",
            "Epoch 29/50\n",
            "100000/100000 [==============================] - 209s 2ms/step - loss: 2.5563 - acc: 0.4159 - val_loss: 3.5599 - val_acc: 0.2428\n",
            "Epoch 30/50\n",
            "100000/100000 [==============================] - 208s 2ms/step - loss: 2.4869 - acc: 0.4304 - val_loss: 3.4979 - val_acc: 0.2504\n",
            "Epoch 31/50\n",
            "100000/100000 [==============================] - 209s 2ms/step - loss: 2.4113 - acc: 0.4462 - val_loss: 3.5623 - val_acc: 0.2468\n",
            "Epoch 32/50\n",
            "100000/100000 [==============================] - 209s 2ms/step - loss: 2.3421 - acc: 0.4617 - val_loss: 3.5439 - val_acc: 0.2504\n",
            "Epoch 33/50\n",
            "100000/100000 [==============================] - 209s 2ms/step - loss: 2.2752 - acc: 0.4758 - val_loss: 3.6214 - val_acc: 0.2402\n",
            "Epoch 34/50\n",
            "100000/100000 [==============================] - 209s 2ms/step - loss: 2.2032 - acc: 0.4944 - val_loss: 3.5595 - val_acc: 0.2483\n",
            "Epoch 35/50\n",
            "100000/100000 [==============================] - 209s 2ms/step - loss: 2.1347 - acc: 0.5067 - val_loss: 3.5825 - val_acc: 0.2473\n",
            "Epoch 36/50\n",
            "100000/100000 [==============================] - 209s 2ms/step - loss: 2.0614 - acc: 0.5240 - val_loss: 3.5612 - val_acc: 0.2537\n",
            "Epoch 37/50\n",
            "100000/100000 [==============================] - 209s 2ms/step - loss: 1.9930 - acc: 0.5400 - val_loss: 3.6369 - val_acc: 0.2396\n",
            "Epoch 38/50\n",
            "100000/100000 [==============================] - 209s 2ms/step - loss: 1.9225 - acc: 0.5566 - val_loss: 3.5788 - val_acc: 0.2532\n",
            "Epoch 39/50\n",
            "100000/100000 [==============================] - 209s 2ms/step - loss: 1.8546 - acc: 0.5718 - val_loss: 3.5754 - val_acc: 0.2552\n",
            "Epoch 40/50\n",
            "100000/100000 [==============================] - 209s 2ms/step - loss: 1.7926 - acc: 0.5885 - val_loss: 3.5639 - val_acc: 0.2557\n",
            "Epoch 41/50\n",
            "100000/100000 [==============================] - 209s 2ms/step - loss: 1.7278 - acc: 0.6029 - val_loss: 3.6102 - val_acc: 0.2458\n",
            "Epoch 42/50\n",
            "100000/100000 [==============================] - 209s 2ms/step - loss: 1.6663 - acc: 0.6167 - val_loss: 3.6123 - val_acc: 0.2535\n",
            "Epoch 43/50\n",
            "100000/100000 [==============================] - 208s 2ms/step - loss: 1.5931 - acc: 0.6355 - val_loss: 3.5943 - val_acc: 0.2583\n",
            "Epoch 44/50\n",
            "100000/100000 [==============================] - 208s 2ms/step - loss: 1.5328 - acc: 0.6503 - val_loss: 3.5756 - val_acc: 0.2586\n",
            "Epoch 45/50\n",
            "100000/100000 [==============================] - 208s 2ms/step - loss: 1.4748 - acc: 0.6634 - val_loss: 3.5691 - val_acc: 0.2626\n",
            "Epoch 46/50\n",
            "100000/100000 [==============================] - 208s 2ms/step - loss: 1.4123 - acc: 0.6795 - val_loss: 3.6530 - val_acc: 0.2523\n",
            "Epoch 47/50\n",
            "100000/100000 [==============================] - 209s 2ms/step - loss: 1.3521 - acc: 0.6944 - val_loss: 3.6120 - val_acc: 0.2636\n",
            "Epoch 48/50\n",
            "100000/100000 [==============================] - 209s 2ms/step - loss: 1.2978 - acc: 0.7067 - val_loss: 3.6380 - val_acc: 0.2575\n",
            "Epoch 49/50\n",
            "100000/100000 [==============================] - 208s 2ms/step - loss: 1.2456 - acc: 0.7203 - val_loss: 3.6485 - val_acc: 0.2575\n",
            "Epoch 50/50\n",
            "100000/100000 [==============================] - 208s 2ms/step - loss: 1.1985 - acc: 0.7302 - val_loss: 3.6605 - val_acc: 0.2567\n",
            "Accuracy: 25.67%\n"
          ],
          "name": "stdout"
        }
      ]
    },
    {
      "metadata": {
        "id": "jxGfc4l-F2R4",
        "colab_type": "code",
        "colab": {}
      },
      "cell_type": "code",
      "source": [
        "def plotter(trained_record):\n",
        "    # Loss Curves\n",
        "    plt.figure(figsize=[8,6])\n",
        "    plt.plot(trained_record.history['loss'],'r',linewidth=3.0)\n",
        "    plt.plot(trained_record.history['val_loss'],'b',linewidth=3.0)\n",
        "    plt.legend(['Training loss', 'Validation Loss'],fontsize=18)\n",
        "    plt.xlabel('Epochs ',fontsize=16)\n",
        "    plt.ylabel('Loss',fontsize=16)\n",
        "    plt.title('Loss Curves',fontsize=16)\n",
        "    plt.savefig('try1.png')\n",
        "    # Accuracy Curves\n",
        "    plt.figure(figsize=[8,6])\n",
        "    plt.plot(trained_record.history['acc'],'r',linewidth=3.0)\n",
        "    plt.plot(trained_record.history['val_acc'],'b',linewidth=3.0)\n",
        "    plt.legend(['Training Accuracy', 'Validation Accuracy'],fontsize=18)\n",
        "    plt.xlabel('Epochs ',fontsize=16)\n",
        "    plt.ylabel('Accuracy',fontsize=16)\n",
        "    plt.title('Accuracy Curves',fontsize=16)\n",
        "\n",
        "    plt.savefig('try2.png')"
      ],
      "execution_count": 0,
      "outputs": []
    },
    {
      "metadata": {
        "id": "n7urAAAy6HGl",
        "colab_type": "code",
        "colab": {
          "base_uri": "https://localhost:8080/",
          "height": 805
        },
        "outputId": "83bcf17f-ae7b-4632-c729-4cdfda3a695e"
      },
      "cell_type": "code",
      "source": [
        "plotter(history)"
      ],
      "execution_count": 44,
      "outputs": [
        {
          "output_type": "display_data",
          "data": {
            "image/png": "[encoded data removed]",
            "text/plain": [
              "<Figure size 576x432 with 1 Axes>"
            ]
          },
          "metadata": {
            "tags": []
          }
        },
        {
          "output_type": "display_data",
          "data": {
            "image/png": "[encoded data removed]",
            "text/plain": [
              "<Figure size 576x432 with 1 Axes>"
            ]
          },
          "metadata": {
            "tags": []
          }
        }
      ]
    },
    {
      "metadata": {
        "id": "ZJLyxFqd6STz",
        "colab_type": "text"
      },
      "cell_type": "markdown",
      "source": [
        "### Conclusion\n",
        "\n",
        "Reducing the number of neurons did not improve the performance of CNN classification model. So we can reject thethe hypothesis that the model would perform better after reducing the number of neurons because the model is giving similar performace as that of actual neural network. Model started overfitting after 20th epoch"
      ]
    },
    {
      "metadata": {
        "id": "HeEbyqTM6Jnf",
        "colab_type": "code",
        "colab": {}
      },
      "cell_type": "code",
      "source": [
        ""
      ],
      "execution_count": 0,
      "outputs": []
    }
  ]
}