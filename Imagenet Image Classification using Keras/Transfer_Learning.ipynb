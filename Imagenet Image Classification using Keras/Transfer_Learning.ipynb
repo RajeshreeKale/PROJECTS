{
  "nbformat": 4,
  "nbformat_minor": 0,
  "metadata": {
    "colab": {
      "name": "Transfer_Learning.ipynb",
      "version": "0.3.2",
      "provenance": [],
      "collapsed_sections": []
    },
    "kernelspec": {
      "name": "python3",
      "display_name": "Python 3"
    },
    "accelerator": "GPU"
  },
  "cells": [
    {
      "metadata": {
        "id": "WUpd00il12dT",
        "colab_type": "text"
      },
      "cell_type": "markdown",
      "source": [
        "# EXPERIMENT 5\n",
        "Applying Transfer Learning on DenseNet201 network to the CIFAR 10 dataset."
      ]
    },
    {
      "metadata": {
        "id": "FLZDEpRJ5au4",
        "colab_type": "text"
      },
      "cell_type": "markdown",
      "source": [
        "# Transfer learning\n",
        "Transfer learning is a machine learning technique where a model trained on one task is re-purposed on a second related task.\n",
        "In transfer learning, we first train a base network on a base dataset and task, and then we repurpose the learned features, or transfer them, to a second target network to be trained on a target dataset and task. This process will tend to work if the features are general, meaning suitable to both base and target tasks, instead of specific to the base task.\n"
      ]
    },
    {
      "metadata": {
        "id": "i5ZtI-zC5rcp",
        "colab_type": "text"
      },
      "cell_type": "markdown",
      "source": [
        "# Dataset\n",
        "CIFAR-10 dataset The CIFAR-10 dataset consists of 60000 32x32 colour images in 10 classes, with 6000 images per class. There are 50000 training images and 10000 test images.\n",
        "\n",
        "The dataset is divided into five training batches and one test batch, each with 10000 images. The test batch contains exactly 1000 randomly-selected images from each class. The training batches contain the remaining images in random order, but some training batches may contain more images from one class than another. Between them, the training batches contain exactly 5000 images from each class.\n",
        "\n",
        "http://www.cs.utoronto.ca/~kriz/cifar.html"
      ]
    },
    {
      "metadata": {
        "id": "WMr9rtNkrO8J",
        "colab_type": "code",
        "colab": {
          "base_uri": "https://localhost:8080/",
          "height": 68
        },
        "outputId": "c684ce79-466d-4af3-e1ba-1a3d0fc2e140"
      },
      "cell_type": "code",
      "source": [
        "import numpy as np\n",
        "import matplotlib.pyplot as plt\n",
        "from keras.datasets import cifar10\n",
        "import keras\n",
        "\n",
        "#Load the dataset:\n",
        "(X_train, y_train), (X_test, y_test) = cifar10.load_data()"
      ],
      "execution_count": 1,
      "outputs": [
        {
          "output_type": "stream",
          "text": [
            "Using TensorFlow backend.\n"
          ],
          "name": "stderr"
        },
        {
          "output_type": "stream",
          "text": [
            "Downloading data from https://www.cs.toronto.edu/~kriz/cifar-10-python.tar.gz\n",
            "170500096/170498071 [==============================] - 7s 0us/step\n"
          ],
          "name": "stdout"
        }
      ]
    },
    {
      "metadata": {
        "id": "o2fDVnVP5y1j",
        "colab_type": "text"
      },
      "cell_type": "markdown",
      "source": [
        "# Checking the shape of the train and test dataset"
      ]
    },
    {
      "metadata": {
        "id": "k1bPRuQBred6",
        "colab_type": "code",
        "colab": {
          "base_uri": "https://localhost:8080/",
          "height": 51
        },
        "outputId": "e7a641f9-a106-4ace-94c9-7ee860bc4446"
      },
      "cell_type": "code",
      "source": [
        "print(\"There are {} train images and {} test images.\".format(X_train.shape[0], X_test.shape[0]))\n",
        "print('There are {} unique classes to predict.'.format(np.unique(y_train).shape[0]))"
      ],
      "execution_count": 2,
      "outputs": [
        {
          "output_type": "stream",
          "text": [
            "There are 50000 train images and 10000 test images.\n",
            "There are 10 unique classes to predict.\n"
          ],
          "name": "stdout"
        }
      ]
    },
    {
      "metadata": {
        "id": "Rp1APuYt5_Mx",
        "colab_type": "text"
      },
      "cell_type": "markdown",
      "source": [
        "#One-hot encoding the labels"
      ]
    },
    {
      "metadata": {
        "id": "RPZhX_pKre7K",
        "colab_type": "code",
        "colab": {}
      },
      "cell_type": "code",
      "source": [
        "num_classes = 10\n",
        "from keras.utils import np_utils\n",
        "y_train = np_utils.to_categorical(y_train, num_classes)\n",
        "y_test = np_utils.to_categorical(y_test, num_classes)"
      ],
      "execution_count": 0,
      "outputs": []
    },
    {
      "metadata": {
        "id": "z7rInUSu6D-9",
        "colab_type": "text"
      },
      "cell_type": "markdown",
      "source": [
        "# Visualizing & Displaying the first eight images in the training data"
      ]
    },
    {
      "metadata": {
        "id": "qVzZJKfPre9p",
        "colab_type": "code",
        "colab": {
          "base_uri": "https://localhost:8080/",
          "height": 468
        },
        "outputId": "f5b0e800-88e6-44f8-94a5-dc3d09babe61"
      },
      "cell_type": "code",
      "source": [
        "fig = plt.figure(figsize=(10, 10))\n",
        "\n",
        "for i in range(1, 9):\n",
        "    img = X_train[i-1]\n",
        "    fig.add_subplot(2, 4, i)\n",
        "    plt.imshow(img)\n"
      ],
      "execution_count": 4,
      "outputs": [
        {
          "output_type": "display_data",
          "data": {
            "image/png": "[encoded data removed]",
            "text/plain": [
              "<Figure size 720x720 with 8 Axes>"
            ]
          },
          "metadata": {
            "tags": []
          }
        }
      ]
    },
    {
      "metadata": {
        "id": "jwmbHK6J6erX",
        "colab_type": "text"
      },
      "cell_type": "markdown",
      "source": [
        "#Building up a Sequential model\n",
        "Each image in the dataset is of size: 32x32 x3.Building a model from scratch. "
      ]
    },
    {
      "metadata": {
        "id": "MGObkyixrfAW",
        "colab_type": "code",
        "colab": {
          "base_uri": "https://localhost:8080/",
          "height": 479
        },
        "outputId": "cf451a98-fe0d-4f64-eeb9-05bfac03f965"
      },
      "cell_type": "code",
      "source": [
        "#Importing the necessary libraries \n",
        "from keras.models import Sequential\n",
        "from keras.layers import Dense, Conv2D, MaxPooling2D\n",
        "from keras.layers import Dropout, Flatten, GlobalAveragePooling2D\n",
        "\n",
        "#Building up a Sequential model\n",
        "model = Sequential()\n",
        "model.add(Conv2D(32, (3, 3), activation='relu',input_shape = X_train.shape[1:]))\n",
        "model.add(MaxPooling2D(pool_size=(2, 2)))\n",
        "\n",
        "model.add(Conv2D(32, (3, 3), activation='relu'))\n",
        "model.add(MaxPooling2D(pool_size=(2, 2)))\n",
        "\n",
        "model.add(Conv2D(64, (3, 3), activation='relu'))\n",
        "model.add(MaxPooling2D(pool_size=(2, 2)))\n",
        "\n",
        "model.add(GlobalAveragePooling2D())\n",
        "model.add(Dense(10, activation='softmax'))\n",
        "model.summary()"
      ],
      "execution_count": 5,
      "outputs": [
        {
          "output_type": "stream",
          "text": [
            "WARNING:tensorflow:From /usr/local/lib/python3.6/dist-packages/tensorflow/python/framework/op_def_library.py:263: colocate_with (from tensorflow.python.framework.ops) is deprecated and will be removed in a future version.\n",
            "Instructions for updating:\n",
            "Colocations handled automatically by placer.\n",
            "_________________________________________________________________\n",
            "Layer (type)                 Output Shape              Param #   \n",
            "=================================================================\n",
            "conv2d_1 (Conv2D)            (None, 30, 30, 32)        896       \n",
            "_________________________________________________________________\n",
            "max_pooling2d_1 (MaxPooling2 (None, 15, 15, 32)        0         \n",
            "_________________________________________________________________\n",
            "conv2d_2 (Conv2D)            (None, 13, 13, 32)        9248      \n",
            "_________________________________________________________________\n",
            "max_pooling2d_2 (MaxPooling2 (None, 6, 6, 32)          0         \n",
            "_________________________________________________________________\n",
            "conv2d_3 (Conv2D)            (None, 4, 4, 64)          18496     \n",
            "_________________________________________________________________\n",
            "max_pooling2d_3 (MaxPooling2 (None, 2, 2, 64)          0         \n",
            "_________________________________________________________________\n",
            "global_average_pooling2d_1 ( (None, 64)                0         \n",
            "_________________________________________________________________\n",
            "dense_1 (Dense)              (None, 10)                650       \n",
            "=================================================================\n",
            "Total params: 29,290\n",
            "Trainable params: 29,290\n",
            "Non-trainable params: 0\n",
            "_________________________________________________________________\n"
          ],
          "name": "stdout"
        }
      ]
    },
    {
      "metadata": {
        "id": "exDe-KgP7ria",
        "colab_type": "text"
      },
      "cell_type": "markdown",
      "source": [
        "The model contains three convolutional layers, each followed by a max pooling layer and finally a Global Average Pooling layer followed by a dense layer with ‘softmax’ as the activation function. There are a total of 29,290 parameters to train.By using ‘binary cross-entropy’ as the loss function, ‘adam’ as the optimizer and ‘accuracy’ as the performance metric."
      ]
    },
    {
      "metadata": {
        "id": "3Yqf234T_49I",
        "colab_type": "text"
      },
      "cell_type": "markdown",
      "source": [
        "# Compiling the model"
      ]
    },
    {
      "metadata": {
        "id": "hAFfHP4lrfCr",
        "colab_type": "code",
        "colab": {}
      },
      "cell_type": "code",
      "source": [
        "model.compile(loss='binary_crossentropy', optimizer='adam',\n",
        "              metrics=['accuracy'])"
      ],
      "execution_count": 0,
      "outputs": []
    },
    {
      "metadata": {
        "id": "uT6EIF4BACs2",
        "colab_type": "text"
      },
      "cell_type": "markdown",
      "source": [
        "# Rescaling the data. \n",
        "Rescale is a value by which we will multiply the data such that the resultant values lie in the range (0-1). So, in general, scaling ensures that just because some features are big in magnitude, it doesn’t mean they act as the main features in predicting the label."
      ]
    },
    {
      "metadata": {
        "id": "mATALfAarfFL",
        "colab_type": "code",
        "colab": {}
      },
      "cell_type": "code",
      "source": [
        "X_train_scratch = X_train/255.\n",
        "X_test_scratch = X_test/255."
      ],
      "execution_count": 0,
      "outputs": []
    },
    {
      "metadata": {
        "id": "9oqXgO6uARh3",
        "colab_type": "text"
      },
      "cell_type": "markdown",
      "source": [
        "# Creating a checkpointer to save the weights of the best model (i.e. the model with minimum loss).\n",
        "\n"
      ]
    },
    {
      "metadata": {
        "id": "2x6ux8g_Ap3L",
        "colab_type": "text"
      },
      "cell_type": "markdown",
      "source": [
        "Finally, fitting the model to the training data points and labels. After that, spliting the whole training data in batches of 32 and train the model for 10 epochs. We will use be 20 percent of our training data as our validation data. Hence, we will train the model on 10000 samples and validate of 10000 samples."
      ]
    },
    {
      "metadata": {
        "id": "aGUqcV52rfHu",
        "colab_type": "code",
        "colab": {
          "base_uri": "https://localhost:8080/",
          "height": 802
        },
        "outputId": "9bf28005-e118-412d-8820-47a051fc1003"
      },
      "cell_type": "code",
      "source": [
        "#Creating a checkpointer \n",
        "checkpointer =keras.callbacks.ModelCheckpoint(filepath='scratchmodel.best.hdf5', \n",
        "                               verbose=1,save_best_only=True)\n",
        "# keras.callbacks.ModelCheckpoint(filepath ='scratchmodel.best.hdf5', monitor='val_loss', verbose=0, save_best_only=False, save_weights_only=False, mode='auto', period=1)\n",
        "#Fitting the model on the train data and labels.\n",
        "model.fit(X_train, y_train, batch_size=32, epochs=10, \n",
        "          verbose=1, callbacks=[checkpointer], validation_split=0.2, shuffle=True)"
      ],
      "execution_count": 8,
      "outputs": [
        {
          "output_type": "stream",
          "text": [
            "WARNING:tensorflow:From /usr/local/lib/python3.6/dist-packages/tensorflow/python/ops/math_ops.py:3066: to_int32 (from tensorflow.python.ops.math_ops) is deprecated and will be removed in a future version.\n",
            "Instructions for updating:\n",
            "Use tf.cast instead.\n",
            "Train on 40000 samples, validate on 10000 samples\n",
            "Epoch 1/10\n",
            "40000/40000 [==============================] - 16s 389us/step - loss: 2.8859 - acc: 0.8200 - val_loss: 2.8845 - val_acc: 0.8201\n",
            "\n",
            "Epoch 00001: val_loss improved from inf to 2.88448, saving model to scratchmodel.best.hdf5\n",
            "Epoch 2/10\n",
            "40000/40000 [==============================] - 10s 260us/step - loss: 2.8857 - acc: 0.8200 - val_loss: 2.8845 - val_acc: 0.8201\n",
            "\n",
            "Epoch 00002: val_loss did not improve from 2.88448\n",
            "Epoch 3/10\n",
            "40000/40000 [==============================] - 10s 262us/step - loss: 2.8857 - acc: 0.8200 - val_loss: 2.8845 - val_acc: 0.8201\n",
            "\n",
            "Epoch 00003: val_loss did not improve from 2.88448\n",
            "Epoch 4/10\n",
            "40000/40000 [==============================] - 10s 261us/step - loss: 2.8857 - acc: 0.8200 - val_loss: 2.8845 - val_acc: 0.8201\n",
            "\n",
            "Epoch 00004: val_loss did not improve from 2.88448\n",
            "Epoch 5/10\n",
            "40000/40000 [==============================] - 10s 259us/step - loss: 2.8857 - acc: 0.8200 - val_loss: 2.8845 - val_acc: 0.8201\n",
            "\n",
            "Epoch 00005: val_loss did not improve from 2.88448\n",
            "Epoch 6/10\n",
            "40000/40000 [==============================] - 10s 259us/step - loss: 2.8857 - acc: 0.8200 - val_loss: 2.8845 - val_acc: 0.8201\n",
            "\n",
            "Epoch 00006: val_loss did not improve from 2.88448\n",
            "Epoch 7/10\n",
            "40000/40000 [==============================] - 10s 258us/step - loss: 2.8857 - acc: 0.8200 - val_loss: 2.8845 - val_acc: 0.8201\n",
            "\n",
            "Epoch 00007: val_loss did not improve from 2.88448\n",
            "Epoch 8/10\n",
            "40000/40000 [==============================] - 10s 257us/step - loss: 2.8857 - acc: 0.8200 - val_loss: 2.8845 - val_acc: 0.8201\n",
            "\n",
            "Epoch 00008: val_loss did not improve from 2.88448\n",
            "Epoch 9/10\n",
            "40000/40000 [==============================] - 10s 256us/step - loss: 2.8857 - acc: 0.8200 - val_loss: 2.8845 - val_acc: 0.8201\n",
            "\n",
            "Epoch 00009: val_loss did not improve from 2.88448\n",
            "Epoch 10/10\n",
            "40000/40000 [==============================] - 10s 256us/step - loss: 2.8857 - acc: 0.8200 - val_loss: 2.8845 - val_acc: 0.8201\n",
            "\n",
            "Epoch 00010: val_loss did not improve from 2.88448\n"
          ],
          "name": "stdout"
        },
        {
          "output_type": "execute_result",
          "data": {
            "text/plain": [
              "<keras.callbacks.History at 0x7f2dee9e9518>"
            ]
          },
          "metadata": {
            "tags": []
          },
          "execution_count": 8
        }
      ]
    },
    {
      "metadata": {
        "id": "SVDJWsdSAvVK",
        "colab_type": "text"
      },
      "cell_type": "markdown",
      "source": [
        "# Evaluating the model on the test data & Printing the accuracy\n",
        "The best model produces an accuracy of 82.01% on the training samples and 81.96% on the validation samples. Let’s evaluate the performance of the model on the test dataset."
      ]
    },
    {
      "metadata": {
        "id": "bimG-c4wrfKZ",
        "colab_type": "code",
        "colab": {
          "base_uri": "https://localhost:8080/",
          "height": 51
        },
        "outputId": "68d5857b-b104-4839-fa4b-3f8cd575f17e"
      },
      "cell_type": "code",
      "source": [
        "#Evaluate the model on the test data\n",
        "score = model.evaluate(X_test, y_test)\n",
        "\n",
        "#Accuracy on test data\n",
        "print('Accuracy on the Test Images: ', score[1])"
      ],
      "execution_count": 9,
      "outputs": [
        {
          "output_type": "stream",
          "text": [
            "10000/10000 [==============================] - 1s 79us/step\n",
            "Accuracy on the Test Images:  0.8200000176429748\n"
          ],
          "name": "stdout"
        }
      ]
    },
    {
      "metadata": {
        "id": "_Z5sWnhzBhv8",
        "colab_type": "text"
      },
      "cell_type": "markdown",
      "source": [
        "So, the CNN model produces an accuracy of 82% on the test dataset. Let’s implement transfer learning  and check if we can improve the model by using the Densenet201 model, pre-trained on the ‘Imagenet weights’ to implement transfer learning. "
      ]
    },
    {
      "metadata": {
        "id": "FEzYvcqbB4bv",
        "colab_type": "text"
      },
      "cell_type": "markdown",
      "source": [
        "# Importing the Densenet201 model"
      ]
    },
    {
      "metadata": {
        "id": "BPxEwhIqrfNB",
        "colab_type": "code",
        "colab": {
          "base_uri": "https://localhost:8080/",
          "height": 51
        },
        "outputId": "171c7268-e1b6-449d-dbcf-b3d552a53c4a"
      },
      "cell_type": "code",
      "source": [
        "# from keras_applications import densenet\n",
        "# from keras.applications.imagenet_utils import preprocess_input as _preprocess_input\n",
        "# from keras.applications import DenseNet201\n",
        "# from skimage import data, io, filters, transform\n",
        "\n",
        "\n",
        "#Importing the Densenet201 model\n",
        "from keras.applications.densenet import DenseNet201, preprocess_input\n",
        "\n",
        "\n",
        "#Loading the Densenet201 model with pre-trained ImageNet weights\n",
        "model = DenseNet201(weights='imagenet', include_top=False, input_shape=(32, 32, 3))"
      ],
      "execution_count": 10,
      "outputs": [
        {
          "output_type": "stream",
          "text": [
            "Downloading data from https://github.com/keras-team/keras-applications/releases/download/densenet/densenet201_weights_tf_dim_ordering_tf_kernels_notop.h5\n",
            "74842112/74836368 [==============================] - 1s 0us/step\n"
          ],
          "name": "stdout"
        }
      ]
    },
    {
      "metadata": {
        "id": "8AUPKS7IrfPf",
        "colab_type": "code",
        "colab": {}
      },
      "cell_type": "code",
      "source": [
        "def DenseNetImageNet201(input_shape=None,\n",
        "                        bottleneck=True,\n",
        "                        reduction=0.5,\n",
        "                        dropout_rate=0.0,\n",
        "                        weight_decay=1e-4,\n",
        "                        include_top=True,\n",
        "                        weights=None,\n",
        "                        input_tensor=None,\n",
        "                        pooling=None,\n",
        "                        classes=1000,\n",
        "                        activation='softmax'):\n",
        "    return DenseNet(input_shape, depth=201, nb_dense_block=4, growth_rate=32,\n",
        "                    nb_filter=64, nb_layers_per_block=[6, 12, 48, 32],\n",
        "                    bottleneck=bottleneck, reduction=reduction,\n",
        "                    dropout_rate=dropout_rate, weight_decay=weight_decay,\n",
        "                    subsample_initial_block=True, include_top=include_top,\n",
        "                    weights=weights, input_tensor=input_tensor,\n",
        "                    pooling=pooling, classes=classes, activation=activation)"
      ],
      "execution_count": 0,
      "outputs": []
    },
    {
      "metadata": {
        "id": "7Az8n5LWCBCy",
        "colab_type": "text"
      },
      "cell_type": "markdown",
      "source": [
        "Using the pre-trained DenseNet201 model to create bottleneck features for the training data. Next, we will store these bottleneck features offline because calculating them could be computationally expensive"
      ]
    },
    {
      "metadata": {
        "id": "hXb2z949rfSN",
        "colab_type": "code",
        "colab": {}
      },
      "cell_type": "code",
      "source": [
        "# from keras.applications.imagenet_utils import preprocess_input as _preprocess_input\n",
        "import numpy as np\n",
        "import skimage \n",
        "from scipy.misc import imresize\n",
        "\n",
        "#Preprocessing the data, so that it can be fed to the pre-trained ResNet50 model. \n",
        "densenet_train_input = preprocess_input(X_train)\n",
        "\n",
        "#Creating bottleneck features for the training data\n",
        "train_features = model.predict(densenet_train_input)\n",
        "\n",
        "#Saving the bottleneck features\n",
        "np.savez('densenet_train_input', features=train_features)"
      ],
      "execution_count": 0,
      "outputs": []
    },
    {
      "metadata": {
        "id": "HU0v6uVrrfU3",
        "colab_type": "code",
        "colab": {}
      },
      "cell_type": "code",
      "source": [
        "#Preprocessing the data, so that it can be fed to the pre-trained ResNet50 model.\n",
        "densenet_test_input = preprocess_input(X_test)\n",
        "\n",
        "#Creating bottleneck features for the testing data\n",
        "test_features = model.predict(densenet_test_input)\n",
        "\n",
        "#Saving the bottleneck features\n",
        "np.savez('densenet_features_test', features=test_features)\n",
        "#print(X_train.shape[1:])"
      ],
      "execution_count": 0,
      "outputs": []
    },
    {
      "metadata": {
        "id": "-KYdZiy6rfX6",
        "colab_type": "code",
        "colab": {
          "base_uri": "https://localhost:8080/",
          "height": 34
        },
        "outputId": "7007a519-3d09-47b7-8d07-d3edb442da72"
      },
      "cell_type": "code",
      "source": [
        "print(X_train.shape[1:])"
      ],
      "execution_count": 14,
      "outputs": [
        {
          "output_type": "stream",
          "text": [
            "(32, 32, 3)\n"
          ],
          "name": "stdout"
        }
      ]
    },
    {
      "metadata": {
        "id": "-cAAR8fiEGsZ",
        "colab_type": "text"
      },
      "cell_type": "markdown",
      "source": [
        "# Compliing the Model with DenseNet201"
      ]
    },
    {
      "metadata": {
        "id": "CBdITrgmrea6",
        "colab_type": "code",
        "colab": {
          "base_uri": "https://localhost:8080/",
          "height": 445
        },
        "outputId": "e92cf53d-29f3-4385-f808-bd76de4b0189"
      },
      "cell_type": "code",
      "source": [
        "model = Sequential()\n",
        "# model.add(GlobalAveragePooling2D(input_shape=train_features.shape[1:]))\n",
        "model.add(Conv2D(32, (3, 3), activation='relu',input_shape = (X_train.shape[1:])))\n",
        "#model.add(MaxPooling2D(pool_size=(2, 2)))\n",
        "\n",
        "model.add(Conv2D(64, (3, 3), activation='relu'))\n",
        "model.add(MaxPooling2D(pool_size=(2, 2)))\n",
        "\n",
        "\n",
        "model.add(Dropout(0.4))\n",
        "model.add(Flatten())\n",
        "model.add(Dense(256))\n",
        "\n",
        "model.add(Dense(10, activation='softmax'))\n",
        "model.summary()\n"
      ],
      "execution_count": 15,
      "outputs": [
        {
          "output_type": "stream",
          "text": [
            "WARNING:tensorflow:From /usr/local/lib/python3.6/dist-packages/keras/backend/tensorflow_backend.py:3445: calling dropout (from tensorflow.python.ops.nn_ops) with keep_prob is deprecated and will be removed in a future version.\n",
            "Instructions for updating:\n",
            "Please use `rate` instead of `keep_prob`. Rate should be set to `rate = 1 - keep_prob`.\n",
            "_________________________________________________________________\n",
            "Layer (type)                 Output Shape              Param #   \n",
            "=================================================================\n",
            "conv2d_4 (Conv2D)            (None, 30, 30, 32)        896       \n",
            "_________________________________________________________________\n",
            "conv2d_5 (Conv2D)            (None, 28, 28, 64)        18496     \n",
            "_________________________________________________________________\n",
            "max_pooling2d_4 (MaxPooling2 (None, 14, 14, 64)        0         \n",
            "_________________________________________________________________\n",
            "dropout_1 (Dropout)          (None, 14, 14, 64)        0         \n",
            "_________________________________________________________________\n",
            "flatten_1 (Flatten)          (None, 12544)             0         \n",
            "_________________________________________________________________\n",
            "dense_2 (Dense)              (None, 256)               3211520   \n",
            "_________________________________________________________________\n",
            "dense_3 (Dense)              (None, 10)                2570      \n",
            "=================================================================\n",
            "Total params: 3,233,482\n",
            "Trainable params: 3,233,482\n",
            "Non-trainable params: 0\n",
            "_________________________________________________________________\n"
          ],
          "name": "stdout"
        }
      ]
    },
    {
      "metadata": {
        "id": "fVdll8cRsc3d",
        "colab_type": "code",
        "colab": {}
      },
      "cell_type": "code",
      "source": [
        "model.compile(loss='categorical_crossentropy', optimizer='adam', \n",
        "              metrics=['accuracy'])"
      ],
      "execution_count": 0,
      "outputs": []
    },
    {
      "metadata": {
        "id": "9NVepFAdEKUp",
        "colab_type": "text"
      },
      "cell_type": "markdown",
      "source": [
        "# Fitting the model on DenseNet201 network"
      ]
    },
    {
      "metadata": {
        "id": "SU_oIFUesc0U",
        "colab_type": "code",
        "colab": {
          "base_uri": "https://localhost:8080/",
          "height": 731
        },
        "outputId": "9588cfc8-dcda-487a-a39a-1a4c81e945ce"
      },
      "cell_type": "code",
      "source": [
        "#Creating a checkpointer \n",
        "checkpointer =keras.callbacks.ModelCheckpoint(filepath='scratchmodel.best.hdf5', \n",
        "                               verbose=1,save_best_only=True)\n",
        "#Fitting the model on the train data and labels.\n",
        "model.fit(X_train, y_train, batch_size=32, epochs=10, \n",
        "          verbose=1, callbacks=[checkpointer], validation_split=0.2, shuffle=True)\n",
        "# #Creating a checkpointer \n",
        "# checkpointer =keras.callbacks.ModelCheckpoint(filepath='scratchmodel.best.hdf5', \n",
        "#                                verbose=1,save_best_only=True)\n",
        "# # keras.callbacks.ModelCheckpoint(filepath ='scratchmodel.best.hdf5', monitor='val_loss', verbose=0, save_best_only=False, save_weights_only=False, mode='auto', period=1)\n",
        "# #Fitting the model on the train data and labels.\n",
        "# model.fit(X_train, y_train, batch_size=32, epochs=10, \n",
        "#           verbose=1, callbacks=[checkpointer], validation_split=0.2, shuffle=True)"
      ],
      "execution_count": 17,
      "outputs": [
        {
          "output_type": "stream",
          "text": [
            "Train on 40000 samples, validate on 10000 samples\n",
            "Epoch 1/10\n",
            "40000/40000 [==============================] - 23s 571us/step - loss: 14.4984 - acc: 0.1004 - val_loss: 14.5385 - val_acc: 0.0980\n",
            "\n",
            "Epoch 00001: val_loss improved from inf to 14.53852, saving model to scratchmodel.best.hdf5\n",
            "Epoch 2/10\n",
            "40000/40000 [==============================] - 18s 449us/step - loss: 14.4982 - acc: 0.1005 - val_loss: 14.5385 - val_acc: 0.0980\n",
            "\n",
            "Epoch 00002: val_loss did not improve from 14.53852\n",
            "Epoch 3/10\n",
            "40000/40000 [==============================] - 18s 447us/step - loss: 14.4982 - acc: 0.1005 - val_loss: 14.5385 - val_acc: 0.0980\n",
            "\n",
            "Epoch 00003: val_loss did not improve from 14.53852\n",
            "Epoch 4/10\n",
            "40000/40000 [==============================] - 18s 452us/step - loss: 14.4982 - acc: 0.1005 - val_loss: 14.5385 - val_acc: 0.0980\n",
            "\n",
            "Epoch 00004: val_loss did not improve from 14.53852\n",
            "Epoch 5/10\n",
            "40000/40000 [==============================] - 18s 452us/step - loss: 14.4986 - acc: 0.1005 - val_loss: 14.5385 - val_acc: 0.0980\n",
            "\n",
            "Epoch 00005: val_loss did not improve from 14.53852\n",
            "Epoch 6/10\n",
            "40000/40000 [==============================] - 18s 455us/step - loss: 14.4982 - acc: 0.1005 - val_loss: 14.5385 - val_acc: 0.0980\n",
            "\n",
            "Epoch 00006: val_loss did not improve from 14.53852\n",
            "Epoch 7/10\n",
            "40000/40000 [==============================] - 18s 450us/step - loss: 14.4982 - acc: 0.1005 - val_loss: 14.5385 - val_acc: 0.0980\n",
            "\n",
            "Epoch 00007: val_loss did not improve from 14.53852\n",
            "Epoch 8/10\n",
            "40000/40000 [==============================] - 18s 451us/step - loss: 14.4982 - acc: 0.1005 - val_loss: 14.5385 - val_acc: 0.0980\n",
            "\n",
            "Epoch 00008: val_loss did not improve from 14.53852\n",
            "Epoch 9/10\n",
            "40000/40000 [==============================] - 18s 451us/step - loss: 14.4982 - acc: 0.1005 - val_loss: 14.5385 - val_acc: 0.0980\n",
            "\n",
            "Epoch 00009: val_loss did not improve from 14.53852\n",
            "Epoch 10/10\n",
            "40000/40000 [==============================] - 18s 450us/step - loss: 14.4982 - acc: 0.1005 - val_loss: 14.5385 - val_acc: 0.0980\n",
            "\n",
            "Epoch 00010: val_loss did not improve from 14.53852\n"
          ],
          "name": "stdout"
        },
        {
          "output_type": "execute_result",
          "data": {
            "text/plain": [
              "<keras.callbacks.History at 0x7f2dc5867048>"
            ]
          },
          "metadata": {
            "tags": []
          },
          "execution_count": 17
        }
      ]
    },
    {
      "metadata": {
        "id": "mHmb3veAE3XY",
        "colab_type": "text"
      },
      "cell_type": "markdown",
      "source": [
        "# Evaluating the model on the test data & Printing the accuracy using the DenseNet201"
      ]
    },
    {
      "metadata": {
        "id": "1of76adUscx_",
        "colab_type": "code",
        "colab": {
          "base_uri": "https://localhost:8080/",
          "height": 68
        },
        "outputId": "30701f65-882a-4432-e902-773a47dbfe6d"
      },
      "cell_type": "code",
      "source": [
        "# #Evaluate the model on the test data\n",
        "# score  = model.evaluate(test_features, y_test)\n",
        "\n",
        "# #Accuracy on test data\n",
        "# print('Accuracy on the Test Images: ', score[1])\n",
        "\n",
        "scores = model.evaluate(X_test, y_test, verbose=1)\n",
        "print('Test loss:', scores[0])\n",
        "print('Test accuracy:', scores[1])"
      ],
      "execution_count": 18,
      "outputs": [
        {
          "output_type": "stream",
          "text": [
            "10000/10000 [==============================] - 1s 147us/step\n",
            "Test loss: 14.506285668945312\n",
            "Test accuracy: 0.1\n"
          ],
          "name": "stdout"
        }
      ]
    },
    {
      "metadata": {
        "id": "04aBbI1_FAWH",
        "colab_type": "text"
      },
      "cell_type": "markdown",
      "source": [
        "# Conclusion\n",
        "Based on the above model, by using pre-trained features, the accuracy of the model  was intiially 82% on the test data but after applying the DenseNet201 network is was very less. Also, the number of trainable parameters in the transfer model is low as compared to scratch model. Hence the model needs to be further trained more to predict better results."
      ]
    },
    {
      "metadata": {
        "id": "4RLOk7A2Fm0D",
        "colab_type": "text"
      },
      "cell_type": "markdown",
      "source": [
        "# References\n",
        "https://www.hackerearth.com/practice/machine-learning/transfer-learning/transfer-learning-intro/tutorial/\n",
        "\n",
        "https://www.learnopencv.com/keras-tutorial-transfer-learning-using-pre-trained-models/ & \n",
        "\n",
        "https://machinelearningmastery.com/transfer-learning-for-deep-learning/"
      ]
    }
  ]
}