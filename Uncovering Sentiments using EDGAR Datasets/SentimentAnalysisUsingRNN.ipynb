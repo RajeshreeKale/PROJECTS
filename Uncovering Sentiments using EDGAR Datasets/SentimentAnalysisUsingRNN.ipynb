{
  "nbformat": 4,
  "nbformat_minor": 0,
  "metadata": {
    "colab": {
      "name": "SentimentAnalysisUsingRNN.ipynb",
      "version": "0.3.2",
      "provenance": []
    },
    "kernelspec": {
      "name": "python3",
      "display_name": "Python 3"
    }
  },
  "cells": [
    {
      "metadata": {
        "id": "P1h3X0rLuTIT",
        "colab_type": "code",
        "outputId": "4290eeb5-eff3-47b6-9384-5672d38c15dc",
        "colab": {
          "base_uri": "https://localhost:8080/",
          "height": 35
        }
      },
      "cell_type": "code",
      "source": [
        "import keras\n",
        "keras.__version__"
      ],
      "execution_count": 33,
      "outputs": [
        {
          "output_type": "execute_result",
          "data": {
            "text/plain": [
              "'2.2.4'"
            ]
          },
          "metadata": {
            "tags": []
          },
          "execution_count": 33
        }
      ]
    },
    {
      "metadata": {
        "id": "oeuN48G3ucFY",
        "colab_type": "code",
        "colab": {}
      },
      "cell_type": "code",
      "source": [
        "from keras.layers import SimpleRNN"
      ],
      "execution_count": 0,
      "outputs": []
    },
    {
      "metadata": {
        "id": "B9mHsUIKDH18",
        "colab_type": "code",
        "colab": {}
      },
      "cell_type": "code",
      "source": [
        "import pandas as pd\n",
        "import numpy as np\n",
        "import itertools\n",
        "from keras.preprocessing import text, sequence\n",
        "from keras import utils\n",
        "from sklearn.preprocessing import LabelBinarizer, LabelEncoder\n",
        "from keras.layers import Dense, Activation, Dropout\n",
        "from keras.models import Sequential\n",
        "%matplotlib inline\n",
        "import matplotlib.pyplot as plt\n",
        "from sklearn.metrics import confusion_matrix"
      ],
      "execution_count": 0,
      "outputs": []
    },
    {
      "metadata": {
        "id": "vDZ61iwJu1-w",
        "colab_type": "code",
        "outputId": "bc2eb908-694c-4ae8-b7fe-ebab32ae2b20",
        "colab": {
          "base_uri": "https://localhost:8080/",
          "height": 208
        }
      },
      "cell_type": "code",
      "source": [
        "from keras.models import Sequential\n",
        "from keras.layers import Embedding, SimpleRNN\n",
        "\n",
        "model = Sequential()\n",
        "model.add(Embedding(10000, 32))\n",
        "model.add(SimpleRNN(32))\n",
        "model.summary()"
      ],
      "execution_count": 36,
      "outputs": [
        {
          "output_type": "stream",
          "text": [
            "_________________________________________________________________\n",
            "Layer (type)                 Output Shape              Param #   \n",
            "=================================================================\n",
            "embedding_9 (Embedding)      (None, None, 32)          320000    \n",
            "_________________________________________________________________\n",
            "simple_rnn_14 (SimpleRNN)    (None, 32)                2080      \n",
            "=================================================================\n",
            "Total params: 322,080\n",
            "Trainable params: 322,080\n",
            "Non-trainable params: 0\n",
            "_________________________________________________________________\n"
          ],
          "name": "stdout"
        }
      ]
    },
    {
      "metadata": {
        "id": "haurAancu8nL",
        "colab_type": "code",
        "outputId": "ff7756f9-336b-4d9e-9465-f4e677f0cc1e",
        "colab": {
          "base_uri": "https://localhost:8080/",
          "height": 208
        }
      },
      "cell_type": "code",
      "source": [
        "model = Sequential()\n",
        "model.add(Embedding(10000, 32))\n",
        "model.add(SimpleRNN(32, return_sequences=True))\n",
        "model.summary()"
      ],
      "execution_count": 37,
      "outputs": [
        {
          "output_type": "stream",
          "text": [
            "_________________________________________________________________\n",
            "Layer (type)                 Output Shape              Param #   \n",
            "=================================================================\n",
            "embedding_10 (Embedding)     (None, None, 32)          320000    \n",
            "_________________________________________________________________\n",
            "simple_rnn_15 (SimpleRNN)    (None, None, 32)          2080      \n",
            "=================================================================\n",
            "Total params: 322,080\n",
            "Trainable params: 322,080\n",
            "Non-trainable params: 0\n",
            "_________________________________________________________________\n"
          ],
          "name": "stdout"
        }
      ]
    },
    {
      "metadata": {
        "id": "Awc_oEnIvNCi",
        "colab_type": "code",
        "outputId": "5c7a7b19-1d18-4330-eabb-1e9c96732075",
        "colab": {
          "base_uri": "https://localhost:8080/",
          "height": 312
        }
      },
      "cell_type": "code",
      "source": [
        "model = Sequential()\n",
        "model.add(Embedding(10000, 32))\n",
        "model.add(SimpleRNN(32, return_sequences=True))\n",
        "model.add(SimpleRNN(32, return_sequences=True))\n",
        "model.add(SimpleRNN(32, return_sequences=True))\n",
        "model.add(SimpleRNN(32))  # This last layer only returns the last outputs.\n",
        "model.summary()"
      ],
      "execution_count": 38,
      "outputs": [
        {
          "output_type": "stream",
          "text": [
            "_________________________________________________________________\n",
            "Layer (type)                 Output Shape              Param #   \n",
            "=================================================================\n",
            "embedding_11 (Embedding)     (None, None, 32)          320000    \n",
            "_________________________________________________________________\n",
            "simple_rnn_16 (SimpleRNN)    (None, None, 32)          2080      \n",
            "_________________________________________________________________\n",
            "simple_rnn_17 (SimpleRNN)    (None, None, 32)          2080      \n",
            "_________________________________________________________________\n",
            "simple_rnn_18 (SimpleRNN)    (None, None, 32)          2080      \n",
            "_________________________________________________________________\n",
            "simple_rnn_19 (SimpleRNN)    (None, 32)                2080      \n",
            "=================================================================\n",
            "Total params: 328,320\n",
            "Trainable params: 328,320\n",
            "Non-trainable params: 0\n",
            "_________________________________________________________________\n"
          ],
          "name": "stdout"
        }
      ]
    },
    {
      "metadata": {
        "id": "n9821Dqm6NSc",
        "colab_type": "code",
        "colab": {}
      },
      "cell_type": "code",
      "source": [
        "import pandas as pd\n",
        "import numpy as np\n",
        "df=pd.read_json(\"Team11_Boeing.json\")"
      ],
      "execution_count": 0,
      "outputs": []
    },
    {
      "metadata": {
        "id": "Hi9HOgrE7ux_",
        "colab_type": "code",
        "outputId": "9189cd3c-ab0a-4793-fd4e-0dd4c6b601ac",
        "colab": {
          "base_uri": "https://localhost:8080/",
          "height": 202
        }
      },
      "cell_type": "code",
      "source": [
        "df.head(5)"
      ],
      "execution_count": 40,
      "outputs": [
        {
          "output_type": "execute_result",
          "data": {
            "text/html": [
              "<div>\n",
              "<style scoped>\n",
              "    .dataframe tbody tr th:only-of-type {\n",
              "        vertical-align: middle;\n",
              "    }\n",
              "\n",
              "    .dataframe tbody tr th {\n",
              "        vertical-align: top;\n",
              "    }\n",
              "\n",
              "    .dataframe thead th {\n",
              "        text-align: right;\n",
              "    }\n",
              "</style>\n",
              "<table border=\"1\" class=\"dataframe\">\n",
              "  <thead>\n",
              "    <tr style=\"text-align: right;\">\n",
              "      <th></th>\n",
              "      <th>sentiment</th>\n",
              "      <th>text</th>\n",
              "    </tr>\n",
              "  </thead>\n",
              "  <tbody>\n",
              "    <tr>\n",
              "      <th>1</th>\n",
              "      <td>Neutral</td>\n",
              "      <td>Could you catch us up on your latest thinking ...</td>\n",
              "    </tr>\n",
              "    <tr>\n",
              "      <th>10</th>\n",
              "      <td>Neutral</td>\n",
              "      <td>We continue to ramp up the activities for the ...</td>\n",
              "    </tr>\n",
              "    <tr>\n",
              "      <th>100</th>\n",
              "      <td>Negative</td>\n",
              "      <td>Yes, it was sort of just how the conversation ...</td>\n",
              "    </tr>\n",
              "    <tr>\n",
              "      <th>101</th>\n",
              "      <td>Neutral</td>\n",
              "      <td>Yes, we have talked extensively with customers...</td>\n",
              "    </tr>\n",
              "    <tr>\n",
              "      <th>102</th>\n",
              "      <td>Neutral</td>\n",
              "      <td>Next we go to Ron Epstein with Bank of America...</td>\n",
              "    </tr>\n",
              "  </tbody>\n",
              "</table>\n",
              "</div>"
            ],
            "text/plain": [
              "    sentiment                                               text\n",
              "1     Neutral  Could you catch us up on your latest thinking ...\n",
              "10    Neutral  We continue to ramp up the activities for the ...\n",
              "100  Negative  Yes, it was sort of just how the conversation ...\n",
              "101   Neutral  Yes, we have talked extensively with customers...\n",
              "102   Neutral  Next we go to Ron Epstein with Bank of America..."
            ]
          },
          "metadata": {
            "tags": []
          },
          "execution_count": 40
        }
      ]
    },
    {
      "metadata": {
        "id": "oo13j1vD8fhy",
        "colab_type": "code",
        "outputId": "4b771961-6024-4a7e-f68d-9e1ab50e885e",
        "colab": {
          "base_uri": "https://localhost:8080/",
          "height": 87
        }
      },
      "cell_type": "code",
      "source": [
        "df['sentiment'].value_counts()"
      ],
      "execution_count": 41,
      "outputs": [
        {
          "output_type": "execute_result",
          "data": {
            "text/plain": [
              "Neutral     117\n",
              "Positive      8\n",
              "Negative      4\n",
              "Name: sentiment, dtype: int64"
            ]
          },
          "metadata": {
            "tags": []
          },
          "execution_count": 41
        }
      ]
    },
    {
      "metadata": {
        "id": "hRNaLj1F8kpx",
        "colab_type": "code",
        "outputId": "3da06d8e-4468-41f3-e8b9-8a74bf9325f3",
        "colab": {
          "base_uri": "https://localhost:8080/",
          "height": 52
        }
      },
      "cell_type": "code",
      "source": [
        "train_size = int(len(df) * .8)\n",
        "print (\"Train size: %d\" % train_size)\n",
        "print (\"Test size: %d\" % (len(df) - train_size))"
      ],
      "execution_count": 42,
      "outputs": [
        {
          "output_type": "stream",
          "text": [
            "Train size: 103\n",
            "Test size: 26\n"
          ],
          "name": "stdout"
        }
      ]
    },
    {
      "metadata": {
        "id": "NTJbWozr8rNP",
        "colab_type": "code",
        "colab": {}
      },
      "cell_type": "code",
      "source": [
        "train_posts = df['text'][:train_size]\n",
        "train_tags = df['sentiment'][:train_size]\n",
        "\n",
        "test_posts = df['text'][train_size:]\n",
        "test_tags = df['sentiment'][train_size:]"
      ],
      "execution_count": 0,
      "outputs": []
    },
    {
      "metadata": {
        "id": "3eZUwhv4-fH1",
        "colab_type": "code",
        "colab": {}
      },
      "cell_type": "code",
      "source": [
        "max_words = 1000\n",
        "tokenize = text.Tokenizer(num_words=max_words, char_level=False)"
      ],
      "execution_count": 0,
      "outputs": []
    },
    {
      "metadata": {
        "id": "nShQImqKDX7R",
        "colab_type": "code",
        "colab": {}
      },
      "cell_type": "code",
      "source": [
        "tokenize.fit_on_texts(train_posts) # only fit on train\n",
        "x_train = tokenize.texts_to_matrix(train_posts)\n",
        "x_test = tokenize.texts_to_matrix(test_posts)"
      ],
      "execution_count": 0,
      "outputs": []
    },
    {
      "metadata": {
        "id": "qvj2rNUHDc_s",
        "colab_type": "code",
        "colab": {}
      },
      "cell_type": "code",
      "source": [
        "# Use sklearn utility to convert label strings to numbered index\n",
        "encoder = LabelEncoder()\n",
        "encoder.fit(train_tags)\n",
        "y_train = encoder.transform(train_tags)\n",
        "y_test = encoder.transform(test_tags)"
      ],
      "execution_count": 0,
      "outputs": []
    },
    {
      "metadata": {
        "id": "ifD6G-AODoQY",
        "colab_type": "code",
        "colab": {}
      },
      "cell_type": "code",
      "source": [
        "# Converts the labels to a one-hot representation\n",
        "num_classes = np.max(y_train) + 1\n",
        "y_train = utils.to_categorical(y_train, num_classes)\n",
        "y_test = utils.to_categorical(y_test, num_classes)"
      ],
      "execution_count": 0,
      "outputs": []
    },
    {
      "metadata": {
        "id": "ML7oEZe5DrDb",
        "colab_type": "code",
        "colab": {
          "base_uri": "https://localhost:8080/",
          "height": 87
        },
        "outputId": "426844b6-5494-4db2-de32-b0ebc3c91983"
      },
      "cell_type": "code",
      "source": [
        "# Inspect the dimenstions of our training and test data (this is helpful to debug)\n",
        "print('x_train shape:', x_train.shape)\n",
        "print('x_test shape:', x_test.shape)\n",
        "print('y_train shape:', y_train.shape)\n",
        "print('y_test shape:', y_test.shape)"
      ],
      "execution_count": 49,
      "outputs": [
        {
          "output_type": "stream",
          "text": [
            "x_train shape: (103, 1000)\n",
            "x_test shape: (26, 1000)\n",
            "y_train shape: (103, 3)\n",
            "y_test shape: (26, 3)\n"
          ],
          "name": "stdout"
        }
      ]
    },
    {
      "metadata": {
        "id": "taq03mJSEpFg",
        "colab_type": "code",
        "colab": {}
      },
      "cell_type": "code",
      "source": [
        "# This model trains very quickly and 2 epochs are already more than enough\n",
        "# Training for more epochs will likely lead to overfitting on this dataset\n",
        "# You can try tweaking these hyperparamaters when using this model with your own data\n",
        "batch_size = 32\n",
        "epochs = 2"
      ],
      "execution_count": 0,
      "outputs": []
    },
    {
      "metadata": {
        "id": "AVNnBNcsvXjJ",
        "colab_type": "code",
        "outputId": "9047f47b-20cf-4757-e0d8-89d0bc43b875",
        "colab": {
          "base_uri": "https://localhost:8080/",
          "height": 69
        }
      },
      "cell_type": "code",
      "source": [
        "#from keras.datasets import imdb\n",
        "from keras.preprocessing import sequence\n",
        "\n",
        "max_features = 10000  # number of words to consider as features\n",
        "maxlen = 500  # cut texts after this number of words (among top max_features most common words)\n",
        "batch_size = 32\n",
        "\n",
        "# print('Loading data...')\n",
        "# (input_train, y_train), (input_test, y_test) = df.load_data(num_words=max_features)\n",
        "# print(len(input_train), 'train sequences')\n",
        "# print(len(input_test), 'test sequences')\n",
        "\n",
        "print('Pad sequences (samples x time)')\n",
        "input_train = sequence.pad_sequences(x_train, maxlen=maxlen)\n",
        "input_test = sequence.pad_sequences(x_test, maxlen=maxlen)\n",
        "print('input_train shape:', x_train.shape)\n",
        "print('input_test shape:', x_test.shape)"
      ],
      "execution_count": 55,
      "outputs": [
        {
          "output_type": "stream",
          "text": [
            "Pad sequences (samples x time)\n",
            "input_train shape: (103, 1000)\n",
            "input_test shape: (26, 1000)\n"
          ],
          "name": "stdout"
        }
      ]
    },
    {
      "metadata": {
        "id": "G4FLdLz9vfq5",
        "colab_type": "code",
        "outputId": "21bbe9fd-69fd-42f7-fd28-faf581ad547f",
        "colab": {
          "base_uri": "https://localhost:8080/",
          "height": 381
        }
      },
      "cell_type": "code",
      "source": [
        "from keras.layers import Dense\n",
        "\n",
        "model = Sequential()\n",
        "model.add(Embedding(max_features, 32))\n",
        "model.add(SimpleRNN(32))\n",
        "model.add(Dense(num_classes, activation='sigmoid'))\n",
        "\n",
        "model.compile(optimizer='rmsprop', loss='binary_crossentropy', metrics=['acc'])\n",
        "history = model.fit(input_train, y_train,\n",
        "                    epochs=10,\n",
        "                    batch_size=128,\n",
        "                    validation_split=0.2)"
      ],
      "execution_count": 56,
      "outputs": [
        {
          "output_type": "stream",
          "text": [
            "Train on 82 samples, validate on 21 samples\n",
            "Epoch 1/10\n",
            "82/82 [==============================] - 1s 16ms/step - loss: 0.7064 - acc: 0.6138 - val_loss: 0.6216 - val_acc: 0.3651\n",
            "Epoch 2/10\n",
            "82/82 [==============================] - 0s 1ms/step - loss: 0.6176 - acc: 0.3618 - val_loss: 0.5667 - val_acc: 0.9365\n",
            "Epoch 3/10\n",
            "82/82 [==============================] - 0s 1ms/step - loss: 0.5578 - acc: 0.9756 - val_loss: 0.5265 - val_acc: 0.9365\n",
            "Epoch 4/10\n",
            "82/82 [==============================] - 0s 1ms/step - loss: 0.5134 - acc: 0.9756 - val_loss: 0.4964 - val_acc: 0.9365\n",
            "Epoch 5/10\n",
            "82/82 [==============================] - 0s 1ms/step - loss: 0.4796 - acc: 0.9756 - val_loss: 0.4717 - val_acc: 0.9365\n",
            "Epoch 6/10\n",
            "82/82 [==============================] - 0s 1ms/step - loss: 0.4517 - acc: 0.9756 - val_loss: 0.4504 - val_acc: 0.9365\n",
            "Epoch 7/10\n",
            "82/82 [==============================] - 0s 1ms/step - loss: 0.4273 - acc: 0.9756 - val_loss: 0.4315 - val_acc: 0.9365\n",
            "Epoch 8/10\n",
            "82/82 [==============================] - 0s 1ms/step - loss: 0.4055 - acc: 0.9756 - val_loss: 0.4145 - val_acc: 0.9365\n",
            "Epoch 9/10\n",
            "82/82 [==============================] - 0s 1ms/step - loss: 0.3857 - acc: 0.9756 - val_loss: 0.3991 - val_acc: 0.9365\n",
            "Epoch 10/10\n",
            "82/82 [==============================] - 0s 1ms/step - loss: 0.3676 - acc: 0.9756 - val_loss: 0.3851 - val_acc: 0.9365\n"
          ],
          "name": "stdout"
        }
      ]
    },
    {
      "metadata": {
        "id": "8e4SW-2Dy1yd",
        "colab_type": "code",
        "outputId": "aeb84dbe-e73e-47fa-f658-489cef42504d",
        "colab": {
          "base_uri": "https://localhost:8080/",
          "height": 544
        }
      },
      "cell_type": "code",
      "source": [
        "import matplotlib.pyplot as plt\n",
        "\n",
        "acc = history.history['acc']\n",
        "val_acc = history.history['val_acc']\n",
        "loss = history.history['loss']\n",
        "val_loss = history.history['val_loss']\n",
        "\n",
        "epochs = range(len(acc))\n",
        "\n",
        "plt.plot(epochs, acc, 'bo', label='Training acc')\n",
        "plt.plot(epochs, val_acc, 'b', label='Validation acc')\n",
        "plt.title('Training and validation accuracy')\n",
        "plt.legend()\n",
        "\n",
        "plt.figure()\n",
        "\n",
        "plt.plot(epochs, loss, 'bo', label='Training loss')\n",
        "plt.plot(epochs, val_loss, 'b', label='Validation loss')\n",
        "plt.title('Training and validation loss')\n",
        "plt.legend()\n",
        "\n",
        "plt.show()"
      ],
      "execution_count": 57,
      "outputs": [
        {
          "output_type": "display_data",
          "data": {
            "image/png": "[encoded data removed]",
            "text/plain": [
              "<Figure size 432x288 with 1 Axes>"
            ]
          },
          "metadata": {
            "tags": []
          }
        },
        {
          "output_type": "display_data",
          "data": {
            "image/png": "[encoded data removed]",
            "text/plain": [
              "<Figure size 432x288 with 1 Axes>"
            ]
          },
          "metadata": {
            "tags": []
          }
        }
      ]
    },
    {
      "metadata": {
        "id": "LD6KiJbty36x",
        "colab_type": "code",
        "outputId": "a51ad9a7-a287-4a90-dbcb-9c5730bf0a71",
        "colab": {
          "base_uri": "https://localhost:8080/",
          "height": 381
        }
      },
      "cell_type": "code",
      "source": [
        "from keras.layers import LSTM\n",
        "\n",
        "model = Sequential()\n",
        "model.add(Embedding(max_features, 32))\n",
        "model.add(LSTM(32))\n",
        "model.add(Dense(num_classes, activation='sigmoid'))\n",
        "\n",
        "model.compile(optimizer='rmsprop',\n",
        "              loss='binary_crossentropy',\n",
        "              metrics=['acc'])\n",
        "history = model.fit(x_train, y_train,\n",
        "                    epochs=10,\n",
        "                    batch_size=128,\n",
        "                    validation_split=0.2)"
      ],
      "execution_count": 59,
      "outputs": [
        {
          "output_type": "stream",
          "text": [
            "Train on 82 samples, validate on 21 samples\n",
            "Epoch 1/10\n",
            "82/82 [==============================] - 3s 31ms/step - loss: 0.6955 - acc: 0.6504 - val_loss: 0.6802 - val_acc: 0.9365\n",
            "Epoch 2/10\n",
            "82/82 [==============================] - 1s 10ms/step - loss: 0.6792 - acc: 0.9715 - val_loss: 0.6678 - val_acc: 0.9365\n",
            "Epoch 3/10\n",
            "82/82 [==============================] - 1s 10ms/step - loss: 0.6659 - acc: 0.9715 - val_loss: 0.6545 - val_acc: 0.9365\n",
            "Epoch 4/10\n",
            "82/82 [==============================] - 1s 10ms/step - loss: 0.6517 - acc: 0.9756 - val_loss: 0.6387 - val_acc: 0.9365\n",
            "Epoch 5/10\n",
            "82/82 [==============================] - 1s 10ms/step - loss: 0.6346 - acc: 0.9756 - val_loss: 0.6185 - val_acc: 0.9365\n",
            "Epoch 6/10\n",
            "82/82 [==============================] - 1s 10ms/step - loss: 0.6128 - acc: 0.9756 - val_loss: 0.5908 - val_acc: 0.9365\n",
            "Epoch 7/10\n",
            "82/82 [==============================] - 1s 10ms/step - loss: 0.5829 - acc: 0.9756 - val_loss: 0.5510 - val_acc: 0.9365\n",
            "Epoch 8/10\n",
            "82/82 [==============================] - 1s 10ms/step - loss: 0.5396 - acc: 0.9756 - val_loss: 0.4945 - val_acc: 0.9365\n",
            "Epoch 9/10\n",
            "82/82 [==============================] - 1s 10ms/step - loss: 0.4773 - acc: 0.9756 - val_loss: 0.4261 - val_acc: 0.9365\n",
            "Epoch 10/10\n",
            "82/82 [==============================] - 1s 11ms/step - loss: 0.4001 - acc: 0.9756 - val_loss: 0.3648 - val_acc: 0.9365\n"
          ],
          "name": "stdout"
        }
      ]
    },
    {
      "metadata": {
        "id": "uvuAdlqkHMry",
        "colab_type": "code",
        "colab": {
          "base_uri": "https://localhost:8080/",
          "height": 69
        },
        "outputId": "1309aa77-587b-4d06-f6d0-7543b5ff1bae"
      },
      "cell_type": "code",
      "source": [
        "score = model.evaluate(x_test, y_test,\n",
        "                       batch_size=batch_size, verbose=1)\n",
        "print('Test score:', score[0])\n",
        "print('Test accuracy:', score[1])"
      ],
      "execution_count": 62,
      "outputs": [
        {
          "output_type": "stream",
          "text": [
            "\r26/26 [==============================] - 0s 3ms/step\n",
            "Test score: 0.4825204014778137\n",
            "Test accuracy: 0.8205128312110901\n"
          ],
          "name": "stdout"
        }
      ]
    },
    {
      "metadata": {
        "id": "YGjF1hhWHPVF",
        "colab_type": "code",
        "colab": {
          "base_uri": "https://localhost:8080/",
          "height": 711
        },
        "outputId": "1f372636-d6be-47d7-bee6-5097dea1da29"
      },
      "cell_type": "code",
      "source": [
        "text_labels = encoder.classes_ \n",
        "\n",
        "for i in range(10):\n",
        "    prediction = model.predict(np.array([x_test[i]]))\n",
        "    predicted_label = text_labels[np.argmax(prediction)]\n",
        "    print(test_posts.iloc[i][:50], \"...\")\n",
        "    print('Actual label:' + test_tags.iloc[i])\n",
        "    print(\"Predicted label: \" + predicted_label + \"\\n\")"
      ],
      "execution_count": 63,
      "outputs": [
        {
          "output_type": "stream",
          "text": [
            "Yes. So obviously, we will manage that extremely t ...\n",
            "Actual label:Neutral\n",
            "Predicted label: Neutral\n",
            "\n",
            "All included in that. ...\n",
            "Actual label:Neutral\n",
            "Predicted label: Neutral\n",
            "\n",
            "All included. Absolutely, yes. ...\n",
            "Actual label:Positive\n",
            "Predicted label: Neutral\n",
            "\n",
            "And your Unit 2 program, you got it, you right on  ...\n",
            "Actual label:Neutral\n",
            "Predicted label: Neutral\n",
            "\n",
            "Continued healthy sales activity contributed to 89 ...\n",
            "Actual label:Neutral\n",
            "Predicted label: Neutral\n",
            "\n",
            "And next we go to Douglas Harned with Bernstein. P ...\n",
            "Actual label:Neutral\n",
            "Predicted label: Neutral\n",
            "\n",
            "I wanted to continue on the 787. And just to under ...\n",
            "Actual label:Negative\n",
            "Predicted label: Neutral\n",
            "\n",
            "Next question from Seth Seifman with JPMorgan. Ple ...\n",
            "Actual label:Positive\n",
            "Predicted label: Neutral\n",
            "\n",
            "So you mentioned the idea of, I think, trying to b ...\n",
            "Actual label:Negative\n",
            "Predicted label: Neutral\n",
            "\n",
            "Seth, we’re working both in parallel. Certainly du ...\n",
            "Actual label:Positive\n",
            "Predicted label: Neutral\n",
            "\n"
          ],
          "name": "stdout"
        }
      ]
    },
    {
      "metadata": {
        "id": "T7an9V3KHWwU",
        "colab_type": "code",
        "colab": {}
      },
      "cell_type": "code",
      "source": [
        "y_softmax = model.predict(x_test)\n",
        "\n",
        "y_test_1d = []\n",
        "y_pred_1d = []\n",
        "\n",
        "for i in range(len(y_test)):\n",
        "    probs = y_test[i]\n",
        "    index_arr = np.nonzero(probs)\n",
        "    one_hot_index = index_arr[0].item(0)\n",
        "    y_test_1d.append(one_hot_index)\n",
        "\n",
        "for i in range(0, len(y_softmax)):\n",
        "    probs = y_softmax[i]\n",
        "    predicted_index = np.argmax(probs)\n",
        "    y_pred_1d.append(predicted_index)"
      ],
      "execution_count": 0,
      "outputs": []
    },
    {
      "metadata": {
        "id": "i8SHdTt4GhTi",
        "colab_type": "code",
        "colab": {}
      },
      "cell_type": "code",
      "source": [
        "def plot_confusion_matrix(cm, classes,\n",
        "                          title='Confusion matrix',\n",
        "                          cmap=plt.cm.Blues):\n",
        "    \"\"\"\n",
        "    This function prints and plots the confusion matrix.\n",
        "    Normalization can be applied by setting `normalize=True`.\n",
        "    \"\"\"\n",
        "\n",
        "    cm = cm.astype('float') / cm.sum(axis=1)[:, np.newaxis]\n",
        "\n",
        "    plt.imshow(cm, interpolation='nearest', cmap=cmap)\n",
        "    plt.title(title, fontsize=30)\n",
        "    plt.colorbar()\n",
        "    tick_marks = np.arange(len(classes))\n",
        "    plt.xticks(tick_marks, classes, rotation=45, fontsize=22)\n",
        "    plt.yticks(tick_marks, classes, fontsize=22)\n",
        "\n",
        "    fmt = '.2f'\n",
        "    thresh = cm.max() / 2.\n",
        "    for i, j in itertools.product(range(cm.shape[0]), range(cm.shape[1])):\n",
        "        plt.text(j, i, format(cm[i, j], fmt),\n",
        "                 horizontalalignment=\"center\",\n",
        "                 color=\"white\" if cm[i, j] > thresh else \"black\")\n",
        "\n",
        "    plt.ylabel('True label', fontsize=25)\n",
        "    plt.xlabel('Predicted label', fontsize=25)"
      ],
      "execution_count": 0,
      "outputs": []
    },
    {
      "metadata": {
        "id": "NNT6A5QmGsBq",
        "colab_type": "code",
        "colab": {
          "base_uri": "https://localhost:8080/",
          "height": 1241
        },
        "outputId": "9ab95f3c-9187-4679-9344-6238513f8ca5"
      },
      "cell_type": "code",
      "source": [
        "cnf_matrix = confusion_matrix(y_test_1d, y_pred_1d)\n",
        "plt.figure(figsize=(24,20))\n",
        "plot_confusion_matrix(cnf_matrix, classes=text_labels, title=\"Confusion matrix\")\n",
        "plt.show()"
      ],
      "execution_count": 66,
      "outputs": [
        {
          "output_type": "display_data",
          "data": {
            "image/png": "[encoded data removed]",
            "text/plain": [
              "<Figure size 1728x1440 with 2 Axes>"
            ]
          },
          "metadata": {
            "tags": []
          }
        }
      ]
    }
  ]
}