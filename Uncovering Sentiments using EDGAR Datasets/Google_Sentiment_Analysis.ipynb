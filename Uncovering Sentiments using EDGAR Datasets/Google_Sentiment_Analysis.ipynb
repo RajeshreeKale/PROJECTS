{
  "nbformat": 4,
  "nbformat_minor": 0,
  "metadata": {
    "colab": {
      "name": "Google - Sentiment Analysis.ipynb",
      "version": "0.3.2",
      "provenance": []
    },
    "kernelspec": {
      "name": "python3",
      "display_name": "Python 3"
    },
    "accelerator": "GPU"
  },
  "cells": [
    {
      "metadata": {
        "id": "nhmZFlqwrv4T",
        "colab_type": "code",
        "colab": {}
      },
      "cell_type": "code",
      "source": [
        "import argparse\n",
        "from google.cloud import language\n",
        "from google.cloud.language import enums\n",
        "from google.cloud.language import types\n",
        "import os\n",
        "from google.oauth2 import service_account\n",
        "import json\n",
        "import pandas as pd\n",
        "import time\n",
        "from functools import reduce\n",
        "import matplotlib.pyplot as plt"
      ],
      "execution_count": 0,
      "outputs": []
    },
    {
      "metadata": {
        "id": "yRgUw7Y7rv4l",
        "colab_type": "code",
        "colab": {}
      },
      "cell_type": "code",
      "source": [
        "cred_file_loc = r'SentimentAnalysis-2950f6ec90b2.json'"
      ],
      "execution_count": 0,
      "outputs": []
    },
    {
      "metadata": {
        "id": "zt8kQ5Oorv40",
        "colab_type": "code",
        "colab": {}
      },
      "cell_type": "code",
      "source": [
        "cred = service_account.Credentials.from_service_account_file(cred_file_loc)"
      ],
      "execution_count": 0,
      "outputs": []
    },
    {
      "metadata": {
        "id": "esRrn4STrv5C",
        "colab_type": "code",
        "colab": {}
      },
      "cell_type": "code",
      "source": [
        "Client = language.LanguageServiceClient(credentials=cred)"
      ],
      "execution_count": 0,
      "outputs": []
    },
    {
      "metadata": {
        "id": "-7ktmxLErv5T",
        "colab_type": "code",
        "colab": {
          "base_uri": "https://localhost:8080/",
          "height": 202
        },
        "outputId": "d0467e8a-7622-4072-81a9-215ca3d44315"
      },
      "cell_type": "code",
      "source": [
        "with open('cleanedDataset.json') as f:\n",
        "    json_1 = json.load(f)\n",
        "dict_1 = dict(json_1)\n",
        "df_1 = pd.DataFrame.from_dict(dict_1)\n",
        "df_1.head()"
      ],
      "execution_count": 5,
      "outputs": [
        {
          "output_type": "execute_result",
          "data": {
            "text/html": [
              "<div>\n",
              "<style scoped>\n",
              "    .dataframe tbody tr th:only-of-type {\n",
              "        vertical-align: middle;\n",
              "    }\n",
              "\n",
              "    .dataframe tbody tr th {\n",
              "        vertical-align: top;\n",
              "    }\n",
              "\n",
              "    .dataframe thead th {\n",
              "        text-align: right;\n",
              "    }\n",
              "</style>\n",
              "<table border=\"1\" class=\"dataframe\">\n",
              "  <thead>\n",
              "    <tr style=\"text-align: right;\">\n",
              "      <th></th>\n",
              "      <th>sentiment</th>\n",
              "      <th>text</th>\n",
              "    </tr>\n",
              "  </thead>\n",
              "  <tbody>\n",
              "    <tr>\n",
              "      <th>0</th>\n",
              "      <td>Positive</td>\n",
              "      <td>Thank you, Ellen. We have a strong 2018, with ...</td>\n",
              "    </tr>\n",
              "    <tr>\n",
              "      <th>1</th>\n",
              "      <td>Positive</td>\n",
              "      <td>Stock-based compensation totaled $2.3 billion....</td>\n",
              "    </tr>\n",
              "    <tr>\n",
              "      <th>10</th>\n",
              "      <td>Neutral</td>\n",
              "      <td>Ladies and gentlemen, this does conclude the G...</td>\n",
              "    </tr>\n",
              "    <tr>\n",
              "      <th>100</th>\n",
              "      <td>Positive</td>\n",
              "      <td>And that has thrown up, as I said in my commen...</td>\n",
              "    </tr>\n",
              "    <tr>\n",
              "      <th>1000</th>\n",
              "      <td>Neutral</td>\n",
              "      <td>For S and X, we did eliminate the 75 [indiscer...</td>\n",
              "    </tr>\n",
              "  </tbody>\n",
              "</table>\n",
              "</div>"
            ],
            "text/plain": [
              "     sentiment                                               text\n",
              "0     Positive  Thank you, Ellen. We have a strong 2018, with ...\n",
              "1     Positive  Stock-based compensation totaled $2.3 billion....\n",
              "10     Neutral  Ladies and gentlemen, this does conclude the G...\n",
              "100   Positive  And that has thrown up, as I said in my commen...\n",
              "1000   Neutral  For S and X, we did eliminate the 75 [indiscer..."
            ]
          },
          "metadata": {
            "tags": []
          },
          "execution_count": 5
        }
      ]
    },
    {
      "metadata": {
        "id": "v5KvrGIPrv5w",
        "colab_type": "code",
        "colab": {}
      },
      "cell_type": "code",
      "source": [
        "final_df = df_1.reset_index()"
      ],
      "execution_count": 0,
      "outputs": []
    },
    {
      "metadata": {
        "id": "9vQ52mHsrv5_",
        "colab_type": "code",
        "colab": {}
      },
      "cell_type": "code",
      "source": [
        "final_df = final_df.drop('index',axis=1)"
      ],
      "execution_count": 0,
      "outputs": []
    },
    {
      "metadata": {
        "id": "RH2TooVrrv6N",
        "colab_type": "code",
        "colab": {}
      },
      "cell_type": "code",
      "source": [
        "x = final_df['text']"
      ],
      "execution_count": 0,
      "outputs": []
    },
    {
      "metadata": {
        "id": "WDJssUmcrv6d",
        "colab_type": "code",
        "colab": {}
      },
      "cell_type": "code",
      "source": [
        "cleaned_text = [w.lower() for w in x] #converting all text to lowercase"
      ],
      "execution_count": 0,
      "outputs": []
    },
    {
      "metadata": {
        "id": "xFPDZN4lrv6v",
        "colab_type": "code",
        "colab": {}
      },
      "cell_type": "code",
      "source": [
        "results = []\n",
        "for paragrph in cleaned_text:\n",
        "\n",
        "    document = types.Document(content=paragrph, type=enums.Document.Type.PLAIN_TEXT)\n",
        "    result =Client.analyze_sentiment(document=document)\n",
        "    \n",
        "    results.append(result)"
      ],
      "execution_count": 0,
      "outputs": []
    },
    {
      "metadata": {
        "id": "pRC1WPRmrv6-",
        "colab_type": "code",
        "colab": {}
      },
      "cell_type": "code",
      "source": [
        "score_store = []\n",
        "for i in results:\n",
        "    score = i.document_sentiment.score\n",
        "    score_store.append(score)"
      ],
      "execution_count": 0,
      "outputs": []
    },
    {
      "metadata": {
        "id": "Ms8jA6TKrv7J",
        "colab_type": "code",
        "colab": {}
      },
      "cell_type": "code",
      "source": [
        "magnitude_store = []\n",
        "for i in results:\n",
        "    magnitude = i.document_sentiment.magnitude\n",
        "    magnitude_store.append(magnitude)"
      ],
      "execution_count": 0,
      "outputs": []
    },
    {
      "metadata": {
        "id": "eUWrWMI8rv7m",
        "colab_type": "code",
        "colab": {}
      },
      "cell_type": "code",
      "source": [
        "df_1['magnitude'] = magnitude_store"
      ],
      "execution_count": 0,
      "outputs": []
    },
    {
      "metadata": {
        "id": "zjOX7GAZrv71",
        "colab_type": "code",
        "colab": {}
      },
      "cell_type": "code",
      "source": [
        "df_1['score'] = score_store"
      ],
      "execution_count": 0,
      "outputs": []
    },
    {
      "metadata": {
        "id": "uY57Zde7rv8C",
        "colab_type": "code",
        "colab": {}
      },
      "cell_type": "code",
      "source": [
        "df_1.to_csv('Google_API_Results.csv')"
      ],
      "execution_count": 0,
      "outputs": []
    },
    {
      "metadata": {
        "id": "4Osw_QkErv8R",
        "colab_type": "code",
        "colab": {
          "base_uri": "https://localhost:8080/",
          "height": 375
        },
        "outputId": "b090cecc-faa2-4d55-81c5-76e02cccd88e"
      },
      "cell_type": "code",
      "source": [
        "df_1['magnitude'].plot(kind='hist',bins=50, figsize=(12,6))\n",
        "plt.show()"
      ],
      "execution_count": 16,
      "outputs": [
        {
          "output_type": "display_data",
          "data": {
            "image/png": "[encoded data removed]",
            "text/plain": [
              "<Figure size 864x432 with 1 Axes>"
            ]
          },
          "metadata": {
            "tags": []
          }
        }
      ]
    },
    {
      "metadata": {
        "id": "XRiddyCarv8q",
        "colab_type": "code",
        "colab": {
          "base_uri": "https://localhost:8080/",
          "height": 375
        },
        "outputId": "9aeecf5d-1d9c-4028-981d-feffdf356131"
      },
      "cell_type": "code",
      "source": [
        "df_1['score'].plot(kind='hist',bins=50, figsize=(12,6))\n",
        "plt.show()"
      ],
      "execution_count": 17,
      "outputs": [
        {
          "output_type": "display_data",
          "data": {
            "image/png": "[encoded data removed]",
            "text/plain": [
              "<Figure size 864x432 with 1 Axes>"
            ]
          },
          "metadata": {
            "tags": []
          }
        }
      ]
    },
    {
      "metadata": {
        "id": "ldn_WaYnrv86",
        "colab_type": "code",
        "colab": {}
      },
      "cell_type": "code",
      "source": [
        ""
      ],
      "execution_count": 0,
      "outputs": []
    },
    {
      "metadata": {
        "id": "J-vxdp4Drv9D",
        "colab_type": "code",
        "colab": {}
      },
      "cell_type": "code",
      "source": [
        "def Average(lst): \n",
        "    return reduce(lambda a, b: a + b, lst) / len(lst)"
      ],
      "execution_count": 0,
      "outputs": []
    },
    {
      "metadata": {
        "id": "jnqVwdoFrv9O",
        "colab_type": "code",
        "colab": {
          "base_uri": "https://localhost:8080/",
          "height": 35
        },
        "outputId": "891bd9e5-ff98-4c5b-b2a6-e7591566a371"
      },
      "cell_type": "code",
      "source": [
        "overall_socre = Average(score_store) \n",
        "print(\"Overall sentiment score of all the documents =\", round(overall_socre, 2))"
      ],
      "execution_count": 19,
      "outputs": [
        {
          "output_type": "stream",
          "text": [
            "Overall sentiment score of all the documents = 0.17\n"
          ],
          "name": "stdout"
        }
      ]
    },
    {
      "metadata": {
        "id": "2VnLzQntrv9d",
        "colab_type": "code",
        "colab": {
          "base_uri": "https://localhost:8080/",
          "height": 35
        },
        "outputId": "282e79fd-6dbf-4126-af15-fa3a1844ed01"
      },
      "cell_type": "code",
      "source": [
        "overall_magnitude = Average(magnitude_store) \n",
        "print(\"Overall Magnitude of all the documents is =\", round(overall_magnitude, 2))"
      ],
      "execution_count": 20,
      "outputs": [
        {
          "output_type": "stream",
          "text": [
            "Overall Magnitude of all the documents is = 1.1\n"
          ],
          "name": "stdout"
        }
      ]
    },
    {
      "metadata": {
        "id": "5UOfbb0Hrv9r",
        "colab_type": "code",
        "colab": {}
      },
      "cell_type": "code",
      "source": [
        "for s in\n",
        "if s > (1/3):\n",
        "        return 'positive'\n",
        "    elif s < (-1/3):\n",
        "        return 'negative'\n",
        "    else:\n",
        "        return 'neutral' "
      ],
      "execution_count": 0,
      "outputs": []
    }
  ]
}