{
  "nbformat": 4,
  "nbformat_minor": 0,
  "metadata": {
    "colab": {
      "name": "Sentiment Analysis with word embedding.ipynb",
      "version": "0.3.2",
      "provenance": []
    },
    "kernelspec": {
      "name": "python3",
      "display_name": "Python 3"
    },
    "accelerator": "GPU"
  },
  "cells": [
    {
      "metadata": {
        "id": "J8eZjAk75087",
        "colab_type": "code",
        "colab": {}
      },
      "cell_type": "code",
      "source": [
        "!pip install pydrive"
      ],
      "execution_count": 0,
      "outputs": []
    },
    {
      "metadata": {
        "id": "ToRtcS7c9qhb",
        "colab_type": "code",
        "colab": {}
      },
      "cell_type": "code",
      "source": [
        "import numpy as np\n",
        "import json\n",
        "import pandas as pd"
      ],
      "execution_count": 0,
      "outputs": []
    },
    {
      "metadata": {
        "id": "BpZw5xyu51ov",
        "colab_type": "code",
        "colab": {}
      },
      "cell_type": "code",
      "source": [
        "from pydrive.auth import GoogleAuth\n",
        "from pydrive.drive import GoogleDrive\n",
        "from google.colab import auth\n",
        "import tensorflow as tf\n",
        "from oauth2client.client import GoogleCredentials\n",
        "\n",
        "# 1. Authenticate and create the PyDrive client.\n",
        "auth.authenticate_user()\n",
        "gauth = GoogleAuth()\n",
        "gauth.credentials = GoogleCredentials.get_application_default()\n",
        "drive = GoogleDrive(gauth)"
      ],
      "execution_count": 0,
      "outputs": []
    },
    {
      "metadata": {
        "id": "_4LGNsA76Z0P",
        "colab_type": "code",
        "outputId": "38725b3c-ae8a-4792-fd45-b2209d94a695",
        "colab": {
          "base_uri": "https://localhost:8080/",
          "height": 101
        }
      },
      "cell_type": "code",
      "source": [
        "file_list = drive.ListFile({'q': \"'1LYvb3OMwbKUgjViakvkHycYXSMpOx02x' in parents and trashed=false\"}).GetList()\n",
        "for file1 in file_list:\n",
        "  print('title: %s, id: %s' % (file1['title'], file1['id']))"
      ],
      "execution_count": 0,
      "outputs": [
        {
          "output_type": "stream",
          "text": [
            "title: Team11_Boeing.json, id: 1oBUOiWS5AlapafCe80XsyW0yzRGDuROk\n",
            "title: glove.6B.300d.txt, id: 1DBXDDm1cHVwqjoQpSpmc3Xn2w8bJhI81\n",
            "title: glove.6B.200d.txt, id: 1SLw14eCap4C03Rh9_SpYbXGCXBTAtFw4\n",
            "title: glove.6B.100d.txt, id: 1B-VAxihJke7NXxhSLoHkqBfqARQ5GFq6\n",
            "title: glove.6B.50d.txt, id: 12OnMdsv07C1V4ZGvQ4prqr5joIGqOPEk\n"
          ],
          "name": "stdout"
        }
      ]
    },
    {
      "metadata": {
        "id": "oLMZznUp6lNM",
        "colab_type": "code",
        "colab": {}
      },
      "cell_type": "code",
      "source": [
        "glove_file = drive.CreateFile({'id': '1B-VAxihJke7NXxhSLoHkqBfqARQ5GFq6'})\n",
        "glove_file.GetContentFile('glove.6B.100d.txt')\n",
        "json_file = drive.CreateFile({'id': '1oBUOiWS5AlapafCe80XsyW0yzRGDuROk'})\n",
        "json_file.GetContentFile('Team11_Boeing.json')"
      ],
      "execution_count": 0,
      "outputs": []
    },
    {
      "metadata": {
        "id": "ytSIvYiA3JOY",
        "colab_type": "code",
        "outputId": "d3501ac4-b8b2-4a8f-924b-aa3a83f0fa12",
        "colab": {
          "base_uri": "https://localhost:8080/",
          "height": 34
        }
      },
      "cell_type": "code",
      "source": [
        "embeddings_index = {}\n",
        "f = open('glove.6B.100d.txt')\n",
        "for line in f:\n",
        "    values = line.split()\n",
        "    word = values[0]\n",
        "    coefs = np.asarray(values[1:], dtype='float32')\n",
        "    embeddings_index[word] = coefs\n",
        "f.close()\n",
        "\n",
        "print('Found %s word vectors.' % len(embeddings_index))"
      ],
      "execution_count": 0,
      "outputs": [
        {
          "output_type": "stream",
          "text": [
            "Found 400000 word vectors.\n"
          ],
          "name": "stdout"
        }
      ]
    },
    {
      "metadata": {
        "id": "hPXuhyLR3Nel",
        "colab_type": "code",
        "colab": {}
      },
      "cell_type": "code",
      "source": [
        "import pandas as pd\n",
        "import numpy as np\n",
        "import itertools\n",
        "from keras.preprocessing import text, sequence\n",
        "from keras import utils\n",
        "from sklearn.preprocessing import LabelBinarizer, LabelEncoder\n",
        "from keras.layers import Dense, Activation, Dropout\n",
        "from keras.models import Sequential\n",
        "%matplotlib inline\n",
        "import matplotlib.pyplot as plt\n",
        "from sklearn.metrics import confusion_matrix"
      ],
      "execution_count": 0,
      "outputs": []
    },
    {
      "metadata": {
        "id": "6imuWRN1pyfY",
        "colab_type": "code",
        "colab": {}
      },
      "cell_type": "code",
      "source": [
        "json_df=pd.read_json(\"Complete.json\")"
      ],
      "execution_count": 0,
      "outputs": []
    },
    {
      "metadata": {
        "id": "9P2bRRm2qATs",
        "colab_type": "code",
        "outputId": "281c1b09-f0b3-4eb6-d499-1c17edb53382",
        "colab": {
          "base_uri": "https://localhost:8080/",
          "height": 84
        }
      },
      "cell_type": "code",
      "source": [
        "json_df['sentiment'].value_counts()"
      ],
      "execution_count": 0,
      "outputs": [
        {
          "output_type": "execute_result",
          "data": {
            "text/plain": [
              "Neutral     750\n",
              "Positive    561\n",
              "Negative    143\n",
              "Name: sentiment, dtype: int64"
            ]
          },
          "metadata": {
            "tags": []
          },
          "execution_count": 88
        }
      ]
    },
    {
      "metadata": {
        "id": "Dhc0F3f5qU0d",
        "colab_type": "code",
        "outputId": "d594f36c-4fc4-41ed-80ea-71f1c1b84081",
        "colab": {
          "base_uri": "https://localhost:8080/",
          "height": 50
        }
      },
      "cell_type": "code",
      "source": [
        "train_size = int(len(json_df) * .8)\n",
        "print (\"Train size: %d\" % train_size)\n",
        "print (\"Test size: %d\" % (len(json_df) - train_size))"
      ],
      "execution_count": 0,
      "outputs": [
        {
          "output_type": "stream",
          "text": [
            "Train size: 1163\n",
            "Test size: 291\n"
          ],
          "name": "stdout"
        }
      ]
    },
    {
      "metadata": {
        "id": "TnYJXcPNqsCO",
        "colab_type": "code",
        "colab": {}
      },
      "cell_type": "code",
      "source": [
        "train_posts = json_df['text'][:train_size]\n",
        "train_tags = json_df['sentiment'][:train_size]\n",
        "\n",
        "test_posts = json_df['text'][train_size:]\n",
        "test_tags = json_df['sentiment'][train_size:]"
      ],
      "execution_count": 0,
      "outputs": []
    },
    {
      "metadata": {
        "id": "zH4zYJMGrcjj",
        "colab_type": "code",
        "colab": {}
      },
      "cell_type": "code",
      "source": [
        "max_words = 245\n",
        "tokenize = text.Tokenizer(num_words=max_words, char_level=False)"
      ],
      "execution_count": 0,
      "outputs": []
    },
    {
      "metadata": {
        "id": "cUWWhxrGrlun",
        "colab_type": "code",
        "colab": {}
      },
      "cell_type": "code",
      "source": [
        "tokenize.fit_on_texts(train_posts) # only fit on train\n",
        "x_train = tokenize.texts_to_matrix(train_posts)\n",
        "x_test = tokenize.texts_to_matrix(test_posts)"
      ],
      "execution_count": 0,
      "outputs": []
    },
    {
      "metadata": {
        "id": "M4iMul_xrlrx",
        "colab_type": "code",
        "colab": {}
      },
      "cell_type": "code",
      "source": [
        "# Use sklearn utility to convert label strings to numbered index\n",
        "encoder = LabelEncoder()\n",
        "encoder.fit(train_tags)\n",
        "y_train = encoder.transform(train_tags)\n",
        "y_test = encoder.transform(test_tags)"
      ],
      "execution_count": 0,
      "outputs": []
    },
    {
      "metadata": {
        "id": "TwdEkfuorlol",
        "colab_type": "code",
        "colab": {}
      },
      "cell_type": "code",
      "source": [
        "num_classes = np.max(y_train) + 1\n",
        "y_train = utils.to_categorical(y_train, num_classes)\n",
        "y_test = utils.to_categorical(y_test, num_classes)"
      ],
      "execution_count": 0,
      "outputs": []
    },
    {
      "metadata": {
        "id": "8ebavvJhrli9",
        "colab_type": "code",
        "outputId": "f5c597d1-ae7e-471d-9243-f1dd705979d3",
        "colab": {
          "base_uri": "https://localhost:8080/",
          "height": 84
        }
      },
      "cell_type": "code",
      "source": [
        "# Inspect the dimenstions of our training and test data (this is helpful to debug)\n",
        "print('x_train shape:', x_train.shape)\n",
        "print('x_test shape:', x_test.shape)\n",
        "print('y_train shape:', y_train.shape)\n",
        "print('y_test shape:', y_test.shape)"
      ],
      "execution_count": 0,
      "outputs": [
        {
          "output_type": "stream",
          "text": [
            "x_train shape: (1163, 100)\n",
            "x_test shape: (291, 100)\n",
            "y_train shape: (1163, 3)\n",
            "y_test shape: (291, 3)\n"
          ],
          "name": "stdout"
        }
      ]
    },
    {
      "metadata": {
        "id": "q5uSVufBrlga",
        "colab_type": "code",
        "colab": {}
      },
      "cell_type": "code",
      "source": [
        "# This model trains very quickly and 2 epochs are already more than enough\n",
        "# Training for more epochs will likely lead to overfitting on this dataset\n",
        "# You can try tweaking these hyperparamaters when using this model with your own data\n",
        "batch_size = 26\n",
        "epoch = 75"
      ],
      "execution_count": 0,
      "outputs": []
    },
    {
      "metadata": {
        "id": "rYT3WZz3yUTw",
        "colab_type": "code",
        "colab": {}
      },
      "cell_type": "code",
      "source": [
        "from keras.layers import Embedding\n",
        "\n",
        "# The Embedding layer takes at least two arguments:\n",
        "# the number of possible tokens, here 1000 (1 + maximum word index),\n",
        "# and the dimensionality of the embeddings, here 64.\n",
        "embedding_layer = Embedding(1000, 64)"
      ],
      "execution_count": 0,
      "outputs": []
    },
    {
      "metadata": {
        "id": "Bdy8D_uerlaw",
        "colab_type": "code",
        "outputId": "8dceb512-4b1e-4703-f477-fc215426039b",
        "colab": {
          "base_uri": "https://localhost:8080/",
          "height": 2772
        }
      },
      "cell_type": "code",
      "source": [
        "from keras.models import Sequential\n",
        "from keras.layers import Flatten, Dense\n",
        "\n",
        "model = Sequential()\n",
        "# We specify the maximum input length to our Embedding layer\n",
        "# so we can later flatten the embedded inputs\n",
        "model.add(Embedding(10000, 8, input_length=max_words))\n",
        "# After the Embedding layer, \n",
        "# our activations have shape `(samples, maxlen, 8)`.\n",
        "\n",
        "# We flatten the 3D tensor of embeddings \n",
        "# into a 2D tensor of shape `(samples, maxlen * 8)`\n",
        "model.add(Flatten())\n",
        "\n",
        "# We add the classifier on top\n",
        "model.add(Dense(num_classes, activation='tanh'))\n",
        "model.compile(optimizer='adam', loss='binary_crossentropy', metrics=['acc'])\n",
        "model.summary()\n",
        "\n",
        "history = model.fit(x_train, y_train,\n",
        "                    epochs=epoch,\n",
        "                    batch_size=64,\n",
        "                    validation_split=0.2)\n"
      ],
      "execution_count": 0,
      "outputs": [
        {
          "output_type": "stream",
          "text": [
            "_________________________________________________________________\n",
            "Layer (type)                 Output Shape              Param #   \n",
            "=================================================================\n",
            "embedding_22 (Embedding)     (None, 245, 8)            80000     \n",
            "_________________________________________________________________\n",
            "flatten_17 (Flatten)         (None, 1960)              0         \n",
            "_________________________________________________________________\n",
            "dense_17 (Dense)             (None, 3)                 5883      \n",
            "=================================================================\n",
            "Total params: 85,883\n",
            "Trainable params: 85,883\n",
            "Non-trainable params: 0\n",
            "_________________________________________________________________\n",
            "Train on 930 samples, validate on 233 samples\n",
            "Epoch 1/75\n",
            "930/930 [==============================] - 1s 864us/step - loss: 3.1037 - acc: 0.6667 - val_loss: 3.2528 - val_acc: 0.6667\n",
            "Epoch 2/75\n",
            "930/930 [==============================] - 0s 80us/step - loss: 2.9845 - acc: 0.6667 - val_loss: 3.2304 - val_acc: 0.6667\n",
            "Epoch 3/75\n",
            "930/930 [==============================] - 0s 81us/step - loss: 2.9815 - acc: 0.6667 - val_loss: 3.2369 - val_acc: 0.6667\n",
            "Epoch 4/75\n",
            "930/930 [==============================] - 0s 83us/step - loss: 2.9775 - acc: 0.6667 - val_loss: 3.2272 - val_acc: 0.6667\n",
            "Epoch 5/75\n",
            "930/930 [==============================] - 0s 78us/step - loss: 2.9748 - acc: 0.6667 - val_loss: 3.2314 - val_acc: 0.6667\n",
            "Epoch 6/75\n",
            "930/930 [==============================] - 0s 76us/step - loss: 2.9711 - acc: 0.6667 - val_loss: 3.2246 - val_acc: 0.6667\n",
            "Epoch 7/75\n",
            "930/930 [==============================] - 0s 78us/step - loss: 2.9668 - acc: 0.6667 - val_loss: 3.2325 - val_acc: 0.6667\n",
            "Epoch 8/75\n",
            "930/930 [==============================] - 0s 81us/step - loss: 2.9631 - acc: 0.6667 - val_loss: 3.2259 - val_acc: 0.6667\n",
            "Epoch 9/75\n",
            "930/930 [==============================] - 0s 82us/step - loss: 3.0109 - acc: 0.6663 - val_loss: 3.3237 - val_acc: 0.6638\n",
            "Epoch 10/75\n",
            "930/930 [==============================] - 0s 89us/step - loss: 3.0079 - acc: 0.6659 - val_loss: 3.2550 - val_acc: 0.6667\n",
            "Epoch 11/75\n",
            "930/930 [==============================] - 0s 77us/step - loss: 2.9636 - acc: 0.6667 - val_loss: 3.2201 - val_acc: 0.6667\n",
            "Epoch 12/75\n",
            "930/930 [==============================] - 0s 76us/step - loss: 2.9496 - acc: 0.6670 - val_loss: 3.2147 - val_acc: 0.6681\n",
            "Epoch 13/75\n",
            "930/930 [==============================] - 0s 81us/step - loss: 2.9436 - acc: 0.6746 - val_loss: 3.2126 - val_acc: 0.6567\n",
            "Epoch 14/75\n",
            "930/930 [==============================] - 0s 84us/step - loss: 2.9384 - acc: 0.6104 - val_loss: 3.2109 - val_acc: 0.5622\n",
            "Epoch 15/75\n",
            "930/930 [==============================] - 0s 86us/step - loss: 2.9333 - acc: 0.5599 - val_loss: 3.2092 - val_acc: 0.5551\n",
            "Epoch 16/75\n",
            "930/930 [==============================] - 0s 85us/step - loss: 2.9280 - acc: 0.5656 - val_loss: 3.2077 - val_acc: 0.5622\n",
            "Epoch 17/75\n",
            "930/930 [==============================] - 0s 85us/step - loss: 2.9228 - acc: 0.5677 - val_loss: 3.2069 - val_acc: 0.5608\n",
            "Epoch 18/75\n",
            "930/930 [==============================] - 0s 83us/step - loss: 2.9182 - acc: 0.5710 - val_loss: 3.2036 - val_acc: 0.5594\n",
            "Epoch 19/75\n",
            "930/930 [==============================] - 0s 88us/step - loss: 2.9134 - acc: 0.5746 - val_loss: 3.2013 - val_acc: 0.5622\n",
            "Epoch 20/75\n",
            "930/930 [==============================] - 0s 83us/step - loss: 2.9098 - acc: 0.5796 - val_loss: 3.1999 - val_acc: 0.5651\n",
            "Epoch 21/75\n",
            "930/930 [==============================] - 0s 82us/step - loss: 2.9053 - acc: 0.5839 - val_loss: 3.1975 - val_acc: 0.5622\n",
            "Epoch 22/75\n",
            "930/930 [==============================] - 0s 86us/step - loss: 2.9020 - acc: 0.5875 - val_loss: 3.1984 - val_acc: 0.5751\n",
            "Epoch 23/75\n",
            "930/930 [==============================] - 0s 101us/step - loss: 2.8983 - acc: 0.5950 - val_loss: 3.1960 - val_acc: 0.5708\n",
            "Epoch 24/75\n",
            "930/930 [==============================] - 0s 85us/step - loss: 2.8949 - acc: 0.5892 - val_loss: 3.1958 - val_acc: 0.5708\n",
            "Epoch 25/75\n",
            "930/930 [==============================] - 0s 89us/step - loss: 2.8908 - acc: 0.6018 - val_loss: 3.1982 - val_acc: 0.5765\n",
            "Epoch 26/75\n",
            "930/930 [==============================] - 0s 87us/step - loss: 2.8871 - acc: 0.6068 - val_loss: 3.1959 - val_acc: 0.5708\n",
            "Epoch 27/75\n",
            "930/930 [==============================] - 0s 89us/step - loss: 2.8838 - acc: 0.6043 - val_loss: 3.1968 - val_acc: 0.5765\n",
            "Epoch 28/75\n",
            "930/930 [==============================] - 0s 86us/step - loss: 2.8808 - acc: 0.6090 - val_loss: 3.2008 - val_acc: 0.5780\n",
            "Epoch 29/75\n",
            "930/930 [==============================] - 0s 87us/step - loss: 2.8773 - acc: 0.6061 - val_loss: 3.2001 - val_acc: 0.5737\n",
            "Epoch 30/75\n",
            "930/930 [==============================] - 0s 85us/step - loss: 2.8743 - acc: 0.6122 - val_loss: 3.2218 - val_acc: 0.5837\n",
            "Epoch 31/75\n",
            "930/930 [==============================] - 0s 86us/step - loss: 2.8713 - acc: 0.6158 - val_loss: 3.2192 - val_acc: 0.5808\n",
            "Epoch 32/75\n",
            "930/930 [==============================] - 0s 85us/step - loss: 2.8682 - acc: 0.6125 - val_loss: 3.2207 - val_acc: 0.5780\n",
            "Epoch 33/75\n",
            "930/930 [==============================] - 0s 84us/step - loss: 2.8652 - acc: 0.6183 - val_loss: 3.2335 - val_acc: 0.5851\n",
            "Epoch 34/75\n",
            "930/930 [==============================] - 0s 89us/step - loss: 2.8622 - acc: 0.6158 - val_loss: 3.2392 - val_acc: 0.5780\n",
            "Epoch 35/75\n",
            "930/930 [==============================] - 0s 98us/step - loss: 2.8595 - acc: 0.6183 - val_loss: 3.2809 - val_acc: 0.5851\n",
            "Epoch 36/75\n",
            "930/930 [==============================] - 0s 90us/step - loss: 2.8562 - acc: 0.6211 - val_loss: 3.2818 - val_acc: 0.5851\n",
            "Epoch 37/75\n",
            "930/930 [==============================] - 0s 82us/step - loss: 2.8539 - acc: 0.6233 - val_loss: 3.2838 - val_acc: 0.5823\n",
            "Epoch 38/75\n",
            "930/930 [==============================] - 0s 88us/step - loss: 2.8511 - acc: 0.6179 - val_loss: 3.2872 - val_acc: 0.5837\n",
            "Epoch 39/75\n",
            "930/930 [==============================] - 0s 85us/step - loss: 2.8481 - acc: 0.6211 - val_loss: 3.3089 - val_acc: 0.5794\n",
            "Epoch 40/75\n",
            "930/930 [==============================] - 0s 87us/step - loss: 2.8456 - acc: 0.6240 - val_loss: 3.3366 - val_acc: 0.5823\n",
            "Epoch 41/75\n",
            "930/930 [==============================] - 0s 88us/step - loss: 2.8430 - acc: 0.6287 - val_loss: 3.3364 - val_acc: 0.5837\n",
            "Epoch 42/75\n",
            "930/930 [==============================] - 0s 87us/step - loss: 2.8410 - acc: 0.6280 - val_loss: 3.3340 - val_acc: 0.5851\n",
            "Epoch 43/75\n",
            "930/930 [==============================] - 0s 85us/step - loss: 2.8387 - acc: 0.6240 - val_loss: 3.3616 - val_acc: 0.5823\n",
            "Epoch 44/75\n",
            "930/930 [==============================] - 0s 84us/step - loss: 2.8365 - acc: 0.6323 - val_loss: 3.3834 - val_acc: 0.5823\n",
            "Epoch 45/75\n",
            "930/930 [==============================] - 0s 84us/step - loss: 2.8339 - acc: 0.6297 - val_loss: 3.3642 - val_acc: 0.5823\n",
            "Epoch 46/75\n",
            "930/930 [==============================] - 0s 87us/step - loss: 2.8328 - acc: 0.6301 - val_loss: 3.3666 - val_acc: 0.5794\n",
            "Epoch 47/75\n",
            "930/930 [==============================] - 0s 86us/step - loss: 2.8306 - acc: 0.6287 - val_loss: 3.3939 - val_acc: 0.5808\n",
            "Epoch 48/75\n",
            "930/930 [==============================] - 0s 90us/step - loss: 2.8279 - acc: 0.6323 - val_loss: 3.4153 - val_acc: 0.5808\n",
            "Epoch 49/75\n",
            "930/930 [==============================] - 0s 87us/step - loss: 2.8273 - acc: 0.6369 - val_loss: 3.4062 - val_acc: 0.5780\n",
            "Epoch 50/75\n",
            "930/930 [==============================] - 0s 91us/step - loss: 2.8274 - acc: 0.6194 - val_loss: 3.4090 - val_acc: 0.5780\n",
            "Epoch 51/75\n",
            "930/930 [==============================] - 0s 92us/step - loss: 2.8233 - acc: 0.6369 - val_loss: 3.5148 - val_acc: 0.5794\n",
            "Epoch 52/75\n",
            "930/930 [==============================] - 0s 90us/step - loss: 2.8224 - acc: 0.6355 - val_loss: 3.4438 - val_acc: 0.5765\n",
            "Epoch 53/75\n",
            "930/930 [==============================] - 0s 89us/step - loss: 2.8202 - acc: 0.6409 - val_loss: 3.5033 - val_acc: 0.5794\n",
            "Epoch 54/75\n",
            "930/930 [==============================] - 0s 91us/step - loss: 2.8179 - acc: 0.6384 - val_loss: 3.4418 - val_acc: 0.5780\n",
            "Epoch 55/75\n",
            "930/930 [==============================] - 0s 88us/step - loss: 2.8165 - acc: 0.6398 - val_loss: 3.5064 - val_acc: 0.5780\n",
            "Epoch 56/75\n",
            "930/930 [==============================] - 0s 96us/step - loss: 2.8151 - acc: 0.6391 - val_loss: 3.5060 - val_acc: 0.5722\n",
            "Epoch 57/75\n",
            "930/930 [==============================] - 0s 90us/step - loss: 2.8099 - acc: 0.6376 - val_loss: 3.5451 - val_acc: 0.6438\n",
            "Epoch 58/75\n",
            "930/930 [==============================] - 0s 91us/step - loss: 1.5852 - acc: 0.7129 - val_loss: 0.9598 - val_acc: 0.6867\n",
            "Epoch 59/75\n",
            "930/930 [==============================] - 0s 95us/step - loss: 0.4583 - acc: 0.7319 - val_loss: 0.9207 - val_acc: 0.7039\n",
            "Epoch 60/75\n",
            "930/930 [==============================] - 0s 92us/step - loss: 0.4721 - acc: 0.7649 - val_loss: 0.7859 - val_acc: 0.7096\n",
            "Epoch 61/75\n",
            "930/930 [==============================] - 0s 88us/step - loss: 0.4094 - acc: 0.7814 - val_loss: 0.9205 - val_acc: 0.7139\n",
            "Epoch 62/75\n",
            "930/930 [==============================] - 0s 87us/step - loss: 0.3951 - acc: 0.7889 - val_loss: 0.9347 - val_acc: 0.7167\n",
            "Epoch 63/75\n",
            "930/930 [==============================] - 0s 91us/step - loss: 0.3871 - acc: 0.7935 - val_loss: 0.9298 - val_acc: 0.7124\n",
            "Epoch 64/75\n",
            "930/930 [==============================] - 0s 84us/step - loss: 0.3857 - acc: 0.8007 - val_loss: 0.9460 - val_acc: 0.7153\n",
            "Epoch 65/75\n",
            "930/930 [==============================] - 0s 87us/step - loss: 0.3834 - acc: 0.7964 - val_loss: 0.8976 - val_acc: 0.7239\n",
            "Epoch 66/75\n",
            "930/930 [==============================] - 0s 84us/step - loss: 0.3776 - acc: 0.8036 - val_loss: 0.9089 - val_acc: 0.7182\n",
            "Epoch 67/75\n",
            "930/930 [==============================] - 0s 88us/step - loss: 0.3695 - acc: 0.8057 - val_loss: 0.9468 - val_acc: 0.7167\n",
            "Epoch 68/75\n",
            "930/930 [==============================] - 0s 83us/step - loss: 0.3636 - acc: 0.8057 - val_loss: 0.9441 - val_acc: 0.7182\n",
            "Epoch 69/75\n",
            "930/930 [==============================] - 0s 90us/step - loss: 0.3581 - acc: 0.8108 - val_loss: 0.9955 - val_acc: 0.7067\n",
            "Epoch 70/75\n",
            "930/930 [==============================] - 0s 89us/step - loss: 0.3541 - acc: 0.8086 - val_loss: 0.9839 - val_acc: 0.7124\n",
            "Epoch 71/75\n",
            "930/930 [==============================] - 0s 86us/step - loss: 0.3427 - acc: 0.8004 - val_loss: 1.0289 - val_acc: 0.7067\n",
            "Epoch 72/75\n",
            "930/930 [==============================] - 0s 100us/step - loss: 0.3334 - acc: 0.8050 - val_loss: 1.0067 - val_acc: 0.7053\n",
            "Epoch 73/75\n",
            "930/930 [==============================] - 0s 88us/step - loss: 0.3426 - acc: 0.7900 - val_loss: 1.0490 - val_acc: 0.6996\n",
            "Epoch 74/75\n",
            "930/930 [==============================] - 0s 88us/step - loss: 0.3295 - acc: 0.8100 - val_loss: 1.0305 - val_acc: 0.6981\n",
            "Epoch 75/75\n",
            "930/930 [==============================] - 0s 90us/step - loss: 0.3315 - acc: 0.8090 - val_loss: 1.0705 - val_acc: 0.7067\n"
          ],
          "name": "stdout"
        }
      ]
    },
    {
      "metadata": {
        "id": "UzAXqJfzrlMw",
        "colab_type": "code",
        "outputId": "ed495ca0-6151-4ce4-aada-49ed341449b3",
        "colab": {
          "base_uri": "https://localhost:8080/",
          "height": 67
        }
      },
      "cell_type": "code",
      "source": [
        "score = model.evaluate(x_test, y_test,\n",
        "                       batch_size=batch_size, verbose=1)\n",
        "print('Test score:', score[0])\n",
        "print('Test accuracy:', score[1])"
      ],
      "execution_count": 0,
      "outputs": [
        {
          "output_type": "stream",
          "text": [
            "291/291 [==============================] - 0s 99us/step\n",
            "Test score: 1.0067590102297335\n",
            "Test accuracy: 0.7560137629099318\n"
          ],
          "name": "stdout"
        }
      ]
    },
    {
      "metadata": {
        "id": "Xq8hFsQarlJQ",
        "colab_type": "code",
        "outputId": "d1cb5067-4864-431d-8d19-7b71b2013104",
        "colab": {
          "base_uri": "https://localhost:8080/",
          "height": 689
        }
      },
      "cell_type": "code",
      "source": [
        "text_labels = encoder.classes_ \n",
        "\n",
        "for i in range(10):\n",
        "    prediction = model.predict(np.array([x_test[i]]))\n",
        "    predicted_label = text_labels[np.argmax(prediction)]\n",
        "    print(test_posts.iloc[i][:50], \"...\")\n",
        "    print('Actual label:' + test_tags.iloc[i])\n",
        "    print(\"Predicted label: \" + predicted_label + \"\\n\")"
      ],
      "execution_count": 0,
      "outputs": [
        {
          "output_type": "stream",
          "text": [
            "Thanks, Matt. Rob, next question please. ...\n",
            "Actual label:Neutral\n",
            "Predicted label: Neutral\n",
            "\n",
            "The next question comes from the line of Kate McSh ...\n",
            "Actual label:Positive\n",
            "Predicted label: Neutral\n",
            "\n",
            "Hi. Thank you for taking my question. Just to dril ...\n",
            "Actual label:Neutral\n",
            "Predicted label: Neutral\n",
            "\n",
            "I think two questions. On your first question arou ...\n",
            "Actual label:Positive\n",
            "Predicted label: Positive\n",
            "\n",
            "Can you walk us through what the overall apparel s ...\n",
            "Actual label:Positive\n",
            "Predicted label: Neutral\n",
            "\n",
            "Sure. I'm excited about -- later this week, I'm he ...\n",
            "Actual label:Positive\n",
            "Predicted label: Positive\n",
            "\n",
            "And we have some new fixturing in some stores that ...\n",
            "Actual label:Neutral\n",
            "Predicted label: Neutral\n",
            "\n",
            "We've got a big apparel business. It has been grow ...\n",
            "Actual label:Neutral\n",
            "Predicted label: Positive\n",
            "\n",
            "Online Grocery customers are a great example as th ...\n",
            "Actual label:Positive\n",
            "Predicted label: Positive\n",
            "\n",
            "Thanks, Kate. Next question please. ...\n",
            "Actual label:Neutral\n",
            "Predicted label: Neutral\n",
            "\n"
          ],
          "name": "stdout"
        }
      ]
    },
    {
      "metadata": {
        "id": "5rleYhgtrldj",
        "colab_type": "code",
        "colab": {}
      },
      "cell_type": "code",
      "source": [
        "y_softmax = model.predict(x_train)\n",
        "\n",
        "y_test_1d = []\n",
        "y_pred_1d = []\n",
        "\n",
        "for i in range(len(y_train)):\n",
        "    probs = y_train[i]\n",
        "    index_arr = np.nonzero(probs)\n",
        "    one_hot_index = index_arr[0].item(0)\n",
        "    y_test_1d.append(one_hot_index)\n",
        "\n",
        "for i in range(0, len(y_softmax)):\n",
        "    probs = y_softmax[i]\n",
        "    predicted_index = np.argmax(probs)\n",
        "    y_pred_1d.append(predicted_index)"
      ],
      "execution_count": 0,
      "outputs": []
    },
    {
      "metadata": {
        "id": "qJd5s4ZyUg9M",
        "colab_type": "code",
        "colab": {}
      },
      "cell_type": "code",
      "source": [
        "def plot_confusion_matrix(cm, classes,\n",
        "                          title='Confusion matrix',\n",
        "                          cmap=plt.cm.Blues):\n",
        "    \"\"\"\n",
        "    This function prints and plots the confusion matrix.\n",
        "    Normalization can be applied by setting `normalize=True`.\n",
        "    \"\"\"\n",
        "\n",
        "    cm = cm.astype('float') / cm.sum(axis=1)[:, np.newaxis]\n",
        "    #print(cm)\n",
        "    plt.imshow(cm, interpolation='nearest', cmap=cmap)\n",
        "    plt.title(title, fontsize=30)\n",
        "    plt.colorbar()\n",
        "    tick_marks = np.arange(len(classes))\n",
        "    plt.xticks(tick_marks, classes, rotation=45, fontsize=22)\n",
        "    plt.yticks(tick_marks, classes, fontsize=22)\n",
        "\n",
        "    fmt = '.2f'\n",
        "    thresh = cm.max() / 2.\n",
        "    for i, j in itertools.product(range(cm.shape[0]), range(cm.shape[1])):\n",
        "        plt.text(j, i, format(cm[i, j], fmt),\n",
        "                 horizontalalignment=\"center\",\n",
        "                 color=\"white\" if cm[i, j] > thresh else \"black\")\n",
        "\n",
        "    plt.ylabel('True label', fontsize=25)\n",
        "    plt.xlabel('Predicted label', fontsize=25)"
      ],
      "execution_count": 0,
      "outputs": []
    },
    {
      "metadata": {
        "id": "oKoZaMHw8ycy",
        "colab_type": "code",
        "outputId": "0701cce3-e41b-4294-8b9c-fc449206c241",
        "colab": {
          "base_uri": "https://localhost:8080/",
          "height": 637
        }
      },
      "cell_type": "code",
      "source": [
        "cnf_matrix = confusion_matrix(y_test_1d, y_pred_1d)\n",
        "#cnf_matrix\n",
        "plt.figure(figsize=(10,10))\n",
        "plot_confusion_matrix(cnf_matrix, classes=text_labels, title=\"Confusion matrix\")\n",
        "plt.show()"
      ],
      "execution_count": 0,
      "outputs": [
        {
          "output_type": "display_data",
          "data": {
            "image/png": "[encoded data removed]",
            "text/plain": [
              "<Figure size 720x720 with 2 Axes>"
            ]
          },
          "metadata": {
            "tags": []
          }
        }
      ]
    },
    {
      "metadata": {
        "id": "AOitR_lChyWb",
        "colab_type": "code",
        "colab": {}
      },
      "cell_type": "code",
      "source": [
        "del x_test,x_train,y_train,y_test"
      ],
      "execution_count": 0,
      "outputs": []
    },
    {
      "metadata": {
        "id": "fuB6t6GQ9oRH",
        "colab_type": "code",
        "colab": {}
      },
      "cell_type": "code",
      "source": [
        "from keras import preprocessing\n",
        "\n",
        "# Number of words to consider as features\n",
        "max_features = 10000\n",
        "maxLength = 20\n",
        "\n",
        "x_train,x_test, y_train, y_test = train_test_split(text_df,sentiment_df,test_size=0.2)\n",
        "\n",
        "#This turns our lists of integers\n",
        "#into a 2D integer tensor of shape `(samples, maxlen)`\n",
        "# x_train = preprocessing.sequence.pad_sequences(x_train, maxlen=maxLength)\n",
        "# x_test = preprocessing.sequence.pad_sequences(x_test, maxlen=maxLength)\n",
        "\n",
        "x_train"
      ],
      "execution_count": 0,
      "outputs": []
    },
    {
      "metadata": {
        "id": "k0QcTTpEfRpV",
        "colab_type": "code",
        "colab": {}
      },
      "cell_type": "code",
      "source": [
        "from keras.preprocessing.text import Tokenizer\n",
        "from keras.preprocessing.sequence import pad_sequences\n",
        "\n",
        "tokenizer_obj = Tokenizer()\n",
        "total_reviews = x_train.append(x_test)\n",
        "x_test[1:,:]\n",
        "#tokenizer_obj.fit_on_texts(total_reviews[])"
      ],
      "execution_count": 0,
      "outputs": []
    },
    {
      "metadata": {
        "id": "OyAQ8q7tUVHw",
        "colab_type": "code",
        "colab": {}
      },
      "cell_type": "code",
      "source": [
        "ids = np.zeros((maxLength), dtype='int32')"
      ],
      "execution_count": 0,
      "outputs": []
    },
    {
      "metadata": {
        "id": "w9bRXFw8Uaqz",
        "colab_type": "code",
        "colab": {}
      },
      "cell_type": "code",
      "source": [
        "def cleanSentences(string):\n",
        "    string = string.lower().replace(\"<br />\", \" \")\n",
        "    return re.sub(strip_special_chars, \"\", string.lower())"
      ],
      "execution_count": 0,
      "outputs": []
    },
    {
      "metadata": {
        "id": "1EgGEBZoUuYZ",
        "colab_type": "code",
        "colab": {}
      },
      "cell_type": "code",
      "source": [
        "\n",
        "  cleanedLine = cleanSentences(line)\n",
        "  split = cleanedLine.split()\n",
        "  for word in split:\n",
        "    try:\n",
        "      ids[indexCounter] = wordsList.index(word)\n",
        "    except ValueError:\n",
        "           ids[indexCounter] = 399999 #Vector for unkown words\n",
        "           indexCounter = indexCounter + 1\n",
        "           if indexCounter >= maxSeqLength:\n",
        "               break\n",
        "np.save('ids_Matrix', ids)"
      ],
      "execution_count": 0,
      "outputs": []
    },
    {
      "metadata": {
        "id": "lJa4Z7IdnApt",
        "colab_type": "code",
        "colab": {}
      },
      "cell_type": "code",
      "source": [
        "from keras.layers import Embedding\n",
        "\n",
        "# The Embedding layer takes at least two arguments:\n",
        "# the number of possible tokens, here 1000 (1 + maximum word index),\n",
        "# and the dimensionality of the embeddings, here 64.\n",
        "embedding_layer = Embedding(1000, 64)"
      ],
      "execution_count": 0,
      "outputs": []
    },
    {
      "metadata": {
        "id": "VyexOe5HSJ3H",
        "colab_type": "code",
        "colab": {}
      },
      "cell_type": "code",
      "source": [
        "from keras.models import Sequential\n",
        "from keras.layers import Flatten, Dense\n",
        "\n",
        "model = Sequential()\n",
        "# We specify the maximum input length to our Embedding layer\n",
        "# so we can later flatten the embedded inputs\n",
        "model.add(Embedding(10000, 8, input_length=maxLength))\n",
        "# After the Embedding layer, \n",
        "# our activations have shape `(samples, maxlen, 8)`.\n",
        "\n",
        "# We flatten the 3D tensor of embeddings \n",
        "# into a 2D tensor of shape `(samples, maxlen * 8)`\n",
        "model.add(Flatten())\n",
        "\n",
        "# We add the classifier on top\n",
        "model.add(Dense(1, activation='sigmoid'))\n",
        "model.compile(optimizer='rmsprop', loss='binary_crossentropy', metrics=['acc'])\n",
        "model.summary()\n",
        "\n",
        "history = model.fit(x_train, y_train,\n",
        "                    epochs=10,\n",
        "                    batch_size=32,\n",
        "                    validation_split=0.2)\n"
      ],
      "execution_count": 0,
      "outputs": []
    },
    {
      "metadata": {
        "id": "s_D7dMfVhU7p",
        "colab_type": "code",
        "colab": {}
      },
      "cell_type": "code",
      "source": [
        ""
      ],
      "execution_count": 0,
      "outputs": []
    }
  ]
}